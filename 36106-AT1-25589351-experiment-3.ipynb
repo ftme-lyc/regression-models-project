{
  "cells": [
    {
      "cell_type": "markdown",
      "metadata": {
        "id": "uQ6wc2HE0pke"
      },
      "source": [
        "# **Experiment Notebook**\n",
        "\n"
      ]
    },
    {
      "cell_type": "markdown",
      "metadata": {
        "id": "KFVpE17Ahezu"
      },
      "source": [
        "---\n",
        "## 0. Setup Environment"
      ]
    },
    {
      "cell_type": "markdown",
      "source": [
        "### 0.a Install Mandatory Packages\n",
        "\n",
        "> Do not modify this code before running it"
      ],
      "metadata": {
        "id": "kWUmi7fakv5O"
      }
    },
    {
      "cell_type": "code",
      "source": [
        "# Do not modify this code\n",
        "\n",
        "import os\n",
        "import sys\n",
        "from pathlib import Path\n",
        "\n",
        "COURSE = \"36106\"\n",
        "ASSIGNMENT = \"AT1\"\n",
        "DATA = \"data\"\n",
        "\n",
        "asgmt_path = f\"{COURSE}/assignment/{ASSIGNMENT}\"\n",
        "root_path = \"./\"\n",
        "\n",
        "print(\"###### Install required Python packages ######\")\n",
        "! pip install -r https://raw.githubusercontent.com/aso-uts/labs_datasets/main/36106-mlaa/requirements.txt\n",
        "\n",
        "if os.getenv(\"COLAB_RELEASE_TAG\"):\n",
        "\n",
        "    from google.colab import drive\n",
        "    from pathlib import Path\n",
        "\n",
        "    print(\"\\n###### Connect to personal Google Drive ######\")\n",
        "    gdrive_path = \"/content/gdrive\"\n",
        "    drive.mount(gdrive_path)\n",
        "    root_path = f\"{gdrive_path}/MyDrive/\"\n",
        "\n",
        "print(\"\\n###### Setting up folders ######\")\n",
        "folder_path = Path(f\"{root_path}/{asgmt_path}/\") / DATA\n",
        "folder_path.mkdir(parents=True, exist_ok=True)\n",
        "print(f\"\\nYou can now save your data files in: {folder_path}\")\n",
        "\n",
        "if os.getenv(\"COLAB_RELEASE_TAG\"):\n",
        "    %cd {folder_path}\n"
      ],
      "metadata": {
        "colab": {
          "base_uri": "https://localhost:8080/"
        },
        "id": "S8jFaNXqvV5W",
        "outputId": "87481fbf-6a34-4a82-c1db-56751e37566d"
      },
      "execution_count": 1,
      "outputs": [
        {
          "output_type": "stream",
          "name": "stdout",
          "text": [
            "###### Install required Python packages ######\n",
            "Requirement already satisfied: pandas==2.2.2 in /usr/local/lib/python3.11/dist-packages (from -r https://raw.githubusercontent.com/aso-uts/labs_datasets/main/36106-mlaa/requirements.txt (line 1)) (2.2.2)\n",
            "Requirement already satisfied: scikit-learn==1.6.1 in /usr/local/lib/python3.11/dist-packages (from -r https://raw.githubusercontent.com/aso-uts/labs_datasets/main/36106-mlaa/requirements.txt (line 2)) (1.6.1)\n",
            "Requirement already satisfied: altair==5.5.0 in /usr/local/lib/python3.11/dist-packages (from -r https://raw.githubusercontent.com/aso-uts/labs_datasets/main/36106-mlaa/requirements.txt (line 3)) (5.5.0)\n",
            "Requirement already satisfied: numpy>=1.23.2 in /usr/local/lib/python3.11/dist-packages (from pandas==2.2.2->-r https://raw.githubusercontent.com/aso-uts/labs_datasets/main/36106-mlaa/requirements.txt (line 1)) (2.0.2)\n",
            "Requirement already satisfied: python-dateutil>=2.8.2 in /usr/local/lib/python3.11/dist-packages (from pandas==2.2.2->-r https://raw.githubusercontent.com/aso-uts/labs_datasets/main/36106-mlaa/requirements.txt (line 1)) (2.8.2)\n",
            "Requirement already satisfied: pytz>=2020.1 in /usr/local/lib/python3.11/dist-packages (from pandas==2.2.2->-r https://raw.githubusercontent.com/aso-uts/labs_datasets/main/36106-mlaa/requirements.txt (line 1)) (2025.1)\n",
            "Requirement already satisfied: tzdata>=2022.7 in /usr/local/lib/python3.11/dist-packages (from pandas==2.2.2->-r https://raw.githubusercontent.com/aso-uts/labs_datasets/main/36106-mlaa/requirements.txt (line 1)) (2025.1)\n",
            "Requirement already satisfied: scipy>=1.6.0 in /usr/local/lib/python3.11/dist-packages (from scikit-learn==1.6.1->-r https://raw.githubusercontent.com/aso-uts/labs_datasets/main/36106-mlaa/requirements.txt (line 2)) (1.14.1)\n",
            "Requirement already satisfied: joblib>=1.2.0 in /usr/local/lib/python3.11/dist-packages (from scikit-learn==1.6.1->-r https://raw.githubusercontent.com/aso-uts/labs_datasets/main/36106-mlaa/requirements.txt (line 2)) (1.4.2)\n",
            "Requirement already satisfied: threadpoolctl>=3.1.0 in /usr/local/lib/python3.11/dist-packages (from scikit-learn==1.6.1->-r https://raw.githubusercontent.com/aso-uts/labs_datasets/main/36106-mlaa/requirements.txt (line 2)) (3.6.0)\n",
            "Requirement already satisfied: jinja2 in /usr/local/lib/python3.11/dist-packages (from altair==5.5.0->-r https://raw.githubusercontent.com/aso-uts/labs_datasets/main/36106-mlaa/requirements.txt (line 3)) (3.1.6)\n",
            "Requirement already satisfied: jsonschema>=3.0 in /usr/local/lib/python3.11/dist-packages (from altair==5.5.0->-r https://raw.githubusercontent.com/aso-uts/labs_datasets/main/36106-mlaa/requirements.txt (line 3)) (4.23.0)\n",
            "Requirement already satisfied: narwhals>=1.14.2 in /usr/local/lib/python3.11/dist-packages (from altair==5.5.0->-r https://raw.githubusercontent.com/aso-uts/labs_datasets/main/36106-mlaa/requirements.txt (line 3)) (1.31.0)\n",
            "Requirement already satisfied: packaging in /usr/local/lib/python3.11/dist-packages (from altair==5.5.0->-r https://raw.githubusercontent.com/aso-uts/labs_datasets/main/36106-mlaa/requirements.txt (line 3)) (24.2)\n",
            "Requirement already satisfied: typing-extensions>=4.10.0 in /usr/local/lib/python3.11/dist-packages (from altair==5.5.0->-r https://raw.githubusercontent.com/aso-uts/labs_datasets/main/36106-mlaa/requirements.txt (line 3)) (4.12.2)\n",
            "Requirement already satisfied: attrs>=22.2.0 in /usr/local/lib/python3.11/dist-packages (from jsonschema>=3.0->altair==5.5.0->-r https://raw.githubusercontent.com/aso-uts/labs_datasets/main/36106-mlaa/requirements.txt (line 3)) (25.3.0)\n",
            "Requirement already satisfied: jsonschema-specifications>=2023.03.6 in /usr/local/lib/python3.11/dist-packages (from jsonschema>=3.0->altair==5.5.0->-r https://raw.githubusercontent.com/aso-uts/labs_datasets/main/36106-mlaa/requirements.txt (line 3)) (2024.10.1)\n",
            "Requirement already satisfied: referencing>=0.28.4 in /usr/local/lib/python3.11/dist-packages (from jsonschema>=3.0->altair==5.5.0->-r https://raw.githubusercontent.com/aso-uts/labs_datasets/main/36106-mlaa/requirements.txt (line 3)) (0.36.2)\n",
            "Requirement already satisfied: rpds-py>=0.7.1 in /usr/local/lib/python3.11/dist-packages (from jsonschema>=3.0->altair==5.5.0->-r https://raw.githubusercontent.com/aso-uts/labs_datasets/main/36106-mlaa/requirements.txt (line 3)) (0.23.1)\n",
            "Requirement already satisfied: six>=1.5 in /usr/local/lib/python3.11/dist-packages (from python-dateutil>=2.8.2->pandas==2.2.2->-r https://raw.githubusercontent.com/aso-uts/labs_datasets/main/36106-mlaa/requirements.txt (line 1)) (1.17.0)\n",
            "Requirement already satisfied: MarkupSafe>=2.0 in /usr/local/lib/python3.11/dist-packages (from jinja2->altair==5.5.0->-r https://raw.githubusercontent.com/aso-uts/labs_datasets/main/36106-mlaa/requirements.txt (line 3)) (3.0.2)\n",
            "\n",
            "###### Connect to personal Google Drive ######\n",
            "Mounted at /content/gdrive\n",
            "\n",
            "###### Setting up folders ######\n",
            "\n",
            "You can now save your data files in: /content/gdrive/MyDrive/36106/assignment/AT1/data\n",
            "/content/gdrive/MyDrive/36106/assignment/AT1/data\n"
          ]
        }
      ]
    },
    {
      "cell_type": "markdown",
      "source": [
        "### 0.b Disable Warnings Messages\n",
        "\n",
        "> Do not modify this code before running it"
      ],
      "metadata": {
        "id": "jM39DExClCc5"
      }
    },
    {
      "cell_type": "code",
      "source": [
        "import warnings\n",
        "warnings.simplefilter(action='ignore', category=FutureWarning)"
      ],
      "metadata": {
        "id": "6FneOmBfka9G"
      },
      "execution_count": null,
      "outputs": []
    },
    {
      "cell_type": "markdown",
      "source": [
        "### 0.c Install Additional Packages\n",
        "\n",
        "> If you are using additional packages, you need to install them here using the command: `! pip install <package_name>`"
      ],
      "metadata": {
        "id": "CgTrMfyylVLf"
      }
    },
    {
      "cell_type": "code",
      "source": [
        "# <Student to fill this section>"
      ],
      "metadata": {
        "id": "D79tb2V-lVpJ"
      },
      "execution_count": null,
      "outputs": []
    },
    {
      "cell_type": "markdown",
      "source": [
        "### 0.d Import Packages"
      ],
      "metadata": {
        "id": "mXFKfa2tp1ch"
      }
    },
    {
      "cell_type": "code",
      "source": [
        "import ipywidgets as widgets\n",
        "import pandas as pd\n",
        "import altair as alt\n",
        "import numpy as np\n",
        "from sklearn.metrics import mean_squared_error, r2_score, mean_absolute_error\n",
        "from itertools import product"
      ],
      "metadata": {
        "id": "GBEAwdncnlAx"
      },
      "execution_count": 2,
      "outputs": []
    },
    {
      "cell_type": "markdown",
      "metadata": {
        "id": "tQgxLRrvjiJb"
      },
      "source": [
        "---\n",
        "## A. Project Description\n"
      ]
    },
    {
      "cell_type": "code",
      "source": [
        "# @title Student Information\n",
        "wgt_student_name = widgets.Text(\n",
        "    value=None,\n",
        "    placeholder='<student to fill this section>',\n",
        "    description='Student Name:',\n",
        "    style={'description_width': 'initial'},\n",
        "    disabled=False\n",
        ")\n",
        "\n",
        "wgt_student_id = widgets.Text(\n",
        "    value=None,\n",
        "    placeholder='<student to fill this section>',\n",
        "    description='Student Id:',\n",
        "    style={'description_width': 'initial'},\n",
        "    disabled=False\n",
        ")\n",
        "\n",
        "widgets.HBox([wgt_student_name, wgt_student_id])"
      ],
      "metadata": {
        "colab": {
          "base_uri": "https://localhost:8080/",
          "height": 49,
          "referenced_widgets": [
            "5fa9fc48364f45aeade72b9e1a7060d1",
            "a572f90f22f44b9f8001026ef96f2270",
            "bb2c22adbf57419d88c0817a99190c6c",
            "4bb01ec2160747b68e32f8bde737f1fb",
            "562d26b8f1af4ae2a1e542ed2057c2e0",
            "3078f9537eb2492b80839e7197196b5f",
            "dfaff83515784219959f10849e3ae50c",
            "931d1238c1394ed7826c93bbcfeb2938"
          ]
        },
        "cellView": "form",
        "id": "fGU0q-Egs0Ju",
        "outputId": "ca1200df-504c-4288-e971-f20c29ec493a"
      },
      "execution_count": null,
      "outputs": [
        {
          "output_type": "display_data",
          "data": {
            "text/plain": [
              "HBox(children=(Text(value='', description='Student Name:', placeholder='<student to fill this section>', style…"
            ],
            "application/vnd.jupyter.widget-view+json": {
              "version_major": 2,
              "version_minor": 0,
              "model_id": "5fa9fc48364f45aeade72b9e1a7060d1"
            }
          },
          "metadata": {}
        }
      ]
    },
    {
      "cell_type": "code",
      "source": [
        "# @title Experiment ID\n",
        "\n",
        "wgt_experiment_id = widgets.BoundedIntText(\n",
        "    value=3,\n",
        "    min=0,\n",
        "    max=3,\n",
        "    step=1,\n",
        "    description='Experiment ID:',\n",
        "    style={'description_width': 'initial'},\n",
        "    disabled=False\n",
        ")\n",
        "wgt_experiment_id"
      ],
      "metadata": {
        "colab": {
          "base_uri": "https://localhost:8080/",
          "height": 49,
          "referenced_widgets": [
            "d1ad64c5489943708af57a7e16eb2cb7",
            "64948ec9104c4c56864356be640ef67e",
            "4e78c7e842da48ab8d810f55f573286e"
          ]
        },
        "cellView": "form",
        "id": "RWCjbJJmnKbB",
        "outputId": "1391e2a7-b5d2-47e0-c840-c78d8269a759"
      },
      "execution_count": null,
      "outputs": [
        {
          "output_type": "display_data",
          "data": {
            "text/plain": [
              "BoundedIntText(value=3, description='Experiment ID:', max=3, style=DescriptionStyle(description_width='initial…"
            ],
            "application/vnd.jupyter.widget-view+json": {
              "version_major": 2,
              "version_minor": 0,
              "model_id": "d1ad64c5489943708af57a7e16eb2cb7"
            }
          },
          "metadata": {}
        }
      ]
    },
    {
      "cell_type": "code",
      "source": [
        "# @title Business Objective\n",
        "\n",
        "wgt_business_objective = widgets.Textarea(\n",
        "    value=None,\n",
        "    placeholder='<student to fill this section>',\n",
        "    description='Business Objective:',\n",
        "    disabled=False,\n",
        "    style={'description_width': 'initial'},\n",
        "    layout=widgets.Layout(height=\"100%\", width=\"auto\")\n",
        ")\n",
        "wgt_business_objective"
      ],
      "metadata": {
        "colab": {
          "base_uri": "https://localhost:8080/",
          "height": 62,
          "referenced_widgets": [
            "eb1ae58c2b554fb98683c57e6c9fa891",
            "dea59547746946b38f1b1d80ae3589b5",
            "a015bf22a17f41d59527fd4202fc0ac2"
          ]
        },
        "cellView": "form",
        "id": "-yUkIvPntXrt",
        "outputId": "4d86d8a0-b5d0-4823-9b87-8bcb50263158"
      },
      "execution_count": 2,
      "outputs": [
        {
          "output_type": "display_data",
          "data": {
            "text/plain": [
              "Textarea(value='', description='Business Objective:', layout=Layout(height='100%', width='auto'), placeholder=…"
            ],
            "application/vnd.jupyter.widget-view+json": {
              "version_major": 2,
              "version_minor": 0,
              "model_id": "eb1ae58c2b554fb98683c57e6c9fa891"
            }
          },
          "metadata": {}
        }
      ]
    },
    {
      "cell_type": "markdown",
      "source": [
        "---\n",
        "## B. Experiment Description"
      ],
      "metadata": {
        "id": "4q1Bzcejvfpm"
      }
    },
    {
      "cell_type": "code",
      "source": [
        "# @title Experiment Hypothesis\n",
        "\n",
        "wgt_experiment_hypothesis = widgets.Textarea(\n",
        "    value=None,\n",
        "    placeholder='<student to fill this section>',\n",
        "    description='Experiment Hypothesis:',\n",
        "    disabled=False,\n",
        "    style={'description_width': 'initial'},\n",
        "    layout=widgets.Layout(height=\"100%\", width=\"auto\")\n",
        ")\n",
        "wgt_experiment_hypothesis"
      ],
      "metadata": {
        "colab": {
          "base_uri": "https://localhost:8080/",
          "height": 62,
          "referenced_widgets": [
            "ec6cb345df85407d8b2fc84b3475cbf4",
            "b29b642ae2bb4efe843764bc8fd9be95",
            "704e54ea797d4f93a172750685b93bff"
          ]
        },
        "cellView": "form",
        "id": "GXd_BeBLvlH9",
        "outputId": "b1d6b0eb-37d1-430f-81bc-18019f72e074"
      },
      "execution_count": null,
      "outputs": [
        {
          "output_type": "display_data",
          "data": {
            "text/plain": [
              "Textarea(value='', description='Experiment Hypothesis:', layout=Layout(height='100%', width='auto'), placehold…"
            ],
            "application/vnd.jupyter.widget-view+json": {
              "version_major": 2,
              "version_minor": 0,
              "model_id": "ec6cb345df85407d8b2fc84b3475cbf4"
            }
          },
          "metadata": {}
        }
      ]
    },
    {
      "cell_type": "code",
      "source": [
        "\n",
        "# @title Experiment Expectations\n",
        "\n",
        "wgt_experiment_expectations = widgets.Textarea(\n",
        "    value=None,\n",
        "    placeholder='<student to fill this section>',\n",
        "    description='Experiment Expectations:',\n",
        "    disabled=False,\n",
        "    style={'description_width': 'initial'},\n",
        "    layout=widgets.Layout(height=\"100%\", width=\"auto\")\n",
        ")\n",
        "wgt_experiment_expectations"
      ],
      "metadata": {
        "cellView": "form",
        "colab": {
          "base_uri": "https://localhost:8080/",
          "height": 62,
          "referenced_widgets": [
            "e4cabb93388d432fb647978458869d7a",
            "12bd25c97f6a462393020a8ea9962504",
            "d9b25da77c2c4deaaa3366e20bedf48c"
          ]
        },
        "id": "-U21y_pAwdJe",
        "outputId": "ede6d056-fa9d-4ab9-d149-04dcf6c72496"
      },
      "execution_count": null,
      "outputs": [
        {
          "output_type": "display_data",
          "data": {
            "text/plain": [
              "Textarea(value='', description='Experiment Expectations:', layout=Layout(height='100%', width='auto'), placeho…"
            ],
            "application/vnd.jupyter.widget-view+json": {
              "version_major": 2,
              "version_minor": 0,
              "model_id": "e4cabb93388d432fb647978458869d7a"
            }
          },
          "metadata": {}
        }
      ]
    },
    {
      "cell_type": "markdown",
      "source": [
        "---\n",
        "## C. Data Understanding"
      ],
      "metadata": {
        "id": "P0zsEPshwy1K"
      }
    },
    {
      "cell_type": "markdown",
      "source": [
        "### C.1   Load Datasets\n",
        "\n",
        "> Do not change this code"
      ],
      "metadata": {
        "id": "kKgkHZnNypnE"
      }
    },
    {
      "cell_type": "code",
      "source": [
        "# Load training data\n",
        "X_train = pd.read_csv(folder_path / 'X_train.csv')\n",
        "y_train = pd.read_csv(folder_path / 'y_train.csv')"
      ],
      "metadata": {
        "id": "NKgOzSn-w0eq"
      },
      "execution_count": 3,
      "outputs": []
    },
    {
      "cell_type": "code",
      "source": [
        "# Load validation data\n",
        "X_val = pd.read_csv(folder_path / 'X_val.csv')\n",
        "y_val = pd.read_csv(folder_path / 'y_val.csv')"
      ],
      "metadata": {
        "id": "KUrJMQ2jw0m3"
      },
      "execution_count": 4,
      "outputs": []
    },
    {
      "cell_type": "code",
      "source": [
        "# Load testing data\n",
        "X_test = pd.read_csv(folder_path / 'X_test.csv')\n",
        "y_test = pd.read_csv(folder_path / 'y_test.csv')"
      ],
      "metadata": {
        "id": "YmD8k_bdw054"
      },
      "execution_count": 5,
      "outputs": []
    },
    {
      "cell_type": "markdown",
      "metadata": {
        "id": "_NCwQQFkU3v5"
      },
      "source": [
        "---\n",
        "## D. Feature Selection\n"
      ]
    },
    {
      "cell_type": "code",
      "source": [
        "# <Student to fill this section>\n",
        "\n",
        "features_list = ['number_of_bedrooms','floor_area','number_of_bathrooms','month','level_numerator','level_ratio','tenancy_preference_Bachelors','tenancy_preference_Bachelors/Family','tenancy_preference_Family','suburb_Brisbane','suburb_Canberra','suburb_Melbourne','suburb_Perth','suburb_Sydney','furnished_encoded']"
      ],
      "metadata": {
        "id": "zfC-DLKv4AuM"
      },
      "execution_count": null,
      "outputs": []
    },
    {
      "cell_type": "code",
      "source": [
        "# @title Feature Selection Explanation\n",
        "\n",
        "wgt_feat_selection_explanation = widgets.Textarea(\n",
        "    value=None,\n",
        "    placeholder='<student to fill this section>',\n",
        "    description='Feature Selection Explanation:',\n",
        "    disabled=False,\n",
        "    style={'description_width': 'initial'},\n",
        "    layout=widgets.Layout(height=\"100%\", width=\"auto\")\n",
        ")\n",
        "wgt_feat_selection_explanation"
      ],
      "metadata": {
        "colab": {
          "base_uri": "https://localhost:8080/",
          "height": 62,
          "referenced_widgets": [
            "8212b54615164ff189ded5e165f163c5",
            "216b4d24d87e4befbc0caaed06e9bf5f",
            "20f771c19e22494c90de8eed89fa04a3"
          ]
        },
        "id": "l3TDTIWr4BYF",
        "outputId": "fd1ed7fc-93a0-47b7-986a-4682a668bebb",
        "cellView": "form"
      },
      "execution_count": null,
      "outputs": [
        {
          "output_type": "display_data",
          "data": {
            "text/plain": [
              "Textarea(value='', description='Feature Selection Explanation:', layout=Layout(height='100%', width='auto'), p…"
            ],
            "application/vnd.jupyter.widget-view+json": {
              "version_major": 2,
              "version_minor": 0,
              "model_id": "8212b54615164ff189ded5e165f163c5"
            }
          },
          "metadata": {}
        }
      ]
    },
    {
      "cell_type": "markdown",
      "metadata": {
        "id": "N8MNBrC4Zgz6"
      },
      "source": [
        "---\n",
        "## E. Train Machine Learning Model"
      ]
    },
    {
      "cell_type": "markdown",
      "source": [
        "### E.1 Import Algorithm\n",
        "\n",
        "> Provide some explanations on why you believe this algorithm is a good fit\n"
      ],
      "metadata": {
        "id": "4_tQitOfeDXr"
      }
    },
    {
      "cell_type": "code",
      "execution_count": 6,
      "metadata": {
        "id": "Mh6epkAThez5"
      },
      "outputs": [],
      "source": [
        "# <Student to fill this section>\n",
        "from sklearn.neighbors import KNeighborsRegressor"
      ]
    },
    {
      "cell_type": "code",
      "execution_count": null,
      "metadata": {
        "id": "yQlcYIfThez5",
        "colab": {
          "base_uri": "https://localhost:8080/",
          "height": 62,
          "referenced_widgets": [
            "6f7297f71d3e4ffa8dfc88e80a6d2e2c",
            "617aae17c5ab405f90f95a663e485f05",
            "aca22d21c387449ca66f901ceb4315d1"
          ]
        },
        "cellView": "form",
        "outputId": "1e13a622-8107-4855-cabd-7e2c67fd27a7"
      },
      "outputs": [
        {
          "output_type": "display_data",
          "data": {
            "text/plain": [
              "Textarea(value='', description='Algorithm Selection Explanation:', layout=Layout(height='100%', width='auto'),…"
            ],
            "application/vnd.jupyter.widget-view+json": {
              "version_major": 2,
              "version_minor": 0,
              "model_id": "6f7297f71d3e4ffa8dfc88e80a6d2e2c"
            }
          },
          "metadata": {}
        }
      ],
      "source": [
        "# @title Algorithm Selection Explanation\n",
        "\n",
        "wgt_algo_selection_explanation = widgets.Textarea(\n",
        "    value=None,\n",
        "    placeholder='<student to fill this section>',\n",
        "    description='Algorithm Selection Explanation:',\n",
        "    disabled=False,\n",
        "    style={'description_width': 'initial'},\n",
        "    layout=widgets.Layout(height=\"100%\", width=\"auto\")\n",
        ")\n",
        "wgt_algo_selection_explanation"
      ]
    },
    {
      "cell_type": "markdown",
      "source": [
        "### E.2 Set Hyperparameters\n",
        "\n",
        "> Provide some explanations on why you believe this algorithm is a good fit\n"
      ],
      "metadata": {
        "id": "0ks_MmM2mCfm"
      }
    },
    {
      "cell_type": "code",
      "source": [
        "# <Student to fill this section>\n",
        "n_neighbors_list = [1, 2, 3, 5, 7, 9, 11]\n",
        "p_list = [1, 2]"
      ],
      "metadata": {
        "id": "NUswpGVLmDXl"
      },
      "execution_count": 7,
      "outputs": []
    },
    {
      "cell_type": "code",
      "source": [
        "# @title Hyperparameters Selection Explanation\n",
        "\n",
        "wgt_hyperparams_selection_explanation = widgets.Textarea(\n",
        "    value=None,\n",
        "    placeholder='<student to fill this section>',\n",
        "    description='Hyperparameters Selection Explanation:',\n",
        "    disabled=False,\n",
        "    style={'description_width': 'initial'},\n",
        "    layout=widgets.Layout(height=\"100%\", width=\"auto\")\n",
        ")\n",
        "wgt_hyperparams_selection_explanation"
      ],
      "metadata": {
        "colab": {
          "base_uri": "https://localhost:8080/",
          "height": 62,
          "referenced_widgets": [
            "ed3f89dd83334aa6b83d985c61840593",
            "fc5ca0a4813f4865a7584bb61ade6890",
            "254c0c890b3c47899ef487a293656de3"
          ]
        },
        "cellView": "form",
        "id": "89e9t-19mEE3",
        "outputId": "05d24966-1db7-4720-a4b0-347625578982"
      },
      "execution_count": 3,
      "outputs": [
        {
          "output_type": "display_data",
          "data": {
            "text/plain": [
              "Textarea(value='', description='Hyperparameters Selection Explanation:', layout=Layout(height='100%', width='a…"
            ],
            "application/vnd.jupyter.widget-view+json": {
              "version_major": 2,
              "version_minor": 0,
              "model_id": "ed3f89dd83334aa6b83d985c61840593"
            }
          },
          "metadata": {}
        }
      ]
    },
    {
      "cell_type": "markdown",
      "source": [
        "### E.3 Fit Model"
      ],
      "metadata": {
        "id": "VDjdjQjFmkLe"
      }
    },
    {
      "cell_type": "code",
      "source": [
        "# <Student to fill this section>\n",
        "predictions = {}\n",
        "\n",
        "for n_neighbors, p in product(n_neighbors_list, p_list):\n",
        "    model = KNeighborsRegressor(n_neighbors=n_neighbors, p=p)\n",
        "    model.fit(X_train, y_train)\n",
        "\n",
        "    y_pred = model.predict(X_val)\n",
        "\n",
        "    # Store predictions in a dictionary\n",
        "    key = f\"y_pred_{n_neighbors}_{p}\"\n",
        "    predictions[key] = y_pred"
      ],
      "metadata": {
        "id": "0Ub3Nrdgmm2N"
      },
      "execution_count": 9,
      "outputs": []
    },
    {
      "cell_type": "markdown",
      "source": [
        "### E.4 Model Technical Performance\n",
        "\n",
        "> Provide some explanations on model performance\n"
      ],
      "metadata": {
        "id": "q43YtqpdeniY"
      }
    },
    {
      "cell_type": "code",
      "source": [
        "# <Student to fill this section>\n",
        "for n_neighbors, p in product(n_neighbors_list, p_list):\n",
        "    mse = mean_squared_error(y_val, predictions[f\"y_pred_{n_neighbors}_{p}\"])\n",
        "    rmse = np.sqrt(mse)\n",
        "    mae = mean_absolute_error(y_val, predictions[f\"y_pred_{n_neighbors}_{p}\"])\n",
        "    r2 = r2_score(y_val, predictions[f\"y_pred_{n_neighbors}_{p}\"])\n",
        "\n",
        "    print(f\"n_neighbors = {n_neighbors}, p = {p}\")\n",
        "    print(f\"RMSE: {rmse}\")\n",
        "    print(f\"MAE: {mae}\")\n",
        "    print(f\"R2: {r2}\")\n",
        "    print(\".............................\")"
      ],
      "metadata": {
        "colab": {
          "base_uri": "https://localhost:8080/"
        },
        "id": "LsRMVQxtpQkQ",
        "outputId": "b961c467-9df0-4418-df69-badf6cf16fc0"
      },
      "execution_count": 10,
      "outputs": [
        {
          "output_type": "stream",
          "name": "stdout",
          "text": [
            "n_neighbors = 1, p = 1\n",
            "RMSE: 10.940706240014995\n",
            "MAE: 5.602651515151515\n",
            "R2: 0.7685414511302396\n",
            ".............................\n",
            "n_neighbors = 1, p = 2\n",
            "RMSE: 11.219428157522922\n",
            "MAE: 5.686742424242424\n",
            "R2: 0.7565981048977521\n",
            ".............................\n",
            "n_neighbors = 2, p = 1\n",
            "RMSE: 10.565826757795984\n",
            "MAE: 7.041477272727272\n",
            "R2: 0.7841313962917543\n",
            ".............................\n",
            "n_neighbors = 2, p = 2\n",
            "RMSE: 10.6774374479341\n",
            "MAE: 7.043939393939394\n",
            "R2: 0.7795467107266877\n",
            ".............................\n",
            "n_neighbors = 3, p = 1\n",
            "RMSE: 10.641148848763878\n",
            "MAE: 7.302777777777776\n",
            "R2: 0.7810426401932502\n",
            ".............................\n",
            "n_neighbors = 3, p = 2\n",
            "RMSE: 10.800668508740104\n",
            "MAE: 7.376388888888888\n",
            "R2: 0.7744287296129941\n",
            ".............................\n",
            "n_neighbors = 5, p = 1\n",
            "RMSE: 10.802706941907072\n",
            "MAE: 7.549924242424243\n",
            "R2: 0.7743435764857882\n",
            ".............................\n",
            "n_neighbors = 5, p = 2\n",
            "RMSE: 10.824338456935973\n",
            "MAE: 7.54878787878788\n",
            "R2: 0.7734389555365734\n",
            ".............................\n",
            "n_neighbors = 7, p = 1\n",
            "RMSE: 10.958514774958084\n",
            "MAE: 7.683008658008658\n",
            "R2: 0.7677873330195206\n",
            ".............................\n",
            "n_neighbors = 7, p = 2\n",
            "RMSE: 11.035772250789922\n",
            "MAE: 7.733170995670995\n",
            "R2: 0.7645015951411606\n",
            ".............................\n",
            "n_neighbors = 9, p = 1\n",
            "RMSE: 11.096640513950488\n",
            "MAE: 7.692382154882155\n",
            "R2: 0.7618966284044159\n",
            ".............................\n",
            "n_neighbors = 9, p = 2\n",
            "RMSE: 11.28316576937848\n",
            "MAE: 7.875\n",
            "R2: 0.7538247153040788\n",
            ".............................\n",
            "n_neighbors = 11, p = 1\n",
            "RMSE: 11.20004205174836\n",
            "MAE: 7.766769972451789\n",
            "R2: 0.7574385288763921\n",
            ".............................\n",
            "n_neighbors = 11, p = 2\n",
            "RMSE: 11.436955343673555\n",
            "MAE: 7.936088154269974\n",
            "R2: 0.7470682422625163\n",
            ".............................\n"
          ]
        }
      ]
    },
    {
      "cell_type": "code",
      "execution_count": null,
      "metadata": {
        "id": "osp7Ura2hez5",
        "colab": {
          "base_uri": "https://localhost:8080/",
          "height": 62,
          "referenced_widgets": [
            "38a93b54be544e958143272c7ccf5a9c",
            "6a75d1afa9b64a809eeccef5a19d31c3",
            "fc3c2f24e2ef42738605d52cdba2adbf"
          ]
        },
        "cellView": "form",
        "outputId": "f681eef7-0c07-4415-d8bb-e8c48655da6f"
      },
      "outputs": [
        {
          "output_type": "display_data",
          "data": {
            "text/plain": [
              "Textarea(value='', description='Model Performance Explanation:', layout=Layout(height='100%', width='auto'), p…"
            ],
            "application/vnd.jupyter.widget-view+json": {
              "version_major": 2,
              "version_minor": 0,
              "model_id": "38a93b54be544e958143272c7ccf5a9c"
            }
          },
          "metadata": {}
        }
      ],
      "source": [
        "# @title Model Performance Explanation\n",
        "\n",
        "wgt_model_performance_explanation = widgets.Textarea(\n",
        "    value=None,\n",
        "    placeholder='<student to fill this section>',\n",
        "    description='Model Performance Explanation:',\n",
        "    disabled=False,\n",
        "    style={'description_width': 'initial'},\n",
        "    layout=widgets.Layout(height=\"100%\", width=\"auto\")\n",
        ")\n",
        "wgt_model_performance_explanation"
      ]
    },
    {
      "cell_type": "markdown",
      "source": [
        "### E.5 Business Impact from Current Model Performance\n",
        "\n",
        "> Provide some analysis on the model impacts from the business point of view\n"
      ],
      "metadata": {
        "id": "W1HgZMPcmtu7"
      }
    },
    {
      "cell_type": "code",
      "source": [
        "# <Student to fill this section>\n",
        "\n",
        "y_1 = y_train['rent']\n",
        "y_pred = predictions[f\"y_pred_{2}_{1}\"]\n",
        "y_pred = pd.DataFrame(y_pred, columns=['rent_pred'])\n",
        "y_2 = y_pred['rent_pred']\n",
        "\n",
        "train_set = alt.Chart(pd.DataFrame({'target': y_1, 'preds': y_1})).mark_line(color='green').encode(\n",
        "    x='target',\n",
        "    y='preds'\n",
        ")\n",
        "test_set = alt.Chart(pd.DataFrame({'target': y_1, 'preds': y_2})).mark_line().encode(\n",
        "    x='target',\n",
        "    y='preds'\n",
        "  )\n",
        "\n",
        "test_set + train_set"
      ],
      "metadata": {
        "id": "XGq2RWyqmuKM",
        "colab": {
          "base_uri": "https://localhost:8080/",
          "height": 363
        },
        "outputId": "94c0a69c-7041-45f2-b5de-a5987699828a"
      },
      "execution_count": null,
      "outputs": [
        {
          "output_type": "execute_result",
          "data": {
            "text/html": [
              "\n",
              "<style>\n",
              "  #altair-viz-729a159c210e4d4d8a1be326b03efbc9.vega-embed {\n",
              "    width: 100%;\n",
              "    display: flex;\n",
              "  }\n",
              "\n",
              "  #altair-viz-729a159c210e4d4d8a1be326b03efbc9.vega-embed details,\n",
              "  #altair-viz-729a159c210e4d4d8a1be326b03efbc9.vega-embed details summary {\n",
              "    position: relative;\n",
              "  }\n",
              "</style>\n",
              "<div id=\"altair-viz-729a159c210e4d4d8a1be326b03efbc9\"></div>\n",
              "<script type=\"text/javascript\">\n",
              "  var VEGA_DEBUG = (typeof VEGA_DEBUG == \"undefined\") ? {} : VEGA_DEBUG;\n",
              "  (function(spec, embedOpt){\n",
              "    let outputDiv = document.currentScript.previousElementSibling;\n",
              "    if (outputDiv.id !== \"altair-viz-729a159c210e4d4d8a1be326b03efbc9\") {\n",
              "      outputDiv = document.getElementById(\"altair-viz-729a159c210e4d4d8a1be326b03efbc9\");\n",
              "    }\n",
              "\n",
              "    const paths = {\n",
              "      \"vega\": \"https://cdn.jsdelivr.net/npm/vega@5?noext\",\n",
              "      \"vega-lib\": \"https://cdn.jsdelivr.net/npm/vega-lib?noext\",\n",
              "      \"vega-lite\": \"https://cdn.jsdelivr.net/npm/vega-lite@5.20.1?noext\",\n",
              "      \"vega-embed\": \"https://cdn.jsdelivr.net/npm/vega-embed@6?noext\",\n",
              "    };\n",
              "\n",
              "    function maybeLoadScript(lib, version) {\n",
              "      var key = `${lib.replace(\"-\", \"\")}_version`;\n",
              "      return (VEGA_DEBUG[key] == version) ?\n",
              "        Promise.resolve(paths[lib]) :\n",
              "        new Promise(function(resolve, reject) {\n",
              "          var s = document.createElement('script');\n",
              "          document.getElementsByTagName(\"head\")[0].appendChild(s);\n",
              "          s.async = true;\n",
              "          s.onload = () => {\n",
              "            VEGA_DEBUG[key] = version;\n",
              "            return resolve(paths[lib]);\n",
              "          };\n",
              "          s.onerror = () => reject(`Error loading script: ${paths[lib]}`);\n",
              "          s.src = paths[lib];\n",
              "        });\n",
              "    }\n",
              "\n",
              "    function showError(err) {\n",
              "      outputDiv.innerHTML = `<div class=\"error\" style=\"color:red;\">${err}</div>`;\n",
              "      throw err;\n",
              "    }\n",
              "\n",
              "    function displayChart(vegaEmbed) {\n",
              "      vegaEmbed(outputDiv, spec, embedOpt)\n",
              "        .catch(err => showError(`Javascript Error: ${err.message}<br>This usually means there's a typo in your chart specification. See the javascript console for the full traceback.`));\n",
              "    }\n",
              "\n",
              "    if(typeof define === \"function\" && define.amd) {\n",
              "      requirejs.config({paths});\n",
              "      let deps = [\"vega-embed\"];\n",
              "      require(deps, displayChart, err => showError(`Error loading script: ${err.message}`));\n",
              "    } else {\n",
              "      maybeLoadScript(\"vega\", \"5\")\n",
              "        .then(() => maybeLoadScript(\"vega-lite\", \"5.20.1\"))\n",
              "        .then(() => maybeLoadScript(\"vega-embed\", \"6\"))\n",
              "        .catch(showError)\n",
              "        .then(() => displayChart(vegaEmbed));\n",
              "    }\n",
              "  })({\"config\": {\"view\": {\"continuousWidth\": 300, \"continuousHeight\": 300}}, \"layer\": [{\"data\": {\"name\": \"data-4f219c52b05d35d8b0997d2792149ebb\"}, \"mark\": {\"type\": \"line\"}, \"encoding\": {\"x\": {\"field\": \"target\", \"type\": \"quantitative\"}, \"y\": {\"field\": \"preds\", \"type\": \"quantitative\"}}}, {\"data\": {\"name\": \"data-1f6f6860f05918627a0a181d822eb138\"}, \"mark\": {\"type\": \"line\", \"color\": \"green\"}, \"encoding\": {\"x\": {\"field\": \"target\", \"type\": \"quantitative\"}, \"y\": {\"field\": \"preds\", \"type\": \"quantitative\"}}}], \"$schema\": \"https://vega.github.io/schema/vega-lite/v5.20.1.json\", \"datasets\": {\"data-4f219c52b05d35d8b0997d2792149ebb\": [{\"target\": 568.0, \"preds\": 572.0}, {\"target\": 581.0, \"preds\": 614.75}, {\"target\": 577.0, \"preds\": 578.5}, {\"target\": 565.0, \"preds\": 580.5}, {\"target\": 564.0, \"preds\": 571.5}, {\"target\": 568.0, \"preds\": 564.5}, {\"target\": 562.0, \"preds\": 579.5}, {\"target\": 588.0, \"preds\": 602.0}, {\"target\": 568.0, \"preds\": 571.5}, {\"target\": 587.0, \"preds\": 585.5}, {\"target\": 562.0, \"preds\": 565.0}, {\"target\": 564.0, \"preds\": 563.5}, {\"target\": 562.0, \"preds\": 578.0}, {\"target\": 566.0, \"preds\": 574.0}, {\"target\": 606.0, \"preds\": 569.5}, {\"target\": 563.0, \"preds\": 593.5}, {\"target\": 568.0, \"preds\": 578.5}, {\"target\": 569.0, \"preds\": 582.5}, {\"target\": 563.0, \"preds\": 597.0}, {\"target\": 567.0, \"preds\": 571.0}, {\"target\": 560.0, \"preds\": 596.0}, {\"target\": 564.0, \"preds\": 600.25}, {\"target\": 565.0, \"preds\": 609.25}, {\"target\": 564.0, \"preds\": 581.0}, {\"target\": 562.0, \"preds\": 567.0}, {\"target\": 563.0, \"preds\": 567.0}, {\"target\": 566.0, \"preds\": 572.5}, {\"target\": 571.0, \"preds\": 575.5}, {\"target\": 565.0, \"preds\": 563.5}, {\"target\": 574.0, \"preds\": 624.5}, {\"target\": 563.0, \"preds\": 577.0}, {\"target\": 583.0, \"preds\": 576.5}, {\"target\": 574.0, \"preds\": 620.5}, {\"target\": 571.0, \"preds\": 563.0}, {\"target\": 564.0, \"preds\": 567.5}, {\"target\": 582.0, \"preds\": 573.0}, {\"target\": 568.0, \"preds\": 624.5}, {\"target\": 571.0, \"preds\": 624.5}, {\"target\": 562.0, \"preds\": 570.5}, {\"target\": 566.0, \"preds\": 612.25}, {\"target\": 563.0, \"preds\": 576.0}, {\"target\": 568.0, \"preds\": 624.5}, {\"target\": 561.0, \"preds\": 566.5}, {\"target\": 594.0, \"preds\": 572.5}, {\"target\": 574.0, \"preds\": 565.5}, {\"target\": 565.0, \"preds\": 617.5}, {\"target\": 565.0, \"preds\": 575.0}, {\"target\": 574.0, \"preds\": 573.0}, {\"target\": 569.0, \"preds\": 572.0}, {\"target\": 564.0, \"preds\": 566.0}, {\"target\": 563.0, \"preds\": 566.0}, {\"target\": 563.0, \"preds\": 593.5}, {\"target\": 594.0, \"preds\": 603.5}, {\"target\": 568.0, \"preds\": 564.5}, {\"target\": 594.0, \"preds\": 562.5}, {\"target\": 560.0, \"preds\": 571.0}, {\"target\": 565.0, \"preds\": 561.5}, {\"target\": 565.0, \"preds\": 583.0}, {\"target\": 564.0, \"preds\": 583.0}, {\"target\": 565.0, \"preds\": 573.0}, {\"target\": 565.0, \"preds\": 624.5}, {\"target\": 576.0, \"preds\": 584.0}, {\"target\": 576.0, \"preds\": 562.0}, {\"target\": 564.0, \"preds\": 575.5}, {\"target\": 606.0, \"preds\": 624.5}, {\"target\": 571.0, \"preds\": 600.0}, {\"target\": 562.0, \"preds\": 595.0}, {\"target\": 562.0, \"preds\": 579.5}, {\"target\": 564.0, \"preds\": 567.5}, {\"target\": 565.0, \"preds\": 571.5}, {\"target\": 574.0, \"preds\": 570.5}, {\"target\": 566.0, \"preds\": 587.5}, {\"target\": 574.0, \"preds\": 590.5}, {\"target\": 581.0, \"preds\": 587.5}, {\"target\": 564.0, \"preds\": 565.5}, {\"target\": 568.0, \"preds\": 598.0}, {\"target\": 564.0, \"preds\": 583.5}, {\"target\": 583.0, \"preds\": 571.0}, {\"target\": 566.0, \"preds\": 624.5}, {\"target\": 578.0, \"preds\": 597.5}, {\"target\": 567.0, \"preds\": 575.5}, {\"target\": 563.0, \"preds\": 591.0}, {\"target\": 581.0, \"preds\": 572.5}, {\"target\": 562.0, \"preds\": 584.5}, {\"target\": 568.0, \"preds\": 574.5}, {\"target\": 578.0, \"preds\": 571.0}, {\"target\": 574.0, \"preds\": 587.0}, {\"target\": 583.0, \"preds\": 567.0}, {\"target\": 600.0, \"preds\": 580.5}, {\"target\": 582.0, \"preds\": 624.5}, {\"target\": 624.5, \"preds\": 571.5}, {\"target\": 563.0, \"preds\": 566.0}, {\"target\": 565.0, \"preds\": 563.5}, {\"target\": 565.0, \"preds\": 586.5}, {\"target\": 563.0, \"preds\": 573.5}, {\"target\": 565.0, \"preds\": 570.5}, {\"target\": 574.0, \"preds\": 624.5}, {\"target\": 573.0, \"preds\": 572.5}, {\"target\": 562.0, \"preds\": 566.0}, {\"target\": 564.0, \"preds\": 577.5}, {\"target\": 560.0, \"preds\": 563.0}, {\"target\": 573.0, \"preds\": 573.5}, {\"target\": 563.0, \"preds\": 569.5}, {\"target\": 565.0, \"preds\": 570.5}, {\"target\": 568.0, \"preds\": 570.5}, {\"target\": 578.0, \"preds\": 575.5}, {\"target\": 565.0, \"preds\": 624.5}, {\"target\": 565.0, \"preds\": 563.0}, {\"target\": 561.0, \"preds\": 579.0}, {\"target\": 561.0, \"preds\": 592.0}, {\"target\": 561.0, \"preds\": 566.0}, {\"target\": 576.0, \"preds\": 600.75}, {\"target\": 573.0, \"preds\": 562.5}, {\"target\": 567.0, \"preds\": 586.5}, {\"target\": 562.0, \"preds\": 573.0}, {\"target\": 578.0, \"preds\": 590.5}, {\"target\": 566.0, \"preds\": 571.0}, {\"target\": 574.0, \"preds\": 620.75}, {\"target\": 571.0, \"preds\": 577.5}, {\"target\": 572.0, \"preds\": 585.0}, {\"target\": 565.0, \"preds\": 573.0}, {\"target\": 565.0, \"preds\": 571.0}, {\"target\": 565.0, \"preds\": 563.0}, {\"target\": 564.0, \"preds\": 602.25}, {\"target\": 558.0, \"preds\": 573.5}, {\"target\": 565.0, \"preds\": 566.5}, {\"target\": 562.0, \"preds\": 571.5}, {\"target\": 564.0, \"preds\": 579.5}, {\"target\": 560.0, \"preds\": 579.5}, {\"target\": 562.0, \"preds\": 624.5}, {\"target\": 564.0, \"preds\": 585.0}, {\"target\": 568.0, \"preds\": 563.5}, {\"target\": 564.0, \"preds\": 624.5}, {\"target\": 574.0, \"preds\": 593.5}, {\"target\": 563.0, \"preds\": 566.0}, {\"target\": 560.0, \"preds\": 572.5}, {\"target\": 567.0, \"preds\": 572.5}, {\"target\": 606.0, \"preds\": 600.25}, {\"target\": 576.0, \"preds\": 566.0}, {\"target\": 565.0, \"preds\": 624.5}, {\"target\": 571.0, \"preds\": 603.0}, {\"target\": 606.0, \"preds\": 571.5}, {\"target\": 562.0, \"preds\": 571.5}, {\"target\": 567.0, \"preds\": 567.5}, {\"target\": 564.0, \"preds\": 592.0}, {\"target\": 578.0, \"preds\": 573.5}, {\"target\": 567.0, \"preds\": 610.25}, {\"target\": 562.0, \"preds\": 571.5}, {\"target\": 565.0, \"preds\": 567.5}, {\"target\": 569.0, \"preds\": 618.75}, {\"target\": 574.0, \"preds\": 570.0}, {\"target\": 619.0, \"preds\": 580.0}, {\"target\": 571.0, \"preds\": 569.5}, {\"target\": 569.0, \"preds\": 604.75}, {\"target\": 571.0, \"preds\": 616.25}, {\"target\": 565.0, \"preds\": 567.5}, {\"target\": 578.0, \"preds\": 570.5}, {\"target\": 565.0, \"preds\": 590.5}, {\"target\": 564.0, \"preds\": 574.5}, {\"target\": 564.0, \"preds\": 570.5}, {\"target\": 572.0, \"preds\": 624.5}, {\"target\": 567.0, \"preds\": 624.5}, {\"target\": 568.0, \"preds\": 609.0}, {\"target\": 571.0, \"preds\": 563.5}, {\"target\": 562.0, \"preds\": 584.0}, {\"target\": 563.0, \"preds\": 570.0}, {\"target\": 562.0, \"preds\": 572.0}, {\"target\": 574.0, \"preds\": 568.5}, {\"target\": 567.0, \"preds\": 568.5}, {\"target\": 562.0, \"preds\": 624.5}, {\"target\": 568.0, \"preds\": 584.0}, {\"target\": 561.0, \"preds\": 564.0}, {\"target\": 562.0, \"preds\": 571.0}, {\"target\": 562.0, \"preds\": 567.0}, {\"target\": 562.0, \"preds\": 590.5}, {\"target\": 563.0, \"preds\": 575.0}, {\"target\": 578.0, \"preds\": 585.0}, {\"target\": 565.0, \"preds\": 577.5}, {\"target\": 572.0, \"preds\": 572.5}, {\"target\": 571.0, \"preds\": 565.0}, {\"target\": 569.0, \"preds\": 582.0}, {\"target\": 563.0, \"preds\": 573.0}, {\"target\": 581.0, \"preds\": 581.5}, {\"target\": 594.0, \"preds\": 566.0}, {\"target\": 564.0, \"preds\": 569.5}, {\"target\": 559.0, \"preds\": 572.5}, {\"target\": 587.0, \"preds\": 571.0}, {\"target\": 571.0, \"preds\": 570.0}, {\"target\": 566.0, \"preds\": 564.0}, {\"target\": 560.0, \"preds\": 563.0}, {\"target\": 559.0, \"preds\": 562.0}, {\"target\": 573.0, \"preds\": 578.5}, {\"target\": 578.0, \"preds\": 597.0}, {\"target\": 560.0, \"preds\": 621.75}, {\"target\": 576.0, \"preds\": 572.5}, {\"target\": 600.0, \"preds\": 574.0}, {\"target\": 582.0, \"preds\": 588.0}, {\"target\": 561.0, \"preds\": 575.0}, {\"target\": 574.0, \"preds\": 624.5}, {\"target\": 562.0, \"preds\": 580.5}, {\"target\": 566.0, \"preds\": 576.0}, {\"target\": 562.0, \"preds\": 569.0}, {\"target\": 566.0, \"preds\": 575.0}, {\"target\": 567.0, \"preds\": 570.0}, {\"target\": 565.0, \"preds\": 566.5}, {\"target\": 564.0, \"preds\": 566.0}, {\"target\": 574.0, \"preds\": 585.0}, {\"target\": 564.0, \"preds\": 567.5}, {\"target\": 568.0, \"preds\": 564.5}, {\"target\": 564.0, \"preds\": 569.0}, {\"target\": 563.0, \"preds\": 588.5}, {\"target\": 571.0, \"preds\": 570.0}, {\"target\": 563.0, \"preds\": 624.5}, {\"target\": 571.0, \"preds\": 624.5}, {\"target\": 565.0, \"preds\": 587.0}, {\"target\": 562.0, \"preds\": 570.0}, {\"target\": 566.0, \"preds\": 593.5}, {\"target\": 583.0, \"preds\": 612.25}, {\"target\": 564.0, \"preds\": 624.5}, {\"target\": 587.0, \"preds\": 567.0}, {\"target\": 564.0, \"preds\": 568.5}, {\"target\": 574.0, \"preds\": 568.0}, {\"target\": 563.0, \"preds\": 621.75}, {\"target\": 565.0, \"preds\": 603.75}, {\"target\": 606.0, \"preds\": 575.5}, {\"target\": 563.0, \"preds\": 580.5}, {\"target\": 574.0, \"preds\": 574.0}, {\"target\": 564.0, \"preds\": 584.0}, {\"target\": 565.0, \"preds\": 565.0}, {\"target\": 562.0, \"preds\": 578.5}, {\"target\": 563.0, \"preds\": 580.5}, {\"target\": 574.0, \"preds\": 624.5}, {\"target\": 594.0, \"preds\": 567.0}, {\"target\": 562.0, \"preds\": 578.0}, {\"target\": 574.0, \"preds\": 562.0}, {\"target\": 564.0, \"preds\": 564.5}, {\"target\": 564.0, \"preds\": 572.0}, {\"target\": 564.0, \"preds\": 570.5}, {\"target\": 578.0, \"preds\": 570.0}, {\"target\": 568.0, \"preds\": 564.5}, {\"target\": 557.0, \"preds\": 571.0}, {\"target\": 587.0, \"preds\": 607.0}, {\"target\": 571.0, \"preds\": 574.5}, {\"target\": 565.0, \"preds\": 565.5}, {\"target\": 564.0, \"preds\": 570.0}, {\"target\": 568.0, \"preds\": 624.25}, {\"target\": 573.0, \"preds\": 569.0}, {\"target\": 574.0, \"preds\": 568.5}, {\"target\": 564.0, \"preds\": 565.0}, {\"target\": 568.0, \"preds\": 569.0}, {\"target\": 569.0, \"preds\": 566.0}, {\"target\": 568.0, \"preds\": 571.5}, {\"target\": 562.0, \"preds\": 565.5}, {\"target\": 581.0, \"preds\": 621.75}, {\"target\": 600.0, \"preds\": 572.5}, {\"target\": 574.0, \"preds\": 570.0}, {\"target\": 581.0, \"preds\": 563.0}, {\"target\": 571.0, \"preds\": 566.5}, {\"target\": 559.0, \"preds\": 576.0}, {\"target\": 581.0, \"preds\": 597.0}, {\"target\": 567.0, \"preds\": 598.75}, {\"target\": 572.0, \"preds\": 589.5}, {\"target\": 567.0, \"preds\": 562.0}, {\"target\": 567.0, \"preds\": 575.0}, {\"target\": 568.0, \"preds\": 624.5}, {\"target\": 574.0, \"preds\": 571.5}, {\"target\": 564.0, \"preds\": 572.0}, {\"target\": 565.0, \"preds\": 571.0}, {\"target\": 565.0, \"preds\": 560.5}, {\"target\": 562.0, \"preds\": 568.5}, {\"target\": 573.0, \"preds\": 569.0}, {\"target\": 562.0, \"preds\": 569.5}, {\"target\": 562.0, \"preds\": 589.5}, {\"target\": 566.0, \"preds\": 573.5}, {\"target\": 576.0, \"preds\": 621.75}, {\"target\": 573.0, \"preds\": 578.5}, {\"target\": 565.0, \"preds\": 567.0}, {\"target\": 564.0, \"preds\": 571.5}, {\"target\": 565.0, \"preds\": 566.5}, {\"target\": 559.0, \"preds\": 603.75}, {\"target\": 560.0, \"preds\": 571.5}, {\"target\": 564.0, \"preds\": 583.0}, {\"target\": 581.0, \"preds\": 613.0}, {\"target\": 594.0, \"preds\": 596.0}, {\"target\": 565.0, \"preds\": 575.5}, {\"target\": 573.0, \"preds\": 568.0}, {\"target\": 564.0, \"preds\": 589.0}, {\"target\": 564.0, \"preds\": 574.5}, {\"target\": 564.0, \"preds\": 580.5}, {\"target\": 571.0, \"preds\": 568.5}, {\"target\": 566.0, \"preds\": 574.0}, {\"target\": 571.0, \"preds\": 561.0}, {\"target\": 581.0, \"preds\": 563.0}, {\"target\": 581.0, \"preds\": 624.5}, {\"target\": 563.0, \"preds\": 567.0}, {\"target\": 562.0, \"preds\": 586.0}, {\"target\": 564.0, \"preds\": 567.0}, {\"target\": 564.0, \"preds\": 578.0}, {\"target\": 564.0, \"preds\": 570.0}, {\"target\": 572.0, \"preds\": 568.0}, {\"target\": 564.0, \"preds\": 621.75}, {\"target\": 571.0, \"preds\": 565.0}, {\"target\": 574.0, \"preds\": 575.5}, {\"target\": 562.0, \"preds\": 602.75}, {\"target\": 565.0, \"preds\": 571.0}, {\"target\": 565.0, \"preds\": 578.5}, {\"target\": 562.0, \"preds\": 577.5}, {\"target\": 568.0, \"preds\": 563.0}, {\"target\": 571.0, \"preds\": 581.5}, {\"target\": 565.0, \"preds\": 618.75}, {\"target\": 562.0, \"preds\": 577.0}, {\"target\": 567.0, \"preds\": 575.0}, {\"target\": 565.0, \"preds\": 624.5}, {\"target\": 564.0, \"preds\": 571.0}, {\"target\": 574.0, \"preds\": 624.5}, {\"target\": 563.0, \"preds\": 579.0}, {\"target\": 568.0, \"preds\": 588.5}, {\"target\": 562.0, \"preds\": 594.5}, {\"target\": 564.0, \"preds\": 572.5}, {\"target\": 606.0, \"preds\": 562.5}, {\"target\": 571.0, \"preds\": 566.0}, {\"target\": 564.0, \"preds\": 592.0}, {\"target\": 568.0, \"preds\": 564.0}, {\"target\": 562.0, \"preds\": 601.25}, {\"target\": 564.0, \"preds\": 570.0}, {\"target\": 563.0, \"preds\": 569.5}, {\"target\": 574.0, \"preds\": 569.5}, {\"target\": 566.0, \"preds\": 576.5}, {\"target\": 564.0, \"preds\": 577.0}, {\"target\": 566.0, \"preds\": 569.5}, {\"target\": 563.0, \"preds\": 571.5}, {\"target\": 563.0, \"preds\": 596.5}, {\"target\": 565.0, \"preds\": 590.0}, {\"target\": 562.0, \"preds\": 601.0}, {\"target\": 563.0, \"preds\": 578.5}, {\"target\": 574.0, \"preds\": 569.5}, {\"target\": 567.0, \"preds\": 568.5}, {\"target\": 562.0, \"preds\": 584.0}, {\"target\": 565.0, \"preds\": 565.0}, {\"target\": 569.0, \"preds\": 568.5}, {\"target\": 568.0, \"preds\": 599.25}, {\"target\": 564.0, \"preds\": 595.0}, {\"target\": 563.0, \"preds\": 578.0}, {\"target\": 601.0, \"preds\": 590.5}, {\"target\": 566.0, \"preds\": 580.5}, {\"target\": 562.0, \"preds\": 573.0}, {\"target\": 564.0, \"preds\": 568.5}, {\"target\": 561.0, \"preds\": 571.0}, {\"target\": 563.0, \"preds\": 566.5}, {\"target\": 568.0, \"preds\": 576.0}, {\"target\": 571.0, \"preds\": 563.0}, {\"target\": 571.0, \"preds\": 571.0}, {\"target\": 571.0, \"preds\": 573.0}, {\"target\": 567.0, \"preds\": 624.5}, {\"target\": 562.0, \"preds\": 564.0}, {\"target\": 563.0, \"preds\": 603.5}, {\"target\": 562.0, \"preds\": 600.75}, {\"target\": 562.0, \"preds\": 572.5}, {\"target\": 566.0, \"preds\": 569.5}, {\"target\": 562.0, \"preds\": 577.5}, {\"target\": 562.0, \"preds\": 600.75}, {\"target\": 566.0, \"preds\": 614.5}, {\"target\": 583.0, \"preds\": 564.0}, {\"target\": 562.0, \"preds\": 568.5}, {\"target\": 564.0, \"preds\": 621.75}, {\"target\": 562.0, \"preds\": 564.0}, {\"target\": 564.0, \"preds\": 573.0}, {\"target\": 565.0, \"preds\": 592.0}, {\"target\": 562.0, \"preds\": 579.0}, {\"target\": 563.0, \"preds\": 579.5}, {\"target\": 562.0, \"preds\": 567.5}, {\"target\": 568.0, \"preds\": 569.0}, {\"target\": 568.0, \"preds\": 602.5}, {\"target\": 568.0, \"preds\": 582.0}, {\"target\": 562.0, \"preds\": 564.5}, {\"target\": 560.0, \"preds\": 563.0}, {\"target\": 594.0, \"preds\": 572.5}, {\"target\": 562.0, \"preds\": 569.5}, {\"target\": 571.0, \"preds\": 565.5}, {\"target\": 564.0, \"preds\": 579.5}, {\"target\": 566.0, \"preds\": 624.5}, {\"target\": 564.0, \"preds\": 569.5}, {\"target\": 567.0, \"preds\": 562.0}, {\"target\": 565.0, \"preds\": 565.5}, {\"target\": 574.0, \"preds\": 587.0}, {\"target\": 584.0, \"preds\": 564.0}, {\"target\": 571.0, \"preds\": 565.5}, {\"target\": 599.0, \"preds\": 571.5}, {\"target\": 573.0, \"preds\": 583.5}, {\"target\": 567.0, \"preds\": 585.0}, {\"target\": 564.0, \"preds\": 618.75}, {\"target\": 581.0, \"preds\": 573.5}, {\"target\": 565.0, \"preds\": 563.5}, {\"target\": 564.0, \"preds\": 624.5}, {\"target\": 567.0, \"preds\": 563.5}, {\"target\": 558.0, \"preds\": 577.5}, {\"target\": 565.0, \"preds\": 604.0}, {\"target\": 568.0, \"preds\": 591.0}, {\"target\": 574.0, \"preds\": 624.5}, {\"target\": 563.0, \"preds\": 569.5}, {\"target\": 573.0, \"preds\": 585.0}, {\"target\": 583.0, \"preds\": 597.0}, {\"target\": 568.0, \"preds\": 570.5}, {\"target\": 563.0, \"preds\": 566.0}, {\"target\": 568.0, \"preds\": 569.5}, {\"target\": 568.0, \"preds\": 571.0}, {\"target\": 562.0, \"preds\": 576.0}, {\"target\": 568.0, \"preds\": 573.0}, {\"target\": 564.0, \"preds\": 569.5}, {\"target\": 568.0, \"preds\": 571.0}, {\"target\": 563.0, \"preds\": 569.0}, {\"target\": 578.0, \"preds\": 590.5}, {\"target\": 565.0, \"preds\": 581.0}, {\"target\": 572.0, \"preds\": 563.0}, {\"target\": 581.0, \"preds\": 561.5}, {\"target\": 563.0, \"preds\": 562.5}, {\"target\": 568.0, \"preds\": 579.0}, {\"target\": 573.0, \"preds\": 578.5}, {\"target\": 569.0, \"preds\": 621.75}, {\"target\": 563.0, \"preds\": 590.5}, {\"target\": 571.0, \"preds\": 563.0}, {\"target\": 560.0, \"preds\": 624.5}, {\"target\": 606.0, \"preds\": 567.5}, {\"target\": 587.0, \"preds\": 612.25}, {\"target\": 558.0, \"preds\": 624.5}, {\"target\": 559.0, \"preds\": 618.25}, {\"target\": 562.0, \"preds\": 587.5}, {\"target\": 624.5, \"preds\": 579.0}, {\"target\": 563.0, \"preds\": 562.5}, {\"target\": 564.0, \"preds\": 576.0}, {\"target\": 562.0, \"preds\": 610.0}, {\"target\": 624.5, \"preds\": 565.0}, {\"target\": 565.0, \"preds\": 565.5}, {\"target\": 613.0, \"preds\": 566.0}, {\"target\": 562.0, \"preds\": 585.0}, {\"target\": 571.0, \"preds\": 624.5}, {\"target\": 587.0, \"preds\": 609.5}, {\"target\": 578.0, \"preds\": 565.0}, {\"target\": 587.0, \"preds\": 566.5}, {\"target\": 624.5, \"preds\": 624.5}, {\"target\": 613.0, \"preds\": 567.0}, {\"target\": 624.5, \"preds\": 586.0}, {\"target\": 573.0, \"preds\": 567.0}, {\"target\": 624.5, \"preds\": 569.5}, {\"target\": 624.5, \"preds\": 578.0}, {\"target\": 583.0, \"preds\": 567.0}, {\"target\": 597.0, \"preds\": 586.0}, {\"target\": 596.0, \"preds\": 566.0}, {\"target\": 618.0, \"preds\": 579.0}, {\"target\": 591.0, \"preds\": 568.0}, {\"target\": 598.0, \"preds\": 600.0}, {\"target\": 624.5, \"preds\": 567.0}, {\"target\": 624.5, \"preds\": 575.0}, {\"target\": 583.0, \"preds\": 572.5}, {\"target\": 565.0, \"preds\": 624.5}, {\"target\": 581.0, \"preds\": 567.5}, {\"target\": 587.0, \"preds\": 572.5}, {\"target\": 573.0, \"preds\": 567.5}, {\"target\": 580.0, \"preds\": 563.5}, {\"target\": 585.0, \"preds\": 577.5}, {\"target\": 596.0, \"preds\": 618.5}, {\"target\": 624.5, \"preds\": 596.5}, {\"target\": 594.0, \"preds\": 611.0}, {\"target\": 624.5, \"preds\": 567.5}, {\"target\": 581.0, \"preds\": 579.0}, {\"target\": 587.0, \"preds\": 607.25}, {\"target\": 612.0, \"preds\": 566.5}, {\"target\": 624.5, \"preds\": 575.0}, {\"target\": 596.0, \"preds\": 569.5}, {\"target\": 613.0, \"preds\": 570.0}, {\"target\": 624.5, \"preds\": 563.5}, {\"target\": 624.5, \"preds\": 580.5}, {\"target\": 624.5, \"preds\": 574.0}, {\"target\": 606.0, \"preds\": 562.0}, {\"target\": 624.5, \"preds\": 621.75}, {\"target\": 572.0, \"preds\": 624.5}, {\"target\": 591.0, \"preds\": 562.5}, {\"target\": 591.0, \"preds\": 599.25}, {\"target\": 572.0, \"preds\": 563.5}, {\"target\": 596.0, \"preds\": 601.0}, {\"target\": 624.5, \"preds\": 574.0}, {\"target\": 606.0, \"preds\": 583.0}, {\"target\": 624.5, \"preds\": 590.5}, {\"target\": 594.0, \"preds\": 581.0}, {\"target\": 624.5, \"preds\": 563.5}, {\"target\": 573.0, \"preds\": 603.75}, {\"target\": 624.5, \"preds\": 609.25}, {\"target\": 624.5, \"preds\": 565.5}, {\"target\": 609.0, \"preds\": 562.5}, {\"target\": 624.5, \"preds\": 569.0}, {\"target\": 624.5, \"preds\": 624.5}, {\"target\": 608.0, \"preds\": 569.5}, {\"target\": 624.5, \"preds\": 594.0}, {\"target\": 619.0, \"preds\": 582.5}, {\"target\": 619.0, \"preds\": 567.0}, {\"target\": 594.0, \"preds\": 566.0}, {\"target\": 624.5, \"preds\": 573.0}, {\"target\": 619.0, \"preds\": 571.0}, {\"target\": 606.0, \"preds\": 567.0}, {\"target\": 624.5, \"preds\": 564.0}, {\"target\": 624.5, \"preds\": 569.0}, {\"target\": 624.5, \"preds\": 563.5}, {\"target\": 606.0, \"preds\": 569.5}, {\"target\": 619.0, \"preds\": 600.0}, {\"target\": 624.5, \"preds\": 577.5}, {\"target\": 624.5, \"preds\": 616.75}, {\"target\": 624.5, \"preds\": 588.5}, {\"target\": 596.0, \"preds\": 624.5}, {\"target\": 588.0, \"preds\": 593.5}, {\"target\": 624.5, \"preds\": 615.25}, {\"target\": 624.5, \"preds\": 565.5}, {\"target\": 600.0, \"preds\": 621.75}, {\"target\": 624.5, \"preds\": 572.5}, {\"target\": 578.0, \"preds\": 569.0}, {\"target\": 624.5, \"preds\": 581.0}, {\"target\": 624.5, \"preds\": 568.0}, {\"target\": 624.5, \"preds\": 603.0}, {\"target\": 572.0, \"preds\": 577.5}, {\"target\": 578.0, \"preds\": 565.0}, {\"target\": 624.5, \"preds\": 574.0}, {\"target\": 624.5, \"preds\": 571.5}, {\"target\": 596.0, \"preds\": 581.5}, {\"target\": 624.5, \"preds\": 569.5}, {\"target\": 600.0, \"preds\": 585.5}, {\"target\": 574.0, \"preds\": 572.5}, {\"target\": 588.0, \"preds\": 613.75}, {\"target\": 624.5, \"preds\": 583.0}, {\"target\": 587.0, \"preds\": 570.0}, {\"target\": 619.0, \"preds\": 575.5}, {\"target\": 624.5, \"preds\": 570.0}, {\"target\": 619.0, \"preds\": 566.0}, {\"target\": 624.5, \"preds\": 573.0}, {\"target\": 624.5, \"preds\": 572.0}, {\"target\": 582.0, \"preds\": 563.5}, {\"target\": 581.0, \"preds\": 581.5}, {\"target\": 596.0, \"preds\": 577.0}, {\"target\": 624.5, \"preds\": 574.0}, {\"target\": 594.0, \"preds\": 579.5}, {\"target\": 624.5, \"preds\": 566.0}, {\"target\": 590.0, \"preds\": 608.25}, {\"target\": 624.5, \"preds\": 572.0}, {\"target\": 590.0, \"preds\": 563.0}, {\"target\": 624.5, \"preds\": 597.0}, {\"target\": 578.0, \"preds\": 569.0}, {\"target\": 565.0, \"preds\": 572.5}, {\"target\": 619.0, \"preds\": 565.0}, {\"target\": 606.0, \"preds\": 624.5}, {\"target\": 624.5, \"preds\": 562.5}, {\"target\": 624.5, \"preds\": 564.0}, {\"target\": 606.0, \"preds\": 624.5}, {\"target\": 581.0, \"preds\": 571.5}, {\"target\": 624.5, \"preds\": 591.5}, {\"target\": 600.0, \"preds\": 574.0}, {\"target\": 624.5, \"preds\": 575.0}, {\"target\": 564.0, \"preds\": 563.5}, {\"target\": 574.0, \"preds\": 563.0}, {\"target\": 600.0, \"preds\": 568.0}, {\"target\": 596.0, \"preds\": 594.0}, {\"target\": 576.0, \"preds\": 616.75}, {\"target\": 597.0, \"preds\": 576.0}, {\"target\": 566.0, \"preds\": 565.0}, {\"target\": 624.5, \"preds\": 563.5}, {\"target\": 604.0, \"preds\": 624.5}, {\"target\": 624.5, \"preds\": 569.5}, {\"target\": 624.5, \"preds\": 624.5}, {\"target\": 624.5, \"preds\": 571.0}, {\"target\": 624.5, \"preds\": 576.0}, {\"target\": 624.5, \"preds\": 564.0}, {\"target\": 585.0, \"preds\": 570.0}, {\"target\": 624.5, \"preds\": 610.25}, {\"target\": 606.0, \"preds\": 624.5}, {\"target\": 624.5, \"preds\": 572.0}, {\"target\": 624.5, \"preds\": 568.0}, {\"target\": 614.0, \"preds\": 582.0}, {\"target\": 597.0, \"preds\": 564.5}, {\"target\": 624.5, \"preds\": 577.0}, {\"target\": 597.0, \"preds\": 565.0}, {\"target\": 587.0, \"preds\": 581.0}, {\"target\": 597.0, \"preds\": 564.0}, {\"target\": 568.0, \"preds\": 567.5}, {\"target\": 624.5, \"preds\": 589.5}, {\"target\": 594.0, \"preds\": 563.0}, {\"target\": 609.0, \"preds\": 622.5}, {\"target\": 586.0, \"preds\": 565.0}, {\"target\": 600.0, \"preds\": 577.5}, {\"target\": 613.0, \"preds\": 567.5}, {\"target\": 601.0, \"preds\": 573.5}, {\"target\": 624.0, \"preds\": 577.0}, {\"target\": 624.5, \"preds\": 569.0}, {\"target\": 624.5, \"preds\": 573.0}, {\"target\": 624.5, \"preds\": 579.5}, {\"target\": 613.0, \"preds\": 564.5}, {\"target\": 624.5, \"preds\": 569.5}, {\"target\": 624.5, \"preds\": 600.0}, {\"target\": 624.5, \"preds\": 583.0}, {\"target\": 619.0, \"preds\": 571.0}, {\"target\": 601.0, \"preds\": 573.5}, {\"target\": 624.5, \"preds\": 624.5}, {\"target\": 624.5, \"preds\": 570.5}, {\"target\": 624.5, \"preds\": 574.5}, {\"target\": 624.5, \"preds\": 567.5}, {\"target\": 609.0, \"preds\": 563.5}, {\"target\": 590.0, \"preds\": 624.5}, {\"target\": 624.5, \"preds\": 590.0}, {\"target\": 624.5, \"preds\": 571.0}, {\"target\": 624.5, \"preds\": 565.5}, {\"target\": 624.5, \"preds\": 586.5}, {\"target\": 624.5, \"preds\": 618.75}, {\"target\": 578.0, \"preds\": 624.5}, {\"target\": 580.0, \"preds\": 564.0}, {\"target\": 624.5, \"preds\": 624.5}, {\"target\": 579.0, \"preds\": 574.0}, {\"target\": 624.5, \"preds\": 568.0}, {\"target\": 624.5, \"preds\": 572.0}, {\"target\": 613.0, \"preds\": 573.0}, {\"target\": 594.0, \"preds\": 609.25}, {\"target\": 619.0, \"preds\": 600.0}, {\"target\": 619.0, \"preds\": 616.75}, {\"target\": 609.0, \"preds\": 586.0}, {\"target\": 580.0, \"preds\": 618.75}, {\"target\": 624.5, \"preds\": 624.5}, {\"target\": 606.0, \"preds\": 583.0}, {\"target\": 606.0, \"preds\": 565.5}, {\"target\": 624.5, \"preds\": 603.0}, {\"target\": 609.0, \"preds\": 572.0}, {\"target\": 606.0, \"preds\": 573.5}, {\"target\": 619.0, \"preds\": 564.0}, {\"target\": 569.0, \"preds\": 573.0}, {\"target\": 619.0, \"preds\": 566.5}, {\"target\": 599.0, \"preds\": 566.0}, {\"target\": 624.5, \"preds\": 561.5}, {\"target\": 617.0, \"preds\": 612.5}, {\"target\": 624.5, \"preds\": 569.0}, {\"target\": 606.0, \"preds\": 624.5}, {\"target\": 585.0, \"preds\": 589.5}, {\"target\": 597.0, \"preds\": 602.0}, {\"target\": 624.5, \"preds\": 566.0}, {\"target\": 613.0, \"preds\": 562.5}, {\"target\": 624.5, \"preds\": 615.25}, {\"target\": 624.5, \"preds\": 570.0}, {\"target\": 624.5, \"preds\": 572.0}, {\"target\": 591.0, \"preds\": 563.5}, {\"target\": 624.5, \"preds\": 571.5}, {\"target\": 624.5, \"preds\": 604.5}, {\"target\": 624.5, \"preds\": 568.0}, {\"target\": 624.5, \"preds\": 613.5}, {\"target\": 565.0, \"preds\": 566.0}, {\"target\": 624.5, \"preds\": 564.5}, {\"target\": 624.5, \"preds\": 578.5}, {\"target\": 624.5, \"preds\": 579.5}, {\"target\": 624.5, \"preds\": 569.0}, {\"target\": 624.5, \"preds\": 624.5}, {\"target\": 587.0, \"preds\": 572.5}, {\"target\": 624.5, \"preds\": 561.0}, {\"target\": 624.5, \"preds\": 572.0}, {\"target\": 579.0, \"preds\": 578.0}, {\"target\": 578.0, \"preds\": 584.0}, {\"target\": 624.5, \"preds\": 564.0}, {\"target\": 624.5, \"preds\": 583.0}, {\"target\": 624.5, \"preds\": 569.5}, {\"target\": 581.0, \"preds\": 580.5}, {\"target\": 574.0, \"preds\": 587.5}, {\"target\": 606.0, \"preds\": 564.0}, {\"target\": 574.0, \"preds\": 615.25}, {\"target\": 587.0, \"preds\": 574.5}, {\"target\": 599.0, \"preds\": 571.5}, {\"target\": 624.5, \"preds\": 566.0}, {\"target\": 613.0, \"preds\": 570.5}, {\"target\": 600.0, \"preds\": 575.5}, {\"target\": 624.5, \"preds\": 600.0}, {\"target\": 600.0, \"preds\": 579.5}, {\"target\": 566.0, \"preds\": 575.0}, {\"target\": 624.5, \"preds\": 571.0}, {\"target\": 624.5, \"preds\": 568.0}, {\"target\": 587.0, \"preds\": 574.0}, {\"target\": 624.5, \"preds\": 563.5}, {\"target\": 601.0, \"preds\": 575.0}, {\"target\": 624.5, \"preds\": 618.75}, {\"target\": 624.5, \"preds\": 561.0}, {\"target\": 565.0, \"preds\": 590.5}, {\"target\": 619.0, \"preds\": 571.5}, {\"target\": 561.0, \"preds\": 564.5}, {\"target\": 596.0, \"preds\": 597.0}, {\"target\": 619.0, \"preds\": 571.5}, {\"target\": 582.0, \"preds\": 597.0}, {\"target\": 590.0, \"preds\": 563.0}, {\"target\": 565.0, \"preds\": 563.5}, {\"target\": 624.5, \"preds\": 565.5}, {\"target\": 574.0, \"preds\": 565.0}, {\"target\": 624.5, \"preds\": 569.5}, {\"target\": 624.5, \"preds\": 565.5}, {\"target\": 594.0, \"preds\": 566.0}, {\"target\": 624.5, \"preds\": 569.0}, {\"target\": 581.0, \"preds\": 561.0}, {\"target\": 624.5, \"preds\": 561.5}, {\"target\": 624.5, \"preds\": 562.5}, {\"target\": 578.0, \"preds\": 570.5}, {\"target\": 617.0, \"preds\": 578.0}, {\"target\": 568.0, \"preds\": 568.5}, {\"target\": 596.0, \"preds\": 561.5}, {\"target\": 596.0, \"preds\": 563.0}, {\"target\": 583.0, \"preds\": 565.5}, {\"target\": 562.0, \"preds\": 563.0}, {\"target\": 574.0, \"preds\": 563.5}, {\"target\": 606.0, \"preds\": 561.5}, {\"target\": 591.0, \"preds\": 588.5}, {\"target\": 613.0, \"preds\": 575.5}, {\"target\": 624.5, \"preds\": 575.5}, {\"target\": 624.5, \"preds\": 569.5}, {\"target\": 606.0, \"preds\": 566.0}, {\"target\": 624.5, \"preds\": 565.5}, {\"target\": 576.0, \"preds\": 563.5}, {\"target\": 586.0, \"preds\": 574.0}, {\"target\": 590.0, \"preds\": 572.5}, {\"target\": 622.0, \"preds\": 564.0}, {\"target\": 609.0, \"preds\": 564.0}, {\"target\": 624.5, \"preds\": 563.0}, {\"target\": 621.0, \"preds\": 569.0}, {\"target\": 624.5, \"preds\": 566.5}, {\"target\": 624.5, \"preds\": 563.5}, {\"target\": 585.0, \"preds\": 566.0}, {\"target\": 613.0, \"preds\": 562.0}, {\"target\": 624.5, \"preds\": 566.5}, {\"target\": 583.0, \"preds\": 587.0}, {\"target\": 624.5, \"preds\": 562.0}, {\"target\": 608.0, \"preds\": 600.0}, {\"target\": 624.5, \"preds\": 599.25}, {\"target\": 624.5, \"preds\": 569.0}, {\"target\": 623.0, \"preds\": 563.5}, {\"target\": 624.5, \"preds\": 566.0}, {\"target\": 617.0, \"preds\": 565.0}, {\"target\": 605.0, \"preds\": 561.0}, {\"target\": 624.5, \"preds\": 573.0}, {\"target\": 587.0, \"preds\": 561.0}, {\"target\": 624.5, \"preds\": 563.5}, {\"target\": 600.0, \"preds\": 570.5}, {\"target\": 624.5, \"preds\": 566.0}, {\"target\": 574.0, \"preds\": 577.5}, {\"target\": 605.0, \"preds\": 569.5}, {\"target\": 624.5, \"preds\": 576.5}, {\"target\": 624.5, \"preds\": 561.5}, {\"target\": 624.5, \"preds\": 568.0}, {\"target\": 588.0, \"preds\": 577.0}, {\"target\": 609.0, \"preds\": 569.5}, {\"target\": 624.5, \"preds\": 600.0}, {\"target\": 613.0, \"preds\": 564.0}, {\"target\": 624.5, \"preds\": 572.5}, {\"target\": 624.5, \"preds\": 573.5}, {\"target\": 581.0, \"preds\": 588.5}, {\"target\": 567.0, \"preds\": 575.5}, {\"target\": 624.5, \"preds\": 581.0}, {\"target\": 624.5, \"preds\": 563.5}, {\"target\": 624.5, \"preds\": 581.0}, {\"target\": 624.5, \"preds\": 570.0}, {\"target\": 624.5, \"preds\": 569.5}, {\"target\": 624.5, \"preds\": 573.0}, {\"target\": 624.5, \"preds\": 563.0}, {\"target\": 624.5, \"preds\": 574.0}, {\"target\": 624.5, \"preds\": 563.5}, {\"target\": 624.5, \"preds\": 568.5}, {\"target\": 624.5, \"preds\": 566.5}, {\"target\": 624.5, \"preds\": 599.25}, {\"target\": 624.5, \"preds\": 579.0}, {\"target\": 624.5, \"preds\": 579.5}, {\"target\": 606.0, \"preds\": 566.0}, {\"target\": 614.0, \"preds\": 572.5}, {\"target\": 624.5, \"preds\": 566.0}, {\"target\": 624.5, \"preds\": 624.5}, {\"target\": 624.5, \"preds\": 615.25}, {\"target\": 573.0, \"preds\": 592.0}, {\"target\": 624.5, \"preds\": 594.5}, {\"target\": 624.5, \"preds\": 617.25}, {\"target\": 569.0, \"preds\": 617.5}, {\"target\": 619.0, \"preds\": 602.5}, {\"target\": 600.0, \"preds\": 624.5}, {\"target\": 622.0, \"preds\": 624.5}, {\"target\": 578.0, \"preds\": 618.75}, {\"target\": 594.0, \"preds\": 593.0}, {\"target\": 624.5, \"preds\": 615.5}, {\"target\": 624.5, \"preds\": 603.0}, {\"target\": 586.0, \"preds\": 624.5}, {\"target\": 624.5, \"preds\": 586.0}, {\"target\": 624.5, \"preds\": 617.25}, {\"target\": 613.0, \"preds\": 624.5}, {\"target\": 576.0, \"preds\": 595.5}, {\"target\": 624.5, \"preds\": 597.0}, {\"target\": 624.5, \"preds\": 624.5}, {\"target\": 624.5, \"preds\": 601.5}, {\"target\": 624.5, \"preds\": 603.0}, {\"target\": 624.5, \"preds\": 603.0}, {\"target\": 600.0, \"preds\": 599.0}, {\"target\": 581.0, \"preds\": 624.5}, {\"target\": 587.0, \"preds\": 579.5}, {\"target\": 624.5, \"preds\": 588.0}, {\"target\": 588.0, \"preds\": 618.5}, {\"target\": 597.0, \"preds\": 624.5}, {\"target\": 624.5, \"preds\": 590.0}, {\"target\": 603.0, \"preds\": 624.5}, {\"target\": 590.0, \"preds\": 589.5}, {\"target\": 601.0, \"preds\": 593.0}, {\"target\": 586.0, \"preds\": 624.5}, {\"target\": 624.5, \"preds\": 624.5}, {\"target\": 624.5, \"preds\": 577.5}, {\"target\": 579.0, \"preds\": 624.5}, {\"target\": 624.5, \"preds\": 581.5}, {\"target\": 586.0, \"preds\": 608.0}, {\"target\": 624.5, \"preds\": 624.5}, {\"target\": 619.0, \"preds\": 609.25}, {\"target\": 624.5, \"preds\": 601.25}, {\"target\": 606.0, \"preds\": 590.5}, {\"target\": 624.5, \"preds\": 624.5}, {\"target\": 573.0, \"preds\": 624.5}, {\"target\": 619.0, \"preds\": 610.25}, {\"target\": 610.0, \"preds\": 617.25}, {\"target\": 624.5, \"preds\": 624.5}, {\"target\": 600.0, \"preds\": 577.5}, {\"target\": 597.0, \"preds\": 570.0}, {\"target\": 615.0, \"preds\": 590.5}, {\"target\": 601.0, \"preds\": 602.75}, {\"target\": 606.0, \"preds\": 589.5}, {\"target\": 596.0, \"preds\": 588.5}, {\"target\": 577.0, \"preds\": 582.5}, {\"target\": 624.5, \"preds\": 587.0}, {\"target\": 624.5, \"preds\": 591.5}, {\"target\": 600.0, \"preds\": 624.5}, {\"target\": 606.0, \"preds\": 624.5}, {\"target\": 615.0, \"preds\": 610.0}, {\"target\": 619.0, \"preds\": 593.5}, {\"target\": 565.0, \"preds\": 624.5}, {\"target\": 589.0, \"preds\": 607.25}, {\"target\": 613.0, \"preds\": 624.5}, {\"target\": 604.0, \"preds\": 624.5}, {\"target\": 624.5, \"preds\": 624.5}, {\"target\": 606.0, \"preds\": 611.75}, {\"target\": 624.5, \"preds\": 591.5}, {\"target\": 624.5, \"preds\": 624.5}, {\"target\": 624.5, \"preds\": 621.25}, {\"target\": 606.0, \"preds\": 624.5}, {\"target\": 622.0, \"preds\": 592.0}, {\"target\": 624.5, \"preds\": 577.5}, {\"target\": 624.5, \"preds\": 597.5}, {\"target\": 619.0, \"preds\": 624.5}, {\"target\": 624.0, \"preds\": 579.5}, {\"target\": 624.5, \"preds\": 610.75}, {\"target\": 624.5, \"preds\": 588.5}, {\"target\": 610.0, \"preds\": 624.5}, {\"target\": 581.0, \"preds\": 595.5}, {\"target\": 624.5, \"preds\": 605.75}, {\"target\": 624.5, \"preds\": 624.5}, {\"target\": 587.0, \"preds\": 589.0}, {\"target\": 624.5, \"preds\": 586.5}, {\"target\": 624.5, \"preds\": 624.5}, {\"target\": 578.0, \"preds\": 624.5}, {\"target\": 624.5, \"preds\": 624.5}, {\"target\": 613.0, \"preds\": 624.5}, {\"target\": 605.0, \"preds\": 601.5}, {\"target\": 571.0, \"preds\": 624.5}, {\"target\": 624.5, \"preds\": 616.75}, {\"target\": 624.5, \"preds\": 624.5}, {\"target\": 624.5, \"preds\": 624.5}, {\"target\": 587.0, \"preds\": 620.75}, {\"target\": 624.5, \"preds\": 609.5}, {\"target\": 624.5, \"preds\": 588.0}, {\"target\": 624.5, \"preds\": 601.25}, {\"target\": 587.0, \"preds\": 602.75}, {\"target\": 600.0, \"preds\": 573.0}, {\"target\": 590.0, \"preds\": 609.5}, {\"target\": 587.0, \"preds\": 624.5}, {\"target\": 624.5, \"preds\": 609.25}, {\"target\": 622.0, \"preds\": 601.0}, {\"target\": 624.5, \"preds\": 610.75}, {\"target\": 624.5, \"preds\": 617.25}, {\"target\": 594.0, \"preds\": 621.75}, {\"target\": 581.0, \"preds\": 593.5}, {\"target\": 624.5, \"preds\": 603.5}, {\"target\": 606.0, \"preds\": 624.5}, {\"target\": 582.0, \"preds\": 624.5}, {\"target\": 610.0, \"preds\": 624.5}, {\"target\": 624.5, \"preds\": 603.0}, {\"target\": 624.5, \"preds\": 624.5}, {\"target\": 564.0, \"preds\": 604.5}, {\"target\": 582.0, \"preds\": 615.25}, {\"target\": 614.0, \"preds\": 624.5}, {\"target\": 624.5, \"preds\": 624.5}, {\"target\": 574.0, \"preds\": 618.75}, {\"target\": 624.5, \"preds\": 582.5}, {\"target\": 624.5, \"preds\": 624.5}, {\"target\": 624.5, \"preds\": 624.5}, {\"target\": 624.5, \"preds\": 607.25}, {\"target\": 624.5, \"preds\": 592.0}, {\"target\": 572.0, \"preds\": 600.0}, {\"target\": 624.5, \"preds\": 624.5}, {\"target\": 624.5, \"preds\": 624.5}, {\"target\": 624.5, \"preds\": 591.5}, {\"target\": 624.5, \"preds\": 618.75}, {\"target\": 622.0, \"preds\": 570.0}, {\"target\": 572.0, \"preds\": 624.5}, {\"target\": 613.0, \"preds\": 603.75}, {\"target\": 624.5, \"preds\": 577.0}, {\"target\": 624.5, \"preds\": 565.0}, {\"target\": 608.0, \"preds\": 593.5}, {\"target\": 590.0, \"preds\": 569.0}, {\"target\": 624.5, \"preds\": 601.5}, {\"target\": 624.5, \"preds\": 578.0}, {\"target\": 563.0, \"preds\": 564.5}, {\"target\": 610.0, \"preds\": 569.5}, {\"target\": 624.5, \"preds\": 585.5}, {\"target\": 624.5, \"preds\": 581.0}, {\"target\": 624.5, \"preds\": 569.5}, {\"target\": 624.5, \"preds\": 575.5}, {\"target\": 574.0, \"preds\": 571.0}, {\"target\": 572.0, \"preds\": 572.0}, {\"target\": 582.0, \"preds\": 577.0}, {\"target\": 580.0, \"preds\": 571.0}, {\"target\": 624.5, \"preds\": 562.5}, {\"target\": 594.0, \"preds\": 576.5}, {\"target\": 624.5, \"preds\": 573.0}, {\"target\": 624.5, \"preds\": 564.0}, {\"target\": 583.0, \"preds\": 568.5}, {\"target\": 577.0, \"preds\": 624.5}, {\"target\": 624.5, \"preds\": 594.75}, {\"target\": 619.0, \"preds\": 585.0}, {\"target\": 579.0, \"preds\": 594.0}, {\"target\": 624.5, \"preds\": 577.0}, {\"target\": 594.0, \"preds\": 568.5}, {\"target\": 574.0, \"preds\": 577.0}, {\"target\": 619.0, \"preds\": 574.5}, {\"target\": 624.5, \"preds\": 570.0}, {\"target\": 574.0, \"preds\": 585.0}, {\"target\": 624.5, \"preds\": 575.5}, {\"target\": 624.5, \"preds\": 612.25}, {\"target\": 571.0, \"preds\": 590.5}, {\"target\": 581.0, \"preds\": 624.25}, {\"target\": 624.5, \"preds\": 566.5}, {\"target\": 600.0, \"preds\": 569.0}, {\"target\": 619.0, \"preds\": 576.0}, {\"target\": 576.0, \"preds\": 569.0}, {\"target\": 624.5, \"preds\": 624.5}, {\"target\": 605.0, \"preds\": 582.0}, {\"target\": 624.5, \"preds\": 572.5}, {\"target\": 587.0, \"preds\": 581.5}, {\"target\": 587.0, \"preds\": 572.5}, {\"target\": 582.0, \"preds\": 573.5}, {\"target\": 624.5, \"preds\": 572.5}, {\"target\": 624.5, \"preds\": 565.0}, {\"target\": 624.5, \"preds\": 594.25}, {\"target\": 578.0, \"preds\": 569.0}, {\"target\": 624.5, \"preds\": 624.25}, {\"target\": 604.0, \"preds\": 566.0}, {\"target\": 624.5, \"preds\": 581.0}, {\"target\": 624.5, \"preds\": 593.5}, {\"target\": 582.0, \"preds\": 575.5}, {\"target\": 599.0, \"preds\": 572.5}, {\"target\": 622.0, \"preds\": 582.0}, {\"target\": 624.5, \"preds\": 573.5}, {\"target\": 624.5, \"preds\": 564.5}, {\"target\": 613.0, \"preds\": 569.5}, {\"target\": 583.0, \"preds\": 562.5}, {\"target\": 596.0, \"preds\": 581.5}, {\"target\": 599.0, \"preds\": 577.0}, {\"target\": 624.5, \"preds\": 572.5}, {\"target\": 585.0, \"preds\": 568.0}, {\"target\": 581.0, \"preds\": 621.75}, {\"target\": 574.0, \"preds\": 595.0}, {\"target\": 624.5, \"preds\": 605.75}, {\"target\": 618.0, \"preds\": 572.5}, {\"target\": 599.0, \"preds\": 571.0}, {\"target\": 586.0, \"preds\": 567.0}, {\"target\": 624.5, \"preds\": 587.5}, {\"target\": 596.0, \"preds\": 572.5}, {\"target\": 586.0, \"preds\": 581.5}, {\"target\": 624.5, \"preds\": 586.5}, {\"target\": 624.5, \"preds\": 568.5}, {\"target\": 624.5, \"preds\": 601.0}, {\"target\": 587.0, \"preds\": 568.0}, {\"target\": 624.5, \"preds\": 616.75}, {\"target\": 588.0, \"preds\": 569.5}, {\"target\": 590.0, \"preds\": 567.5}, {\"target\": 588.0, \"preds\": 575.5}, {\"target\": 571.0, \"preds\": 565.0}, {\"target\": 624.5, \"preds\": 564.5}, {\"target\": 624.5, \"preds\": 563.0}, {\"target\": 624.5, \"preds\": 577.5}, {\"target\": 624.5, \"preds\": 574.5}, {\"target\": 581.0, \"preds\": 568.5}, {\"target\": 583.0, \"preds\": 579.5}, {\"target\": 596.0, \"preds\": 577.0}, {\"target\": 581.0, \"preds\": 572.5}, {\"target\": 564.0, \"preds\": 583.0}, {\"target\": 624.5, \"preds\": 574.0}, {\"target\": 579.0, \"preds\": 600.0}, {\"target\": 624.5, \"preds\": 574.0}, {\"target\": 624.5, \"preds\": 616.75}, {\"target\": 624.5, \"preds\": 572.5}, {\"target\": 594.0, \"preds\": 562.0}, {\"target\": 624.5, \"preds\": 569.5}, {\"target\": 583.0, \"preds\": 573.5}, {\"target\": 600.0, \"preds\": 581.0}, {\"target\": 615.0, \"preds\": 564.0}, {\"target\": 595.0, \"preds\": 571.5}, {\"target\": 624.5, \"preds\": 568.5}, {\"target\": 624.5, \"preds\": 597.0}, {\"target\": 624.5, \"preds\": 571.0}, {\"target\": 624.5, \"preds\": 578.5}, {\"target\": 624.5, \"preds\": 585.0}, {\"target\": 624.5, \"preds\": 574.5}, {\"target\": 624.5, \"preds\": 612.25}, {\"target\": 624.5, \"preds\": 570.0}, {\"target\": 601.0, \"preds\": 565.0}, {\"target\": 624.5, \"preds\": 585.0}, {\"target\": 624.5, \"preds\": 577.0}, {\"target\": 599.0, \"preds\": 580.5}, {\"target\": 613.0, \"preds\": 571.0}, {\"target\": 573.0, \"preds\": 562.0}, {\"target\": 624.5, \"preds\": 574.0}, {\"target\": 564.0, \"preds\": 572.5}, {\"target\": 624.5, \"preds\": 565.5}, {\"target\": 624.5, \"preds\": 591.5}, {\"target\": 609.0, \"preds\": 584.0}, {\"target\": 590.0, \"preds\": 579.5}, {\"target\": 624.5, \"preds\": 605.75}, {\"target\": 577.0, \"preds\": 563.5}, {\"target\": 594.0, \"preds\": 567.5}, {\"target\": 613.0, \"preds\": 612.25}, {\"target\": 624.5, \"preds\": 572.0}, {\"target\": 587.0, \"preds\": 571.5}, {\"target\": 624.5, \"preds\": 569.5}, {\"target\": 624.5, \"preds\": 584.0}, {\"target\": 581.0, \"preds\": 592.5}, {\"target\": 600.0, \"preds\": 578.0}, {\"target\": 624.5, \"preds\": 585.5}, {\"target\": 624.5, \"preds\": 575.5}, {\"target\": 624.5, \"preds\": 598.75}, {\"target\": 613.0, \"preds\": 585.5}, {\"target\": 604.0, \"preds\": 590.5}, {\"target\": 583.0, \"preds\": 565.5}, {\"target\": 624.5, \"preds\": 579.5}, {\"target\": 619.0, \"preds\": 578.5}, {\"target\": 606.0, \"preds\": 578.5}, {\"target\": 624.5, \"preds\": 564.0}, {\"target\": 624.5, \"preds\": 564.0}, {\"target\": 624.5, \"preds\": 567.0}, {\"target\": 600.0, \"preds\": 564.0}, {\"target\": 624.5, \"preds\": 589.0}, {\"target\": 624.5, \"preds\": 575.0}, {\"target\": 569.0, \"preds\": 578.0}, {\"target\": 577.0, \"preds\": 599.75}, {\"target\": 582.0, \"preds\": 616.75}, {\"target\": 568.0, \"preds\": 624.5}, {\"target\": 572.0, \"preds\": 569.5}, {\"target\": 565.0, \"preds\": 605.75}, {\"target\": 577.0, \"preds\": 575.5}, {\"target\": 587.0, \"preds\": 610.25}, {\"target\": 569.0, \"preds\": 593.0}, {\"target\": 565.0, \"preds\": 578.5}, {\"target\": 567.0, \"preds\": 582.5}, {\"target\": 572.0, \"preds\": 579.0}, {\"target\": 572.0, \"preds\": 578.0}, {\"target\": 572.0, \"preds\": 608.25}, {\"target\": 574.0, \"preds\": 590.0}, {\"target\": 574.0, \"preds\": 571.0}, {\"target\": 564.0, \"preds\": 569.5}, {\"target\": 587.0, \"preds\": 602.5}, {\"target\": 577.0, \"preds\": 573.5}, {\"target\": 565.0, \"preds\": 602.75}, {\"target\": 574.0, \"preds\": 624.5}, {\"target\": 587.0, \"preds\": 598.0}, {\"target\": 574.0, \"preds\": 598.75}, {\"target\": 561.0, \"preds\": 618.75}, {\"target\": 562.0, \"preds\": 592.0}, {\"target\": 576.0, \"preds\": 588.0}, {\"target\": 564.0, \"preds\": 587.5}, {\"target\": 571.0, \"preds\": 608.25}, {\"target\": 568.0, \"preds\": 585.5}, {\"target\": 578.0, \"preds\": 569.5}, {\"target\": 591.0, \"preds\": 610.0}, {\"target\": 571.0, \"preds\": 567.5}, {\"target\": 572.0, \"preds\": 593.5}, {\"target\": 619.0, \"preds\": 579.5}, {\"target\": 564.0, \"preds\": 605.75}, {\"target\": 594.0, \"preds\": 624.5}, {\"target\": 568.0, \"preds\": 605.75}, {\"target\": 574.0, \"preds\": 624.5}, {\"target\": 565.0, \"preds\": 575.5}, {\"target\": 567.0, \"preds\": 587.5}, {\"target\": 585.0, \"preds\": 591.0}, {\"target\": 594.0, \"preds\": 572.0}, {\"target\": 565.0, \"preds\": 578.0}, {\"target\": 576.0, \"preds\": 568.5}, {\"target\": 565.0, \"preds\": 572.0}, {\"target\": 581.0, \"preds\": 575.5}, {\"target\": 624.5, \"preds\": 579.5}, {\"target\": 624.5, \"preds\": 579.0}, {\"target\": 577.0, \"preds\": 597.0}, {\"target\": 563.0, \"preds\": 585.5}, {\"target\": 576.0, \"preds\": 571.5}, {\"target\": 567.0, \"preds\": 609.25}, {\"target\": 565.0, \"preds\": 624.5}, {\"target\": 574.0, \"preds\": 624.5}, {\"target\": 571.0, \"preds\": 609.25}, {\"target\": 568.0, \"preds\": 574.0}, {\"target\": 576.0, \"preds\": 574.5}, {\"target\": 574.0, \"preds\": 593.5}, {\"target\": 560.0, \"preds\": 563.5}, {\"target\": 571.0, \"preds\": 564.5}, {\"target\": 567.0, \"preds\": 598.75}, {\"target\": 624.5, \"preds\": 571.5}, {\"target\": 569.0, \"preds\": 564.0}, {\"target\": 571.0, \"preds\": 577.0}, {\"target\": 596.0, \"preds\": 596.0}, {\"target\": 574.0, \"preds\": 566.5}, {\"target\": 582.0, \"preds\": 576.5}, {\"target\": 571.0, \"preds\": 624.5}, {\"target\": 564.0, \"preds\": 567.0}, {\"target\": 574.0, \"preds\": 562.5}, {\"target\": 570.0, \"preds\": 607.25}, {\"target\": 574.0, \"preds\": 607.25}, {\"target\": 580.0, \"preds\": 567.0}, {\"target\": 617.0, \"preds\": 562.0}, {\"target\": 564.0, \"preds\": 572.0}, {\"target\": 574.0, \"preds\": 566.5}, {\"target\": 564.0, \"preds\": 574.5}, {\"target\": 567.0, \"preds\": 576.5}, {\"target\": 565.0, \"preds\": 575.0}, {\"target\": 600.0, \"preds\": 564.0}, {\"target\": 576.0, \"preds\": 602.75}, {\"target\": 561.0, \"preds\": 624.5}, {\"target\": 576.0, \"preds\": 576.5}, {\"target\": 568.0, \"preds\": 574.5}, {\"target\": 565.0, \"preds\": 573.0}, {\"target\": 563.0, \"preds\": 567.5}, {\"target\": 568.0, \"preds\": 564.5}, {\"target\": 624.5, \"preds\": 574.0}, {\"target\": 574.0, \"preds\": 574.5}, {\"target\": 603.0, \"preds\": 574.5}, {\"target\": 563.0, \"preds\": 576.5}, {\"target\": 577.0, \"preds\": 602.0}, {\"target\": 565.0, \"preds\": 567.5}, {\"target\": 565.0, \"preds\": 572.5}, {\"target\": 567.0, \"preds\": 574.5}, {\"target\": 572.0, \"preds\": 563.5}, {\"target\": 567.0, \"preds\": 568.5}, {\"target\": 564.0, \"preds\": 577.5}, {\"target\": 571.0, \"preds\": 567.5}, {\"target\": 624.5, \"preds\": 570.0}, {\"target\": 566.0, \"preds\": 571.5}, {\"target\": 578.0, \"preds\": 573.5}, {\"target\": 577.0, \"preds\": 571.0}, {\"target\": 564.0, \"preds\": 569.5}, {\"target\": 570.0, \"preds\": 567.5}, {\"target\": 583.0, \"preds\": 572.5}, {\"target\": 572.0, \"preds\": 582.0}, {\"target\": 581.0, \"preds\": 605.0}, {\"target\": 568.0, \"preds\": 576.0}, {\"target\": 574.0, \"preds\": 600.25}, {\"target\": 565.0, \"preds\": 581.5}, {\"target\": 571.0, \"preds\": 573.0}, {\"target\": 581.0, \"preds\": 615.25}, {\"target\": 581.0, \"preds\": 568.0}, {\"target\": 565.0, \"preds\": 574.5}, {\"target\": 569.0, \"preds\": 566.5}, {\"target\": 606.0, \"preds\": 580.0}, {\"target\": 568.0, \"preds\": 596.0}, {\"target\": 594.0, \"preds\": 570.0}, {\"target\": 571.0, \"preds\": 570.0}, {\"target\": 571.0, \"preds\": 580.0}, {\"target\": 581.0, \"preds\": 577.5}, {\"target\": 572.0, \"preds\": 572.5}, {\"target\": 578.0, \"preds\": 577.0}, {\"target\": 565.0, \"preds\": 574.0}, {\"target\": 566.0, \"preds\": 573.5}, {\"target\": 565.0, \"preds\": 565.0}, {\"target\": 583.0, \"preds\": 560.5}, {\"target\": 563.0, \"preds\": 574.5}, {\"target\": 574.0, \"preds\": 571.0}, {\"target\": 568.0, \"preds\": 573.0}, {\"target\": 568.0, \"preds\": 590.5}, {\"target\": 582.0, \"preds\": 581.5}, {\"target\": 624.5, \"preds\": 568.5}, {\"target\": 564.0, \"preds\": 624.5}, {\"target\": 573.0, \"preds\": 573.5}, {\"target\": 574.0, \"preds\": 624.5}, {\"target\": 564.0, \"preds\": 572.5}, {\"target\": 572.0, \"preds\": 577.5}, {\"target\": 565.0, \"preds\": 575.0}, {\"target\": 578.0, \"preds\": 590.5}, {\"target\": 581.0, \"preds\": 570.5}, {\"target\": 573.0, \"preds\": 581.5}, {\"target\": 619.0, \"preds\": 566.5}, {\"target\": 574.0, \"preds\": 566.5}, {\"target\": 574.0, \"preds\": 563.5}, {\"target\": 570.0, \"preds\": 569.0}, {\"target\": 574.0, \"preds\": 580.0}, {\"target\": 571.0, \"preds\": 581.0}, {\"target\": 578.0, \"preds\": 567.5}, {\"target\": 574.0, \"preds\": 571.5}, {\"target\": 571.0, \"preds\": 572.0}, {\"target\": 587.0, \"preds\": 573.5}, {\"target\": 624.5, \"preds\": 570.0}, {\"target\": 568.0, \"preds\": 565.0}, {\"target\": 565.0, \"preds\": 572.5}, {\"target\": 606.0, \"preds\": 577.0}, {\"target\": 571.0, \"preds\": 582.5}, {\"target\": 576.0, \"preds\": 569.0}, {\"target\": 585.0, \"preds\": 599.25}, {\"target\": 587.0, \"preds\": 584.0}, {\"target\": 564.0, \"preds\": 567.5}, {\"target\": 578.0, \"preds\": 576.5}, {\"target\": 568.0, \"preds\": 563.5}, {\"target\": 605.0, \"preds\": 572.5}, {\"target\": 583.0, \"preds\": 578.0}, {\"target\": 578.0, \"preds\": 585.5}, {\"target\": 585.0, \"preds\": 618.75}, {\"target\": 581.0, \"preds\": 618.75}, {\"target\": 624.5, \"preds\": 580.5}, {\"target\": 587.0, \"preds\": 587.5}, {\"target\": 567.0, \"preds\": 577.5}, {\"target\": 563.0, \"preds\": 589.0}, {\"target\": 562.0, \"preds\": 572.5}, {\"target\": 576.0, \"preds\": 579.5}, {\"target\": 591.0, \"preds\": 570.0}, {\"target\": 578.0, \"preds\": 583.5}, {\"target\": 571.0, \"preds\": 575.0}, {\"target\": 581.0, \"preds\": 588.5}, {\"target\": 587.0, \"preds\": 571.0}, {\"target\": 565.0, \"preds\": 566.5}, {\"target\": 573.0, \"preds\": 571.5}, {\"target\": 581.0, \"preds\": 612.25}, {\"target\": 582.0, \"preds\": 568.0}, {\"target\": 574.0, \"preds\": 580.5}, {\"target\": 568.0, \"preds\": 571.0}, {\"target\": 570.0, \"preds\": 600.75}, {\"target\": 583.0, \"preds\": 579.0}, {\"target\": 574.0, \"preds\": 570.5}, {\"target\": 569.0, \"preds\": 598.0}, {\"target\": 571.0, \"preds\": 573.5}, {\"target\": 564.0, \"preds\": 601.25}, {\"target\": 574.0, \"preds\": 568.5}, {\"target\": 585.0, \"preds\": 568.5}, {\"target\": 564.0, \"preds\": 561.5}, {\"target\": 571.0, \"preds\": 565.5}, {\"target\": 568.0, \"preds\": 569.5}, {\"target\": 571.0, \"preds\": 597.0}, {\"target\": 596.0, \"preds\": 572.5}, {\"target\": 565.0, \"preds\": 568.0}, {\"target\": 569.0, \"preds\": 576.5}, {\"target\": 563.0, \"preds\": 565.0}, {\"target\": 576.0, \"preds\": 590.5}, {\"target\": 563.0, \"preds\": 586.5}, {\"target\": 562.0, \"preds\": 570.0}, {\"target\": 573.0, \"preds\": 571.0}, {\"target\": 581.0, \"preds\": 569.5}, {\"target\": 569.0, \"preds\": 588.5}, {\"target\": 562.0, \"preds\": 571.0}, {\"target\": 624.5, \"preds\": 567.0}, {\"target\": 574.0, \"preds\": 567.5}, {\"target\": 566.0, \"preds\": 573.0}, {\"target\": 571.0, \"preds\": 570.5}, {\"target\": 565.0, \"preds\": 577.5}, {\"target\": 576.0, \"preds\": 575.0}, {\"target\": 581.0, \"preds\": 585.0}, {\"target\": 574.0, \"preds\": 578.0}, {\"target\": 563.0, \"preds\": 570.5}, {\"target\": 573.0, \"preds\": 588.5}, {\"target\": 564.0, \"preds\": 569.0}, {\"target\": 590.0, \"preds\": 584.5}, {\"target\": 578.0, \"preds\": 581.0}, {\"target\": 568.0, \"preds\": 569.0}, {\"target\": 595.0, \"preds\": 571.5}, {\"target\": 574.0, \"preds\": 579.0}, {\"target\": 569.0, \"preds\": 570.5}, {\"target\": 561.0, \"preds\": 568.0}, {\"target\": 568.0, \"preds\": 598.0}, {\"target\": 568.0, \"preds\": 580.0}, {\"target\": 567.0, \"preds\": 565.0}, {\"target\": 576.0, \"preds\": 571.0}, {\"target\": 562.0, \"preds\": 564.5}, {\"target\": 560.0, \"preds\": 584.0}, {\"target\": 576.0, \"preds\": 563.5}, {\"target\": 577.0, \"preds\": 569.0}, {\"target\": 594.0, \"preds\": 571.0}, {\"target\": 571.0, \"preds\": 565.5}, {\"target\": 567.0, \"preds\": 572.5}, {\"target\": 563.0, \"preds\": 571.5}, {\"target\": 594.0, \"preds\": 618.75}, {\"target\": 581.0, \"preds\": 575.0}, {\"target\": 587.0, \"preds\": 574.5}, {\"target\": 567.0, \"preds\": 571.5}, {\"target\": 564.0, \"preds\": 580.0}, {\"target\": 594.0, \"preds\": 570.5}, {\"target\": 566.0, \"preds\": 580.5}, {\"target\": 565.0, \"preds\": 569.0}, {\"target\": 581.0, \"preds\": 593.5}, {\"target\": 594.0, \"preds\": 601.25}, {\"target\": 624.5, \"preds\": 573.0}, {\"target\": 564.0, \"preds\": 567.5}, {\"target\": 568.0, \"preds\": 571.0}, {\"target\": 562.0, \"preds\": 567.5}, {\"target\": 594.0, \"preds\": 605.5}, {\"target\": 564.0, \"preds\": 602.0}, {\"target\": 568.0, \"preds\": 602.0}, {\"target\": 578.0, \"preds\": 605.5}, {\"target\": 574.0, \"preds\": 605.5}, {\"target\": 574.0, \"preds\": 602.0}, {\"target\": 624.5, \"preds\": 588.5}, {\"target\": 583.0, \"preds\": 574.5}, {\"target\": 568.0, \"preds\": 584.0}, {\"target\": 585.0, \"preds\": 569.5}, {\"target\": 571.0, \"preds\": 571.5}, {\"target\": 569.0, \"preds\": 572.5}, {\"target\": 571.0, \"preds\": 575.0}, {\"target\": 569.0, \"preds\": 583.5}, {\"target\": 580.0, \"preds\": 566.5}, {\"target\": 568.0, \"preds\": 577.0}, {\"target\": 565.0, \"preds\": 573.0}, {\"target\": 619.0, \"preds\": 579.5}, {\"target\": 572.0, \"preds\": 612.25}, {\"target\": 576.0, \"preds\": 600.0}, {\"target\": 564.0, \"preds\": 568.5}, {\"target\": 578.0, \"preds\": 601.25}, {\"target\": 569.0, \"preds\": null}, {\"target\": 567.0, \"preds\": null}, {\"target\": 624.5, \"preds\": null}, {\"target\": 571.0, \"preds\": null}, {\"target\": 576.0, \"preds\": null}, {\"target\": 594.0, \"preds\": null}, {\"target\": 577.0, \"preds\": null}, {\"target\": 565.0, \"preds\": null}, {\"target\": 577.0, \"preds\": null}, {\"target\": 574.0, \"preds\": null}, {\"target\": 600.0, \"preds\": null}, {\"target\": 572.0, \"preds\": null}, {\"target\": 571.0, \"preds\": null}, {\"target\": 568.0, \"preds\": null}, {\"target\": 567.0, \"preds\": null}, {\"target\": 563.0, \"preds\": null}, {\"target\": 567.0, \"preds\": null}, {\"target\": 586.0, \"preds\": null}, {\"target\": 576.0, \"preds\": null}, {\"target\": 565.0, \"preds\": null}, {\"target\": 573.0, \"preds\": null}, {\"target\": 562.0, \"preds\": null}, {\"target\": 565.0, \"preds\": null}, {\"target\": 581.0, \"preds\": null}, {\"target\": 569.0, \"preds\": null}, {\"target\": 566.0, \"preds\": null}, {\"target\": 584.0, \"preds\": null}, {\"target\": 574.0, \"preds\": null}, {\"target\": 569.0, \"preds\": null}, {\"target\": 567.0, \"preds\": null}, {\"target\": 574.0, \"preds\": null}, {\"target\": 564.0, \"preds\": null}, {\"target\": 562.0, \"preds\": null}, {\"target\": 578.0, \"preds\": null}, {\"target\": 613.0, \"preds\": null}, {\"target\": 568.0, \"preds\": null}, {\"target\": 574.0, \"preds\": null}, {\"target\": 569.0, \"preds\": null}, {\"target\": 577.0, \"preds\": null}, {\"target\": 563.0, \"preds\": null}, {\"target\": 581.0, \"preds\": null}, {\"target\": 578.0, \"preds\": null}, {\"target\": 572.0, \"preds\": null}, {\"target\": 601.0, \"preds\": null}, {\"target\": 565.0, \"preds\": null}, {\"target\": 567.0, \"preds\": null}, {\"target\": 578.0, \"preds\": null}, {\"target\": 578.0, \"preds\": null}, {\"target\": 571.0, \"preds\": null}, {\"target\": 624.5, \"preds\": null}, {\"target\": 587.0, \"preds\": null}, {\"target\": 581.0, \"preds\": null}, {\"target\": 565.0, \"preds\": null}, {\"target\": 569.0, \"preds\": null}, {\"target\": 563.0, \"preds\": null}, {\"target\": 581.0, \"preds\": null}, {\"target\": 562.0, \"preds\": null}, {\"target\": 571.0, \"preds\": null}, {\"target\": 567.0, \"preds\": null}, {\"target\": 563.0, \"preds\": null}, {\"target\": 572.0, \"preds\": null}, {\"target\": 564.0, \"preds\": null}, {\"target\": 573.0, \"preds\": null}, {\"target\": 573.0, \"preds\": null}, {\"target\": 563.0, \"preds\": null}, {\"target\": 571.0, \"preds\": null}, {\"target\": 564.0, \"preds\": null}, {\"target\": 572.0, \"preds\": null}, {\"target\": 586.0, \"preds\": null}, {\"target\": 563.0, \"preds\": null}, {\"target\": 574.0, \"preds\": null}, {\"target\": 581.0, \"preds\": null}, {\"target\": 577.0, \"preds\": null}, {\"target\": 600.0, \"preds\": null}, {\"target\": 624.5, \"preds\": null}, {\"target\": 565.0, \"preds\": null}, {\"target\": 567.0, \"preds\": null}, {\"target\": 567.0, \"preds\": null}, {\"target\": 564.0, \"preds\": null}, {\"target\": 586.0, \"preds\": null}, {\"target\": 565.0, \"preds\": null}, {\"target\": 583.0, \"preds\": null}, {\"target\": 571.0, \"preds\": null}, {\"target\": 563.0, \"preds\": null}, {\"target\": 594.0, \"preds\": null}, {\"target\": 571.0, \"preds\": null}, {\"target\": 574.0, \"preds\": null}, {\"target\": 573.0, \"preds\": null}, {\"target\": 583.0, \"preds\": null}, {\"target\": 606.0, \"preds\": null}, {\"target\": 571.0, \"preds\": null}, {\"target\": 574.0, \"preds\": null}, {\"target\": 567.0, \"preds\": null}, {\"target\": 574.0, \"preds\": null}, {\"target\": 568.0, \"preds\": null}, {\"target\": 574.0, \"preds\": null}, {\"target\": 564.0, \"preds\": null}, {\"target\": 565.0, \"preds\": null}, {\"target\": 564.0, \"preds\": null}, {\"target\": 583.0, \"preds\": null}, {\"target\": 568.0, \"preds\": null}, {\"target\": 563.0, \"preds\": null}, {\"target\": 572.0, \"preds\": null}, {\"target\": 578.0, \"preds\": null}, {\"target\": 594.0, \"preds\": null}, {\"target\": 568.0, \"preds\": null}, {\"target\": 574.0, \"preds\": null}, {\"target\": 624.5, \"preds\": null}, {\"target\": 580.0, \"preds\": null}, {\"target\": 581.0, \"preds\": null}, {\"target\": 567.0, \"preds\": null}, {\"target\": 562.0, \"preds\": null}, {\"target\": 581.0, \"preds\": null}, {\"target\": 564.0, \"preds\": null}, {\"target\": 569.0, \"preds\": null}, {\"target\": 572.0, \"preds\": null}, {\"target\": 577.0, \"preds\": null}, {\"target\": 572.0, \"preds\": null}, {\"target\": 569.0, \"preds\": null}, {\"target\": 576.0, \"preds\": null}, {\"target\": 585.0, \"preds\": null}, {\"target\": 566.0, \"preds\": null}, {\"target\": 594.0, \"preds\": null}, {\"target\": 574.0, \"preds\": null}, {\"target\": 574.0, \"preds\": null}, {\"target\": 568.0, \"preds\": null}, {\"target\": 571.0, \"preds\": null}, {\"target\": 567.0, \"preds\": null}, {\"target\": 562.0, \"preds\": null}, {\"target\": 573.0, \"preds\": null}, {\"target\": 590.0, \"preds\": null}, {\"target\": 573.0, \"preds\": null}, {\"target\": 594.0, \"preds\": null}, {\"target\": 574.0, \"preds\": null}, {\"target\": 587.0, \"preds\": null}, {\"target\": 563.0, \"preds\": null}, {\"target\": 562.0, \"preds\": null}, {\"target\": 568.0, \"preds\": null}, {\"target\": 574.0, \"preds\": null}, {\"target\": 562.0, \"preds\": null}, {\"target\": 577.0, \"preds\": null}, {\"target\": 573.0, \"preds\": null}, {\"target\": 600.0, \"preds\": null}, {\"target\": 600.0, \"preds\": null}, {\"target\": 576.0, \"preds\": null}, {\"target\": 600.0, \"preds\": null}, {\"target\": 568.0, \"preds\": null}, {\"target\": 571.0, \"preds\": null}, {\"target\": 569.0, \"preds\": null}, {\"target\": 565.0, \"preds\": null}, {\"target\": 574.0, \"preds\": null}, {\"target\": 567.0, \"preds\": null}, {\"target\": 594.0, \"preds\": null}, {\"target\": 568.0, \"preds\": null}, {\"target\": 587.0, \"preds\": null}, {\"target\": 576.0, \"preds\": null}, {\"target\": 564.0, \"preds\": null}, {\"target\": 582.0, \"preds\": null}, {\"target\": 624.5, \"preds\": null}, {\"target\": 610.0, \"preds\": null}, {\"target\": 569.0, \"preds\": null}, {\"target\": 578.0, \"preds\": null}, {\"target\": 561.0, \"preds\": null}, {\"target\": 567.0, \"preds\": null}, {\"target\": 564.0, \"preds\": null}, {\"target\": 574.0, \"preds\": null}, {\"target\": 561.0, \"preds\": null}, {\"target\": 574.0, \"preds\": null}, {\"target\": 578.0, \"preds\": null}, {\"target\": 584.0, \"preds\": null}, {\"target\": 567.0, \"preds\": null}, {\"target\": 571.0, \"preds\": null}, {\"target\": 587.0, \"preds\": null}, {\"target\": 567.0, \"preds\": null}, {\"target\": 569.0, \"preds\": null}, {\"target\": 571.0, \"preds\": null}, {\"target\": 578.0, \"preds\": null}, {\"target\": 591.0, \"preds\": null}, {\"target\": 587.0, \"preds\": null}, {\"target\": 565.0, \"preds\": null}, {\"target\": 565.0, \"preds\": null}, {\"target\": 568.0, \"preds\": null}, {\"target\": 570.0, \"preds\": null}, {\"target\": 563.0, \"preds\": null}, {\"target\": 569.0, \"preds\": null}, {\"target\": 560.0, \"preds\": null}, {\"target\": 573.0, \"preds\": null}, {\"target\": 569.0, \"preds\": null}, {\"target\": 568.0, \"preds\": null}, {\"target\": 624.5, \"preds\": null}, {\"target\": 571.0, \"preds\": null}, {\"target\": 578.0, \"preds\": null}, {\"target\": 578.0, \"preds\": null}, {\"target\": 564.0, \"preds\": null}, {\"target\": 576.0, \"preds\": null}, {\"target\": 594.0, \"preds\": null}, {\"target\": 591.0, \"preds\": null}, {\"target\": 564.0, \"preds\": null}, {\"target\": 567.0, \"preds\": null}, {\"target\": 581.0, \"preds\": null}, {\"target\": 565.0, \"preds\": null}, {\"target\": 566.0, \"preds\": null}, {\"target\": 571.0, \"preds\": null}, {\"target\": 565.0, \"preds\": null}, {\"target\": 578.0, \"preds\": null}, {\"target\": 571.0, \"preds\": null}, {\"target\": 624.5, \"preds\": null}, {\"target\": 563.0, \"preds\": null}, {\"target\": 571.0, \"preds\": null}, {\"target\": 564.0, \"preds\": null}, {\"target\": 572.0, \"preds\": null}, {\"target\": 566.0, \"preds\": null}, {\"target\": 609.0, \"preds\": null}, {\"target\": 565.0, \"preds\": null}, {\"target\": 576.0, \"preds\": null}, {\"target\": 562.0, \"preds\": null}, {\"target\": 624.5, \"preds\": null}, {\"target\": 566.0, \"preds\": null}, {\"target\": 568.0, \"preds\": null}, {\"target\": 566.0, \"preds\": null}, {\"target\": 574.0, \"preds\": null}, {\"target\": 567.0, \"preds\": null}, {\"target\": 587.0, \"preds\": null}, {\"target\": 581.0, \"preds\": null}, {\"target\": 568.0, \"preds\": null}, {\"target\": 572.0, \"preds\": null}, {\"target\": 586.0, \"preds\": null}, {\"target\": 587.0, \"preds\": null}, {\"target\": 566.0, \"preds\": null}, {\"target\": 572.0, \"preds\": null}, {\"target\": 562.0, \"preds\": null}, {\"target\": 565.0, \"preds\": null}, {\"target\": 574.0, \"preds\": null}, {\"target\": 594.0, \"preds\": null}, {\"target\": 565.0, \"preds\": null}, {\"target\": 587.0, \"preds\": null}, {\"target\": 574.0, \"preds\": null}, {\"target\": 591.0, \"preds\": null}, {\"target\": 578.0, \"preds\": null}, {\"target\": 624.5, \"preds\": null}, {\"target\": 573.0, \"preds\": null}, {\"target\": 567.0, \"preds\": null}, {\"target\": 581.0, \"preds\": null}, {\"target\": 571.0, \"preds\": null}, {\"target\": 571.0, \"preds\": null}, {\"target\": 571.0, \"preds\": null}, {\"target\": 568.0, \"preds\": null}, {\"target\": 586.0, \"preds\": null}, {\"target\": 567.0, \"preds\": null}, {\"target\": 571.0, \"preds\": null}, {\"target\": 569.0, \"preds\": null}, {\"target\": 574.0, \"preds\": null}, {\"target\": 562.0, \"preds\": null}, {\"target\": 578.0, \"preds\": null}, {\"target\": 578.0, \"preds\": null}, {\"target\": 574.0, \"preds\": null}, {\"target\": 563.0, \"preds\": null}, {\"target\": 594.0, \"preds\": null}, {\"target\": 571.0, \"preds\": null}, {\"target\": 576.0, \"preds\": null}, {\"target\": 567.0, \"preds\": null}, {\"target\": 564.0, \"preds\": null}, {\"target\": 572.0, \"preds\": null}, {\"target\": 587.0, \"preds\": null}, {\"target\": 567.0, \"preds\": null}, {\"target\": 624.5, \"preds\": null}, {\"target\": 574.0, \"preds\": null}, {\"target\": 583.0, \"preds\": null}, {\"target\": 599.0, \"preds\": null}, {\"target\": 571.0, \"preds\": null}, {\"target\": 565.0, \"preds\": null}, {\"target\": 565.0, \"preds\": null}, {\"target\": 599.0, \"preds\": null}, {\"target\": 574.0, \"preds\": null}, {\"target\": 576.0, \"preds\": null}, {\"target\": 565.0, \"preds\": null}, {\"target\": 565.0, \"preds\": null}, {\"target\": 624.5, \"preds\": null}, {\"target\": 574.0, \"preds\": null}, {\"target\": 565.0, \"preds\": null}, {\"target\": 582.0, \"preds\": null}, {\"target\": 594.0, \"preds\": null}, {\"target\": 624.5, \"preds\": null}, {\"target\": 624.5, \"preds\": null}, {\"target\": 568.0, \"preds\": null}, {\"target\": 583.0, \"preds\": null}, {\"target\": 568.0, \"preds\": null}, {\"target\": 617.0, \"preds\": null}, {\"target\": 569.0, \"preds\": null}, {\"target\": 569.0, \"preds\": null}, {\"target\": 606.0, \"preds\": null}, {\"target\": 568.0, \"preds\": null}, {\"target\": 578.0, \"preds\": null}, {\"target\": 591.0, \"preds\": null}, {\"target\": 563.0, \"preds\": null}, {\"target\": 624.5, \"preds\": null}, {\"target\": 562.0, \"preds\": null}, {\"target\": 619.0, \"preds\": null}, {\"target\": 571.0, \"preds\": null}, {\"target\": 570.0, \"preds\": null}, {\"target\": 576.0, \"preds\": null}, {\"target\": 569.0, \"preds\": null}, {\"target\": 624.5, \"preds\": null}, {\"target\": 576.0, \"preds\": null}, {\"target\": 600.0, \"preds\": null}, {\"target\": 567.0, \"preds\": null}, {\"target\": 565.0, \"preds\": null}, {\"target\": 573.0, \"preds\": null}, {\"target\": 561.0, \"preds\": null}, {\"target\": 577.0, \"preds\": null}, {\"target\": 569.0, \"preds\": null}, {\"target\": 571.0, \"preds\": null}, {\"target\": 594.0, \"preds\": null}, {\"target\": 571.0, \"preds\": null}, {\"target\": 582.0, \"preds\": null}, {\"target\": 563.0, \"preds\": null}, {\"target\": 579.0, \"preds\": null}, {\"target\": 561.0, \"preds\": null}, {\"target\": 574.0, \"preds\": null}, {\"target\": 578.0, \"preds\": null}, {\"target\": 600.0, \"preds\": null}, {\"target\": 565.0, \"preds\": null}, {\"target\": 564.0, \"preds\": null}, {\"target\": 574.0, \"preds\": null}, {\"target\": 594.0, \"preds\": null}, {\"target\": 624.5, \"preds\": null}, {\"target\": 578.0, \"preds\": null}, {\"target\": 565.0, \"preds\": null}, {\"target\": 567.0, \"preds\": null}, {\"target\": 573.0, \"preds\": null}, {\"target\": 564.0, \"preds\": null}, {\"target\": 563.0, \"preds\": null}, {\"target\": 577.0, \"preds\": null}, {\"target\": 574.0, \"preds\": null}, {\"target\": 566.0, \"preds\": null}, {\"target\": 581.0, \"preds\": null}, {\"target\": 565.0, \"preds\": null}, {\"target\": 581.0, \"preds\": null}, {\"target\": 570.0, \"preds\": null}, {\"target\": 594.0, \"preds\": null}, {\"target\": 583.0, \"preds\": null}, {\"target\": 564.0, \"preds\": null}, {\"target\": 564.0, \"preds\": null}, {\"target\": 576.0, \"preds\": null}, {\"target\": 586.0, \"preds\": null}, {\"target\": 578.0, \"preds\": null}, {\"target\": 566.0, \"preds\": null}, {\"target\": 560.0, \"preds\": null}, {\"target\": 562.0, \"preds\": null}, {\"target\": 571.0, \"preds\": null}, {\"target\": 567.0, \"preds\": null}, {\"target\": 565.0, \"preds\": null}, {\"target\": 594.0, \"preds\": null}, {\"target\": 573.0, \"preds\": null}, {\"target\": 567.0, \"preds\": null}, {\"target\": 571.0, \"preds\": null}, {\"target\": 571.0, \"preds\": null}, {\"target\": 568.0, \"preds\": null}, {\"target\": 600.0, \"preds\": null}, {\"target\": 571.0, \"preds\": null}, {\"target\": 573.0, \"preds\": null}, {\"target\": 565.0, \"preds\": null}, {\"target\": 569.0, \"preds\": null}, {\"target\": 571.0, \"preds\": null}, {\"target\": 600.0, \"preds\": null}, {\"target\": 573.0, \"preds\": null}, {\"target\": 583.0, \"preds\": null}, {\"target\": 564.0, \"preds\": null}, {\"target\": 576.0, \"preds\": null}, {\"target\": 569.0, \"preds\": null}, {\"target\": 562.0, \"preds\": null}, {\"target\": 560.0, \"preds\": null}, {\"target\": 578.0, \"preds\": null}, {\"target\": 571.0, \"preds\": null}, {\"target\": 566.0, \"preds\": null}, {\"target\": 569.0, \"preds\": null}, {\"target\": 609.0, \"preds\": null}, {\"target\": 587.0, \"preds\": null}, {\"target\": 566.0, \"preds\": null}, {\"target\": 571.0, \"preds\": null}, {\"target\": 578.0, \"preds\": null}, {\"target\": 563.0, \"preds\": null}, {\"target\": 567.0, \"preds\": null}, {\"target\": 624.0, \"preds\": null}, {\"target\": 583.0, \"preds\": null}, {\"target\": 564.0, \"preds\": null}, {\"target\": 591.0, \"preds\": null}, {\"target\": 624.5, \"preds\": null}, {\"target\": 580.0, \"preds\": null}, {\"target\": 571.0, \"preds\": null}, {\"target\": 578.0, \"preds\": null}, {\"target\": 594.0, \"preds\": null}, {\"target\": 563.0, \"preds\": null}, {\"target\": 565.0, \"preds\": null}, {\"target\": 581.0, \"preds\": null}, {\"target\": 583.0, \"preds\": null}, {\"target\": 577.0, \"preds\": null}, {\"target\": 583.0, \"preds\": null}, {\"target\": 586.0, \"preds\": null}, {\"target\": 571.0, \"preds\": null}, {\"target\": 561.0, \"preds\": null}, {\"target\": 562.0, \"preds\": null}, {\"target\": 563.0, \"preds\": null}, {\"target\": 569.0, \"preds\": null}, {\"target\": 581.0, \"preds\": null}, {\"target\": 586.0, \"preds\": null}, {\"target\": 568.0, \"preds\": null}, {\"target\": 576.0, \"preds\": null}, {\"target\": 624.5, \"preds\": null}, {\"target\": 573.0, \"preds\": null}, {\"target\": 565.0, \"preds\": null}, {\"target\": 576.0, \"preds\": null}, {\"target\": 624.5, \"preds\": null}, {\"target\": 578.0, \"preds\": null}, {\"target\": 565.0, \"preds\": null}, {\"target\": 569.0, \"preds\": null}, {\"target\": 565.0, \"preds\": null}, {\"target\": 594.0, \"preds\": null}, {\"target\": 573.0, \"preds\": null}, {\"target\": 624.5, \"preds\": null}, {\"target\": 567.0, \"preds\": null}, {\"target\": 573.0, \"preds\": null}, {\"target\": 624.5, \"preds\": null}, {\"target\": 624.5, \"preds\": null}, {\"target\": 560.0, \"preds\": null}, {\"target\": 624.5, \"preds\": null}, {\"target\": 583.0, \"preds\": null}, {\"target\": 571.0, \"preds\": null}, {\"target\": 569.0, \"preds\": null}, {\"target\": 581.0, \"preds\": null}, {\"target\": 624.5, \"preds\": null}, {\"target\": 569.0, \"preds\": null}, {\"target\": 568.0, \"preds\": null}, {\"target\": 624.5, \"preds\": null}, {\"target\": 624.5, \"preds\": null}, {\"target\": 576.0, \"preds\": null}, {\"target\": 571.0, \"preds\": null}, {\"target\": 574.0, \"preds\": null}, {\"target\": 574.0, \"preds\": null}, {\"target\": 606.0, \"preds\": null}, {\"target\": 567.0, \"preds\": null}, {\"target\": 564.0, \"preds\": null}, {\"target\": 572.0, \"preds\": null}, {\"target\": 624.5, \"preds\": null}, {\"target\": 581.0, \"preds\": null}, {\"target\": 565.0, \"preds\": null}, {\"target\": 619.0, \"preds\": null}, {\"target\": 572.0, \"preds\": null}, {\"target\": 571.0, \"preds\": null}, {\"target\": 576.0, \"preds\": null}, {\"target\": 572.0, \"preds\": null}, {\"target\": 592.0, \"preds\": null}, {\"target\": 578.0, \"preds\": null}, {\"target\": 566.0, \"preds\": null}, {\"target\": 590.0, \"preds\": null}, {\"target\": 578.0, \"preds\": null}, {\"target\": 570.0, \"preds\": null}, {\"target\": 575.0, \"preds\": null}, {\"target\": 581.0, \"preds\": null}, {\"target\": 600.0, \"preds\": null}, {\"target\": 604.0, \"preds\": null}, {\"target\": 576.0, \"preds\": null}, {\"target\": 619.0, \"preds\": null}, {\"target\": 567.0, \"preds\": null}, {\"target\": 568.0, \"preds\": null}, {\"target\": 587.0, \"preds\": null}, {\"target\": 594.0, \"preds\": null}, {\"target\": 571.0, \"preds\": null}, {\"target\": 561.0, \"preds\": null}, {\"target\": 594.0, \"preds\": null}, {\"target\": 585.0, \"preds\": null}, {\"target\": 624.5, \"preds\": null}, {\"target\": 567.0, \"preds\": null}, {\"target\": 583.0, \"preds\": null}, {\"target\": 600.0, \"preds\": null}, {\"target\": 571.0, \"preds\": null}, {\"target\": 583.0, \"preds\": null}, {\"target\": 562.0, \"preds\": null}, {\"target\": 581.0, \"preds\": null}, {\"target\": 565.0, \"preds\": null}, {\"target\": 587.0, \"preds\": null}, {\"target\": 562.0, \"preds\": null}, {\"target\": 606.0, \"preds\": null}, {\"target\": 571.0, \"preds\": null}, {\"target\": 563.0, \"preds\": null}, {\"target\": 624.5, \"preds\": null}, {\"target\": 601.0, \"preds\": null}, {\"target\": 572.0, \"preds\": null}, {\"target\": 558.0, \"preds\": null}, {\"target\": 567.0, \"preds\": null}, {\"target\": 571.0, \"preds\": null}, {\"target\": 572.0, \"preds\": null}, {\"target\": 569.0, \"preds\": null}, {\"target\": 568.0, \"preds\": null}, {\"target\": 565.0, \"preds\": null}, {\"target\": 601.0, \"preds\": null}, {\"target\": 566.0, \"preds\": null}, {\"target\": 577.0, \"preds\": null}, {\"target\": 565.0, \"preds\": null}, {\"target\": 576.0, \"preds\": null}, {\"target\": 567.0, \"preds\": null}, {\"target\": 565.0, \"preds\": null}, {\"target\": 613.0, \"preds\": null}, {\"target\": 590.0, \"preds\": null}, {\"target\": 573.0, \"preds\": null}, {\"target\": 573.0, \"preds\": null}, {\"target\": 573.0, \"preds\": null}, {\"target\": 565.0, \"preds\": null}, {\"target\": 568.0, \"preds\": null}, {\"target\": 564.0, \"preds\": null}, {\"target\": 587.0, \"preds\": null}, {\"target\": 567.0, \"preds\": null}, {\"target\": 583.0, \"preds\": null}, {\"target\": 568.0, \"preds\": null}, {\"target\": 569.0, \"preds\": null}, {\"target\": 571.0, \"preds\": null}, {\"target\": 574.0, \"preds\": null}, {\"target\": 600.0, \"preds\": null}, {\"target\": 600.0, \"preds\": null}, {\"target\": 622.0, \"preds\": null}, {\"target\": 574.0, \"preds\": null}, {\"target\": 596.0, \"preds\": null}, {\"target\": 570.0, \"preds\": null}, {\"target\": 581.0, \"preds\": null}, {\"target\": 564.0, \"preds\": null}, {\"target\": 574.0, \"preds\": null}, {\"target\": 596.0, \"preds\": null}, {\"target\": 600.0, \"preds\": null}, {\"target\": 600.0, \"preds\": null}, {\"target\": 574.0, \"preds\": null}, {\"target\": 571.0, \"preds\": null}, {\"target\": 565.0, \"preds\": null}, {\"target\": 569.0, \"preds\": null}, {\"target\": 571.0, \"preds\": null}, {\"target\": 624.5, \"preds\": null}, {\"target\": 586.0, \"preds\": null}, {\"target\": 581.0, \"preds\": null}, {\"target\": 576.0, \"preds\": null}, {\"target\": 574.0, \"preds\": null}, {\"target\": 592.0, \"preds\": null}, {\"target\": 594.0, \"preds\": null}, {\"target\": 569.0, \"preds\": null}, {\"target\": 574.0, \"preds\": null}, {\"target\": 563.0, \"preds\": null}, {\"target\": 606.0, \"preds\": null}, {\"target\": 571.0, \"preds\": null}, {\"target\": 613.0, \"preds\": null}, {\"target\": 581.0, \"preds\": null}, {\"target\": 568.0, \"preds\": null}, {\"target\": 565.0, \"preds\": null}, {\"target\": 572.0, \"preds\": null}, {\"target\": 574.0, \"preds\": null}, {\"target\": 563.0, \"preds\": null}, {\"target\": 624.5, \"preds\": null}, {\"target\": 571.0, \"preds\": null}, {\"target\": 568.0, \"preds\": null}, {\"target\": 568.0, \"preds\": null}, {\"target\": 571.0, \"preds\": null}, {\"target\": 574.0, \"preds\": null}, {\"target\": 586.0, \"preds\": null}, {\"target\": 569.0, \"preds\": null}, {\"target\": 622.0, \"preds\": null}, {\"target\": 624.5, \"preds\": null}, {\"target\": 581.0, \"preds\": null}, {\"target\": 613.0, \"preds\": null}, {\"target\": 565.0, \"preds\": null}, {\"target\": 565.0, \"preds\": null}, {\"target\": 567.0, \"preds\": null}, {\"target\": 571.0, \"preds\": null}, {\"target\": 586.0, \"preds\": null}, {\"target\": 590.0, \"preds\": null}, {\"target\": 577.0, \"preds\": null}, {\"target\": 574.0, \"preds\": null}, {\"target\": 572.0, \"preds\": null}, {\"target\": 624.5, \"preds\": null}, {\"target\": 596.0, \"preds\": null}, {\"target\": 560.0, \"preds\": null}, {\"target\": 624.5, \"preds\": null}, {\"target\": 581.0, \"preds\": null}, {\"target\": 594.0, \"preds\": null}, {\"target\": 624.5, \"preds\": null}, {\"target\": 578.0, \"preds\": null}, {\"target\": 587.0, \"preds\": null}, {\"target\": 578.0, \"preds\": null}, {\"target\": 568.0, \"preds\": null}, {\"target\": 571.0, \"preds\": null}, {\"target\": 587.0, \"preds\": null}, {\"target\": 606.0, \"preds\": null}, {\"target\": 594.0, \"preds\": null}, {\"target\": 592.0, \"preds\": null}, {\"target\": 600.0, \"preds\": null}, {\"target\": 582.0, \"preds\": null}, {\"target\": 595.0, \"preds\": null}, {\"target\": 565.0, \"preds\": null}, {\"target\": 575.0, \"preds\": null}, {\"target\": 596.0, \"preds\": null}, {\"target\": 594.0, \"preds\": null}, {\"target\": 581.0, \"preds\": null}, {\"target\": 624.5, \"preds\": null}, {\"target\": 624.5, \"preds\": null}, {\"target\": 576.0, \"preds\": null}, {\"target\": 566.0, \"preds\": null}, {\"target\": 573.0, \"preds\": null}, {\"target\": 624.5, \"preds\": null}, {\"target\": 565.0, \"preds\": null}, {\"target\": 571.0, \"preds\": null}, {\"target\": 573.0, \"preds\": null}, {\"target\": 563.0, \"preds\": null}, {\"target\": 568.0, \"preds\": null}, {\"target\": 574.0, \"preds\": null}, {\"target\": 565.0, \"preds\": null}, {\"target\": 566.0, \"preds\": null}, {\"target\": 587.0, \"preds\": null}, {\"target\": 572.0, \"preds\": null}, {\"target\": 563.0, \"preds\": null}, {\"target\": 564.0, \"preds\": null}, {\"target\": 583.0, \"preds\": null}, {\"target\": 606.0, \"preds\": null}, {\"target\": 583.0, \"preds\": null}, {\"target\": 561.0, \"preds\": null}, {\"target\": 574.0, \"preds\": null}, {\"target\": 585.0, \"preds\": null}, {\"target\": 613.0, \"preds\": null}, {\"target\": 574.0, \"preds\": null}, {\"target\": 572.0, \"preds\": null}, {\"target\": 568.0, \"preds\": null}, {\"target\": 568.0, \"preds\": null}, {\"target\": 564.0, \"preds\": null}, {\"target\": 564.0, \"preds\": null}, {\"target\": 577.0, \"preds\": null}, {\"target\": 562.0, \"preds\": null}, {\"target\": 581.0, \"preds\": null}, {\"target\": 564.0, \"preds\": null}, {\"target\": 624.5, \"preds\": null}, {\"target\": 572.0, \"preds\": null}, {\"target\": 577.0, \"preds\": null}, {\"target\": 576.0, \"preds\": null}, {\"target\": 562.0, \"preds\": null}, {\"target\": 590.0, \"preds\": null}, {\"target\": 592.0, \"preds\": null}, {\"target\": 592.0, \"preds\": null}, {\"target\": 603.0, \"preds\": null}, {\"target\": 600.0, \"preds\": null}, {\"target\": 609.0, \"preds\": null}, {\"target\": 603.0, \"preds\": null}, {\"target\": 581.0, \"preds\": null}, {\"target\": 566.0, \"preds\": null}, {\"target\": 569.0, \"preds\": null}, {\"target\": 573.0, \"preds\": null}, {\"target\": 624.5, \"preds\": null}, {\"target\": 587.0, \"preds\": null}, {\"target\": 581.0, \"preds\": null}, {\"target\": 591.0, \"preds\": null}, {\"target\": 562.0, \"preds\": null}, {\"target\": 600.0, \"preds\": null}, {\"target\": 594.0, \"preds\": null}, {\"target\": 568.0, \"preds\": null}, {\"target\": 569.0, \"preds\": null}, {\"target\": 577.0, \"preds\": null}, {\"target\": 600.0, \"preds\": null}, {\"target\": 594.0, \"preds\": null}, {\"target\": 594.0, \"preds\": null}, {\"target\": 572.0, \"preds\": null}, {\"target\": 572.0, \"preds\": null}, {\"target\": 572.0, \"preds\": null}, {\"target\": 587.0, \"preds\": null}, {\"target\": 624.5, \"preds\": null}, {\"target\": 567.0, \"preds\": null}, {\"target\": 619.0, \"preds\": null}, {\"target\": 581.0, \"preds\": null}, {\"target\": 574.0, \"preds\": null}, {\"target\": 565.0, \"preds\": null}, {\"target\": 573.0, \"preds\": null}, {\"target\": 578.0, \"preds\": null}, {\"target\": 573.0, \"preds\": null}, {\"target\": 624.5, \"preds\": null}, {\"target\": 583.0, \"preds\": null}, {\"target\": 560.0, \"preds\": null}, {\"target\": 568.0, \"preds\": null}, {\"target\": 565.0, \"preds\": null}, {\"target\": 577.0, \"preds\": null}, {\"target\": 574.0, \"preds\": null}, {\"target\": 565.0, \"preds\": null}, {\"target\": 563.0, \"preds\": null}, {\"target\": 578.0, \"preds\": null}, {\"target\": 578.0, \"preds\": null}, {\"target\": 565.0, \"preds\": null}, {\"target\": 573.0, \"preds\": null}, {\"target\": 569.0, \"preds\": null}, {\"target\": 587.0, \"preds\": null}, {\"target\": 567.0, \"preds\": null}, {\"target\": 615.0, \"preds\": null}, {\"target\": 581.0, \"preds\": null}, {\"target\": 563.0, \"preds\": null}, {\"target\": 562.0, \"preds\": null}, {\"target\": 581.0, \"preds\": null}, {\"target\": 568.0, \"preds\": null}, {\"target\": 572.0, \"preds\": null}, {\"target\": 562.0, \"preds\": null}, {\"target\": 573.0, \"preds\": null}, {\"target\": 578.0, \"preds\": null}, {\"target\": 581.0, \"preds\": null}, {\"target\": 624.5, \"preds\": null}, {\"target\": 572.0, \"preds\": null}, {\"target\": 612.0, \"preds\": null}, {\"target\": 594.0, \"preds\": null}, {\"target\": 606.0, \"preds\": null}, {\"target\": 624.5, \"preds\": null}, {\"target\": 571.0, \"preds\": null}, {\"target\": 572.0, \"preds\": null}, {\"target\": 594.0, \"preds\": null}, {\"target\": 567.0, \"preds\": null}, {\"target\": 624.5, \"preds\": null}, {\"target\": 594.0, \"preds\": null}, {\"target\": 567.0, \"preds\": null}, {\"target\": 572.0, \"preds\": null}, {\"target\": 564.0, \"preds\": null}, {\"target\": 560.0, \"preds\": null}, {\"target\": 580.0, \"preds\": null}, {\"target\": 585.0, \"preds\": null}, {\"target\": 571.0, \"preds\": null}, {\"target\": 604.0, \"preds\": null}, {\"target\": 564.0, \"preds\": null}, {\"target\": 574.0, \"preds\": null}, {\"target\": 594.0, \"preds\": null}, {\"target\": 568.0, \"preds\": null}, {\"target\": 594.0, \"preds\": null}, {\"target\": 576.0, \"preds\": null}, {\"target\": 583.0, \"preds\": null}, {\"target\": 567.0, \"preds\": null}, {\"target\": 581.0, \"preds\": null}, {\"target\": 580.0, \"preds\": null}, {\"target\": 572.0, \"preds\": null}, {\"target\": 564.0, \"preds\": null}, {\"target\": 587.0, \"preds\": null}, {\"target\": 581.0, \"preds\": null}, {\"target\": 578.0, \"preds\": null}, {\"target\": 572.0, \"preds\": null}, {\"target\": 568.0, \"preds\": null}, {\"target\": 568.0, \"preds\": null}, {\"target\": 585.0, \"preds\": null}, {\"target\": 581.0, \"preds\": null}, {\"target\": 624.5, \"preds\": null}, {\"target\": 587.0, \"preds\": null}, {\"target\": 582.0, \"preds\": null}, {\"target\": 583.0, \"preds\": null}, {\"target\": 573.0, \"preds\": null}, {\"target\": 564.0, \"preds\": null}, {\"target\": 579.0, \"preds\": null}, {\"target\": 566.0, \"preds\": null}, {\"target\": 565.0, \"preds\": null}, {\"target\": 574.0, \"preds\": null}, {\"target\": 603.0, \"preds\": null}, {\"target\": 571.0, \"preds\": null}, {\"target\": 572.0, \"preds\": null}, {\"target\": 583.0, \"preds\": null}, {\"target\": 560.0, \"preds\": null}, {\"target\": 571.0, \"preds\": null}, {\"target\": 567.0, \"preds\": null}, {\"target\": 573.0, \"preds\": null}, {\"target\": 571.0, \"preds\": null}, {\"target\": 574.0, \"preds\": null}, {\"target\": 571.0, \"preds\": null}, {\"target\": 624.5, \"preds\": null}, {\"target\": 624.5, \"preds\": null}, {\"target\": 596.0, \"preds\": null}, {\"target\": 594.0, \"preds\": null}, {\"target\": 624.5, \"preds\": null}, {\"target\": 600.0, \"preds\": null}, {\"target\": 581.0, \"preds\": null}, {\"target\": 564.0, \"preds\": null}, {\"target\": 577.0, \"preds\": null}, {\"target\": 581.0, \"preds\": null}, {\"target\": 578.0, \"preds\": null}, {\"target\": 574.0, \"preds\": null}, {\"target\": 572.0, \"preds\": null}, {\"target\": 581.0, \"preds\": null}, {\"target\": 571.0, \"preds\": null}, {\"target\": 624.5, \"preds\": null}, {\"target\": 624.5, \"preds\": null}, {\"target\": 578.0, \"preds\": null}, {\"target\": 624.5, \"preds\": null}, {\"target\": 568.0, \"preds\": null}, {\"target\": 586.0, \"preds\": null}, {\"target\": 591.0, \"preds\": null}, {\"target\": 590.0, \"preds\": null}, {\"target\": 577.0, \"preds\": null}, {\"target\": 624.5, \"preds\": null}, {\"target\": 587.0, \"preds\": null}, {\"target\": 576.0, \"preds\": null}, {\"target\": 578.0, \"preds\": null}, {\"target\": 568.0, \"preds\": null}, {\"target\": 568.0, \"preds\": null}, {\"target\": 624.5, \"preds\": null}, {\"target\": 585.0, \"preds\": null}, {\"target\": 563.0, \"preds\": null}, {\"target\": 606.0, \"preds\": null}, {\"target\": 573.0, \"preds\": null}, {\"target\": 581.0, \"preds\": null}, {\"target\": 562.0, \"preds\": null}, {\"target\": 565.0, \"preds\": null}, {\"target\": 587.0, \"preds\": null}, {\"target\": 583.0, \"preds\": null}, {\"target\": 582.0, \"preds\": null}, {\"target\": 594.0, \"preds\": null}, {\"target\": 574.0, \"preds\": null}, {\"target\": 578.0, \"preds\": null}, {\"target\": 568.0, \"preds\": null}, {\"target\": 581.0, \"preds\": null}, {\"target\": 591.0, \"preds\": null}, {\"target\": 564.0, \"preds\": null}, {\"target\": 594.0, \"preds\": null}, {\"target\": 565.0, \"preds\": null}, {\"target\": 598.0, \"preds\": null}, {\"target\": 567.0, \"preds\": null}, {\"target\": 568.0, \"preds\": null}, {\"target\": 568.0, \"preds\": null}, {\"target\": 574.0, \"preds\": null}, {\"target\": 624.5, \"preds\": null}, {\"target\": 581.0, \"preds\": null}, {\"target\": 576.0, \"preds\": null}, {\"target\": 585.0, \"preds\": null}, {\"target\": 567.0, \"preds\": null}, {\"target\": 569.0, \"preds\": null}, {\"target\": 570.0, \"preds\": null}, {\"target\": 576.0, \"preds\": null}, {\"target\": 585.0, \"preds\": null}, {\"target\": 594.0, \"preds\": null}, {\"target\": 624.5, \"preds\": null}, {\"target\": 560.0, \"preds\": null}, {\"target\": 571.0, \"preds\": null}, {\"target\": 606.0, \"preds\": null}, {\"target\": 565.0, \"preds\": null}, {\"target\": 572.0, \"preds\": null}, {\"target\": 569.0, \"preds\": null}, {\"target\": 624.5, \"preds\": null}, {\"target\": 572.0, \"preds\": null}, {\"target\": 578.0, \"preds\": null}, {\"target\": 574.0, \"preds\": null}, {\"target\": 594.0, \"preds\": null}, {\"target\": 568.0, \"preds\": null}, {\"target\": 568.0, \"preds\": null}, {\"target\": 624.5, \"preds\": null}, {\"target\": 624.5, \"preds\": null}, {\"target\": 562.0, \"preds\": null}, {\"target\": 563.0, \"preds\": null}, {\"target\": 594.0, \"preds\": null}, {\"target\": 609.0, \"preds\": null}, {\"target\": 562.0, \"preds\": null}, {\"target\": 564.0, \"preds\": null}, {\"target\": 568.0, \"preds\": null}, {\"target\": 577.0, \"preds\": null}, {\"target\": 578.0, \"preds\": null}, {\"target\": 577.0, \"preds\": null}, {\"target\": 590.0, \"preds\": null}, {\"target\": 585.0, \"preds\": null}, {\"target\": 587.0, \"preds\": null}, {\"target\": 568.0, \"preds\": null}, {\"target\": 600.0, \"preds\": null}, {\"target\": 564.0, \"preds\": null}, {\"target\": 562.0, \"preds\": null}, {\"target\": 571.0, \"preds\": null}, {\"target\": 594.0, \"preds\": null}, {\"target\": 587.0, \"preds\": null}, {\"target\": 613.0, \"preds\": null}, {\"target\": 566.0, \"preds\": null}, {\"target\": 624.5, \"preds\": null}, {\"target\": 622.0, \"preds\": null}, {\"target\": 571.0, \"preds\": null}, {\"target\": 573.0, \"preds\": null}, {\"target\": 562.0, \"preds\": null}, {\"target\": 606.0, \"preds\": null}, {\"target\": 577.0, \"preds\": null}, {\"target\": 574.0, \"preds\": null}, {\"target\": 563.0, \"preds\": null}, {\"target\": 624.5, \"preds\": null}, {\"target\": 578.0, \"preds\": null}, {\"target\": 565.0, \"preds\": null}, {\"target\": 568.0, \"preds\": null}, {\"target\": 567.0, \"preds\": null}, {\"target\": 586.0, \"preds\": null}, {\"target\": 569.0, \"preds\": null}, {\"target\": 595.0, \"preds\": null}, {\"target\": 567.0, \"preds\": null}, {\"target\": 567.0, \"preds\": null}, {\"target\": 564.0, \"preds\": null}, {\"target\": 624.5, \"preds\": null}, {\"target\": 574.0, \"preds\": null}, {\"target\": 574.0, \"preds\": null}, {\"target\": 565.0, \"preds\": null}, {\"target\": 592.0, \"preds\": null}, {\"target\": 581.0, \"preds\": null}, {\"target\": 571.0, \"preds\": null}, {\"target\": 592.0, \"preds\": null}, {\"target\": 568.0, \"preds\": null}, {\"target\": 573.0, \"preds\": null}, {\"target\": 563.0, \"preds\": null}, {\"target\": 606.0, \"preds\": null}, {\"target\": 585.0, \"preds\": null}, {\"target\": 568.0, \"preds\": null}, {\"target\": 574.0, \"preds\": null}, {\"target\": 569.0, \"preds\": null}, {\"target\": 581.0, \"preds\": null}, {\"target\": 574.0, \"preds\": null}, {\"target\": 563.0, \"preds\": null}, {\"target\": 581.0, \"preds\": null}, {\"target\": 564.0, \"preds\": null}, {\"target\": 571.0, \"preds\": null}, {\"target\": 590.0, \"preds\": null}, {\"target\": 574.0, \"preds\": null}, {\"target\": 581.0, \"preds\": null}, {\"target\": 564.0, \"preds\": null}, {\"target\": 564.0, \"preds\": null}, {\"target\": 564.0, \"preds\": null}, {\"target\": 567.0, \"preds\": null}, {\"target\": 561.0, \"preds\": null}, {\"target\": 571.0, \"preds\": null}, {\"target\": 578.0, \"preds\": null}, {\"target\": 562.0, \"preds\": null}, {\"target\": 573.0, \"preds\": null}, {\"target\": 564.0, \"preds\": null}, {\"target\": 568.0, \"preds\": null}, {\"target\": 572.0, \"preds\": null}, {\"target\": 570.0, \"preds\": null}, {\"target\": 567.0, \"preds\": null}, {\"target\": 571.0, \"preds\": null}, {\"target\": 600.0, \"preds\": null}, {\"target\": 569.0, \"preds\": null}, {\"target\": 624.5, \"preds\": null}, {\"target\": 574.0, \"preds\": null}, {\"target\": 574.0, \"preds\": null}, {\"target\": 568.0, \"preds\": null}, {\"target\": 571.0, \"preds\": null}, {\"target\": 568.0, \"preds\": null}, {\"target\": 600.0, \"preds\": null}, {\"target\": 586.0, \"preds\": null}, {\"target\": 571.0, \"preds\": null}, {\"target\": 568.0, \"preds\": null}, {\"target\": 597.0, \"preds\": null}, {\"target\": 594.0, \"preds\": null}, {\"target\": 572.0, \"preds\": null}, {\"target\": 574.0, \"preds\": null}, {\"target\": 581.0, \"preds\": null}, {\"target\": 568.0, \"preds\": null}, {\"target\": 563.0, \"preds\": null}, {\"target\": 559.0, \"preds\": null}, {\"target\": 590.0, \"preds\": null}, {\"target\": 565.0, \"preds\": null}, {\"target\": 571.0, \"preds\": null}, {\"target\": 574.0, \"preds\": null}, {\"target\": 565.0, \"preds\": null}, {\"target\": 565.0, \"preds\": null}, {\"target\": 573.0, \"preds\": null}, {\"target\": 574.0, \"preds\": null}, {\"target\": 582.0, \"preds\": null}, {\"target\": 571.0, \"preds\": null}, {\"target\": 574.0, \"preds\": null}, {\"target\": 563.0, \"preds\": null}, {\"target\": 581.0, \"preds\": null}, {\"target\": 568.0, \"preds\": null}, {\"target\": 569.0, \"preds\": null}, {\"target\": 574.0, \"preds\": null}, {\"target\": 586.0, \"preds\": null}, {\"target\": 576.0, \"preds\": null}, {\"target\": 568.0, \"preds\": null}, {\"target\": 588.0, \"preds\": null}, {\"target\": 568.0, \"preds\": null}, {\"target\": 574.0, \"preds\": null}, {\"target\": 567.0, \"preds\": null}, {\"target\": 574.0, \"preds\": null}, {\"target\": 574.0, \"preds\": null}, {\"target\": 565.0, \"preds\": null}, {\"target\": 572.0, \"preds\": null}, {\"target\": 567.0, \"preds\": null}, {\"target\": 624.5, \"preds\": null}, {\"target\": 565.0, \"preds\": null}, {\"target\": 576.0, \"preds\": null}, {\"target\": 574.0, \"preds\": null}, {\"target\": 574.0, \"preds\": null}, {\"target\": 574.0, \"preds\": null}, {\"target\": 624.5, \"preds\": null}, {\"target\": 567.0, \"preds\": null}, {\"target\": 564.0, \"preds\": null}, {\"target\": 577.0, \"preds\": null}, {\"target\": 574.0, \"preds\": null}, {\"target\": 587.0, \"preds\": null}, {\"target\": 565.0, \"preds\": null}, {\"target\": 566.0, \"preds\": null}, {\"target\": 571.0, \"preds\": null}, {\"target\": 624.5, \"preds\": null}, {\"target\": 573.0, \"preds\": null}, {\"target\": 587.0, \"preds\": null}, {\"target\": 578.0, \"preds\": null}, {\"target\": 577.0, \"preds\": null}, {\"target\": 566.0, \"preds\": null}, {\"target\": 574.0, \"preds\": null}, {\"target\": 568.0, \"preds\": null}, {\"target\": 562.0, \"preds\": null}, {\"target\": 574.0, \"preds\": null}, {\"target\": 599.0, \"preds\": null}, {\"target\": 565.0, \"preds\": null}, {\"target\": 624.5, \"preds\": null}, {\"target\": 583.0, \"preds\": null}, {\"target\": 572.0, \"preds\": null}, {\"target\": 594.0, \"preds\": null}, {\"target\": 571.0, \"preds\": null}, {\"target\": 578.0, \"preds\": null}, {\"target\": 580.0, \"preds\": null}, {\"target\": 571.0, \"preds\": null}, {\"target\": 562.0, \"preds\": null}, {\"target\": 574.0, \"preds\": null}, {\"target\": 577.0, \"preds\": null}, {\"target\": 578.0, \"preds\": null}, {\"target\": 567.0, \"preds\": null}, {\"target\": 571.0, \"preds\": null}, {\"target\": 565.0, \"preds\": null}, {\"target\": 576.0, \"preds\": null}, {\"target\": 565.0, \"preds\": null}, {\"target\": 568.0, \"preds\": null}, {\"target\": 565.0, \"preds\": null}, {\"target\": 576.0, \"preds\": null}, {\"target\": 568.0, \"preds\": null}, {\"target\": 570.0, \"preds\": null}, {\"target\": 568.0, \"preds\": null}, {\"target\": 564.0, \"preds\": null}, {\"target\": 578.0, \"preds\": null}, {\"target\": 606.0, \"preds\": null}, {\"target\": 562.0, \"preds\": null}, {\"target\": 581.0, \"preds\": null}, {\"target\": 573.0, \"preds\": null}, {\"target\": 572.0, \"preds\": null}, {\"target\": 567.0, \"preds\": null}, {\"target\": 568.0, \"preds\": null}, {\"target\": 571.0, \"preds\": null}, {\"target\": 569.0, \"preds\": null}, {\"target\": 568.0, \"preds\": null}, {\"target\": 624.5, \"preds\": null}, {\"target\": 613.0, \"preds\": null}, {\"target\": 624.5, \"preds\": null}, {\"target\": 571.0, \"preds\": null}, {\"target\": 624.5, \"preds\": null}, {\"target\": 585.0, \"preds\": null}, {\"target\": 576.0, \"preds\": null}, {\"target\": 572.0, \"preds\": null}, {\"target\": 564.0, \"preds\": null}, {\"target\": 560.0, \"preds\": null}, {\"target\": 571.0, \"preds\": null}, {\"target\": 565.0, \"preds\": null}, {\"target\": 564.0, \"preds\": null}, {\"target\": 581.0, \"preds\": null}, {\"target\": 574.0, \"preds\": null}, {\"target\": 569.0, \"preds\": null}, {\"target\": 624.5, \"preds\": null}, {\"target\": 571.0, \"preds\": null}, {\"target\": 566.0, \"preds\": null}, {\"target\": 604.0, \"preds\": null}, {\"target\": 567.0, \"preds\": null}, {\"target\": 566.0, \"preds\": null}, {\"target\": 564.0, \"preds\": null}, {\"target\": 566.0, \"preds\": null}, {\"target\": 564.0, \"preds\": null}, {\"target\": 564.0, \"preds\": null}, {\"target\": 561.0, \"preds\": null}, {\"target\": 583.0, \"preds\": null}, {\"target\": 568.0, \"preds\": null}, {\"target\": 576.0, \"preds\": null}, {\"target\": 624.5, \"preds\": null}, {\"target\": 574.0, \"preds\": null}, {\"target\": 581.0, \"preds\": null}, {\"target\": 574.0, \"preds\": null}, {\"target\": 567.0, \"preds\": null}, {\"target\": 573.0, \"preds\": null}, {\"target\": 574.0, \"preds\": null}, {\"target\": 565.0, \"preds\": null}, {\"target\": 571.0, \"preds\": null}, {\"target\": 565.0, \"preds\": null}, {\"target\": 569.0, \"preds\": null}, {\"target\": 569.0, \"preds\": null}, {\"target\": 578.0, \"preds\": null}, {\"target\": 565.0, \"preds\": null}, {\"target\": 587.0, \"preds\": null}, {\"target\": 571.0, \"preds\": null}, {\"target\": 562.0, \"preds\": null}, {\"target\": 573.0, \"preds\": null}, {\"target\": 600.0, \"preds\": null}, {\"target\": 565.0, \"preds\": null}, {\"target\": 576.0, \"preds\": null}, {\"target\": 576.0, \"preds\": null}, {\"target\": 600.0, \"preds\": null}, {\"target\": 562.0, \"preds\": null}, {\"target\": 587.0, \"preds\": null}, {\"target\": 561.0, \"preds\": null}, {\"target\": 565.0, \"preds\": null}, {\"target\": 576.0, \"preds\": null}, {\"target\": 578.0, \"preds\": null}, {\"target\": 564.0, \"preds\": null}, {\"target\": 565.0, \"preds\": null}, {\"target\": 568.0, \"preds\": null}, {\"target\": 564.0, \"preds\": null}, {\"target\": 624.5, \"preds\": null}, {\"target\": 572.0, \"preds\": null}, {\"target\": 624.5, \"preds\": null}, {\"target\": 572.0, \"preds\": null}, {\"target\": 588.0, \"preds\": null}, {\"target\": 566.0, \"preds\": null}, {\"target\": 574.0, \"preds\": null}, {\"target\": 581.0, \"preds\": null}, {\"target\": 574.0, \"preds\": null}, {\"target\": 573.0, \"preds\": null}, {\"target\": 569.0, \"preds\": null}, {\"target\": 564.0, \"preds\": null}, {\"target\": 588.0, \"preds\": null}, {\"target\": 565.0, \"preds\": null}, {\"target\": 574.0, \"preds\": null}, {\"target\": 571.0, \"preds\": null}, {\"target\": 583.0, \"preds\": null}, {\"target\": 564.0, \"preds\": null}, {\"target\": 564.0, \"preds\": null}, {\"target\": 613.0, \"preds\": null}, {\"target\": 581.0, \"preds\": null}, {\"target\": 573.0, \"preds\": null}, {\"target\": 578.0, \"preds\": null}, {\"target\": 581.0, \"preds\": null}, {\"target\": 568.0, \"preds\": null}, {\"target\": 578.0, \"preds\": null}, {\"target\": 562.0, \"preds\": null}, {\"target\": 571.0, \"preds\": null}, {\"target\": 567.0, \"preds\": null}, {\"target\": 571.0, \"preds\": null}, {\"target\": 581.0, \"preds\": null}, {\"target\": 571.0, \"preds\": null}, {\"target\": 567.0, \"preds\": null}, {\"target\": 583.0, \"preds\": null}, {\"target\": 585.0, \"preds\": null}, {\"target\": 571.0, \"preds\": null}, {\"target\": 597.0, \"preds\": null}, {\"target\": 581.0, \"preds\": null}, {\"target\": 567.0, \"preds\": null}, {\"target\": 564.0, \"preds\": null}, {\"target\": 573.0, \"preds\": null}, {\"target\": 582.0, \"preds\": null}, {\"target\": 576.0, \"preds\": null}, {\"target\": 587.0, \"preds\": null}, {\"target\": 570.0, \"preds\": null}, {\"target\": 574.0, \"preds\": null}, {\"target\": 561.0, \"preds\": null}, {\"target\": 567.0, \"preds\": null}, {\"target\": 576.0, \"preds\": null}, {\"target\": 571.0, \"preds\": null}, {\"target\": 572.0, \"preds\": null}, {\"target\": 575.0, \"preds\": null}, {\"target\": 563.0, \"preds\": null}, {\"target\": 568.0, \"preds\": null}, {\"target\": 559.0, \"preds\": null}, {\"target\": 565.0, \"preds\": null}, {\"target\": 576.0, \"preds\": null}, {\"target\": 600.0, \"preds\": null}, {\"target\": 581.0, \"preds\": null}, {\"target\": 576.0, \"preds\": null}, {\"target\": 566.0, \"preds\": null}, {\"target\": 576.0, \"preds\": null}, {\"target\": 578.0, \"preds\": null}, {\"target\": 565.0, \"preds\": null}, {\"target\": 567.0, \"preds\": null}, {\"target\": 572.0, \"preds\": null}, {\"target\": 587.0, \"preds\": null}, {\"target\": 624.5, \"preds\": null}, {\"target\": 572.0, \"preds\": null}, {\"target\": 581.0, \"preds\": null}, {\"target\": 578.0, \"preds\": null}, {\"target\": 565.0, \"preds\": null}, {\"target\": 576.0, \"preds\": null}, {\"target\": 578.0, \"preds\": null}, {\"target\": 580.0, \"preds\": null}, {\"target\": 565.0, \"preds\": null}, {\"target\": 574.0, \"preds\": null}, {\"target\": 580.0, \"preds\": null}, {\"target\": 613.0, \"preds\": null}, {\"target\": 581.0, \"preds\": null}, {\"target\": 562.0, \"preds\": null}, {\"target\": 574.0, \"preds\": null}, {\"target\": 594.0, \"preds\": null}, {\"target\": 571.0, \"preds\": null}, {\"target\": 568.0, \"preds\": null}, {\"target\": 571.0, \"preds\": null}, {\"target\": 613.0, \"preds\": null}, {\"target\": 569.0, \"preds\": null}, {\"target\": 563.0, \"preds\": null}, {\"target\": 563.0, \"preds\": null}, {\"target\": 564.0, \"preds\": null}, {\"target\": 568.0, \"preds\": null}, {\"target\": 576.0, \"preds\": null}, {\"target\": 583.0, \"preds\": null}, {\"target\": 573.0, \"preds\": null}, {\"target\": 578.0, \"preds\": null}, {\"target\": 569.0, \"preds\": null}, {\"target\": 581.0, \"preds\": null}, {\"target\": 624.5, \"preds\": null}, {\"target\": 572.0, \"preds\": null}, {\"target\": 564.0, \"preds\": null}, {\"target\": 571.0, \"preds\": null}, {\"target\": 574.0, \"preds\": null}, {\"target\": 591.0, \"preds\": null}, {\"target\": 567.0, \"preds\": null}, {\"target\": 576.0, \"preds\": null}, {\"target\": 581.0, \"preds\": null}, {\"target\": 583.0, \"preds\": null}, {\"target\": 624.5, \"preds\": null}, {\"target\": 562.0, \"preds\": null}, {\"target\": 565.0, \"preds\": null}, {\"target\": 613.0, \"preds\": null}, {\"target\": 574.0, \"preds\": null}, {\"target\": 560.0, \"preds\": null}, {\"target\": 587.0, \"preds\": null}, {\"target\": 577.0, \"preds\": null}, {\"target\": 619.0, \"preds\": null}, {\"target\": 583.0, \"preds\": null}, {\"target\": 571.0, \"preds\": null}, {\"target\": 568.0, \"preds\": null}, {\"target\": 568.0, \"preds\": null}, {\"target\": 588.0, \"preds\": null}, {\"target\": 571.0, \"preds\": null}, {\"target\": 566.0, \"preds\": null}, {\"target\": 571.0, \"preds\": null}, {\"target\": 588.0, \"preds\": null}, {\"target\": 572.0, \"preds\": null}, {\"target\": 594.0, \"preds\": null}, {\"target\": 571.0, \"preds\": null}, {\"target\": 568.0, \"preds\": null}, {\"target\": 572.0, \"preds\": null}, {\"target\": 572.0, \"preds\": null}, {\"target\": 565.0, \"preds\": null}, {\"target\": 563.0, \"preds\": null}, {\"target\": 577.0, \"preds\": null}, {\"target\": 577.0, \"preds\": null}, {\"target\": 574.0, \"preds\": null}, {\"target\": 566.0, \"preds\": null}, {\"target\": 566.0, \"preds\": null}, {\"target\": 569.0, \"preds\": null}, {\"target\": 576.0, \"preds\": null}, {\"target\": 568.0, \"preds\": null}, {\"target\": 624.5, \"preds\": null}, {\"target\": 564.0, \"preds\": null}, {\"target\": 577.0, \"preds\": null}, {\"target\": 577.0, \"preds\": null}, {\"target\": 605.0, \"preds\": null}, {\"target\": 564.0, \"preds\": null}, {\"target\": 574.0, \"preds\": null}, {\"target\": 577.0, \"preds\": null}, {\"target\": 564.0, \"preds\": null}, {\"target\": 624.5, \"preds\": null}, {\"target\": 566.0, \"preds\": null}, {\"target\": 565.0, \"preds\": null}, {\"target\": 568.0, \"preds\": null}, {\"target\": 599.0, \"preds\": null}, {\"target\": 577.0, \"preds\": null}, {\"target\": 577.0, \"preds\": null}, {\"target\": 566.0, \"preds\": null}, {\"target\": 568.0, \"preds\": null}, {\"target\": 565.0, \"preds\": null}, {\"target\": 594.0, \"preds\": null}, {\"target\": 574.0, \"preds\": null}, {\"target\": 587.0, \"preds\": null}, {\"target\": 576.0, \"preds\": null}, {\"target\": 606.0, \"preds\": null}, {\"target\": 574.0, \"preds\": null}, {\"target\": 571.0, \"preds\": null}, {\"target\": 600.0, \"preds\": null}, {\"target\": 565.0, \"preds\": null}, {\"target\": 569.0, \"preds\": null}, {\"target\": 581.0, \"preds\": null}, {\"target\": 567.0, \"preds\": null}, {\"target\": 576.0, \"preds\": null}, {\"target\": 571.0, \"preds\": null}, {\"target\": 571.0, \"preds\": null}, {\"target\": 574.0, \"preds\": null}, {\"target\": 573.0, \"preds\": null}, {\"target\": 624.5, \"preds\": null}, {\"target\": 568.0, \"preds\": null}, {\"target\": 577.0, \"preds\": null}, {\"target\": 624.5, \"preds\": null}, {\"target\": 588.0, \"preds\": null}, {\"target\": 566.0, \"preds\": null}, {\"target\": 568.0, \"preds\": null}, {\"target\": 587.0, \"preds\": null}, {\"target\": 568.0, \"preds\": null}, {\"target\": 572.0, \"preds\": null}, {\"target\": 576.0, \"preds\": null}, {\"target\": 567.0, \"preds\": null}, {\"target\": 578.0, \"preds\": null}, {\"target\": 586.0, \"preds\": null}, {\"target\": 563.0, \"preds\": null}, {\"target\": 578.0, \"preds\": null}, {\"target\": 581.0, \"preds\": null}, {\"target\": 573.0, \"preds\": null}, {\"target\": 567.0, \"preds\": null}, {\"target\": 574.0, \"preds\": null}, {\"target\": 624.5, \"preds\": null}, {\"target\": 565.0, \"preds\": null}, {\"target\": 567.0, \"preds\": null}, {\"target\": 624.5, \"preds\": null}, {\"target\": 564.0, \"preds\": null}, {\"target\": 585.0, \"preds\": null}, {\"target\": 563.0, \"preds\": null}, {\"target\": 572.0, \"preds\": null}, {\"target\": 574.0, \"preds\": null}, {\"target\": 568.0, \"preds\": null}, {\"target\": 568.0, \"preds\": null}, {\"target\": 564.0, \"preds\": null}, {\"target\": 564.0, \"preds\": null}, {\"target\": 564.0, \"preds\": null}, {\"target\": 583.0, \"preds\": null}, {\"target\": 564.0, \"preds\": null}, {\"target\": 574.0, \"preds\": null}, {\"target\": 564.0, \"preds\": null}, {\"target\": 574.0, \"preds\": null}, {\"target\": 567.0, \"preds\": null}, {\"target\": 578.0, \"preds\": null}, {\"target\": 566.0, \"preds\": null}, {\"target\": 577.0, \"preds\": null}, {\"target\": 571.0, \"preds\": null}, {\"target\": 594.0, \"preds\": null}, {\"target\": 560.0, \"preds\": null}, {\"target\": 573.0, \"preds\": null}, {\"target\": 565.0, \"preds\": null}, {\"target\": 571.0, \"preds\": null}, {\"target\": 624.5, \"preds\": null}, {\"target\": 573.0, \"preds\": null}, {\"target\": 565.0, \"preds\": null}, {\"target\": 578.0, \"preds\": null}, {\"target\": 590.0, \"preds\": null}, {\"target\": 576.0, \"preds\": null}, {\"target\": 571.0, \"preds\": null}, {\"target\": 573.0, \"preds\": null}, {\"target\": 564.0, \"preds\": null}, {\"target\": 569.0, \"preds\": null}, {\"target\": 564.0, \"preds\": null}, {\"target\": 624.5, \"preds\": null}, {\"target\": 568.0, \"preds\": null}, {\"target\": 580.0, \"preds\": null}, {\"target\": 568.0, \"preds\": null}, {\"target\": 572.0, \"preds\": null}, {\"target\": 571.0, \"preds\": null}, {\"target\": 568.0, \"preds\": null}, {\"target\": 576.0, \"preds\": null}, {\"target\": 569.0, \"preds\": null}, {\"target\": 574.0, \"preds\": null}, {\"target\": 574.0, \"preds\": null}, {\"target\": 571.0, \"preds\": null}, {\"target\": 568.0, \"preds\": null}, {\"target\": 564.0, \"preds\": null}, {\"target\": 568.0, \"preds\": null}, {\"target\": 567.0, \"preds\": null}, {\"target\": 569.0, \"preds\": null}, {\"target\": 581.0, \"preds\": null}, {\"target\": 567.0, \"preds\": null}, {\"target\": 568.0, \"preds\": null}, {\"target\": 576.0, \"preds\": null}, {\"target\": 572.0, \"preds\": null}, {\"target\": 576.0, \"preds\": null}, {\"target\": 566.0, \"preds\": null}, {\"target\": 574.0, \"preds\": null}, {\"target\": 572.0, \"preds\": null}, {\"target\": 588.0, \"preds\": null}, {\"target\": 569.0, \"preds\": null}, {\"target\": 578.0, \"preds\": null}, {\"target\": 568.0, \"preds\": null}, {\"target\": 606.0, \"preds\": null}, {\"target\": 586.0, \"preds\": null}, {\"target\": 578.0, \"preds\": null}, {\"target\": 569.0, \"preds\": null}, {\"target\": 585.0, \"preds\": null}, {\"target\": 569.0, \"preds\": null}, {\"target\": 565.0, \"preds\": null}, {\"target\": 572.0, \"preds\": null}, {\"target\": 569.0, \"preds\": null}, {\"target\": 572.0, \"preds\": null}, {\"target\": 587.0, \"preds\": null}, {\"target\": 571.0, \"preds\": null}, {\"target\": 587.0, \"preds\": null}, {\"target\": 566.0, \"preds\": null}, {\"target\": 566.0, \"preds\": null}, {\"target\": 562.0, \"preds\": null}, {\"target\": 566.0, \"preds\": null}, {\"target\": 624.5, \"preds\": null}, {\"target\": 565.0, \"preds\": null}, {\"target\": 571.0, \"preds\": null}, {\"target\": 578.0, \"preds\": null}, {\"target\": 572.0, \"preds\": null}, {\"target\": 624.5, \"preds\": null}, {\"target\": 565.0, \"preds\": null}, {\"target\": 563.0, \"preds\": null}, {\"target\": 571.0, \"preds\": null}, {\"target\": 564.0, \"preds\": null}, {\"target\": 568.0, \"preds\": null}, {\"target\": 577.0, \"preds\": null}, {\"target\": 583.0, \"preds\": null}, {\"target\": 570.0, \"preds\": null}, {\"target\": 585.0, \"preds\": null}, {\"target\": 580.0, \"preds\": null}, {\"target\": 613.0, \"preds\": null}, {\"target\": 577.0, \"preds\": null}, {\"target\": 567.0, \"preds\": null}, {\"target\": 571.0, \"preds\": null}, {\"target\": 606.0, \"preds\": null}, {\"target\": 567.0, \"preds\": null}, {\"target\": 567.0, \"preds\": null}, {\"target\": 587.0, \"preds\": null}, {\"target\": 568.0, \"preds\": null}, {\"target\": 571.0, \"preds\": null}, {\"target\": 580.0, \"preds\": null}, {\"target\": 568.0, \"preds\": null}, {\"target\": 581.0, \"preds\": null}, {\"target\": 591.0, \"preds\": null}, {\"target\": 568.0, \"preds\": null}, {\"target\": 565.0, \"preds\": null}, {\"target\": 572.0, \"preds\": null}, {\"target\": 601.0, \"preds\": null}, {\"target\": 574.0, \"preds\": null}, {\"target\": 562.0, \"preds\": null}, {\"target\": 568.0, \"preds\": null}, {\"target\": 566.0, \"preds\": null}, {\"target\": 569.0, \"preds\": null}, {\"target\": 565.0, \"preds\": null}, {\"target\": 571.0, \"preds\": null}, {\"target\": 562.0, \"preds\": null}, {\"target\": 564.0, \"preds\": null}, {\"target\": 574.0, \"preds\": null}, {\"target\": 568.0, \"preds\": null}, {\"target\": 603.0, \"preds\": null}, {\"target\": 564.0, \"preds\": null}, {\"target\": 564.0, \"preds\": null}, {\"target\": 576.0, \"preds\": null}, {\"target\": 599.0, \"preds\": null}, {\"target\": 574.0, \"preds\": null}, {\"target\": 565.0, \"preds\": null}, {\"target\": 583.0, \"preds\": null}, {\"target\": 624.5, \"preds\": null}, {\"target\": 563.0, \"preds\": null}, {\"target\": 573.0, \"preds\": null}, {\"target\": 570.0, \"preds\": null}, {\"target\": 576.0, \"preds\": null}, {\"target\": 565.0, \"preds\": null}, {\"target\": 568.0, \"preds\": null}, {\"target\": 579.0, \"preds\": null}, {\"target\": 577.0, \"preds\": null}, {\"target\": 600.0, \"preds\": null}, {\"target\": 567.0, \"preds\": null}, {\"target\": 569.0, \"preds\": null}, {\"target\": 571.0, \"preds\": null}, {\"target\": 572.0, \"preds\": null}, {\"target\": 601.0, \"preds\": null}, {\"target\": 624.5, \"preds\": null}, {\"target\": 571.0, \"preds\": null}, {\"target\": 578.0, \"preds\": null}, {\"target\": 568.0, \"preds\": null}, {\"target\": 578.0, \"preds\": null}, {\"target\": 603.0, \"preds\": null}, {\"target\": 578.0, \"preds\": null}, {\"target\": 587.0, \"preds\": null}, {\"target\": 568.0, \"preds\": null}, {\"target\": 574.0, \"preds\": null}, {\"target\": 600.0, \"preds\": null}, {\"target\": 562.0, \"preds\": null}, {\"target\": 585.0, \"preds\": null}, {\"target\": 574.0, \"preds\": null}, {\"target\": 579.0, \"preds\": null}, {\"target\": 591.0, \"preds\": null}, {\"target\": 596.0, \"preds\": null}, {\"target\": 573.0, \"preds\": null}, {\"target\": 564.0, \"preds\": null}, {\"target\": 597.0, \"preds\": null}, {\"target\": 624.5, \"preds\": null}, {\"target\": 578.0, \"preds\": null}, {\"target\": 576.0, \"preds\": null}, {\"target\": 566.0, \"preds\": null}, {\"target\": 568.0, \"preds\": null}, {\"target\": 572.0, \"preds\": null}, {\"target\": 571.0, \"preds\": null}, {\"target\": 568.0, \"preds\": null}, {\"target\": 574.0, \"preds\": null}, {\"target\": 600.0, \"preds\": null}, {\"target\": 624.5, \"preds\": null}, {\"target\": 596.0, \"preds\": null}, {\"target\": 600.0, \"preds\": null}, {\"target\": 569.0, \"preds\": null}, {\"target\": 571.0, \"preds\": null}, {\"target\": 606.0, \"preds\": null}, {\"target\": 565.0, \"preds\": null}, {\"target\": 581.0, \"preds\": null}, {\"target\": 571.0, \"preds\": null}, {\"target\": 574.0, \"preds\": null}, {\"target\": 590.0, \"preds\": null}, {\"target\": 572.0, \"preds\": null}, {\"target\": 567.0, \"preds\": null}, {\"target\": 571.0, \"preds\": null}, {\"target\": 578.0, \"preds\": null}, {\"target\": 573.0, \"preds\": null}, {\"target\": 606.0, \"preds\": null}, {\"target\": 624.5, \"preds\": null}, {\"target\": 574.0, \"preds\": null}, {\"target\": 566.0, \"preds\": null}, {\"target\": 590.0, \"preds\": null}, {\"target\": 574.0, \"preds\": null}, {\"target\": 562.0, \"preds\": null}, {\"target\": 588.0, \"preds\": null}, {\"target\": 573.0, \"preds\": null}, {\"target\": 581.0, \"preds\": null}, {\"target\": 571.0, \"preds\": null}, {\"target\": 577.0, \"preds\": null}, {\"target\": 624.5, \"preds\": null}, {\"target\": 580.0, \"preds\": null}, {\"target\": 574.0, \"preds\": null}, {\"target\": 569.0, \"preds\": null}, {\"target\": 597.0, \"preds\": null}, {\"target\": 585.0, \"preds\": null}, {\"target\": 568.0, \"preds\": null}, {\"target\": 571.0, \"preds\": null}, {\"target\": 617.0, \"preds\": null}, {\"target\": 573.0, \"preds\": null}, {\"target\": 564.0, \"preds\": null}, {\"target\": 572.0, \"preds\": null}, {\"target\": 569.0, \"preds\": null}, {\"target\": 567.0, \"preds\": null}, {\"target\": 565.0, \"preds\": null}, {\"target\": 576.0, \"preds\": null}, {\"target\": 578.0, \"preds\": null}, {\"target\": 566.0, \"preds\": null}, {\"target\": 571.0, \"preds\": null}, {\"target\": 568.0, \"preds\": null}, {\"target\": 572.0, \"preds\": null}, {\"target\": 583.0, \"preds\": null}, {\"target\": 569.0, \"preds\": null}, {\"target\": 569.0, \"preds\": null}, {\"target\": 581.0, \"preds\": null}, {\"target\": 573.0, \"preds\": null}, {\"target\": 571.0, \"preds\": null}, {\"target\": 569.0, \"preds\": null}, {\"target\": 594.0, \"preds\": null}, {\"target\": 567.0, \"preds\": null}, {\"target\": 600.0, \"preds\": null}, {\"target\": 567.0, \"preds\": null}, {\"target\": 567.0, \"preds\": null}, {\"target\": 624.5, \"preds\": null}, {\"target\": 569.0, \"preds\": null}, {\"target\": 569.0, \"preds\": null}, {\"target\": 569.0, \"preds\": null}, {\"target\": 565.0, \"preds\": null}, {\"target\": 567.0, \"preds\": null}, {\"target\": 565.0, \"preds\": null}, {\"target\": 562.0, \"preds\": null}, {\"target\": 571.0, \"preds\": null}, {\"target\": 585.0, \"preds\": null}, {\"target\": 571.0, \"preds\": null}, {\"target\": 564.0, \"preds\": null}, {\"target\": 567.0, \"preds\": null}, {\"target\": 587.0, \"preds\": null}, {\"target\": 590.0, \"preds\": null}, {\"target\": 567.0, \"preds\": null}, {\"target\": 571.0, \"preds\": null}, {\"target\": 574.0, \"preds\": null}, {\"target\": 586.0, \"preds\": null}, {\"target\": 571.0, \"preds\": null}, {\"target\": 590.0, \"preds\": null}, {\"target\": 594.0, \"preds\": null}, {\"target\": 581.0, \"preds\": null}, {\"target\": 583.0, \"preds\": null}, {\"target\": 587.0, \"preds\": null}, {\"target\": 585.0, \"preds\": null}, {\"target\": 571.0, \"preds\": null}, {\"target\": 578.0, \"preds\": null}, {\"target\": 624.5, \"preds\": null}, {\"target\": 562.0, \"preds\": null}, {\"target\": 567.0, \"preds\": null}, {\"target\": 564.0, \"preds\": null}, {\"target\": 591.0, \"preds\": null}, {\"target\": 574.0, \"preds\": null}, {\"target\": 613.0, \"preds\": null}, {\"target\": 571.0, \"preds\": null}, {\"target\": 571.0, \"preds\": null}, {\"target\": 572.0, \"preds\": null}, {\"target\": 567.0, \"preds\": null}, {\"target\": 560.0, \"preds\": null}, {\"target\": 565.0, \"preds\": null}, {\"target\": 572.0, \"preds\": null}, {\"target\": 571.0, \"preds\": null}, {\"target\": 563.0, \"preds\": null}, {\"target\": 564.0, \"preds\": null}, {\"target\": 567.0, \"preds\": null}, {\"target\": 576.0, \"preds\": null}, {\"target\": 569.0, \"preds\": null}, {\"target\": 567.0, \"preds\": null}, {\"target\": 569.0, \"preds\": null}, {\"target\": 586.0, \"preds\": null}, {\"target\": 571.0, \"preds\": null}, {\"target\": 568.0, \"preds\": null}, {\"target\": 583.0, \"preds\": null}, {\"target\": 564.0, \"preds\": null}, {\"target\": 606.0, \"preds\": null}, {\"target\": 560.0, \"preds\": null}, {\"target\": 568.0, \"preds\": null}, {\"target\": 568.0, \"preds\": null}, {\"target\": 568.0, \"preds\": null}, {\"target\": 567.0, \"preds\": null}, {\"target\": 578.0, \"preds\": null}, {\"target\": 618.0, \"preds\": null}, {\"target\": 567.0, \"preds\": null}, {\"target\": 624.5, \"preds\": null}, {\"target\": 565.0, \"preds\": null}, {\"target\": 572.0, \"preds\": null}, {\"target\": 578.0, \"preds\": null}, {\"target\": 578.0, \"preds\": null}, {\"target\": 596.0, \"preds\": null}, {\"target\": 574.0, \"preds\": null}, {\"target\": 563.0, \"preds\": null}, {\"target\": 567.0, \"preds\": null}, {\"target\": 567.0, \"preds\": null}, {\"target\": 571.0, \"preds\": null}, {\"target\": 587.0, \"preds\": null}, {\"target\": 574.0, \"preds\": null}, {\"target\": 581.0, \"preds\": null}, {\"target\": 574.0, \"preds\": null}, {\"target\": 572.0, \"preds\": null}, {\"target\": 568.0, \"preds\": null}, {\"target\": 568.0, \"preds\": null}, {\"target\": 577.0, \"preds\": null}, {\"target\": 571.0, \"preds\": null}, {\"target\": 587.0, \"preds\": null}, {\"target\": 571.0, \"preds\": null}, {\"target\": 571.0, \"preds\": null}, {\"target\": 574.0, \"preds\": null}, {\"target\": 568.0, \"preds\": null}, {\"target\": 566.0, \"preds\": null}, {\"target\": 561.0, \"preds\": null}, {\"target\": 567.0, \"preds\": null}, {\"target\": 577.0, \"preds\": null}, {\"target\": 567.0, \"preds\": null}, {\"target\": 565.0, \"preds\": null}, {\"target\": 571.0, \"preds\": null}, {\"target\": 587.0, \"preds\": null}, {\"target\": 613.0, \"preds\": null}, {\"target\": 581.0, \"preds\": null}, {\"target\": 576.0, \"preds\": null}, {\"target\": 574.0, \"preds\": null}, {\"target\": 562.0, \"preds\": null}, {\"target\": 600.0, \"preds\": null}, {\"target\": 601.0, \"preds\": null}, {\"target\": 594.0, \"preds\": null}, {\"target\": 576.0, \"preds\": null}, {\"target\": 572.0, \"preds\": null}, {\"target\": 573.0, \"preds\": null}, {\"target\": 565.0, \"preds\": null}, {\"target\": 557.0, \"preds\": null}, {\"target\": 574.0, \"preds\": null}, {\"target\": 571.0, \"preds\": null}, {\"target\": 587.0, \"preds\": null}, {\"target\": 572.0, \"preds\": null}, {\"target\": 600.0, \"preds\": null}, {\"target\": 569.0, \"preds\": null}, {\"target\": 587.0, \"preds\": null}, {\"target\": 600.0, \"preds\": null}, {\"target\": 590.0, \"preds\": null}, {\"target\": 581.0, \"preds\": null}, {\"target\": 566.0, \"preds\": null}, {\"target\": 573.0, \"preds\": null}, {\"target\": 600.0, \"preds\": null}, {\"target\": 581.0, \"preds\": null}, {\"target\": 578.0, \"preds\": null}, {\"target\": 568.0, \"preds\": null}, {\"target\": 571.0, \"preds\": null}, {\"target\": 562.0, \"preds\": null}, {\"target\": 569.0, \"preds\": null}, {\"target\": 571.0, \"preds\": null}, {\"target\": 571.0, \"preds\": null}, {\"target\": 581.0, \"preds\": null}, {\"target\": 583.0, \"preds\": null}, {\"target\": 574.0, \"preds\": null}, {\"target\": 562.0, \"preds\": null}, {\"target\": 576.0, \"preds\": null}, {\"target\": 566.0, \"preds\": null}, {\"target\": 573.0, \"preds\": null}, {\"target\": 574.0, \"preds\": null}, {\"target\": 563.0, \"preds\": null}, {\"target\": 573.0, \"preds\": null}, {\"target\": 568.0, \"preds\": null}, {\"target\": 571.0, \"preds\": null}, {\"target\": 571.0, \"preds\": null}, {\"target\": 567.0, \"preds\": null}, {\"target\": 578.0, \"preds\": null}, {\"target\": 573.0, \"preds\": null}, {\"target\": 567.0, \"preds\": null}, {\"target\": 565.0, \"preds\": null}, {\"target\": 573.0, \"preds\": null}, {\"target\": 568.0, \"preds\": null}, {\"target\": 577.0, \"preds\": null}, {\"target\": 568.0, \"preds\": null}, {\"target\": 583.0, \"preds\": null}, {\"target\": 571.0, \"preds\": null}, {\"target\": 564.0, \"preds\": null}, {\"target\": 581.0, \"preds\": null}, {\"target\": 587.0, \"preds\": null}, {\"target\": 587.0, \"preds\": null}, {\"target\": 571.0, \"preds\": null}, {\"target\": 568.0, \"preds\": null}, {\"target\": 577.0, \"preds\": null}, {\"target\": 624.5, \"preds\": null}, {\"target\": 569.0, \"preds\": null}, {\"target\": 567.0, \"preds\": null}, {\"target\": 581.0, \"preds\": null}, {\"target\": 578.0, \"preds\": null}, {\"target\": 571.0, \"preds\": null}, {\"target\": 571.0, \"preds\": null}, {\"target\": 591.0, \"preds\": null}, {\"target\": 563.0, \"preds\": null}, {\"target\": 571.0, \"preds\": null}, {\"target\": 595.0, \"preds\": null}, {\"target\": 564.0, \"preds\": null}, {\"target\": 583.0, \"preds\": null}, {\"target\": 578.0, \"preds\": null}, {\"target\": 573.0, \"preds\": null}, {\"target\": 567.0, \"preds\": null}, {\"target\": 564.0, \"preds\": null}, {\"target\": 574.0, \"preds\": null}, {\"target\": 562.0, \"preds\": null}, {\"target\": 573.0, \"preds\": null}, {\"target\": 568.0, \"preds\": null}, {\"target\": 568.0, \"preds\": null}, {\"target\": 572.0, \"preds\": null}, {\"target\": 581.0, \"preds\": null}, {\"target\": 587.0, \"preds\": null}, {\"target\": 565.0, \"preds\": null}, {\"target\": 624.5, \"preds\": null}, {\"target\": 571.0, \"preds\": null}, {\"target\": 571.0, \"preds\": null}, {\"target\": 568.0, \"preds\": null}, {\"target\": 567.0, \"preds\": null}, {\"target\": 581.0, \"preds\": null}, {\"target\": 573.0, \"preds\": null}, {\"target\": 573.0, \"preds\": null}, {\"target\": 562.0, \"preds\": null}, {\"target\": 567.0, \"preds\": null}, {\"target\": 561.0, \"preds\": null}, {\"target\": 594.0, \"preds\": null}, {\"target\": 576.0, \"preds\": null}, {\"target\": 567.0, \"preds\": null}, {\"target\": 571.0, \"preds\": null}, {\"target\": 584.0, \"preds\": null}, {\"target\": 568.0, \"preds\": null}, {\"target\": 572.0, \"preds\": null}, {\"target\": 571.0, \"preds\": null}, {\"target\": 565.0, \"preds\": null}, {\"target\": 587.0, \"preds\": null}, {\"target\": 588.0, \"preds\": null}, {\"target\": 574.0, \"preds\": null}, {\"target\": 571.0, \"preds\": null}, {\"target\": 581.0, \"preds\": null}, {\"target\": 566.0, \"preds\": null}, {\"target\": 574.0, \"preds\": null}, {\"target\": 567.0, \"preds\": null}, {\"target\": 573.0, \"preds\": null}, {\"target\": 569.0, \"preds\": null}, {\"target\": 568.0, \"preds\": null}, {\"target\": 624.5, \"preds\": null}, {\"target\": 587.0, \"preds\": null}, {\"target\": 590.0, \"preds\": null}, {\"target\": 571.0, \"preds\": null}, {\"target\": 576.0, \"preds\": null}, {\"target\": 565.0, \"preds\": null}, {\"target\": 573.0, \"preds\": null}, {\"target\": 568.0, \"preds\": null}, {\"target\": 576.0, \"preds\": null}, {\"target\": 563.0, \"preds\": null}, {\"target\": 588.0, \"preds\": null}, {\"target\": 591.0, \"preds\": null}, {\"target\": 566.0, \"preds\": null}, {\"target\": 571.0, \"preds\": null}, {\"target\": 587.0, \"preds\": null}, {\"target\": 571.0, \"preds\": null}, {\"target\": 563.0, \"preds\": null}, {\"target\": 566.0, \"preds\": null}, {\"target\": 565.0, \"preds\": null}, {\"target\": 571.0, \"preds\": null}, {\"target\": 574.0, \"preds\": null}, {\"target\": 575.0, \"preds\": null}, {\"target\": 581.0, \"preds\": null}, {\"target\": 574.0, \"preds\": null}, {\"target\": 577.0, \"preds\": null}, {\"target\": 581.0, \"preds\": null}, {\"target\": 587.0, \"preds\": null}, {\"target\": 564.0, \"preds\": null}, {\"target\": 568.0, \"preds\": null}, {\"target\": 573.0, \"preds\": null}, {\"target\": 574.0, \"preds\": null}, {\"target\": 581.0, \"preds\": null}, {\"target\": 568.0, \"preds\": null}, {\"target\": 594.0, \"preds\": null}, {\"target\": 572.0, \"preds\": null}, {\"target\": 565.0, \"preds\": null}, {\"target\": 580.0, \"preds\": null}, {\"target\": 574.0, \"preds\": null}, {\"target\": 568.0, \"preds\": null}, {\"target\": 564.0, \"preds\": null}, {\"target\": 574.0, \"preds\": null}, {\"target\": 567.0, \"preds\": null}, {\"target\": 564.0, \"preds\": null}, {\"target\": 568.0, \"preds\": null}, {\"target\": 565.0, \"preds\": null}, {\"target\": 559.0, \"preds\": null}, {\"target\": 571.0, \"preds\": null}, {\"target\": 581.0, \"preds\": null}, {\"target\": 581.0, \"preds\": null}, {\"target\": 624.5, \"preds\": null}, {\"target\": 568.0, \"preds\": null}, {\"target\": 566.0, \"preds\": null}, {\"target\": 565.0, \"preds\": null}, {\"target\": 565.0, \"preds\": null}, {\"target\": 572.0, \"preds\": null}, {\"target\": 568.0, \"preds\": null}, {\"target\": 571.0, \"preds\": null}, {\"target\": 567.0, \"preds\": null}, {\"target\": 563.0, \"preds\": null}, {\"target\": 596.0, \"preds\": null}, {\"target\": 581.0, \"preds\": null}, {\"target\": 567.0, \"preds\": null}, {\"target\": 567.0, \"preds\": null}, {\"target\": 564.0, \"preds\": null}, {\"target\": 577.0, \"preds\": null}, {\"target\": 580.0, \"preds\": null}, {\"target\": 587.0, \"preds\": null}, {\"target\": 573.0, \"preds\": null}, {\"target\": 574.0, \"preds\": null}, {\"target\": 572.0, \"preds\": null}, {\"target\": 571.0, \"preds\": null}, {\"target\": 565.0, \"preds\": null}, {\"target\": 572.0, \"preds\": null}, {\"target\": 622.0, \"preds\": null}, {\"target\": 578.0, \"preds\": null}, {\"target\": 564.0, \"preds\": null}, {\"target\": 576.0, \"preds\": null}, {\"target\": 572.0, \"preds\": null}, {\"target\": 563.0, \"preds\": null}, {\"target\": 568.0, \"preds\": null}, {\"target\": 571.0, \"preds\": null}, {\"target\": 568.0, \"preds\": null}, {\"target\": 567.0, \"preds\": null}, {\"target\": 565.0, \"preds\": null}, {\"target\": 624.5, \"preds\": null}, {\"target\": 566.0, \"preds\": null}, {\"target\": 565.0, \"preds\": null}, {\"target\": 562.0, \"preds\": null}, {\"target\": 565.0, \"preds\": null}, {\"target\": 571.0, \"preds\": null}, {\"target\": 575.0, \"preds\": null}, {\"target\": 588.0, \"preds\": null}, {\"target\": 565.0, \"preds\": null}, {\"target\": 568.0, \"preds\": null}, {\"target\": 581.0, \"preds\": null}, {\"target\": 571.0, \"preds\": null}, {\"target\": 578.0, \"preds\": null}, {\"target\": 582.0, \"preds\": null}, {\"target\": 588.0, \"preds\": null}, {\"target\": 623.0, \"preds\": null}, {\"target\": 572.0, \"preds\": null}, {\"target\": 568.0, \"preds\": null}, {\"target\": 583.0, \"preds\": null}, {\"target\": 596.0, \"preds\": null}, {\"target\": 606.0, \"preds\": null}, {\"target\": 567.0, \"preds\": null}, {\"target\": 587.0, \"preds\": null}, {\"target\": 566.0, \"preds\": null}, {\"target\": 581.0, \"preds\": null}, {\"target\": 571.0, \"preds\": null}, {\"target\": 571.0, \"preds\": null}, {\"target\": 568.0, \"preds\": null}, {\"target\": 578.0, \"preds\": null}, {\"target\": 571.0, \"preds\": null}, {\"target\": 572.0, \"preds\": null}, {\"target\": 572.0, \"preds\": null}, {\"target\": 587.0, \"preds\": null}, {\"target\": 568.0, \"preds\": null}, {\"target\": 572.0, \"preds\": null}, {\"target\": 582.0, \"preds\": null}, {\"target\": 568.0, \"preds\": null}, {\"target\": 572.0, \"preds\": null}, {\"target\": 624.5, \"preds\": null}, {\"target\": 596.0, \"preds\": null}, {\"target\": 583.0, \"preds\": null}, {\"target\": 566.0, \"preds\": null}, {\"target\": 571.0, \"preds\": null}, {\"target\": 574.0, \"preds\": null}, {\"target\": 559.0, \"preds\": null}, {\"target\": 622.0, \"preds\": null}, {\"target\": 565.0, \"preds\": null}, {\"target\": 568.0, \"preds\": null}, {\"target\": 605.0, \"preds\": null}, {\"target\": 567.0, \"preds\": null}, {\"target\": 574.0, \"preds\": null}, {\"target\": 565.0, \"preds\": null}, {\"target\": 563.0, \"preds\": null}, {\"target\": 600.0, \"preds\": null}, {\"target\": 576.0, \"preds\": null}, {\"target\": 564.0, \"preds\": null}, {\"target\": 565.0, \"preds\": null}, {\"target\": 583.0, \"preds\": null}, {\"target\": 571.0, \"preds\": null}, {\"target\": 587.0, \"preds\": null}, {\"target\": 571.0, \"preds\": null}, {\"target\": 567.0, \"preds\": null}, {\"target\": 567.0, \"preds\": null}, {\"target\": 594.0, \"preds\": null}, {\"target\": 575.0, \"preds\": null}, {\"target\": 569.0, \"preds\": null}, {\"target\": 576.0, \"preds\": null}, {\"target\": 563.0, \"preds\": null}, {\"target\": 574.0, \"preds\": null}, {\"target\": 582.0, \"preds\": null}, {\"target\": 594.0, \"preds\": null}, {\"target\": 564.0, \"preds\": null}, {\"target\": 576.0, \"preds\": null}, {\"target\": 583.0, \"preds\": null}, {\"target\": 571.0, \"preds\": null}, {\"target\": 572.0, \"preds\": null}, {\"target\": 568.0, \"preds\": null}, {\"target\": 574.0, \"preds\": null}, {\"target\": 574.0, \"preds\": null}, {\"target\": 567.0, \"preds\": null}, {\"target\": 581.0, \"preds\": null}, {\"target\": 564.0, \"preds\": null}, {\"target\": 613.0, \"preds\": null}, {\"target\": 571.0, \"preds\": null}, {\"target\": 586.0, \"preds\": null}, {\"target\": 576.0, \"preds\": null}, {\"target\": 574.0, \"preds\": null}, {\"target\": 565.0, \"preds\": null}, {\"target\": 564.0, \"preds\": null}, {\"target\": 583.0, \"preds\": null}, {\"target\": 563.0, \"preds\": null}, {\"target\": 567.0, \"preds\": null}, {\"target\": 567.0, \"preds\": null}, {\"target\": 574.0, \"preds\": null}, {\"target\": 574.0, \"preds\": null}, {\"target\": 574.0, \"preds\": null}, {\"target\": 564.0, \"preds\": null}, {\"target\": 562.0, \"preds\": null}, {\"target\": 571.0, \"preds\": null}, {\"target\": 571.0, \"preds\": null}, {\"target\": 571.0, \"preds\": null}, {\"target\": 578.0, \"preds\": null}, {\"target\": 587.0, \"preds\": null}, {\"target\": 585.0, \"preds\": null}, {\"target\": 569.0, \"preds\": null}, {\"target\": 603.0, \"preds\": null}, {\"target\": 576.0, \"preds\": null}, {\"target\": 587.0, \"preds\": null}, {\"target\": 568.0, \"preds\": null}, {\"target\": 571.0, \"preds\": null}, {\"target\": 574.0, \"preds\": null}, {\"target\": 600.0, \"preds\": null}, {\"target\": 594.0, \"preds\": null}, {\"target\": 565.0, \"preds\": null}, {\"target\": 564.0, \"preds\": null}, {\"target\": 562.0, \"preds\": null}, {\"target\": 562.0, \"preds\": null}, {\"target\": 566.0, \"preds\": null}, {\"target\": 565.0, \"preds\": null}, {\"target\": 576.0, \"preds\": null}, {\"target\": 600.0, \"preds\": null}, {\"target\": 613.0, \"preds\": null}, {\"target\": 624.5, \"preds\": null}, {\"target\": 624.5, \"preds\": null}, {\"target\": 567.0, \"preds\": null}, {\"target\": 569.0, \"preds\": null}, {\"target\": 563.0, \"preds\": null}, {\"target\": 567.0, \"preds\": null}, {\"target\": 578.0, \"preds\": null}, {\"target\": 624.5, \"preds\": null}, {\"target\": 567.0, \"preds\": null}, {\"target\": 600.0, \"preds\": null}, {\"target\": 565.0, \"preds\": null}, {\"target\": 587.0, \"preds\": null}, {\"target\": 571.0, \"preds\": null}, {\"target\": 565.0, \"preds\": null}, {\"target\": 565.0, \"preds\": null}, {\"target\": 581.0, \"preds\": null}, {\"target\": 624.5, \"preds\": null}, {\"target\": 562.0, \"preds\": null}, {\"target\": 587.0, \"preds\": null}, {\"target\": 564.0, \"preds\": null}, {\"target\": 568.0, \"preds\": null}, {\"target\": 587.0, \"preds\": null}, {\"target\": 615.0, \"preds\": null}, {\"target\": 568.0, \"preds\": null}, {\"target\": 565.0, \"preds\": null}, {\"target\": 568.0, \"preds\": null}, {\"target\": 569.0, \"preds\": null}, {\"target\": 574.0, \"preds\": null}, {\"target\": 565.0, \"preds\": null}, {\"target\": 564.0, \"preds\": null}, {\"target\": 565.0, \"preds\": null}, {\"target\": 569.0, \"preds\": null}, {\"target\": 569.0, \"preds\": null}, {\"target\": 565.0, \"preds\": null}, {\"target\": 577.0, \"preds\": null}, {\"target\": 581.0, \"preds\": null}, {\"target\": 578.0, \"preds\": null}, {\"target\": 576.0, \"preds\": null}, {\"target\": 572.0, \"preds\": null}, {\"target\": 572.0, \"preds\": null}, {\"target\": 578.0, \"preds\": null}, {\"target\": 574.0, \"preds\": null}, {\"target\": 560.0, \"preds\": null}, {\"target\": 574.0, \"preds\": null}, {\"target\": 567.0, \"preds\": null}, {\"target\": 587.0, \"preds\": null}, {\"target\": 587.0, \"preds\": null}, {\"target\": 572.0, \"preds\": null}, {\"target\": 581.0, \"preds\": null}, {\"target\": 574.0, \"preds\": null}, {\"target\": 571.0, \"preds\": null}, {\"target\": 565.0, \"preds\": null}, {\"target\": 594.0, \"preds\": null}, {\"target\": 571.0, \"preds\": null}, {\"target\": 563.0, \"preds\": null}, {\"target\": 567.0, \"preds\": null}, {\"target\": 568.0, \"preds\": null}, {\"target\": 568.0, \"preds\": null}, {\"target\": 572.0, \"preds\": null}, {\"target\": 577.0, \"preds\": null}, {\"target\": 587.0, \"preds\": null}, {\"target\": 574.0, \"preds\": null}, {\"target\": 565.0, \"preds\": null}, {\"target\": 574.0, \"preds\": null}, {\"target\": 565.0, \"preds\": null}, {\"target\": 569.0, \"preds\": null}, {\"target\": 567.0, \"preds\": null}, {\"target\": 562.0, \"preds\": null}, {\"target\": 566.0, \"preds\": null}, {\"target\": 567.0, \"preds\": null}, {\"target\": 574.0, \"preds\": null}, {\"target\": 572.0, \"preds\": null}, {\"target\": 569.0, \"preds\": null}, {\"target\": 563.0, \"preds\": null}, {\"target\": 574.0, \"preds\": null}, {\"target\": 613.0, \"preds\": null}, {\"target\": 565.0, \"preds\": null}, {\"target\": 568.0, \"preds\": null}, {\"target\": 567.0, \"preds\": null}, {\"target\": 571.0, \"preds\": null}, {\"target\": 574.0, \"preds\": null}, {\"target\": 565.0, \"preds\": null}, {\"target\": 574.0, \"preds\": null}, {\"target\": 575.0, \"preds\": null}, {\"target\": 565.0, \"preds\": null}, {\"target\": 568.0, \"preds\": null}, {\"target\": 574.0, \"preds\": null}, {\"target\": 563.0, \"preds\": null}, {\"target\": 596.0, \"preds\": null}, {\"target\": 583.0, \"preds\": null}, {\"target\": 571.0, \"preds\": null}, {\"target\": 572.0, \"preds\": null}, {\"target\": 581.0, \"preds\": null}, {\"target\": 567.0, \"preds\": null}, {\"target\": 569.0, \"preds\": null}, {\"target\": 571.0, \"preds\": null}, {\"target\": 624.5, \"preds\": null}, {\"target\": 588.0, \"preds\": null}, {\"target\": 573.0, \"preds\": null}, {\"target\": 574.0, \"preds\": null}, {\"target\": 564.0, \"preds\": null}, {\"target\": 576.0, \"preds\": null}, {\"target\": 577.0, \"preds\": null}, {\"target\": 578.0, \"preds\": null}, {\"target\": 581.0, \"preds\": null}, {\"target\": 578.0, \"preds\": null}, {\"target\": 580.0, \"preds\": null}, {\"target\": 567.0, \"preds\": null}, {\"target\": 594.0, \"preds\": null}, {\"target\": 565.0, \"preds\": null}, {\"target\": 583.0, \"preds\": null}, {\"target\": 564.0, \"preds\": null}, {\"target\": 569.0, \"preds\": null}, {\"target\": 571.0, \"preds\": null}, {\"target\": 569.0, \"preds\": null}, {\"target\": 561.0, \"preds\": null}, {\"target\": 572.0, \"preds\": null}, {\"target\": 563.0, \"preds\": null}, {\"target\": 571.0, \"preds\": null}, {\"target\": 600.0, \"preds\": null}, {\"target\": 576.0, \"preds\": null}, {\"target\": 571.0, \"preds\": null}, {\"target\": 624.5, \"preds\": null}, {\"target\": 581.0, \"preds\": null}, {\"target\": 587.0, \"preds\": null}, {\"target\": 577.0, \"preds\": null}, {\"target\": 562.0, \"preds\": null}, {\"target\": 565.0, \"preds\": null}, {\"target\": 577.0, \"preds\": null}, {\"target\": 574.0, \"preds\": null}, {\"target\": 567.0, \"preds\": null}, {\"target\": 572.0, \"preds\": null}, {\"target\": 565.0, \"preds\": null}, {\"target\": 572.0, \"preds\": null}, {\"target\": 578.0, \"preds\": null}, {\"target\": 600.0, \"preds\": null}, {\"target\": 571.0, \"preds\": null}, {\"target\": 574.0, \"preds\": null}, {\"target\": 592.0, \"preds\": null}, {\"target\": 574.0, \"preds\": null}], \"data-1f6f6860f05918627a0a181d822eb138\": [{\"target\": 568.0, \"preds\": 568.0}, {\"target\": 581.0, \"preds\": 581.0}, {\"target\": 577.0, \"preds\": 577.0}, {\"target\": 565.0, \"preds\": 565.0}, {\"target\": 564.0, \"preds\": 564.0}, {\"target\": 568.0, \"preds\": 568.0}, {\"target\": 562.0, \"preds\": 562.0}, {\"target\": 588.0, \"preds\": 588.0}, {\"target\": 568.0, \"preds\": 568.0}, {\"target\": 587.0, \"preds\": 587.0}, {\"target\": 562.0, \"preds\": 562.0}, {\"target\": 564.0, \"preds\": 564.0}, {\"target\": 562.0, \"preds\": 562.0}, {\"target\": 566.0, \"preds\": 566.0}, {\"target\": 606.0, \"preds\": 606.0}, {\"target\": 563.0, \"preds\": 563.0}, {\"target\": 568.0, \"preds\": 568.0}, {\"target\": 569.0, \"preds\": 569.0}, {\"target\": 563.0, \"preds\": 563.0}, {\"target\": 567.0, \"preds\": 567.0}, {\"target\": 560.0, \"preds\": 560.0}, {\"target\": 564.0, \"preds\": 564.0}, {\"target\": 565.0, \"preds\": 565.0}, {\"target\": 564.0, \"preds\": 564.0}, {\"target\": 562.0, \"preds\": 562.0}, {\"target\": 563.0, \"preds\": 563.0}, {\"target\": 566.0, \"preds\": 566.0}, {\"target\": 571.0, \"preds\": 571.0}, {\"target\": 565.0, \"preds\": 565.0}, {\"target\": 574.0, \"preds\": 574.0}, {\"target\": 563.0, \"preds\": 563.0}, {\"target\": 583.0, \"preds\": 583.0}, {\"target\": 574.0, \"preds\": 574.0}, {\"target\": 571.0, \"preds\": 571.0}, {\"target\": 564.0, \"preds\": 564.0}, {\"target\": 582.0, \"preds\": 582.0}, {\"target\": 568.0, \"preds\": 568.0}, {\"target\": 571.0, \"preds\": 571.0}, {\"target\": 562.0, \"preds\": 562.0}, {\"target\": 566.0, \"preds\": 566.0}, {\"target\": 563.0, \"preds\": 563.0}, {\"target\": 568.0, \"preds\": 568.0}, {\"target\": 561.0, \"preds\": 561.0}, {\"target\": 594.0, \"preds\": 594.0}, {\"target\": 574.0, \"preds\": 574.0}, {\"target\": 565.0, \"preds\": 565.0}, {\"target\": 565.0, \"preds\": 565.0}, {\"target\": 574.0, \"preds\": 574.0}, {\"target\": 569.0, \"preds\": 569.0}, {\"target\": 564.0, \"preds\": 564.0}, {\"target\": 563.0, \"preds\": 563.0}, {\"target\": 563.0, \"preds\": 563.0}, {\"target\": 594.0, \"preds\": 594.0}, {\"target\": 568.0, \"preds\": 568.0}, {\"target\": 594.0, \"preds\": 594.0}, {\"target\": 560.0, \"preds\": 560.0}, {\"target\": 565.0, \"preds\": 565.0}, {\"target\": 565.0, \"preds\": 565.0}, {\"target\": 564.0, \"preds\": 564.0}, {\"target\": 565.0, \"preds\": 565.0}, {\"target\": 565.0, \"preds\": 565.0}, {\"target\": 576.0, \"preds\": 576.0}, {\"target\": 576.0, \"preds\": 576.0}, {\"target\": 564.0, \"preds\": 564.0}, {\"target\": 606.0, \"preds\": 606.0}, {\"target\": 571.0, \"preds\": 571.0}, {\"target\": 562.0, \"preds\": 562.0}, {\"target\": 562.0, \"preds\": 562.0}, {\"target\": 564.0, \"preds\": 564.0}, {\"target\": 565.0, \"preds\": 565.0}, {\"target\": 574.0, \"preds\": 574.0}, {\"target\": 566.0, \"preds\": 566.0}, {\"target\": 574.0, \"preds\": 574.0}, {\"target\": 581.0, \"preds\": 581.0}, {\"target\": 564.0, \"preds\": 564.0}, {\"target\": 568.0, \"preds\": 568.0}, {\"target\": 564.0, \"preds\": 564.0}, {\"target\": 583.0, \"preds\": 583.0}, {\"target\": 566.0, \"preds\": 566.0}, {\"target\": 578.0, \"preds\": 578.0}, {\"target\": 567.0, \"preds\": 567.0}, {\"target\": 563.0, \"preds\": 563.0}, {\"target\": 581.0, \"preds\": 581.0}, {\"target\": 562.0, \"preds\": 562.0}, {\"target\": 568.0, \"preds\": 568.0}, {\"target\": 578.0, \"preds\": 578.0}, {\"target\": 574.0, \"preds\": 574.0}, {\"target\": 583.0, \"preds\": 583.0}, {\"target\": 600.0, \"preds\": 600.0}, {\"target\": 582.0, \"preds\": 582.0}, {\"target\": 624.5, \"preds\": 624.5}, {\"target\": 563.0, \"preds\": 563.0}, {\"target\": 565.0, \"preds\": 565.0}, {\"target\": 565.0, \"preds\": 565.0}, {\"target\": 563.0, \"preds\": 563.0}, {\"target\": 565.0, \"preds\": 565.0}, {\"target\": 574.0, \"preds\": 574.0}, {\"target\": 573.0, \"preds\": 573.0}, {\"target\": 562.0, \"preds\": 562.0}, {\"target\": 564.0, \"preds\": 564.0}, {\"target\": 560.0, \"preds\": 560.0}, {\"target\": 573.0, \"preds\": 573.0}, {\"target\": 563.0, \"preds\": 563.0}, {\"target\": 565.0, \"preds\": 565.0}, {\"target\": 568.0, \"preds\": 568.0}, {\"target\": 578.0, \"preds\": 578.0}, {\"target\": 565.0, \"preds\": 565.0}, {\"target\": 565.0, \"preds\": 565.0}, {\"target\": 561.0, \"preds\": 561.0}, {\"target\": 561.0, \"preds\": 561.0}, {\"target\": 561.0, \"preds\": 561.0}, {\"target\": 576.0, \"preds\": 576.0}, {\"target\": 573.0, \"preds\": 573.0}, {\"target\": 567.0, \"preds\": 567.0}, {\"target\": 562.0, \"preds\": 562.0}, {\"target\": 578.0, \"preds\": 578.0}, {\"target\": 566.0, \"preds\": 566.0}, {\"target\": 574.0, \"preds\": 574.0}, {\"target\": 571.0, \"preds\": 571.0}, {\"target\": 572.0, \"preds\": 572.0}, {\"target\": 565.0, \"preds\": 565.0}, {\"target\": 565.0, \"preds\": 565.0}, {\"target\": 565.0, \"preds\": 565.0}, {\"target\": 564.0, \"preds\": 564.0}, {\"target\": 558.0, \"preds\": 558.0}, {\"target\": 565.0, \"preds\": 565.0}, {\"target\": 562.0, \"preds\": 562.0}, {\"target\": 564.0, \"preds\": 564.0}, {\"target\": 560.0, \"preds\": 560.0}, {\"target\": 562.0, \"preds\": 562.0}, {\"target\": 564.0, \"preds\": 564.0}, {\"target\": 568.0, \"preds\": 568.0}, {\"target\": 564.0, \"preds\": 564.0}, {\"target\": 574.0, \"preds\": 574.0}, {\"target\": 563.0, \"preds\": 563.0}, {\"target\": 560.0, \"preds\": 560.0}, {\"target\": 567.0, \"preds\": 567.0}, {\"target\": 606.0, \"preds\": 606.0}, {\"target\": 576.0, \"preds\": 576.0}, {\"target\": 565.0, \"preds\": 565.0}, {\"target\": 571.0, \"preds\": 571.0}, {\"target\": 606.0, \"preds\": 606.0}, {\"target\": 562.0, \"preds\": 562.0}, {\"target\": 567.0, \"preds\": 567.0}, {\"target\": 564.0, \"preds\": 564.0}, {\"target\": 578.0, \"preds\": 578.0}, {\"target\": 567.0, \"preds\": 567.0}, {\"target\": 562.0, \"preds\": 562.0}, {\"target\": 565.0, \"preds\": 565.0}, {\"target\": 569.0, \"preds\": 569.0}, {\"target\": 574.0, \"preds\": 574.0}, {\"target\": 619.0, \"preds\": 619.0}, {\"target\": 571.0, \"preds\": 571.0}, {\"target\": 569.0, \"preds\": 569.0}, {\"target\": 571.0, \"preds\": 571.0}, {\"target\": 565.0, \"preds\": 565.0}, {\"target\": 578.0, \"preds\": 578.0}, {\"target\": 565.0, \"preds\": 565.0}, {\"target\": 564.0, \"preds\": 564.0}, {\"target\": 564.0, \"preds\": 564.0}, {\"target\": 572.0, \"preds\": 572.0}, {\"target\": 567.0, \"preds\": 567.0}, {\"target\": 568.0, \"preds\": 568.0}, {\"target\": 571.0, \"preds\": 571.0}, {\"target\": 562.0, \"preds\": 562.0}, {\"target\": 563.0, \"preds\": 563.0}, {\"target\": 562.0, \"preds\": 562.0}, {\"target\": 574.0, \"preds\": 574.0}, {\"target\": 567.0, \"preds\": 567.0}, {\"target\": 562.0, \"preds\": 562.0}, {\"target\": 568.0, \"preds\": 568.0}, {\"target\": 561.0, \"preds\": 561.0}, {\"target\": 562.0, \"preds\": 562.0}, {\"target\": 562.0, \"preds\": 562.0}, {\"target\": 562.0, \"preds\": 562.0}, {\"target\": 563.0, \"preds\": 563.0}, {\"target\": 578.0, \"preds\": 578.0}, {\"target\": 565.0, \"preds\": 565.0}, {\"target\": 572.0, \"preds\": 572.0}, {\"target\": 571.0, \"preds\": 571.0}, {\"target\": 569.0, \"preds\": 569.0}, {\"target\": 563.0, \"preds\": 563.0}, {\"target\": 581.0, \"preds\": 581.0}, {\"target\": 594.0, \"preds\": 594.0}, {\"target\": 564.0, \"preds\": 564.0}, {\"target\": 559.0, \"preds\": 559.0}, {\"target\": 587.0, \"preds\": 587.0}, {\"target\": 571.0, \"preds\": 571.0}, {\"target\": 566.0, \"preds\": 566.0}, {\"target\": 560.0, \"preds\": 560.0}, {\"target\": 559.0, \"preds\": 559.0}, {\"target\": 573.0, \"preds\": 573.0}, {\"target\": 578.0, \"preds\": 578.0}, {\"target\": 560.0, \"preds\": 560.0}, {\"target\": 576.0, \"preds\": 576.0}, {\"target\": 600.0, \"preds\": 600.0}, {\"target\": 582.0, \"preds\": 582.0}, {\"target\": 561.0, \"preds\": 561.0}, {\"target\": 574.0, \"preds\": 574.0}, {\"target\": 562.0, \"preds\": 562.0}, {\"target\": 566.0, \"preds\": 566.0}, {\"target\": 562.0, \"preds\": 562.0}, {\"target\": 566.0, \"preds\": 566.0}, {\"target\": 567.0, \"preds\": 567.0}, {\"target\": 565.0, \"preds\": 565.0}, {\"target\": 564.0, \"preds\": 564.0}, {\"target\": 574.0, \"preds\": 574.0}, {\"target\": 564.0, \"preds\": 564.0}, {\"target\": 568.0, \"preds\": 568.0}, {\"target\": 564.0, \"preds\": 564.0}, {\"target\": 563.0, \"preds\": 563.0}, {\"target\": 571.0, \"preds\": 571.0}, {\"target\": 563.0, \"preds\": 563.0}, {\"target\": 571.0, \"preds\": 571.0}, {\"target\": 565.0, \"preds\": 565.0}, {\"target\": 562.0, \"preds\": 562.0}, {\"target\": 566.0, \"preds\": 566.0}, {\"target\": 583.0, \"preds\": 583.0}, {\"target\": 564.0, \"preds\": 564.0}, {\"target\": 587.0, \"preds\": 587.0}, {\"target\": 564.0, \"preds\": 564.0}, {\"target\": 574.0, \"preds\": 574.0}, {\"target\": 563.0, \"preds\": 563.0}, {\"target\": 565.0, \"preds\": 565.0}, {\"target\": 606.0, \"preds\": 606.0}, {\"target\": 563.0, \"preds\": 563.0}, {\"target\": 574.0, \"preds\": 574.0}, {\"target\": 564.0, \"preds\": 564.0}, {\"target\": 565.0, \"preds\": 565.0}, {\"target\": 562.0, \"preds\": 562.0}, {\"target\": 563.0, \"preds\": 563.0}, {\"target\": 574.0, \"preds\": 574.0}, {\"target\": 594.0, \"preds\": 594.0}, {\"target\": 562.0, \"preds\": 562.0}, {\"target\": 574.0, \"preds\": 574.0}, {\"target\": 564.0, \"preds\": 564.0}, {\"target\": 564.0, \"preds\": 564.0}, {\"target\": 564.0, \"preds\": 564.0}, {\"target\": 578.0, \"preds\": 578.0}, {\"target\": 568.0, \"preds\": 568.0}, {\"target\": 557.0, \"preds\": 557.0}, {\"target\": 587.0, \"preds\": 587.0}, {\"target\": 571.0, \"preds\": 571.0}, {\"target\": 565.0, \"preds\": 565.0}, {\"target\": 564.0, \"preds\": 564.0}, {\"target\": 568.0, \"preds\": 568.0}, {\"target\": 573.0, \"preds\": 573.0}, {\"target\": 574.0, \"preds\": 574.0}, {\"target\": 564.0, \"preds\": 564.0}, {\"target\": 568.0, \"preds\": 568.0}, {\"target\": 569.0, \"preds\": 569.0}, {\"target\": 568.0, \"preds\": 568.0}, {\"target\": 562.0, \"preds\": 562.0}, {\"target\": 581.0, \"preds\": 581.0}, {\"target\": 600.0, \"preds\": 600.0}, {\"target\": 574.0, \"preds\": 574.0}, {\"target\": 581.0, \"preds\": 581.0}, {\"target\": 571.0, \"preds\": 571.0}, {\"target\": 559.0, \"preds\": 559.0}, {\"target\": 581.0, \"preds\": 581.0}, {\"target\": 567.0, \"preds\": 567.0}, {\"target\": 572.0, \"preds\": 572.0}, {\"target\": 567.0, \"preds\": 567.0}, {\"target\": 567.0, \"preds\": 567.0}, {\"target\": 568.0, \"preds\": 568.0}, {\"target\": 574.0, \"preds\": 574.0}, {\"target\": 564.0, \"preds\": 564.0}, {\"target\": 565.0, \"preds\": 565.0}, {\"target\": 565.0, \"preds\": 565.0}, {\"target\": 562.0, \"preds\": 562.0}, {\"target\": 573.0, \"preds\": 573.0}, {\"target\": 562.0, \"preds\": 562.0}, {\"target\": 562.0, \"preds\": 562.0}, {\"target\": 566.0, \"preds\": 566.0}, {\"target\": 576.0, \"preds\": 576.0}, {\"target\": 573.0, \"preds\": 573.0}, {\"target\": 565.0, \"preds\": 565.0}, {\"target\": 564.0, \"preds\": 564.0}, {\"target\": 565.0, \"preds\": 565.0}, {\"target\": 559.0, \"preds\": 559.0}, {\"target\": 560.0, \"preds\": 560.0}, {\"target\": 564.0, \"preds\": 564.0}, {\"target\": 581.0, \"preds\": 581.0}, {\"target\": 594.0, \"preds\": 594.0}, {\"target\": 565.0, \"preds\": 565.0}, {\"target\": 573.0, \"preds\": 573.0}, {\"target\": 564.0, \"preds\": 564.0}, {\"target\": 564.0, \"preds\": 564.0}, {\"target\": 564.0, \"preds\": 564.0}, {\"target\": 571.0, \"preds\": 571.0}, {\"target\": 566.0, \"preds\": 566.0}, {\"target\": 571.0, \"preds\": 571.0}, {\"target\": 581.0, \"preds\": 581.0}, {\"target\": 581.0, \"preds\": 581.0}, {\"target\": 563.0, \"preds\": 563.0}, {\"target\": 562.0, \"preds\": 562.0}, {\"target\": 564.0, \"preds\": 564.0}, {\"target\": 564.0, \"preds\": 564.0}, {\"target\": 564.0, \"preds\": 564.0}, {\"target\": 572.0, \"preds\": 572.0}, {\"target\": 564.0, \"preds\": 564.0}, {\"target\": 571.0, \"preds\": 571.0}, {\"target\": 574.0, \"preds\": 574.0}, {\"target\": 562.0, \"preds\": 562.0}, {\"target\": 565.0, \"preds\": 565.0}, {\"target\": 565.0, \"preds\": 565.0}, {\"target\": 562.0, \"preds\": 562.0}, {\"target\": 568.0, \"preds\": 568.0}, {\"target\": 571.0, \"preds\": 571.0}, {\"target\": 565.0, \"preds\": 565.0}, {\"target\": 562.0, \"preds\": 562.0}, {\"target\": 567.0, \"preds\": 567.0}, {\"target\": 565.0, \"preds\": 565.0}, {\"target\": 564.0, \"preds\": 564.0}, {\"target\": 574.0, \"preds\": 574.0}, {\"target\": 563.0, \"preds\": 563.0}, {\"target\": 568.0, \"preds\": 568.0}, {\"target\": 562.0, \"preds\": 562.0}, {\"target\": 564.0, \"preds\": 564.0}, {\"target\": 606.0, \"preds\": 606.0}, {\"target\": 571.0, \"preds\": 571.0}, {\"target\": 564.0, \"preds\": 564.0}, {\"target\": 568.0, \"preds\": 568.0}, {\"target\": 562.0, \"preds\": 562.0}, {\"target\": 564.0, \"preds\": 564.0}, {\"target\": 563.0, \"preds\": 563.0}, {\"target\": 574.0, \"preds\": 574.0}, {\"target\": 566.0, \"preds\": 566.0}, {\"target\": 564.0, \"preds\": 564.0}, {\"target\": 566.0, \"preds\": 566.0}, {\"target\": 563.0, \"preds\": 563.0}, {\"target\": 563.0, \"preds\": 563.0}, {\"target\": 565.0, \"preds\": 565.0}, {\"target\": 562.0, \"preds\": 562.0}, {\"target\": 563.0, \"preds\": 563.0}, {\"target\": 574.0, \"preds\": 574.0}, {\"target\": 567.0, \"preds\": 567.0}, {\"target\": 562.0, \"preds\": 562.0}, {\"target\": 565.0, \"preds\": 565.0}, {\"target\": 569.0, \"preds\": 569.0}, {\"target\": 568.0, \"preds\": 568.0}, {\"target\": 564.0, \"preds\": 564.0}, {\"target\": 563.0, \"preds\": 563.0}, {\"target\": 601.0, \"preds\": 601.0}, {\"target\": 566.0, \"preds\": 566.0}, {\"target\": 562.0, \"preds\": 562.0}, {\"target\": 564.0, \"preds\": 564.0}, {\"target\": 561.0, \"preds\": 561.0}, {\"target\": 563.0, \"preds\": 563.0}, {\"target\": 568.0, \"preds\": 568.0}, {\"target\": 571.0, \"preds\": 571.0}, {\"target\": 571.0, \"preds\": 571.0}, {\"target\": 571.0, \"preds\": 571.0}, {\"target\": 567.0, \"preds\": 567.0}, {\"target\": 562.0, \"preds\": 562.0}, {\"target\": 563.0, \"preds\": 563.0}, {\"target\": 562.0, \"preds\": 562.0}, {\"target\": 562.0, \"preds\": 562.0}, {\"target\": 566.0, \"preds\": 566.0}, {\"target\": 562.0, \"preds\": 562.0}, {\"target\": 562.0, \"preds\": 562.0}, {\"target\": 566.0, \"preds\": 566.0}, {\"target\": 583.0, \"preds\": 583.0}, {\"target\": 562.0, \"preds\": 562.0}, {\"target\": 564.0, \"preds\": 564.0}, {\"target\": 562.0, \"preds\": 562.0}, {\"target\": 564.0, \"preds\": 564.0}, {\"target\": 565.0, \"preds\": 565.0}, {\"target\": 562.0, \"preds\": 562.0}, {\"target\": 563.0, \"preds\": 563.0}, {\"target\": 562.0, \"preds\": 562.0}, {\"target\": 568.0, \"preds\": 568.0}, {\"target\": 568.0, \"preds\": 568.0}, {\"target\": 568.0, \"preds\": 568.0}, {\"target\": 562.0, \"preds\": 562.0}, {\"target\": 560.0, \"preds\": 560.0}, {\"target\": 594.0, \"preds\": 594.0}, {\"target\": 562.0, \"preds\": 562.0}, {\"target\": 571.0, \"preds\": 571.0}, {\"target\": 564.0, \"preds\": 564.0}, {\"target\": 566.0, \"preds\": 566.0}, {\"target\": 564.0, \"preds\": 564.0}, {\"target\": 567.0, \"preds\": 567.0}, {\"target\": 565.0, \"preds\": 565.0}, {\"target\": 574.0, \"preds\": 574.0}, {\"target\": 584.0, \"preds\": 584.0}, {\"target\": 571.0, \"preds\": 571.0}, {\"target\": 599.0, \"preds\": 599.0}, {\"target\": 573.0, \"preds\": 573.0}, {\"target\": 567.0, \"preds\": 567.0}, {\"target\": 564.0, \"preds\": 564.0}, {\"target\": 581.0, \"preds\": 581.0}, {\"target\": 565.0, \"preds\": 565.0}, {\"target\": 564.0, \"preds\": 564.0}, {\"target\": 567.0, \"preds\": 567.0}, {\"target\": 558.0, \"preds\": 558.0}, {\"target\": 565.0, \"preds\": 565.0}, {\"target\": 568.0, \"preds\": 568.0}, {\"target\": 574.0, \"preds\": 574.0}, {\"target\": 563.0, \"preds\": 563.0}, {\"target\": 573.0, \"preds\": 573.0}, {\"target\": 583.0, \"preds\": 583.0}, {\"target\": 568.0, \"preds\": 568.0}, {\"target\": 563.0, \"preds\": 563.0}, {\"target\": 568.0, \"preds\": 568.0}, {\"target\": 568.0, \"preds\": 568.0}, {\"target\": 562.0, \"preds\": 562.0}, {\"target\": 568.0, \"preds\": 568.0}, {\"target\": 564.0, \"preds\": 564.0}, {\"target\": 568.0, \"preds\": 568.0}, {\"target\": 563.0, \"preds\": 563.0}, {\"target\": 578.0, \"preds\": 578.0}, {\"target\": 565.0, \"preds\": 565.0}, {\"target\": 572.0, \"preds\": 572.0}, {\"target\": 581.0, \"preds\": 581.0}, {\"target\": 563.0, \"preds\": 563.0}, {\"target\": 568.0, \"preds\": 568.0}, {\"target\": 573.0, \"preds\": 573.0}, {\"target\": 569.0, \"preds\": 569.0}, {\"target\": 563.0, \"preds\": 563.0}, {\"target\": 571.0, \"preds\": 571.0}, {\"target\": 560.0, \"preds\": 560.0}, {\"target\": 606.0, \"preds\": 606.0}, {\"target\": 587.0, \"preds\": 587.0}, {\"target\": 558.0, \"preds\": 558.0}, {\"target\": 559.0, \"preds\": 559.0}, {\"target\": 562.0, \"preds\": 562.0}, {\"target\": 624.5, \"preds\": 624.5}, {\"target\": 563.0, \"preds\": 563.0}, {\"target\": 564.0, \"preds\": 564.0}, {\"target\": 562.0, \"preds\": 562.0}, {\"target\": 624.5, \"preds\": 624.5}, {\"target\": 565.0, \"preds\": 565.0}, {\"target\": 613.0, \"preds\": 613.0}, {\"target\": 562.0, \"preds\": 562.0}, {\"target\": 571.0, \"preds\": 571.0}, {\"target\": 587.0, \"preds\": 587.0}, {\"target\": 578.0, \"preds\": 578.0}, {\"target\": 587.0, \"preds\": 587.0}, {\"target\": 624.5, \"preds\": 624.5}, {\"target\": 613.0, \"preds\": 613.0}, {\"target\": 624.5, \"preds\": 624.5}, {\"target\": 573.0, \"preds\": 573.0}, {\"target\": 624.5, \"preds\": 624.5}, {\"target\": 624.5, \"preds\": 624.5}, {\"target\": 583.0, \"preds\": 583.0}, {\"target\": 597.0, \"preds\": 597.0}, {\"target\": 596.0, \"preds\": 596.0}, {\"target\": 618.0, \"preds\": 618.0}, {\"target\": 591.0, \"preds\": 591.0}, {\"target\": 598.0, \"preds\": 598.0}, {\"target\": 624.5, \"preds\": 624.5}, {\"target\": 624.5, \"preds\": 624.5}, {\"target\": 583.0, \"preds\": 583.0}, {\"target\": 565.0, \"preds\": 565.0}, {\"target\": 581.0, \"preds\": 581.0}, {\"target\": 587.0, \"preds\": 587.0}, {\"target\": 573.0, \"preds\": 573.0}, {\"target\": 580.0, \"preds\": 580.0}, {\"target\": 585.0, \"preds\": 585.0}, {\"target\": 596.0, \"preds\": 596.0}, {\"target\": 624.5, \"preds\": 624.5}, {\"target\": 594.0, \"preds\": 594.0}, {\"target\": 624.5, \"preds\": 624.5}, {\"target\": 581.0, \"preds\": 581.0}, {\"target\": 587.0, \"preds\": 587.0}, {\"target\": 612.0, \"preds\": 612.0}, {\"target\": 624.5, \"preds\": 624.5}, {\"target\": 596.0, \"preds\": 596.0}, {\"target\": 613.0, \"preds\": 613.0}, {\"target\": 624.5, \"preds\": 624.5}, {\"target\": 624.5, \"preds\": 624.5}, {\"target\": 624.5, \"preds\": 624.5}, {\"target\": 606.0, \"preds\": 606.0}, {\"target\": 624.5, \"preds\": 624.5}, {\"target\": 572.0, \"preds\": 572.0}, {\"target\": 591.0, \"preds\": 591.0}, {\"target\": 591.0, \"preds\": 591.0}, {\"target\": 572.0, \"preds\": 572.0}, {\"target\": 596.0, \"preds\": 596.0}, {\"target\": 624.5, \"preds\": 624.5}, {\"target\": 606.0, \"preds\": 606.0}, {\"target\": 624.5, \"preds\": 624.5}, {\"target\": 594.0, \"preds\": 594.0}, {\"target\": 624.5, \"preds\": 624.5}, {\"target\": 573.0, \"preds\": 573.0}, {\"target\": 624.5, \"preds\": 624.5}, {\"target\": 624.5, \"preds\": 624.5}, {\"target\": 609.0, \"preds\": 609.0}, {\"target\": 624.5, \"preds\": 624.5}, {\"target\": 624.5, \"preds\": 624.5}, {\"target\": 608.0, \"preds\": 608.0}, {\"target\": 624.5, \"preds\": 624.5}, {\"target\": 619.0, \"preds\": 619.0}, {\"target\": 619.0, \"preds\": 619.0}, {\"target\": 594.0, \"preds\": 594.0}, {\"target\": 624.5, \"preds\": 624.5}, {\"target\": 619.0, \"preds\": 619.0}, {\"target\": 606.0, \"preds\": 606.0}, {\"target\": 624.5, \"preds\": 624.5}, {\"target\": 624.5, \"preds\": 624.5}, {\"target\": 624.5, \"preds\": 624.5}, {\"target\": 606.0, \"preds\": 606.0}, {\"target\": 619.0, \"preds\": 619.0}, {\"target\": 624.5, \"preds\": 624.5}, {\"target\": 624.5, \"preds\": 624.5}, {\"target\": 624.5, \"preds\": 624.5}, {\"target\": 596.0, \"preds\": 596.0}, {\"target\": 588.0, \"preds\": 588.0}, {\"target\": 624.5, \"preds\": 624.5}, {\"target\": 624.5, \"preds\": 624.5}, {\"target\": 600.0, \"preds\": 600.0}, {\"target\": 624.5, \"preds\": 624.5}, {\"target\": 578.0, \"preds\": 578.0}, {\"target\": 624.5, \"preds\": 624.5}, {\"target\": 624.5, \"preds\": 624.5}, {\"target\": 624.5, \"preds\": 624.5}, {\"target\": 572.0, \"preds\": 572.0}, {\"target\": 578.0, \"preds\": 578.0}, {\"target\": 624.5, \"preds\": 624.5}, {\"target\": 624.5, \"preds\": 624.5}, {\"target\": 596.0, \"preds\": 596.0}, {\"target\": 624.5, \"preds\": 624.5}, {\"target\": 600.0, \"preds\": 600.0}, {\"target\": 574.0, \"preds\": 574.0}, {\"target\": 588.0, \"preds\": 588.0}, {\"target\": 624.5, \"preds\": 624.5}, {\"target\": 587.0, \"preds\": 587.0}, {\"target\": 619.0, \"preds\": 619.0}, {\"target\": 624.5, \"preds\": 624.5}, {\"target\": 619.0, \"preds\": 619.0}, {\"target\": 624.5, \"preds\": 624.5}, {\"target\": 624.5, \"preds\": 624.5}, {\"target\": 582.0, \"preds\": 582.0}, {\"target\": 581.0, \"preds\": 581.0}, {\"target\": 596.0, \"preds\": 596.0}, {\"target\": 624.5, \"preds\": 624.5}, {\"target\": 594.0, \"preds\": 594.0}, {\"target\": 624.5, \"preds\": 624.5}, {\"target\": 590.0, \"preds\": 590.0}, {\"target\": 624.5, \"preds\": 624.5}, {\"target\": 590.0, \"preds\": 590.0}, {\"target\": 624.5, \"preds\": 624.5}, {\"target\": 578.0, \"preds\": 578.0}, {\"target\": 565.0, \"preds\": 565.0}, {\"target\": 619.0, \"preds\": 619.0}, {\"target\": 606.0, \"preds\": 606.0}, {\"target\": 624.5, \"preds\": 624.5}, {\"target\": 624.5, \"preds\": 624.5}, {\"target\": 606.0, \"preds\": 606.0}, {\"target\": 581.0, \"preds\": 581.0}, {\"target\": 624.5, \"preds\": 624.5}, {\"target\": 600.0, \"preds\": 600.0}, {\"target\": 624.5, \"preds\": 624.5}, {\"target\": 564.0, \"preds\": 564.0}, {\"target\": 574.0, \"preds\": 574.0}, {\"target\": 600.0, \"preds\": 600.0}, {\"target\": 596.0, \"preds\": 596.0}, {\"target\": 576.0, \"preds\": 576.0}, {\"target\": 597.0, \"preds\": 597.0}, {\"target\": 566.0, \"preds\": 566.0}, {\"target\": 624.5, \"preds\": 624.5}, {\"target\": 604.0, \"preds\": 604.0}, {\"target\": 624.5, \"preds\": 624.5}, {\"target\": 624.5, \"preds\": 624.5}, {\"target\": 624.5, \"preds\": 624.5}, {\"target\": 624.5, \"preds\": 624.5}, {\"target\": 624.5, \"preds\": 624.5}, {\"target\": 585.0, \"preds\": 585.0}, {\"target\": 624.5, \"preds\": 624.5}, {\"target\": 606.0, \"preds\": 606.0}, {\"target\": 624.5, \"preds\": 624.5}, {\"target\": 624.5, \"preds\": 624.5}, {\"target\": 614.0, \"preds\": 614.0}, {\"target\": 597.0, \"preds\": 597.0}, {\"target\": 624.5, \"preds\": 624.5}, {\"target\": 597.0, \"preds\": 597.0}, {\"target\": 587.0, \"preds\": 587.0}, {\"target\": 597.0, \"preds\": 597.0}, {\"target\": 568.0, \"preds\": 568.0}, {\"target\": 624.5, \"preds\": 624.5}, {\"target\": 594.0, \"preds\": 594.0}, {\"target\": 609.0, \"preds\": 609.0}, {\"target\": 586.0, \"preds\": 586.0}, {\"target\": 600.0, \"preds\": 600.0}, {\"target\": 613.0, \"preds\": 613.0}, {\"target\": 601.0, \"preds\": 601.0}, {\"target\": 624.0, \"preds\": 624.0}, {\"target\": 624.5, \"preds\": 624.5}, {\"target\": 624.5, \"preds\": 624.5}, {\"target\": 624.5, \"preds\": 624.5}, {\"target\": 613.0, \"preds\": 613.0}, {\"target\": 624.5, \"preds\": 624.5}, {\"target\": 624.5, \"preds\": 624.5}, {\"target\": 624.5, \"preds\": 624.5}, {\"target\": 619.0, \"preds\": 619.0}, {\"target\": 601.0, \"preds\": 601.0}, {\"target\": 624.5, \"preds\": 624.5}, {\"target\": 624.5, \"preds\": 624.5}, {\"target\": 624.5, \"preds\": 624.5}, {\"target\": 624.5, \"preds\": 624.5}, {\"target\": 609.0, \"preds\": 609.0}, {\"target\": 590.0, \"preds\": 590.0}, {\"target\": 624.5, \"preds\": 624.5}, {\"target\": 624.5, \"preds\": 624.5}, {\"target\": 624.5, \"preds\": 624.5}, {\"target\": 624.5, \"preds\": 624.5}, {\"target\": 624.5, \"preds\": 624.5}, {\"target\": 578.0, \"preds\": 578.0}, {\"target\": 580.0, \"preds\": 580.0}, {\"target\": 624.5, \"preds\": 624.5}, {\"target\": 579.0, \"preds\": 579.0}, {\"target\": 624.5, \"preds\": 624.5}, {\"target\": 624.5, \"preds\": 624.5}, {\"target\": 613.0, \"preds\": 613.0}, {\"target\": 594.0, \"preds\": 594.0}, {\"target\": 619.0, \"preds\": 619.0}, {\"target\": 619.0, \"preds\": 619.0}, {\"target\": 609.0, \"preds\": 609.0}, {\"target\": 580.0, \"preds\": 580.0}, {\"target\": 624.5, \"preds\": 624.5}, {\"target\": 606.0, \"preds\": 606.0}, {\"target\": 606.0, \"preds\": 606.0}, {\"target\": 624.5, \"preds\": 624.5}, {\"target\": 609.0, \"preds\": 609.0}, {\"target\": 606.0, \"preds\": 606.0}, {\"target\": 619.0, \"preds\": 619.0}, {\"target\": 569.0, \"preds\": 569.0}, {\"target\": 619.0, \"preds\": 619.0}, {\"target\": 599.0, \"preds\": 599.0}, {\"target\": 624.5, \"preds\": 624.5}, {\"target\": 617.0, \"preds\": 617.0}, {\"target\": 624.5, \"preds\": 624.5}, {\"target\": 606.0, \"preds\": 606.0}, {\"target\": 585.0, \"preds\": 585.0}, {\"target\": 597.0, \"preds\": 597.0}, {\"target\": 624.5, \"preds\": 624.5}, {\"target\": 613.0, \"preds\": 613.0}, {\"target\": 624.5, \"preds\": 624.5}, {\"target\": 624.5, \"preds\": 624.5}, {\"target\": 624.5, \"preds\": 624.5}, {\"target\": 591.0, \"preds\": 591.0}, {\"target\": 624.5, \"preds\": 624.5}, {\"target\": 624.5, \"preds\": 624.5}, {\"target\": 624.5, \"preds\": 624.5}, {\"target\": 624.5, \"preds\": 624.5}, {\"target\": 565.0, \"preds\": 565.0}, {\"target\": 624.5, \"preds\": 624.5}, {\"target\": 624.5, \"preds\": 624.5}, {\"target\": 624.5, \"preds\": 624.5}, {\"target\": 624.5, \"preds\": 624.5}, {\"target\": 624.5, \"preds\": 624.5}, {\"target\": 587.0, \"preds\": 587.0}, {\"target\": 624.5, \"preds\": 624.5}, {\"target\": 624.5, \"preds\": 624.5}, {\"target\": 579.0, \"preds\": 579.0}, {\"target\": 578.0, \"preds\": 578.0}, {\"target\": 624.5, \"preds\": 624.5}, {\"target\": 624.5, \"preds\": 624.5}, {\"target\": 624.5, \"preds\": 624.5}, {\"target\": 581.0, \"preds\": 581.0}, {\"target\": 574.0, \"preds\": 574.0}, {\"target\": 606.0, \"preds\": 606.0}, {\"target\": 574.0, \"preds\": 574.0}, {\"target\": 587.0, \"preds\": 587.0}, {\"target\": 599.0, \"preds\": 599.0}, {\"target\": 624.5, \"preds\": 624.5}, {\"target\": 613.0, \"preds\": 613.0}, {\"target\": 600.0, \"preds\": 600.0}, {\"target\": 624.5, \"preds\": 624.5}, {\"target\": 600.0, \"preds\": 600.0}, {\"target\": 566.0, \"preds\": 566.0}, {\"target\": 624.5, \"preds\": 624.5}, {\"target\": 624.5, \"preds\": 624.5}, {\"target\": 587.0, \"preds\": 587.0}, {\"target\": 624.5, \"preds\": 624.5}, {\"target\": 601.0, \"preds\": 601.0}, {\"target\": 624.5, \"preds\": 624.5}, {\"target\": 624.5, \"preds\": 624.5}, {\"target\": 565.0, \"preds\": 565.0}, {\"target\": 619.0, \"preds\": 619.0}, {\"target\": 561.0, \"preds\": 561.0}, {\"target\": 596.0, \"preds\": 596.0}, {\"target\": 619.0, \"preds\": 619.0}, {\"target\": 582.0, \"preds\": 582.0}, {\"target\": 590.0, \"preds\": 590.0}, {\"target\": 565.0, \"preds\": 565.0}, {\"target\": 624.5, \"preds\": 624.5}, {\"target\": 574.0, \"preds\": 574.0}, {\"target\": 624.5, \"preds\": 624.5}, {\"target\": 624.5, \"preds\": 624.5}, {\"target\": 594.0, \"preds\": 594.0}, {\"target\": 624.5, \"preds\": 624.5}, {\"target\": 581.0, \"preds\": 581.0}, {\"target\": 624.5, \"preds\": 624.5}, {\"target\": 624.5, \"preds\": 624.5}, {\"target\": 578.0, \"preds\": 578.0}, {\"target\": 617.0, \"preds\": 617.0}, {\"target\": 568.0, \"preds\": 568.0}, {\"target\": 596.0, \"preds\": 596.0}, {\"target\": 596.0, \"preds\": 596.0}, {\"target\": 583.0, \"preds\": 583.0}, {\"target\": 562.0, \"preds\": 562.0}, {\"target\": 574.0, \"preds\": 574.0}, {\"target\": 606.0, \"preds\": 606.0}, {\"target\": 591.0, \"preds\": 591.0}, {\"target\": 613.0, \"preds\": 613.0}, {\"target\": 624.5, \"preds\": 624.5}, {\"target\": 624.5, \"preds\": 624.5}, {\"target\": 606.0, \"preds\": 606.0}, {\"target\": 624.5, \"preds\": 624.5}, {\"target\": 576.0, \"preds\": 576.0}, {\"target\": 586.0, \"preds\": 586.0}, {\"target\": 590.0, \"preds\": 590.0}, {\"target\": 622.0, \"preds\": 622.0}, {\"target\": 609.0, \"preds\": 609.0}, {\"target\": 624.5, \"preds\": 624.5}, {\"target\": 621.0, \"preds\": 621.0}, {\"target\": 624.5, \"preds\": 624.5}, {\"target\": 624.5, \"preds\": 624.5}, {\"target\": 585.0, \"preds\": 585.0}, {\"target\": 613.0, \"preds\": 613.0}, {\"target\": 624.5, \"preds\": 624.5}, {\"target\": 583.0, \"preds\": 583.0}, {\"target\": 624.5, \"preds\": 624.5}, {\"target\": 608.0, \"preds\": 608.0}, {\"target\": 624.5, \"preds\": 624.5}, {\"target\": 624.5, \"preds\": 624.5}, {\"target\": 623.0, \"preds\": 623.0}, {\"target\": 624.5, \"preds\": 624.5}, {\"target\": 617.0, \"preds\": 617.0}, {\"target\": 605.0, \"preds\": 605.0}, {\"target\": 624.5, \"preds\": 624.5}, {\"target\": 587.0, \"preds\": 587.0}, {\"target\": 624.5, \"preds\": 624.5}, {\"target\": 600.0, \"preds\": 600.0}, {\"target\": 624.5, \"preds\": 624.5}, {\"target\": 574.0, \"preds\": 574.0}, {\"target\": 605.0, \"preds\": 605.0}, {\"target\": 624.5, \"preds\": 624.5}, {\"target\": 624.5, \"preds\": 624.5}, {\"target\": 624.5, \"preds\": 624.5}, {\"target\": 588.0, \"preds\": 588.0}, {\"target\": 609.0, \"preds\": 609.0}, {\"target\": 624.5, \"preds\": 624.5}, {\"target\": 613.0, \"preds\": 613.0}, {\"target\": 624.5, \"preds\": 624.5}, {\"target\": 624.5, \"preds\": 624.5}, {\"target\": 581.0, \"preds\": 581.0}, {\"target\": 567.0, \"preds\": 567.0}, {\"target\": 624.5, \"preds\": 624.5}, {\"target\": 624.5, \"preds\": 624.5}, {\"target\": 624.5, \"preds\": 624.5}, {\"target\": 624.5, \"preds\": 624.5}, {\"target\": 624.5, \"preds\": 624.5}, {\"target\": 624.5, \"preds\": 624.5}, {\"target\": 624.5, \"preds\": 624.5}, {\"target\": 624.5, \"preds\": 624.5}, {\"target\": 624.5, \"preds\": 624.5}, {\"target\": 624.5, \"preds\": 624.5}, {\"target\": 624.5, \"preds\": 624.5}, {\"target\": 624.5, \"preds\": 624.5}, {\"target\": 624.5, \"preds\": 624.5}, {\"target\": 624.5, \"preds\": 624.5}, {\"target\": 606.0, \"preds\": 606.0}, {\"target\": 614.0, \"preds\": 614.0}, {\"target\": 624.5, \"preds\": 624.5}, {\"target\": 624.5, \"preds\": 624.5}, {\"target\": 624.5, \"preds\": 624.5}, {\"target\": 573.0, \"preds\": 573.0}, {\"target\": 624.5, \"preds\": 624.5}, {\"target\": 624.5, \"preds\": 624.5}, {\"target\": 569.0, \"preds\": 569.0}, {\"target\": 619.0, \"preds\": 619.0}, {\"target\": 600.0, \"preds\": 600.0}, {\"target\": 622.0, \"preds\": 622.0}, {\"target\": 578.0, \"preds\": 578.0}, {\"target\": 594.0, \"preds\": 594.0}, {\"target\": 624.5, \"preds\": 624.5}, {\"target\": 624.5, \"preds\": 624.5}, {\"target\": 586.0, \"preds\": 586.0}, {\"target\": 624.5, \"preds\": 624.5}, {\"target\": 624.5, \"preds\": 624.5}, {\"target\": 613.0, \"preds\": 613.0}, {\"target\": 576.0, \"preds\": 576.0}, {\"target\": 624.5, \"preds\": 624.5}, {\"target\": 624.5, \"preds\": 624.5}, {\"target\": 624.5, \"preds\": 624.5}, {\"target\": 624.5, \"preds\": 624.5}, {\"target\": 624.5, \"preds\": 624.5}, {\"target\": 600.0, \"preds\": 600.0}, {\"target\": 581.0, \"preds\": 581.0}, {\"target\": 587.0, \"preds\": 587.0}, {\"target\": 624.5, \"preds\": 624.5}, {\"target\": 588.0, \"preds\": 588.0}, {\"target\": 597.0, \"preds\": 597.0}, {\"target\": 624.5, \"preds\": 624.5}, {\"target\": 603.0, \"preds\": 603.0}, {\"target\": 590.0, \"preds\": 590.0}, {\"target\": 601.0, \"preds\": 601.0}, {\"target\": 586.0, \"preds\": 586.0}, {\"target\": 624.5, \"preds\": 624.5}, {\"target\": 624.5, \"preds\": 624.5}, {\"target\": 579.0, \"preds\": 579.0}, {\"target\": 624.5, \"preds\": 624.5}, {\"target\": 586.0, \"preds\": 586.0}, {\"target\": 624.5, \"preds\": 624.5}, {\"target\": 619.0, \"preds\": 619.0}, {\"target\": 624.5, \"preds\": 624.5}, {\"target\": 606.0, \"preds\": 606.0}, {\"target\": 624.5, \"preds\": 624.5}, {\"target\": 573.0, \"preds\": 573.0}, {\"target\": 619.0, \"preds\": 619.0}, {\"target\": 610.0, \"preds\": 610.0}, {\"target\": 624.5, \"preds\": 624.5}, {\"target\": 600.0, \"preds\": 600.0}, {\"target\": 597.0, \"preds\": 597.0}, {\"target\": 615.0, \"preds\": 615.0}, {\"target\": 601.0, \"preds\": 601.0}, {\"target\": 606.0, \"preds\": 606.0}, {\"target\": 596.0, \"preds\": 596.0}, {\"target\": 577.0, \"preds\": 577.0}, {\"target\": 624.5, \"preds\": 624.5}, {\"target\": 624.5, \"preds\": 624.5}, {\"target\": 600.0, \"preds\": 600.0}, {\"target\": 606.0, \"preds\": 606.0}, {\"target\": 615.0, \"preds\": 615.0}, {\"target\": 619.0, \"preds\": 619.0}, {\"target\": 565.0, \"preds\": 565.0}, {\"target\": 589.0, \"preds\": 589.0}, {\"target\": 613.0, \"preds\": 613.0}, {\"target\": 604.0, \"preds\": 604.0}, {\"target\": 624.5, \"preds\": 624.5}, {\"target\": 606.0, \"preds\": 606.0}, {\"target\": 624.5, \"preds\": 624.5}, {\"target\": 624.5, \"preds\": 624.5}, {\"target\": 624.5, \"preds\": 624.5}, {\"target\": 606.0, \"preds\": 606.0}, {\"target\": 622.0, \"preds\": 622.0}, {\"target\": 624.5, \"preds\": 624.5}, {\"target\": 624.5, \"preds\": 624.5}, {\"target\": 619.0, \"preds\": 619.0}, {\"target\": 624.0, \"preds\": 624.0}, {\"target\": 624.5, \"preds\": 624.5}, {\"target\": 624.5, \"preds\": 624.5}, {\"target\": 610.0, \"preds\": 610.0}, {\"target\": 581.0, \"preds\": 581.0}, {\"target\": 624.5, \"preds\": 624.5}, {\"target\": 624.5, \"preds\": 624.5}, {\"target\": 587.0, \"preds\": 587.0}, {\"target\": 624.5, \"preds\": 624.5}, {\"target\": 624.5, \"preds\": 624.5}, {\"target\": 578.0, \"preds\": 578.0}, {\"target\": 624.5, \"preds\": 624.5}, {\"target\": 613.0, \"preds\": 613.0}, {\"target\": 605.0, \"preds\": 605.0}, {\"target\": 571.0, \"preds\": 571.0}, {\"target\": 624.5, \"preds\": 624.5}, {\"target\": 624.5, \"preds\": 624.5}, {\"target\": 624.5, \"preds\": 624.5}, {\"target\": 587.0, \"preds\": 587.0}, {\"target\": 624.5, \"preds\": 624.5}, {\"target\": 624.5, \"preds\": 624.5}, {\"target\": 624.5, \"preds\": 624.5}, {\"target\": 587.0, \"preds\": 587.0}, {\"target\": 600.0, \"preds\": 600.0}, {\"target\": 590.0, \"preds\": 590.0}, {\"target\": 587.0, \"preds\": 587.0}, {\"target\": 624.5, \"preds\": 624.5}, {\"target\": 622.0, \"preds\": 622.0}, {\"target\": 624.5, \"preds\": 624.5}, {\"target\": 624.5, \"preds\": 624.5}, {\"target\": 594.0, \"preds\": 594.0}, {\"target\": 581.0, \"preds\": 581.0}, {\"target\": 624.5, \"preds\": 624.5}, {\"target\": 606.0, \"preds\": 606.0}, {\"target\": 582.0, \"preds\": 582.0}, {\"target\": 610.0, \"preds\": 610.0}, {\"target\": 624.5, \"preds\": 624.5}, {\"target\": 624.5, \"preds\": 624.5}, {\"target\": 564.0, \"preds\": 564.0}, {\"target\": 582.0, \"preds\": 582.0}, {\"target\": 614.0, \"preds\": 614.0}, {\"target\": 624.5, \"preds\": 624.5}, {\"target\": 574.0, \"preds\": 574.0}, {\"target\": 624.5, \"preds\": 624.5}, {\"target\": 624.5, \"preds\": 624.5}, {\"target\": 624.5, \"preds\": 624.5}, {\"target\": 624.5, \"preds\": 624.5}, {\"target\": 624.5, \"preds\": 624.5}, {\"target\": 572.0, \"preds\": 572.0}, {\"target\": 624.5, \"preds\": 624.5}, {\"target\": 624.5, \"preds\": 624.5}, {\"target\": 624.5, \"preds\": 624.5}, {\"target\": 624.5, \"preds\": 624.5}, {\"target\": 622.0, \"preds\": 622.0}, {\"target\": 572.0, \"preds\": 572.0}, {\"target\": 613.0, \"preds\": 613.0}, {\"target\": 624.5, \"preds\": 624.5}, {\"target\": 624.5, \"preds\": 624.5}, {\"target\": 608.0, \"preds\": 608.0}, {\"target\": 590.0, \"preds\": 590.0}, {\"target\": 624.5, \"preds\": 624.5}, {\"target\": 624.5, \"preds\": 624.5}, {\"target\": 563.0, \"preds\": 563.0}, {\"target\": 610.0, \"preds\": 610.0}, {\"target\": 624.5, \"preds\": 624.5}, {\"target\": 624.5, \"preds\": 624.5}, {\"target\": 624.5, \"preds\": 624.5}, {\"target\": 624.5, \"preds\": 624.5}, {\"target\": 574.0, \"preds\": 574.0}, {\"target\": 572.0, \"preds\": 572.0}, {\"target\": 582.0, \"preds\": 582.0}, {\"target\": 580.0, \"preds\": 580.0}, {\"target\": 624.5, \"preds\": 624.5}, {\"target\": 594.0, \"preds\": 594.0}, {\"target\": 624.5, \"preds\": 624.5}, {\"target\": 624.5, \"preds\": 624.5}, {\"target\": 583.0, \"preds\": 583.0}, {\"target\": 577.0, \"preds\": 577.0}, {\"target\": 624.5, \"preds\": 624.5}, {\"target\": 619.0, \"preds\": 619.0}, {\"target\": 579.0, \"preds\": 579.0}, {\"target\": 624.5, \"preds\": 624.5}, {\"target\": 594.0, \"preds\": 594.0}, {\"target\": 574.0, \"preds\": 574.0}, {\"target\": 619.0, \"preds\": 619.0}, {\"target\": 624.5, \"preds\": 624.5}, {\"target\": 574.0, \"preds\": 574.0}, {\"target\": 624.5, \"preds\": 624.5}, {\"target\": 624.5, \"preds\": 624.5}, {\"target\": 571.0, \"preds\": 571.0}, {\"target\": 581.0, \"preds\": 581.0}, {\"target\": 624.5, \"preds\": 624.5}, {\"target\": 600.0, \"preds\": 600.0}, {\"target\": 619.0, \"preds\": 619.0}, {\"target\": 576.0, \"preds\": 576.0}, {\"target\": 624.5, \"preds\": 624.5}, {\"target\": 605.0, \"preds\": 605.0}, {\"target\": 624.5, \"preds\": 624.5}, {\"target\": 587.0, \"preds\": 587.0}, {\"target\": 587.0, \"preds\": 587.0}, {\"target\": 582.0, \"preds\": 582.0}, {\"target\": 624.5, \"preds\": 624.5}, {\"target\": 624.5, \"preds\": 624.5}, {\"target\": 624.5, \"preds\": 624.5}, {\"target\": 578.0, \"preds\": 578.0}, {\"target\": 624.5, \"preds\": 624.5}, {\"target\": 604.0, \"preds\": 604.0}, {\"target\": 624.5, \"preds\": 624.5}, {\"target\": 624.5, \"preds\": 624.5}, {\"target\": 582.0, \"preds\": 582.0}, {\"target\": 599.0, \"preds\": 599.0}, {\"target\": 622.0, \"preds\": 622.0}, {\"target\": 624.5, \"preds\": 624.5}, {\"target\": 624.5, \"preds\": 624.5}, {\"target\": 613.0, \"preds\": 613.0}, {\"target\": 583.0, \"preds\": 583.0}, {\"target\": 596.0, \"preds\": 596.0}, {\"target\": 599.0, \"preds\": 599.0}, {\"target\": 624.5, \"preds\": 624.5}, {\"target\": 585.0, \"preds\": 585.0}, {\"target\": 581.0, \"preds\": 581.0}, {\"target\": 574.0, \"preds\": 574.0}, {\"target\": 624.5, \"preds\": 624.5}, {\"target\": 618.0, \"preds\": 618.0}, {\"target\": 599.0, \"preds\": 599.0}, {\"target\": 586.0, \"preds\": 586.0}, {\"target\": 624.5, \"preds\": 624.5}, {\"target\": 596.0, \"preds\": 596.0}, {\"target\": 586.0, \"preds\": 586.0}, {\"target\": 624.5, \"preds\": 624.5}, {\"target\": 624.5, \"preds\": 624.5}, {\"target\": 624.5, \"preds\": 624.5}, {\"target\": 587.0, \"preds\": 587.0}, {\"target\": 624.5, \"preds\": 624.5}, {\"target\": 588.0, \"preds\": 588.0}, {\"target\": 590.0, \"preds\": 590.0}, {\"target\": 588.0, \"preds\": 588.0}, {\"target\": 571.0, \"preds\": 571.0}, {\"target\": 624.5, \"preds\": 624.5}, {\"target\": 624.5, \"preds\": 624.5}, {\"target\": 624.5, \"preds\": 624.5}, {\"target\": 624.5, \"preds\": 624.5}, {\"target\": 581.0, \"preds\": 581.0}, {\"target\": 583.0, \"preds\": 583.0}, {\"target\": 596.0, \"preds\": 596.0}, {\"target\": 581.0, \"preds\": 581.0}, {\"target\": 564.0, \"preds\": 564.0}, {\"target\": 624.5, \"preds\": 624.5}, {\"target\": 579.0, \"preds\": 579.0}, {\"target\": 624.5, \"preds\": 624.5}, {\"target\": 624.5, \"preds\": 624.5}, {\"target\": 624.5, \"preds\": 624.5}, {\"target\": 594.0, \"preds\": 594.0}, {\"target\": 624.5, \"preds\": 624.5}, {\"target\": 583.0, \"preds\": 583.0}, {\"target\": 600.0, \"preds\": 600.0}, {\"target\": 615.0, \"preds\": 615.0}, {\"target\": 595.0, \"preds\": 595.0}, {\"target\": 624.5, \"preds\": 624.5}, {\"target\": 624.5, \"preds\": 624.5}, {\"target\": 624.5, \"preds\": 624.5}, {\"target\": 624.5, \"preds\": 624.5}, {\"target\": 624.5, \"preds\": 624.5}, {\"target\": 624.5, \"preds\": 624.5}, {\"target\": 624.5, \"preds\": 624.5}, {\"target\": 624.5, \"preds\": 624.5}, {\"target\": 601.0, \"preds\": 601.0}, {\"target\": 624.5, \"preds\": 624.5}, {\"target\": 624.5, \"preds\": 624.5}, {\"target\": 599.0, \"preds\": 599.0}, {\"target\": 613.0, \"preds\": 613.0}, {\"target\": 573.0, \"preds\": 573.0}, {\"target\": 624.5, \"preds\": 624.5}, {\"target\": 564.0, \"preds\": 564.0}, {\"target\": 624.5, \"preds\": 624.5}, {\"target\": 624.5, \"preds\": 624.5}, {\"target\": 609.0, \"preds\": 609.0}, {\"target\": 590.0, \"preds\": 590.0}, {\"target\": 624.5, \"preds\": 624.5}, {\"target\": 577.0, \"preds\": 577.0}, {\"target\": 594.0, \"preds\": 594.0}, {\"target\": 613.0, \"preds\": 613.0}, {\"target\": 624.5, \"preds\": 624.5}, {\"target\": 587.0, \"preds\": 587.0}, {\"target\": 624.5, \"preds\": 624.5}, {\"target\": 624.5, \"preds\": 624.5}, {\"target\": 581.0, \"preds\": 581.0}, {\"target\": 600.0, \"preds\": 600.0}, {\"target\": 624.5, \"preds\": 624.5}, {\"target\": 624.5, \"preds\": 624.5}, {\"target\": 624.5, \"preds\": 624.5}, {\"target\": 613.0, \"preds\": 613.0}, {\"target\": 604.0, \"preds\": 604.0}, {\"target\": 583.0, \"preds\": 583.0}, {\"target\": 624.5, \"preds\": 624.5}, {\"target\": 619.0, \"preds\": 619.0}, {\"target\": 606.0, \"preds\": 606.0}, {\"target\": 624.5, \"preds\": 624.5}, {\"target\": 624.5, \"preds\": 624.5}, {\"target\": 624.5, \"preds\": 624.5}, {\"target\": 600.0, \"preds\": 600.0}, {\"target\": 624.5, \"preds\": 624.5}, {\"target\": 624.5, \"preds\": 624.5}, {\"target\": 569.0, \"preds\": 569.0}, {\"target\": 577.0, \"preds\": 577.0}, {\"target\": 582.0, \"preds\": 582.0}, {\"target\": 568.0, \"preds\": 568.0}, {\"target\": 572.0, \"preds\": 572.0}, {\"target\": 565.0, \"preds\": 565.0}, {\"target\": 577.0, \"preds\": 577.0}, {\"target\": 587.0, \"preds\": 587.0}, {\"target\": 569.0, \"preds\": 569.0}, {\"target\": 565.0, \"preds\": 565.0}, {\"target\": 567.0, \"preds\": 567.0}, {\"target\": 572.0, \"preds\": 572.0}, {\"target\": 572.0, \"preds\": 572.0}, {\"target\": 572.0, \"preds\": 572.0}, {\"target\": 574.0, \"preds\": 574.0}, {\"target\": 574.0, \"preds\": 574.0}, {\"target\": 564.0, \"preds\": 564.0}, {\"target\": 587.0, \"preds\": 587.0}, {\"target\": 577.0, \"preds\": 577.0}, {\"target\": 565.0, \"preds\": 565.0}, {\"target\": 574.0, \"preds\": 574.0}, {\"target\": 587.0, \"preds\": 587.0}, {\"target\": 574.0, \"preds\": 574.0}, {\"target\": 561.0, \"preds\": 561.0}, {\"target\": 562.0, \"preds\": 562.0}, {\"target\": 576.0, \"preds\": 576.0}, {\"target\": 564.0, \"preds\": 564.0}, {\"target\": 571.0, \"preds\": 571.0}, {\"target\": 568.0, \"preds\": 568.0}, {\"target\": 578.0, \"preds\": 578.0}, {\"target\": 591.0, \"preds\": 591.0}, {\"target\": 571.0, \"preds\": 571.0}, {\"target\": 572.0, \"preds\": 572.0}, {\"target\": 619.0, \"preds\": 619.0}, {\"target\": 564.0, \"preds\": 564.0}, {\"target\": 594.0, \"preds\": 594.0}, {\"target\": 568.0, \"preds\": 568.0}, {\"target\": 574.0, \"preds\": 574.0}, {\"target\": 565.0, \"preds\": 565.0}, {\"target\": 567.0, \"preds\": 567.0}, {\"target\": 585.0, \"preds\": 585.0}, {\"target\": 594.0, \"preds\": 594.0}, {\"target\": 565.0, \"preds\": 565.0}, {\"target\": 576.0, \"preds\": 576.0}, {\"target\": 565.0, \"preds\": 565.0}, {\"target\": 581.0, \"preds\": 581.0}, {\"target\": 624.5, \"preds\": 624.5}, {\"target\": 624.5, \"preds\": 624.5}, {\"target\": 577.0, \"preds\": 577.0}, {\"target\": 563.0, \"preds\": 563.0}, {\"target\": 576.0, \"preds\": 576.0}, {\"target\": 567.0, \"preds\": 567.0}, {\"target\": 565.0, \"preds\": 565.0}, {\"target\": 574.0, \"preds\": 574.0}, {\"target\": 571.0, \"preds\": 571.0}, {\"target\": 568.0, \"preds\": 568.0}, {\"target\": 576.0, \"preds\": 576.0}, {\"target\": 574.0, \"preds\": 574.0}, {\"target\": 560.0, \"preds\": 560.0}, {\"target\": 571.0, \"preds\": 571.0}, {\"target\": 567.0, \"preds\": 567.0}, {\"target\": 624.5, \"preds\": 624.5}, {\"target\": 569.0, \"preds\": 569.0}, {\"target\": 571.0, \"preds\": 571.0}, {\"target\": 596.0, \"preds\": 596.0}, {\"target\": 574.0, \"preds\": 574.0}, {\"target\": 582.0, \"preds\": 582.0}, {\"target\": 571.0, \"preds\": 571.0}, {\"target\": 564.0, \"preds\": 564.0}, {\"target\": 574.0, \"preds\": 574.0}, {\"target\": 570.0, \"preds\": 570.0}, {\"target\": 574.0, \"preds\": 574.0}, {\"target\": 580.0, \"preds\": 580.0}, {\"target\": 617.0, \"preds\": 617.0}, {\"target\": 564.0, \"preds\": 564.0}, {\"target\": 574.0, \"preds\": 574.0}, {\"target\": 564.0, \"preds\": 564.0}, {\"target\": 567.0, \"preds\": 567.0}, {\"target\": 565.0, \"preds\": 565.0}, {\"target\": 600.0, \"preds\": 600.0}, {\"target\": 576.0, \"preds\": 576.0}, {\"target\": 561.0, \"preds\": 561.0}, {\"target\": 576.0, \"preds\": 576.0}, {\"target\": 568.0, \"preds\": 568.0}, {\"target\": 565.0, \"preds\": 565.0}, {\"target\": 563.0, \"preds\": 563.0}, {\"target\": 568.0, \"preds\": 568.0}, {\"target\": 624.5, \"preds\": 624.5}, {\"target\": 574.0, \"preds\": 574.0}, {\"target\": 603.0, \"preds\": 603.0}, {\"target\": 563.0, \"preds\": 563.0}, {\"target\": 577.0, \"preds\": 577.0}, {\"target\": 565.0, \"preds\": 565.0}, {\"target\": 565.0, \"preds\": 565.0}, {\"target\": 567.0, \"preds\": 567.0}, {\"target\": 572.0, \"preds\": 572.0}, {\"target\": 567.0, \"preds\": 567.0}, {\"target\": 564.0, \"preds\": 564.0}, {\"target\": 571.0, \"preds\": 571.0}, {\"target\": 624.5, \"preds\": 624.5}, {\"target\": 566.0, \"preds\": 566.0}, {\"target\": 578.0, \"preds\": 578.0}, {\"target\": 577.0, \"preds\": 577.0}, {\"target\": 564.0, \"preds\": 564.0}, {\"target\": 570.0, \"preds\": 570.0}, {\"target\": 583.0, \"preds\": 583.0}, {\"target\": 572.0, \"preds\": 572.0}, {\"target\": 581.0, \"preds\": 581.0}, {\"target\": 568.0, \"preds\": 568.0}, {\"target\": 574.0, \"preds\": 574.0}, {\"target\": 565.0, \"preds\": 565.0}, {\"target\": 571.0, \"preds\": 571.0}, {\"target\": 581.0, \"preds\": 581.0}, {\"target\": 581.0, \"preds\": 581.0}, {\"target\": 565.0, \"preds\": 565.0}, {\"target\": 569.0, \"preds\": 569.0}, {\"target\": 606.0, \"preds\": 606.0}, {\"target\": 568.0, \"preds\": 568.0}, {\"target\": 594.0, \"preds\": 594.0}, {\"target\": 571.0, \"preds\": 571.0}, {\"target\": 571.0, \"preds\": 571.0}, {\"target\": 581.0, \"preds\": 581.0}, {\"target\": 572.0, \"preds\": 572.0}, {\"target\": 578.0, \"preds\": 578.0}, {\"target\": 565.0, \"preds\": 565.0}, {\"target\": 566.0, \"preds\": 566.0}, {\"target\": 565.0, \"preds\": 565.0}, {\"target\": 583.0, \"preds\": 583.0}, {\"target\": 563.0, \"preds\": 563.0}, {\"target\": 574.0, \"preds\": 574.0}, {\"target\": 568.0, \"preds\": 568.0}, {\"target\": 568.0, \"preds\": 568.0}, {\"target\": 582.0, \"preds\": 582.0}, {\"target\": 624.5, \"preds\": 624.5}, {\"target\": 564.0, \"preds\": 564.0}, {\"target\": 573.0, \"preds\": 573.0}, {\"target\": 574.0, \"preds\": 574.0}, {\"target\": 564.0, \"preds\": 564.0}, {\"target\": 572.0, \"preds\": 572.0}, {\"target\": 565.0, \"preds\": 565.0}, {\"target\": 578.0, \"preds\": 578.0}, {\"target\": 581.0, \"preds\": 581.0}, {\"target\": 573.0, \"preds\": 573.0}, {\"target\": 619.0, \"preds\": 619.0}, {\"target\": 574.0, \"preds\": 574.0}, {\"target\": 574.0, \"preds\": 574.0}, {\"target\": 570.0, \"preds\": 570.0}, {\"target\": 574.0, \"preds\": 574.0}, {\"target\": 571.0, \"preds\": 571.0}, {\"target\": 578.0, \"preds\": 578.0}, {\"target\": 574.0, \"preds\": 574.0}, {\"target\": 571.0, \"preds\": 571.0}, {\"target\": 587.0, \"preds\": 587.0}, {\"target\": 624.5, \"preds\": 624.5}, {\"target\": 568.0, \"preds\": 568.0}, {\"target\": 565.0, \"preds\": 565.0}, {\"target\": 606.0, \"preds\": 606.0}, {\"target\": 571.0, \"preds\": 571.0}, {\"target\": 576.0, \"preds\": 576.0}, {\"target\": 585.0, \"preds\": 585.0}, {\"target\": 587.0, \"preds\": 587.0}, {\"target\": 564.0, \"preds\": 564.0}, {\"target\": 578.0, \"preds\": 578.0}, {\"target\": 568.0, \"preds\": 568.0}, {\"target\": 605.0, \"preds\": 605.0}, {\"target\": 583.0, \"preds\": 583.0}, {\"target\": 578.0, \"preds\": 578.0}, {\"target\": 585.0, \"preds\": 585.0}, {\"target\": 581.0, \"preds\": 581.0}, {\"target\": 624.5, \"preds\": 624.5}, {\"target\": 587.0, \"preds\": 587.0}, {\"target\": 567.0, \"preds\": 567.0}, {\"target\": 563.0, \"preds\": 563.0}, {\"target\": 562.0, \"preds\": 562.0}, {\"target\": 576.0, \"preds\": 576.0}, {\"target\": 591.0, \"preds\": 591.0}, {\"target\": 578.0, \"preds\": 578.0}, {\"target\": 571.0, \"preds\": 571.0}, {\"target\": 581.0, \"preds\": 581.0}, {\"target\": 587.0, \"preds\": 587.0}, {\"target\": 565.0, \"preds\": 565.0}, {\"target\": 573.0, \"preds\": 573.0}, {\"target\": 581.0, \"preds\": 581.0}, {\"target\": 582.0, \"preds\": 582.0}, {\"target\": 574.0, \"preds\": 574.0}, {\"target\": 568.0, \"preds\": 568.0}, {\"target\": 570.0, \"preds\": 570.0}, {\"target\": 583.0, \"preds\": 583.0}, {\"target\": 574.0, \"preds\": 574.0}, {\"target\": 569.0, \"preds\": 569.0}, {\"target\": 571.0, \"preds\": 571.0}, {\"target\": 564.0, \"preds\": 564.0}, {\"target\": 574.0, \"preds\": 574.0}, {\"target\": 585.0, \"preds\": 585.0}, {\"target\": 564.0, \"preds\": 564.0}, {\"target\": 571.0, \"preds\": 571.0}, {\"target\": 568.0, \"preds\": 568.0}, {\"target\": 571.0, \"preds\": 571.0}, {\"target\": 596.0, \"preds\": 596.0}, {\"target\": 565.0, \"preds\": 565.0}, {\"target\": 569.0, \"preds\": 569.0}, {\"target\": 563.0, \"preds\": 563.0}, {\"target\": 576.0, \"preds\": 576.0}, {\"target\": 563.0, \"preds\": 563.0}, {\"target\": 562.0, \"preds\": 562.0}, {\"target\": 573.0, \"preds\": 573.0}, {\"target\": 581.0, \"preds\": 581.0}, {\"target\": 569.0, \"preds\": 569.0}, {\"target\": 562.0, \"preds\": 562.0}, {\"target\": 624.5, \"preds\": 624.5}, {\"target\": 574.0, \"preds\": 574.0}, {\"target\": 566.0, \"preds\": 566.0}, {\"target\": 571.0, \"preds\": 571.0}, {\"target\": 565.0, \"preds\": 565.0}, {\"target\": 576.0, \"preds\": 576.0}, {\"target\": 581.0, \"preds\": 581.0}, {\"target\": 574.0, \"preds\": 574.0}, {\"target\": 563.0, \"preds\": 563.0}, {\"target\": 573.0, \"preds\": 573.0}, {\"target\": 564.0, \"preds\": 564.0}, {\"target\": 590.0, \"preds\": 590.0}, {\"target\": 578.0, \"preds\": 578.0}, {\"target\": 568.0, \"preds\": 568.0}, {\"target\": 595.0, \"preds\": 595.0}, {\"target\": 574.0, \"preds\": 574.0}, {\"target\": 569.0, \"preds\": 569.0}, {\"target\": 561.0, \"preds\": 561.0}, {\"target\": 568.0, \"preds\": 568.0}, {\"target\": 568.0, \"preds\": 568.0}, {\"target\": 567.0, \"preds\": 567.0}, {\"target\": 576.0, \"preds\": 576.0}, {\"target\": 562.0, \"preds\": 562.0}, {\"target\": 560.0, \"preds\": 560.0}, {\"target\": 576.0, \"preds\": 576.0}, {\"target\": 577.0, \"preds\": 577.0}, {\"target\": 594.0, \"preds\": 594.0}, {\"target\": 571.0, \"preds\": 571.0}, {\"target\": 567.0, \"preds\": 567.0}, {\"target\": 563.0, \"preds\": 563.0}, {\"target\": 594.0, \"preds\": 594.0}, {\"target\": 581.0, \"preds\": 581.0}, {\"target\": 587.0, \"preds\": 587.0}, {\"target\": 567.0, \"preds\": 567.0}, {\"target\": 564.0, \"preds\": 564.0}, {\"target\": 594.0, \"preds\": 594.0}, {\"target\": 566.0, \"preds\": 566.0}, {\"target\": 565.0, \"preds\": 565.0}, {\"target\": 581.0, \"preds\": 581.0}, {\"target\": 594.0, \"preds\": 594.0}, {\"target\": 624.5, \"preds\": 624.5}, {\"target\": 564.0, \"preds\": 564.0}, {\"target\": 568.0, \"preds\": 568.0}, {\"target\": 562.0, \"preds\": 562.0}, {\"target\": 594.0, \"preds\": 594.0}, {\"target\": 564.0, \"preds\": 564.0}, {\"target\": 568.0, \"preds\": 568.0}, {\"target\": 578.0, \"preds\": 578.0}, {\"target\": 574.0, \"preds\": 574.0}, {\"target\": 574.0, \"preds\": 574.0}, {\"target\": 624.5, \"preds\": 624.5}, {\"target\": 583.0, \"preds\": 583.0}, {\"target\": 568.0, \"preds\": 568.0}, {\"target\": 585.0, \"preds\": 585.0}, {\"target\": 571.0, \"preds\": 571.0}, {\"target\": 569.0, \"preds\": 569.0}, {\"target\": 571.0, \"preds\": 571.0}, {\"target\": 569.0, \"preds\": 569.0}, {\"target\": 580.0, \"preds\": 580.0}, {\"target\": 568.0, \"preds\": 568.0}, {\"target\": 565.0, \"preds\": 565.0}, {\"target\": 619.0, \"preds\": 619.0}, {\"target\": 572.0, \"preds\": 572.0}, {\"target\": 576.0, \"preds\": 576.0}, {\"target\": 564.0, \"preds\": 564.0}, {\"target\": 578.0, \"preds\": 578.0}, {\"target\": 569.0, \"preds\": 569.0}, {\"target\": 567.0, \"preds\": 567.0}, {\"target\": 624.5, \"preds\": 624.5}, {\"target\": 571.0, \"preds\": 571.0}, {\"target\": 576.0, \"preds\": 576.0}, {\"target\": 594.0, \"preds\": 594.0}, {\"target\": 577.0, \"preds\": 577.0}, {\"target\": 565.0, \"preds\": 565.0}, {\"target\": 577.0, \"preds\": 577.0}, {\"target\": 574.0, \"preds\": 574.0}, {\"target\": 600.0, \"preds\": 600.0}, {\"target\": 572.0, \"preds\": 572.0}, {\"target\": 571.0, \"preds\": 571.0}, {\"target\": 568.0, \"preds\": 568.0}, {\"target\": 567.0, \"preds\": 567.0}, {\"target\": 563.0, \"preds\": 563.0}, {\"target\": 567.0, \"preds\": 567.0}, {\"target\": 586.0, \"preds\": 586.0}, {\"target\": 576.0, \"preds\": 576.0}, {\"target\": 565.0, \"preds\": 565.0}, {\"target\": 573.0, \"preds\": 573.0}, {\"target\": 562.0, \"preds\": 562.0}, {\"target\": 565.0, \"preds\": 565.0}, {\"target\": 581.0, \"preds\": 581.0}, {\"target\": 569.0, \"preds\": 569.0}, {\"target\": 566.0, \"preds\": 566.0}, {\"target\": 584.0, \"preds\": 584.0}, {\"target\": 574.0, \"preds\": 574.0}, {\"target\": 569.0, \"preds\": 569.0}, {\"target\": 567.0, \"preds\": 567.0}, {\"target\": 574.0, \"preds\": 574.0}, {\"target\": 564.0, \"preds\": 564.0}, {\"target\": 562.0, \"preds\": 562.0}, {\"target\": 578.0, \"preds\": 578.0}, {\"target\": 613.0, \"preds\": 613.0}, {\"target\": 568.0, \"preds\": 568.0}, {\"target\": 574.0, \"preds\": 574.0}, {\"target\": 569.0, \"preds\": 569.0}, {\"target\": 577.0, \"preds\": 577.0}, {\"target\": 563.0, \"preds\": 563.0}, {\"target\": 581.0, \"preds\": 581.0}, {\"target\": 578.0, \"preds\": 578.0}, {\"target\": 572.0, \"preds\": 572.0}, {\"target\": 601.0, \"preds\": 601.0}, {\"target\": 565.0, \"preds\": 565.0}, {\"target\": 567.0, \"preds\": 567.0}, {\"target\": 578.0, \"preds\": 578.0}, {\"target\": 578.0, \"preds\": 578.0}, {\"target\": 571.0, \"preds\": 571.0}, {\"target\": 624.5, \"preds\": 624.5}, {\"target\": 587.0, \"preds\": 587.0}, {\"target\": 581.0, \"preds\": 581.0}, {\"target\": 565.0, \"preds\": 565.0}, {\"target\": 569.0, \"preds\": 569.0}, {\"target\": 563.0, \"preds\": 563.0}, {\"target\": 581.0, \"preds\": 581.0}, {\"target\": 562.0, \"preds\": 562.0}, {\"target\": 571.0, \"preds\": 571.0}, {\"target\": 567.0, \"preds\": 567.0}, {\"target\": 563.0, \"preds\": 563.0}, {\"target\": 572.0, \"preds\": 572.0}, {\"target\": 564.0, \"preds\": 564.0}, {\"target\": 573.0, \"preds\": 573.0}, {\"target\": 573.0, \"preds\": 573.0}, {\"target\": 563.0, \"preds\": 563.0}, {\"target\": 571.0, \"preds\": 571.0}, {\"target\": 564.0, \"preds\": 564.0}, {\"target\": 572.0, \"preds\": 572.0}, {\"target\": 586.0, \"preds\": 586.0}, {\"target\": 563.0, \"preds\": 563.0}, {\"target\": 574.0, \"preds\": 574.0}, {\"target\": 581.0, \"preds\": 581.0}, {\"target\": 577.0, \"preds\": 577.0}, {\"target\": 600.0, \"preds\": 600.0}, {\"target\": 624.5, \"preds\": 624.5}, {\"target\": 565.0, \"preds\": 565.0}, {\"target\": 567.0, \"preds\": 567.0}, {\"target\": 567.0, \"preds\": 567.0}, {\"target\": 564.0, \"preds\": 564.0}, {\"target\": 586.0, \"preds\": 586.0}, {\"target\": 565.0, \"preds\": 565.0}, {\"target\": 583.0, \"preds\": 583.0}, {\"target\": 571.0, \"preds\": 571.0}, {\"target\": 563.0, \"preds\": 563.0}, {\"target\": 594.0, \"preds\": 594.0}, {\"target\": 571.0, \"preds\": 571.0}, {\"target\": 574.0, \"preds\": 574.0}, {\"target\": 573.0, \"preds\": 573.0}, {\"target\": 583.0, \"preds\": 583.0}, {\"target\": 606.0, \"preds\": 606.0}, {\"target\": 571.0, \"preds\": 571.0}, {\"target\": 574.0, \"preds\": 574.0}, {\"target\": 567.0, \"preds\": 567.0}, {\"target\": 574.0, \"preds\": 574.0}, {\"target\": 568.0, \"preds\": 568.0}, {\"target\": 574.0, \"preds\": 574.0}, {\"target\": 564.0, \"preds\": 564.0}, {\"target\": 565.0, \"preds\": 565.0}, {\"target\": 564.0, \"preds\": 564.0}, {\"target\": 583.0, \"preds\": 583.0}, {\"target\": 568.0, \"preds\": 568.0}, {\"target\": 563.0, \"preds\": 563.0}, {\"target\": 572.0, \"preds\": 572.0}, {\"target\": 578.0, \"preds\": 578.0}, {\"target\": 594.0, \"preds\": 594.0}, {\"target\": 568.0, \"preds\": 568.0}, {\"target\": 574.0, \"preds\": 574.0}, {\"target\": 624.5, \"preds\": 624.5}, {\"target\": 580.0, \"preds\": 580.0}, {\"target\": 581.0, \"preds\": 581.0}, {\"target\": 567.0, \"preds\": 567.0}, {\"target\": 562.0, \"preds\": 562.0}, {\"target\": 581.0, \"preds\": 581.0}, {\"target\": 564.0, \"preds\": 564.0}, {\"target\": 569.0, \"preds\": 569.0}, {\"target\": 572.0, \"preds\": 572.0}, {\"target\": 577.0, \"preds\": 577.0}, {\"target\": 572.0, \"preds\": 572.0}, {\"target\": 569.0, \"preds\": 569.0}, {\"target\": 576.0, \"preds\": 576.0}, {\"target\": 585.0, \"preds\": 585.0}, {\"target\": 566.0, \"preds\": 566.0}, {\"target\": 594.0, \"preds\": 594.0}, {\"target\": 574.0, \"preds\": 574.0}, {\"target\": 574.0, \"preds\": 574.0}, {\"target\": 568.0, \"preds\": 568.0}, {\"target\": 571.0, \"preds\": 571.0}, {\"target\": 567.0, \"preds\": 567.0}, {\"target\": 562.0, \"preds\": 562.0}, {\"target\": 573.0, \"preds\": 573.0}, {\"target\": 590.0, \"preds\": 590.0}, {\"target\": 573.0, \"preds\": 573.0}, {\"target\": 594.0, \"preds\": 594.0}, {\"target\": 574.0, \"preds\": 574.0}, {\"target\": 587.0, \"preds\": 587.0}, {\"target\": 563.0, \"preds\": 563.0}, {\"target\": 562.0, \"preds\": 562.0}, {\"target\": 568.0, \"preds\": 568.0}, {\"target\": 574.0, \"preds\": 574.0}, {\"target\": 562.0, \"preds\": 562.0}, {\"target\": 577.0, \"preds\": 577.0}, {\"target\": 573.0, \"preds\": 573.0}, {\"target\": 600.0, \"preds\": 600.0}, {\"target\": 600.0, \"preds\": 600.0}, {\"target\": 576.0, \"preds\": 576.0}, {\"target\": 600.0, \"preds\": 600.0}, {\"target\": 568.0, \"preds\": 568.0}, {\"target\": 571.0, \"preds\": 571.0}, {\"target\": 569.0, \"preds\": 569.0}, {\"target\": 565.0, \"preds\": 565.0}, {\"target\": 574.0, \"preds\": 574.0}, {\"target\": 567.0, \"preds\": 567.0}, {\"target\": 594.0, \"preds\": 594.0}, {\"target\": 568.0, \"preds\": 568.0}, {\"target\": 587.0, \"preds\": 587.0}, {\"target\": 576.0, \"preds\": 576.0}, {\"target\": 564.0, \"preds\": 564.0}, {\"target\": 582.0, \"preds\": 582.0}, {\"target\": 624.5, \"preds\": 624.5}, {\"target\": 610.0, \"preds\": 610.0}, {\"target\": 569.0, \"preds\": 569.0}, {\"target\": 578.0, \"preds\": 578.0}, {\"target\": 561.0, \"preds\": 561.0}, {\"target\": 567.0, \"preds\": 567.0}, {\"target\": 564.0, \"preds\": 564.0}, {\"target\": 574.0, \"preds\": 574.0}, {\"target\": 561.0, \"preds\": 561.0}, {\"target\": 574.0, \"preds\": 574.0}, {\"target\": 578.0, \"preds\": 578.0}, {\"target\": 584.0, \"preds\": 584.0}, {\"target\": 567.0, \"preds\": 567.0}, {\"target\": 571.0, \"preds\": 571.0}, {\"target\": 587.0, \"preds\": 587.0}, {\"target\": 567.0, \"preds\": 567.0}, {\"target\": 569.0, \"preds\": 569.0}, {\"target\": 571.0, \"preds\": 571.0}, {\"target\": 578.0, \"preds\": 578.0}, {\"target\": 591.0, \"preds\": 591.0}, {\"target\": 587.0, \"preds\": 587.0}, {\"target\": 565.0, \"preds\": 565.0}, {\"target\": 565.0, \"preds\": 565.0}, {\"target\": 568.0, \"preds\": 568.0}, {\"target\": 570.0, \"preds\": 570.0}, {\"target\": 563.0, \"preds\": 563.0}, {\"target\": 569.0, \"preds\": 569.0}, {\"target\": 560.0, \"preds\": 560.0}, {\"target\": 573.0, \"preds\": 573.0}, {\"target\": 569.0, \"preds\": 569.0}, {\"target\": 568.0, \"preds\": 568.0}, {\"target\": 624.5, \"preds\": 624.5}, {\"target\": 571.0, \"preds\": 571.0}, {\"target\": 578.0, \"preds\": 578.0}, {\"target\": 578.0, \"preds\": 578.0}, {\"target\": 564.0, \"preds\": 564.0}, {\"target\": 576.0, \"preds\": 576.0}, {\"target\": 594.0, \"preds\": 594.0}, {\"target\": 591.0, \"preds\": 591.0}, {\"target\": 564.0, \"preds\": 564.0}, {\"target\": 567.0, \"preds\": 567.0}, {\"target\": 581.0, \"preds\": 581.0}, {\"target\": 565.0, \"preds\": 565.0}, {\"target\": 566.0, \"preds\": 566.0}, {\"target\": 571.0, \"preds\": 571.0}, {\"target\": 565.0, \"preds\": 565.0}, {\"target\": 578.0, \"preds\": 578.0}, {\"target\": 571.0, \"preds\": 571.0}, {\"target\": 624.5, \"preds\": 624.5}, {\"target\": 563.0, \"preds\": 563.0}, {\"target\": 571.0, \"preds\": 571.0}, {\"target\": 564.0, \"preds\": 564.0}, {\"target\": 572.0, \"preds\": 572.0}, {\"target\": 566.0, \"preds\": 566.0}, {\"target\": 609.0, \"preds\": 609.0}, {\"target\": 565.0, \"preds\": 565.0}, {\"target\": 576.0, \"preds\": 576.0}, {\"target\": 562.0, \"preds\": 562.0}, {\"target\": 624.5, \"preds\": 624.5}, {\"target\": 566.0, \"preds\": 566.0}, {\"target\": 568.0, \"preds\": 568.0}, {\"target\": 566.0, \"preds\": 566.0}, {\"target\": 574.0, \"preds\": 574.0}, {\"target\": 567.0, \"preds\": 567.0}, {\"target\": 587.0, \"preds\": 587.0}, {\"target\": 581.0, \"preds\": 581.0}, {\"target\": 568.0, \"preds\": 568.0}, {\"target\": 572.0, \"preds\": 572.0}, {\"target\": 586.0, \"preds\": 586.0}, {\"target\": 587.0, \"preds\": 587.0}, {\"target\": 566.0, \"preds\": 566.0}, {\"target\": 572.0, \"preds\": 572.0}, {\"target\": 562.0, \"preds\": 562.0}, {\"target\": 565.0, \"preds\": 565.0}, {\"target\": 574.0, \"preds\": 574.0}, {\"target\": 594.0, \"preds\": 594.0}, {\"target\": 565.0, \"preds\": 565.0}, {\"target\": 587.0, \"preds\": 587.0}, {\"target\": 574.0, \"preds\": 574.0}, {\"target\": 591.0, \"preds\": 591.0}, {\"target\": 578.0, \"preds\": 578.0}, {\"target\": 624.5, \"preds\": 624.5}, {\"target\": 573.0, \"preds\": 573.0}, {\"target\": 567.0, \"preds\": 567.0}, {\"target\": 581.0, \"preds\": 581.0}, {\"target\": 571.0, \"preds\": 571.0}, {\"target\": 571.0, \"preds\": 571.0}, {\"target\": 571.0, \"preds\": 571.0}, {\"target\": 568.0, \"preds\": 568.0}, {\"target\": 586.0, \"preds\": 586.0}, {\"target\": 567.0, \"preds\": 567.0}, {\"target\": 571.0, \"preds\": 571.0}, {\"target\": 569.0, \"preds\": 569.0}, {\"target\": 574.0, \"preds\": 574.0}, {\"target\": 562.0, \"preds\": 562.0}, {\"target\": 578.0, \"preds\": 578.0}, {\"target\": 578.0, \"preds\": 578.0}, {\"target\": 574.0, \"preds\": 574.0}, {\"target\": 563.0, \"preds\": 563.0}, {\"target\": 594.0, \"preds\": 594.0}, {\"target\": 571.0, \"preds\": 571.0}, {\"target\": 576.0, \"preds\": 576.0}, {\"target\": 567.0, \"preds\": 567.0}, {\"target\": 564.0, \"preds\": 564.0}, {\"target\": 572.0, \"preds\": 572.0}, {\"target\": 587.0, \"preds\": 587.0}, {\"target\": 567.0, \"preds\": 567.0}, {\"target\": 624.5, \"preds\": 624.5}, {\"target\": 574.0, \"preds\": 574.0}, {\"target\": 583.0, \"preds\": 583.0}, {\"target\": 599.0, \"preds\": 599.0}, {\"target\": 571.0, \"preds\": 571.0}, {\"target\": 565.0, \"preds\": 565.0}, {\"target\": 565.0, \"preds\": 565.0}, {\"target\": 599.0, \"preds\": 599.0}, {\"target\": 574.0, \"preds\": 574.0}, {\"target\": 576.0, \"preds\": 576.0}, {\"target\": 565.0, \"preds\": 565.0}, {\"target\": 565.0, \"preds\": 565.0}, {\"target\": 624.5, \"preds\": 624.5}, {\"target\": 574.0, \"preds\": 574.0}, {\"target\": 565.0, \"preds\": 565.0}, {\"target\": 582.0, \"preds\": 582.0}, {\"target\": 594.0, \"preds\": 594.0}, {\"target\": 624.5, \"preds\": 624.5}, {\"target\": 624.5, \"preds\": 624.5}, {\"target\": 568.0, \"preds\": 568.0}, {\"target\": 583.0, \"preds\": 583.0}, {\"target\": 568.0, \"preds\": 568.0}, {\"target\": 617.0, \"preds\": 617.0}, {\"target\": 569.0, \"preds\": 569.0}, {\"target\": 569.0, \"preds\": 569.0}, {\"target\": 606.0, \"preds\": 606.0}, {\"target\": 568.0, \"preds\": 568.0}, {\"target\": 578.0, \"preds\": 578.0}, {\"target\": 591.0, \"preds\": 591.0}, {\"target\": 563.0, \"preds\": 563.0}, {\"target\": 624.5, \"preds\": 624.5}, {\"target\": 562.0, \"preds\": 562.0}, {\"target\": 619.0, \"preds\": 619.0}, {\"target\": 571.0, \"preds\": 571.0}, {\"target\": 570.0, \"preds\": 570.0}, {\"target\": 576.0, \"preds\": 576.0}, {\"target\": 569.0, \"preds\": 569.0}, {\"target\": 624.5, \"preds\": 624.5}, {\"target\": 576.0, \"preds\": 576.0}, {\"target\": 600.0, \"preds\": 600.0}, {\"target\": 567.0, \"preds\": 567.0}, {\"target\": 565.0, \"preds\": 565.0}, {\"target\": 573.0, \"preds\": 573.0}, {\"target\": 561.0, \"preds\": 561.0}, {\"target\": 577.0, \"preds\": 577.0}, {\"target\": 569.0, \"preds\": 569.0}, {\"target\": 571.0, \"preds\": 571.0}, {\"target\": 594.0, \"preds\": 594.0}, {\"target\": 571.0, \"preds\": 571.0}, {\"target\": 582.0, \"preds\": 582.0}, {\"target\": 563.0, \"preds\": 563.0}, {\"target\": 579.0, \"preds\": 579.0}, {\"target\": 561.0, \"preds\": 561.0}, {\"target\": 574.0, \"preds\": 574.0}, {\"target\": 578.0, \"preds\": 578.0}, {\"target\": 600.0, \"preds\": 600.0}, {\"target\": 565.0, \"preds\": 565.0}, {\"target\": 564.0, \"preds\": 564.0}, {\"target\": 574.0, \"preds\": 574.0}, {\"target\": 594.0, \"preds\": 594.0}, {\"target\": 624.5, \"preds\": 624.5}, {\"target\": 578.0, \"preds\": 578.0}, {\"target\": 565.0, \"preds\": 565.0}, {\"target\": 567.0, \"preds\": 567.0}, {\"target\": 573.0, \"preds\": 573.0}, {\"target\": 564.0, \"preds\": 564.0}, {\"target\": 563.0, \"preds\": 563.0}, {\"target\": 577.0, \"preds\": 577.0}, {\"target\": 574.0, \"preds\": 574.0}, {\"target\": 566.0, \"preds\": 566.0}, {\"target\": 581.0, \"preds\": 581.0}, {\"target\": 565.0, \"preds\": 565.0}, {\"target\": 581.0, \"preds\": 581.0}, {\"target\": 570.0, \"preds\": 570.0}, {\"target\": 594.0, \"preds\": 594.0}, {\"target\": 583.0, \"preds\": 583.0}, {\"target\": 564.0, \"preds\": 564.0}, {\"target\": 564.0, \"preds\": 564.0}, {\"target\": 576.0, \"preds\": 576.0}, {\"target\": 586.0, \"preds\": 586.0}, {\"target\": 578.0, \"preds\": 578.0}, {\"target\": 566.0, \"preds\": 566.0}, {\"target\": 560.0, \"preds\": 560.0}, {\"target\": 562.0, \"preds\": 562.0}, {\"target\": 571.0, \"preds\": 571.0}, {\"target\": 567.0, \"preds\": 567.0}, {\"target\": 565.0, \"preds\": 565.0}, {\"target\": 594.0, \"preds\": 594.0}, {\"target\": 573.0, \"preds\": 573.0}, {\"target\": 567.0, \"preds\": 567.0}, {\"target\": 571.0, \"preds\": 571.0}, {\"target\": 571.0, \"preds\": 571.0}, {\"target\": 568.0, \"preds\": 568.0}, {\"target\": 600.0, \"preds\": 600.0}, {\"target\": 571.0, \"preds\": 571.0}, {\"target\": 573.0, \"preds\": 573.0}, {\"target\": 565.0, \"preds\": 565.0}, {\"target\": 569.0, \"preds\": 569.0}, {\"target\": 571.0, \"preds\": 571.0}, {\"target\": 600.0, \"preds\": 600.0}, {\"target\": 573.0, \"preds\": 573.0}, {\"target\": 583.0, \"preds\": 583.0}, {\"target\": 564.0, \"preds\": 564.0}, {\"target\": 576.0, \"preds\": 576.0}, {\"target\": 569.0, \"preds\": 569.0}, {\"target\": 562.0, \"preds\": 562.0}, {\"target\": 560.0, \"preds\": 560.0}, {\"target\": 578.0, \"preds\": 578.0}, {\"target\": 571.0, \"preds\": 571.0}, {\"target\": 566.0, \"preds\": 566.0}, {\"target\": 569.0, \"preds\": 569.0}, {\"target\": 609.0, \"preds\": 609.0}, {\"target\": 587.0, \"preds\": 587.0}, {\"target\": 566.0, \"preds\": 566.0}, {\"target\": 571.0, \"preds\": 571.0}, {\"target\": 578.0, \"preds\": 578.0}, {\"target\": 563.0, \"preds\": 563.0}, {\"target\": 567.0, \"preds\": 567.0}, {\"target\": 624.0, \"preds\": 624.0}, {\"target\": 583.0, \"preds\": 583.0}, {\"target\": 564.0, \"preds\": 564.0}, {\"target\": 591.0, \"preds\": 591.0}, {\"target\": 624.5, \"preds\": 624.5}, {\"target\": 580.0, \"preds\": 580.0}, {\"target\": 571.0, \"preds\": 571.0}, {\"target\": 578.0, \"preds\": 578.0}, {\"target\": 594.0, \"preds\": 594.0}, {\"target\": 563.0, \"preds\": 563.0}, {\"target\": 565.0, \"preds\": 565.0}, {\"target\": 581.0, \"preds\": 581.0}, {\"target\": 583.0, \"preds\": 583.0}, {\"target\": 577.0, \"preds\": 577.0}, {\"target\": 583.0, \"preds\": 583.0}, {\"target\": 586.0, \"preds\": 586.0}, {\"target\": 571.0, \"preds\": 571.0}, {\"target\": 561.0, \"preds\": 561.0}, {\"target\": 562.0, \"preds\": 562.0}, {\"target\": 563.0, \"preds\": 563.0}, {\"target\": 569.0, \"preds\": 569.0}, {\"target\": 581.0, \"preds\": 581.0}, {\"target\": 586.0, \"preds\": 586.0}, {\"target\": 568.0, \"preds\": 568.0}, {\"target\": 576.0, \"preds\": 576.0}, {\"target\": 624.5, \"preds\": 624.5}, {\"target\": 573.0, \"preds\": 573.0}, {\"target\": 565.0, \"preds\": 565.0}, {\"target\": 576.0, \"preds\": 576.0}, {\"target\": 624.5, \"preds\": 624.5}, {\"target\": 578.0, \"preds\": 578.0}, {\"target\": 565.0, \"preds\": 565.0}, {\"target\": 569.0, \"preds\": 569.0}, {\"target\": 565.0, \"preds\": 565.0}, {\"target\": 594.0, \"preds\": 594.0}, {\"target\": 573.0, \"preds\": 573.0}, {\"target\": 624.5, \"preds\": 624.5}, {\"target\": 567.0, \"preds\": 567.0}, {\"target\": 573.0, \"preds\": 573.0}, {\"target\": 624.5, \"preds\": 624.5}, {\"target\": 624.5, \"preds\": 624.5}, {\"target\": 560.0, \"preds\": 560.0}, {\"target\": 624.5, \"preds\": 624.5}, {\"target\": 583.0, \"preds\": 583.0}, {\"target\": 571.0, \"preds\": 571.0}, {\"target\": 569.0, \"preds\": 569.0}, {\"target\": 581.0, \"preds\": 581.0}, {\"target\": 624.5, \"preds\": 624.5}, {\"target\": 569.0, \"preds\": 569.0}, {\"target\": 568.0, \"preds\": 568.0}, {\"target\": 624.5, \"preds\": 624.5}, {\"target\": 624.5, \"preds\": 624.5}, {\"target\": 576.0, \"preds\": 576.0}, {\"target\": 571.0, \"preds\": 571.0}, {\"target\": 574.0, \"preds\": 574.0}, {\"target\": 574.0, \"preds\": 574.0}, {\"target\": 606.0, \"preds\": 606.0}, {\"target\": 567.0, \"preds\": 567.0}, {\"target\": 564.0, \"preds\": 564.0}, {\"target\": 572.0, \"preds\": 572.0}, {\"target\": 624.5, \"preds\": 624.5}, {\"target\": 581.0, \"preds\": 581.0}, {\"target\": 565.0, \"preds\": 565.0}, {\"target\": 619.0, \"preds\": 619.0}, {\"target\": 572.0, \"preds\": 572.0}, {\"target\": 571.0, \"preds\": 571.0}, {\"target\": 576.0, \"preds\": 576.0}, {\"target\": 572.0, \"preds\": 572.0}, {\"target\": 592.0, \"preds\": 592.0}, {\"target\": 578.0, \"preds\": 578.0}, {\"target\": 566.0, \"preds\": 566.0}, {\"target\": 590.0, \"preds\": 590.0}, {\"target\": 578.0, \"preds\": 578.0}, {\"target\": 570.0, \"preds\": 570.0}, {\"target\": 575.0, \"preds\": 575.0}, {\"target\": 581.0, \"preds\": 581.0}, {\"target\": 600.0, \"preds\": 600.0}, {\"target\": 604.0, \"preds\": 604.0}, {\"target\": 576.0, \"preds\": 576.0}, {\"target\": 619.0, \"preds\": 619.0}, {\"target\": 567.0, \"preds\": 567.0}, {\"target\": 568.0, \"preds\": 568.0}, {\"target\": 587.0, \"preds\": 587.0}, {\"target\": 594.0, \"preds\": 594.0}, {\"target\": 571.0, \"preds\": 571.0}, {\"target\": 561.0, \"preds\": 561.0}, {\"target\": 594.0, \"preds\": 594.0}, {\"target\": 585.0, \"preds\": 585.0}, {\"target\": 624.5, \"preds\": 624.5}, {\"target\": 567.0, \"preds\": 567.0}, {\"target\": 583.0, \"preds\": 583.0}, {\"target\": 600.0, \"preds\": 600.0}, {\"target\": 571.0, \"preds\": 571.0}, {\"target\": 583.0, \"preds\": 583.0}, {\"target\": 562.0, \"preds\": 562.0}, {\"target\": 581.0, \"preds\": 581.0}, {\"target\": 565.0, \"preds\": 565.0}, {\"target\": 587.0, \"preds\": 587.0}, {\"target\": 562.0, \"preds\": 562.0}, {\"target\": 606.0, \"preds\": 606.0}, {\"target\": 571.0, \"preds\": 571.0}, {\"target\": 563.0, \"preds\": 563.0}, {\"target\": 624.5, \"preds\": 624.5}, {\"target\": 601.0, \"preds\": 601.0}, {\"target\": 572.0, \"preds\": 572.0}, {\"target\": 558.0, \"preds\": 558.0}, {\"target\": 567.0, \"preds\": 567.0}, {\"target\": 571.0, \"preds\": 571.0}, {\"target\": 572.0, \"preds\": 572.0}, {\"target\": 569.0, \"preds\": 569.0}, {\"target\": 568.0, \"preds\": 568.0}, {\"target\": 565.0, \"preds\": 565.0}, {\"target\": 601.0, \"preds\": 601.0}, {\"target\": 566.0, \"preds\": 566.0}, {\"target\": 577.0, \"preds\": 577.0}, {\"target\": 565.0, \"preds\": 565.0}, {\"target\": 576.0, \"preds\": 576.0}, {\"target\": 567.0, \"preds\": 567.0}, {\"target\": 565.0, \"preds\": 565.0}, {\"target\": 613.0, \"preds\": 613.0}, {\"target\": 590.0, \"preds\": 590.0}, {\"target\": 573.0, \"preds\": 573.0}, {\"target\": 573.0, \"preds\": 573.0}, {\"target\": 573.0, \"preds\": 573.0}, {\"target\": 565.0, \"preds\": 565.0}, {\"target\": 568.0, \"preds\": 568.0}, {\"target\": 564.0, \"preds\": 564.0}, {\"target\": 587.0, \"preds\": 587.0}, {\"target\": 567.0, \"preds\": 567.0}, {\"target\": 583.0, \"preds\": 583.0}, {\"target\": 568.0, \"preds\": 568.0}, {\"target\": 569.0, \"preds\": 569.0}, {\"target\": 571.0, \"preds\": 571.0}, {\"target\": 574.0, \"preds\": 574.0}, {\"target\": 600.0, \"preds\": 600.0}, {\"target\": 600.0, \"preds\": 600.0}, {\"target\": 622.0, \"preds\": 622.0}, {\"target\": 574.0, \"preds\": 574.0}, {\"target\": 596.0, \"preds\": 596.0}, {\"target\": 570.0, \"preds\": 570.0}, {\"target\": 581.0, \"preds\": 581.0}, {\"target\": 564.0, \"preds\": 564.0}, {\"target\": 574.0, \"preds\": 574.0}, {\"target\": 596.0, \"preds\": 596.0}, {\"target\": 600.0, \"preds\": 600.0}, {\"target\": 600.0, \"preds\": 600.0}, {\"target\": 574.0, \"preds\": 574.0}, {\"target\": 571.0, \"preds\": 571.0}, {\"target\": 565.0, \"preds\": 565.0}, {\"target\": 569.0, \"preds\": 569.0}, {\"target\": 571.0, \"preds\": 571.0}, {\"target\": 624.5, \"preds\": 624.5}, {\"target\": 586.0, \"preds\": 586.0}, {\"target\": 581.0, \"preds\": 581.0}, {\"target\": 576.0, \"preds\": 576.0}, {\"target\": 574.0, \"preds\": 574.0}, {\"target\": 592.0, \"preds\": 592.0}, {\"target\": 594.0, \"preds\": 594.0}, {\"target\": 569.0, \"preds\": 569.0}, {\"target\": 574.0, \"preds\": 574.0}, {\"target\": 563.0, \"preds\": 563.0}, {\"target\": 606.0, \"preds\": 606.0}, {\"target\": 571.0, \"preds\": 571.0}, {\"target\": 613.0, \"preds\": 613.0}, {\"target\": 581.0, \"preds\": 581.0}, {\"target\": 568.0, \"preds\": 568.0}, {\"target\": 565.0, \"preds\": 565.0}, {\"target\": 572.0, \"preds\": 572.0}, {\"target\": 574.0, \"preds\": 574.0}, {\"target\": 563.0, \"preds\": 563.0}, {\"target\": 624.5, \"preds\": 624.5}, {\"target\": 571.0, \"preds\": 571.0}, {\"target\": 568.0, \"preds\": 568.0}, {\"target\": 568.0, \"preds\": 568.0}, {\"target\": 571.0, \"preds\": 571.0}, {\"target\": 574.0, \"preds\": 574.0}, {\"target\": 586.0, \"preds\": 586.0}, {\"target\": 569.0, \"preds\": 569.0}, {\"target\": 622.0, \"preds\": 622.0}, {\"target\": 624.5, \"preds\": 624.5}, {\"target\": 581.0, \"preds\": 581.0}, {\"target\": 613.0, \"preds\": 613.0}, {\"target\": 565.0, \"preds\": 565.0}, {\"target\": 565.0, \"preds\": 565.0}, {\"target\": 567.0, \"preds\": 567.0}, {\"target\": 571.0, \"preds\": 571.0}, {\"target\": 586.0, \"preds\": 586.0}, {\"target\": 590.0, \"preds\": 590.0}, {\"target\": 577.0, \"preds\": 577.0}, {\"target\": 574.0, \"preds\": 574.0}, {\"target\": 572.0, \"preds\": 572.0}, {\"target\": 624.5, \"preds\": 624.5}, {\"target\": 596.0, \"preds\": 596.0}, {\"target\": 560.0, \"preds\": 560.0}, {\"target\": 624.5, \"preds\": 624.5}, {\"target\": 581.0, \"preds\": 581.0}, {\"target\": 594.0, \"preds\": 594.0}, {\"target\": 624.5, \"preds\": 624.5}, {\"target\": 578.0, \"preds\": 578.0}, {\"target\": 587.0, \"preds\": 587.0}, {\"target\": 578.0, \"preds\": 578.0}, {\"target\": 568.0, \"preds\": 568.0}, {\"target\": 571.0, \"preds\": 571.0}, {\"target\": 587.0, \"preds\": 587.0}, {\"target\": 606.0, \"preds\": 606.0}, {\"target\": 594.0, \"preds\": 594.0}, {\"target\": 592.0, \"preds\": 592.0}, {\"target\": 600.0, \"preds\": 600.0}, {\"target\": 582.0, \"preds\": 582.0}, {\"target\": 595.0, \"preds\": 595.0}, {\"target\": 565.0, \"preds\": 565.0}, {\"target\": 575.0, \"preds\": 575.0}, {\"target\": 596.0, \"preds\": 596.0}, {\"target\": 594.0, \"preds\": 594.0}, {\"target\": 581.0, \"preds\": 581.0}, {\"target\": 624.5, \"preds\": 624.5}, {\"target\": 624.5, \"preds\": 624.5}, {\"target\": 576.0, \"preds\": 576.0}, {\"target\": 566.0, \"preds\": 566.0}, {\"target\": 573.0, \"preds\": 573.0}, {\"target\": 624.5, \"preds\": 624.5}, {\"target\": 565.0, \"preds\": 565.0}, {\"target\": 571.0, \"preds\": 571.0}, {\"target\": 573.0, \"preds\": 573.0}, {\"target\": 563.0, \"preds\": 563.0}, {\"target\": 568.0, \"preds\": 568.0}, {\"target\": 574.0, \"preds\": 574.0}, {\"target\": 565.0, \"preds\": 565.0}, {\"target\": 566.0, \"preds\": 566.0}, {\"target\": 587.0, \"preds\": 587.0}, {\"target\": 572.0, \"preds\": 572.0}, {\"target\": 563.0, \"preds\": 563.0}, {\"target\": 564.0, \"preds\": 564.0}, {\"target\": 583.0, \"preds\": 583.0}, {\"target\": 606.0, \"preds\": 606.0}, {\"target\": 583.0, \"preds\": 583.0}, {\"target\": 561.0, \"preds\": 561.0}, {\"target\": 574.0, \"preds\": 574.0}, {\"target\": 585.0, \"preds\": 585.0}, {\"target\": 613.0, \"preds\": 613.0}, {\"target\": 574.0, \"preds\": 574.0}, {\"target\": 572.0, \"preds\": 572.0}, {\"target\": 568.0, \"preds\": 568.0}, {\"target\": 568.0, \"preds\": 568.0}, {\"target\": 564.0, \"preds\": 564.0}, {\"target\": 564.0, \"preds\": 564.0}, {\"target\": 577.0, \"preds\": 577.0}, {\"target\": 562.0, \"preds\": 562.0}, {\"target\": 581.0, \"preds\": 581.0}, {\"target\": 564.0, \"preds\": 564.0}, {\"target\": 624.5, \"preds\": 624.5}, {\"target\": 572.0, \"preds\": 572.0}, {\"target\": 577.0, \"preds\": 577.0}, {\"target\": 576.0, \"preds\": 576.0}, {\"target\": 562.0, \"preds\": 562.0}, {\"target\": 590.0, \"preds\": 590.0}, {\"target\": 592.0, \"preds\": 592.0}, {\"target\": 592.0, \"preds\": 592.0}, {\"target\": 603.0, \"preds\": 603.0}, {\"target\": 600.0, \"preds\": 600.0}, {\"target\": 609.0, \"preds\": 609.0}, {\"target\": 603.0, \"preds\": 603.0}, {\"target\": 581.0, \"preds\": 581.0}, {\"target\": 566.0, \"preds\": 566.0}, {\"target\": 569.0, \"preds\": 569.0}, {\"target\": 573.0, \"preds\": 573.0}, {\"target\": 624.5, \"preds\": 624.5}, {\"target\": 587.0, \"preds\": 587.0}, {\"target\": 581.0, \"preds\": 581.0}, {\"target\": 591.0, \"preds\": 591.0}, {\"target\": 562.0, \"preds\": 562.0}, {\"target\": 600.0, \"preds\": 600.0}, {\"target\": 594.0, \"preds\": 594.0}, {\"target\": 568.0, \"preds\": 568.0}, {\"target\": 569.0, \"preds\": 569.0}, {\"target\": 577.0, \"preds\": 577.0}, {\"target\": 600.0, \"preds\": 600.0}, {\"target\": 594.0, \"preds\": 594.0}, {\"target\": 594.0, \"preds\": 594.0}, {\"target\": 572.0, \"preds\": 572.0}, {\"target\": 572.0, \"preds\": 572.0}, {\"target\": 572.0, \"preds\": 572.0}, {\"target\": 587.0, \"preds\": 587.0}, {\"target\": 624.5, \"preds\": 624.5}, {\"target\": 567.0, \"preds\": 567.0}, {\"target\": 619.0, \"preds\": 619.0}, {\"target\": 581.0, \"preds\": 581.0}, {\"target\": 574.0, \"preds\": 574.0}, {\"target\": 565.0, \"preds\": 565.0}, {\"target\": 573.0, \"preds\": 573.0}, {\"target\": 578.0, \"preds\": 578.0}, {\"target\": 573.0, \"preds\": 573.0}, {\"target\": 624.5, \"preds\": 624.5}, {\"target\": 583.0, \"preds\": 583.0}, {\"target\": 560.0, \"preds\": 560.0}, {\"target\": 568.0, \"preds\": 568.0}, {\"target\": 565.0, \"preds\": 565.0}, {\"target\": 577.0, \"preds\": 577.0}, {\"target\": 574.0, \"preds\": 574.0}, {\"target\": 565.0, \"preds\": 565.0}, {\"target\": 563.0, \"preds\": 563.0}, {\"target\": 578.0, \"preds\": 578.0}, {\"target\": 578.0, \"preds\": 578.0}, {\"target\": 565.0, \"preds\": 565.0}, {\"target\": 573.0, \"preds\": 573.0}, {\"target\": 569.0, \"preds\": 569.0}, {\"target\": 587.0, \"preds\": 587.0}, {\"target\": 567.0, \"preds\": 567.0}, {\"target\": 615.0, \"preds\": 615.0}, {\"target\": 581.0, \"preds\": 581.0}, {\"target\": 563.0, \"preds\": 563.0}, {\"target\": 562.0, \"preds\": 562.0}, {\"target\": 581.0, \"preds\": 581.0}, {\"target\": 568.0, \"preds\": 568.0}, {\"target\": 572.0, \"preds\": 572.0}, {\"target\": 562.0, \"preds\": 562.0}, {\"target\": 573.0, \"preds\": 573.0}, {\"target\": 578.0, \"preds\": 578.0}, {\"target\": 581.0, \"preds\": 581.0}, {\"target\": 624.5, \"preds\": 624.5}, {\"target\": 572.0, \"preds\": 572.0}, {\"target\": 612.0, \"preds\": 612.0}, {\"target\": 594.0, \"preds\": 594.0}, {\"target\": 606.0, \"preds\": 606.0}, {\"target\": 624.5, \"preds\": 624.5}, {\"target\": 571.0, \"preds\": 571.0}, {\"target\": 572.0, \"preds\": 572.0}, {\"target\": 594.0, \"preds\": 594.0}, {\"target\": 567.0, \"preds\": 567.0}, {\"target\": 624.5, \"preds\": 624.5}, {\"target\": 594.0, \"preds\": 594.0}, {\"target\": 567.0, \"preds\": 567.0}, {\"target\": 572.0, \"preds\": 572.0}, {\"target\": 564.0, \"preds\": 564.0}, {\"target\": 560.0, \"preds\": 560.0}, {\"target\": 580.0, \"preds\": 580.0}, {\"target\": 585.0, \"preds\": 585.0}, {\"target\": 571.0, \"preds\": 571.0}, {\"target\": 604.0, \"preds\": 604.0}, {\"target\": 564.0, \"preds\": 564.0}, {\"target\": 574.0, \"preds\": 574.0}, {\"target\": 594.0, \"preds\": 594.0}, {\"target\": 568.0, \"preds\": 568.0}, {\"target\": 594.0, \"preds\": 594.0}, {\"target\": 576.0, \"preds\": 576.0}, {\"target\": 583.0, \"preds\": 583.0}, {\"target\": 567.0, \"preds\": 567.0}, {\"target\": 581.0, \"preds\": 581.0}, {\"target\": 580.0, \"preds\": 580.0}, {\"target\": 572.0, \"preds\": 572.0}, {\"target\": 564.0, \"preds\": 564.0}, {\"target\": 587.0, \"preds\": 587.0}, {\"target\": 581.0, \"preds\": 581.0}, {\"target\": 578.0, \"preds\": 578.0}, {\"target\": 572.0, \"preds\": 572.0}, {\"target\": 568.0, \"preds\": 568.0}, {\"target\": 568.0, \"preds\": 568.0}, {\"target\": 585.0, \"preds\": 585.0}, {\"target\": 581.0, \"preds\": 581.0}, {\"target\": 624.5, \"preds\": 624.5}, {\"target\": 587.0, \"preds\": 587.0}, {\"target\": 582.0, \"preds\": 582.0}, {\"target\": 583.0, \"preds\": 583.0}, {\"target\": 573.0, \"preds\": 573.0}, {\"target\": 564.0, \"preds\": 564.0}, {\"target\": 579.0, \"preds\": 579.0}, {\"target\": 566.0, \"preds\": 566.0}, {\"target\": 565.0, \"preds\": 565.0}, {\"target\": 574.0, \"preds\": 574.0}, {\"target\": 603.0, \"preds\": 603.0}, {\"target\": 571.0, \"preds\": 571.0}, {\"target\": 572.0, \"preds\": 572.0}, {\"target\": 583.0, \"preds\": 583.0}, {\"target\": 560.0, \"preds\": 560.0}, {\"target\": 571.0, \"preds\": 571.0}, {\"target\": 567.0, \"preds\": 567.0}, {\"target\": 573.0, \"preds\": 573.0}, {\"target\": 571.0, \"preds\": 571.0}, {\"target\": 574.0, \"preds\": 574.0}, {\"target\": 571.0, \"preds\": 571.0}, {\"target\": 624.5, \"preds\": 624.5}, {\"target\": 624.5, \"preds\": 624.5}, {\"target\": 596.0, \"preds\": 596.0}, {\"target\": 594.0, \"preds\": 594.0}, {\"target\": 624.5, \"preds\": 624.5}, {\"target\": 600.0, \"preds\": 600.0}, {\"target\": 581.0, \"preds\": 581.0}, {\"target\": 564.0, \"preds\": 564.0}, {\"target\": 577.0, \"preds\": 577.0}, {\"target\": 581.0, \"preds\": 581.0}, {\"target\": 578.0, \"preds\": 578.0}, {\"target\": 574.0, \"preds\": 574.0}, {\"target\": 572.0, \"preds\": 572.0}, {\"target\": 581.0, \"preds\": 581.0}, {\"target\": 571.0, \"preds\": 571.0}, {\"target\": 624.5, \"preds\": 624.5}, {\"target\": 624.5, \"preds\": 624.5}, {\"target\": 578.0, \"preds\": 578.0}, {\"target\": 624.5, \"preds\": 624.5}, {\"target\": 568.0, \"preds\": 568.0}, {\"target\": 586.0, \"preds\": 586.0}, {\"target\": 591.0, \"preds\": 591.0}, {\"target\": 590.0, \"preds\": 590.0}, {\"target\": 577.0, \"preds\": 577.0}, {\"target\": 624.5, \"preds\": 624.5}, {\"target\": 587.0, \"preds\": 587.0}, {\"target\": 576.0, \"preds\": 576.0}, {\"target\": 578.0, \"preds\": 578.0}, {\"target\": 568.0, \"preds\": 568.0}, {\"target\": 568.0, \"preds\": 568.0}, {\"target\": 624.5, \"preds\": 624.5}, {\"target\": 585.0, \"preds\": 585.0}, {\"target\": 563.0, \"preds\": 563.0}, {\"target\": 606.0, \"preds\": 606.0}, {\"target\": 573.0, \"preds\": 573.0}, {\"target\": 581.0, \"preds\": 581.0}, {\"target\": 562.0, \"preds\": 562.0}, {\"target\": 565.0, \"preds\": 565.0}, {\"target\": 587.0, \"preds\": 587.0}, {\"target\": 583.0, \"preds\": 583.0}, {\"target\": 582.0, \"preds\": 582.0}, {\"target\": 594.0, \"preds\": 594.0}, {\"target\": 574.0, \"preds\": 574.0}, {\"target\": 578.0, \"preds\": 578.0}, {\"target\": 568.0, \"preds\": 568.0}, {\"target\": 581.0, \"preds\": 581.0}, {\"target\": 591.0, \"preds\": 591.0}, {\"target\": 564.0, \"preds\": 564.0}, {\"target\": 594.0, \"preds\": 594.0}, {\"target\": 565.0, \"preds\": 565.0}, {\"target\": 598.0, \"preds\": 598.0}, {\"target\": 567.0, \"preds\": 567.0}, {\"target\": 568.0, \"preds\": 568.0}, {\"target\": 568.0, \"preds\": 568.0}, {\"target\": 574.0, \"preds\": 574.0}, {\"target\": 624.5, \"preds\": 624.5}, {\"target\": 581.0, \"preds\": 581.0}, {\"target\": 576.0, \"preds\": 576.0}, {\"target\": 585.0, \"preds\": 585.0}, {\"target\": 567.0, \"preds\": 567.0}, {\"target\": 569.0, \"preds\": 569.0}, {\"target\": 570.0, \"preds\": 570.0}, {\"target\": 576.0, \"preds\": 576.0}, {\"target\": 585.0, \"preds\": 585.0}, {\"target\": 594.0, \"preds\": 594.0}, {\"target\": 624.5, \"preds\": 624.5}, {\"target\": 560.0, \"preds\": 560.0}, {\"target\": 571.0, \"preds\": 571.0}, {\"target\": 606.0, \"preds\": 606.0}, {\"target\": 565.0, \"preds\": 565.0}, {\"target\": 572.0, \"preds\": 572.0}, {\"target\": 569.0, \"preds\": 569.0}, {\"target\": 624.5, \"preds\": 624.5}, {\"target\": 572.0, \"preds\": 572.0}, {\"target\": 578.0, \"preds\": 578.0}, {\"target\": 574.0, \"preds\": 574.0}, {\"target\": 594.0, \"preds\": 594.0}, {\"target\": 568.0, \"preds\": 568.0}, {\"target\": 568.0, \"preds\": 568.0}, {\"target\": 624.5, \"preds\": 624.5}, {\"target\": 624.5, \"preds\": 624.5}, {\"target\": 562.0, \"preds\": 562.0}, {\"target\": 563.0, \"preds\": 563.0}, {\"target\": 594.0, \"preds\": 594.0}, {\"target\": 609.0, \"preds\": 609.0}, {\"target\": 562.0, \"preds\": 562.0}, {\"target\": 564.0, \"preds\": 564.0}, {\"target\": 568.0, \"preds\": 568.0}, {\"target\": 577.0, \"preds\": 577.0}, {\"target\": 578.0, \"preds\": 578.0}, {\"target\": 577.0, \"preds\": 577.0}, {\"target\": 590.0, \"preds\": 590.0}, {\"target\": 585.0, \"preds\": 585.0}, {\"target\": 587.0, \"preds\": 587.0}, {\"target\": 568.0, \"preds\": 568.0}, {\"target\": 600.0, \"preds\": 600.0}, {\"target\": 564.0, \"preds\": 564.0}, {\"target\": 562.0, \"preds\": 562.0}, {\"target\": 571.0, \"preds\": 571.0}, {\"target\": 594.0, \"preds\": 594.0}, {\"target\": 587.0, \"preds\": 587.0}, {\"target\": 613.0, \"preds\": 613.0}, {\"target\": 566.0, \"preds\": 566.0}, {\"target\": 624.5, \"preds\": 624.5}, {\"target\": 622.0, \"preds\": 622.0}, {\"target\": 571.0, \"preds\": 571.0}, {\"target\": 573.0, \"preds\": 573.0}, {\"target\": 562.0, \"preds\": 562.0}, {\"target\": 606.0, \"preds\": 606.0}, {\"target\": 577.0, \"preds\": 577.0}, {\"target\": 574.0, \"preds\": 574.0}, {\"target\": 563.0, \"preds\": 563.0}, {\"target\": 624.5, \"preds\": 624.5}, {\"target\": 578.0, \"preds\": 578.0}, {\"target\": 565.0, \"preds\": 565.0}, {\"target\": 568.0, \"preds\": 568.0}, {\"target\": 567.0, \"preds\": 567.0}, {\"target\": 586.0, \"preds\": 586.0}, {\"target\": 569.0, \"preds\": 569.0}, {\"target\": 595.0, \"preds\": 595.0}, {\"target\": 567.0, \"preds\": 567.0}, {\"target\": 567.0, \"preds\": 567.0}, {\"target\": 564.0, \"preds\": 564.0}, {\"target\": 624.5, \"preds\": 624.5}, {\"target\": 574.0, \"preds\": 574.0}, {\"target\": 574.0, \"preds\": 574.0}, {\"target\": 565.0, \"preds\": 565.0}, {\"target\": 592.0, \"preds\": 592.0}, {\"target\": 581.0, \"preds\": 581.0}, {\"target\": 571.0, \"preds\": 571.0}, {\"target\": 592.0, \"preds\": 592.0}, {\"target\": 568.0, \"preds\": 568.0}, {\"target\": 573.0, \"preds\": 573.0}, {\"target\": 563.0, \"preds\": 563.0}, {\"target\": 606.0, \"preds\": 606.0}, {\"target\": 585.0, \"preds\": 585.0}, {\"target\": 568.0, \"preds\": 568.0}, {\"target\": 574.0, \"preds\": 574.0}, {\"target\": 569.0, \"preds\": 569.0}, {\"target\": 581.0, \"preds\": 581.0}, {\"target\": 574.0, \"preds\": 574.0}, {\"target\": 563.0, \"preds\": 563.0}, {\"target\": 581.0, \"preds\": 581.0}, {\"target\": 564.0, \"preds\": 564.0}, {\"target\": 571.0, \"preds\": 571.0}, {\"target\": 590.0, \"preds\": 590.0}, {\"target\": 574.0, \"preds\": 574.0}, {\"target\": 581.0, \"preds\": 581.0}, {\"target\": 564.0, \"preds\": 564.0}, {\"target\": 564.0, \"preds\": 564.0}, {\"target\": 564.0, \"preds\": 564.0}, {\"target\": 567.0, \"preds\": 567.0}, {\"target\": 561.0, \"preds\": 561.0}, {\"target\": 571.0, \"preds\": 571.0}, {\"target\": 578.0, \"preds\": 578.0}, {\"target\": 562.0, \"preds\": 562.0}, {\"target\": 573.0, \"preds\": 573.0}, {\"target\": 564.0, \"preds\": 564.0}, {\"target\": 568.0, \"preds\": 568.0}, {\"target\": 572.0, \"preds\": 572.0}, {\"target\": 570.0, \"preds\": 570.0}, {\"target\": 567.0, \"preds\": 567.0}, {\"target\": 571.0, \"preds\": 571.0}, {\"target\": 600.0, \"preds\": 600.0}, {\"target\": 569.0, \"preds\": 569.0}, {\"target\": 624.5, \"preds\": 624.5}, {\"target\": 574.0, \"preds\": 574.0}, {\"target\": 574.0, \"preds\": 574.0}, {\"target\": 568.0, \"preds\": 568.0}, {\"target\": 571.0, \"preds\": 571.0}, {\"target\": 568.0, \"preds\": 568.0}, {\"target\": 600.0, \"preds\": 600.0}, {\"target\": 586.0, \"preds\": 586.0}, {\"target\": 571.0, \"preds\": 571.0}, {\"target\": 568.0, \"preds\": 568.0}, {\"target\": 597.0, \"preds\": 597.0}, {\"target\": 594.0, \"preds\": 594.0}, {\"target\": 572.0, \"preds\": 572.0}, {\"target\": 574.0, \"preds\": 574.0}, {\"target\": 581.0, \"preds\": 581.0}, {\"target\": 568.0, \"preds\": 568.0}, {\"target\": 563.0, \"preds\": 563.0}, {\"target\": 559.0, \"preds\": 559.0}, {\"target\": 590.0, \"preds\": 590.0}, {\"target\": 565.0, \"preds\": 565.0}, {\"target\": 571.0, \"preds\": 571.0}, {\"target\": 574.0, \"preds\": 574.0}, {\"target\": 565.0, \"preds\": 565.0}, {\"target\": 565.0, \"preds\": 565.0}, {\"target\": 573.0, \"preds\": 573.0}, {\"target\": 574.0, \"preds\": 574.0}, {\"target\": 582.0, \"preds\": 582.0}, {\"target\": 571.0, \"preds\": 571.0}, {\"target\": 574.0, \"preds\": 574.0}, {\"target\": 563.0, \"preds\": 563.0}, {\"target\": 581.0, \"preds\": 581.0}, {\"target\": 568.0, \"preds\": 568.0}, {\"target\": 569.0, \"preds\": 569.0}, {\"target\": 574.0, \"preds\": 574.0}, {\"target\": 586.0, \"preds\": 586.0}, {\"target\": 576.0, \"preds\": 576.0}, {\"target\": 568.0, \"preds\": 568.0}, {\"target\": 588.0, \"preds\": 588.0}, {\"target\": 568.0, \"preds\": 568.0}, {\"target\": 574.0, \"preds\": 574.0}, {\"target\": 567.0, \"preds\": 567.0}, {\"target\": 574.0, \"preds\": 574.0}, {\"target\": 574.0, \"preds\": 574.0}, {\"target\": 565.0, \"preds\": 565.0}, {\"target\": 572.0, \"preds\": 572.0}, {\"target\": 567.0, \"preds\": 567.0}, {\"target\": 624.5, \"preds\": 624.5}, {\"target\": 565.0, \"preds\": 565.0}, {\"target\": 576.0, \"preds\": 576.0}, {\"target\": 574.0, \"preds\": 574.0}, {\"target\": 574.0, \"preds\": 574.0}, {\"target\": 574.0, \"preds\": 574.0}, {\"target\": 624.5, \"preds\": 624.5}, {\"target\": 567.0, \"preds\": 567.0}, {\"target\": 564.0, \"preds\": 564.0}, {\"target\": 577.0, \"preds\": 577.0}, {\"target\": 574.0, \"preds\": 574.0}, {\"target\": 587.0, \"preds\": 587.0}, {\"target\": 565.0, \"preds\": 565.0}, {\"target\": 566.0, \"preds\": 566.0}, {\"target\": 571.0, \"preds\": 571.0}, {\"target\": 624.5, \"preds\": 624.5}, {\"target\": 573.0, \"preds\": 573.0}, {\"target\": 587.0, \"preds\": 587.0}, {\"target\": 578.0, \"preds\": 578.0}, {\"target\": 577.0, \"preds\": 577.0}, {\"target\": 566.0, \"preds\": 566.0}, {\"target\": 574.0, \"preds\": 574.0}, {\"target\": 568.0, \"preds\": 568.0}, {\"target\": 562.0, \"preds\": 562.0}, {\"target\": 574.0, \"preds\": 574.0}, {\"target\": 599.0, \"preds\": 599.0}, {\"target\": 565.0, \"preds\": 565.0}, {\"target\": 624.5, \"preds\": 624.5}, {\"target\": 583.0, \"preds\": 583.0}, {\"target\": 572.0, \"preds\": 572.0}, {\"target\": 594.0, \"preds\": 594.0}, {\"target\": 571.0, \"preds\": 571.0}, {\"target\": 578.0, \"preds\": 578.0}, {\"target\": 580.0, \"preds\": 580.0}, {\"target\": 571.0, \"preds\": 571.0}, {\"target\": 562.0, \"preds\": 562.0}, {\"target\": 574.0, \"preds\": 574.0}, {\"target\": 577.0, \"preds\": 577.0}, {\"target\": 578.0, \"preds\": 578.0}, {\"target\": 567.0, \"preds\": 567.0}, {\"target\": 571.0, \"preds\": 571.0}, {\"target\": 565.0, \"preds\": 565.0}, {\"target\": 576.0, \"preds\": 576.0}, {\"target\": 565.0, \"preds\": 565.0}, {\"target\": 568.0, \"preds\": 568.0}, {\"target\": 565.0, \"preds\": 565.0}, {\"target\": 576.0, \"preds\": 576.0}, {\"target\": 568.0, \"preds\": 568.0}, {\"target\": 570.0, \"preds\": 570.0}, {\"target\": 568.0, \"preds\": 568.0}, {\"target\": 564.0, \"preds\": 564.0}, {\"target\": 578.0, \"preds\": 578.0}, {\"target\": 606.0, \"preds\": 606.0}, {\"target\": 562.0, \"preds\": 562.0}, {\"target\": 581.0, \"preds\": 581.0}, {\"target\": 573.0, \"preds\": 573.0}, {\"target\": 572.0, \"preds\": 572.0}, {\"target\": 567.0, \"preds\": 567.0}, {\"target\": 568.0, \"preds\": 568.0}, {\"target\": 571.0, \"preds\": 571.0}, {\"target\": 569.0, \"preds\": 569.0}, {\"target\": 568.0, \"preds\": 568.0}, {\"target\": 624.5, \"preds\": 624.5}, {\"target\": 613.0, \"preds\": 613.0}, {\"target\": 624.5, \"preds\": 624.5}, {\"target\": 571.0, \"preds\": 571.0}, {\"target\": 624.5, \"preds\": 624.5}, {\"target\": 585.0, \"preds\": 585.0}, {\"target\": 576.0, \"preds\": 576.0}, {\"target\": 572.0, \"preds\": 572.0}, {\"target\": 564.0, \"preds\": 564.0}, {\"target\": 560.0, \"preds\": 560.0}, {\"target\": 571.0, \"preds\": 571.0}, {\"target\": 565.0, \"preds\": 565.0}, {\"target\": 564.0, \"preds\": 564.0}, {\"target\": 581.0, \"preds\": 581.0}, {\"target\": 574.0, \"preds\": 574.0}, {\"target\": 569.0, \"preds\": 569.0}, {\"target\": 624.5, \"preds\": 624.5}, {\"target\": 571.0, \"preds\": 571.0}, {\"target\": 566.0, \"preds\": 566.0}, {\"target\": 604.0, \"preds\": 604.0}, {\"target\": 567.0, \"preds\": 567.0}, {\"target\": 566.0, \"preds\": 566.0}, {\"target\": 564.0, \"preds\": 564.0}, {\"target\": 566.0, \"preds\": 566.0}, {\"target\": 564.0, \"preds\": 564.0}, {\"target\": 564.0, \"preds\": 564.0}, {\"target\": 561.0, \"preds\": 561.0}, {\"target\": 583.0, \"preds\": 583.0}, {\"target\": 568.0, \"preds\": 568.0}, {\"target\": 576.0, \"preds\": 576.0}, {\"target\": 624.5, \"preds\": 624.5}, {\"target\": 574.0, \"preds\": 574.0}, {\"target\": 581.0, \"preds\": 581.0}, {\"target\": 574.0, \"preds\": 574.0}, {\"target\": 567.0, \"preds\": 567.0}, {\"target\": 573.0, \"preds\": 573.0}, {\"target\": 574.0, \"preds\": 574.0}, {\"target\": 565.0, \"preds\": 565.0}, {\"target\": 571.0, \"preds\": 571.0}, {\"target\": 565.0, \"preds\": 565.0}, {\"target\": 569.0, \"preds\": 569.0}, {\"target\": 569.0, \"preds\": 569.0}, {\"target\": 578.0, \"preds\": 578.0}, {\"target\": 565.0, \"preds\": 565.0}, {\"target\": 587.0, \"preds\": 587.0}, {\"target\": 571.0, \"preds\": 571.0}, {\"target\": 562.0, \"preds\": 562.0}, {\"target\": 573.0, \"preds\": 573.0}, {\"target\": 600.0, \"preds\": 600.0}, {\"target\": 565.0, \"preds\": 565.0}, {\"target\": 576.0, \"preds\": 576.0}, {\"target\": 576.0, \"preds\": 576.0}, {\"target\": 600.0, \"preds\": 600.0}, {\"target\": 562.0, \"preds\": 562.0}, {\"target\": 587.0, \"preds\": 587.0}, {\"target\": 561.0, \"preds\": 561.0}, {\"target\": 565.0, \"preds\": 565.0}, {\"target\": 576.0, \"preds\": 576.0}, {\"target\": 578.0, \"preds\": 578.0}, {\"target\": 564.0, \"preds\": 564.0}, {\"target\": 565.0, \"preds\": 565.0}, {\"target\": 568.0, \"preds\": 568.0}, {\"target\": 564.0, \"preds\": 564.0}, {\"target\": 624.5, \"preds\": 624.5}, {\"target\": 572.0, \"preds\": 572.0}, {\"target\": 624.5, \"preds\": 624.5}, {\"target\": 572.0, \"preds\": 572.0}, {\"target\": 588.0, \"preds\": 588.0}, {\"target\": 566.0, \"preds\": 566.0}, {\"target\": 574.0, \"preds\": 574.0}, {\"target\": 581.0, \"preds\": 581.0}, {\"target\": 574.0, \"preds\": 574.0}, {\"target\": 573.0, \"preds\": 573.0}, {\"target\": 569.0, \"preds\": 569.0}, {\"target\": 564.0, \"preds\": 564.0}, {\"target\": 588.0, \"preds\": 588.0}, {\"target\": 565.0, \"preds\": 565.0}, {\"target\": 574.0, \"preds\": 574.0}, {\"target\": 571.0, \"preds\": 571.0}, {\"target\": 583.0, \"preds\": 583.0}, {\"target\": 564.0, \"preds\": 564.0}, {\"target\": 564.0, \"preds\": 564.0}, {\"target\": 613.0, \"preds\": 613.0}, {\"target\": 581.0, \"preds\": 581.0}, {\"target\": 573.0, \"preds\": 573.0}, {\"target\": 578.0, \"preds\": 578.0}, {\"target\": 581.0, \"preds\": 581.0}, {\"target\": 568.0, \"preds\": 568.0}, {\"target\": 578.0, \"preds\": 578.0}, {\"target\": 562.0, \"preds\": 562.0}, {\"target\": 571.0, \"preds\": 571.0}, {\"target\": 567.0, \"preds\": 567.0}, {\"target\": 571.0, \"preds\": 571.0}, {\"target\": 581.0, \"preds\": 581.0}, {\"target\": 571.0, \"preds\": 571.0}, {\"target\": 567.0, \"preds\": 567.0}, {\"target\": 583.0, \"preds\": 583.0}, {\"target\": 585.0, \"preds\": 585.0}, {\"target\": 571.0, \"preds\": 571.0}, {\"target\": 597.0, \"preds\": 597.0}, {\"target\": 581.0, \"preds\": 581.0}, {\"target\": 567.0, \"preds\": 567.0}, {\"target\": 564.0, \"preds\": 564.0}, {\"target\": 573.0, \"preds\": 573.0}, {\"target\": 582.0, \"preds\": 582.0}, {\"target\": 576.0, \"preds\": 576.0}, {\"target\": 587.0, \"preds\": 587.0}, {\"target\": 570.0, \"preds\": 570.0}, {\"target\": 574.0, \"preds\": 574.0}, {\"target\": 561.0, \"preds\": 561.0}, {\"target\": 567.0, \"preds\": 567.0}, {\"target\": 576.0, \"preds\": 576.0}, {\"target\": 571.0, \"preds\": 571.0}, {\"target\": 572.0, \"preds\": 572.0}, {\"target\": 575.0, \"preds\": 575.0}, {\"target\": 563.0, \"preds\": 563.0}, {\"target\": 568.0, \"preds\": 568.0}, {\"target\": 559.0, \"preds\": 559.0}, {\"target\": 565.0, \"preds\": 565.0}, {\"target\": 576.0, \"preds\": 576.0}, {\"target\": 600.0, \"preds\": 600.0}, {\"target\": 581.0, \"preds\": 581.0}, {\"target\": 576.0, \"preds\": 576.0}, {\"target\": 566.0, \"preds\": 566.0}, {\"target\": 576.0, \"preds\": 576.0}, {\"target\": 578.0, \"preds\": 578.0}, {\"target\": 565.0, \"preds\": 565.0}, {\"target\": 567.0, \"preds\": 567.0}, {\"target\": 572.0, \"preds\": 572.0}, {\"target\": 587.0, \"preds\": 587.0}, {\"target\": 624.5, \"preds\": 624.5}, {\"target\": 572.0, \"preds\": 572.0}, {\"target\": 581.0, \"preds\": 581.0}, {\"target\": 578.0, \"preds\": 578.0}, {\"target\": 565.0, \"preds\": 565.0}, {\"target\": 576.0, \"preds\": 576.0}, {\"target\": 578.0, \"preds\": 578.0}, {\"target\": 580.0, \"preds\": 580.0}, {\"target\": 565.0, \"preds\": 565.0}, {\"target\": 574.0, \"preds\": 574.0}, {\"target\": 580.0, \"preds\": 580.0}, {\"target\": 613.0, \"preds\": 613.0}, {\"target\": 581.0, \"preds\": 581.0}, {\"target\": 562.0, \"preds\": 562.0}, {\"target\": 574.0, \"preds\": 574.0}, {\"target\": 594.0, \"preds\": 594.0}, {\"target\": 571.0, \"preds\": 571.0}, {\"target\": 568.0, \"preds\": 568.0}, {\"target\": 571.0, \"preds\": 571.0}, {\"target\": 613.0, \"preds\": 613.0}, {\"target\": 569.0, \"preds\": 569.0}, {\"target\": 563.0, \"preds\": 563.0}, {\"target\": 563.0, \"preds\": 563.0}, {\"target\": 564.0, \"preds\": 564.0}, {\"target\": 568.0, \"preds\": 568.0}, {\"target\": 576.0, \"preds\": 576.0}, {\"target\": 583.0, \"preds\": 583.0}, {\"target\": 573.0, \"preds\": 573.0}, {\"target\": 578.0, \"preds\": 578.0}, {\"target\": 569.0, \"preds\": 569.0}, {\"target\": 581.0, \"preds\": 581.0}, {\"target\": 624.5, \"preds\": 624.5}, {\"target\": 572.0, \"preds\": 572.0}, {\"target\": 564.0, \"preds\": 564.0}, {\"target\": 571.0, \"preds\": 571.0}, {\"target\": 574.0, \"preds\": 574.0}, {\"target\": 591.0, \"preds\": 591.0}, {\"target\": 567.0, \"preds\": 567.0}, {\"target\": 576.0, \"preds\": 576.0}, {\"target\": 581.0, \"preds\": 581.0}, {\"target\": 583.0, \"preds\": 583.0}, {\"target\": 624.5, \"preds\": 624.5}, {\"target\": 562.0, \"preds\": 562.0}, {\"target\": 565.0, \"preds\": 565.0}, {\"target\": 613.0, \"preds\": 613.0}, {\"target\": 574.0, \"preds\": 574.0}, {\"target\": 560.0, \"preds\": 560.0}, {\"target\": 587.0, \"preds\": 587.0}, {\"target\": 577.0, \"preds\": 577.0}, {\"target\": 619.0, \"preds\": 619.0}, {\"target\": 583.0, \"preds\": 583.0}, {\"target\": 571.0, \"preds\": 571.0}, {\"target\": 568.0, \"preds\": 568.0}, {\"target\": 568.0, \"preds\": 568.0}, {\"target\": 588.0, \"preds\": 588.0}, {\"target\": 571.0, \"preds\": 571.0}, {\"target\": 566.0, \"preds\": 566.0}, {\"target\": 571.0, \"preds\": 571.0}, {\"target\": 588.0, \"preds\": 588.0}, {\"target\": 572.0, \"preds\": 572.0}, {\"target\": 594.0, \"preds\": 594.0}, {\"target\": 571.0, \"preds\": 571.0}, {\"target\": 568.0, \"preds\": 568.0}, {\"target\": 572.0, \"preds\": 572.0}, {\"target\": 572.0, \"preds\": 572.0}, {\"target\": 565.0, \"preds\": 565.0}, {\"target\": 563.0, \"preds\": 563.0}, {\"target\": 577.0, \"preds\": 577.0}, {\"target\": 577.0, \"preds\": 577.0}, {\"target\": 574.0, \"preds\": 574.0}, {\"target\": 566.0, \"preds\": 566.0}, {\"target\": 566.0, \"preds\": 566.0}, {\"target\": 569.0, \"preds\": 569.0}, {\"target\": 576.0, \"preds\": 576.0}, {\"target\": 568.0, \"preds\": 568.0}, {\"target\": 624.5, \"preds\": 624.5}, {\"target\": 564.0, \"preds\": 564.0}, {\"target\": 577.0, \"preds\": 577.0}, {\"target\": 577.0, \"preds\": 577.0}, {\"target\": 605.0, \"preds\": 605.0}, {\"target\": 564.0, \"preds\": 564.0}, {\"target\": 574.0, \"preds\": 574.0}, {\"target\": 577.0, \"preds\": 577.0}, {\"target\": 564.0, \"preds\": 564.0}, {\"target\": 624.5, \"preds\": 624.5}, {\"target\": 566.0, \"preds\": 566.0}, {\"target\": 565.0, \"preds\": 565.0}, {\"target\": 568.0, \"preds\": 568.0}, {\"target\": 599.0, \"preds\": 599.0}, {\"target\": 577.0, \"preds\": 577.0}, {\"target\": 577.0, \"preds\": 577.0}, {\"target\": 566.0, \"preds\": 566.0}, {\"target\": 568.0, \"preds\": 568.0}, {\"target\": 565.0, \"preds\": 565.0}, {\"target\": 594.0, \"preds\": 594.0}, {\"target\": 574.0, \"preds\": 574.0}, {\"target\": 587.0, \"preds\": 587.0}, {\"target\": 576.0, \"preds\": 576.0}, {\"target\": 606.0, \"preds\": 606.0}, {\"target\": 574.0, \"preds\": 574.0}, {\"target\": 571.0, \"preds\": 571.0}, {\"target\": 600.0, \"preds\": 600.0}, {\"target\": 565.0, \"preds\": 565.0}, {\"target\": 569.0, \"preds\": 569.0}, {\"target\": 581.0, \"preds\": 581.0}, {\"target\": 567.0, \"preds\": 567.0}, {\"target\": 576.0, \"preds\": 576.0}, {\"target\": 571.0, \"preds\": 571.0}, {\"target\": 571.0, \"preds\": 571.0}, {\"target\": 574.0, \"preds\": 574.0}, {\"target\": 573.0, \"preds\": 573.0}, {\"target\": 624.5, \"preds\": 624.5}, {\"target\": 568.0, \"preds\": 568.0}, {\"target\": 577.0, \"preds\": 577.0}, {\"target\": 624.5, \"preds\": 624.5}, {\"target\": 588.0, \"preds\": 588.0}, {\"target\": 566.0, \"preds\": 566.0}, {\"target\": 568.0, \"preds\": 568.0}, {\"target\": 587.0, \"preds\": 587.0}, {\"target\": 568.0, \"preds\": 568.0}, {\"target\": 572.0, \"preds\": 572.0}, {\"target\": 576.0, \"preds\": 576.0}, {\"target\": 567.0, \"preds\": 567.0}, {\"target\": 578.0, \"preds\": 578.0}, {\"target\": 586.0, \"preds\": 586.0}, {\"target\": 563.0, \"preds\": 563.0}, {\"target\": 578.0, \"preds\": 578.0}, {\"target\": 581.0, \"preds\": 581.0}, {\"target\": 573.0, \"preds\": 573.0}, {\"target\": 567.0, \"preds\": 567.0}, {\"target\": 574.0, \"preds\": 574.0}, {\"target\": 624.5, \"preds\": 624.5}, {\"target\": 565.0, \"preds\": 565.0}, {\"target\": 567.0, \"preds\": 567.0}, {\"target\": 624.5, \"preds\": 624.5}, {\"target\": 564.0, \"preds\": 564.0}, {\"target\": 585.0, \"preds\": 585.0}, {\"target\": 563.0, \"preds\": 563.0}, {\"target\": 572.0, \"preds\": 572.0}, {\"target\": 574.0, \"preds\": 574.0}, {\"target\": 568.0, \"preds\": 568.0}, {\"target\": 568.0, \"preds\": 568.0}, {\"target\": 564.0, \"preds\": 564.0}, {\"target\": 564.0, \"preds\": 564.0}, {\"target\": 564.0, \"preds\": 564.0}, {\"target\": 583.0, \"preds\": 583.0}, {\"target\": 564.0, \"preds\": 564.0}, {\"target\": 574.0, \"preds\": 574.0}, {\"target\": 564.0, \"preds\": 564.0}, {\"target\": 574.0, \"preds\": 574.0}, {\"target\": 567.0, \"preds\": 567.0}, {\"target\": 578.0, \"preds\": 578.0}, {\"target\": 566.0, \"preds\": 566.0}, {\"target\": 577.0, \"preds\": 577.0}, {\"target\": 571.0, \"preds\": 571.0}, {\"target\": 594.0, \"preds\": 594.0}, {\"target\": 560.0, \"preds\": 560.0}, {\"target\": 573.0, \"preds\": 573.0}, {\"target\": 565.0, \"preds\": 565.0}, {\"target\": 571.0, \"preds\": 571.0}, {\"target\": 624.5, \"preds\": 624.5}, {\"target\": 573.0, \"preds\": 573.0}, {\"target\": 565.0, \"preds\": 565.0}, {\"target\": 578.0, \"preds\": 578.0}, {\"target\": 590.0, \"preds\": 590.0}, {\"target\": 576.0, \"preds\": 576.0}, {\"target\": 571.0, \"preds\": 571.0}, {\"target\": 573.0, \"preds\": 573.0}, {\"target\": 564.0, \"preds\": 564.0}, {\"target\": 569.0, \"preds\": 569.0}, {\"target\": 564.0, \"preds\": 564.0}, {\"target\": 624.5, \"preds\": 624.5}, {\"target\": 568.0, \"preds\": 568.0}, {\"target\": 580.0, \"preds\": 580.0}, {\"target\": 568.0, \"preds\": 568.0}, {\"target\": 572.0, \"preds\": 572.0}, {\"target\": 571.0, \"preds\": 571.0}, {\"target\": 568.0, \"preds\": 568.0}, {\"target\": 576.0, \"preds\": 576.0}, {\"target\": 569.0, \"preds\": 569.0}, {\"target\": 574.0, \"preds\": 574.0}, {\"target\": 574.0, \"preds\": 574.0}, {\"target\": 571.0, \"preds\": 571.0}, {\"target\": 568.0, \"preds\": 568.0}, {\"target\": 564.0, \"preds\": 564.0}, {\"target\": 568.0, \"preds\": 568.0}, {\"target\": 567.0, \"preds\": 567.0}, {\"target\": 569.0, \"preds\": 569.0}, {\"target\": 581.0, \"preds\": 581.0}, {\"target\": 567.0, \"preds\": 567.0}, {\"target\": 568.0, \"preds\": 568.0}, {\"target\": 576.0, \"preds\": 576.0}, {\"target\": 572.0, \"preds\": 572.0}, {\"target\": 576.0, \"preds\": 576.0}, {\"target\": 566.0, \"preds\": 566.0}, {\"target\": 574.0, \"preds\": 574.0}, {\"target\": 572.0, \"preds\": 572.0}, {\"target\": 588.0, \"preds\": 588.0}, {\"target\": 569.0, \"preds\": 569.0}, {\"target\": 578.0, \"preds\": 578.0}, {\"target\": 568.0, \"preds\": 568.0}, {\"target\": 606.0, \"preds\": 606.0}, {\"target\": 586.0, \"preds\": 586.0}, {\"target\": 578.0, \"preds\": 578.0}, {\"target\": 569.0, \"preds\": 569.0}, {\"target\": 585.0, \"preds\": 585.0}, {\"target\": 569.0, \"preds\": 569.0}, {\"target\": 565.0, \"preds\": 565.0}, {\"target\": 572.0, \"preds\": 572.0}, {\"target\": 569.0, \"preds\": 569.0}, {\"target\": 572.0, \"preds\": 572.0}, {\"target\": 587.0, \"preds\": 587.0}, {\"target\": 571.0, \"preds\": 571.0}, {\"target\": 587.0, \"preds\": 587.0}, {\"target\": 566.0, \"preds\": 566.0}, {\"target\": 566.0, \"preds\": 566.0}, {\"target\": 562.0, \"preds\": 562.0}, {\"target\": 566.0, \"preds\": 566.0}, {\"target\": 624.5, \"preds\": 624.5}, {\"target\": 565.0, \"preds\": 565.0}, {\"target\": 571.0, \"preds\": 571.0}, {\"target\": 578.0, \"preds\": 578.0}, {\"target\": 572.0, \"preds\": 572.0}, {\"target\": 624.5, \"preds\": 624.5}, {\"target\": 565.0, \"preds\": 565.0}, {\"target\": 563.0, \"preds\": 563.0}, {\"target\": 571.0, \"preds\": 571.0}, {\"target\": 564.0, \"preds\": 564.0}, {\"target\": 568.0, \"preds\": 568.0}, {\"target\": 577.0, \"preds\": 577.0}, {\"target\": 583.0, \"preds\": 583.0}, {\"target\": 570.0, \"preds\": 570.0}, {\"target\": 585.0, \"preds\": 585.0}, {\"target\": 580.0, \"preds\": 580.0}, {\"target\": 613.0, \"preds\": 613.0}, {\"target\": 577.0, \"preds\": 577.0}, {\"target\": 567.0, \"preds\": 567.0}, {\"target\": 571.0, \"preds\": 571.0}, {\"target\": 606.0, \"preds\": 606.0}, {\"target\": 567.0, \"preds\": 567.0}, {\"target\": 567.0, \"preds\": 567.0}, {\"target\": 587.0, \"preds\": 587.0}, {\"target\": 568.0, \"preds\": 568.0}, {\"target\": 571.0, \"preds\": 571.0}, {\"target\": 580.0, \"preds\": 580.0}, {\"target\": 568.0, \"preds\": 568.0}, {\"target\": 581.0, \"preds\": 581.0}, {\"target\": 591.0, \"preds\": 591.0}, {\"target\": 568.0, \"preds\": 568.0}, {\"target\": 565.0, \"preds\": 565.0}, {\"target\": 572.0, \"preds\": 572.0}, {\"target\": 601.0, \"preds\": 601.0}, {\"target\": 574.0, \"preds\": 574.0}, {\"target\": 562.0, \"preds\": 562.0}, {\"target\": 568.0, \"preds\": 568.0}, {\"target\": 566.0, \"preds\": 566.0}, {\"target\": 569.0, \"preds\": 569.0}, {\"target\": 565.0, \"preds\": 565.0}, {\"target\": 571.0, \"preds\": 571.0}, {\"target\": 562.0, \"preds\": 562.0}, {\"target\": 564.0, \"preds\": 564.0}, {\"target\": 574.0, \"preds\": 574.0}, {\"target\": 568.0, \"preds\": 568.0}, {\"target\": 603.0, \"preds\": 603.0}, {\"target\": 564.0, \"preds\": 564.0}, {\"target\": 564.0, \"preds\": 564.0}, {\"target\": 576.0, \"preds\": 576.0}, {\"target\": 599.0, \"preds\": 599.0}, {\"target\": 574.0, \"preds\": 574.0}, {\"target\": 565.0, \"preds\": 565.0}, {\"target\": 583.0, \"preds\": 583.0}, {\"target\": 624.5, \"preds\": 624.5}, {\"target\": 563.0, \"preds\": 563.0}, {\"target\": 573.0, \"preds\": 573.0}, {\"target\": 570.0, \"preds\": 570.0}, {\"target\": 576.0, \"preds\": 576.0}, {\"target\": 565.0, \"preds\": 565.0}, {\"target\": 568.0, \"preds\": 568.0}, {\"target\": 579.0, \"preds\": 579.0}, {\"target\": 577.0, \"preds\": 577.0}, {\"target\": 600.0, \"preds\": 600.0}, {\"target\": 567.0, \"preds\": 567.0}, {\"target\": 569.0, \"preds\": 569.0}, {\"target\": 571.0, \"preds\": 571.0}, {\"target\": 572.0, \"preds\": 572.0}, {\"target\": 601.0, \"preds\": 601.0}, {\"target\": 624.5, \"preds\": 624.5}, {\"target\": 571.0, \"preds\": 571.0}, {\"target\": 578.0, \"preds\": 578.0}, {\"target\": 568.0, \"preds\": 568.0}, {\"target\": 578.0, \"preds\": 578.0}, {\"target\": 603.0, \"preds\": 603.0}, {\"target\": 578.0, \"preds\": 578.0}, {\"target\": 587.0, \"preds\": 587.0}, {\"target\": 568.0, \"preds\": 568.0}, {\"target\": 574.0, \"preds\": 574.0}, {\"target\": 600.0, \"preds\": 600.0}, {\"target\": 562.0, \"preds\": 562.0}, {\"target\": 585.0, \"preds\": 585.0}, {\"target\": 574.0, \"preds\": 574.0}, {\"target\": 579.0, \"preds\": 579.0}, {\"target\": 591.0, \"preds\": 591.0}, {\"target\": 596.0, \"preds\": 596.0}, {\"target\": 573.0, \"preds\": 573.0}, {\"target\": 564.0, \"preds\": 564.0}, {\"target\": 597.0, \"preds\": 597.0}, {\"target\": 624.5, \"preds\": 624.5}, {\"target\": 578.0, \"preds\": 578.0}, {\"target\": 576.0, \"preds\": 576.0}, {\"target\": 566.0, \"preds\": 566.0}, {\"target\": 568.0, \"preds\": 568.0}, {\"target\": 572.0, \"preds\": 572.0}, {\"target\": 571.0, \"preds\": 571.0}, {\"target\": 568.0, \"preds\": 568.0}, {\"target\": 574.0, \"preds\": 574.0}, {\"target\": 600.0, \"preds\": 600.0}, {\"target\": 624.5, \"preds\": 624.5}, {\"target\": 596.0, \"preds\": 596.0}, {\"target\": 600.0, \"preds\": 600.0}, {\"target\": 569.0, \"preds\": 569.0}, {\"target\": 571.0, \"preds\": 571.0}, {\"target\": 606.0, \"preds\": 606.0}, {\"target\": 565.0, \"preds\": 565.0}, {\"target\": 581.0, \"preds\": 581.0}, {\"target\": 571.0, \"preds\": 571.0}, {\"target\": 574.0, \"preds\": 574.0}, {\"target\": 590.0, \"preds\": 590.0}, {\"target\": 572.0, \"preds\": 572.0}, {\"target\": 567.0, \"preds\": 567.0}, {\"target\": 571.0, \"preds\": 571.0}, {\"target\": 578.0, \"preds\": 578.0}, {\"target\": 573.0, \"preds\": 573.0}, {\"target\": 606.0, \"preds\": 606.0}, {\"target\": 624.5, \"preds\": 624.5}, {\"target\": 574.0, \"preds\": 574.0}, {\"target\": 566.0, \"preds\": 566.0}, {\"target\": 590.0, \"preds\": 590.0}, {\"target\": 574.0, \"preds\": 574.0}, {\"target\": 562.0, \"preds\": 562.0}, {\"target\": 588.0, \"preds\": 588.0}, {\"target\": 573.0, \"preds\": 573.0}, {\"target\": 581.0, \"preds\": 581.0}, {\"target\": 571.0, \"preds\": 571.0}, {\"target\": 577.0, \"preds\": 577.0}, {\"target\": 624.5, \"preds\": 624.5}, {\"target\": 580.0, \"preds\": 580.0}, {\"target\": 574.0, \"preds\": 574.0}, {\"target\": 569.0, \"preds\": 569.0}, {\"target\": 597.0, \"preds\": 597.0}, {\"target\": 585.0, \"preds\": 585.0}, {\"target\": 568.0, \"preds\": 568.0}, {\"target\": 571.0, \"preds\": 571.0}, {\"target\": 617.0, \"preds\": 617.0}, {\"target\": 573.0, \"preds\": 573.0}, {\"target\": 564.0, \"preds\": 564.0}, {\"target\": 572.0, \"preds\": 572.0}, {\"target\": 569.0, \"preds\": 569.0}, {\"target\": 567.0, \"preds\": 567.0}, {\"target\": 565.0, \"preds\": 565.0}, {\"target\": 576.0, \"preds\": 576.0}, {\"target\": 578.0, \"preds\": 578.0}, {\"target\": 566.0, \"preds\": 566.0}, {\"target\": 571.0, \"preds\": 571.0}, {\"target\": 568.0, \"preds\": 568.0}, {\"target\": 572.0, \"preds\": 572.0}, {\"target\": 583.0, \"preds\": 583.0}, {\"target\": 569.0, \"preds\": 569.0}, {\"target\": 569.0, \"preds\": 569.0}, {\"target\": 581.0, \"preds\": 581.0}, {\"target\": 573.0, \"preds\": 573.0}, {\"target\": 571.0, \"preds\": 571.0}, {\"target\": 569.0, \"preds\": 569.0}, {\"target\": 594.0, \"preds\": 594.0}, {\"target\": 567.0, \"preds\": 567.0}, {\"target\": 600.0, \"preds\": 600.0}, {\"target\": 567.0, \"preds\": 567.0}, {\"target\": 567.0, \"preds\": 567.0}, {\"target\": 624.5, \"preds\": 624.5}, {\"target\": 569.0, \"preds\": 569.0}, {\"target\": 569.0, \"preds\": 569.0}, {\"target\": 569.0, \"preds\": 569.0}, {\"target\": 565.0, \"preds\": 565.0}, {\"target\": 567.0, \"preds\": 567.0}, {\"target\": 565.0, \"preds\": 565.0}, {\"target\": 562.0, \"preds\": 562.0}, {\"target\": 571.0, \"preds\": 571.0}, {\"target\": 585.0, \"preds\": 585.0}, {\"target\": 571.0, \"preds\": 571.0}, {\"target\": 564.0, \"preds\": 564.0}, {\"target\": 567.0, \"preds\": 567.0}, {\"target\": 587.0, \"preds\": 587.0}, {\"target\": 590.0, \"preds\": 590.0}, {\"target\": 567.0, \"preds\": 567.0}, {\"target\": 571.0, \"preds\": 571.0}, {\"target\": 574.0, \"preds\": 574.0}, {\"target\": 586.0, \"preds\": 586.0}, {\"target\": 571.0, \"preds\": 571.0}, {\"target\": 590.0, \"preds\": 590.0}, {\"target\": 594.0, \"preds\": 594.0}, {\"target\": 581.0, \"preds\": 581.0}, {\"target\": 583.0, \"preds\": 583.0}, {\"target\": 587.0, \"preds\": 587.0}, {\"target\": 585.0, \"preds\": 585.0}, {\"target\": 571.0, \"preds\": 571.0}, {\"target\": 578.0, \"preds\": 578.0}, {\"target\": 624.5, \"preds\": 624.5}, {\"target\": 562.0, \"preds\": 562.0}, {\"target\": 567.0, \"preds\": 567.0}, {\"target\": 564.0, \"preds\": 564.0}, {\"target\": 591.0, \"preds\": 591.0}, {\"target\": 574.0, \"preds\": 574.0}, {\"target\": 613.0, \"preds\": 613.0}, {\"target\": 571.0, \"preds\": 571.0}, {\"target\": 571.0, \"preds\": 571.0}, {\"target\": 572.0, \"preds\": 572.0}, {\"target\": 567.0, \"preds\": 567.0}, {\"target\": 560.0, \"preds\": 560.0}, {\"target\": 565.0, \"preds\": 565.0}, {\"target\": 572.0, \"preds\": 572.0}, {\"target\": 571.0, \"preds\": 571.0}, {\"target\": 563.0, \"preds\": 563.0}, {\"target\": 564.0, \"preds\": 564.0}, {\"target\": 567.0, \"preds\": 567.0}, {\"target\": 576.0, \"preds\": 576.0}, {\"target\": 569.0, \"preds\": 569.0}, {\"target\": 567.0, \"preds\": 567.0}, {\"target\": 569.0, \"preds\": 569.0}, {\"target\": 586.0, \"preds\": 586.0}, {\"target\": 571.0, \"preds\": 571.0}, {\"target\": 568.0, \"preds\": 568.0}, {\"target\": 583.0, \"preds\": 583.0}, {\"target\": 564.0, \"preds\": 564.0}, {\"target\": 606.0, \"preds\": 606.0}, {\"target\": 560.0, \"preds\": 560.0}, {\"target\": 568.0, \"preds\": 568.0}, {\"target\": 568.0, \"preds\": 568.0}, {\"target\": 568.0, \"preds\": 568.0}, {\"target\": 567.0, \"preds\": 567.0}, {\"target\": 578.0, \"preds\": 578.0}, {\"target\": 618.0, \"preds\": 618.0}, {\"target\": 567.0, \"preds\": 567.0}, {\"target\": 624.5, \"preds\": 624.5}, {\"target\": 565.0, \"preds\": 565.0}, {\"target\": 572.0, \"preds\": 572.0}, {\"target\": 578.0, \"preds\": 578.0}, {\"target\": 578.0, \"preds\": 578.0}, {\"target\": 596.0, \"preds\": 596.0}, {\"target\": 574.0, \"preds\": 574.0}, {\"target\": 563.0, \"preds\": 563.0}, {\"target\": 567.0, \"preds\": 567.0}, {\"target\": 567.0, \"preds\": 567.0}, {\"target\": 571.0, \"preds\": 571.0}, {\"target\": 587.0, \"preds\": 587.0}, {\"target\": 574.0, \"preds\": 574.0}, {\"target\": 581.0, \"preds\": 581.0}, {\"target\": 574.0, \"preds\": 574.0}, {\"target\": 572.0, \"preds\": 572.0}, {\"target\": 568.0, \"preds\": 568.0}, {\"target\": 568.0, \"preds\": 568.0}, {\"target\": 577.0, \"preds\": 577.0}, {\"target\": 571.0, \"preds\": 571.0}, {\"target\": 587.0, \"preds\": 587.0}, {\"target\": 571.0, \"preds\": 571.0}, {\"target\": 571.0, \"preds\": 571.0}, {\"target\": 574.0, \"preds\": 574.0}, {\"target\": 568.0, \"preds\": 568.0}, {\"target\": 566.0, \"preds\": 566.0}, {\"target\": 561.0, \"preds\": 561.0}, {\"target\": 567.0, \"preds\": 567.0}, {\"target\": 577.0, \"preds\": 577.0}, {\"target\": 567.0, \"preds\": 567.0}, {\"target\": 565.0, \"preds\": 565.0}, {\"target\": 571.0, \"preds\": 571.0}, {\"target\": 587.0, \"preds\": 587.0}, {\"target\": 613.0, \"preds\": 613.0}, {\"target\": 581.0, \"preds\": 581.0}, {\"target\": 576.0, \"preds\": 576.0}, {\"target\": 574.0, \"preds\": 574.0}, {\"target\": 562.0, \"preds\": 562.0}, {\"target\": 600.0, \"preds\": 600.0}, {\"target\": 601.0, \"preds\": 601.0}, {\"target\": 594.0, \"preds\": 594.0}, {\"target\": 576.0, \"preds\": 576.0}, {\"target\": 572.0, \"preds\": 572.0}, {\"target\": 573.0, \"preds\": 573.0}, {\"target\": 565.0, \"preds\": 565.0}, {\"target\": 557.0, \"preds\": 557.0}, {\"target\": 574.0, \"preds\": 574.0}, {\"target\": 571.0, \"preds\": 571.0}, {\"target\": 587.0, \"preds\": 587.0}, {\"target\": 572.0, \"preds\": 572.0}, {\"target\": 600.0, \"preds\": 600.0}, {\"target\": 569.0, \"preds\": 569.0}, {\"target\": 587.0, \"preds\": 587.0}, {\"target\": 600.0, \"preds\": 600.0}, {\"target\": 590.0, \"preds\": 590.0}, {\"target\": 581.0, \"preds\": 581.0}, {\"target\": 566.0, \"preds\": 566.0}, {\"target\": 573.0, \"preds\": 573.0}, {\"target\": 600.0, \"preds\": 600.0}, {\"target\": 581.0, \"preds\": 581.0}, {\"target\": 578.0, \"preds\": 578.0}, {\"target\": 568.0, \"preds\": 568.0}, {\"target\": 571.0, \"preds\": 571.0}, {\"target\": 562.0, \"preds\": 562.0}, {\"target\": 569.0, \"preds\": 569.0}, {\"target\": 571.0, \"preds\": 571.0}, {\"target\": 571.0, \"preds\": 571.0}, {\"target\": 581.0, \"preds\": 581.0}, {\"target\": 583.0, \"preds\": 583.0}, {\"target\": 574.0, \"preds\": 574.0}, {\"target\": 562.0, \"preds\": 562.0}, {\"target\": 576.0, \"preds\": 576.0}, {\"target\": 566.0, \"preds\": 566.0}, {\"target\": 573.0, \"preds\": 573.0}, {\"target\": 574.0, \"preds\": 574.0}, {\"target\": 563.0, \"preds\": 563.0}, {\"target\": 573.0, \"preds\": 573.0}, {\"target\": 568.0, \"preds\": 568.0}, {\"target\": 571.0, \"preds\": 571.0}, {\"target\": 571.0, \"preds\": 571.0}, {\"target\": 567.0, \"preds\": 567.0}, {\"target\": 578.0, \"preds\": 578.0}, {\"target\": 573.0, \"preds\": 573.0}, {\"target\": 567.0, \"preds\": 567.0}, {\"target\": 565.0, \"preds\": 565.0}, {\"target\": 573.0, \"preds\": 573.0}, {\"target\": 568.0, \"preds\": 568.0}, {\"target\": 577.0, \"preds\": 577.0}, {\"target\": 568.0, \"preds\": 568.0}, {\"target\": 583.0, \"preds\": 583.0}, {\"target\": 571.0, \"preds\": 571.0}, {\"target\": 564.0, \"preds\": 564.0}, {\"target\": 581.0, \"preds\": 581.0}, {\"target\": 587.0, \"preds\": 587.0}, {\"target\": 587.0, \"preds\": 587.0}, {\"target\": 571.0, \"preds\": 571.0}, {\"target\": 568.0, \"preds\": 568.0}, {\"target\": 577.0, \"preds\": 577.0}, {\"target\": 624.5, \"preds\": 624.5}, {\"target\": 569.0, \"preds\": 569.0}, {\"target\": 567.0, \"preds\": 567.0}, {\"target\": 581.0, \"preds\": 581.0}, {\"target\": 578.0, \"preds\": 578.0}, {\"target\": 571.0, \"preds\": 571.0}, {\"target\": 571.0, \"preds\": 571.0}, {\"target\": 591.0, \"preds\": 591.0}, {\"target\": 563.0, \"preds\": 563.0}, {\"target\": 571.0, \"preds\": 571.0}, {\"target\": 595.0, \"preds\": 595.0}, {\"target\": 564.0, \"preds\": 564.0}, {\"target\": 583.0, \"preds\": 583.0}, {\"target\": 578.0, \"preds\": 578.0}, {\"target\": 573.0, \"preds\": 573.0}, {\"target\": 567.0, \"preds\": 567.0}, {\"target\": 564.0, \"preds\": 564.0}, {\"target\": 574.0, \"preds\": 574.0}, {\"target\": 562.0, \"preds\": 562.0}, {\"target\": 573.0, \"preds\": 573.0}, {\"target\": 568.0, \"preds\": 568.0}, {\"target\": 568.0, \"preds\": 568.0}, {\"target\": 572.0, \"preds\": 572.0}, {\"target\": 581.0, \"preds\": 581.0}, {\"target\": 587.0, \"preds\": 587.0}, {\"target\": 565.0, \"preds\": 565.0}, {\"target\": 624.5, \"preds\": 624.5}, {\"target\": 571.0, \"preds\": 571.0}, {\"target\": 571.0, \"preds\": 571.0}, {\"target\": 568.0, \"preds\": 568.0}, {\"target\": 567.0, \"preds\": 567.0}, {\"target\": 581.0, \"preds\": 581.0}, {\"target\": 573.0, \"preds\": 573.0}, {\"target\": 573.0, \"preds\": 573.0}, {\"target\": 562.0, \"preds\": 562.0}, {\"target\": 567.0, \"preds\": 567.0}, {\"target\": 561.0, \"preds\": 561.0}, {\"target\": 594.0, \"preds\": 594.0}, {\"target\": 576.0, \"preds\": 576.0}, {\"target\": 567.0, \"preds\": 567.0}, {\"target\": 571.0, \"preds\": 571.0}, {\"target\": 584.0, \"preds\": 584.0}, {\"target\": 568.0, \"preds\": 568.0}, {\"target\": 572.0, \"preds\": 572.0}, {\"target\": 571.0, \"preds\": 571.0}, {\"target\": 565.0, \"preds\": 565.0}, {\"target\": 587.0, \"preds\": 587.0}, {\"target\": 588.0, \"preds\": 588.0}, {\"target\": 574.0, \"preds\": 574.0}, {\"target\": 571.0, \"preds\": 571.0}, {\"target\": 581.0, \"preds\": 581.0}, {\"target\": 566.0, \"preds\": 566.0}, {\"target\": 574.0, \"preds\": 574.0}, {\"target\": 567.0, \"preds\": 567.0}, {\"target\": 573.0, \"preds\": 573.0}, {\"target\": 569.0, \"preds\": 569.0}, {\"target\": 568.0, \"preds\": 568.0}, {\"target\": 624.5, \"preds\": 624.5}, {\"target\": 587.0, \"preds\": 587.0}, {\"target\": 590.0, \"preds\": 590.0}, {\"target\": 571.0, \"preds\": 571.0}, {\"target\": 576.0, \"preds\": 576.0}, {\"target\": 565.0, \"preds\": 565.0}, {\"target\": 573.0, \"preds\": 573.0}, {\"target\": 568.0, \"preds\": 568.0}, {\"target\": 576.0, \"preds\": 576.0}, {\"target\": 563.0, \"preds\": 563.0}, {\"target\": 588.0, \"preds\": 588.0}, {\"target\": 591.0, \"preds\": 591.0}, {\"target\": 566.0, \"preds\": 566.0}, {\"target\": 571.0, \"preds\": 571.0}, {\"target\": 587.0, \"preds\": 587.0}, {\"target\": 571.0, \"preds\": 571.0}, {\"target\": 563.0, \"preds\": 563.0}, {\"target\": 566.0, \"preds\": 566.0}, {\"target\": 565.0, \"preds\": 565.0}, {\"target\": 571.0, \"preds\": 571.0}, {\"target\": 574.0, \"preds\": 574.0}, {\"target\": 575.0, \"preds\": 575.0}, {\"target\": 581.0, \"preds\": 581.0}, {\"target\": 574.0, \"preds\": 574.0}, {\"target\": 577.0, \"preds\": 577.0}, {\"target\": 581.0, \"preds\": 581.0}, {\"target\": 587.0, \"preds\": 587.0}, {\"target\": 564.0, \"preds\": 564.0}, {\"target\": 568.0, \"preds\": 568.0}, {\"target\": 573.0, \"preds\": 573.0}, {\"target\": 574.0, \"preds\": 574.0}, {\"target\": 581.0, \"preds\": 581.0}, {\"target\": 568.0, \"preds\": 568.0}, {\"target\": 594.0, \"preds\": 594.0}, {\"target\": 572.0, \"preds\": 572.0}, {\"target\": 565.0, \"preds\": 565.0}, {\"target\": 580.0, \"preds\": 580.0}, {\"target\": 574.0, \"preds\": 574.0}, {\"target\": 568.0, \"preds\": 568.0}, {\"target\": 564.0, \"preds\": 564.0}, {\"target\": 574.0, \"preds\": 574.0}, {\"target\": 567.0, \"preds\": 567.0}, {\"target\": 564.0, \"preds\": 564.0}, {\"target\": 568.0, \"preds\": 568.0}, {\"target\": 565.0, \"preds\": 565.0}, {\"target\": 559.0, \"preds\": 559.0}, {\"target\": 571.0, \"preds\": 571.0}, {\"target\": 581.0, \"preds\": 581.0}, {\"target\": 581.0, \"preds\": 581.0}, {\"target\": 624.5, \"preds\": 624.5}, {\"target\": 568.0, \"preds\": 568.0}, {\"target\": 566.0, \"preds\": 566.0}, {\"target\": 565.0, \"preds\": 565.0}, {\"target\": 565.0, \"preds\": 565.0}, {\"target\": 572.0, \"preds\": 572.0}, {\"target\": 568.0, \"preds\": 568.0}, {\"target\": 571.0, \"preds\": 571.0}, {\"target\": 567.0, \"preds\": 567.0}, {\"target\": 563.0, \"preds\": 563.0}, {\"target\": 596.0, \"preds\": 596.0}, {\"target\": 581.0, \"preds\": 581.0}, {\"target\": 567.0, \"preds\": 567.0}, {\"target\": 567.0, \"preds\": 567.0}, {\"target\": 564.0, \"preds\": 564.0}, {\"target\": 577.0, \"preds\": 577.0}, {\"target\": 580.0, \"preds\": 580.0}, {\"target\": 587.0, \"preds\": 587.0}, {\"target\": 573.0, \"preds\": 573.0}, {\"target\": 574.0, \"preds\": 574.0}, {\"target\": 572.0, \"preds\": 572.0}, {\"target\": 571.0, \"preds\": 571.0}, {\"target\": 565.0, \"preds\": 565.0}, {\"target\": 572.0, \"preds\": 572.0}, {\"target\": 622.0, \"preds\": 622.0}, {\"target\": 578.0, \"preds\": 578.0}, {\"target\": 564.0, \"preds\": 564.0}, {\"target\": 576.0, \"preds\": 576.0}, {\"target\": 572.0, \"preds\": 572.0}, {\"target\": 563.0, \"preds\": 563.0}, {\"target\": 568.0, \"preds\": 568.0}, {\"target\": 571.0, \"preds\": 571.0}, {\"target\": 568.0, \"preds\": 568.0}, {\"target\": 567.0, \"preds\": 567.0}, {\"target\": 565.0, \"preds\": 565.0}, {\"target\": 624.5, \"preds\": 624.5}, {\"target\": 566.0, \"preds\": 566.0}, {\"target\": 565.0, \"preds\": 565.0}, {\"target\": 562.0, \"preds\": 562.0}, {\"target\": 565.0, \"preds\": 565.0}, {\"target\": 571.0, \"preds\": 571.0}, {\"target\": 575.0, \"preds\": 575.0}, {\"target\": 588.0, \"preds\": 588.0}, {\"target\": 565.0, \"preds\": 565.0}, {\"target\": 568.0, \"preds\": 568.0}, {\"target\": 581.0, \"preds\": 581.0}, {\"target\": 571.0, \"preds\": 571.0}, {\"target\": 578.0, \"preds\": 578.0}, {\"target\": 582.0, \"preds\": 582.0}, {\"target\": 588.0, \"preds\": 588.0}, {\"target\": 623.0, \"preds\": 623.0}, {\"target\": 572.0, \"preds\": 572.0}, {\"target\": 568.0, \"preds\": 568.0}, {\"target\": 583.0, \"preds\": 583.0}, {\"target\": 596.0, \"preds\": 596.0}, {\"target\": 606.0, \"preds\": 606.0}, {\"target\": 567.0, \"preds\": 567.0}, {\"target\": 587.0, \"preds\": 587.0}, {\"target\": 566.0, \"preds\": 566.0}, {\"target\": 581.0, \"preds\": 581.0}, {\"target\": 571.0, \"preds\": 571.0}, {\"target\": 571.0, \"preds\": 571.0}, {\"target\": 568.0, \"preds\": 568.0}, {\"target\": 578.0, \"preds\": 578.0}, {\"target\": 571.0, \"preds\": 571.0}, {\"target\": 572.0, \"preds\": 572.0}, {\"target\": 572.0, \"preds\": 572.0}, {\"target\": 587.0, \"preds\": 587.0}, {\"target\": 568.0, \"preds\": 568.0}, {\"target\": 572.0, \"preds\": 572.0}, {\"target\": 582.0, \"preds\": 582.0}, {\"target\": 568.0, \"preds\": 568.0}, {\"target\": 572.0, \"preds\": 572.0}, {\"target\": 624.5, \"preds\": 624.5}, {\"target\": 596.0, \"preds\": 596.0}, {\"target\": 583.0, \"preds\": 583.0}, {\"target\": 566.0, \"preds\": 566.0}, {\"target\": 571.0, \"preds\": 571.0}, {\"target\": 574.0, \"preds\": 574.0}, {\"target\": 559.0, \"preds\": 559.0}, {\"target\": 622.0, \"preds\": 622.0}, {\"target\": 565.0, \"preds\": 565.0}, {\"target\": 568.0, \"preds\": 568.0}, {\"target\": 605.0, \"preds\": 605.0}, {\"target\": 567.0, \"preds\": 567.0}, {\"target\": 574.0, \"preds\": 574.0}, {\"target\": 565.0, \"preds\": 565.0}, {\"target\": 563.0, \"preds\": 563.0}, {\"target\": 600.0, \"preds\": 600.0}, {\"target\": 576.0, \"preds\": 576.0}, {\"target\": 564.0, \"preds\": 564.0}, {\"target\": 565.0, \"preds\": 565.0}, {\"target\": 583.0, \"preds\": 583.0}, {\"target\": 571.0, \"preds\": 571.0}, {\"target\": 587.0, \"preds\": 587.0}, {\"target\": 571.0, \"preds\": 571.0}, {\"target\": 567.0, \"preds\": 567.0}, {\"target\": 567.0, \"preds\": 567.0}, {\"target\": 594.0, \"preds\": 594.0}, {\"target\": 575.0, \"preds\": 575.0}, {\"target\": 569.0, \"preds\": 569.0}, {\"target\": 576.0, \"preds\": 576.0}, {\"target\": 563.0, \"preds\": 563.0}, {\"target\": 574.0, \"preds\": 574.0}, {\"target\": 582.0, \"preds\": 582.0}, {\"target\": 594.0, \"preds\": 594.0}, {\"target\": 564.0, \"preds\": 564.0}, {\"target\": 576.0, \"preds\": 576.0}, {\"target\": 583.0, \"preds\": 583.0}, {\"target\": 571.0, \"preds\": 571.0}, {\"target\": 572.0, \"preds\": 572.0}, {\"target\": 568.0, \"preds\": 568.0}, {\"target\": 574.0, \"preds\": 574.0}, {\"target\": 574.0, \"preds\": 574.0}, {\"target\": 567.0, \"preds\": 567.0}, {\"target\": 581.0, \"preds\": 581.0}, {\"target\": 564.0, \"preds\": 564.0}, {\"target\": 613.0, \"preds\": 613.0}, {\"target\": 571.0, \"preds\": 571.0}, {\"target\": 586.0, \"preds\": 586.0}, {\"target\": 576.0, \"preds\": 576.0}, {\"target\": 574.0, \"preds\": 574.0}, {\"target\": 565.0, \"preds\": 565.0}, {\"target\": 564.0, \"preds\": 564.0}, {\"target\": 583.0, \"preds\": 583.0}, {\"target\": 563.0, \"preds\": 563.0}, {\"target\": 567.0, \"preds\": 567.0}, {\"target\": 567.0, \"preds\": 567.0}, {\"target\": 574.0, \"preds\": 574.0}, {\"target\": 574.0, \"preds\": 574.0}, {\"target\": 574.0, \"preds\": 574.0}, {\"target\": 564.0, \"preds\": 564.0}, {\"target\": 562.0, \"preds\": 562.0}, {\"target\": 571.0, \"preds\": 571.0}, {\"target\": 571.0, \"preds\": 571.0}, {\"target\": 571.0, \"preds\": 571.0}, {\"target\": 578.0, \"preds\": 578.0}, {\"target\": 587.0, \"preds\": 587.0}, {\"target\": 585.0, \"preds\": 585.0}, {\"target\": 569.0, \"preds\": 569.0}, {\"target\": 603.0, \"preds\": 603.0}, {\"target\": 576.0, \"preds\": 576.0}, {\"target\": 587.0, \"preds\": 587.0}, {\"target\": 568.0, \"preds\": 568.0}, {\"target\": 571.0, \"preds\": 571.0}, {\"target\": 574.0, \"preds\": 574.0}, {\"target\": 600.0, \"preds\": 600.0}, {\"target\": 594.0, \"preds\": 594.0}, {\"target\": 565.0, \"preds\": 565.0}, {\"target\": 564.0, \"preds\": 564.0}, {\"target\": 562.0, \"preds\": 562.0}, {\"target\": 562.0, \"preds\": 562.0}, {\"target\": 566.0, \"preds\": 566.0}, {\"target\": 565.0, \"preds\": 565.0}, {\"target\": 576.0, \"preds\": 576.0}, {\"target\": 600.0, \"preds\": 600.0}, {\"target\": 613.0, \"preds\": 613.0}, {\"target\": 624.5, \"preds\": 624.5}, {\"target\": 624.5, \"preds\": 624.5}, {\"target\": 567.0, \"preds\": 567.0}, {\"target\": 569.0, \"preds\": 569.0}, {\"target\": 563.0, \"preds\": 563.0}, {\"target\": 567.0, \"preds\": 567.0}, {\"target\": 578.0, \"preds\": 578.0}, {\"target\": 624.5, \"preds\": 624.5}, {\"target\": 567.0, \"preds\": 567.0}, {\"target\": 600.0, \"preds\": 600.0}, {\"target\": 565.0, \"preds\": 565.0}, {\"target\": 587.0, \"preds\": 587.0}, {\"target\": 571.0, \"preds\": 571.0}, {\"target\": 565.0, \"preds\": 565.0}, {\"target\": 565.0, \"preds\": 565.0}, {\"target\": 581.0, \"preds\": 581.0}, {\"target\": 624.5, \"preds\": 624.5}, {\"target\": 562.0, \"preds\": 562.0}, {\"target\": 587.0, \"preds\": 587.0}, {\"target\": 564.0, \"preds\": 564.0}, {\"target\": 568.0, \"preds\": 568.0}, {\"target\": 587.0, \"preds\": 587.0}, {\"target\": 615.0, \"preds\": 615.0}, {\"target\": 568.0, \"preds\": 568.0}, {\"target\": 565.0, \"preds\": 565.0}, {\"target\": 568.0, \"preds\": 568.0}, {\"target\": 569.0, \"preds\": 569.0}, {\"target\": 574.0, \"preds\": 574.0}, {\"target\": 565.0, \"preds\": 565.0}, {\"target\": 564.0, \"preds\": 564.0}, {\"target\": 565.0, \"preds\": 565.0}, {\"target\": 569.0, \"preds\": 569.0}, {\"target\": 569.0, \"preds\": 569.0}, {\"target\": 565.0, \"preds\": 565.0}, {\"target\": 577.0, \"preds\": 577.0}, {\"target\": 581.0, \"preds\": 581.0}, {\"target\": 578.0, \"preds\": 578.0}, {\"target\": 576.0, \"preds\": 576.0}, {\"target\": 572.0, \"preds\": 572.0}, {\"target\": 572.0, \"preds\": 572.0}, {\"target\": 578.0, \"preds\": 578.0}, {\"target\": 574.0, \"preds\": 574.0}, {\"target\": 560.0, \"preds\": 560.0}, {\"target\": 574.0, \"preds\": 574.0}, {\"target\": 567.0, \"preds\": 567.0}, {\"target\": 587.0, \"preds\": 587.0}, {\"target\": 587.0, \"preds\": 587.0}, {\"target\": 572.0, \"preds\": 572.0}, {\"target\": 581.0, \"preds\": 581.0}, {\"target\": 574.0, \"preds\": 574.0}, {\"target\": 571.0, \"preds\": 571.0}, {\"target\": 565.0, \"preds\": 565.0}, {\"target\": 594.0, \"preds\": 594.0}, {\"target\": 571.0, \"preds\": 571.0}, {\"target\": 563.0, \"preds\": 563.0}, {\"target\": 567.0, \"preds\": 567.0}, {\"target\": 568.0, \"preds\": 568.0}, {\"target\": 568.0, \"preds\": 568.0}, {\"target\": 572.0, \"preds\": 572.0}, {\"target\": 577.0, \"preds\": 577.0}, {\"target\": 587.0, \"preds\": 587.0}, {\"target\": 574.0, \"preds\": 574.0}, {\"target\": 565.0, \"preds\": 565.0}, {\"target\": 574.0, \"preds\": 574.0}, {\"target\": 565.0, \"preds\": 565.0}, {\"target\": 569.0, \"preds\": 569.0}, {\"target\": 567.0, \"preds\": 567.0}, {\"target\": 562.0, \"preds\": 562.0}, {\"target\": 566.0, \"preds\": 566.0}, {\"target\": 567.0, \"preds\": 567.0}, {\"target\": 574.0, \"preds\": 574.0}, {\"target\": 572.0, \"preds\": 572.0}, {\"target\": 569.0, \"preds\": 569.0}, {\"target\": 563.0, \"preds\": 563.0}, {\"target\": 574.0, \"preds\": 574.0}, {\"target\": 613.0, \"preds\": 613.0}, {\"target\": 565.0, \"preds\": 565.0}, {\"target\": 568.0, \"preds\": 568.0}, {\"target\": 567.0, \"preds\": 567.0}, {\"target\": 571.0, \"preds\": 571.0}, {\"target\": 574.0, \"preds\": 574.0}, {\"target\": 565.0, \"preds\": 565.0}, {\"target\": 574.0, \"preds\": 574.0}, {\"target\": 575.0, \"preds\": 575.0}, {\"target\": 565.0, \"preds\": 565.0}, {\"target\": 568.0, \"preds\": 568.0}, {\"target\": 574.0, \"preds\": 574.0}, {\"target\": 563.0, \"preds\": 563.0}, {\"target\": 596.0, \"preds\": 596.0}, {\"target\": 583.0, \"preds\": 583.0}, {\"target\": 571.0, \"preds\": 571.0}, {\"target\": 572.0, \"preds\": 572.0}, {\"target\": 581.0, \"preds\": 581.0}, {\"target\": 567.0, \"preds\": 567.0}, {\"target\": 569.0, \"preds\": 569.0}, {\"target\": 571.0, \"preds\": 571.0}, {\"target\": 624.5, \"preds\": 624.5}, {\"target\": 588.0, \"preds\": 588.0}, {\"target\": 573.0, \"preds\": 573.0}, {\"target\": 574.0, \"preds\": 574.0}, {\"target\": 564.0, \"preds\": 564.0}, {\"target\": 576.0, \"preds\": 576.0}, {\"target\": 577.0, \"preds\": 577.0}, {\"target\": 578.0, \"preds\": 578.0}, {\"target\": 581.0, \"preds\": 581.0}, {\"target\": 578.0, \"preds\": 578.0}, {\"target\": 580.0, \"preds\": 580.0}, {\"target\": 567.0, \"preds\": 567.0}, {\"target\": 594.0, \"preds\": 594.0}, {\"target\": 565.0, \"preds\": 565.0}, {\"target\": 583.0, \"preds\": 583.0}, {\"target\": 564.0, \"preds\": 564.0}, {\"target\": 569.0, \"preds\": 569.0}, {\"target\": 571.0, \"preds\": 571.0}, {\"target\": 569.0, \"preds\": 569.0}, {\"target\": 561.0, \"preds\": 561.0}, {\"target\": 572.0, \"preds\": 572.0}, {\"target\": 563.0, \"preds\": 563.0}, {\"target\": 571.0, \"preds\": 571.0}, {\"target\": 600.0, \"preds\": 600.0}, {\"target\": 576.0, \"preds\": 576.0}, {\"target\": 571.0, \"preds\": 571.0}, {\"target\": 624.5, \"preds\": 624.5}, {\"target\": 581.0, \"preds\": 581.0}, {\"target\": 587.0, \"preds\": 587.0}, {\"target\": 577.0, \"preds\": 577.0}, {\"target\": 562.0, \"preds\": 562.0}, {\"target\": 565.0, \"preds\": 565.0}, {\"target\": 577.0, \"preds\": 577.0}, {\"target\": 574.0, \"preds\": 574.0}, {\"target\": 567.0, \"preds\": 567.0}, {\"target\": 572.0, \"preds\": 572.0}, {\"target\": 565.0, \"preds\": 565.0}, {\"target\": 572.0, \"preds\": 572.0}, {\"target\": 578.0, \"preds\": 578.0}, {\"target\": 600.0, \"preds\": 600.0}, {\"target\": 571.0, \"preds\": 571.0}, {\"target\": 574.0, \"preds\": 574.0}, {\"target\": 592.0, \"preds\": 592.0}, {\"target\": 574.0, \"preds\": 574.0}]}}, {\"mode\": \"vega-lite\"});\n",
              "</script>"
            ],
            "text/plain": [
              "alt.LayerChart(...)"
            ]
          },
          "metadata": {},
          "execution_count": 12
        }
      ]
    },
    {
      "cell_type": "code",
      "source": [
        "model_final = KNeighborsRegressor(n_neighbors=2, p=1)\n",
        "model_final.fit(X_train, y_train)\n",
        "\n",
        "y_pred_final = model_final.predict(X_test)\n",
        "\n",
        "mse_final = mean_squared_error(y_test, y_pred_final)\n",
        "rmse_final = np.sqrt(mse_final)\n",
        "mae_final = mean_absolute_error(y_test, y_pred_final)\n",
        "r2_final = r2_score(y_test, y_pred_final)\n",
        "\n",
        "print(f\"RMSE: {rmse_final}\")\n",
        "print(f\"MAE: {mae_final}\")\n",
        "print(f\"R2: {r2_final}\")"
      ],
      "metadata": {
        "colab": {
          "base_uri": "https://localhost:8080/"
        },
        "id": "Cx4sghOLpXfj",
        "outputId": "61ef3ee2-ba53-4b18-831e-a73dffeb62c7"
      },
      "execution_count": 11,
      "outputs": [
        {
          "output_type": "stream",
          "name": "stdout",
          "text": [
            "RMSE: 22.7831456030172\n",
            "MAE: 13.91758443465492\n",
            "R2: 0.6065824377689983\n"
          ]
        }
      ]
    },
    {
      "cell_type": "code",
      "source": [
        "# @title Model Business Impacts Explanation\n",
        "\n",
        "wgt_model_business_explanation = widgets.Textarea(\n",
        "    value=None,\n",
        "    placeholder='<student to fill this section>',\n",
        "    description='Model Business Impacts Explanation:',\n",
        "    disabled=False,\n",
        "    style={'description_width': 'initial'},\n",
        "    layout=widgets.Layout(height=\"100%\", width=\"auto\")\n",
        ")\n",
        "wgt_model_business_explanation"
      ],
      "metadata": {
        "id": "UeryaEZhmub4",
        "colab": {
          "base_uri": "https://localhost:8080/",
          "height": 62,
          "referenced_widgets": [
            "e841ea362d014706b74cf3b48d95782b",
            "0836f3c5205c42e0946bc87783002f22",
            "ba4e73265173476ab7486db3ee7922d2"
          ]
        },
        "outputId": "ec880528-bcb0-4ea2-ad5f-8cb734e28279",
        "cellView": "form"
      },
      "execution_count": null,
      "outputs": [
        {
          "output_type": "display_data",
          "data": {
            "text/plain": [
              "Textarea(value='', description='Model Business Impacts Explanation:', layout=Layout(height='100%', width='auto…"
            ],
            "application/vnd.jupyter.widget-view+json": {
              "version_major": 2,
              "version_minor": 0,
              "model_id": "e841ea362d014706b74cf3b48d95782b"
            }
          },
          "metadata": {}
        }
      ]
    },
    {
      "cell_type": "markdown",
      "source": [
        "## F. Experiment Outcomes"
      ],
      "metadata": {
        "id": "mp1Ie9o8nDl1"
      }
    },
    {
      "cell_type": "code",
      "source": [
        "# @title Experiment Outcomes Explanation\n",
        "\n",
        "wgt_experiment_outcomes_explanation = widgets.Select(\n",
        "    options=['Hypothesis Confirmed', 'Hypothesis Partially Confirmed', 'Hypothesis Rejected'],\n",
        "    value='Hypothesis Rejected',\n",
        "    description='Experiment Outcomes:',\n",
        "    disabled=False,\n",
        ")\n",
        "\n",
        "wgt_experiment_outcomes_explanation"
      ],
      "metadata": {
        "colab": {
          "base_uri": "https://localhost:8080/",
          "height": 111,
          "referenced_widgets": [
            "0f877e16011e47e8bfb8c45ef5f27531",
            "b6240baa98ce43678bb003de6a691128",
            "5b05b7e1d8284ba38abf3977118e38a6"
          ]
        },
        "id": "Ap1T1UyfnNYY",
        "outputId": "cf09c8fd-d46f-4398-eb72-49c158060ffd",
        "cellView": "form"
      },
      "execution_count": null,
      "outputs": [
        {
          "output_type": "display_data",
          "data": {
            "text/plain": [
              "Select(description='Experiment Outcomes:', index=2, options=('Hypothesis Confirmed', 'Hypothesis Partially Con…"
            ],
            "application/vnd.jupyter.widget-view+json": {
              "version_major": 2,
              "version_minor": 0,
              "model_id": "0f877e16011e47e8bfb8c45ef5f27531"
            }
          },
          "metadata": {}
        }
      ]
    },
    {
      "cell_type": "code",
      "source": [
        "# @title Experiments Results Explanation\n",
        "\n",
        "wgt_experiment_results_explanation = widgets.Textarea(\n",
        "    value=None,\n",
        "    placeholder='<student to fill this section>',\n",
        "    description='Experiments Results Explanation:',\n",
        "    disabled=False,\n",
        "    style={'description_width': 'initial'},\n",
        "    layout=widgets.Layout(height=\"100%\", width=\"auto\")\n",
        ")\n",
        "wgt_experiment_results_explanation"
      ],
      "metadata": {
        "colab": {
          "base_uri": "https://localhost:8080/",
          "height": 62,
          "referenced_widgets": [
            "2e9a27ef0da74bc09548edca1187626b",
            "d5aa4682392446b0b492c48ff24afb1f",
            "7f56982d96d1401986f284f917c6f977"
          ]
        },
        "id": "7JUbOVxRoH3p",
        "outputId": "e156689e-d19b-4054-e33b-c8e5513257cd",
        "cellView": "form"
      },
      "execution_count": null,
      "outputs": [
        {
          "output_type": "display_data",
          "data": {
            "text/plain": [
              "Textarea(value='', description='Experiments Results Explanation:', layout=Layout(height='100%', width='auto'),…"
            ],
            "application/vnd.jupyter.widget-view+json": {
              "version_major": 2,
              "version_minor": 0,
              "model_id": "2e9a27ef0da74bc09548edca1187626b"
            }
          },
          "metadata": {}
        }
      ]
    }
  ],
  "metadata": {
    "colab": {
      "provenance": []
    },
    "kernelspec": {
      "display_name": "Python 3 (ipykernel)",
      "language": "python",
      "name": "python3"
    },
    "language_info": {
      "codemirror_mode": {
        "name": "ipython",
        "version": 3
      },
      "file_extension": ".py",
      "mimetype": "text/x-python",
      "name": "python",
      "nbconvert_exporter": "python",
      "pygments_lexer": "ipython3",
      "version": "3.10.10"
    },
    "widgets": {
      "application/vnd.jupyter.widget-state+json": {
        "d1ad64c5489943708af57a7e16eb2cb7": {
          "model_module": "@jupyter-widgets/controls",
          "model_name": "BoundedIntTextModel",
          "model_module_version": "1.5.0",
          "state": {
            "_dom_classes": [],
            "_model_module": "@jupyter-widgets/controls",
            "_model_module_version": "1.5.0",
            "_model_name": "BoundedIntTextModel",
            "_view_count": null,
            "_view_module": "@jupyter-widgets/controls",
            "_view_module_version": "1.5.0",
            "_view_name": "IntTextView",
            "continuous_update": false,
            "description": "Experiment ID:",
            "description_tooltip": null,
            "disabled": false,
            "layout": "IPY_MODEL_64948ec9104c4c56864356be640ef67e",
            "max": 3,
            "min": 0,
            "step": 1,
            "style": "IPY_MODEL_4e78c7e842da48ab8d810f55f573286e",
            "value": 3
          }
        },
        "64948ec9104c4c56864356be640ef67e": {
          "model_module": "@jupyter-widgets/base",
          "model_name": "LayoutModel",
          "model_module_version": "1.2.0",
          "state": {
            "_model_module": "@jupyter-widgets/base",
            "_model_module_version": "1.2.0",
            "_model_name": "LayoutModel",
            "_view_count": null,
            "_view_module": "@jupyter-widgets/base",
            "_view_module_version": "1.2.0",
            "_view_name": "LayoutView",
            "align_content": null,
            "align_items": null,
            "align_self": null,
            "border": null,
            "bottom": null,
            "display": null,
            "flex": null,
            "flex_flow": null,
            "grid_area": null,
            "grid_auto_columns": null,
            "grid_auto_flow": null,
            "grid_auto_rows": null,
            "grid_column": null,
            "grid_gap": null,
            "grid_row": null,
            "grid_template_areas": null,
            "grid_template_columns": null,
            "grid_template_rows": null,
            "height": null,
            "justify_content": null,
            "justify_items": null,
            "left": null,
            "margin": null,
            "max_height": null,
            "max_width": null,
            "min_height": null,
            "min_width": null,
            "object_fit": null,
            "object_position": null,
            "order": null,
            "overflow": null,
            "overflow_x": null,
            "overflow_y": null,
            "padding": null,
            "right": null,
            "top": null,
            "visibility": null,
            "width": null
          }
        },
        "4e78c7e842da48ab8d810f55f573286e": {
          "model_module": "@jupyter-widgets/controls",
          "model_name": "DescriptionStyleModel",
          "model_module_version": "1.5.0",
          "state": {
            "_model_module": "@jupyter-widgets/controls",
            "_model_module_version": "1.5.0",
            "_model_name": "DescriptionStyleModel",
            "_view_count": null,
            "_view_module": "@jupyter-widgets/base",
            "_view_module_version": "1.2.0",
            "_view_name": "StyleView",
            "description_width": "initial"
          }
        },
        "5fa9fc48364f45aeade72b9e1a7060d1": {
          "model_module": "@jupyter-widgets/controls",
          "model_name": "HBoxModel",
          "model_module_version": "1.5.0",
          "state": {
            "_dom_classes": [],
            "_model_module": "@jupyter-widgets/controls",
            "_model_module_version": "1.5.0",
            "_model_name": "HBoxModel",
            "_view_count": null,
            "_view_module": "@jupyter-widgets/controls",
            "_view_module_version": "1.5.0",
            "_view_name": "HBoxView",
            "box_style": "",
            "children": [
              "IPY_MODEL_a572f90f22f44b9f8001026ef96f2270",
              "IPY_MODEL_bb2c22adbf57419d88c0817a99190c6c"
            ],
            "layout": "IPY_MODEL_4bb01ec2160747b68e32f8bde737f1fb"
          }
        },
        "a572f90f22f44b9f8001026ef96f2270": {
          "model_module": "@jupyter-widgets/controls",
          "model_name": "TextModel",
          "model_module_version": "1.5.0",
          "state": {
            "_dom_classes": [],
            "_model_module": "@jupyter-widgets/controls",
            "_model_module_version": "1.5.0",
            "_model_name": "TextModel",
            "_view_count": null,
            "_view_module": "@jupyter-widgets/controls",
            "_view_module_version": "1.5.0",
            "_view_name": "TextView",
            "continuous_update": true,
            "description": "Student Name:",
            "description_tooltip": null,
            "disabled": false,
            "layout": "IPY_MODEL_562d26b8f1af4ae2a1e542ed2057c2e0",
            "placeholder": "<student to fill this section>",
            "style": "IPY_MODEL_3078f9537eb2492b80839e7197196b5f",
            "value": "Fatemeh Elyasifar"
          }
        },
        "bb2c22adbf57419d88c0817a99190c6c": {
          "model_module": "@jupyter-widgets/controls",
          "model_name": "TextModel",
          "model_module_version": "1.5.0",
          "state": {
            "_dom_classes": [],
            "_model_module": "@jupyter-widgets/controls",
            "_model_module_version": "1.5.0",
            "_model_name": "TextModel",
            "_view_count": null,
            "_view_module": "@jupyter-widgets/controls",
            "_view_module_version": "1.5.0",
            "_view_name": "TextView",
            "continuous_update": true,
            "description": "Student Id:",
            "description_tooltip": null,
            "disabled": false,
            "layout": "IPY_MODEL_dfaff83515784219959f10849e3ae50c",
            "placeholder": "<student to fill this section>",
            "style": "IPY_MODEL_931d1238c1394ed7826c93bbcfeb2938",
            "value": "25589351"
          }
        },
        "4bb01ec2160747b68e32f8bde737f1fb": {
          "model_module": "@jupyter-widgets/base",
          "model_name": "LayoutModel",
          "model_module_version": "1.2.0",
          "state": {
            "_model_module": "@jupyter-widgets/base",
            "_model_module_version": "1.2.0",
            "_model_name": "LayoutModel",
            "_view_count": null,
            "_view_module": "@jupyter-widgets/base",
            "_view_module_version": "1.2.0",
            "_view_name": "LayoutView",
            "align_content": null,
            "align_items": null,
            "align_self": null,
            "border": null,
            "bottom": null,
            "display": null,
            "flex": null,
            "flex_flow": null,
            "grid_area": null,
            "grid_auto_columns": null,
            "grid_auto_flow": null,
            "grid_auto_rows": null,
            "grid_column": null,
            "grid_gap": null,
            "grid_row": null,
            "grid_template_areas": null,
            "grid_template_columns": null,
            "grid_template_rows": null,
            "height": null,
            "justify_content": null,
            "justify_items": null,
            "left": null,
            "margin": null,
            "max_height": null,
            "max_width": null,
            "min_height": null,
            "min_width": null,
            "object_fit": null,
            "object_position": null,
            "order": null,
            "overflow": null,
            "overflow_x": null,
            "overflow_y": null,
            "padding": null,
            "right": null,
            "top": null,
            "visibility": null,
            "width": null
          }
        },
        "562d26b8f1af4ae2a1e542ed2057c2e0": {
          "model_module": "@jupyter-widgets/base",
          "model_name": "LayoutModel",
          "model_module_version": "1.2.0",
          "state": {
            "_model_module": "@jupyter-widgets/base",
            "_model_module_version": "1.2.0",
            "_model_name": "LayoutModel",
            "_view_count": null,
            "_view_module": "@jupyter-widgets/base",
            "_view_module_version": "1.2.0",
            "_view_name": "LayoutView",
            "align_content": null,
            "align_items": null,
            "align_self": null,
            "border": null,
            "bottom": null,
            "display": null,
            "flex": null,
            "flex_flow": null,
            "grid_area": null,
            "grid_auto_columns": null,
            "grid_auto_flow": null,
            "grid_auto_rows": null,
            "grid_column": null,
            "grid_gap": null,
            "grid_row": null,
            "grid_template_areas": null,
            "grid_template_columns": null,
            "grid_template_rows": null,
            "height": null,
            "justify_content": null,
            "justify_items": null,
            "left": null,
            "margin": null,
            "max_height": null,
            "max_width": null,
            "min_height": null,
            "min_width": null,
            "object_fit": null,
            "object_position": null,
            "order": null,
            "overflow": null,
            "overflow_x": null,
            "overflow_y": null,
            "padding": null,
            "right": null,
            "top": null,
            "visibility": null,
            "width": null
          }
        },
        "3078f9537eb2492b80839e7197196b5f": {
          "model_module": "@jupyter-widgets/controls",
          "model_name": "DescriptionStyleModel",
          "model_module_version": "1.5.0",
          "state": {
            "_model_module": "@jupyter-widgets/controls",
            "_model_module_version": "1.5.0",
            "_model_name": "DescriptionStyleModel",
            "_view_count": null,
            "_view_module": "@jupyter-widgets/base",
            "_view_module_version": "1.2.0",
            "_view_name": "StyleView",
            "description_width": "initial"
          }
        },
        "dfaff83515784219959f10849e3ae50c": {
          "model_module": "@jupyter-widgets/base",
          "model_name": "LayoutModel",
          "model_module_version": "1.2.0",
          "state": {
            "_model_module": "@jupyter-widgets/base",
            "_model_module_version": "1.2.0",
            "_model_name": "LayoutModel",
            "_view_count": null,
            "_view_module": "@jupyter-widgets/base",
            "_view_module_version": "1.2.0",
            "_view_name": "LayoutView",
            "align_content": null,
            "align_items": null,
            "align_self": null,
            "border": null,
            "bottom": null,
            "display": null,
            "flex": null,
            "flex_flow": null,
            "grid_area": null,
            "grid_auto_columns": null,
            "grid_auto_flow": null,
            "grid_auto_rows": null,
            "grid_column": null,
            "grid_gap": null,
            "grid_row": null,
            "grid_template_areas": null,
            "grid_template_columns": null,
            "grid_template_rows": null,
            "height": null,
            "justify_content": null,
            "justify_items": null,
            "left": null,
            "margin": null,
            "max_height": null,
            "max_width": null,
            "min_height": null,
            "min_width": null,
            "object_fit": null,
            "object_position": null,
            "order": null,
            "overflow": null,
            "overflow_x": null,
            "overflow_y": null,
            "padding": null,
            "right": null,
            "top": null,
            "visibility": null,
            "width": null
          }
        },
        "931d1238c1394ed7826c93bbcfeb2938": {
          "model_module": "@jupyter-widgets/controls",
          "model_name": "DescriptionStyleModel",
          "model_module_version": "1.5.0",
          "state": {
            "_model_module": "@jupyter-widgets/controls",
            "_model_module_version": "1.5.0",
            "_model_name": "DescriptionStyleModel",
            "_view_count": null,
            "_view_module": "@jupyter-widgets/base",
            "_view_module_version": "1.2.0",
            "_view_name": "StyleView",
            "description_width": "initial"
          }
        },
        "e4cabb93388d432fb647978458869d7a": {
          "model_module": "@jupyter-widgets/controls",
          "model_name": "TextareaModel",
          "model_module_version": "1.5.0",
          "state": {
            "_dom_classes": [],
            "_model_module": "@jupyter-widgets/controls",
            "_model_module_version": "1.5.0",
            "_model_name": "TextareaModel",
            "_view_count": null,
            "_view_module": "@jupyter-widgets/controls",
            "_view_module_version": "1.5.0",
            "_view_name": "TextareaView",
            "continuous_update": true,
            "description": "Experiment Expectations:",
            "description_tooltip": null,
            "disabled": false,
            "layout": "IPY_MODEL_12bd25c97f6a462393020a8ea9962504",
            "placeholder": "<student to fill this section>",
            "rows": null,
            "style": "IPY_MODEL_d9b25da77c2c4deaaa3366e20bedf48c",
            "value": "Train multiple KNN regression models with different n_neighbors and p values.\nCompare RMSE scores to determine the best settings for capturing local rental price patterns.\nEvaluate computational efficiency and scalability of KNN regression.\nProvide insights into whether KNN is a suitable model or if further feature engineering is required."
          }
        },
        "12bd25c97f6a462393020a8ea9962504": {
          "model_module": "@jupyter-widgets/base",
          "model_name": "LayoutModel",
          "model_module_version": "1.2.0",
          "state": {
            "_model_module": "@jupyter-widgets/base",
            "_model_module_version": "1.2.0",
            "_model_name": "LayoutModel",
            "_view_count": null,
            "_view_module": "@jupyter-widgets/base",
            "_view_module_version": "1.2.0",
            "_view_name": "LayoutView",
            "align_content": null,
            "align_items": null,
            "align_self": null,
            "border": null,
            "bottom": null,
            "display": null,
            "flex": null,
            "flex_flow": null,
            "grid_area": null,
            "grid_auto_columns": null,
            "grid_auto_flow": null,
            "grid_auto_rows": null,
            "grid_column": null,
            "grid_gap": null,
            "grid_row": null,
            "grid_template_areas": null,
            "grid_template_columns": null,
            "grid_template_rows": null,
            "height": "100%",
            "justify_content": null,
            "justify_items": null,
            "left": null,
            "margin": null,
            "max_height": null,
            "max_width": null,
            "min_height": null,
            "min_width": null,
            "object_fit": null,
            "object_position": null,
            "order": null,
            "overflow": null,
            "overflow_x": null,
            "overflow_y": null,
            "padding": null,
            "right": null,
            "top": null,
            "visibility": null,
            "width": "auto"
          }
        },
        "d9b25da77c2c4deaaa3366e20bedf48c": {
          "model_module": "@jupyter-widgets/controls",
          "model_name": "DescriptionStyleModel",
          "model_module_version": "1.5.0",
          "state": {
            "_model_module": "@jupyter-widgets/controls",
            "_model_module_version": "1.5.0",
            "_model_name": "DescriptionStyleModel",
            "_view_count": null,
            "_view_module": "@jupyter-widgets/base",
            "_view_module_version": "1.2.0",
            "_view_name": "StyleView",
            "description_width": "initial"
          }
        },
        "8212b54615164ff189ded5e165f163c5": {
          "model_module": "@jupyter-widgets/controls",
          "model_name": "TextareaModel",
          "model_module_version": "1.5.0",
          "state": {
            "_dom_classes": [],
            "_model_module": "@jupyter-widgets/controls",
            "_model_module_version": "1.5.0",
            "_model_name": "TextareaModel",
            "_view_count": null,
            "_view_module": "@jupyter-widgets/controls",
            "_view_module_version": "1.5.0",
            "_view_name": "TextareaView",
            "continuous_update": true,
            "description": "Feature Selection Explanation:",
            "description_tooltip": null,
            "disabled": false,
            "layout": "IPY_MODEL_216b4d24d87e4befbc0caaed06e9bf5f",
            "placeholder": "<student to fill this section>",
            "rows": null,
            "style": "IPY_MODEL_20f771c19e22494c90de8eed89fa04a3",
            "value": "These attributes give a clear view of the property's features and market conditions. They focus on the main factors that affect rental rates, helping to understand what influences pricing and demand."
          }
        },
        "216b4d24d87e4befbc0caaed06e9bf5f": {
          "model_module": "@jupyter-widgets/base",
          "model_name": "LayoutModel",
          "model_module_version": "1.2.0",
          "state": {
            "_model_module": "@jupyter-widgets/base",
            "_model_module_version": "1.2.0",
            "_model_name": "LayoutModel",
            "_view_count": null,
            "_view_module": "@jupyter-widgets/base",
            "_view_module_version": "1.2.0",
            "_view_name": "LayoutView",
            "align_content": null,
            "align_items": null,
            "align_self": null,
            "border": null,
            "bottom": null,
            "display": null,
            "flex": null,
            "flex_flow": null,
            "grid_area": null,
            "grid_auto_columns": null,
            "grid_auto_flow": null,
            "grid_auto_rows": null,
            "grid_column": null,
            "grid_gap": null,
            "grid_row": null,
            "grid_template_areas": null,
            "grid_template_columns": null,
            "grid_template_rows": null,
            "height": "100%",
            "justify_content": null,
            "justify_items": null,
            "left": null,
            "margin": null,
            "max_height": null,
            "max_width": null,
            "min_height": null,
            "min_width": null,
            "object_fit": null,
            "object_position": null,
            "order": null,
            "overflow": null,
            "overflow_x": null,
            "overflow_y": null,
            "padding": null,
            "right": null,
            "top": null,
            "visibility": null,
            "width": "auto"
          }
        },
        "20f771c19e22494c90de8eed89fa04a3": {
          "model_module": "@jupyter-widgets/controls",
          "model_name": "DescriptionStyleModel",
          "model_module_version": "1.5.0",
          "state": {
            "_model_module": "@jupyter-widgets/controls",
            "_model_module_version": "1.5.0",
            "_model_name": "DescriptionStyleModel",
            "_view_count": null,
            "_view_module": "@jupyter-widgets/base",
            "_view_module_version": "1.2.0",
            "_view_name": "StyleView",
            "description_width": "initial"
          }
        },
        "6f7297f71d3e4ffa8dfc88e80a6d2e2c": {
          "model_module": "@jupyter-widgets/controls",
          "model_name": "TextareaModel",
          "model_module_version": "1.5.0",
          "state": {
            "_dom_classes": [],
            "_model_module": "@jupyter-widgets/controls",
            "_model_module_version": "1.5.0",
            "_model_name": "TextareaModel",
            "_view_count": null,
            "_view_module": "@jupyter-widgets/controls",
            "_view_module_version": "1.5.0",
            "_view_name": "TextareaView",
            "continuous_update": true,
            "description": "Algorithm Selection Explanation:",
            "description_tooltip": null,
            "disabled": false,
            "layout": "IPY_MODEL_617aae17c5ab405f90f95a663e485f05",
            "placeholder": "<student to fill this section>",
            "rows": null,
            "style": "IPY_MODEL_aca22d21c387449ca66f901ceb4315d1",
            "value": "K-Nearest Neighbors (KNN) Regression is chosen because it is a non-parametric, instance-based learning algorithm that makes predictions based on the average of the k nearest neighbors. It is well-suited for problems where the relationship between features and target values is non-linear and where local patterns in the data matter."
          }
        },
        "617aae17c5ab405f90f95a663e485f05": {
          "model_module": "@jupyter-widgets/base",
          "model_name": "LayoutModel",
          "model_module_version": "1.2.0",
          "state": {
            "_model_module": "@jupyter-widgets/base",
            "_model_module_version": "1.2.0",
            "_model_name": "LayoutModel",
            "_view_count": null,
            "_view_module": "@jupyter-widgets/base",
            "_view_module_version": "1.2.0",
            "_view_name": "LayoutView",
            "align_content": null,
            "align_items": null,
            "align_self": null,
            "border": null,
            "bottom": null,
            "display": null,
            "flex": null,
            "flex_flow": null,
            "grid_area": null,
            "grid_auto_columns": null,
            "grid_auto_flow": null,
            "grid_auto_rows": null,
            "grid_column": null,
            "grid_gap": null,
            "grid_row": null,
            "grid_template_areas": null,
            "grid_template_columns": null,
            "grid_template_rows": null,
            "height": "100%",
            "justify_content": null,
            "justify_items": null,
            "left": null,
            "margin": null,
            "max_height": null,
            "max_width": null,
            "min_height": null,
            "min_width": null,
            "object_fit": null,
            "object_position": null,
            "order": null,
            "overflow": null,
            "overflow_x": null,
            "overflow_y": null,
            "padding": null,
            "right": null,
            "top": null,
            "visibility": null,
            "width": "auto"
          }
        },
        "aca22d21c387449ca66f901ceb4315d1": {
          "model_module": "@jupyter-widgets/controls",
          "model_name": "DescriptionStyleModel",
          "model_module_version": "1.5.0",
          "state": {
            "_model_module": "@jupyter-widgets/controls",
            "_model_module_version": "1.5.0",
            "_model_name": "DescriptionStyleModel",
            "_view_count": null,
            "_view_module": "@jupyter-widgets/base",
            "_view_module_version": "1.2.0",
            "_view_name": "StyleView",
            "description_width": "initial"
          }
        },
        "0f877e16011e47e8bfb8c45ef5f27531": {
          "model_module": "@jupyter-widgets/controls",
          "model_name": "SelectModel",
          "model_module_version": "1.5.0",
          "state": {
            "_dom_classes": [],
            "_model_module": "@jupyter-widgets/controls",
            "_model_module_version": "1.5.0",
            "_model_name": "SelectModel",
            "_options_labels": [
              "Hypothesis Confirmed",
              "Hypothesis Partially Confirmed",
              "Hypothesis Rejected"
            ],
            "_view_count": null,
            "_view_module": "@jupyter-widgets/controls",
            "_view_module_version": "1.5.0",
            "_view_name": "SelectView",
            "description": "Experiment Outcomes:",
            "description_tooltip": null,
            "disabled": false,
            "index": 1,
            "layout": "IPY_MODEL_b6240baa98ce43678bb003de6a691128",
            "rows": 5,
            "style": "IPY_MODEL_5b05b7e1d8284ba38abf3977118e38a6"
          }
        },
        "b6240baa98ce43678bb003de6a691128": {
          "model_module": "@jupyter-widgets/base",
          "model_name": "LayoutModel",
          "model_module_version": "1.2.0",
          "state": {
            "_model_module": "@jupyter-widgets/base",
            "_model_module_version": "1.2.0",
            "_model_name": "LayoutModel",
            "_view_count": null,
            "_view_module": "@jupyter-widgets/base",
            "_view_module_version": "1.2.0",
            "_view_name": "LayoutView",
            "align_content": null,
            "align_items": null,
            "align_self": null,
            "border": null,
            "bottom": null,
            "display": null,
            "flex": null,
            "flex_flow": null,
            "grid_area": null,
            "grid_auto_columns": null,
            "grid_auto_flow": null,
            "grid_auto_rows": null,
            "grid_column": null,
            "grid_gap": null,
            "grid_row": null,
            "grid_template_areas": null,
            "grid_template_columns": null,
            "grid_template_rows": null,
            "height": null,
            "justify_content": null,
            "justify_items": null,
            "left": null,
            "margin": null,
            "max_height": null,
            "max_width": null,
            "min_height": null,
            "min_width": null,
            "object_fit": null,
            "object_position": null,
            "order": null,
            "overflow": null,
            "overflow_x": null,
            "overflow_y": null,
            "padding": null,
            "right": null,
            "top": null,
            "visibility": null,
            "width": null
          }
        },
        "5b05b7e1d8284ba38abf3977118e38a6": {
          "model_module": "@jupyter-widgets/controls",
          "model_name": "DescriptionStyleModel",
          "model_module_version": "1.5.0",
          "state": {
            "_model_module": "@jupyter-widgets/controls",
            "_model_module_version": "1.5.0",
            "_model_name": "DescriptionStyleModel",
            "_view_count": null,
            "_view_module": "@jupyter-widgets/base",
            "_view_module_version": "1.2.0",
            "_view_name": "StyleView",
            "description_width": ""
          }
        },
        "ec6cb345df85407d8b2fc84b3475cbf4": {
          "model_module": "@jupyter-widgets/controls",
          "model_name": "TextareaModel",
          "model_module_version": "1.5.0",
          "state": {
            "_dom_classes": [],
            "_model_module": "@jupyter-widgets/controls",
            "_model_module_version": "1.5.0",
            "_model_name": "TextareaModel",
            "_view_count": null,
            "_view_module": "@jupyter-widgets/controls",
            "_view_module_version": "1.5.0",
            "_view_name": "TextareaView",
            "continuous_update": true,
            "description": "Experiment Hypothesis:",
            "description_tooltip": null,
            "disabled": false,
            "layout": "IPY_MODEL_b29b642ae2bb4efe843764bc8fd9be95",
            "placeholder": "<student to fill this section>",
            "rows": null,
            "style": "IPY_MODEL_704e54ea797d4f93a172750685b93bff",
            "value": "Using a non-parametric regression approach like K-Nearest Neighbors (KNN) can provide accurate and reliable rental price predictions based on key property features such as location, size, and amenities. By leveraging machine learning, businesses can optimise pricing strategies, enhance customer decision-making, and improve profitability in the real estate sector.\n\nNull Hypothesis (H₀): Adjusting the number of neighbors (n_neighbors) and the distance metric (p) does not significantly impact the RMSE of the KNN regression model."
          }
        },
        "b29b642ae2bb4efe843764bc8fd9be95": {
          "model_module": "@jupyter-widgets/base",
          "model_name": "LayoutModel",
          "model_module_version": "1.2.0",
          "state": {
            "_model_module": "@jupyter-widgets/base",
            "_model_module_version": "1.2.0",
            "_model_name": "LayoutModel",
            "_view_count": null,
            "_view_module": "@jupyter-widgets/base",
            "_view_module_version": "1.2.0",
            "_view_name": "LayoutView",
            "align_content": null,
            "align_items": null,
            "align_self": null,
            "border": null,
            "bottom": null,
            "display": null,
            "flex": null,
            "flex_flow": null,
            "grid_area": null,
            "grid_auto_columns": null,
            "grid_auto_flow": null,
            "grid_auto_rows": null,
            "grid_column": null,
            "grid_gap": null,
            "grid_row": null,
            "grid_template_areas": null,
            "grid_template_columns": null,
            "grid_template_rows": null,
            "height": "100%",
            "justify_content": null,
            "justify_items": null,
            "left": null,
            "margin": null,
            "max_height": null,
            "max_width": null,
            "min_height": null,
            "min_width": null,
            "object_fit": null,
            "object_position": null,
            "order": null,
            "overflow": null,
            "overflow_x": null,
            "overflow_y": null,
            "padding": null,
            "right": null,
            "top": null,
            "visibility": null,
            "width": "auto"
          }
        },
        "704e54ea797d4f93a172750685b93bff": {
          "model_module": "@jupyter-widgets/controls",
          "model_name": "DescriptionStyleModel",
          "model_module_version": "1.5.0",
          "state": {
            "_model_module": "@jupyter-widgets/controls",
            "_model_module_version": "1.5.0",
            "_model_name": "DescriptionStyleModel",
            "_view_count": null,
            "_view_module": "@jupyter-widgets/base",
            "_view_module_version": "1.2.0",
            "_view_name": "StyleView",
            "description_width": "initial"
          }
        },
        "38a93b54be544e958143272c7ccf5a9c": {
          "model_module": "@jupyter-widgets/controls",
          "model_name": "TextareaModel",
          "model_module_version": "1.5.0",
          "state": {
            "_dom_classes": [],
            "_model_module": "@jupyter-widgets/controls",
            "_model_module_version": "1.5.0",
            "_model_name": "TextareaModel",
            "_view_count": null,
            "_view_module": "@jupyter-widgets/controls",
            "_view_module_version": "1.5.0",
            "_view_name": "TextareaView",
            "continuous_update": true,
            "description": "Model Performance Explanation:",
            "description_tooltip": null,
            "disabled": false,
            "layout": "IPY_MODEL_6a75d1afa9b64a809eeccef5a19d31c3",
            "placeholder": "<student to fill this section>",
            "rows": null,
            "style": "IPY_MODEL_fc3c2f24e2ef42738605d52cdba2adbf",
            "value": "The best result was achieved with n_neighbors = 2 and p = 1, yielding an RMSE of 10.5658. Using n_neighbors = 2 allows the model to capture local patterns while reducing noise compared to n_neighbors = 1, which may lead to overfitting. The choice of p = 1 (Manhattan Distance) suggests that absolute differences between feature values are more effective for this dataset."
          }
        },
        "6a75d1afa9b64a809eeccef5a19d31c3": {
          "model_module": "@jupyter-widgets/base",
          "model_name": "LayoutModel",
          "model_module_version": "1.2.0",
          "state": {
            "_model_module": "@jupyter-widgets/base",
            "_model_module_version": "1.2.0",
            "_model_name": "LayoutModel",
            "_view_count": null,
            "_view_module": "@jupyter-widgets/base",
            "_view_module_version": "1.2.0",
            "_view_name": "LayoutView",
            "align_content": null,
            "align_items": null,
            "align_self": null,
            "border": null,
            "bottom": null,
            "display": null,
            "flex": null,
            "flex_flow": null,
            "grid_area": null,
            "grid_auto_columns": null,
            "grid_auto_flow": null,
            "grid_auto_rows": null,
            "grid_column": null,
            "grid_gap": null,
            "grid_row": null,
            "grid_template_areas": null,
            "grid_template_columns": null,
            "grid_template_rows": null,
            "height": "100%",
            "justify_content": null,
            "justify_items": null,
            "left": null,
            "margin": null,
            "max_height": null,
            "max_width": null,
            "min_height": null,
            "min_width": null,
            "object_fit": null,
            "object_position": null,
            "order": null,
            "overflow": null,
            "overflow_x": null,
            "overflow_y": null,
            "padding": null,
            "right": null,
            "top": null,
            "visibility": null,
            "width": "auto"
          }
        },
        "fc3c2f24e2ef42738605d52cdba2adbf": {
          "model_module": "@jupyter-widgets/controls",
          "model_name": "DescriptionStyleModel",
          "model_module_version": "1.5.0",
          "state": {
            "_model_module": "@jupyter-widgets/controls",
            "_model_module_version": "1.5.0",
            "_model_name": "DescriptionStyleModel",
            "_view_count": null,
            "_view_module": "@jupyter-widgets/base",
            "_view_module_version": "1.2.0",
            "_view_name": "StyleView",
            "description_width": "initial"
          }
        },
        "e841ea362d014706b74cf3b48d95782b": {
          "model_module": "@jupyter-widgets/controls",
          "model_name": "TextareaModel",
          "model_module_version": "1.5.0",
          "state": {
            "_dom_classes": [],
            "_model_module": "@jupyter-widgets/controls",
            "_model_module_version": "1.5.0",
            "_model_name": "TextareaModel",
            "_view_count": null,
            "_view_module": "@jupyter-widgets/controls",
            "_view_module_version": "1.5.0",
            "_view_name": "TextareaView",
            "continuous_update": true,
            "description": "Model Business Impacts Explanation:",
            "description_tooltip": null,
            "disabled": false,
            "layout": "IPY_MODEL_0836f3c5205c42e0946bc87783002f22",
            "placeholder": "<student to fill this section>",
            "rows": null,
            "style": "IPY_MODEL_ba4e73265173476ab7486db3ee7922d2",
            "value": "The current K-Nearest Neighbors (KNN) model with n_neighbors=2 and p=1 achieved an RMSE of 22.78 and an R² of 0.61 on unseen data, indicating moderate error and explaining 61% of the variance. However, the model may be overfitted, as it performed better on the training set. The increase in RMSE and decrease in R² on the test set suggests a drop in predictive accuracy, which is common in real-world applications. Despite this, the model provides a solid foundation for predicting rental prices, though further refinement is needed for more accurate predictions."
          }
        },
        "0836f3c5205c42e0946bc87783002f22": {
          "model_module": "@jupyter-widgets/base",
          "model_name": "LayoutModel",
          "model_module_version": "1.2.0",
          "state": {
            "_model_module": "@jupyter-widgets/base",
            "_model_module_version": "1.2.0",
            "_model_name": "LayoutModel",
            "_view_count": null,
            "_view_module": "@jupyter-widgets/base",
            "_view_module_version": "1.2.0",
            "_view_name": "LayoutView",
            "align_content": null,
            "align_items": null,
            "align_self": null,
            "border": null,
            "bottom": null,
            "display": null,
            "flex": null,
            "flex_flow": null,
            "grid_area": null,
            "grid_auto_columns": null,
            "grid_auto_flow": null,
            "grid_auto_rows": null,
            "grid_column": null,
            "grid_gap": null,
            "grid_row": null,
            "grid_template_areas": null,
            "grid_template_columns": null,
            "grid_template_rows": null,
            "height": "100%",
            "justify_content": null,
            "justify_items": null,
            "left": null,
            "margin": null,
            "max_height": null,
            "max_width": null,
            "min_height": null,
            "min_width": null,
            "object_fit": null,
            "object_position": null,
            "order": null,
            "overflow": null,
            "overflow_x": null,
            "overflow_y": null,
            "padding": null,
            "right": null,
            "top": null,
            "visibility": null,
            "width": "auto"
          }
        },
        "ba4e73265173476ab7486db3ee7922d2": {
          "model_module": "@jupyter-widgets/controls",
          "model_name": "DescriptionStyleModel",
          "model_module_version": "1.5.0",
          "state": {
            "_model_module": "@jupyter-widgets/controls",
            "_model_module_version": "1.5.0",
            "_model_name": "DescriptionStyleModel",
            "_view_count": null,
            "_view_module": "@jupyter-widgets/base",
            "_view_module_version": "1.2.0",
            "_view_name": "StyleView",
            "description_width": "initial"
          }
        },
        "2e9a27ef0da74bc09548edca1187626b": {
          "model_module": "@jupyter-widgets/controls",
          "model_name": "TextareaModel",
          "model_module_version": "1.5.0",
          "state": {
            "_dom_classes": [],
            "_model_module": "@jupyter-widgets/controls",
            "_model_module_version": "1.5.0",
            "_model_name": "TextareaModel",
            "_view_count": null,
            "_view_module": "@jupyter-widgets/controls",
            "_view_module_version": "1.5.0",
            "_view_name": "TextareaView",
            "continuous_update": true,
            "description": "Experiments Results Explanation:",
            "description_tooltip": null,
            "disabled": false,
            "layout": "IPY_MODEL_d5aa4682392446b0b492c48ff24afb1f",
            "placeholder": "<student to fill this section>",
            "rows": null,
            "style": "IPY_MODEL_7f56982d96d1401986f284f917c6f977",
            "value": "The experiment with different combinations of n_neighbors and p showed that smaller values of n_neighbors (such as 2 and 3) resulted in lower RMSE, indicating better performance. Specifically, n_neighbors = 2 and p = 1 produced the lowest RMSE of 10.5658, suggesting this as the optimal configuration. This indicates that a small number of neighbors captures local patterns effectively, and Manhattan Distance (p = 1) outperforms Euclidean Distance (p = 2). As n_neighbors increased, RMSE rose, indicating a shift toward underfitting.\n\nOverall, the current KNN model performs well for rental price prediction, but there is room for improvement. The drop in performance from the validation to the test set suggests that further tuning or exploring alternative models could be beneficial. From a business perspective, even with the modest error margin, the model’s predictions are valuable for strategic decision-making and can help optimise rental pricing strategies. Future steps could involve exploring new models and features to improve prediction accuracy."
          }
        },
        "d5aa4682392446b0b492c48ff24afb1f": {
          "model_module": "@jupyter-widgets/base",
          "model_name": "LayoutModel",
          "model_module_version": "1.2.0",
          "state": {
            "_model_module": "@jupyter-widgets/base",
            "_model_module_version": "1.2.0",
            "_model_name": "LayoutModel",
            "_view_count": null,
            "_view_module": "@jupyter-widgets/base",
            "_view_module_version": "1.2.0",
            "_view_name": "LayoutView",
            "align_content": null,
            "align_items": null,
            "align_self": null,
            "border": null,
            "bottom": null,
            "display": null,
            "flex": null,
            "flex_flow": null,
            "grid_area": null,
            "grid_auto_columns": null,
            "grid_auto_flow": null,
            "grid_auto_rows": null,
            "grid_column": null,
            "grid_gap": null,
            "grid_row": null,
            "grid_template_areas": null,
            "grid_template_columns": null,
            "grid_template_rows": null,
            "height": "100%",
            "justify_content": null,
            "justify_items": null,
            "left": null,
            "margin": null,
            "max_height": null,
            "max_width": null,
            "min_height": null,
            "min_width": null,
            "object_fit": null,
            "object_position": null,
            "order": null,
            "overflow": null,
            "overflow_x": null,
            "overflow_y": null,
            "padding": null,
            "right": null,
            "top": null,
            "visibility": null,
            "width": "auto"
          }
        },
        "7f56982d96d1401986f284f917c6f977": {
          "model_module": "@jupyter-widgets/controls",
          "model_name": "DescriptionStyleModel",
          "model_module_version": "1.5.0",
          "state": {
            "_model_module": "@jupyter-widgets/controls",
            "_model_module_version": "1.5.0",
            "_model_name": "DescriptionStyleModel",
            "_view_count": null,
            "_view_module": "@jupyter-widgets/base",
            "_view_module_version": "1.2.0",
            "_view_name": "StyleView",
            "description_width": "initial"
          }
        },
        "eb1ae58c2b554fb98683c57e6c9fa891": {
          "model_module": "@jupyter-widgets/controls",
          "model_name": "TextareaModel",
          "model_module_version": "1.5.0",
          "state": {
            "_dom_classes": [],
            "_model_module": "@jupyter-widgets/controls",
            "_model_module_version": "1.5.0",
            "_model_name": "TextareaModel",
            "_view_count": null,
            "_view_module": "@jupyter-widgets/controls",
            "_view_module_version": "1.5.0",
            "_view_name": "TextareaView",
            "continuous_update": true,
            "description": "Business Objective:",
            "description_tooltip": null,
            "disabled": false,
            "layout": "IPY_MODEL_dea59547746946b38f1b1d80ae3589b5",
            "placeholder": "<student to fill this section>",
            "rows": null,
            "style": "IPY_MODEL_a015bf22a17f41d59527fd4202fc0ac2",
            "value": "The main objective is to develop a machine learning model that accurately predicts rental prices specifically for affordable properties in Australia, excluding luxury homes. This model aims to assist real estate agencies, property investors, and tenants in making informed decisions based on the features of affordable housing and market trends. The key success metric is RMSE, with the goal of achieving an RMSE score of less than 16 on the validation set, which quantifies the prediction error. Additionally, feature tuning will be necessary to optimise the model’s performance and ensure accurate predictions based on the most relevant property characteristics."
          }
        },
        "dea59547746946b38f1b1d80ae3589b5": {
          "model_module": "@jupyter-widgets/base",
          "model_name": "LayoutModel",
          "model_module_version": "1.2.0",
          "state": {
            "_model_module": "@jupyter-widgets/base",
            "_model_module_version": "1.2.0",
            "_model_name": "LayoutModel",
            "_view_count": null,
            "_view_module": "@jupyter-widgets/base",
            "_view_module_version": "1.2.0",
            "_view_name": "LayoutView",
            "align_content": null,
            "align_items": null,
            "align_self": null,
            "border": null,
            "bottom": null,
            "display": null,
            "flex": null,
            "flex_flow": null,
            "grid_area": null,
            "grid_auto_columns": null,
            "grid_auto_flow": null,
            "grid_auto_rows": null,
            "grid_column": null,
            "grid_gap": null,
            "grid_row": null,
            "grid_template_areas": null,
            "grid_template_columns": null,
            "grid_template_rows": null,
            "height": "100%",
            "justify_content": null,
            "justify_items": null,
            "left": null,
            "margin": null,
            "max_height": null,
            "max_width": null,
            "min_height": null,
            "min_width": null,
            "object_fit": null,
            "object_position": null,
            "order": null,
            "overflow": null,
            "overflow_x": null,
            "overflow_y": null,
            "padding": null,
            "right": null,
            "top": null,
            "visibility": null,
            "width": "auto"
          }
        },
        "a015bf22a17f41d59527fd4202fc0ac2": {
          "model_module": "@jupyter-widgets/controls",
          "model_name": "DescriptionStyleModel",
          "model_module_version": "1.5.0",
          "state": {
            "_model_module": "@jupyter-widgets/controls",
            "_model_module_version": "1.5.0",
            "_model_name": "DescriptionStyleModel",
            "_view_count": null,
            "_view_module": "@jupyter-widgets/base",
            "_view_module_version": "1.2.0",
            "_view_name": "StyleView",
            "description_width": "initial"
          }
        },
        "ed3f89dd83334aa6b83d985c61840593": {
          "model_module": "@jupyter-widgets/controls",
          "model_name": "TextareaModel",
          "model_module_version": "1.5.0",
          "state": {
            "_dom_classes": [],
            "_model_module": "@jupyter-widgets/controls",
            "_model_module_version": "1.5.0",
            "_model_name": "TextareaModel",
            "_view_count": null,
            "_view_module": "@jupyter-widgets/controls",
            "_view_module_version": "1.5.0",
            "_view_name": "TextareaView",
            "continuous_update": true,
            "description": "Hyperparameters Selection Explanation:",
            "description_tooltip": null,
            "disabled": false,
            "layout": "IPY_MODEL_fc5ca0a4813f4865a7584bb61ade6890",
            "placeholder": "<student to fill this section>",
            "rows": null,
            "style": "IPY_MODEL_254c0c890b3c47899ef487a293656de3",
            "value": "Values in n_neighbors_list allow to explore a range of neighborhood sizes. Smaller values capture local patterns, while larger values provide more generalised predictions. The p parameter in KNN regression defines the distance metric used to calculate the distance between data points. p = 1: Uses Manhattan distance and p = 2: Uses Euclidean distance."
          }
        },
        "fc5ca0a4813f4865a7584bb61ade6890": {
          "model_module": "@jupyter-widgets/base",
          "model_name": "LayoutModel",
          "model_module_version": "1.2.0",
          "state": {
            "_model_module": "@jupyter-widgets/base",
            "_model_module_version": "1.2.0",
            "_model_name": "LayoutModel",
            "_view_count": null,
            "_view_module": "@jupyter-widgets/base",
            "_view_module_version": "1.2.0",
            "_view_name": "LayoutView",
            "align_content": null,
            "align_items": null,
            "align_self": null,
            "border": null,
            "bottom": null,
            "display": null,
            "flex": null,
            "flex_flow": null,
            "grid_area": null,
            "grid_auto_columns": null,
            "grid_auto_flow": null,
            "grid_auto_rows": null,
            "grid_column": null,
            "grid_gap": null,
            "grid_row": null,
            "grid_template_areas": null,
            "grid_template_columns": null,
            "grid_template_rows": null,
            "height": "100%",
            "justify_content": null,
            "justify_items": null,
            "left": null,
            "margin": null,
            "max_height": null,
            "max_width": null,
            "min_height": null,
            "min_width": null,
            "object_fit": null,
            "object_position": null,
            "order": null,
            "overflow": null,
            "overflow_x": null,
            "overflow_y": null,
            "padding": null,
            "right": null,
            "top": null,
            "visibility": null,
            "width": "auto"
          }
        },
        "254c0c890b3c47899ef487a293656de3": {
          "model_module": "@jupyter-widgets/controls",
          "model_name": "DescriptionStyleModel",
          "model_module_version": "1.5.0",
          "state": {
            "_model_module": "@jupyter-widgets/controls",
            "_model_module_version": "1.5.0",
            "_model_name": "DescriptionStyleModel",
            "_view_count": null,
            "_view_module": "@jupyter-widgets/base",
            "_view_module_version": "1.2.0",
            "_view_name": "StyleView",
            "description_width": "initial"
          }
        }
      }
    }
  },
  "nbformat": 4,
  "nbformat_minor": 0
}