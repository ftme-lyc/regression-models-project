{
  "cells": [
    {
      "cell_type": "markdown",
      "metadata": {
        "id": "uQ6wc2HE0pke"
      },
      "source": [
        "# **Experiment Notebook**\n",
        "\n"
      ]
    },
    {
      "cell_type": "markdown",
      "metadata": {
        "id": "KFVpE17Ahezu"
      },
      "source": [
        "---\n",
        "## 0. Setup Environment"
      ]
    },
    {
      "cell_type": "markdown",
      "metadata": {
        "id": "kWUmi7fakv5O"
      },
      "source": [
        "### 0.a Install Mandatory Packages\n",
        "\n",
        "> Do not modify this code before running it"
      ]
    },
    {
      "cell_type": "code",
      "execution_count": 1,
      "metadata": {
        "colab": {
          "base_uri": "https://localhost:8080/"
        },
        "id": "S8jFaNXqvV5W",
        "outputId": "1ddbf034-0752-42af-fb9f-b3be45899bf9"
      },
      "outputs": [
        {
          "output_type": "stream",
          "name": "stdout",
          "text": [
            "###### Install required Python packages ######\n",
            "Requirement already satisfied: pandas==2.2.2 in /usr/local/lib/python3.11/dist-packages (from -r https://raw.githubusercontent.com/aso-uts/labs_datasets/main/36106-mlaa/requirements.txt (line 1)) (2.2.2)\n",
            "Requirement already satisfied: scikit-learn==1.6.1 in /usr/local/lib/python3.11/dist-packages (from -r https://raw.githubusercontent.com/aso-uts/labs_datasets/main/36106-mlaa/requirements.txt (line 2)) (1.6.1)\n",
            "Requirement already satisfied: altair==5.5.0 in /usr/local/lib/python3.11/dist-packages (from -r https://raw.githubusercontent.com/aso-uts/labs_datasets/main/36106-mlaa/requirements.txt (line 3)) (5.5.0)\n",
            "Requirement already satisfied: numpy>=1.23.2 in /usr/local/lib/python3.11/dist-packages (from pandas==2.2.2->-r https://raw.githubusercontent.com/aso-uts/labs_datasets/main/36106-mlaa/requirements.txt (line 1)) (2.0.2)\n",
            "Requirement already satisfied: python-dateutil>=2.8.2 in /usr/local/lib/python3.11/dist-packages (from pandas==2.2.2->-r https://raw.githubusercontent.com/aso-uts/labs_datasets/main/36106-mlaa/requirements.txt (line 1)) (2.8.2)\n",
            "Requirement already satisfied: pytz>=2020.1 in /usr/local/lib/python3.11/dist-packages (from pandas==2.2.2->-r https://raw.githubusercontent.com/aso-uts/labs_datasets/main/36106-mlaa/requirements.txt (line 1)) (2025.1)\n",
            "Requirement already satisfied: tzdata>=2022.7 in /usr/local/lib/python3.11/dist-packages (from pandas==2.2.2->-r https://raw.githubusercontent.com/aso-uts/labs_datasets/main/36106-mlaa/requirements.txt (line 1)) (2025.1)\n",
            "Requirement already satisfied: scipy>=1.6.0 in /usr/local/lib/python3.11/dist-packages (from scikit-learn==1.6.1->-r https://raw.githubusercontent.com/aso-uts/labs_datasets/main/36106-mlaa/requirements.txt (line 2)) (1.14.1)\n",
            "Requirement already satisfied: joblib>=1.2.0 in /usr/local/lib/python3.11/dist-packages (from scikit-learn==1.6.1->-r https://raw.githubusercontent.com/aso-uts/labs_datasets/main/36106-mlaa/requirements.txt (line 2)) (1.4.2)\n",
            "Requirement already satisfied: threadpoolctl>=3.1.0 in /usr/local/lib/python3.11/dist-packages (from scikit-learn==1.6.1->-r https://raw.githubusercontent.com/aso-uts/labs_datasets/main/36106-mlaa/requirements.txt (line 2)) (3.6.0)\n",
            "Requirement already satisfied: jinja2 in /usr/local/lib/python3.11/dist-packages (from altair==5.5.0->-r https://raw.githubusercontent.com/aso-uts/labs_datasets/main/36106-mlaa/requirements.txt (line 3)) (3.1.6)\n",
            "Requirement already satisfied: jsonschema>=3.0 in /usr/local/lib/python3.11/dist-packages (from altair==5.5.0->-r https://raw.githubusercontent.com/aso-uts/labs_datasets/main/36106-mlaa/requirements.txt (line 3)) (4.23.0)\n",
            "Requirement already satisfied: narwhals>=1.14.2 in /usr/local/lib/python3.11/dist-packages (from altair==5.5.0->-r https://raw.githubusercontent.com/aso-uts/labs_datasets/main/36106-mlaa/requirements.txt (line 3)) (1.31.0)\n",
            "Requirement already satisfied: packaging in /usr/local/lib/python3.11/dist-packages (from altair==5.5.0->-r https://raw.githubusercontent.com/aso-uts/labs_datasets/main/36106-mlaa/requirements.txt (line 3)) (24.2)\n",
            "Requirement already satisfied: typing-extensions>=4.10.0 in /usr/local/lib/python3.11/dist-packages (from altair==5.5.0->-r https://raw.githubusercontent.com/aso-uts/labs_datasets/main/36106-mlaa/requirements.txt (line 3)) (4.12.2)\n",
            "Requirement already satisfied: attrs>=22.2.0 in /usr/local/lib/python3.11/dist-packages (from jsonschema>=3.0->altair==5.5.0->-r https://raw.githubusercontent.com/aso-uts/labs_datasets/main/36106-mlaa/requirements.txt (line 3)) (25.3.0)\n",
            "Requirement already satisfied: jsonschema-specifications>=2023.03.6 in /usr/local/lib/python3.11/dist-packages (from jsonschema>=3.0->altair==5.5.0->-r https://raw.githubusercontent.com/aso-uts/labs_datasets/main/36106-mlaa/requirements.txt (line 3)) (2024.10.1)\n",
            "Requirement already satisfied: referencing>=0.28.4 in /usr/local/lib/python3.11/dist-packages (from jsonschema>=3.0->altair==5.5.0->-r https://raw.githubusercontent.com/aso-uts/labs_datasets/main/36106-mlaa/requirements.txt (line 3)) (0.36.2)\n",
            "Requirement already satisfied: rpds-py>=0.7.1 in /usr/local/lib/python3.11/dist-packages (from jsonschema>=3.0->altair==5.5.0->-r https://raw.githubusercontent.com/aso-uts/labs_datasets/main/36106-mlaa/requirements.txt (line 3)) (0.23.1)\n",
            "Requirement already satisfied: six>=1.5 in /usr/local/lib/python3.11/dist-packages (from python-dateutil>=2.8.2->pandas==2.2.2->-r https://raw.githubusercontent.com/aso-uts/labs_datasets/main/36106-mlaa/requirements.txt (line 1)) (1.17.0)\n",
            "Requirement already satisfied: MarkupSafe>=2.0 in /usr/local/lib/python3.11/dist-packages (from jinja2->altair==5.5.0->-r https://raw.githubusercontent.com/aso-uts/labs_datasets/main/36106-mlaa/requirements.txt (line 3)) (3.0.2)\n",
            "\n",
            "###### Connect to personal Google Drive ######\n",
            "Mounted at /content/gdrive\n",
            "\n",
            "###### Setting up folders ######\n",
            "\n",
            "You can now save your data files in: /content/gdrive/MyDrive/36106/assignment/AT1/data\n",
            "/content/gdrive/MyDrive/36106/assignment/AT1/data\n"
          ]
        }
      ],
      "source": [
        "# Do not modify this code\n",
        "\n",
        "import os\n",
        "import sys\n",
        "from pathlib import Path\n",
        "\n",
        "COURSE = \"36106\"\n",
        "ASSIGNMENT = \"AT1\"\n",
        "DATA = \"data\"\n",
        "\n",
        "asgmt_path = f\"{COURSE}/assignment/{ASSIGNMENT}\"\n",
        "root_path = \"./\"\n",
        "\n",
        "print(\"###### Install required Python packages ######\")\n",
        "! pip install -r https://raw.githubusercontent.com/aso-uts/labs_datasets/main/36106-mlaa/requirements.txt\n",
        "\n",
        "if os.getenv(\"COLAB_RELEASE_TAG\"):\n",
        "\n",
        "    from google.colab import drive\n",
        "    from pathlib import Path\n",
        "\n",
        "    print(\"\\n###### Connect to personal Google Drive ######\")\n",
        "    gdrive_path = \"/content/gdrive\"\n",
        "    drive.mount(gdrive_path)\n",
        "    root_path = f\"{gdrive_path}/MyDrive/\"\n",
        "\n",
        "print(\"\\n###### Setting up folders ######\")\n",
        "folder_path = Path(f\"{root_path}/{asgmt_path}/\") / DATA\n",
        "folder_path.mkdir(parents=True, exist_ok=True)\n",
        "print(f\"\\nYou can now save your data files in: {folder_path}\")\n",
        "\n",
        "if os.getenv(\"COLAB_RELEASE_TAG\"):\n",
        "    %cd {folder_path}\n"
      ]
    },
    {
      "cell_type": "markdown",
      "metadata": {
        "id": "jM39DExClCc5"
      },
      "source": [
        "### 0.b Disable Warnings Messages\n",
        "\n",
        "> Do not modify this code before running it"
      ]
    },
    {
      "cell_type": "code",
      "execution_count": null,
      "metadata": {
        "id": "6FneOmBfka9G"
      },
      "outputs": [],
      "source": [
        "import warnings\n",
        "warnings.simplefilter(action='ignore', category=FutureWarning)"
      ]
    },
    {
      "cell_type": "markdown",
      "metadata": {
        "id": "CgTrMfyylVLf"
      },
      "source": [
        "### 0.c Install Additional Packages\n",
        "\n",
        "> If you are using additional packages, you need to install them here using the command: `! pip install <package_name>`"
      ]
    },
    {
      "cell_type": "code",
      "execution_count": null,
      "metadata": {
        "id": "D79tb2V-lVpJ"
      },
      "outputs": [],
      "source": [
        "# <Student to fill this section>"
      ]
    },
    {
      "cell_type": "markdown",
      "metadata": {
        "id": "mXFKfa2tp1ch"
      },
      "source": [
        "### 0.d Import Packages"
      ]
    },
    {
      "cell_type": "code",
      "execution_count": 2,
      "metadata": {
        "id": "GBEAwdncnlAx"
      },
      "outputs": [],
      "source": [
        "import ipywidgets as widgets\n",
        "import pandas as pd\n",
        "import altair as alt\n",
        "import numpy as np\n",
        "from sklearn.metrics import mean_squared_error, r2_score, mean_absolute_error"
      ]
    },
    {
      "cell_type": "markdown",
      "metadata": {
        "id": "tQgxLRrvjiJb"
      },
      "source": [
        "---\n",
        "## A. Project Description\n"
      ]
    },
    {
      "cell_type": "code",
      "execution_count": null,
      "metadata": {
        "cellView": "form",
        "colab": {
          "base_uri": "https://localhost:8080/",
          "height": 49,
          "referenced_widgets": [
            "62a4f72a250643388aedc5a12e42f023",
            "d4045c9ba9c74ba8950a9f88369036f9",
            "da897a3e9ffd4d7fa4c42ce795ed543b",
            "117fb15236754c7eaea0cfdcbf2a10cc",
            "b3a9d436beff48f3b30bc1d18ded41b6",
            "27cf0b222ac940c8aa4c57da984d85d3",
            "926672651f894fe9961c0d0a853beafc",
            "4df9f99ca0fb42cf8e451730fa34cd9a"
          ]
        },
        "id": "fGU0q-Egs0Ju",
        "outputId": "e0c5f98e-605e-4f5e-9cb3-10250a3f7063"
      },
      "outputs": [
        {
          "data": {
            "application/vnd.jupyter.widget-view+json": {
              "model_id": "62a4f72a250643388aedc5a12e42f023",
              "version_major": 2,
              "version_minor": 0
            },
            "text/plain": [
              "HBox(children=(Text(value='', description='Student Name:', placeholder='<student to fill this section>', style…"
            ]
          },
          "metadata": {},
          "output_type": "display_data"
        }
      ],
      "source": [
        "# @title Student Information\n",
        "wgt_student_name = widgets.Text(\n",
        "    value=None,\n",
        "    placeholder='<student to fill this section>',\n",
        "    description='Student Name:',\n",
        "    style={'description_width': 'initial'},\n",
        "    disabled=False\n",
        ")\n",
        "\n",
        "wgt_student_id = widgets.Text(\n",
        "    value=None,\n",
        "    placeholder='<student to fill this section>',\n",
        "    description='Student Id:',\n",
        "    style={'description_width': 'initial'},\n",
        "    disabled=False\n",
        ")\n",
        "\n",
        "widgets.HBox([wgt_student_name, wgt_student_id])"
      ]
    },
    {
      "cell_type": "code",
      "execution_count": null,
      "metadata": {
        "cellView": "form",
        "colab": {
          "base_uri": "https://localhost:8080/",
          "height": 49,
          "referenced_widgets": [
            "f81180fa588f45849f77b8fd6d33dd5a",
            "78c6b242d5db44d59a9cbbca46f84378",
            "97d119394647493198489755bf910836"
          ]
        },
        "id": "RWCjbJJmnKbB",
        "outputId": "32edda25-1b37-465d-b3c9-246aedd982e7"
      },
      "outputs": [
        {
          "data": {
            "application/vnd.jupyter.widget-view+json": {
              "model_id": "f81180fa588f45849f77b8fd6d33dd5a",
              "version_major": 2,
              "version_minor": 0
            },
            "text/plain": [
              "BoundedIntText(value=1, description='Experiment ID:', max=3, style=DescriptionStyle(description_width='initial…"
            ]
          },
          "metadata": {},
          "output_type": "display_data"
        }
      ],
      "source": [
        "# @title Experiment ID\n",
        "\n",
        "wgt_experiment_id = widgets.BoundedIntText(\n",
        "    value=1,\n",
        "    min=0,\n",
        "    max=3,\n",
        "    step=1,\n",
        "    description='Experiment ID:',\n",
        "    style={'description_width': 'initial'},\n",
        "    disabled=False\n",
        ")\n",
        "wgt_experiment_id"
      ]
    },
    {
      "cell_type": "code",
      "execution_count": 3,
      "metadata": {
        "cellView": "form",
        "colab": {
          "base_uri": "https://localhost:8080/",
          "height": 62,
          "referenced_widgets": [
            "12f9b375d2714454808a34e7a34a9466",
            "71df94bfe0b6444693148a9710534a7a",
            "f580544c0cbe4463beec058719517a49"
          ]
        },
        "id": "-yUkIvPntXrt",
        "outputId": "081ed201-fe2e-47d8-92f7-fddfc37529d5"
      },
      "outputs": [
        {
          "output_type": "display_data",
          "data": {
            "text/plain": [
              "Textarea(value='', description='Business Objective:', layout=Layout(height='100%', width='auto'), placeholder=…"
            ],
            "application/vnd.jupyter.widget-view+json": {
              "version_major": 2,
              "version_minor": 0,
              "model_id": "12f9b375d2714454808a34e7a34a9466"
            }
          },
          "metadata": {}
        }
      ],
      "source": [
        "# @title Business Objective\n",
        "\n",
        "wgt_business_objective = widgets.Textarea(\n",
        "    value=None,\n",
        "    placeholder='<student to fill this section>',\n",
        "    description='Business Objective:',\n",
        "    disabled=False,\n",
        "    style={'description_width': 'initial'},\n",
        "    layout=widgets.Layout(height=\"100%\", width=\"auto\")\n",
        ")\n",
        "wgt_business_objective"
      ]
    },
    {
      "cell_type": "markdown",
      "metadata": {
        "id": "4q1Bzcejvfpm"
      },
      "source": [
        "---\n",
        "## B. Experiment Description"
      ]
    },
    {
      "cell_type": "code",
      "execution_count": null,
      "metadata": {
        "cellView": "form",
        "colab": {
          "base_uri": "https://localhost:8080/",
          "height": 62,
          "referenced_widgets": [
            "b3fc0df688434e57b3ec9faaea8111eb",
            "aa49278df4cc4291b763ca594cf3da0f",
            "727d0bba57ab44bdbc75e29b89e7a312"
          ]
        },
        "id": "GXd_BeBLvlH9",
        "outputId": "f0a4e37f-e4b2-4f46-aae6-71d0ccbc1a7b"
      },
      "outputs": [
        {
          "output_type": "display_data",
          "data": {
            "text/plain": [
              "Textarea(value='', description='Experiment Hypothesis:', layout=Layout(height='100%', width='auto'), placehold…"
            ],
            "application/vnd.jupyter.widget-view+json": {
              "version_major": 2,
              "version_minor": 0,
              "model_id": "b3fc0df688434e57b3ec9faaea8111eb"
            }
          },
          "metadata": {}
        }
      ],
      "source": [
        "# @title Experiment Hypothesis\n",
        "\n",
        "wgt_experiment_hypothesis = widgets.Textarea(\n",
        "    value=None,\n",
        "    placeholder='<student to fill this section>',\n",
        "    description='Experiment Hypothesis:',\n",
        "    disabled=False,\n",
        "    style={'description_width': 'initial'},\n",
        "    layout=widgets.Layout(height=\"100%\", width=\"auto\")\n",
        ")\n",
        "wgt_experiment_hypothesis"
      ]
    },
    {
      "cell_type": "code",
      "execution_count": null,
      "metadata": {
        "cellView": "form",
        "colab": {
          "base_uri": "https://localhost:8080/",
          "height": 62,
          "referenced_widgets": [
            "0fef21b2b7dc44d2a47a613cf47f63e3",
            "95608262bf88404fa98bc84bd288e282",
            "3477a4281e444e0ba81b6a8f98409d63"
          ]
        },
        "id": "-U21y_pAwdJe",
        "outputId": "5f4b3d19-1905-47d2-aa68-fa4ec95bf12c"
      },
      "outputs": [
        {
          "data": {
            "application/vnd.jupyter.widget-view+json": {
              "model_id": "0fef21b2b7dc44d2a47a613cf47f63e3",
              "version_major": 2,
              "version_minor": 0
            },
            "text/plain": [
              "Textarea(value='', description='Experiment Expectations:', layout=Layout(height='100%', width='auto'), placeho…"
            ]
          },
          "metadata": {},
          "output_type": "display_data"
        }
      ],
      "source": [
        "\n",
        "# @title Experiment Expectations\n",
        "\n",
        "wgt_experiment_expectations = widgets.Textarea(\n",
        "    value=None,\n",
        "    placeholder='<student to fill this section>',\n",
        "    description='Experiment Expectations:',\n",
        "    disabled=False,\n",
        "    style={'description_width': 'initial'},\n",
        "    layout=widgets.Layout(height=\"100%\", width=\"auto\")\n",
        ")\n",
        "wgt_experiment_expectations"
      ]
    },
    {
      "cell_type": "markdown",
      "metadata": {
        "id": "P0zsEPshwy1K"
      },
      "source": [
        "---\n",
        "## C. Data Understanding"
      ]
    },
    {
      "cell_type": "markdown",
      "metadata": {
        "id": "kKgkHZnNypnE"
      },
      "source": [
        "### C.1   Load Datasets\n",
        "\n",
        "> Do not change this code"
      ]
    },
    {
      "cell_type": "code",
      "execution_count": 3,
      "metadata": {
        "id": "NKgOzSn-w0eq"
      },
      "outputs": [],
      "source": [
        "# Load training data\n",
        "X_train = pd.read_csv(folder_path / 'X_train.csv')\n",
        "y_train = pd.read_csv(folder_path / 'y_train.csv')"
      ]
    },
    {
      "cell_type": "code",
      "execution_count": 4,
      "metadata": {
        "id": "KUrJMQ2jw0m3"
      },
      "outputs": [],
      "source": [
        "# Load validation data\n",
        "X_val = pd.read_csv(folder_path / 'X_val.csv')\n",
        "y_val = pd.read_csv(folder_path / 'y_val.csv')"
      ]
    },
    {
      "cell_type": "code",
      "execution_count": 5,
      "metadata": {
        "id": "YmD8k_bdw054"
      },
      "outputs": [],
      "source": [
        "# Load testing data\n",
        "X_test = pd.read_csv(folder_path / 'X_test.csv')\n",
        "y_test = pd.read_csv(folder_path / 'y_test.csv')"
      ]
    },
    {
      "cell_type": "markdown",
      "metadata": {
        "id": "_NCwQQFkU3v5"
      },
      "source": [
        "---\n",
        "## D. Feature Selection\n"
      ]
    },
    {
      "cell_type": "code",
      "execution_count": null,
      "metadata": {
        "id": "zfC-DLKv4AuM"
      },
      "outputs": [],
      "source": [
        "# <Student to fill this section>\n",
        "\n",
        "features_list = ['number_of_bedrooms','floor_area','number_of_bathrooms','month','level_numerator','level_ratio','tenancy_preference_Bachelors/Family','tenancy_preference_Family','suburb_Brisbane','suburb_Canberra','suburb_Melbourne','suburb_Perth','suburb_Sydney','furnished_encoded']"
      ]
    },
    {
      "cell_type": "code",
      "execution_count": null,
      "metadata": {
        "cellView": "form",
        "colab": {
          "base_uri": "https://localhost:8080/",
          "height": 62,
          "referenced_widgets": [
            "f3b156bb25b7429cb495c4cc4fd60c70",
            "d56fab81fc89468d9d73c7bc3110ef06",
            "46ab1c66b86c43e5831988c20723d300"
          ]
        },
        "id": "l3TDTIWr4BYF",
        "outputId": "70f9cd7c-a2a6-43f8-d080-994914372d84"
      },
      "outputs": [
        {
          "data": {
            "application/vnd.jupyter.widget-view+json": {
              "model_id": "f3b156bb25b7429cb495c4cc4fd60c70",
              "version_major": 2,
              "version_minor": 0
            },
            "text/plain": [
              "Textarea(value='', description='Feature Selection Explanation:', layout=Layout(height='100%', width='auto'), p…"
            ]
          },
          "metadata": {},
          "output_type": "display_data"
        }
      ],
      "source": [
        "# @title Feature Selection Explanation\n",
        "\n",
        "wgt_feat_selection_explanation = widgets.Textarea(\n",
        "    value=None,\n",
        "    placeholder='<student to fill this section>',\n",
        "    description='Feature Selection Explanation:',\n",
        "    disabled=False,\n",
        "    style={'description_width': 'initial'},\n",
        "    layout=widgets.Layout(height=\"100%\", width=\"auto\")\n",
        ")\n",
        "wgt_feat_selection_explanation"
      ]
    },
    {
      "cell_type": "markdown",
      "metadata": {
        "id": "N8MNBrC4Zgz6"
      },
      "source": [
        "---\n",
        "## E. Train Machine Learning Model"
      ]
    },
    {
      "cell_type": "markdown",
      "metadata": {
        "id": "4_tQitOfeDXr"
      },
      "source": [
        "### E.1 Import Algorithm\n",
        "\n",
        "> Provide some explanations on why you believe this algorithm is a good fit\n"
      ]
    },
    {
      "cell_type": "code",
      "execution_count": 6,
      "metadata": {
        "id": "Mh6epkAThez5"
      },
      "outputs": [],
      "source": [
        "# <Student to fill this section>\n",
        "from sklearn.linear_model import LinearRegression"
      ]
    },
    {
      "cell_type": "code",
      "execution_count": null,
      "metadata": {
        "cellView": "form",
        "colab": {
          "base_uri": "https://localhost:8080/",
          "height": 62,
          "referenced_widgets": [
            "d8c2f9fa2fad44d19f0f46a2d32278cf",
            "a5d917551702426398625bb9c4b991cf",
            "2641e4aa429d4bdb92cc4bab047ecd33"
          ]
        },
        "id": "yQlcYIfThez5",
        "outputId": "fce01302-60ad-47cc-f729-bb1733480a7c"
      },
      "outputs": [
        {
          "data": {
            "application/vnd.jupyter.widget-view+json": {
              "model_id": "d8c2f9fa2fad44d19f0f46a2d32278cf",
              "version_major": 2,
              "version_minor": 0
            },
            "text/plain": [
              "Textarea(value='', description='Algorithm Selection Explanation:', layout=Layout(height='100%', width='auto'),…"
            ]
          },
          "metadata": {},
          "output_type": "display_data"
        }
      ],
      "source": [
        "# @title Algorithm Selection Explanation\n",
        "\n",
        "wgt_algo_selection_explanation = widgets.Textarea(\n",
        "    value=None,\n",
        "    placeholder='<student to fill this section>',\n",
        "    description='Algorithm Selection Explanation:',\n",
        "    disabled=False,\n",
        "    style={'description_width': 'initial'},\n",
        "    layout=widgets.Layout(height=\"100%\", width=\"auto\")\n",
        ")\n",
        "wgt_algo_selection_explanation"
      ]
    },
    {
      "cell_type": "markdown",
      "metadata": {
        "id": "0ks_MmM2mCfm"
      },
      "source": [
        "### E.2 Set Hyperparameters\n",
        "\n",
        "> Provide some explanations on why you believe this algorithm is a good fit\n"
      ]
    },
    {
      "cell_type": "code",
      "execution_count": 7,
      "metadata": {
        "id": "NUswpGVLmDXl"
      },
      "outputs": [],
      "source": [
        "# <Student to fill this section>\n",
        "fit_intercept_values = [True, False]"
      ]
    },
    {
      "cell_type": "code",
      "execution_count": null,
      "metadata": {
        "cellView": "form",
        "colab": {
          "base_uri": "https://localhost:8080/",
          "height": 62,
          "referenced_widgets": [
            "5287a7201dea4ebd83958974cc65c8cd",
            "9eb6c63afd1249e7bc3af1040fd71443",
            "5e446a5fb8c44d71b36dba496a4cda6e"
          ]
        },
        "id": "89e9t-19mEE3",
        "outputId": "18b15a49-0760-4987-b5b4-77349d7e9232"
      },
      "outputs": [
        {
          "data": {
            "application/vnd.jupyter.widget-view+json": {
              "model_id": "5287a7201dea4ebd83958974cc65c8cd",
              "version_major": 2,
              "version_minor": 0
            },
            "text/plain": [
              "Textarea(value='', description='Hyperparameters Selection Explanation:', layout=Layout(height='100%', width='a…"
            ]
          },
          "metadata": {},
          "output_type": "display_data"
        }
      ],
      "source": [
        "# @title Hyperparameters Selection Explanation\n",
        "\n",
        "wgt_hyperparams_selection_explanation = widgets.Textarea(\n",
        "    value=None,\n",
        "    placeholder='<student to fill this section>',\n",
        "    description='Hyperparameters Selection Explanation:',\n",
        "    disabled=False,\n",
        "    style={'description_width': 'initial'},\n",
        "    layout=widgets.Layout(height=\"100%\", width=\"auto\")\n",
        ")\n",
        "wgt_hyperparams_selection_explanation"
      ]
    },
    {
      "cell_type": "markdown",
      "metadata": {
        "id": "VDjdjQjFmkLe"
      },
      "source": [
        "### E.3 Fit Model"
      ]
    },
    {
      "cell_type": "code",
      "execution_count": 8,
      "metadata": {
        "id": "0Ub3Nrdgmm2N"
      },
      "outputs": [],
      "source": [
        "# <Student to fill this section>\n",
        "\n",
        "model_with_intercept = LinearRegression(fit_intercept=fit_intercept_values[0])\n",
        "model_without_intercept = LinearRegression(fit_intercept=fit_intercept_values[1])\n",
        "\n",
        "model_with_intercept.fit(X_train, y_train)\n",
        "model_without_intercept.fit(X_train, y_train)\n",
        "\n",
        "y_preds_with_intercept = model_with_intercept.predict(X_val)\n",
        "y_preds_without_intercept = model_without_intercept.predict(X_val)"
      ]
    },
    {
      "cell_type": "markdown",
      "metadata": {
        "id": "q43YtqpdeniY"
      },
      "source": [
        "### E.4 Model Technical Performance\n",
        "\n",
        "> Provide some explanations on model performance\n"
      ]
    },
    {
      "cell_type": "code",
      "execution_count": 10,
      "metadata": {
        "colab": {
          "base_uri": "https://localhost:8080/",
          "height": 272
        },
        "id": "rjzA1WljoaF5",
        "outputId": "022b176c-4e23-4461-e2f5-e3c7d98c1120"
      },
      "outputs": [
        {
          "output_type": "stream",
          "name": "stdout",
          "text": [
            "Fit Intercept = True:\n",
            "RMSE: 12.00599255091588\n",
            "MAE: 8.775523306284954\n",
            "R² Score: 0.7212732502406147\n",
            ".............................\n",
            "Fit Intercept = False:\n",
            "RMSE: 583.0052384027257\n",
            "MAE: 582.8825069318831\n",
            "R² Score: -656.2452034925926\n"
          ]
        },
        {
          "output_type": "execute_result",
          "data": {
            "text/plain": [
              "rent   -769404.90915\n",
              "dtype: float64"
            ],
            "text/html": [
              "<div>\n",
              "<style scoped>\n",
              "    .dataframe tbody tr th:only-of-type {\n",
              "        vertical-align: middle;\n",
              "    }\n",
              "\n",
              "    .dataframe tbody tr th {\n",
              "        vertical-align: top;\n",
              "    }\n",
              "\n",
              "    .dataframe thead th {\n",
              "        text-align: right;\n",
              "    }\n",
              "</style>\n",
              "<table border=\"1\" class=\"dataframe\">\n",
              "  <thead>\n",
              "    <tr style=\"text-align: right;\">\n",
              "      <th></th>\n",
              "      <th>0</th>\n",
              "    </tr>\n",
              "  </thead>\n",
              "  <tbody>\n",
              "    <tr>\n",
              "      <th>rent</th>\n",
              "      <td>-769404.90915</td>\n",
              "    </tr>\n",
              "  </tbody>\n",
              "</table>\n",
              "</div><br><label><b>dtype:</b> float64</label>"
            ]
          },
          "metadata": {},
          "execution_count": 10
        }
      ],
      "source": [
        "mse_with_intercept = mean_squared_error(y_val, y_preds_with_intercept)\n",
        "rmse_with_intercept = np.sqrt(mse_with_intercept)\n",
        "mae_with_intercept = mean_absolute_error(y_val, y_preds_with_intercept)\n",
        "r2_with_intercept = r2_score(y_val, y_preds_with_intercept)\n",
        "\n",
        "mse_without_intercept = mean_squared_error(y_val, y_preds_without_intercept)\n",
        "rmse_without_intercept = np.sqrt(mse_without_intercept)\n",
        "mae_without_intercept = mean_absolute_error(y_val, y_preds_without_intercept)\n",
        "r2_without_intercept = r2_score(y_val, y_preds_without_intercept)\n",
        "\n",
        "print(f\"Fit Intercept = {fit_intercept_values[0]}:\")\n",
        "print(f\"RMSE: {rmse_with_intercept}\")\n",
        "print(f\"MAE: {mae_with_intercept}\")\n",
        "print(f\"R² Score: {r2_with_intercept}\")\n",
        "print(\".............................\")\n",
        "print(f\"Fit Intercept = {fit_intercept_values[1]}:\")\n",
        "print(f\"RMSE: {rmse_without_intercept}\")\n",
        "print(f\"MAE: {mae_without_intercept}\")\n",
        "print(f\"R² Score: {r2_without_intercept}\")\n",
        "\n",
        "(y_preds_with_intercept - y_val).sum()\n",
        "(y_preds_without_intercept - y_val).sum()"
      ]
    },
    {
      "cell_type": "code",
      "execution_count": null,
      "metadata": {
        "cellView": "form",
        "colab": {
          "base_uri": "https://localhost:8080/",
          "height": 62,
          "referenced_widgets": [
            "f1be267852524b2a9facc60358ecce45",
            "468edaed36674912a78c6e5b68c4f20c",
            "62bc72a564e140ffad4edf39e15032a9"
          ]
        },
        "id": "osp7Ura2hez5",
        "outputId": "d7396a9c-fdd8-4d45-eef6-f18e3c05cc7a"
      },
      "outputs": [
        {
          "output_type": "display_data",
          "data": {
            "text/plain": [
              "Textarea(value='', description='Model Performance Explanation:', layout=Layout(height='100%', width='auto'), p…"
            ],
            "application/vnd.jupyter.widget-view+json": {
              "version_major": 2,
              "version_minor": 0,
              "model_id": "f1be267852524b2a9facc60358ecce45"
            }
          },
          "metadata": {}
        }
      ],
      "source": [
        "# @title Model Performance Explanation\n",
        "\n",
        "wgt_model_performance_explanation = widgets.Textarea(\n",
        "    value=None,\n",
        "    placeholder='<student to fill this section>',\n",
        "    description='Model Performance Explanation:',\n",
        "    disabled=False,\n",
        "    style={'description_width': 'initial'},\n",
        "    layout=widgets.Layout(height=\"100%\", width=\"auto\")\n",
        ")\n",
        "wgt_model_performance_explanation"
      ]
    },
    {
      "cell_type": "markdown",
      "metadata": {
        "id": "W1HgZMPcmtu7"
      },
      "source": [
        "### E.5 Business Impact from Current Model Performance\n",
        "\n",
        "> Provide some analysis on the model impacts from the business point of view\n"
      ]
    },
    {
      "cell_type": "code",
      "execution_count": null,
      "metadata": {
        "colab": {
          "base_uri": "https://localhost:8080/",
          "height": 364
        },
        "id": "XGq2RWyqmuKM",
        "outputId": "4c8909a9-e1d4-47ab-ad70-4628457e4ce5"
      },
      "outputs": [
        {
          "output_type": "execute_result",
          "data": {
            "text/html": [
              "\n",
              "<style>\n",
              "  #altair-viz-7f3c1377f8ca4309a7299cdfd364244d.vega-embed {\n",
              "    width: 100%;\n",
              "    display: flex;\n",
              "  }\n",
              "\n",
              "  #altair-viz-7f3c1377f8ca4309a7299cdfd364244d.vega-embed details,\n",
              "  #altair-viz-7f3c1377f8ca4309a7299cdfd364244d.vega-embed details summary {\n",
              "    position: relative;\n",
              "  }\n",
              "</style>\n",
              "<div id=\"altair-viz-7f3c1377f8ca4309a7299cdfd364244d\"></div>\n",
              "<script type=\"text/javascript\">\n",
              "  var VEGA_DEBUG = (typeof VEGA_DEBUG == \"undefined\") ? {} : VEGA_DEBUG;\n",
              "  (function(spec, embedOpt){\n",
              "    let outputDiv = document.currentScript.previousElementSibling;\n",
              "    if (outputDiv.id !== \"altair-viz-7f3c1377f8ca4309a7299cdfd364244d\") {\n",
              "      outputDiv = document.getElementById(\"altair-viz-7f3c1377f8ca4309a7299cdfd364244d\");\n",
              "    }\n",
              "\n",
              "    const paths = {\n",
              "      \"vega\": \"https://cdn.jsdelivr.net/npm/vega@5?noext\",\n",
              "      \"vega-lib\": \"https://cdn.jsdelivr.net/npm/vega-lib?noext\",\n",
              "      \"vega-lite\": \"https://cdn.jsdelivr.net/npm/vega-lite@5.20.1?noext\",\n",
              "      \"vega-embed\": \"https://cdn.jsdelivr.net/npm/vega-embed@6?noext\",\n",
              "    };\n",
              "\n",
              "    function maybeLoadScript(lib, version) {\n",
              "      var key = `${lib.replace(\"-\", \"\")}_version`;\n",
              "      return (VEGA_DEBUG[key] == version) ?\n",
              "        Promise.resolve(paths[lib]) :\n",
              "        new Promise(function(resolve, reject) {\n",
              "          var s = document.createElement('script');\n",
              "          document.getElementsByTagName(\"head\")[0].appendChild(s);\n",
              "          s.async = true;\n",
              "          s.onload = () => {\n",
              "            VEGA_DEBUG[key] = version;\n",
              "            return resolve(paths[lib]);\n",
              "          };\n",
              "          s.onerror = () => reject(`Error loading script: ${paths[lib]}`);\n",
              "          s.src = paths[lib];\n",
              "        });\n",
              "    }\n",
              "\n",
              "    function showError(err) {\n",
              "      outputDiv.innerHTML = `<div class=\"error\" style=\"color:red;\">${err}</div>`;\n",
              "      throw err;\n",
              "    }\n",
              "\n",
              "    function displayChart(vegaEmbed) {\n",
              "      vegaEmbed(outputDiv, spec, embedOpt)\n",
              "        .catch(err => showError(`Javascript Error: ${err.message}<br>This usually means there's a typo in your chart specification. See the javascript console for the full traceback.`));\n",
              "    }\n",
              "\n",
              "    if(typeof define === \"function\" && define.amd) {\n",
              "      requirejs.config({paths});\n",
              "      let deps = [\"vega-embed\"];\n",
              "      require(deps, displayChart, err => showError(`Error loading script: ${err.message}`));\n",
              "    } else {\n",
              "      maybeLoadScript(\"vega\", \"5\")\n",
              "        .then(() => maybeLoadScript(\"vega-lite\", \"5.20.1\"))\n",
              "        .then(() => maybeLoadScript(\"vega-embed\", \"6\"))\n",
              "        .catch(showError)\n",
              "        .then(() => displayChart(vegaEmbed));\n",
              "    }\n",
              "  })({\"config\": {\"view\": {\"continuousWidth\": 300, \"continuousHeight\": 300}}, \"layer\": [{\"data\": {\"name\": \"data-4cc7302ffa4b520c733628f14b303061\"}, \"mark\": {\"type\": \"line\"}, \"encoding\": {\"x\": {\"field\": \"target\", \"type\": \"quantitative\"}, \"y\": {\"field\": \"preds\", \"type\": \"quantitative\"}}}, {\"data\": {\"name\": \"data-1f6f6860f05918627a0a181d822eb138\"}, \"mark\": {\"type\": \"line\", \"color\": \"green\"}, \"encoding\": {\"x\": {\"field\": \"target\", \"type\": \"quantitative\"}, \"y\": {\"field\": \"preds\", \"type\": \"quantitative\"}}}], \"$schema\": \"https://vega.github.io/schema/vega-lite/v5.20.1.json\", \"datasets\": {\"data-4cc7302ffa4b520c733628f14b303061\": [{\"target\": 568.0, \"preds\": 571.3908682641589}, {\"target\": 581.0, \"preds\": 602.3399716431436}, {\"target\": 577.0, \"preds\": 585.6678210713476}, {\"target\": 565.0, \"preds\": 595.2438110858867}, {\"target\": 564.0, \"preds\": 573.2436121951555}, {\"target\": 568.0, \"preds\": 567.4499620442242}, {\"target\": 562.0, \"preds\": 575.5513389234305}, {\"target\": 588.0, \"preds\": 603.642352471567}, {\"target\": 568.0, \"preds\": 577.8908103360085}, {\"target\": 587.0, \"preds\": 596.188536187754}, {\"target\": 562.0, \"preds\": 562.9994096733864}, {\"target\": 564.0, \"preds\": 565.7970592403782}, {\"target\": 562.0, \"preds\": 576.8378494156636}, {\"target\": 566.0, \"preds\": 578.3590691720162}, {\"target\": 606.0, \"preds\": 572.4611688280172}, {\"target\": 563.0, \"preds\": 594.0418803487362}, {\"target\": 568.0, \"preds\": 591.7910211532494}, {\"target\": 569.0, \"preds\": 575.637034963942}, {\"target\": 563.0, \"preds\": 598.4426196321895}, {\"target\": 567.0, \"preds\": 573.1047491647693}, {\"target\": 560.0, \"preds\": 595.5912625221536}, {\"target\": 564.0, \"preds\": 596.5547359962875}, {\"target\": 565.0, \"preds\": 609.7483171101246}, {\"target\": 564.0, \"preds\": 593.6373996890918}, {\"target\": 562.0, \"preds\": 563.4638318891509}, {\"target\": 563.0, \"preds\": 564.5232880726468}, {\"target\": 566.0, \"preds\": 576.5111778544557}, {\"target\": 571.0, \"preds\": 588.1407875122691}, {\"target\": 565.0, \"preds\": 579.7331801390332}, {\"target\": 574.0, \"preds\": 624.347767924417}, {\"target\": 563.0, \"preds\": 583.1015790842337}, {\"target\": 583.0, \"preds\": 574.2069005866389}, {\"target\": 574.0, \"preds\": 602.3030598807844}, {\"target\": 571.0, \"preds\": 563.4745318174565}, {\"target\": 564.0, \"preds\": 579.3667796829227}, {\"target\": 582.0, \"preds\": 581.5367399382166}, {\"target\": 568.0, \"preds\": 610.5406634912332}, {\"target\": 571.0, \"preds\": 641.8273323503068}, {\"target\": 562.0, \"preds\": 576.6267395319917}, {\"target\": 566.0, \"preds\": 610.7113700252393}, {\"target\": 563.0, \"preds\": 569.4377226573753}, {\"target\": 568.0, \"preds\": 619.5939653622438}, {\"target\": 561.0, \"preds\": 578.5528015492506}, {\"target\": 594.0, \"preds\": 572.1686539777459}, {\"target\": 574.0, \"preds\": 567.8012110540861}, {\"target\": 565.0, \"preds\": 606.206244969952}, {\"target\": 565.0, \"preds\": 581.2936462948708}, {\"target\": 574.0, \"preds\": 573.3552428664998}, {\"target\": 569.0, \"preds\": 561.7495649368475}, {\"target\": 564.0, \"preds\": 562.9745648492926}, {\"target\": 563.0, \"preds\": 566.7757588867137}, {\"target\": 563.0, \"preds\": 605.986946663858}, {\"target\": 594.0, \"preds\": 587.9016499791683}, {\"target\": 568.0, \"preds\": 560.0357660272407}, {\"target\": 594.0, \"preds\": 560.8184027194387}, {\"target\": 560.0, \"preds\": 578.0988722586627}, {\"target\": 565.0, \"preds\": 561.9451015717143}, {\"target\": 565.0, \"preds\": 604.5984962073622}, {\"target\": 564.0, \"preds\": 584.1866963255569}, {\"target\": 565.0, \"preds\": 580.0725656927672}, {\"target\": 565.0, \"preds\": 605.2926548164853}, {\"target\": 576.0, \"preds\": 570.1698108911309}, {\"target\": 576.0, \"preds\": 560.3285076147569}, {\"target\": 564.0, \"preds\": 575.3694522865408}, {\"target\": 606.0, \"preds\": 637.0360337802357}, {\"target\": 571.0, \"preds\": 603.6280156084212}, {\"target\": 562.0, \"preds\": 596.3638865510478}, {\"target\": 562.0, \"preds\": 593.9484817841986}, {\"target\": 564.0, \"preds\": 570.596483619901}, {\"target\": 565.0, \"preds\": 565.3205736919226}, {\"target\": 574.0, \"preds\": 571.4341012005626}, {\"target\": 566.0, \"preds\": 593.3516295079786}, {\"target\": 574.0, \"preds\": 588.7221587762908}, {\"target\": 581.0, \"preds\": 580.3468571094927}, {\"target\": 564.0, \"preds\": 561.485818051881}, {\"target\": 568.0, \"preds\": 598.6482274267586}, {\"target\": 564.0, \"preds\": 580.2206108613943}, {\"target\": 583.0, \"preds\": 578.7674891244405}, {\"target\": 566.0, \"preds\": 624.0876039145713}, {\"target\": 578.0, \"preds\": 593.6587260486729}, {\"target\": 567.0, \"preds\": 596.7412356565873}, {\"target\": 563.0, \"preds\": 605.122738476126}, {\"target\": 581.0, \"preds\": 571.8411242302576}, {\"target\": 562.0, \"preds\": 572.6343600508892}, {\"target\": 568.0, \"preds\": 571.5033391497865}, {\"target\": 578.0, \"preds\": 580.341323830773}, {\"target\": 574.0, \"preds\": 577.7718642625948}, {\"target\": 583.0, \"preds\": 574.1322667302566}, {\"target\": 600.0, \"preds\": 585.6791247353158}, {\"target\": 582.0, \"preds\": 612.2457181665587}, {\"target\": 624.5, \"preds\": 571.8151727814179}, {\"target\": 563.0, \"preds\": 561.0816725302652}, {\"target\": 565.0, \"preds\": 563.4930016506083}, {\"target\": 565.0, \"preds\": 589.6025520684437}, {\"target\": 563.0, \"preds\": 590.6186866464991}, {\"target\": 565.0, \"preds\": 573.4130020928478}, {\"target\": 574.0, \"preds\": 599.134544677612}, {\"target\": 573.0, \"preds\": 597.3536840406654}, {\"target\": 562.0, \"preds\": 575.247565351484}, {\"target\": 564.0, \"preds\": 579.0782532319304}, {\"target\": 560.0, \"preds\": 559.7338381910033}, {\"target\": 573.0, \"preds\": 574.4332424063012}, {\"target\": 563.0, \"preds\": 572.4341406145434}, {\"target\": 565.0, \"preds\": 576.1561909073466}, {\"target\": 568.0, \"preds\": 577.7990816986746}, {\"target\": 578.0, \"preds\": 565.4271100303779}, {\"target\": 565.0, \"preds\": 615.6876175296304}, {\"target\": 565.0, \"preds\": 558.2408115777764}, {\"target\": 561.0, \"preds\": 577.7914676854509}, {\"target\": 561.0, \"preds\": 596.3628692672374}, {\"target\": 561.0, \"preds\": 563.9240847292629}, {\"target\": 576.0, \"preds\": 569.3466975526894}, {\"target\": 573.0, \"preds\": 565.7066240802404}, {\"target\": 567.0, \"preds\": 593.5549469286268}, {\"target\": 562.0, \"preds\": 585.1911808941798}, {\"target\": 578.0, \"preds\": 584.4734333692644}, {\"target\": 566.0, \"preds\": 565.8941259476051}, {\"target\": 574.0, \"preds\": 597.0019839429274}, {\"target\": 571.0, \"preds\": 578.8121467012904}, {\"target\": 572.0, \"preds\": 587.3034907268892}, {\"target\": 565.0, \"preds\": 580.3365657462791}, {\"target\": 565.0, \"preds\": 563.3668994894405}, {\"target\": 565.0, \"preds\": 564.1019292810305}, {\"target\": 564.0, \"preds\": 610.1829606280826}, {\"target\": 558.0, \"preds\": 579.6957710829729}, {\"target\": 565.0, \"preds\": 567.8654567093226}, {\"target\": 562.0, \"preds\": 568.5755442275288}, {\"target\": 564.0, \"preds\": 581.9035647970009}, {\"target\": 560.0, \"preds\": 574.0563515379639}, {\"target\": 562.0, \"preds\": 596.5559758759026}, {\"target\": 564.0, \"preds\": 586.2127657744567}, {\"target\": 568.0, \"preds\": 558.531888694413}, {\"target\": 564.0, \"preds\": 608.4425838487659}, {\"target\": 574.0, \"preds\": 584.4662341302563}, {\"target\": 563.0, \"preds\": 562.0058161046135}, {\"target\": 560.0, \"preds\": 574.0234257988444}, {\"target\": 567.0, \"preds\": 586.8690103532365}, {\"target\": 606.0, \"preds\": 597.1543610887139}, {\"target\": 576.0, \"preds\": 574.2113145062411}, {\"target\": 565.0, \"preds\": 644.7067300774697}, {\"target\": 571.0, \"preds\": 602.6277783376657}, {\"target\": 606.0, \"preds\": 563.5801298078067}, {\"target\": 562.0, \"preds\": 571.9803626139322}, {\"target\": 567.0, \"preds\": 566.1895878033722}, {\"target\": 564.0, \"preds\": 599.9976241690789}, {\"target\": 578.0, \"preds\": 575.3553641434247}, {\"target\": 567.0, \"preds\": 603.4819300187864}, {\"target\": 562.0, \"preds\": 573.5006441778778}, {\"target\": 565.0, \"preds\": 561.8546664115765}, {\"target\": 569.0, \"preds\": 607.2721269208973}, {\"target\": 574.0, \"preds\": 573.0689353098898}, {\"target\": 619.0, \"preds\": 577.7922363977303}, {\"target\": 571.0, \"preds\": 571.5637262840978}, {\"target\": 569.0, \"preds\": 597.0255747781267}, {\"target\": 571.0, \"preds\": 607.4158696243777}, {\"target\": 565.0, \"preds\": 560.8024172696787}, {\"target\": 578.0, \"preds\": 574.2108548593523}, {\"target\": 565.0, \"preds\": 596.7943429166028}, {\"target\": 564.0, \"preds\": 570.6568707542124}, {\"target\": 564.0, \"preds\": 573.4130020928478}, {\"target\": 572.0, \"preds\": 618.1554941206034}, {\"target\": 567.0, \"preds\": 610.4440969149025}, {\"target\": 568.0, \"preds\": 602.7492603750098}, {\"target\": 571.0, \"preds\": 558.8634238605578}, {\"target\": 562.0, \"preds\": 588.3592872808996}, {\"target\": 563.0, \"preds\": 564.8516948588931}, {\"target\": 562.0, \"preds\": 578.8482972175461}, {\"target\": 574.0, \"preds\": 582.8375670294092}, {\"target\": 567.0, \"preds\": 571.8133250954286}, {\"target\": 562.0, \"preds\": 619.216779178921}, {\"target\": 568.0, \"preds\": 581.0151610305394}, {\"target\": 561.0, \"preds\": 567.2677248874427}, {\"target\": 562.0, \"preds\": 574.4988667691922}, {\"target\": 562.0, \"preds\": 581.4095361800512}, {\"target\": 562.0, \"preds\": 604.140408660331}, {\"target\": 563.0, \"preds\": 570.609241412091}, {\"target\": 578.0, \"preds\": 586.0559939482195}, {\"target\": 565.0, \"preds\": 577.2129481299719}, {\"target\": 572.0, \"preds\": 569.1346899421507}, {\"target\": 571.0, \"preds\": 565.301526398432}, {\"target\": 569.0, \"preds\": 586.8865989902798}, {\"target\": 563.0, \"preds\": 579.421977492669}, {\"target\": 581.0, \"preds\": 577.1599504807152}, {\"target\": 594.0, \"preds\": 569.6755879505381}, {\"target\": 564.0, \"preds\": 570.4899132627427}, {\"target\": 559.0, \"preds\": 574.8058531613832}, {\"target\": 587.0, \"preds\": 568.5560687016341}, {\"target\": 571.0, \"preds\": 573.9417182862775}, {\"target\": 566.0, \"preds\": 564.0527019333631}, {\"target\": 560.0, \"preds\": 562.6752602641939}, {\"target\": 559.0, \"preds\": 564.1024467014594}, {\"target\": 573.0, \"preds\": 588.1472511028502}, {\"target\": 578.0, \"preds\": 597.8426055399394}, {\"target\": 560.0, \"preds\": 612.598643830476}, {\"target\": 576.0, \"preds\": 575.4957192193759}, {\"target\": 600.0, \"preds\": 580.9285003839673}, {\"target\": 582.0, \"preds\": 597.0196975452525}, {\"target\": 561.0, \"preds\": 578.3554339131331}, {\"target\": 574.0, \"preds\": 606.8031418076125}, {\"target\": 562.0, \"preds\": 584.2945253916438}, {\"target\": 566.0, \"preds\": 580.8359330778067}, {\"target\": 562.0, \"preds\": 567.7578993107651}, {\"target\": 566.0, \"preds\": 586.8186476264406}, {\"target\": 567.0, \"preds\": 564.5235317992422}, {\"target\": 565.0, \"preds\": 571.7148759771347}, {\"target\": 564.0, \"preds\": 563.8476024308769}, {\"target\": 574.0, \"preds\": 594.0232112430762}, {\"target\": 564.0, \"preds\": 567.8771650305418}, {\"target\": 568.0, \"preds\": 557.0435713160292}, {\"target\": 564.0, \"preds\": 569.2017303100461}, {\"target\": 563.0, \"preds\": 580.6568759645223}, {\"target\": 571.0, \"preds\": 566.7320395382341}, {\"target\": 563.0, \"preds\": 616.4252256808937}, {\"target\": 571.0, \"preds\": 614.3863113568809}, {\"target\": 565.0, \"preds\": 579.9702545154853}, {\"target\": 562.0, \"preds\": 578.3228796614321}, {\"target\": 566.0, \"preds\": 595.4613108369776}, {\"target\": 583.0, \"preds\": 597.7969479203853}, {\"target\": 564.0, \"preds\": 626.3580156423775}, {\"target\": 587.0, \"preds\": 568.3469719274457}, {\"target\": 564.0, \"preds\": 569.9418076093855}, {\"target\": 574.0, \"preds\": 571.8858932149012}, {\"target\": 563.0, \"preds\": 608.6334952881535}, {\"target\": 565.0, \"preds\": 605.7124702545601}, {\"target\": 606.0, \"preds\": 571.7293066381583}, {\"target\": 563.0, \"preds\": 596.6472670309416}, {\"target\": 574.0, \"preds\": 579.9982029626839}, {\"target\": 564.0, \"preds\": 596.1676142672511}, {\"target\": 565.0, \"preds\": 563.3294528201479}, {\"target\": 562.0, \"preds\": 577.7537867732564}, {\"target\": 563.0, \"preds\": 590.3530779282498}, {\"target\": 574.0, \"preds\": 629.0773937107339}, {\"target\": 594.0, \"preds\": 589.6893617846036}, {\"target\": 562.0, \"preds\": 594.9120005236201}, {\"target\": 574.0, \"preds\": 576.1912977676693}, {\"target\": 564.0, \"preds\": 562.5831599692655}, {\"target\": 564.0, \"preds\": 580.7308575299297}, {\"target\": 564.0, \"preds\": 574.2769496495124}, {\"target\": 578.0, \"preds\": 574.7516075118295}, {\"target\": 568.0, \"preds\": 566.654778706887}, {\"target\": 557.0, \"preds\": 571.1306548737334}, {\"target\": 587.0, \"preds\": 608.1222518037928}, {\"target\": 571.0, \"preds\": 581.3313872671849}, {\"target\": 565.0, \"preds\": 573.7091124491277}, {\"target\": 564.0, \"preds\": 566.3532973384348}, {\"target\": 568.0, \"preds\": 601.5561774924948}, {\"target\": 573.0, \"preds\": 577.8133659353844}, {\"target\": 574.0, \"preds\": 567.7515239227175}, {\"target\": 564.0, \"preds\": 566.4977628216495}, {\"target\": 568.0, \"preds\": 576.381354499923}, {\"target\": 569.0, \"preds\": 567.1061283823599}, {\"target\": 568.0, \"preds\": 563.5508187949298}, {\"target\": 562.0, \"preds\": 562.9126716344988}, {\"target\": 581.0, \"preds\": 620.1825612740753}, {\"target\": 600.0, \"preds\": 577.8543170230597}, {\"target\": 574.0, \"preds\": 563.5559778481402}, {\"target\": 581.0, \"preds\": 563.2416027325991}, {\"target\": 571.0, \"preds\": 567.482204497196}, {\"target\": 559.0, \"preds\": 582.8381993222315}, {\"target\": 581.0, \"preds\": 595.4507652730035}, {\"target\": 567.0, \"preds\": 591.1657832414843}, {\"target\": 572.0, \"preds\": 579.6735130929367}, {\"target\": 567.0, \"preds\": 555.5999411783986}, {\"target\": 567.0, \"preds\": 577.6605846458253}, {\"target\": 568.0, \"preds\": 634.6585175156174}, {\"target\": 574.0, \"preds\": 563.9059413430663}, {\"target\": 564.0, \"preds\": 567.0454348601061}, {\"target\": 565.0, \"preds\": 574.2745134948719}, {\"target\": 565.0, \"preds\": 561.6244171251703}, {\"target\": 562.0, \"preds\": 566.4277281528746}, {\"target\": 573.0, \"preds\": 571.5161223473251}, {\"target\": 562.0, \"preds\": 578.0184654378705}, {\"target\": 562.0, \"preds\": 582.6035554036741}, {\"target\": 566.0, \"preds\": 581.1662440206225}, {\"target\": 576.0, \"preds\": 601.0195408927354}, {\"target\": 573.0, \"preds\": 577.8086406288481}, {\"target\": 565.0, \"preds\": 564.3181885701606}, {\"target\": 564.0, \"preds\": 564.6766043879048}, {\"target\": 565.0, \"preds\": 565.2686597529674}, {\"target\": 559.0, \"preds\": 594.0159699350074}, {\"target\": 560.0, \"preds\": 575.48035615546}, {\"target\": 564.0, \"preds\": 597.9746127841508}, {\"target\": 581.0, \"preds\": 598.1344409574657}, {\"target\": 594.0, \"preds\": 594.8371232173942}, {\"target\": 565.0, \"preds\": 570.9339386904788}, {\"target\": 573.0, \"preds\": 568.45487528811}, {\"target\": 564.0, \"preds\": 584.2352464055491}, {\"target\": 564.0, \"preds\": 568.421489776808}, {\"target\": 564.0, \"preds\": 579.9603345384937}, {\"target\": 571.0, \"preds\": 570.6152402302075}, {\"target\": 566.0, \"preds\": 570.1418702422233}, {\"target\": 571.0, \"preds\": 568.2244008951564}, {\"target\": 581.0, \"preds\": 562.0890891808524}, {\"target\": 581.0, \"preds\": 595.7740292134204}, {\"target\": 563.0, \"preds\": 582.6751126939137}, {\"target\": 562.0, \"preds\": 587.375376830871}, {\"target\": 564.0, \"preds\": 568.9891200629135}, {\"target\": 564.0, \"preds\": 577.2423170608223}, {\"target\": 564.0, \"preds\": 563.8081289465118}, {\"target\": 572.0, \"preds\": 563.5101341333602}, {\"target\": 564.0, \"preds\": 610.8420831964683}, {\"target\": 571.0, \"preds\": 558.5427394140138}, {\"target\": 574.0, \"preds\": 569.8171243434356}, {\"target\": 562.0, \"preds\": 609.4728176751371}, {\"target\": 565.0, \"preds\": 568.9703259379681}, {\"target\": 565.0, \"preds\": 599.2066651429616}, {\"target\": 562.0, \"preds\": 577.5220376905786}, {\"target\": 568.0, \"preds\": 561.9953018075178}, {\"target\": 571.0, \"preds\": 594.9418921752861}, {\"target\": 565.0, \"preds\": 607.7338246823756}, {\"target\": 562.0, \"preds\": 570.9894665101185}, {\"target\": 567.0, \"preds\": 578.0662024098139}, {\"target\": 565.0, \"preds\": 615.6949531638479}, {\"target\": 564.0, \"preds\": 576.6697312806642}, {\"target\": 574.0, \"preds\": 603.1575648322747}, {\"target\": 563.0, \"preds\": 572.5514703050466}, {\"target\": 568.0, \"preds\": 593.7437546056074}, {\"target\": 562.0, \"preds\": 598.265956333811}, {\"target\": 564.0, \"preds\": 579.6732174073956}, {\"target\": 606.0, \"preds\": 556.9353758570262}, {\"target\": 571.0, \"preds\": 571.325365535354}, {\"target\": 564.0, \"preds\": 590.1032066210732}, {\"target\": 568.0, \"preds\": 560.5591600824434}, {\"target\": 562.0, \"preds\": 597.1339786899795}, {\"target\": 564.0, \"preds\": 570.6047934181615}, {\"target\": 563.0, \"preds\": 570.0894562811775}, {\"target\": 574.0, \"preds\": 563.029508892948}, {\"target\": 566.0, \"preds\": 577.4995535534663}, {\"target\": 564.0, \"preds\": 584.9180722057613}, {\"target\": 566.0, \"preds\": 564.6473713571166}, {\"target\": 563.0, \"preds\": 565.1342683143818}, {\"target\": 563.0, \"preds\": 576.0716821259459}, {\"target\": 565.0, \"preds\": 604.6116587021614}, {\"target\": 562.0, \"preds\": 605.9612538841537}, {\"target\": 563.0, \"preds\": 579.4621494943367}, {\"target\": 574.0, \"preds\": 582.5979313393453}, {\"target\": 567.0, \"preds\": 581.1929815509121}, {\"target\": 562.0, \"preds\": 580.3706542968328}, {\"target\": 565.0, \"preds\": 565.0284429379719}, {\"target\": 569.0, \"preds\": 568.3609233095077}, {\"target\": 568.0, \"preds\": 600.9237641706302}, {\"target\": 564.0, \"preds\": 588.7562630058585}, {\"target\": 563.0, \"preds\": 584.4445214141635}, {\"target\": 601.0, \"preds\": 584.8695677487904}, {\"target\": 566.0, \"preds\": 576.5539318820581}, {\"target\": 562.0, \"preds\": 575.6666203970709}, {\"target\": 564.0, \"preds\": 579.1689816640901}, {\"target\": 561.0, \"preds\": 571.1045072700658}, {\"target\": 563.0, \"preds\": 573.6429239806662}, {\"target\": 568.0, \"preds\": 581.5136659974561}, {\"target\": 571.0, \"preds\": 571.6353582783872}, {\"target\": 571.0, \"preds\": 572.313986091314}, {\"target\": 571.0, \"preds\": 579.288440532994}, {\"target\": 567.0, \"preds\": 626.2469099631803}, {\"target\": 562.0, \"preds\": 571.9570935541747}, {\"target\": 563.0, \"preds\": 590.950309237183}, {\"target\": 562.0, \"preds\": 598.6297863513455}, {\"target\": 562.0, \"preds\": 582.614818813575}, {\"target\": 566.0, \"preds\": 577.86706291722}, {\"target\": 562.0, \"preds\": 574.840676579537}, {\"target\": 562.0, \"preds\": 591.1233576296638}, {\"target\": 566.0, \"preds\": 603.0557967167166}, {\"target\": 583.0, \"preds\": 567.0852284267048}, {\"target\": 562.0, \"preds\": 565.9016689112874}, {\"target\": 564.0, \"preds\": 603.8878796097233}, {\"target\": 562.0, \"preds\": 567.7372772006465}, {\"target\": 564.0, \"preds\": 576.0662721528599}, {\"target\": 565.0, \"preds\": 601.3395264961898}, {\"target\": 562.0, \"preds\": 586.4332947237608}, {\"target\": 563.0, \"preds\": 574.6010845639543}, {\"target\": 562.0, \"preds\": 572.5646767808075}, {\"target\": 568.0, \"preds\": 561.420822288012}, {\"target\": 568.0, \"preds\": 599.160617984694}, {\"target\": 568.0, \"preds\": 579.9267074653279}, {\"target\": 562.0, \"preds\": 558.8908944128972}, {\"target\": 560.0, \"preds\": 564.8074556100189}, {\"target\": 594.0, \"preds\": 582.947578042862}, {\"target\": 562.0, \"preds\": 582.536708895037}, {\"target\": 571.0, \"preds\": 572.4982479082425}, {\"target\": 564.0, \"preds\": 600.2809405888662}, {\"target\": 566.0, \"preds\": 638.5898201510456}, {\"target\": 564.0, \"preds\": 572.9457483616628}, {\"target\": 567.0, \"preds\": 556.0824326219514}, {\"target\": 565.0, \"preds\": 561.5090463553297}, {\"target\": 574.0, \"preds\": 578.5093989889847}, {\"target\": 584.0, \"preds\": 564.4978407141176}, {\"target\": 571.0, \"preds\": 566.1735301539363}, {\"target\": 599.0, \"preds\": 566.876498989796}, {\"target\": 573.0, \"preds\": 580.3441748565269}, {\"target\": 567.0, \"preds\": 585.5661145390486}, {\"target\": 564.0, \"preds\": 608.8609522669732}, {\"target\": 581.0, \"preds\": 572.8918473763949}, {\"target\": 565.0, \"preds\": 560.0180057283754}, {\"target\": 564.0, \"preds\": 614.8109340475846}, {\"target\": 567.0, \"preds\": 556.968508040619}, {\"target\": 558.0, \"preds\": 579.0453025233927}, {\"target\": 565.0, \"preds\": 594.9954293324786}, {\"target\": 568.0, \"preds\": 605.122738476126}, {\"target\": 574.0, \"preds\": 624.6050540330958}, {\"target\": 563.0, \"preds\": 576.2718515611363}, {\"target\": 573.0, \"preds\": 590.2283714471902}, {\"target\": 583.0, \"preds\": 585.896326942525}, {\"target\": 568.0, \"preds\": 578.8215596872565}, {\"target\": 563.0, \"preds\": 560.9393500559178}, {\"target\": 568.0, \"preds\": 576.9993878017124}, {\"target\": 568.0, \"preds\": 575.9781953280661}, {\"target\": 562.0, \"preds\": 582.676510279499}, {\"target\": 568.0, \"preds\": 581.7941323783745}, {\"target\": 564.0, \"preds\": 571.8749977446757}, {\"target\": 568.0, \"preds\": 578.8216353969884}, {\"target\": 563.0, \"preds\": 564.7705531248369}, {\"target\": 578.0, \"preds\": 583.3010912025813}, {\"target\": 565.0, \"preds\": 580.7851724397672}, {\"target\": 572.0, \"preds\": 573.8019441911991}, {\"target\": 581.0, \"preds\": 561.7390439528801}, {\"target\": 563.0, \"preds\": 562.4927638034561}, {\"target\": 568.0, \"preds\": 585.4205912970498}, {\"target\": 573.0, \"preds\": 580.8812302490791}, {\"target\": 569.0, \"preds\": 614.7856300190784}, {\"target\": 563.0, \"preds\": 572.509998049047}, {\"target\": 571.0, \"preds\": 560.3782516955052}, {\"target\": 560.0, \"preds\": 602.301265140852}, {\"target\": 606.0, \"preds\": 558.2149802708258}, {\"target\": 587.0, \"preds\": 602.0968909740894}, {\"target\": 558.0, \"preds\": 614.7467028746073}, {\"target\": 559.0, \"preds\": 617.4143580076584}, {\"target\": 562.0, \"preds\": 583.2686737685349}, {\"target\": 624.5, \"preds\": 581.4526826275048}, {\"target\": 563.0, \"preds\": 571.101001655532}, {\"target\": 564.0, \"preds\": 581.5136659974561}, {\"target\": 562.0, \"preds\": 602.441714119957}, {\"target\": 624.5, \"preds\": 571.6553068558328}, {\"target\": 565.0, \"preds\": 559.4257511939198}, {\"target\": 613.0, \"preds\": 571.3928748203301}, {\"target\": 562.0, \"preds\": 592.4232853546297}, {\"target\": 571.0, \"preds\": 595.1432222025063}, {\"target\": 587.0, \"preds\": 605.1814293559594}, {\"target\": 578.0, \"preds\": 573.3808566424565}, {\"target\": 587.0, \"preds\": 560.7095791956122}, {\"target\": 624.5, \"preds\": 615.7361795440804}, {\"target\": 613.0, \"preds\": 558.8241392841383}, {\"target\": 624.5, \"preds\": 590.3246975587814}, {\"target\": 573.0, \"preds\": 565.8192161508225}, {\"target\": 624.5, \"preds\": 576.7180256817084}, {\"target\": 624.5, \"preds\": 576.6516661349165}, {\"target\": 583.0, \"preds\": 567.5178975987088}, {\"target\": 597.0, \"preds\": 577.4738131924853}, {\"target\": 596.0, \"preds\": 559.9556326077915}, {\"target\": 618.0, \"preds\": 580.0125451875895}, {\"target\": 591.0, \"preds\": 569.5931351900732}, {\"target\": 598.0, \"preds\": 587.7592127823214}, {\"target\": 624.5, \"preds\": 558.1820765875344}, {\"target\": 624.5, \"preds\": 575.8611726503738}, {\"target\": 583.0, \"preds\": 580.2588710703081}, {\"target\": 565.0, \"preds\": 625.8273588605218}, {\"target\": 581.0, \"preds\": 566.0552087343692}, {\"target\": 587.0, \"preds\": 567.5003746806564}, {\"target\": 573.0, \"preds\": 562.1753508581205}, {\"target\": 580.0, \"preds\": 561.1328298869403}, {\"target\": 585.0, \"preds\": 580.4540036665386}, {\"target\": 596.0, \"preds\": 608.4435386260437}, {\"target\": 624.5, \"preds\": 585.8010606507837}, {\"target\": 594.0, \"preds\": 604.3912207494371}, {\"target\": 624.5, \"preds\": 560.6219371105822}, {\"target\": 581.0, \"preds\": 576.4011133932217}, {\"target\": 587.0, \"preds\": 605.6431271174378}, {\"target\": 612.0, \"preds\": 571.9216288026273}, {\"target\": 624.5, \"preds\": 575.9646560860491}, {\"target\": 596.0, \"preds\": 567.9508000142673}, {\"target\": 613.0, \"preds\": 570.1716006459886}, {\"target\": 624.5, \"preds\": 560.5158468183778}, {\"target\": 624.5, \"preds\": 594.7485795887158}, {\"target\": 624.5, \"preds\": 583.043595095865}, {\"target\": 606.0, \"preds\": 561.7956596850271}, {\"target\": 624.5, \"preds\": 602.5902246150088}, {\"target\": 572.0, \"preds\": 634.1768021952964}, {\"target\": 591.0, \"preds\": 557.5646460302162}, {\"target\": 591.0, \"preds\": 601.2696181301668}, {\"target\": 572.0, \"preds\": 562.3626900617414}, {\"target\": 596.0, \"preds\": 594.213297495235}, {\"target\": 624.5, \"preds\": 572.4690096969478}, {\"target\": 606.0, \"preds\": 594.1700370960409}, {\"target\": 624.5, \"preds\": 593.0856091575068}, {\"target\": 594.0, \"preds\": 581.5828803504569}, {\"target\": 624.5, \"preds\": 561.2535266247879}, {\"target\": 573.0, \"preds\": 596.2389053921337}, {\"target\": 624.5, \"preds\": 611.9309123365588}, {\"target\": 624.5, \"preds\": 565.8070247314794}, {\"target\": 609.0, \"preds\": 561.0030086914375}, {\"target\": 624.5, \"preds\": 563.9183804264505}, {\"target\": 624.5, \"preds\": 607.1158956447078}, {\"target\": 608.0, \"preds\": 583.5206421562339}, {\"target\": 624.5, \"preds\": 597.3686042407644}, {\"target\": 619.0, \"preds\": 584.1318716483124}, {\"target\": 619.0, \"preds\": 574.1322667302566}, {\"target\": 594.0, \"preds\": 567.6189557810794}, {\"target\": 624.5, \"preds\": 572.5492456528109}, {\"target\": 619.0, \"preds\": 576.8890775052214}, {\"target\": 606.0, \"preds\": 558.6750949821054}, {\"target\": 624.5, \"preds\": 558.9425676051756}, {\"target\": 624.5, \"preds\": 570.6965250174094}, {\"target\": 624.5, \"preds\": 557.25606030357}, {\"target\": 606.0, \"preds\": 568.576665178209}, {\"target\": 619.0, \"preds\": 591.3934734990386}, {\"target\": 624.5, \"preds\": 584.5593373547849}, {\"target\": 624.5, \"preds\": 606.5538190886076}, {\"target\": 624.5, \"preds\": 593.9219857374228}, {\"target\": 596.0, \"preds\": 614.3040481765763}, {\"target\": 588.0, \"preds\": 588.5431164834337}, {\"target\": 624.5, \"preds\": 604.107874621275}, {\"target\": 624.5, \"preds\": 562.0600853503901}, {\"target\": 600.0, \"preds\": 603.7196955523182}, {\"target\": 624.5, \"preds\": 563.3938244302657}, {\"target\": 578.0, \"preds\": 561.7725249380169}, {\"target\": 624.5, \"preds\": 593.0147396139068}, {\"target\": 624.5, \"preds\": 573.0558007371321}, {\"target\": 624.5, \"preds\": 592.258942742151}, {\"target\": 572.0, \"preds\": 579.4327805634863}, {\"target\": 578.0, \"preds\": 569.1231421809503}, {\"target\": 624.5, \"preds\": 574.5088284228763}, {\"target\": 624.5, \"preds\": 575.0968104335827}, {\"target\": 596.0, \"preds\": 578.7674224672716}, {\"target\": 624.5, \"preds\": 572.3549968699256}, {\"target\": 600.0, \"preds\": 580.053771567822}, {\"target\": 574.0, \"preds\": 597.7884478992546}, {\"target\": 588.0, \"preds\": 611.6662273686534}, {\"target\": 624.5, \"preds\": 583.5485989336773}, {\"target\": 587.0, \"preds\": 585.1376229912656}, {\"target\": 619.0, \"preds\": 583.2742070472545}, {\"target\": 624.5, \"preds\": 559.8044829147545}, {\"target\": 619.0, \"preds\": 566.7784578475844}, {\"target\": 624.5, \"preds\": 577.0368628272321}, {\"target\": 624.5, \"preds\": 572.8255454945705}, {\"target\": 582.0, \"preds\": 569.6673666996572}, {\"target\": 581.0, \"preds\": 585.9966982020784}, {\"target\": 596.0, \"preds\": 585.2284107779495}, {\"target\": 624.5, \"preds\": 570.8554718209749}, {\"target\": 594.0, \"preds\": 585.2463586564744}, {\"target\": 624.5, \"preds\": 555.1971927801868}, {\"target\": 590.0, \"preds\": 607.5086491897243}, {\"target\": 624.5, \"preds\": 569.082191093275}, {\"target\": 590.0, \"preds\": 561.9366017516126}, {\"target\": 624.5, \"preds\": 591.2702986348994}, {\"target\": 578.0, \"preds\": 572.446360594033}, {\"target\": 565.0, \"preds\": 574.3649566172701}, {\"target\": 619.0, \"preds\": 564.1354500338368}, {\"target\": 606.0, \"preds\": 602.6320754690347}, {\"target\": 624.5, \"preds\": 556.0905387166207}, {\"target\": 624.5, \"preds\": 560.3466710949025}, {\"target\": 606.0, \"preds\": 628.4572765127866}, {\"target\": 581.0, \"preds\": 573.2079025903616}, {\"target\": 624.5, \"preds\": 590.644280772772}, {\"target\": 600.0, \"preds\": 573.4576899438439}, {\"target\": 624.5, \"preds\": 588.8600449831753}, {\"target\": 564.0, \"preds\": 563.9006000801336}, {\"target\": 574.0, \"preds\": 561.8203310428465}, {\"target\": 600.0, \"preds\": 567.2825331214269}, {\"target\": 596.0, \"preds\": 604.7974493148321}, {\"target\": 576.0, \"preds\": 615.4389023742228}, {\"target\": 597.0, \"preds\": 576.0406059632888}, {\"target\": 566.0, \"preds\": 558.1616678331585}, {\"target\": 624.5, \"preds\": 562.0870208647814}, {\"target\": 604.0, \"preds\": 638.8140083718896}, {\"target\": 624.5, \"preds\": 576.1109444394335}, {\"target\": 624.5, \"preds\": 631.862629585519}, {\"target\": 624.5, \"preds\": 573.2697958051554}, {\"target\": 624.5, \"preds\": 591.8615673549671}, {\"target\": 624.5, \"preds\": 559.8632883367653}, {\"target\": 585.0, \"preds\": 573.1024560626961}, {\"target\": 624.5, \"preds\": 622.7485225951378}, {\"target\": 606.0, \"preds\": 629.0714986891167}, {\"target\": 624.5, \"preds\": 572.3274559242484}, {\"target\": 624.5, \"preds\": 582.4809086616528}, {\"target\": 614.0, \"preds\": 585.7776983229855}, {\"target\": 597.0, \"preds\": 563.6900129629885}, {\"target\": 624.5, \"preds\": 579.1786748626143}, {\"target\": 597.0, \"preds\": 572.1129560555938}, {\"target\": 587.0, \"preds\": 581.7773041922501}, {\"target\": 597.0, \"preds\": 563.8074284444865}, {\"target\": 568.0, \"preds\": 575.2536204458481}, {\"target\": 624.5, \"preds\": 582.6035554036741}, {\"target\": 594.0, \"preds\": 562.1134165845173}, {\"target\": 609.0, \"preds\": 595.7497179477461}, {\"target\": 586.0, \"preds\": 569.7235599863628}, {\"target\": 600.0, \"preds\": 577.6492175205735}, {\"target\": 613.0, \"preds\": 586.1268318204051}, {\"target\": 601.0, \"preds\": 581.41495917603}, {\"target\": 624.0, \"preds\": 578.6871806182536}, {\"target\": 624.5, \"preds\": 577.7278813594012}, {\"target\": 624.5, \"preds\": 576.2616186991019}, {\"target\": 624.5, \"preds\": 586.4715237409363}, {\"target\": 613.0, \"preds\": 560.416837608096}, {\"target\": 624.5, \"preds\": 571.8704474970473}, {\"target\": 624.5, \"preds\": 587.639015025665}, {\"target\": 624.5, \"preds\": 585.1926039010987}, {\"target\": 619.0, \"preds\": 575.7437268947295}, {\"target\": 601.0, \"preds\": 577.7503136146885}, {\"target\": 624.5, \"preds\": 608.0168420304186}, {\"target\": 624.5, \"preds\": 572.0277382779259}, {\"target\": 624.5, \"preds\": 571.5033391497865}, {\"target\": 624.5, \"preds\": 576.7249290904106}, {\"target\": 609.0, \"preds\": 558.8634238605578}, {\"target\": 590.0, \"preds\": 620.6552960184124}, {\"target\": 624.5, \"preds\": 584.236313099794}, {\"target\": 624.5, \"preds\": 579.0865289036252}, {\"target\": 624.5, \"preds\": 567.1391278228349}, {\"target\": 624.5, \"preds\": 570.5856329003003}, {\"target\": 624.5, \"preds\": 595.5499688620552}, {\"target\": 578.0, \"preds\": 629.6990562735172}, {\"target\": 580.0, \"preds\": 579.8898878400665}, {\"target\": 624.5, \"preds\": 628.8611175996426}, {\"target\": 579.0, \"preds\": 572.7360684507809}, {\"target\": 624.5, \"preds\": 562.855961572572}, {\"target\": 624.5, \"preds\": 563.2024271824448}, {\"target\": 613.0, \"preds\": 573.702707379315}, {\"target\": 594.0, \"preds\": 602.4520784336441}, {\"target\": 619.0, \"preds\": 582.6184677466601}, {\"target\": 619.0, \"preds\": 613.7125022875357}, {\"target\": 609.0, \"preds\": 590.0845166581698}, {\"target\": 580.0, \"preds\": 600.9771518352078}, {\"target\": 624.5, \"preds\": 615.5712740231505}, {\"target\": 606.0, \"preds\": 595.2935242918247}, {\"target\": 606.0, \"preds\": 572.4890099811843}, {\"target\": 624.5, \"preds\": 602.3454063072633}, {\"target\": 609.0, \"preds\": 571.7739464011854}, {\"target\": 606.0, \"preds\": 574.8751358612317}, {\"target\": 619.0, \"preds\": 569.0370216415778}, {\"target\": 569.0, \"preds\": 586.5499792296989}, {\"target\": 619.0, \"preds\": 565.0196483264125}, {\"target\": 599.0, \"preds\": 568.4627161570404}, {\"target\": 624.5, \"preds\": 559.3526909004161}, {\"target\": 617.0, \"preds\": 599.4341147586377}, {\"target\": 624.5, \"preds\": 563.5666777764457}, {\"target\": 606.0, \"preds\": 641.0553772860384}, {\"target\": 585.0, \"preds\": 580.7710099648908}, {\"target\": 597.0, \"preds\": 592.0556459711964}, {\"target\": 624.5, \"preds\": 565.7333616105301}, {\"target\": 613.0, \"preds\": 556.2461806218047}, {\"target\": 624.5, \"preds\": 609.1334843950842}, {\"target\": 624.5, \"preds\": 564.4062975825739}, {\"target\": 624.5, \"preds\": 572.9462885678685}, {\"target\": 591.0, \"preds\": 559.5919174182466}, {\"target\": 624.5, \"preds\": 575.2444229970625}, {\"target\": 624.5, \"preds\": 596.0379393795446}, {\"target\": 624.5, \"preds\": 573.8198163722412}, {\"target\": 624.5, \"preds\": 604.8684195601504}, {\"target\": 565.0, \"preds\": 562.4992881858248}, {\"target\": 624.5, \"preds\": 564.6388730167046}, {\"target\": 624.5, \"preds\": 578.4131848870691}, {\"target\": 624.5, \"preds\": 572.4406244227583}, {\"target\": 624.5, \"preds\": 572.5316480432706}, {\"target\": 624.5, \"preds\": 619.3667236634087}, {\"target\": 587.0, \"preds\": 579.6175883575781}, {\"target\": 624.5, \"preds\": 563.0677175380631}, {\"target\": 624.5, \"preds\": 574.3272979478602}, {\"target\": 579.0, \"preds\": 583.9187374651334}, {\"target\": 578.0, \"preds\": 599.0483515088763}, {\"target\": 624.5, \"preds\": 565.6061156809013}, {\"target\": 624.5, \"preds\": 593.4372599291715}, {\"target\": 624.5, \"preds\": 573.3531028472619}, {\"target\": 581.0, \"preds\": 589.8496581654915}, {\"target\": 574.0, \"preds\": 587.8841285315111}, {\"target\": 606.0, \"preds\": 564.9107113483265}, {\"target\": 574.0, \"preds\": 595.3882773590625}, {\"target\": 587.0, \"preds\": 575.4490418489997}, {\"target\": 599.0, \"preds\": 572.1070988701713}, {\"target\": 624.5, \"preds\": 565.7671262550933}, {\"target\": 613.0, \"preds\": 568.8237227904494}, {\"target\": 600.0, \"preds\": 579.1457533606413}, {\"target\": 624.5, \"preds\": 602.5534496024655}, {\"target\": 600.0, \"preds\": 582.1667358413904}, {\"target\": 566.0, \"preds\": 575.8270456350293}, {\"target\": 624.5, \"preds\": 574.151188849061}, {\"target\": 624.5, \"preds\": 580.3464216595978}, {\"target\": 587.0, \"preds\": 571.4934588860997}, {\"target\": 624.5, \"preds\": 559.8357269981043}, {\"target\": 601.0, \"preds\": 577.0734381406854}, {\"target\": 624.5, \"preds\": 599.5073535254297}, {\"target\": 624.5, \"preds\": 566.2651944184331}, {\"target\": 565.0, \"preds\": 600.2145116450262}, {\"target\": 619.0, \"preds\": 573.076343741821}, {\"target\": 561.0, \"preds\": 560.4955014469236}, {\"target\": 596.0, \"preds\": 595.6896386429127}, {\"target\": 619.0, \"preds\": 575.5965826228171}, {\"target\": 582.0, \"preds\": 597.4350546575131}, {\"target\": 590.0, \"preds\": 556.7406096537118}, {\"target\": 565.0, \"preds\": 567.4250160652372}, {\"target\": 624.5, \"preds\": 563.3941169255204}, {\"target\": 574.0, \"preds\": 568.0654563943554}, {\"target\": 624.5, \"preds\": 567.6194275374476}, {\"target\": 624.5, \"preds\": 568.5188264188843}, {\"target\": 594.0, \"preds\": 567.7457005117811}, {\"target\": 624.5, \"preds\": 573.6251636818009}, {\"target\": 581.0, \"preds\": 560.9620200891235}, {\"target\": 624.5, \"preds\": 558.1512970193479}, {\"target\": 624.5, \"preds\": 562.5408811951909}, {\"target\": 578.0, \"preds\": 569.2131929612287}, {\"target\": 617.0, \"preds\": 581.805375238582}, {\"target\": 568.0, \"preds\": 571.3773833919181}, {\"target\": 596.0, \"preds\": 557.1840543551511}, {\"target\": 596.0, \"preds\": 565.3539326127602}, {\"target\": 583.0, \"preds\": 574.9660884417983}, {\"target\": 562.0, \"preds\": 557.8306125728041}, {\"target\": 574.0, \"preds\": 560.0180057283754}, {\"target\": 606.0, \"preds\": 562.9123442359111}, {\"target\": 591.0, \"preds\": 584.6034697644884}, {\"target\": 613.0, \"preds\": 580.4938112600129}, {\"target\": 624.5, \"preds\": 580.4938112600129}, {\"target\": 624.5, \"preds\": 571.0566989453743}, {\"target\": 606.0, \"preds\": 568.5540355259045}, {\"target\": 624.5, \"preds\": 562.3406582481163}, {\"target\": 576.0, \"preds\": 565.0803317318713}, {\"target\": 586.0, \"preds\": 579.7994447176684}, {\"target\": 590.0, \"preds\": 570.6913042088084}, {\"target\": 622.0, \"preds\": 572.9243362183714}, {\"target\": 609.0, \"preds\": 577.4108244376976}, {\"target\": 624.5, \"preds\": 563.0563318450492}, {\"target\": 621.0, \"preds\": 571.0982006181638}, {\"target\": 624.5, \"preds\": 567.7599472338521}, {\"target\": 624.5, \"preds\": 567.6443622897943}, {\"target\": 585.0, \"preds\": 566.7784578475844}, {\"target\": 613.0, \"preds\": 557.3306575026699}, {\"target\": 624.5, \"preds\": 580.8486992308683}, {\"target\": 583.0, \"preds\": 581.237273521149}, {\"target\": 624.5, \"preds\": 564.1403440183931}, {\"target\": 608.0, \"preds\": 588.3795219802499}, {\"target\": 624.5, \"preds\": 606.6067434617974}, {\"target\": 624.5, \"preds\": 571.8601895106915}, {\"target\": 623.0, \"preds\": 558.8868899419249}, {\"target\": 624.5, \"preds\": 566.7784578475844}, {\"target\": 617.0, \"preds\": 569.7235599863628}, {\"target\": 605.0, \"preds\": 557.7702254384926}, {\"target\": 624.5, \"preds\": 576.9732791454301}, {\"target\": 587.0, \"preds\": 556.1225014811073}, {\"target\": 624.5, \"preds\": 567.6301155677234}, {\"target\": 600.0, \"preds\": 574.5856367547854}, {\"target\": 624.5, \"preds\": 563.8476024308769}, {\"target\": 574.0, \"preds\": 574.3195302241455}, {\"target\": 605.0, \"preds\": 567.8538959707842}, {\"target\": 624.5, \"preds\": 574.7930716699803}, {\"target\": 624.5, \"preds\": 558.1512970193479}, {\"target\": 624.5, \"preds\": 575.2013982015543}, {\"target\": 588.0, \"preds\": 585.3065547708147}, {\"target\": 609.0, \"preds\": 571.2769737339011}, {\"target\": 624.5, \"preds\": 591.166608182197}, {\"target\": 613.0, \"preds\": 567.2677248874427}, {\"target\": 624.5, \"preds\": 576.2768363247541}, {\"target\": 624.5, \"preds\": 579.7523611520135}, {\"target\": 581.0, \"preds\": 588.6097633043956}, {\"target\": 567.0, \"preds\": 586.6858446324852}, {\"target\": 624.5, \"preds\": 585.0892311898128}, {\"target\": 624.5, \"preds\": 558.3563965218341}, {\"target\": 624.5, \"preds\": 585.3236996231494}, {\"target\": 624.5, \"preds\": 567.3788756529968}, {\"target\": 624.5, \"preds\": 566.9551546849901}, {\"target\": 624.5, \"preds\": 579.0118541974285}, {\"target\": 624.5, \"preds\": 559.0302096902055}, {\"target\": 624.5, \"preds\": 579.4814096220334}, {\"target\": 624.5, \"preds\": 562.1575905592553}, {\"target\": 624.5, \"preds\": 570.9963118110628}, {\"target\": 624.5, \"preds\": 565.7375966196406}, {\"target\": 624.5, \"preds\": 573.9271672277703}, {\"target\": 624.5, \"preds\": 578.873723773713}, {\"target\": 624.5, \"preds\": 590.2274365643322}, {\"target\": 606.0, \"preds\": 565.4010161784151}, {\"target\": 614.0, \"preds\": 576.200556188476}, {\"target\": 624.5, \"preds\": 573.633737731945}, {\"target\": 624.5, \"preds\": 643.5842807403998}, {\"target\": 624.5, \"preds\": 610.7737460464867}, {\"target\": 573.0, \"preds\": 595.0221528870915}, {\"target\": 624.5, \"preds\": 596.3182385212588}, {\"target\": 624.5, \"preds\": 610.0629096557878}, {\"target\": 569.0, \"preds\": 601.6756371693781}, {\"target\": 619.0, \"preds\": 598.9877413273817}, {\"target\": 600.0, \"preds\": 620.0591373188819}, {\"target\": 622.0, \"preds\": 618.8325329457005}, {\"target\": 578.0, \"preds\": 608.218748880307}, {\"target\": 594.0, \"preds\": 606.7252556962715}, {\"target\": 624.5, \"preds\": 615.9126753738741}, {\"target\": 624.5, \"preds\": 602.5122353584148}, {\"target\": 586.0, \"preds\": 620.0680986768742}, {\"target\": 624.5, \"preds\": 595.3356169316784}, {\"target\": 624.5, \"preds\": 603.9008917302734}, {\"target\": 613.0, \"preds\": 639.721526187188}, {\"target\": 576.0, \"preds\": 596.1913253048498}, {\"target\": 624.5, \"preds\": 596.4240102924749}, {\"target\": 624.5, \"preds\": 610.2831055968884}, {\"target\": 624.5, \"preds\": 605.0549431251638}, {\"target\": 624.5, \"preds\": 601.6571270945877}, {\"target\": 624.5, \"preds\": 601.6042241744487}, {\"target\": 600.0, \"preds\": 599.8013742124708}, {\"target\": 581.0, \"preds\": 622.1922072725303}, {\"target\": 587.0, \"preds\": 593.3440734278728}, {\"target\": 624.5, \"preds\": 599.1613524542312}, {\"target\": 588.0, \"preds\": 606.7801680459436}, {\"target\": 597.0, \"preds\": 621.0584375438544}, {\"target\": 624.5, \"preds\": 588.2210550769336}, {\"target\": 603.0, \"preds\": 621.7978105361767}, {\"target\": 590.0, \"preds\": 590.3641087370513}, {\"target\": 601.0, \"preds\": 598.98053648368}, {\"target\": 586.0, \"preds\": 621.7338995062726}, {\"target\": 624.5, \"preds\": 610.7655549575492}, {\"target\": 624.5, \"preds\": 601.8289673639763}, {\"target\": 579.0, \"preds\": 626.2968197134501}, {\"target\": 624.5, \"preds\": 593.9193954703819}, {\"target\": 586.0, \"preds\": 600.0466894279624}, {\"target\": 624.5, \"preds\": 620.6514672242384}, {\"target\": 619.0, \"preds\": 605.9735101225881}, {\"target\": 624.5, \"preds\": 596.9482083994899}, {\"target\": 606.0, \"preds\": 595.3782814914663}, {\"target\": 624.5, \"preds\": 616.5138659689488}, {\"target\": 573.0, \"preds\": 647.462995971516}, {\"target\": 619.0, \"preds\": 601.3548626549808}, {\"target\": 610.0, \"preds\": 606.674664422036}, {\"target\": 624.5, \"preds\": 620.3068427899752}, {\"target\": 600.0, \"preds\": 590.2507224730923}, {\"target\": 597.0, \"preds\": 589.6601136071199}, {\"target\": 615.0, \"preds\": 607.5940396205573}, {\"target\": 601.0, \"preds\": 601.7820766659353}, {\"target\": 606.0, \"preds\": 596.9231782046579}, {\"target\": 596.0, \"preds\": 592.6177441210416}, {\"target\": 577.0, \"preds\": 599.9397777208384}, {\"target\": 624.5, \"preds\": 602.0027524289251}, {\"target\": 624.5, \"preds\": 598.4206824266412}, {\"target\": 600.0, \"preds\": 622.1419759537329}, {\"target\": 606.0, \"preds\": 613.8538510973158}, {\"target\": 615.0, \"preds\": 603.3443747434625}, {\"target\": 619.0, \"preds\": 597.9478138947156}, {\"target\": 565.0, \"preds\": 604.4847727601372}, {\"target\": 589.0, \"preds\": 611.2542572070588}, {\"target\": 613.0, \"preds\": 629.4481025330605}, {\"target\": 604.0, \"preds\": 640.9292026522345}, {\"target\": 624.5, \"preds\": 611.4029129743308}, {\"target\": 606.0, \"preds\": 604.5417257351173}, {\"target\": 624.5, \"preds\": 596.6759639694869}, {\"target\": 624.5, \"preds\": 614.8057049472094}, {\"target\": 624.5, \"preds\": 596.6175927369198}, {\"target\": 606.0, \"preds\": 639.2415647079146}, {\"target\": 622.0, \"preds\": 591.7933324614108}, {\"target\": 624.5, \"preds\": 604.3544593631012}, {\"target\": 624.5, \"preds\": 605.2699762232063}, {\"target\": 619.0, \"preds\": 621.7979840885648}, {\"target\": 624.0, \"preds\": 590.013340407335}, {\"target\": 624.5, \"preds\": 609.3720551020193}, {\"target\": 624.5, \"preds\": 588.5235852953165}, {\"target\": 610.0, \"preds\": 623.0033596664503}, {\"target\": 581.0, \"preds\": 602.1118538953177}, {\"target\": 624.5, \"preds\": 614.9850476552851}, {\"target\": 624.5, \"preds\": 620.23603736875}, {\"target\": 587.0, \"preds\": 600.2261119360745}, {\"target\": 624.5, \"preds\": 587.7115855867922}, {\"target\": 624.5, \"preds\": 623.0836873111554}, {\"target\": 578.0, \"preds\": 625.7028554753097}, {\"target\": 624.5, \"preds\": 622.6759405963251}, {\"target\": 613.0, \"preds\": 622.8130350774533}, {\"target\": 605.0, \"preds\": 607.719981040788}, {\"target\": 571.0, \"preds\": 622.7787604883362}, {\"target\": 624.5, \"preds\": 609.82819493117}, {\"target\": 624.5, \"preds\": 623.8944043379274}, {\"target\": 624.5, \"preds\": 629.7767514876839}, {\"target\": 587.0, \"preds\": 612.4091563566961}, {\"target\": 624.5, \"preds\": 600.7091720687721}, {\"target\": 624.5, \"preds\": 597.6513098041648}, {\"target\": 624.5, \"preds\": 599.4161245695715}, {\"target\": 587.0, \"preds\": 615.1102626199544}, {\"target\": 600.0, \"preds\": 604.5994101828759}, {\"target\": 590.0, \"preds\": 606.5520806278197}, {\"target\": 587.0, \"preds\": 637.8868302135328}, {\"target\": 624.5, \"preds\": 605.610517714356}, {\"target\": 622.0, \"preds\": 600.8964721654198}, {\"target\": 624.5, \"preds\": 609.1557759487935}, {\"target\": 624.5, \"preds\": 603.9209896545494}, {\"target\": 594.0, \"preds\": 603.7555760560615}, {\"target\": 581.0, \"preds\": 598.310470469586}, {\"target\": 624.5, \"preds\": 601.6845208276383}, {\"target\": 606.0, \"preds\": 606.8727650743637}, {\"target\": 582.0, \"preds\": 625.1265530621082}, {\"target\": 610.0, \"preds\": 609.2875293481208}, {\"target\": 624.5, \"preds\": 602.1871477623444}, {\"target\": 624.5, \"preds\": 630.442182748704}, {\"target\": 564.0, \"preds\": 594.5462536019611}, {\"target\": 582.0, \"preds\": 609.6980994704372}, {\"target\": 614.0, \"preds\": 632.6321224167696}, {\"target\": 624.5, \"preds\": 642.5013403603061}, {\"target\": 574.0, \"preds\": 613.6956367781539}, {\"target\": 624.5, \"preds\": 600.8477148321795}, {\"target\": 624.5, \"preds\": 621.762227821906}, {\"target\": 624.5, \"preds\": 607.9957911116976}, {\"target\": 624.5, \"preds\": 606.0534468757768}, {\"target\": 624.5, \"preds\": 596.2594742016239}, {\"target\": 572.0, \"preds\": 596.8235381858317}, {\"target\": 624.5, \"preds\": 609.7850660193693}, {\"target\": 624.5, \"preds\": 607.6226739168214}, {\"target\": 624.5, \"preds\": 601.6378700240231}, {\"target\": 624.5, \"preds\": 605.3481304277542}, {\"target\": 622.0, \"preds\": 591.916932654668}, {\"target\": 572.0, \"preds\": 644.185871964312}, {\"target\": 613.0, \"preds\": 605.2819138658746}, {\"target\": 624.5, \"preds\": 581.1034669924837}, {\"target\": 624.5, \"preds\": 565.4171113424898}, {\"target\": 608.0, \"preds\": 597.3830555237827}, {\"target\": 590.0, \"preds\": 572.8638358074035}, {\"target\": 624.5, \"preds\": 593.1658510065248}, {\"target\": 624.5, \"preds\": 583.1274668793058}, {\"target\": 563.0, \"preds\": 561.6902758688939}, {\"target\": 610.0, \"preds\": 573.4645620084697}, {\"target\": 624.5, \"preds\": 582.2931998872683}, {\"target\": 624.5, \"preds\": 589.7535518275414}, {\"target\": 624.5, \"preds\": 573.4457678835245}, {\"target\": 624.5, \"preds\": 583.8836636103323}, {\"target\": 574.0, \"preds\": 575.446855661555}, {\"target\": 572.0, \"preds\": 576.9815885085187}, {\"target\": 582.0, \"preds\": 581.1034669924837}, {\"target\": 580.0, \"preds\": 566.9824363993903}, {\"target\": 624.5, \"preds\": 567.4881947949667}, {\"target\": 594.0, \"preds\": 581.0165800535152}, {\"target\": 624.5, \"preds\": 581.633856577868}, {\"target\": 624.5, \"preds\": 565.9951882291916}, {\"target\": 583.0, \"preds\": 567.9507067850626}, {\"target\": 577.0, \"preds\": 611.445317053392}, {\"target\": 624.5, \"preds\": 566.7006042747269}, {\"target\": 619.0, \"preds\": 582.8675817482701}, {\"target\": 579.0, \"preds\": 595.6657686539907}, {\"target\": 624.5, \"preds\": 582.2758091591667}, {\"target\": 594.0, \"preds\": 580.001845259284}, {\"target\": 574.0, \"preds\": 567.9213763190029}, {\"target\": 619.0, \"preds\": 580.7957215767775}, {\"target\": 624.5, \"preds\": 575.9394965189232}, {\"target\": 574.0, \"preds\": 583.1793931878437}, {\"target\": 624.5, \"preds\": 583.1399873991846}, {\"target\": 624.5, \"preds\": 611.523292837844}, {\"target\": 571.0, \"preds\": 581.1180937607228}, {\"target\": 581.0, \"preds\": 602.6406543733599}, {\"target\": 624.5, \"preds\": 566.6225856927656}, {\"target\": 600.0, \"preds\": 574.2721705576333}, {\"target\": 619.0, \"preds\": 584.5235894490495}, {\"target\": 576.0, \"preds\": 570.374072476729}, {\"target\": 624.5, \"preds\": 599.4909512254403}, {\"target\": 605.0, \"preds\": 585.3105290909799}, {\"target\": 624.5, \"preds\": 579.3449537424592}, {\"target\": 587.0, \"preds\": 583.4774817919093}, {\"target\": 587.0, \"preds\": 582.8237371311443}, {\"target\": 582.0, \"preds\": 577.164142531347}, {\"target\": 624.5, \"preds\": 574.9575886216966}, {\"target\": 624.5, \"preds\": 565.4171113424898}, {\"target\": 624.5, \"preds\": 568.1524045077214}, {\"target\": 578.0, \"preds\": 571.3413151409259}, {\"target\": 624.5, \"preds\": 608.5289129197029}, {\"target\": 604.0, \"preds\": 566.9101379557167}, {\"target\": 624.5, \"preds\": 588.4639754441902}, {\"target\": 624.5, \"preds\": 595.419442771272}, {\"target\": 582.0, \"preds\": 583.7798109932562}, {\"target\": 599.0, \"preds\": 577.7915399949209}, {\"target\": 622.0, \"preds\": 587.8054774885793}, {\"target\": 624.5, \"preds\": 576.6336491112562}, {\"target\": 624.5, \"preds\": 563.5504026334622}, {\"target\": 613.0, \"preds\": 578.6763298986527}, {\"target\": 583.0, \"preds\": 561.2576446086343}, {\"target\": 596.0, \"preds\": 593.99585679796}, {\"target\": 599.0, \"preds\": 589.8182699057501}, {\"target\": 624.5, \"preds\": 578.3777110782625}, {\"target\": 585.0, \"preds\": 565.1295590795386}, {\"target\": 581.0, \"preds\": 603.4738660889664}, {\"target\": 574.0, \"preds\": 593.4493690976763}, {\"target\": 624.5, \"preds\": 597.7452416431162}, {\"target\": 618.0, \"preds\": 578.2841808522892}, {\"target\": 599.0, \"preds\": 575.883604905661}, {\"target\": 586.0, \"preds\": 583.4706023598654}, {\"target\": 624.5, \"preds\": 588.994913397462}, {\"target\": 596.0, \"preds\": 578.2483646311301}, {\"target\": 586.0, \"preds\": 578.3402360527426}, {\"target\": 624.5, \"preds\": 589.0153650713282}, {\"target\": 624.5, \"preds\": 575.126171215011}, {\"target\": 624.5, \"preds\": 596.2388968717879}, {\"target\": 587.0, \"preds\": 567.314030308787}, {\"target\": 624.5, \"preds\": 596.6221006945772}, {\"target\": 588.0, \"preds\": 574.4318046726665}, {\"target\": 590.0, \"preds\": 566.5085130008883}, {\"target\": 588.0, \"preds\": 577.7139367458547}, {\"target\": 571.0, \"preds\": 567.753701479216}, {\"target\": 624.5, \"preds\": 564.9609764862242}, {\"target\": 624.5, \"preds\": 565.0022028664567}, {\"target\": 624.5, \"preds\": 587.7670150682094}, {\"target\": 624.5, \"preds\": 567.836154239681}, {\"target\": 581.0, \"preds\": 581.5552590068222}, {\"target\": 583.0, \"preds\": 586.6337726970307}, {\"target\": 596.0, \"preds\": 580.0189901116186}, {\"target\": 581.0, \"preds\": 576.1981037236769}, {\"target\": 564.0, \"preds\": 576.7747628038404}, {\"target\": 624.5, \"preds\": 575.6435260185845}, {\"target\": 579.0, \"preds\": 602.24809339308}, {\"target\": 624.5, \"preds\": 577.3374050433437}, {\"target\": 624.5, \"preds\": 596.8682925495806}, {\"target\": 624.5, \"preds\": 573.1990753716722}, {\"target\": 594.0, \"preds\": 565.1516247056921}, {\"target\": 624.5, \"preds\": 566.6309551819623}, {\"target\": 583.0, \"preds\": 577.5452141122023}, {\"target\": 600.0, \"preds\": 570.6579313439738}, {\"target\": 615.0, \"preds\": 562.9038444158093}, {\"target\": 595.0, \"preds\": 571.6100732789317}, {\"target\": 624.5, \"preds\": 567.9507067850626}, {\"target\": 624.5, \"preds\": 583.4921470249392}, {\"target\": 624.5, \"preds\": 572.9011704022495}, {\"target\": 624.5, \"preds\": 579.5720429314781}, {\"target\": 624.5, \"preds\": 588.968687700952}, {\"target\": 624.5, \"preds\": 578.2096859944919}, {\"target\": 624.5, \"preds\": 602.0359072813428}, {\"target\": 624.5, \"preds\": 577.7645256998628}, {\"target\": 601.0, \"preds\": 567.9360415520327}, {\"target\": 624.5, \"preds\": 591.787759891135}, {\"target\": 624.5, \"preds\": 582.2758091591667}, {\"target\": 599.0, \"preds\": 574.8955079963672}, {\"target\": 613.0, \"preds\": 572.9011704022495}, {\"target\": 573.0, \"preds\": 575.1533346699892}, {\"target\": 624.5, \"preds\": 584.1824792831843}, {\"target\": 564.0, \"preds\": 583.5820614777718}, {\"target\": 624.5, \"preds\": 573.2311528586583}, {\"target\": 624.5, \"preds\": 576.4466702556872}, {\"target\": 609.0, \"preds\": 592.1947710229899}, {\"target\": 590.0, \"preds\": 577.784380278044}, {\"target\": 624.5, \"preds\": 594.2319758435427}, {\"target\": 577.0, \"preds\": 568.2388792822812}, {\"target\": 594.0, \"preds\": 564.7405901545053}, {\"target\": 613.0, \"preds\": 603.1321460654539}, {\"target\": 624.5, \"preds\": 571.3216854697661}, {\"target\": 587.0, \"preds\": 577.2749054756598}, {\"target\": 624.5, \"preds\": 577.2661444036548}, {\"target\": 624.5, \"preds\": 587.0846366948025}, {\"target\": 581.0, \"preds\": 580.2618156751704}, {\"target\": 600.0, \"preds\": 577.4860961610318}, {\"target\": 624.5, \"preds\": 581.9060009882122}, {\"target\": 624.5, \"preds\": 595.3834253430011}, {\"target\": 624.5, \"preds\": 587.1229727924052}, {\"target\": 613.0, \"preds\": 588.343108694335}, {\"target\": 604.0, \"preds\": 585.1754646459192}, {\"target\": 583.0, \"preds\": 573.8173239419998}, {\"target\": 624.5, \"preds\": 571.7831077289842}, {\"target\": 619.0, \"preds\": 594.2931294736372}, {\"target\": 606.0, \"preds\": 590.8221720967039}, {\"target\": 624.5, \"preds\": 573.6556698748265}, {\"target\": 624.5, \"preds\": 574.1711205246847}, {\"target\": 624.5, \"preds\": 569.3368061324668}, {\"target\": 600.0, \"preds\": 569.7367691470453}, {\"target\": 624.5, \"preds\": 587.1660570565913}, {\"target\": 624.5, \"preds\": 583.3292746739681}, {\"target\": 569.0, \"preds\": 577.5062123842054}, {\"target\": 577.0, \"preds\": 580.8343592831526}, {\"target\": 582.0, \"preds\": 619.5660715865907}, {\"target\": 568.0, \"preds\": 612.018152118092}, {\"target\": 572.0, \"preds\": 571.7476634964418}, {\"target\": 565.0, \"preds\": 597.7707917648927}, {\"target\": 577.0, \"preds\": 575.4377067683087}, {\"target\": 587.0, \"preds\": 614.0326515468613}, {\"target\": 569.0, \"preds\": 605.9036757627817}, {\"target\": 565.0, \"preds\": 594.1999767848667}, {\"target\": 567.0, \"preds\": 587.1625514420574}, {\"target\": 572.0, \"preds\": 570.326040140489}, {\"target\": 572.0, \"preds\": 577.6473260767896}, {\"target\": 572.0, \"preds\": 609.5602479814196}, {\"target\": 574.0, \"preds\": 581.3149128796595}, {\"target\": 574.0, \"preds\": 573.7075961833646}, {\"target\": 564.0, \"preds\": 579.0952448153402}, {\"target\": 587.0, \"preds\": 596.9540640750436}, {\"target\": 577.0, \"preds\": 574.3205583609762}, {\"target\": 565.0, \"preds\": 601.5738036964627}, {\"target\": 574.0, \"preds\": 591.5185730228432}, {\"target\": 587.0, \"preds\": 573.4879406415494}, {\"target\": 574.0, \"preds\": 598.0359631193285}, {\"target\": 561.0, \"preds\": 589.6395112202939}, {\"target\": 562.0, \"preds\": 597.9127701869546}, {\"target\": 576.0, \"preds\": 592.758876480178}, {\"target\": 564.0, \"preds\": 587.139748324191}, {\"target\": 571.0, \"preds\": 606.0639428296324}, {\"target\": 568.0, \"preds\": 581.3198299048707}, {\"target\": 578.0, \"preds\": 571.86489771311}, {\"target\": 591.0, \"preds\": 595.6358056836591}, {\"target\": 571.0, \"preds\": 572.6524882333498}, {\"target\": 572.0, \"preds\": 591.5891152788668}, {\"target\": 619.0, \"preds\": 579.8250770894517}, {\"target\": 564.0, \"preds\": 618.5469026138559}, {\"target\": 594.0, \"preds\": 618.27814447585}, {\"target\": 568.0, \"preds\": 614.8142099548376}, {\"target\": 574.0, \"preds\": 618.27814447585}, {\"target\": 565.0, \"preds\": 590.8460273589101}, {\"target\": 567.0, \"preds\": 578.8116847622382}, {\"target\": 585.0, \"preds\": 610.5396058687952}, {\"target\": 594.0, \"preds\": 569.9293478575092}, {\"target\": 565.0, \"preds\": 576.6562039366769}, {\"target\": 576.0, \"preds\": 568.8025613576633}, {\"target\": 565.0, \"preds\": 579.3229811340608}, {\"target\": 581.0, \"preds\": 574.4704641041119}, {\"target\": 624.5, \"preds\": 582.2806116479825}, {\"target\": 624.5, \"preds\": 574.4292377238794}, {\"target\": 577.0, \"preds\": 586.9786898432583}, {\"target\": 563.0, \"preds\": 586.5953696549442}, {\"target\": 576.0, \"preds\": 592.6221574671397}, {\"target\": 567.0, \"preds\": 607.8627411124182}, {\"target\": 565.0, \"preds\": 607.8215147321857}, {\"target\": 574.0, \"preds\": 603.5732381514867}, {\"target\": 571.0, \"preds\": 606.1042278623937}, {\"target\": 568.0, \"preds\": 589.1181738326349}, {\"target\": 576.0, \"preds\": 591.1608546200315}, {\"target\": 574.0, \"preds\": 594.6079567347588}, {\"target\": 560.0, \"preds\": 571.5138659888663}, {\"target\": 571.0, \"preds\": 571.0915680277785}, {\"target\": 567.0, \"preds\": 587.2916415660775}, {\"target\": 624.5, \"preds\": 581.9282380722165}, {\"target\": 569.0, \"preds\": 568.1644639657837}, {\"target\": 571.0, \"preds\": 582.3540416478381}, {\"target\": 596.0, \"preds\": 587.4695053409285}, {\"target\": 574.0, \"preds\": 582.3128152676056}, {\"target\": 582.0, \"preds\": 574.1321910205246}, {\"target\": 571.0, \"preds\": 610.2348460337059}, {\"target\": 564.0, \"preds\": 575.1808540465101}, {\"target\": 574.0, \"preds\": 567.0803856838218}, {\"target\": 570.0, \"preds\": 597.7329553958447}, {\"target\": 574.0, \"preds\": 596.8921611912024}, {\"target\": 580.0, \"preds\": 575.6481297425431}, {\"target\": 617.0, \"preds\": 567.4143736990221}, {\"target\": 564.0, \"preds\": 592.0052881234122}, {\"target\": 574.0, \"preds\": 559.7754687150082}, {\"target\": 564.0, \"preds\": 578.5212592738778}, {\"target\": 567.0, \"preds\": 577.6233886416776}, {\"target\": 565.0, \"preds\": 581.6055439010148}, {\"target\": 600.0, \"preds\": 563.5943855366559}, {\"target\": 576.0, \"preds\": 597.2262817664171}, {\"target\": 561.0, \"preds\": 598.0359170581621}, {\"target\": 576.0, \"preds\": 572.0805922288293}, {\"target\": 568.0, \"preds\": 576.3119698329607}, {\"target\": 565.0, \"preds\": 578.7336944014386}, {\"target\": 563.0, \"preds\": 580.681961744382}, {\"target\": 568.0, \"preds\": 561.3840802722927}, {\"target\": 624.5, \"preds\": 584.3241002091689}, {\"target\": 574.0, \"preds\": 575.9458578618879}, {\"target\": 603.0, \"preds\": 573.8847335816239}, {\"target\": 563.0, \"preds\": 577.4441180180874}, {\"target\": 577.0, \"preds\": 602.0032925181789}, {\"target\": 565.0, \"preds\": 562.440837494918}, {\"target\": 565.0, \"preds\": 571.086679223729}, {\"target\": 567.0, \"preds\": 573.0015550875784}, {\"target\": 572.0, \"preds\": 570.9465369972953}, {\"target\": 567.0, \"preds\": 565.5954733146863}, {\"target\": 564.0, \"preds\": 581.3819101795918}, {\"target\": 571.0, \"preds\": 562.1753508581205}, {\"target\": 624.5, \"preds\": 578.1341755310333}, {\"target\": 566.0, \"preds\": 576.5491737975641}, {\"target\": 578.0, \"preds\": 584.6832705206715}, {\"target\": 577.0, \"preds\": 574.4945817008053}, {\"target\": 564.0, \"preds\": 583.8733190342692}, {\"target\": 570.0, \"preds\": 573.0567528973247}, {\"target\": 583.0, \"preds\": 579.1014976070724}, {\"target\": 572.0, \"preds\": 584.38494704029}, {\"target\": 581.0, \"preds\": 596.1133686176975}, {\"target\": 568.0, \"preds\": 579.1532193546631}, {\"target\": 574.0, \"preds\": 598.0112457003427}, {\"target\": 565.0, \"preds\": 575.9876083140322}, {\"target\": 571.0, \"preds\": 579.7843681729497}, {\"target\": 581.0, \"preds\": 612.0794515023358}, {\"target\": 581.0, \"preds\": 579.4681179049094}, {\"target\": 565.0, \"preds\": 577.0549676357817}, {\"target\": 569.0, \"preds\": 563.0911589653133}, {\"target\": 606.0, \"preds\": 586.1165519212777}, {\"target\": 568.0, \"preds\": 598.2077711526848}, {\"target\": 594.0, \"preds\": 576.7423619906881}, {\"target\": 571.0, \"preds\": 576.7423619906881}, {\"target\": 571.0, \"preds\": 586.8278025489569}, {\"target\": 581.0, \"preds\": 582.3491528437886}, {\"target\": 572.0, \"preds\": 562.5318168391663}, {\"target\": 578.0, \"preds\": 578.6871806182536}, {\"target\": 565.0, \"preds\": 575.6811705895593}, {\"target\": 566.0, \"preds\": 585.6505131848683}, {\"target\": 565.0, \"preds\": 560.2967052611641}, {\"target\": 583.0, \"preds\": 560.9151434056196}, {\"target\": 563.0, \"preds\": 577.9577544235609}, {\"target\": 574.0, \"preds\": 561.1356942694225}, {\"target\": 568.0, \"preds\": 576.2673416729008}, {\"target\": 568.0, \"preds\": 593.8529189688034}, {\"target\": 582.0, \"preds\": 576.954850978229}, {\"target\": 624.5, \"preds\": 578.0035140042146}, {\"target\": 564.0, \"preds\": 596.0826376048233}, {\"target\": 573.0, \"preds\": 592.672361852114}, {\"target\": 574.0, \"preds\": 600.7083697748022}, {\"target\": 564.0, \"preds\": 577.5000709738952}, {\"target\": 572.0, \"preds\": 581.5392013573863}, {\"target\": 565.0, \"preds\": 581.22430280714}, {\"target\": 578.0, \"preds\": 587.8504997395042}, {\"target\": 581.0, \"preds\": 577.4858242518242}, {\"target\": 573.0, \"preds\": 576.954850978229}, {\"target\": 619.0, \"preds\": 568.8388989338463}, {\"target\": 574.0, \"preds\": 561.2957502789536}, {\"target\": 574.0, \"preds\": 561.589179774779}, {\"target\": 570.0, \"preds\": 566.3239680685263}, {\"target\": 574.0, \"preds\": 583.976967090398}, {\"target\": 571.0, \"preds\": 581.9204528922046}, {\"target\": 578.0, \"preds\": 569.9747241913574}, {\"target\": 574.0, \"preds\": 577.428242534881}, {\"target\": 571.0, \"preds\": 573.8838050176543}, {\"target\": 587.0, \"preds\": 568.169127375678}, {\"target\": 624.5, \"preds\": 573.2322602681726}, {\"target\": 568.0, \"preds\": 563.6404346123196}, {\"target\": 565.0, \"preds\": 579.3801318657248}, {\"target\": 606.0, \"preds\": 592.2780588418232}, {\"target\": 571.0, \"preds\": 592.1592153363397}, {\"target\": 576.0, \"preds\": 578.9499944890792}, {\"target\": 585.0, \"preds\": 608.0257120172553}, {\"target\": 587.0, \"preds\": 576.67915616466}, {\"target\": 564.0, \"preds\": 569.6455789190402}, {\"target\": 578.0, \"preds\": 584.9124301272848}, {\"target\": 568.0, \"preds\": 572.7344191781702}, {\"target\": 605.0, \"preds\": 590.2242969075425}, {\"target\": 583.0, \"preds\": 585.7892332288025}, {\"target\": 578.0, \"preds\": 599.5794945407376}, {\"target\": 585.0, \"preds\": 604.8676426890407}, {\"target\": 581.0, \"preds\": 602.2159114206852}, {\"target\": 624.5, \"preds\": 565.783581808965}, {\"target\": 587.0, \"preds\": 590.527924587869}, {\"target\": 567.0, \"preds\": 581.0101488418069}, {\"target\": 563.0, \"preds\": 586.6470773083465}, {\"target\": 562.0, \"preds\": 579.3831114272083}, {\"target\": 576.0, \"preds\": 588.7110997188743}, {\"target\": 591.0, \"preds\": 583.42015296524}, {\"target\": 578.0, \"preds\": 582.05335326537}, {\"target\": 571.0, \"preds\": 577.5400699013778}, {\"target\": 581.0, \"preds\": 604.4879349308592}, {\"target\": 587.0, \"preds\": 579.2381960170909}, {\"target\": 565.0, \"preds\": 574.1192453734326}, {\"target\": 573.0, \"preds\": 576.6810595036821}, {\"target\": 581.0, \"preds\": 599.8125356869405}, {\"target\": 582.0, \"preds\": 571.5617027831865}, {\"target\": 574.0, \"preds\": 594.84209890662}, {\"target\": 568.0, \"preds\": 576.3217918834017}, {\"target\": 570.0, \"preds\": 582.581742946066}, {\"target\": 583.0, \"preds\": 565.0286785870446}, {\"target\": 574.0, \"preds\": 576.4073202375062}, {\"target\": 569.0, \"preds\": 597.3947568176399}, {\"target\": 571.0, \"preds\": 573.9063871165525}, {\"target\": 564.0, \"preds\": 580.692979518954}, {\"target\": 574.0, \"preds\": 570.8632182569957}, {\"target\": 585.0, \"preds\": 575.7067219153996}, {\"target\": 564.0, \"preds\": 561.47157132981}, {\"target\": 571.0, \"preds\": 564.7008410059606}, {\"target\": 568.0, \"preds\": 574.1379574196254}, {\"target\": 571.0, \"preds\": 603.6086967312108}, {\"target\": 596.0, \"preds\": 583.4618033312854}, {\"target\": 565.0, \"preds\": 575.3474874212413}, {\"target\": 569.0, \"preds\": 581.8766564279642}, {\"target\": 563.0, \"preds\": 557.9630056555344}, {\"target\": 576.0, \"preds\": 591.4477191485922}, {\"target\": 563.0, \"preds\": 590.7719421702457}, {\"target\": 562.0, \"preds\": 572.7527293476037}, {\"target\": 573.0, \"preds\": 577.0508028615195}, {\"target\": 581.0, \"preds\": 571.8849016248197}, {\"target\": 569.0, \"preds\": 586.726730550448}, {\"target\": 562.0, \"preds\": 570.3803946607754}, {\"target\": 624.5, \"preds\": 558.3271555848429}, {\"target\": 574.0, \"preds\": 570.1159433702575}, {\"target\": 566.0, \"preds\": 583.1505408200662}, {\"target\": 571.0, \"preds\": 563.659236019412}, {\"target\": 565.0, \"preds\": 586.7699687333985}, {\"target\": 576.0, \"preds\": 579.6401757030233}, {\"target\": 581.0, \"preds\": 592.1639264590098}, {\"target\": 574.0, \"preds\": 579.6854406285553}, {\"target\": 563.0, \"preds\": 567.8499100798232}, {\"target\": 573.0, \"preds\": 589.8915405693173}, {\"target\": 564.0, \"preds\": 575.3968659435221}, {\"target\": 590.0, \"preds\": 582.0405799130384}, {\"target\": 578.0, \"preds\": 581.0657804279881}, {\"target\": 568.0, \"preds\": 577.1495778593965}, {\"target\": 595.0, \"preds\": 574.3390183768121}, {\"target\": 574.0, \"preds\": 583.8696500093549}, {\"target\": 569.0, \"preds\": 572.9781974880658}, {\"target\": 561.0, \"preds\": 571.063396985663}, {\"target\": 568.0, \"preds\": 604.2191767928533}, {\"target\": 568.0, \"preds\": 587.8472121666028}, {\"target\": 567.0, \"preds\": 558.1681051580206}, {\"target\": 576.0, \"preds\": 574.6231859141842}, {\"target\": 562.0, \"preds\": 558.7028064909232}, {\"target\": 560.0, \"preds\": 589.3900193870224}, {\"target\": 576.0, \"preds\": 557.3164474378815}, {\"target\": 577.0, \"preds\": 574.7755630599709}, {\"target\": 594.0, \"preds\": 571.1620510273976}, {\"target\": 571.0, \"preds\": 570.1865656094909}, {\"target\": 567.0, \"preds\": 563.5908297361123}, {\"target\": 563.0, \"preds\": 573.7528472934706}, {\"target\": 594.0, \"preds\": 597.3652219510051}, {\"target\": 581.0, \"preds\": 574.3437278478729}, {\"target\": 587.0, \"preds\": 577.8592420957413}, {\"target\": 567.0, \"preds\": 576.0975316268366}, {\"target\": 564.0, \"preds\": 592.3314813308485}, {\"target\": 594.0, \"preds\": 572.8755900396366}, {\"target\": 566.0, \"preds\": 584.6716205234882}, {\"target\": 565.0, \"preds\": 578.2649906551467}, {\"target\": 581.0, \"preds\": 595.9099516089825}, {\"target\": 594.0, \"preds\": 580.0224985785602}, {\"target\": 624.5, \"preds\": 583.6870959865266}, {\"target\": 564.0, \"preds\": 577.1060006712659}, {\"target\": 568.0, \"preds\": 578.8902566198284}, {\"target\": 562.0, \"preds\": 562.1208848243932}, {\"target\": 594.0, \"preds\": 599.297736231104}, {\"target\": 564.0, \"preds\": 597.2917770521144}, {\"target\": 568.0, \"preds\": 597.4755388206721}, {\"target\": 578.0, \"preds\": 597.3704644981221}, {\"target\": 574.0, \"preds\": 596.7675526664098}, {\"target\": 574.0, \"preds\": 598.6146611042793}, {\"target\": 624.5, \"preds\": 588.1512758327239}, {\"target\": 583.0, \"preds\": 581.3231024775998}, {\"target\": 568.0, \"preds\": 596.6851952974071}, {\"target\": 585.0, \"preds\": 571.9397554804115}, {\"target\": 571.0, \"preds\": 578.7818565998782}, {\"target\": 569.0, \"preds\": 574.9267350133201}, {\"target\": 571.0, \"preds\": 578.9344662689294}, {\"target\": 569.0, \"preds\": 577.550289976179}, {\"target\": 580.0, \"preds\": 563.9660441315451}, {\"target\": 568.0, \"preds\": 578.3169169636847}, {\"target\": 565.0, \"preds\": 585.3244885441574}, {\"target\": 619.0, \"preds\": 585.7802443021668}, {\"target\": 572.0, \"preds\": 605.1145535371786}, {\"target\": 576.0, \"preds\": 582.9036593816209}, {\"target\": 564.0, \"preds\": 564.477376797557}, {\"target\": 578.0, \"preds\": 588.8092655062345}, {\"target\": 569.0, \"preds\": null}, {\"target\": 567.0, \"preds\": null}, {\"target\": 624.5, \"preds\": null}, {\"target\": 571.0, \"preds\": null}, {\"target\": 576.0, \"preds\": null}, {\"target\": 594.0, \"preds\": null}, {\"target\": 577.0, \"preds\": null}, {\"target\": 565.0, \"preds\": null}, {\"target\": 577.0, \"preds\": null}, {\"target\": 574.0, \"preds\": null}, {\"target\": 600.0, \"preds\": null}, {\"target\": 572.0, \"preds\": null}, {\"target\": 571.0, \"preds\": null}, {\"target\": 568.0, \"preds\": null}, {\"target\": 567.0, \"preds\": null}, {\"target\": 563.0, \"preds\": null}, {\"target\": 567.0, \"preds\": null}, {\"target\": 586.0, \"preds\": null}, {\"target\": 576.0, \"preds\": null}, {\"target\": 565.0, \"preds\": null}, {\"target\": 573.0, \"preds\": null}, {\"target\": 562.0, \"preds\": null}, {\"target\": 565.0, \"preds\": null}, {\"target\": 581.0, \"preds\": null}, {\"target\": 569.0, \"preds\": null}, {\"target\": 566.0, \"preds\": null}, {\"target\": 584.0, \"preds\": null}, {\"target\": 574.0, \"preds\": null}, {\"target\": 569.0, \"preds\": null}, {\"target\": 567.0, \"preds\": null}, {\"target\": 574.0, \"preds\": null}, {\"target\": 564.0, \"preds\": null}, {\"target\": 562.0, \"preds\": null}, {\"target\": 578.0, \"preds\": null}, {\"target\": 613.0, \"preds\": null}, {\"target\": 568.0, \"preds\": null}, {\"target\": 574.0, \"preds\": null}, {\"target\": 569.0, \"preds\": null}, {\"target\": 577.0, \"preds\": null}, {\"target\": 563.0, \"preds\": null}, {\"target\": 581.0, \"preds\": null}, {\"target\": 578.0, \"preds\": null}, {\"target\": 572.0, \"preds\": null}, {\"target\": 601.0, \"preds\": null}, {\"target\": 565.0, \"preds\": null}, {\"target\": 567.0, \"preds\": null}, {\"target\": 578.0, \"preds\": null}, {\"target\": 578.0, \"preds\": null}, {\"target\": 571.0, \"preds\": null}, {\"target\": 624.5, \"preds\": null}, {\"target\": 587.0, \"preds\": null}, {\"target\": 581.0, \"preds\": null}, {\"target\": 565.0, \"preds\": null}, {\"target\": 569.0, \"preds\": null}, {\"target\": 563.0, \"preds\": null}, {\"target\": 581.0, \"preds\": null}, {\"target\": 562.0, \"preds\": null}, {\"target\": 571.0, \"preds\": null}, {\"target\": 567.0, \"preds\": null}, {\"target\": 563.0, \"preds\": null}, {\"target\": 572.0, \"preds\": null}, {\"target\": 564.0, \"preds\": null}, {\"target\": 573.0, \"preds\": null}, {\"target\": 573.0, \"preds\": null}, {\"target\": 563.0, \"preds\": null}, {\"target\": 571.0, \"preds\": null}, {\"target\": 564.0, \"preds\": null}, {\"target\": 572.0, \"preds\": null}, {\"target\": 586.0, \"preds\": null}, {\"target\": 563.0, \"preds\": null}, {\"target\": 574.0, \"preds\": null}, {\"target\": 581.0, \"preds\": null}, {\"target\": 577.0, \"preds\": null}, {\"target\": 600.0, \"preds\": null}, {\"target\": 624.5, \"preds\": null}, {\"target\": 565.0, \"preds\": null}, {\"target\": 567.0, \"preds\": null}, {\"target\": 567.0, \"preds\": null}, {\"target\": 564.0, \"preds\": null}, {\"target\": 586.0, \"preds\": null}, {\"target\": 565.0, \"preds\": null}, {\"target\": 583.0, \"preds\": null}, {\"target\": 571.0, \"preds\": null}, {\"target\": 563.0, \"preds\": null}, {\"target\": 594.0, \"preds\": null}, {\"target\": 571.0, \"preds\": null}, {\"target\": 574.0, \"preds\": null}, {\"target\": 573.0, \"preds\": null}, {\"target\": 583.0, \"preds\": null}, {\"target\": 606.0, \"preds\": null}, {\"target\": 571.0, \"preds\": null}, {\"target\": 574.0, \"preds\": null}, {\"target\": 567.0, \"preds\": null}, {\"target\": 574.0, \"preds\": null}, {\"target\": 568.0, \"preds\": null}, {\"target\": 574.0, \"preds\": null}, {\"target\": 564.0, \"preds\": null}, {\"target\": 565.0, \"preds\": null}, {\"target\": 564.0, \"preds\": null}, {\"target\": 583.0, \"preds\": null}, {\"target\": 568.0, \"preds\": null}, {\"target\": 563.0, \"preds\": null}, {\"target\": 572.0, \"preds\": null}, {\"target\": 578.0, \"preds\": null}, {\"target\": 594.0, \"preds\": null}, {\"target\": 568.0, \"preds\": null}, {\"target\": 574.0, \"preds\": null}, {\"target\": 624.5, \"preds\": null}, {\"target\": 580.0, \"preds\": null}, {\"target\": 581.0, \"preds\": null}, {\"target\": 567.0, \"preds\": null}, {\"target\": 562.0, \"preds\": null}, {\"target\": 581.0, \"preds\": null}, {\"target\": 564.0, \"preds\": null}, {\"target\": 569.0, \"preds\": null}, {\"target\": 572.0, \"preds\": null}, {\"target\": 577.0, \"preds\": null}, {\"target\": 572.0, \"preds\": null}, {\"target\": 569.0, \"preds\": null}, {\"target\": 576.0, \"preds\": null}, {\"target\": 585.0, \"preds\": null}, {\"target\": 566.0, \"preds\": null}, {\"target\": 594.0, \"preds\": null}, {\"target\": 574.0, \"preds\": null}, {\"target\": 574.0, \"preds\": null}, {\"target\": 568.0, \"preds\": null}, {\"target\": 571.0, \"preds\": null}, {\"target\": 567.0, \"preds\": null}, {\"target\": 562.0, \"preds\": null}, {\"target\": 573.0, \"preds\": null}, {\"target\": 590.0, \"preds\": null}, {\"target\": 573.0, \"preds\": null}, {\"target\": 594.0, \"preds\": null}, {\"target\": 574.0, \"preds\": null}, {\"target\": 587.0, \"preds\": null}, {\"target\": 563.0, \"preds\": null}, {\"target\": 562.0, \"preds\": null}, {\"target\": 568.0, \"preds\": null}, {\"target\": 574.0, \"preds\": null}, {\"target\": 562.0, \"preds\": null}, {\"target\": 577.0, \"preds\": null}, {\"target\": 573.0, \"preds\": null}, {\"target\": 600.0, \"preds\": null}, {\"target\": 600.0, \"preds\": null}, {\"target\": 576.0, \"preds\": null}, {\"target\": 600.0, \"preds\": null}, {\"target\": 568.0, \"preds\": null}, {\"target\": 571.0, \"preds\": null}, {\"target\": 569.0, \"preds\": null}, {\"target\": 565.0, \"preds\": null}, {\"target\": 574.0, \"preds\": null}, {\"target\": 567.0, \"preds\": null}, {\"target\": 594.0, \"preds\": null}, {\"target\": 568.0, \"preds\": null}, {\"target\": 587.0, \"preds\": null}, {\"target\": 576.0, \"preds\": null}, {\"target\": 564.0, \"preds\": null}, {\"target\": 582.0, \"preds\": null}, {\"target\": 624.5, \"preds\": null}, {\"target\": 610.0, \"preds\": null}, {\"target\": 569.0, \"preds\": null}, {\"target\": 578.0, \"preds\": null}, {\"target\": 561.0, \"preds\": null}, {\"target\": 567.0, \"preds\": null}, {\"target\": 564.0, \"preds\": null}, {\"target\": 574.0, \"preds\": null}, {\"target\": 561.0, \"preds\": null}, {\"target\": 574.0, \"preds\": null}, {\"target\": 578.0, \"preds\": null}, {\"target\": 584.0, \"preds\": null}, {\"target\": 567.0, \"preds\": null}, {\"target\": 571.0, \"preds\": null}, {\"target\": 587.0, \"preds\": null}, {\"target\": 567.0, \"preds\": null}, {\"target\": 569.0, \"preds\": null}, {\"target\": 571.0, \"preds\": null}, {\"target\": 578.0, \"preds\": null}, {\"target\": 591.0, \"preds\": null}, {\"target\": 587.0, \"preds\": null}, {\"target\": 565.0, \"preds\": null}, {\"target\": 565.0, \"preds\": null}, {\"target\": 568.0, \"preds\": null}, {\"target\": 570.0, \"preds\": null}, {\"target\": 563.0, \"preds\": null}, {\"target\": 569.0, \"preds\": null}, {\"target\": 560.0, \"preds\": null}, {\"target\": 573.0, \"preds\": null}, {\"target\": 569.0, \"preds\": null}, {\"target\": 568.0, \"preds\": null}, {\"target\": 624.5, \"preds\": null}, {\"target\": 571.0, \"preds\": null}, {\"target\": 578.0, \"preds\": null}, {\"target\": 578.0, \"preds\": null}, {\"target\": 564.0, \"preds\": null}, {\"target\": 576.0, \"preds\": null}, {\"target\": 594.0, \"preds\": null}, {\"target\": 591.0, \"preds\": null}, {\"target\": 564.0, \"preds\": null}, {\"target\": 567.0, \"preds\": null}, {\"target\": 581.0, \"preds\": null}, {\"target\": 565.0, \"preds\": null}, {\"target\": 566.0, \"preds\": null}, {\"target\": 571.0, \"preds\": null}, {\"target\": 565.0, \"preds\": null}, {\"target\": 578.0, \"preds\": null}, {\"target\": 571.0, \"preds\": null}, {\"target\": 624.5, \"preds\": null}, {\"target\": 563.0, \"preds\": null}, {\"target\": 571.0, \"preds\": null}, {\"target\": 564.0, \"preds\": null}, {\"target\": 572.0, \"preds\": null}, {\"target\": 566.0, \"preds\": null}, {\"target\": 609.0, \"preds\": null}, {\"target\": 565.0, \"preds\": null}, {\"target\": 576.0, \"preds\": null}, {\"target\": 562.0, \"preds\": null}, {\"target\": 624.5, \"preds\": null}, {\"target\": 566.0, \"preds\": null}, {\"target\": 568.0, \"preds\": null}, {\"target\": 566.0, \"preds\": null}, {\"target\": 574.0, \"preds\": null}, {\"target\": 567.0, \"preds\": null}, {\"target\": 587.0, \"preds\": null}, {\"target\": 581.0, \"preds\": null}, {\"target\": 568.0, \"preds\": null}, {\"target\": 572.0, \"preds\": null}, {\"target\": 586.0, \"preds\": null}, {\"target\": 587.0, \"preds\": null}, {\"target\": 566.0, \"preds\": null}, {\"target\": 572.0, \"preds\": null}, {\"target\": 562.0, \"preds\": null}, {\"target\": 565.0, \"preds\": null}, {\"target\": 574.0, \"preds\": null}, {\"target\": 594.0, \"preds\": null}, {\"target\": 565.0, \"preds\": null}, {\"target\": 587.0, \"preds\": null}, {\"target\": 574.0, \"preds\": null}, {\"target\": 591.0, \"preds\": null}, {\"target\": 578.0, \"preds\": null}, {\"target\": 624.5, \"preds\": null}, {\"target\": 573.0, \"preds\": null}, {\"target\": 567.0, \"preds\": null}, {\"target\": 581.0, \"preds\": null}, {\"target\": 571.0, \"preds\": null}, {\"target\": 571.0, \"preds\": null}, {\"target\": 571.0, \"preds\": null}, {\"target\": 568.0, \"preds\": null}, {\"target\": 586.0, \"preds\": null}, {\"target\": 567.0, \"preds\": null}, {\"target\": 571.0, \"preds\": null}, {\"target\": 569.0, \"preds\": null}, {\"target\": 574.0, \"preds\": null}, {\"target\": 562.0, \"preds\": null}, {\"target\": 578.0, \"preds\": null}, {\"target\": 578.0, \"preds\": null}, {\"target\": 574.0, \"preds\": null}, {\"target\": 563.0, \"preds\": null}, {\"target\": 594.0, \"preds\": null}, {\"target\": 571.0, \"preds\": null}, {\"target\": 576.0, \"preds\": null}, {\"target\": 567.0, \"preds\": null}, {\"target\": 564.0, \"preds\": null}, {\"target\": 572.0, \"preds\": null}, {\"target\": 587.0, \"preds\": null}, {\"target\": 567.0, \"preds\": null}, {\"target\": 624.5, \"preds\": null}, {\"target\": 574.0, \"preds\": null}, {\"target\": 583.0, \"preds\": null}, {\"target\": 599.0, \"preds\": null}, {\"target\": 571.0, \"preds\": null}, {\"target\": 565.0, \"preds\": null}, {\"target\": 565.0, \"preds\": null}, {\"target\": 599.0, \"preds\": null}, {\"target\": 574.0, \"preds\": null}, {\"target\": 576.0, \"preds\": null}, {\"target\": 565.0, \"preds\": null}, {\"target\": 565.0, \"preds\": null}, {\"target\": 624.5, \"preds\": null}, {\"target\": 574.0, \"preds\": null}, {\"target\": 565.0, \"preds\": null}, {\"target\": 582.0, \"preds\": null}, {\"target\": 594.0, \"preds\": null}, {\"target\": 624.5, \"preds\": null}, {\"target\": 624.5, \"preds\": null}, {\"target\": 568.0, \"preds\": null}, {\"target\": 583.0, \"preds\": null}, {\"target\": 568.0, \"preds\": null}, {\"target\": 617.0, \"preds\": null}, {\"target\": 569.0, \"preds\": null}, {\"target\": 569.0, \"preds\": null}, {\"target\": 606.0, \"preds\": null}, {\"target\": 568.0, \"preds\": null}, {\"target\": 578.0, \"preds\": null}, {\"target\": 591.0, \"preds\": null}, {\"target\": 563.0, \"preds\": null}, {\"target\": 624.5, \"preds\": null}, {\"target\": 562.0, \"preds\": null}, {\"target\": 619.0, \"preds\": null}, {\"target\": 571.0, \"preds\": null}, {\"target\": 570.0, \"preds\": null}, {\"target\": 576.0, \"preds\": null}, {\"target\": 569.0, \"preds\": null}, {\"target\": 624.5, \"preds\": null}, {\"target\": 576.0, \"preds\": null}, {\"target\": 600.0, \"preds\": null}, {\"target\": 567.0, \"preds\": null}, {\"target\": 565.0, \"preds\": null}, {\"target\": 573.0, \"preds\": null}, {\"target\": 561.0, \"preds\": null}, {\"target\": 577.0, \"preds\": null}, {\"target\": 569.0, \"preds\": null}, {\"target\": 571.0, \"preds\": null}, {\"target\": 594.0, \"preds\": null}, {\"target\": 571.0, \"preds\": null}, {\"target\": 582.0, \"preds\": null}, {\"target\": 563.0, \"preds\": null}, {\"target\": 579.0, \"preds\": null}, {\"target\": 561.0, \"preds\": null}, {\"target\": 574.0, \"preds\": null}, {\"target\": 578.0, \"preds\": null}, {\"target\": 600.0, \"preds\": null}, {\"target\": 565.0, \"preds\": null}, {\"target\": 564.0, \"preds\": null}, {\"target\": 574.0, \"preds\": null}, {\"target\": 594.0, \"preds\": null}, {\"target\": 624.5, \"preds\": null}, {\"target\": 578.0, \"preds\": null}, {\"target\": 565.0, \"preds\": null}, {\"target\": 567.0, \"preds\": null}, {\"target\": 573.0, \"preds\": null}, {\"target\": 564.0, \"preds\": null}, {\"target\": 563.0, \"preds\": null}, {\"target\": 577.0, \"preds\": null}, {\"target\": 574.0, \"preds\": null}, {\"target\": 566.0, \"preds\": null}, {\"target\": 581.0, \"preds\": null}, {\"target\": 565.0, \"preds\": null}, {\"target\": 581.0, \"preds\": null}, {\"target\": 570.0, \"preds\": null}, {\"target\": 594.0, \"preds\": null}, {\"target\": 583.0, \"preds\": null}, {\"target\": 564.0, \"preds\": null}, {\"target\": 564.0, \"preds\": null}, {\"target\": 576.0, \"preds\": null}, {\"target\": 586.0, \"preds\": null}, {\"target\": 578.0, \"preds\": null}, {\"target\": 566.0, \"preds\": null}, {\"target\": 560.0, \"preds\": null}, {\"target\": 562.0, \"preds\": null}, {\"target\": 571.0, \"preds\": null}, {\"target\": 567.0, \"preds\": null}, {\"target\": 565.0, \"preds\": null}, {\"target\": 594.0, \"preds\": null}, {\"target\": 573.0, \"preds\": null}, {\"target\": 567.0, \"preds\": null}, {\"target\": 571.0, \"preds\": null}, {\"target\": 571.0, \"preds\": null}, {\"target\": 568.0, \"preds\": null}, {\"target\": 600.0, \"preds\": null}, {\"target\": 571.0, \"preds\": null}, {\"target\": 573.0, \"preds\": null}, {\"target\": 565.0, \"preds\": null}, {\"target\": 569.0, \"preds\": null}, {\"target\": 571.0, \"preds\": null}, {\"target\": 600.0, \"preds\": null}, {\"target\": 573.0, \"preds\": null}, {\"target\": 583.0, \"preds\": null}, {\"target\": 564.0, \"preds\": null}, {\"target\": 576.0, \"preds\": null}, {\"target\": 569.0, \"preds\": null}, {\"target\": 562.0, \"preds\": null}, {\"target\": 560.0, \"preds\": null}, {\"target\": 578.0, \"preds\": null}, {\"target\": 571.0, \"preds\": null}, {\"target\": 566.0, \"preds\": null}, {\"target\": 569.0, \"preds\": null}, {\"target\": 609.0, \"preds\": null}, {\"target\": 587.0, \"preds\": null}, {\"target\": 566.0, \"preds\": null}, {\"target\": 571.0, \"preds\": null}, {\"target\": 578.0, \"preds\": null}, {\"target\": 563.0, \"preds\": null}, {\"target\": 567.0, \"preds\": null}, {\"target\": 624.0, \"preds\": null}, {\"target\": 583.0, \"preds\": null}, {\"target\": 564.0, \"preds\": null}, {\"target\": 591.0, \"preds\": null}, {\"target\": 624.5, \"preds\": null}, {\"target\": 580.0, \"preds\": null}, {\"target\": 571.0, \"preds\": null}, {\"target\": 578.0, \"preds\": null}, {\"target\": 594.0, \"preds\": null}, {\"target\": 563.0, \"preds\": null}, {\"target\": 565.0, \"preds\": null}, {\"target\": 581.0, \"preds\": null}, {\"target\": 583.0, \"preds\": null}, {\"target\": 577.0, \"preds\": null}, {\"target\": 583.0, \"preds\": null}, {\"target\": 586.0, \"preds\": null}, {\"target\": 571.0, \"preds\": null}, {\"target\": 561.0, \"preds\": null}, {\"target\": 562.0, \"preds\": null}, {\"target\": 563.0, \"preds\": null}, {\"target\": 569.0, \"preds\": null}, {\"target\": 581.0, \"preds\": null}, {\"target\": 586.0, \"preds\": null}, {\"target\": 568.0, \"preds\": null}, {\"target\": 576.0, \"preds\": null}, {\"target\": 624.5, \"preds\": null}, {\"target\": 573.0, \"preds\": null}, {\"target\": 565.0, \"preds\": null}, {\"target\": 576.0, \"preds\": null}, {\"target\": 624.5, \"preds\": null}, {\"target\": 578.0, \"preds\": null}, {\"target\": 565.0, \"preds\": null}, {\"target\": 569.0, \"preds\": null}, {\"target\": 565.0, \"preds\": null}, {\"target\": 594.0, \"preds\": null}, {\"target\": 573.0, \"preds\": null}, {\"target\": 624.5, \"preds\": null}, {\"target\": 567.0, \"preds\": null}, {\"target\": 573.0, \"preds\": null}, {\"target\": 624.5, \"preds\": null}, {\"target\": 624.5, \"preds\": null}, {\"target\": 560.0, \"preds\": null}, {\"target\": 624.5, \"preds\": null}, {\"target\": 583.0, \"preds\": null}, {\"target\": 571.0, \"preds\": null}, {\"target\": 569.0, \"preds\": null}, {\"target\": 581.0, \"preds\": null}, {\"target\": 624.5, \"preds\": null}, {\"target\": 569.0, \"preds\": null}, {\"target\": 568.0, \"preds\": null}, {\"target\": 624.5, \"preds\": null}, {\"target\": 624.5, \"preds\": null}, {\"target\": 576.0, \"preds\": null}, {\"target\": 571.0, \"preds\": null}, {\"target\": 574.0, \"preds\": null}, {\"target\": 574.0, \"preds\": null}, {\"target\": 606.0, \"preds\": null}, {\"target\": 567.0, \"preds\": null}, {\"target\": 564.0, \"preds\": null}, {\"target\": 572.0, \"preds\": null}, {\"target\": 624.5, \"preds\": null}, {\"target\": 581.0, \"preds\": null}, {\"target\": 565.0, \"preds\": null}, {\"target\": 619.0, \"preds\": null}, {\"target\": 572.0, \"preds\": null}, {\"target\": 571.0, \"preds\": null}, {\"target\": 576.0, \"preds\": null}, {\"target\": 572.0, \"preds\": null}, {\"target\": 592.0, \"preds\": null}, {\"target\": 578.0, \"preds\": null}, {\"target\": 566.0, \"preds\": null}, {\"target\": 590.0, \"preds\": null}, {\"target\": 578.0, \"preds\": null}, {\"target\": 570.0, \"preds\": null}, {\"target\": 575.0, \"preds\": null}, {\"target\": 581.0, \"preds\": null}, {\"target\": 600.0, \"preds\": null}, {\"target\": 604.0, \"preds\": null}, {\"target\": 576.0, \"preds\": null}, {\"target\": 619.0, \"preds\": null}, {\"target\": 567.0, \"preds\": null}, {\"target\": 568.0, \"preds\": null}, {\"target\": 587.0, \"preds\": null}, {\"target\": 594.0, \"preds\": null}, {\"target\": 571.0, \"preds\": null}, {\"target\": 561.0, \"preds\": null}, {\"target\": 594.0, \"preds\": null}, {\"target\": 585.0, \"preds\": null}, {\"target\": 624.5, \"preds\": null}, {\"target\": 567.0, \"preds\": null}, {\"target\": 583.0, \"preds\": null}, {\"target\": 600.0, \"preds\": null}, {\"target\": 571.0, \"preds\": null}, {\"target\": 583.0, \"preds\": null}, {\"target\": 562.0, \"preds\": null}, {\"target\": 581.0, \"preds\": null}, {\"target\": 565.0, \"preds\": null}, {\"target\": 587.0, \"preds\": null}, {\"target\": 562.0, \"preds\": null}, {\"target\": 606.0, \"preds\": null}, {\"target\": 571.0, \"preds\": null}, {\"target\": 563.0, \"preds\": null}, {\"target\": 624.5, \"preds\": null}, {\"target\": 601.0, \"preds\": null}, {\"target\": 572.0, \"preds\": null}, {\"target\": 558.0, \"preds\": null}, {\"target\": 567.0, \"preds\": null}, {\"target\": 571.0, \"preds\": null}, {\"target\": 572.0, \"preds\": null}, {\"target\": 569.0, \"preds\": null}, {\"target\": 568.0, \"preds\": null}, {\"target\": 565.0, \"preds\": null}, {\"target\": 601.0, \"preds\": null}, {\"target\": 566.0, \"preds\": null}, {\"target\": 577.0, \"preds\": null}, {\"target\": 565.0, \"preds\": null}, {\"target\": 576.0, \"preds\": null}, {\"target\": 567.0, \"preds\": null}, {\"target\": 565.0, \"preds\": null}, {\"target\": 613.0, \"preds\": null}, {\"target\": 590.0, \"preds\": null}, {\"target\": 573.0, \"preds\": null}, {\"target\": 573.0, \"preds\": null}, {\"target\": 573.0, \"preds\": null}, {\"target\": 565.0, \"preds\": null}, {\"target\": 568.0, \"preds\": null}, {\"target\": 564.0, \"preds\": null}, {\"target\": 587.0, \"preds\": null}, {\"target\": 567.0, \"preds\": null}, {\"target\": 583.0, \"preds\": null}, {\"target\": 568.0, \"preds\": null}, {\"target\": 569.0, \"preds\": null}, {\"target\": 571.0, \"preds\": null}, {\"target\": 574.0, \"preds\": null}, {\"target\": 600.0, \"preds\": null}, {\"target\": 600.0, \"preds\": null}, {\"target\": 622.0, \"preds\": null}, {\"target\": 574.0, \"preds\": null}, {\"target\": 596.0, \"preds\": null}, {\"target\": 570.0, \"preds\": null}, {\"target\": 581.0, \"preds\": null}, {\"target\": 564.0, \"preds\": null}, {\"target\": 574.0, \"preds\": null}, {\"target\": 596.0, \"preds\": null}, {\"target\": 600.0, \"preds\": null}, {\"target\": 600.0, \"preds\": null}, {\"target\": 574.0, \"preds\": null}, {\"target\": 571.0, \"preds\": null}, {\"target\": 565.0, \"preds\": null}, {\"target\": 569.0, \"preds\": null}, {\"target\": 571.0, \"preds\": null}, {\"target\": 624.5, \"preds\": null}, {\"target\": 586.0, \"preds\": null}, {\"target\": 581.0, \"preds\": null}, {\"target\": 576.0, \"preds\": null}, {\"target\": 574.0, \"preds\": null}, {\"target\": 592.0, \"preds\": null}, {\"target\": 594.0, \"preds\": null}, {\"target\": 569.0, \"preds\": null}, {\"target\": 574.0, \"preds\": null}, {\"target\": 563.0, \"preds\": null}, {\"target\": 606.0, \"preds\": null}, {\"target\": 571.0, \"preds\": null}, {\"target\": 613.0, \"preds\": null}, {\"target\": 581.0, \"preds\": null}, {\"target\": 568.0, \"preds\": null}, {\"target\": 565.0, \"preds\": null}, {\"target\": 572.0, \"preds\": null}, {\"target\": 574.0, \"preds\": null}, {\"target\": 563.0, \"preds\": null}, {\"target\": 624.5, \"preds\": null}, {\"target\": 571.0, \"preds\": null}, {\"target\": 568.0, \"preds\": null}, {\"target\": 568.0, \"preds\": null}, {\"target\": 571.0, \"preds\": null}, {\"target\": 574.0, \"preds\": null}, {\"target\": 586.0, \"preds\": null}, {\"target\": 569.0, \"preds\": null}, {\"target\": 622.0, \"preds\": null}, {\"target\": 624.5, \"preds\": null}, {\"target\": 581.0, \"preds\": null}, {\"target\": 613.0, \"preds\": null}, {\"target\": 565.0, \"preds\": null}, {\"target\": 565.0, \"preds\": null}, {\"target\": 567.0, \"preds\": null}, {\"target\": 571.0, \"preds\": null}, {\"target\": 586.0, \"preds\": null}, {\"target\": 590.0, \"preds\": null}, {\"target\": 577.0, \"preds\": null}, {\"target\": 574.0, \"preds\": null}, {\"target\": 572.0, \"preds\": null}, {\"target\": 624.5, \"preds\": null}, {\"target\": 596.0, \"preds\": null}, {\"target\": 560.0, \"preds\": null}, {\"target\": 624.5, \"preds\": null}, {\"target\": 581.0, \"preds\": null}, {\"target\": 594.0, \"preds\": null}, {\"target\": 624.5, \"preds\": null}, {\"target\": 578.0, \"preds\": null}, {\"target\": 587.0, \"preds\": null}, {\"target\": 578.0, \"preds\": null}, {\"target\": 568.0, \"preds\": null}, {\"target\": 571.0, \"preds\": null}, {\"target\": 587.0, \"preds\": null}, {\"target\": 606.0, \"preds\": null}, {\"target\": 594.0, \"preds\": null}, {\"target\": 592.0, \"preds\": null}, {\"target\": 600.0, \"preds\": null}, {\"target\": 582.0, \"preds\": null}, {\"target\": 595.0, \"preds\": null}, {\"target\": 565.0, \"preds\": null}, {\"target\": 575.0, \"preds\": null}, {\"target\": 596.0, \"preds\": null}, {\"target\": 594.0, \"preds\": null}, {\"target\": 581.0, \"preds\": null}, {\"target\": 624.5, \"preds\": null}, {\"target\": 624.5, \"preds\": null}, {\"target\": 576.0, \"preds\": null}, {\"target\": 566.0, \"preds\": null}, {\"target\": 573.0, \"preds\": null}, {\"target\": 624.5, \"preds\": null}, {\"target\": 565.0, \"preds\": null}, {\"target\": 571.0, \"preds\": null}, {\"target\": 573.0, \"preds\": null}, {\"target\": 563.0, \"preds\": null}, {\"target\": 568.0, \"preds\": null}, {\"target\": 574.0, \"preds\": null}, {\"target\": 565.0, \"preds\": null}, {\"target\": 566.0, \"preds\": null}, {\"target\": 587.0, \"preds\": null}, {\"target\": 572.0, \"preds\": null}, {\"target\": 563.0, \"preds\": null}, {\"target\": 564.0, \"preds\": null}, {\"target\": 583.0, \"preds\": null}, {\"target\": 606.0, \"preds\": null}, {\"target\": 583.0, \"preds\": null}, {\"target\": 561.0, \"preds\": null}, {\"target\": 574.0, \"preds\": null}, {\"target\": 585.0, \"preds\": null}, {\"target\": 613.0, \"preds\": null}, {\"target\": 574.0, \"preds\": null}, {\"target\": 572.0, \"preds\": null}, {\"target\": 568.0, \"preds\": null}, {\"target\": 568.0, \"preds\": null}, {\"target\": 564.0, \"preds\": null}, {\"target\": 564.0, \"preds\": null}, {\"target\": 577.0, \"preds\": null}, {\"target\": 562.0, \"preds\": null}, {\"target\": 581.0, \"preds\": null}, {\"target\": 564.0, \"preds\": null}, {\"target\": 624.5, \"preds\": null}, {\"target\": 572.0, \"preds\": null}, {\"target\": 577.0, \"preds\": null}, {\"target\": 576.0, \"preds\": null}, {\"target\": 562.0, \"preds\": null}, {\"target\": 590.0, \"preds\": null}, {\"target\": 592.0, \"preds\": null}, {\"target\": 592.0, \"preds\": null}, {\"target\": 603.0, \"preds\": null}, {\"target\": 600.0, \"preds\": null}, {\"target\": 609.0, \"preds\": null}, {\"target\": 603.0, \"preds\": null}, {\"target\": 581.0, \"preds\": null}, {\"target\": 566.0, \"preds\": null}, {\"target\": 569.0, \"preds\": null}, {\"target\": 573.0, \"preds\": null}, {\"target\": 624.5, \"preds\": null}, {\"target\": 587.0, \"preds\": null}, {\"target\": 581.0, \"preds\": null}, {\"target\": 591.0, \"preds\": null}, {\"target\": 562.0, \"preds\": null}, {\"target\": 600.0, \"preds\": null}, {\"target\": 594.0, \"preds\": null}, {\"target\": 568.0, \"preds\": null}, {\"target\": 569.0, \"preds\": null}, {\"target\": 577.0, \"preds\": null}, {\"target\": 600.0, \"preds\": null}, {\"target\": 594.0, \"preds\": null}, {\"target\": 594.0, \"preds\": null}, {\"target\": 572.0, \"preds\": null}, {\"target\": 572.0, \"preds\": null}, {\"target\": 572.0, \"preds\": null}, {\"target\": 587.0, \"preds\": null}, {\"target\": 624.5, \"preds\": null}, {\"target\": 567.0, \"preds\": null}, {\"target\": 619.0, \"preds\": null}, {\"target\": 581.0, \"preds\": null}, {\"target\": 574.0, \"preds\": null}, {\"target\": 565.0, \"preds\": null}, {\"target\": 573.0, \"preds\": null}, {\"target\": 578.0, \"preds\": null}, {\"target\": 573.0, \"preds\": null}, {\"target\": 624.5, \"preds\": null}, {\"target\": 583.0, \"preds\": null}, {\"target\": 560.0, \"preds\": null}, {\"target\": 568.0, \"preds\": null}, {\"target\": 565.0, \"preds\": null}, {\"target\": 577.0, \"preds\": null}, {\"target\": 574.0, \"preds\": null}, {\"target\": 565.0, \"preds\": null}, {\"target\": 563.0, \"preds\": null}, {\"target\": 578.0, \"preds\": null}, {\"target\": 578.0, \"preds\": null}, {\"target\": 565.0, \"preds\": null}, {\"target\": 573.0, \"preds\": null}, {\"target\": 569.0, \"preds\": null}, {\"target\": 587.0, \"preds\": null}, {\"target\": 567.0, \"preds\": null}, {\"target\": 615.0, \"preds\": null}, {\"target\": 581.0, \"preds\": null}, {\"target\": 563.0, \"preds\": null}, {\"target\": 562.0, \"preds\": null}, {\"target\": 581.0, \"preds\": null}, {\"target\": 568.0, \"preds\": null}, {\"target\": 572.0, \"preds\": null}, {\"target\": 562.0, \"preds\": null}, {\"target\": 573.0, \"preds\": null}, {\"target\": 578.0, \"preds\": null}, {\"target\": 581.0, \"preds\": null}, {\"target\": 624.5, \"preds\": null}, {\"target\": 572.0, \"preds\": null}, {\"target\": 612.0, \"preds\": null}, {\"target\": 594.0, \"preds\": null}, {\"target\": 606.0, \"preds\": null}, {\"target\": 624.5, \"preds\": null}, {\"target\": 571.0, \"preds\": null}, {\"target\": 572.0, \"preds\": null}, {\"target\": 594.0, \"preds\": null}, {\"target\": 567.0, \"preds\": null}, {\"target\": 624.5, \"preds\": null}, {\"target\": 594.0, \"preds\": null}, {\"target\": 567.0, \"preds\": null}, {\"target\": 572.0, \"preds\": null}, {\"target\": 564.0, \"preds\": null}, {\"target\": 560.0, \"preds\": null}, {\"target\": 580.0, \"preds\": null}, {\"target\": 585.0, \"preds\": null}, {\"target\": 571.0, \"preds\": null}, {\"target\": 604.0, \"preds\": null}, {\"target\": 564.0, \"preds\": null}, {\"target\": 574.0, \"preds\": null}, {\"target\": 594.0, \"preds\": null}, {\"target\": 568.0, \"preds\": null}, {\"target\": 594.0, \"preds\": null}, {\"target\": 576.0, \"preds\": null}, {\"target\": 583.0, \"preds\": null}, {\"target\": 567.0, \"preds\": null}, {\"target\": 581.0, \"preds\": null}, {\"target\": 580.0, \"preds\": null}, {\"target\": 572.0, \"preds\": null}, {\"target\": 564.0, \"preds\": null}, {\"target\": 587.0, \"preds\": null}, {\"target\": 581.0, \"preds\": null}, {\"target\": 578.0, \"preds\": null}, {\"target\": 572.0, \"preds\": null}, {\"target\": 568.0, \"preds\": null}, {\"target\": 568.0, \"preds\": null}, {\"target\": 585.0, \"preds\": null}, {\"target\": 581.0, \"preds\": null}, {\"target\": 624.5, \"preds\": null}, {\"target\": 587.0, \"preds\": null}, {\"target\": 582.0, \"preds\": null}, {\"target\": 583.0, \"preds\": null}, {\"target\": 573.0, \"preds\": null}, {\"target\": 564.0, \"preds\": null}, {\"target\": 579.0, \"preds\": null}, {\"target\": 566.0, \"preds\": null}, {\"target\": 565.0, \"preds\": null}, {\"target\": 574.0, \"preds\": null}, {\"target\": 603.0, \"preds\": null}, {\"target\": 571.0, \"preds\": null}, {\"target\": 572.0, \"preds\": null}, {\"target\": 583.0, \"preds\": null}, {\"target\": 560.0, \"preds\": null}, {\"target\": 571.0, \"preds\": null}, {\"target\": 567.0, \"preds\": null}, {\"target\": 573.0, \"preds\": null}, {\"target\": 571.0, \"preds\": null}, {\"target\": 574.0, \"preds\": null}, {\"target\": 571.0, \"preds\": null}, {\"target\": 624.5, \"preds\": null}, {\"target\": 624.5, \"preds\": null}, {\"target\": 596.0, \"preds\": null}, {\"target\": 594.0, \"preds\": null}, {\"target\": 624.5, \"preds\": null}, {\"target\": 600.0, \"preds\": null}, {\"target\": 581.0, \"preds\": null}, {\"target\": 564.0, \"preds\": null}, {\"target\": 577.0, \"preds\": null}, {\"target\": 581.0, \"preds\": null}, {\"target\": 578.0, \"preds\": null}, {\"target\": 574.0, \"preds\": null}, {\"target\": 572.0, \"preds\": null}, {\"target\": 581.0, \"preds\": null}, {\"target\": 571.0, \"preds\": null}, {\"target\": 624.5, \"preds\": null}, {\"target\": 624.5, \"preds\": null}, {\"target\": 578.0, \"preds\": null}, {\"target\": 624.5, \"preds\": null}, {\"target\": 568.0, \"preds\": null}, {\"target\": 586.0, \"preds\": null}, {\"target\": 591.0, \"preds\": null}, {\"target\": 590.0, \"preds\": null}, {\"target\": 577.0, \"preds\": null}, {\"target\": 624.5, \"preds\": null}, {\"target\": 587.0, \"preds\": null}, {\"target\": 576.0, \"preds\": null}, {\"target\": 578.0, \"preds\": null}, {\"target\": 568.0, \"preds\": null}, {\"target\": 568.0, \"preds\": null}, {\"target\": 624.5, \"preds\": null}, {\"target\": 585.0, \"preds\": null}, {\"target\": 563.0, \"preds\": null}, {\"target\": 606.0, \"preds\": null}, {\"target\": 573.0, \"preds\": null}, {\"target\": 581.0, \"preds\": null}, {\"target\": 562.0, \"preds\": null}, {\"target\": 565.0, \"preds\": null}, {\"target\": 587.0, \"preds\": null}, {\"target\": 583.0, \"preds\": null}, {\"target\": 582.0, \"preds\": null}, {\"target\": 594.0, \"preds\": null}, {\"target\": 574.0, \"preds\": null}, {\"target\": 578.0, \"preds\": null}, {\"target\": 568.0, \"preds\": null}, {\"target\": 581.0, \"preds\": null}, {\"target\": 591.0, \"preds\": null}, {\"target\": 564.0, \"preds\": null}, {\"target\": 594.0, \"preds\": null}, {\"target\": 565.0, \"preds\": null}, {\"target\": 598.0, \"preds\": null}, {\"target\": 567.0, \"preds\": null}, {\"target\": 568.0, \"preds\": null}, {\"target\": 568.0, \"preds\": null}, {\"target\": 574.0, \"preds\": null}, {\"target\": 624.5, \"preds\": null}, {\"target\": 581.0, \"preds\": null}, {\"target\": 576.0, \"preds\": null}, {\"target\": 585.0, \"preds\": null}, {\"target\": 567.0, \"preds\": null}, {\"target\": 569.0, \"preds\": null}, {\"target\": 570.0, \"preds\": null}, {\"target\": 576.0, \"preds\": null}, {\"target\": 585.0, \"preds\": null}, {\"target\": 594.0, \"preds\": null}, {\"target\": 624.5, \"preds\": null}, {\"target\": 560.0, \"preds\": null}, {\"target\": 571.0, \"preds\": null}, {\"target\": 606.0, \"preds\": null}, {\"target\": 565.0, \"preds\": null}, {\"target\": 572.0, \"preds\": null}, {\"target\": 569.0, \"preds\": null}, {\"target\": 624.5, \"preds\": null}, {\"target\": 572.0, \"preds\": null}, {\"target\": 578.0, \"preds\": null}, {\"target\": 574.0, \"preds\": null}, {\"target\": 594.0, \"preds\": null}, {\"target\": 568.0, \"preds\": null}, {\"target\": 568.0, \"preds\": null}, {\"target\": 624.5, \"preds\": null}, {\"target\": 624.5, \"preds\": null}, {\"target\": 562.0, \"preds\": null}, {\"target\": 563.0, \"preds\": null}, {\"target\": 594.0, \"preds\": null}, {\"target\": 609.0, \"preds\": null}, {\"target\": 562.0, \"preds\": null}, {\"target\": 564.0, \"preds\": null}, {\"target\": 568.0, \"preds\": null}, {\"target\": 577.0, \"preds\": null}, {\"target\": 578.0, \"preds\": null}, {\"target\": 577.0, \"preds\": null}, {\"target\": 590.0, \"preds\": null}, {\"target\": 585.0, \"preds\": null}, {\"target\": 587.0, \"preds\": null}, {\"target\": 568.0, \"preds\": null}, {\"target\": 600.0, \"preds\": null}, {\"target\": 564.0, \"preds\": null}, {\"target\": 562.0, \"preds\": null}, {\"target\": 571.0, \"preds\": null}, {\"target\": 594.0, \"preds\": null}, {\"target\": 587.0, \"preds\": null}, {\"target\": 613.0, \"preds\": null}, {\"target\": 566.0, \"preds\": null}, {\"target\": 624.5, \"preds\": null}, {\"target\": 622.0, \"preds\": null}, {\"target\": 571.0, \"preds\": null}, {\"target\": 573.0, \"preds\": null}, {\"target\": 562.0, \"preds\": null}, {\"target\": 606.0, \"preds\": null}, {\"target\": 577.0, \"preds\": null}, {\"target\": 574.0, \"preds\": null}, {\"target\": 563.0, \"preds\": null}, {\"target\": 624.5, \"preds\": null}, {\"target\": 578.0, \"preds\": null}, {\"target\": 565.0, \"preds\": null}, {\"target\": 568.0, \"preds\": null}, {\"target\": 567.0, \"preds\": null}, {\"target\": 586.0, \"preds\": null}, {\"target\": 569.0, \"preds\": null}, {\"target\": 595.0, \"preds\": null}, {\"target\": 567.0, \"preds\": null}, {\"target\": 567.0, \"preds\": null}, {\"target\": 564.0, \"preds\": null}, {\"target\": 624.5, \"preds\": null}, {\"target\": 574.0, \"preds\": null}, {\"target\": 574.0, \"preds\": null}, {\"target\": 565.0, \"preds\": null}, {\"target\": 592.0, \"preds\": null}, {\"target\": 581.0, \"preds\": null}, {\"target\": 571.0, \"preds\": null}, {\"target\": 592.0, \"preds\": null}, {\"target\": 568.0, \"preds\": null}, {\"target\": 573.0, \"preds\": null}, {\"target\": 563.0, \"preds\": null}, {\"target\": 606.0, \"preds\": null}, {\"target\": 585.0, \"preds\": null}, {\"target\": 568.0, \"preds\": null}, {\"target\": 574.0, \"preds\": null}, {\"target\": 569.0, \"preds\": null}, {\"target\": 581.0, \"preds\": null}, {\"target\": 574.0, \"preds\": null}, {\"target\": 563.0, \"preds\": null}, {\"target\": 581.0, \"preds\": null}, {\"target\": 564.0, \"preds\": null}, {\"target\": 571.0, \"preds\": null}, {\"target\": 590.0, \"preds\": null}, {\"target\": 574.0, \"preds\": null}, {\"target\": 581.0, \"preds\": null}, {\"target\": 564.0, \"preds\": null}, {\"target\": 564.0, \"preds\": null}, {\"target\": 564.0, \"preds\": null}, {\"target\": 567.0, \"preds\": null}, {\"target\": 561.0, \"preds\": null}, {\"target\": 571.0, \"preds\": null}, {\"target\": 578.0, \"preds\": null}, {\"target\": 562.0, \"preds\": null}, {\"target\": 573.0, \"preds\": null}, {\"target\": 564.0, \"preds\": null}, {\"target\": 568.0, \"preds\": null}, {\"target\": 572.0, \"preds\": null}, {\"target\": 570.0, \"preds\": null}, {\"target\": 567.0, \"preds\": null}, {\"target\": 571.0, \"preds\": null}, {\"target\": 600.0, \"preds\": null}, {\"target\": 569.0, \"preds\": null}, {\"target\": 624.5, \"preds\": null}, {\"target\": 574.0, \"preds\": null}, {\"target\": 574.0, \"preds\": null}, {\"target\": 568.0, \"preds\": null}, {\"target\": 571.0, \"preds\": null}, {\"target\": 568.0, \"preds\": null}, {\"target\": 600.0, \"preds\": null}, {\"target\": 586.0, \"preds\": null}, {\"target\": 571.0, \"preds\": null}, {\"target\": 568.0, \"preds\": null}, {\"target\": 597.0, \"preds\": null}, {\"target\": 594.0, \"preds\": null}, {\"target\": 572.0, \"preds\": null}, {\"target\": 574.0, \"preds\": null}, {\"target\": 581.0, \"preds\": null}, {\"target\": 568.0, \"preds\": null}, {\"target\": 563.0, \"preds\": null}, {\"target\": 559.0, \"preds\": null}, {\"target\": 590.0, \"preds\": null}, {\"target\": 565.0, \"preds\": null}, {\"target\": 571.0, \"preds\": null}, {\"target\": 574.0, \"preds\": null}, {\"target\": 565.0, \"preds\": null}, {\"target\": 565.0, \"preds\": null}, {\"target\": 573.0, \"preds\": null}, {\"target\": 574.0, \"preds\": null}, {\"target\": 582.0, \"preds\": null}, {\"target\": 571.0, \"preds\": null}, {\"target\": 574.0, \"preds\": null}, {\"target\": 563.0, \"preds\": null}, {\"target\": 581.0, \"preds\": null}, {\"target\": 568.0, \"preds\": null}, {\"target\": 569.0, \"preds\": null}, {\"target\": 574.0, \"preds\": null}, {\"target\": 586.0, \"preds\": null}, {\"target\": 576.0, \"preds\": null}, {\"target\": 568.0, \"preds\": null}, {\"target\": 588.0, \"preds\": null}, {\"target\": 568.0, \"preds\": null}, {\"target\": 574.0, \"preds\": null}, {\"target\": 567.0, \"preds\": null}, {\"target\": 574.0, \"preds\": null}, {\"target\": 574.0, \"preds\": null}, {\"target\": 565.0, \"preds\": null}, {\"target\": 572.0, \"preds\": null}, {\"target\": 567.0, \"preds\": null}, {\"target\": 624.5, \"preds\": null}, {\"target\": 565.0, \"preds\": null}, {\"target\": 576.0, \"preds\": null}, {\"target\": 574.0, \"preds\": null}, {\"target\": 574.0, \"preds\": null}, {\"target\": 574.0, \"preds\": null}, {\"target\": 624.5, \"preds\": null}, {\"target\": 567.0, \"preds\": null}, {\"target\": 564.0, \"preds\": null}, {\"target\": 577.0, \"preds\": null}, {\"target\": 574.0, \"preds\": null}, {\"target\": 587.0, \"preds\": null}, {\"target\": 565.0, \"preds\": null}, {\"target\": 566.0, \"preds\": null}, {\"target\": 571.0, \"preds\": null}, {\"target\": 624.5, \"preds\": null}, {\"target\": 573.0, \"preds\": null}, {\"target\": 587.0, \"preds\": null}, {\"target\": 578.0, \"preds\": null}, {\"target\": 577.0, \"preds\": null}, {\"target\": 566.0, \"preds\": null}, {\"target\": 574.0, \"preds\": null}, {\"target\": 568.0, \"preds\": null}, {\"target\": 562.0, \"preds\": null}, {\"target\": 574.0, \"preds\": null}, {\"target\": 599.0, \"preds\": null}, {\"target\": 565.0, \"preds\": null}, {\"target\": 624.5, \"preds\": null}, {\"target\": 583.0, \"preds\": null}, {\"target\": 572.0, \"preds\": null}, {\"target\": 594.0, \"preds\": null}, {\"target\": 571.0, \"preds\": null}, {\"target\": 578.0, \"preds\": null}, {\"target\": 580.0, \"preds\": null}, {\"target\": 571.0, \"preds\": null}, {\"target\": 562.0, \"preds\": null}, {\"target\": 574.0, \"preds\": null}, {\"target\": 577.0, \"preds\": null}, {\"target\": 578.0, \"preds\": null}, {\"target\": 567.0, \"preds\": null}, {\"target\": 571.0, \"preds\": null}, {\"target\": 565.0, \"preds\": null}, {\"target\": 576.0, \"preds\": null}, {\"target\": 565.0, \"preds\": null}, {\"target\": 568.0, \"preds\": null}, {\"target\": 565.0, \"preds\": null}, {\"target\": 576.0, \"preds\": null}, {\"target\": 568.0, \"preds\": null}, {\"target\": 570.0, \"preds\": null}, {\"target\": 568.0, \"preds\": null}, {\"target\": 564.0, \"preds\": null}, {\"target\": 578.0, \"preds\": null}, {\"target\": 606.0, \"preds\": null}, {\"target\": 562.0, \"preds\": null}, {\"target\": 581.0, \"preds\": null}, {\"target\": 573.0, \"preds\": null}, {\"target\": 572.0, \"preds\": null}, {\"target\": 567.0, \"preds\": null}, {\"target\": 568.0, \"preds\": null}, {\"target\": 571.0, \"preds\": null}, {\"target\": 569.0, \"preds\": null}, {\"target\": 568.0, \"preds\": null}, {\"target\": 624.5, \"preds\": null}, {\"target\": 613.0, \"preds\": null}, {\"target\": 624.5, \"preds\": null}, {\"target\": 571.0, \"preds\": null}, {\"target\": 624.5, \"preds\": null}, {\"target\": 585.0, \"preds\": null}, {\"target\": 576.0, \"preds\": null}, {\"target\": 572.0, \"preds\": null}, {\"target\": 564.0, \"preds\": null}, {\"target\": 560.0, \"preds\": null}, {\"target\": 571.0, \"preds\": null}, {\"target\": 565.0, \"preds\": null}, {\"target\": 564.0, \"preds\": null}, {\"target\": 581.0, \"preds\": null}, {\"target\": 574.0, \"preds\": null}, {\"target\": 569.0, \"preds\": null}, {\"target\": 624.5, \"preds\": null}, {\"target\": 571.0, \"preds\": null}, {\"target\": 566.0, \"preds\": null}, {\"target\": 604.0, \"preds\": null}, {\"target\": 567.0, \"preds\": null}, {\"target\": 566.0, \"preds\": null}, {\"target\": 564.0, \"preds\": null}, {\"target\": 566.0, \"preds\": null}, {\"target\": 564.0, \"preds\": null}, {\"target\": 564.0, \"preds\": null}, {\"target\": 561.0, \"preds\": null}, {\"target\": 583.0, \"preds\": null}, {\"target\": 568.0, \"preds\": null}, {\"target\": 576.0, \"preds\": null}, {\"target\": 624.5, \"preds\": null}, {\"target\": 574.0, \"preds\": null}, {\"target\": 581.0, \"preds\": null}, {\"target\": 574.0, \"preds\": null}, {\"target\": 567.0, \"preds\": null}, {\"target\": 573.0, \"preds\": null}, {\"target\": 574.0, \"preds\": null}, {\"target\": 565.0, \"preds\": null}, {\"target\": 571.0, \"preds\": null}, {\"target\": 565.0, \"preds\": null}, {\"target\": 569.0, \"preds\": null}, {\"target\": 569.0, \"preds\": null}, {\"target\": 578.0, \"preds\": null}, {\"target\": 565.0, \"preds\": null}, {\"target\": 587.0, \"preds\": null}, {\"target\": 571.0, \"preds\": null}, {\"target\": 562.0, \"preds\": null}, {\"target\": 573.0, \"preds\": null}, {\"target\": 600.0, \"preds\": null}, {\"target\": 565.0, \"preds\": null}, {\"target\": 576.0, \"preds\": null}, {\"target\": 576.0, \"preds\": null}, {\"target\": 600.0, \"preds\": null}, {\"target\": 562.0, \"preds\": null}, {\"target\": 587.0, \"preds\": null}, {\"target\": 561.0, \"preds\": null}, {\"target\": 565.0, \"preds\": null}, {\"target\": 576.0, \"preds\": null}, {\"target\": 578.0, \"preds\": null}, {\"target\": 564.0, \"preds\": null}, {\"target\": 565.0, \"preds\": null}, {\"target\": 568.0, \"preds\": null}, {\"target\": 564.0, \"preds\": null}, {\"target\": 624.5, \"preds\": null}, {\"target\": 572.0, \"preds\": null}, {\"target\": 624.5, \"preds\": null}, {\"target\": 572.0, \"preds\": null}, {\"target\": 588.0, \"preds\": null}, {\"target\": 566.0, \"preds\": null}, {\"target\": 574.0, \"preds\": null}, {\"target\": 581.0, \"preds\": null}, {\"target\": 574.0, \"preds\": null}, {\"target\": 573.0, \"preds\": null}, {\"target\": 569.0, \"preds\": null}, {\"target\": 564.0, \"preds\": null}, {\"target\": 588.0, \"preds\": null}, {\"target\": 565.0, \"preds\": null}, {\"target\": 574.0, \"preds\": null}, {\"target\": 571.0, \"preds\": null}, {\"target\": 583.0, \"preds\": null}, {\"target\": 564.0, \"preds\": null}, {\"target\": 564.0, \"preds\": null}, {\"target\": 613.0, \"preds\": null}, {\"target\": 581.0, \"preds\": null}, {\"target\": 573.0, \"preds\": null}, {\"target\": 578.0, \"preds\": null}, {\"target\": 581.0, \"preds\": null}, {\"target\": 568.0, \"preds\": null}, {\"target\": 578.0, \"preds\": null}, {\"target\": 562.0, \"preds\": null}, {\"target\": 571.0, \"preds\": null}, {\"target\": 567.0, \"preds\": null}, {\"target\": 571.0, \"preds\": null}, {\"target\": 581.0, \"preds\": null}, {\"target\": 571.0, \"preds\": null}, {\"target\": 567.0, \"preds\": null}, {\"target\": 583.0, \"preds\": null}, {\"target\": 585.0, \"preds\": null}, {\"target\": 571.0, \"preds\": null}, {\"target\": 597.0, \"preds\": null}, {\"target\": 581.0, \"preds\": null}, {\"target\": 567.0, \"preds\": null}, {\"target\": 564.0, \"preds\": null}, {\"target\": 573.0, \"preds\": null}, {\"target\": 582.0, \"preds\": null}, {\"target\": 576.0, \"preds\": null}, {\"target\": 587.0, \"preds\": null}, {\"target\": 570.0, \"preds\": null}, {\"target\": 574.0, \"preds\": null}, {\"target\": 561.0, \"preds\": null}, {\"target\": 567.0, \"preds\": null}, {\"target\": 576.0, \"preds\": null}, {\"target\": 571.0, \"preds\": null}, {\"target\": 572.0, \"preds\": null}, {\"target\": 575.0, \"preds\": null}, {\"target\": 563.0, \"preds\": null}, {\"target\": 568.0, \"preds\": null}, {\"target\": 559.0, \"preds\": null}, {\"target\": 565.0, \"preds\": null}, {\"target\": 576.0, \"preds\": null}, {\"target\": 600.0, \"preds\": null}, {\"target\": 581.0, \"preds\": null}, {\"target\": 576.0, \"preds\": null}, {\"target\": 566.0, \"preds\": null}, {\"target\": 576.0, \"preds\": null}, {\"target\": 578.0, \"preds\": null}, {\"target\": 565.0, \"preds\": null}, {\"target\": 567.0, \"preds\": null}, {\"target\": 572.0, \"preds\": null}, {\"target\": 587.0, \"preds\": null}, {\"target\": 624.5, \"preds\": null}, {\"target\": 572.0, \"preds\": null}, {\"target\": 581.0, \"preds\": null}, {\"target\": 578.0, \"preds\": null}, {\"target\": 565.0, \"preds\": null}, {\"target\": 576.0, \"preds\": null}, {\"target\": 578.0, \"preds\": null}, {\"target\": 580.0, \"preds\": null}, {\"target\": 565.0, \"preds\": null}, {\"target\": 574.0, \"preds\": null}, {\"target\": 580.0, \"preds\": null}, {\"target\": 613.0, \"preds\": null}, {\"target\": 581.0, \"preds\": null}, {\"target\": 562.0, \"preds\": null}, {\"target\": 574.0, \"preds\": null}, {\"target\": 594.0, \"preds\": null}, {\"target\": 571.0, \"preds\": null}, {\"target\": 568.0, \"preds\": null}, {\"target\": 571.0, \"preds\": null}, {\"target\": 613.0, \"preds\": null}, {\"target\": 569.0, \"preds\": null}, {\"target\": 563.0, \"preds\": null}, {\"target\": 563.0, \"preds\": null}, {\"target\": 564.0, \"preds\": null}, {\"target\": 568.0, \"preds\": null}, {\"target\": 576.0, \"preds\": null}, {\"target\": 583.0, \"preds\": null}, {\"target\": 573.0, \"preds\": null}, {\"target\": 578.0, \"preds\": null}, {\"target\": 569.0, \"preds\": null}, {\"target\": 581.0, \"preds\": null}, {\"target\": 624.5, \"preds\": null}, {\"target\": 572.0, \"preds\": null}, {\"target\": 564.0, \"preds\": null}, {\"target\": 571.0, \"preds\": null}, {\"target\": 574.0, \"preds\": null}, {\"target\": 591.0, \"preds\": null}, {\"target\": 567.0, \"preds\": null}, {\"target\": 576.0, \"preds\": null}, {\"target\": 581.0, \"preds\": null}, {\"target\": 583.0, \"preds\": null}, {\"target\": 624.5, \"preds\": null}, {\"target\": 562.0, \"preds\": null}, {\"target\": 565.0, \"preds\": null}, {\"target\": 613.0, \"preds\": null}, {\"target\": 574.0, \"preds\": null}, {\"target\": 560.0, \"preds\": null}, {\"target\": 587.0, \"preds\": null}, {\"target\": 577.0, \"preds\": null}, {\"target\": 619.0, \"preds\": null}, {\"target\": 583.0, \"preds\": null}, {\"target\": 571.0, \"preds\": null}, {\"target\": 568.0, \"preds\": null}, {\"target\": 568.0, \"preds\": null}, {\"target\": 588.0, \"preds\": null}, {\"target\": 571.0, \"preds\": null}, {\"target\": 566.0, \"preds\": null}, {\"target\": 571.0, \"preds\": null}, {\"target\": 588.0, \"preds\": null}, {\"target\": 572.0, \"preds\": null}, {\"target\": 594.0, \"preds\": null}, {\"target\": 571.0, \"preds\": null}, {\"target\": 568.0, \"preds\": null}, {\"target\": 572.0, \"preds\": null}, {\"target\": 572.0, \"preds\": null}, {\"target\": 565.0, \"preds\": null}, {\"target\": 563.0, \"preds\": null}, {\"target\": 577.0, \"preds\": null}, {\"target\": 577.0, \"preds\": null}, {\"target\": 574.0, \"preds\": null}, {\"target\": 566.0, \"preds\": null}, {\"target\": 566.0, \"preds\": null}, {\"target\": 569.0, \"preds\": null}, {\"target\": 576.0, \"preds\": null}, {\"target\": 568.0, \"preds\": null}, {\"target\": 624.5, \"preds\": null}, {\"target\": 564.0, \"preds\": null}, {\"target\": 577.0, \"preds\": null}, {\"target\": 577.0, \"preds\": null}, {\"target\": 605.0, \"preds\": null}, {\"target\": 564.0, \"preds\": null}, {\"target\": 574.0, \"preds\": null}, {\"target\": 577.0, \"preds\": null}, {\"target\": 564.0, \"preds\": null}, {\"target\": 624.5, \"preds\": null}, {\"target\": 566.0, \"preds\": null}, {\"target\": 565.0, \"preds\": null}, {\"target\": 568.0, \"preds\": null}, {\"target\": 599.0, \"preds\": null}, {\"target\": 577.0, \"preds\": null}, {\"target\": 577.0, \"preds\": null}, {\"target\": 566.0, \"preds\": null}, {\"target\": 568.0, \"preds\": null}, {\"target\": 565.0, \"preds\": null}, {\"target\": 594.0, \"preds\": null}, {\"target\": 574.0, \"preds\": null}, {\"target\": 587.0, \"preds\": null}, {\"target\": 576.0, \"preds\": null}, {\"target\": 606.0, \"preds\": null}, {\"target\": 574.0, \"preds\": null}, {\"target\": 571.0, \"preds\": null}, {\"target\": 600.0, \"preds\": null}, {\"target\": 565.0, \"preds\": null}, {\"target\": 569.0, \"preds\": null}, {\"target\": 581.0, \"preds\": null}, {\"target\": 567.0, \"preds\": null}, {\"target\": 576.0, \"preds\": null}, {\"target\": 571.0, \"preds\": null}, {\"target\": 571.0, \"preds\": null}, {\"target\": 574.0, \"preds\": null}, {\"target\": 573.0, \"preds\": null}, {\"target\": 624.5, \"preds\": null}, {\"target\": 568.0, \"preds\": null}, {\"target\": 577.0, \"preds\": null}, {\"target\": 624.5, \"preds\": null}, {\"target\": 588.0, \"preds\": null}, {\"target\": 566.0, \"preds\": null}, {\"target\": 568.0, \"preds\": null}, {\"target\": 587.0, \"preds\": null}, {\"target\": 568.0, \"preds\": null}, {\"target\": 572.0, \"preds\": null}, {\"target\": 576.0, \"preds\": null}, {\"target\": 567.0, \"preds\": null}, {\"target\": 578.0, \"preds\": null}, {\"target\": 586.0, \"preds\": null}, {\"target\": 563.0, \"preds\": null}, {\"target\": 578.0, \"preds\": null}, {\"target\": 581.0, \"preds\": null}, {\"target\": 573.0, \"preds\": null}, {\"target\": 567.0, \"preds\": null}, {\"target\": 574.0, \"preds\": null}, {\"target\": 624.5, \"preds\": null}, {\"target\": 565.0, \"preds\": null}, {\"target\": 567.0, \"preds\": null}, {\"target\": 624.5, \"preds\": null}, {\"target\": 564.0, \"preds\": null}, {\"target\": 585.0, \"preds\": null}, {\"target\": 563.0, \"preds\": null}, {\"target\": 572.0, \"preds\": null}, {\"target\": 574.0, \"preds\": null}, {\"target\": 568.0, \"preds\": null}, {\"target\": 568.0, \"preds\": null}, {\"target\": 564.0, \"preds\": null}, {\"target\": 564.0, \"preds\": null}, {\"target\": 564.0, \"preds\": null}, {\"target\": 583.0, \"preds\": null}, {\"target\": 564.0, \"preds\": null}, {\"target\": 574.0, \"preds\": null}, {\"target\": 564.0, \"preds\": null}, {\"target\": 574.0, \"preds\": null}, {\"target\": 567.0, \"preds\": null}, {\"target\": 578.0, \"preds\": null}, {\"target\": 566.0, \"preds\": null}, {\"target\": 577.0, \"preds\": null}, {\"target\": 571.0, \"preds\": null}, {\"target\": 594.0, \"preds\": null}, {\"target\": 560.0, \"preds\": null}, {\"target\": 573.0, \"preds\": null}, {\"target\": 565.0, \"preds\": null}, {\"target\": 571.0, \"preds\": null}, {\"target\": 624.5, \"preds\": null}, {\"target\": 573.0, \"preds\": null}, {\"target\": 565.0, \"preds\": null}, {\"target\": 578.0, \"preds\": null}, {\"target\": 590.0, \"preds\": null}, {\"target\": 576.0, \"preds\": null}, {\"target\": 571.0, \"preds\": null}, {\"target\": 573.0, \"preds\": null}, {\"target\": 564.0, \"preds\": null}, {\"target\": 569.0, \"preds\": null}, {\"target\": 564.0, \"preds\": null}, {\"target\": 624.5, \"preds\": null}, {\"target\": 568.0, \"preds\": null}, {\"target\": 580.0, \"preds\": null}, {\"target\": 568.0, \"preds\": null}, {\"target\": 572.0, \"preds\": null}, {\"target\": 571.0, \"preds\": null}, {\"target\": 568.0, \"preds\": null}, {\"target\": 576.0, \"preds\": null}, {\"target\": 569.0, \"preds\": null}, {\"target\": 574.0, \"preds\": null}, {\"target\": 574.0, \"preds\": null}, {\"target\": 571.0, \"preds\": null}, {\"target\": 568.0, \"preds\": null}, {\"target\": 564.0, \"preds\": null}, {\"target\": 568.0, \"preds\": null}, {\"target\": 567.0, \"preds\": null}, {\"target\": 569.0, \"preds\": null}, {\"target\": 581.0, \"preds\": null}, {\"target\": 567.0, \"preds\": null}, {\"target\": 568.0, \"preds\": null}, {\"target\": 576.0, \"preds\": null}, {\"target\": 572.0, \"preds\": null}, {\"target\": 576.0, \"preds\": null}, {\"target\": 566.0, \"preds\": null}, {\"target\": 574.0, \"preds\": null}, {\"target\": 572.0, \"preds\": null}, {\"target\": 588.0, \"preds\": null}, {\"target\": 569.0, \"preds\": null}, {\"target\": 578.0, \"preds\": null}, {\"target\": 568.0, \"preds\": null}, {\"target\": 606.0, \"preds\": null}, {\"target\": 586.0, \"preds\": null}, {\"target\": 578.0, \"preds\": null}, {\"target\": 569.0, \"preds\": null}, {\"target\": 585.0, \"preds\": null}, {\"target\": 569.0, \"preds\": null}, {\"target\": 565.0, \"preds\": null}, {\"target\": 572.0, \"preds\": null}, {\"target\": 569.0, \"preds\": null}, {\"target\": 572.0, \"preds\": null}, {\"target\": 587.0, \"preds\": null}, {\"target\": 571.0, \"preds\": null}, {\"target\": 587.0, \"preds\": null}, {\"target\": 566.0, \"preds\": null}, {\"target\": 566.0, \"preds\": null}, {\"target\": 562.0, \"preds\": null}, {\"target\": 566.0, \"preds\": null}, {\"target\": 624.5, \"preds\": null}, {\"target\": 565.0, \"preds\": null}, {\"target\": 571.0, \"preds\": null}, {\"target\": 578.0, \"preds\": null}, {\"target\": 572.0, \"preds\": null}, {\"target\": 624.5, \"preds\": null}, {\"target\": 565.0, \"preds\": null}, {\"target\": 563.0, \"preds\": null}, {\"target\": 571.0, \"preds\": null}, {\"target\": 564.0, \"preds\": null}, {\"target\": 568.0, \"preds\": null}, {\"target\": 577.0, \"preds\": null}, {\"target\": 583.0, \"preds\": null}, {\"target\": 570.0, \"preds\": null}, {\"target\": 585.0, \"preds\": null}, {\"target\": 580.0, \"preds\": null}, {\"target\": 613.0, \"preds\": null}, {\"target\": 577.0, \"preds\": null}, {\"target\": 567.0, \"preds\": null}, {\"target\": 571.0, \"preds\": null}, {\"target\": 606.0, \"preds\": null}, {\"target\": 567.0, \"preds\": null}, {\"target\": 567.0, \"preds\": null}, {\"target\": 587.0, \"preds\": null}, {\"target\": 568.0, \"preds\": null}, {\"target\": 571.0, \"preds\": null}, {\"target\": 580.0, \"preds\": null}, {\"target\": 568.0, \"preds\": null}, {\"target\": 581.0, \"preds\": null}, {\"target\": 591.0, \"preds\": null}, {\"target\": 568.0, \"preds\": null}, {\"target\": 565.0, \"preds\": null}, {\"target\": 572.0, \"preds\": null}, {\"target\": 601.0, \"preds\": null}, {\"target\": 574.0, \"preds\": null}, {\"target\": 562.0, \"preds\": null}, {\"target\": 568.0, \"preds\": null}, {\"target\": 566.0, \"preds\": null}, {\"target\": 569.0, \"preds\": null}, {\"target\": 565.0, \"preds\": null}, {\"target\": 571.0, \"preds\": null}, {\"target\": 562.0, \"preds\": null}, {\"target\": 564.0, \"preds\": null}, {\"target\": 574.0, \"preds\": null}, {\"target\": 568.0, \"preds\": null}, {\"target\": 603.0, \"preds\": null}, {\"target\": 564.0, \"preds\": null}, {\"target\": 564.0, \"preds\": null}, {\"target\": 576.0, \"preds\": null}, {\"target\": 599.0, \"preds\": null}, {\"target\": 574.0, \"preds\": null}, {\"target\": 565.0, \"preds\": null}, {\"target\": 583.0, \"preds\": null}, {\"target\": 624.5, \"preds\": null}, {\"target\": 563.0, \"preds\": null}, {\"target\": 573.0, \"preds\": null}, {\"target\": 570.0, \"preds\": null}, {\"target\": 576.0, \"preds\": null}, {\"target\": 565.0, \"preds\": null}, {\"target\": 568.0, \"preds\": null}, {\"target\": 579.0, \"preds\": null}, {\"target\": 577.0, \"preds\": null}, {\"target\": 600.0, \"preds\": null}, {\"target\": 567.0, \"preds\": null}, {\"target\": 569.0, \"preds\": null}, {\"target\": 571.0, \"preds\": null}, {\"target\": 572.0, \"preds\": null}, {\"target\": 601.0, \"preds\": null}, {\"target\": 624.5, \"preds\": null}, {\"target\": 571.0, \"preds\": null}, {\"target\": 578.0, \"preds\": null}, {\"target\": 568.0, \"preds\": null}, {\"target\": 578.0, \"preds\": null}, {\"target\": 603.0, \"preds\": null}, {\"target\": 578.0, \"preds\": null}, {\"target\": 587.0, \"preds\": null}, {\"target\": 568.0, \"preds\": null}, {\"target\": 574.0, \"preds\": null}, {\"target\": 600.0, \"preds\": null}, {\"target\": 562.0, \"preds\": null}, {\"target\": 585.0, \"preds\": null}, {\"target\": 574.0, \"preds\": null}, {\"target\": 579.0, \"preds\": null}, {\"target\": 591.0, \"preds\": null}, {\"target\": 596.0, \"preds\": null}, {\"target\": 573.0, \"preds\": null}, {\"target\": 564.0, \"preds\": null}, {\"target\": 597.0, \"preds\": null}, {\"target\": 624.5, \"preds\": null}, {\"target\": 578.0, \"preds\": null}, {\"target\": 576.0, \"preds\": null}, {\"target\": 566.0, \"preds\": null}, {\"target\": 568.0, \"preds\": null}, {\"target\": 572.0, \"preds\": null}, {\"target\": 571.0, \"preds\": null}, {\"target\": 568.0, \"preds\": null}, {\"target\": 574.0, \"preds\": null}, {\"target\": 600.0, \"preds\": null}, {\"target\": 624.5, \"preds\": null}, {\"target\": 596.0, \"preds\": null}, {\"target\": 600.0, \"preds\": null}, {\"target\": 569.0, \"preds\": null}, {\"target\": 571.0, \"preds\": null}, {\"target\": 606.0, \"preds\": null}, {\"target\": 565.0, \"preds\": null}, {\"target\": 581.0, \"preds\": null}, {\"target\": 571.0, \"preds\": null}, {\"target\": 574.0, \"preds\": null}, {\"target\": 590.0, \"preds\": null}, {\"target\": 572.0, \"preds\": null}, {\"target\": 567.0, \"preds\": null}, {\"target\": 571.0, \"preds\": null}, {\"target\": 578.0, \"preds\": null}, {\"target\": 573.0, \"preds\": null}, {\"target\": 606.0, \"preds\": null}, {\"target\": 624.5, \"preds\": null}, {\"target\": 574.0, \"preds\": null}, {\"target\": 566.0, \"preds\": null}, {\"target\": 590.0, \"preds\": null}, {\"target\": 574.0, \"preds\": null}, {\"target\": 562.0, \"preds\": null}, {\"target\": 588.0, \"preds\": null}, {\"target\": 573.0, \"preds\": null}, {\"target\": 581.0, \"preds\": null}, {\"target\": 571.0, \"preds\": null}, {\"target\": 577.0, \"preds\": null}, {\"target\": 624.5, \"preds\": null}, {\"target\": 580.0, \"preds\": null}, {\"target\": 574.0, \"preds\": null}, {\"target\": 569.0, \"preds\": null}, {\"target\": 597.0, \"preds\": null}, {\"target\": 585.0, \"preds\": null}, {\"target\": 568.0, \"preds\": null}, {\"target\": 571.0, \"preds\": null}, {\"target\": 617.0, \"preds\": null}, {\"target\": 573.0, \"preds\": null}, {\"target\": 564.0, \"preds\": null}, {\"target\": 572.0, \"preds\": null}, {\"target\": 569.0, \"preds\": null}, {\"target\": 567.0, \"preds\": null}, {\"target\": 565.0, \"preds\": null}, {\"target\": 576.0, \"preds\": null}, {\"target\": 578.0, \"preds\": null}, {\"target\": 566.0, \"preds\": null}, {\"target\": 571.0, \"preds\": null}, {\"target\": 568.0, \"preds\": null}, {\"target\": 572.0, \"preds\": null}, {\"target\": 583.0, \"preds\": null}, {\"target\": 569.0, \"preds\": null}, {\"target\": 569.0, \"preds\": null}, {\"target\": 581.0, \"preds\": null}, {\"target\": 573.0, \"preds\": null}, {\"target\": 571.0, \"preds\": null}, {\"target\": 569.0, \"preds\": null}, {\"target\": 594.0, \"preds\": null}, {\"target\": 567.0, \"preds\": null}, {\"target\": 600.0, \"preds\": null}, {\"target\": 567.0, \"preds\": null}, {\"target\": 567.0, \"preds\": null}, {\"target\": 624.5, \"preds\": null}, {\"target\": 569.0, \"preds\": null}, {\"target\": 569.0, \"preds\": null}, {\"target\": 569.0, \"preds\": null}, {\"target\": 565.0, \"preds\": null}, {\"target\": 567.0, \"preds\": null}, {\"target\": 565.0, \"preds\": null}, {\"target\": 562.0, \"preds\": null}, {\"target\": 571.0, \"preds\": null}, {\"target\": 585.0, \"preds\": null}, {\"target\": 571.0, \"preds\": null}, {\"target\": 564.0, \"preds\": null}, {\"target\": 567.0, \"preds\": null}, {\"target\": 587.0, \"preds\": null}, {\"target\": 590.0, \"preds\": null}, {\"target\": 567.0, \"preds\": null}, {\"target\": 571.0, \"preds\": null}, {\"target\": 574.0, \"preds\": null}, {\"target\": 586.0, \"preds\": null}, {\"target\": 571.0, \"preds\": null}, {\"target\": 590.0, \"preds\": null}, {\"target\": 594.0, \"preds\": null}, {\"target\": 581.0, \"preds\": null}, {\"target\": 583.0, \"preds\": null}, {\"target\": 587.0, \"preds\": null}, {\"target\": 585.0, \"preds\": null}, {\"target\": 571.0, \"preds\": null}, {\"target\": 578.0, \"preds\": null}, {\"target\": 624.5, \"preds\": null}, {\"target\": 562.0, \"preds\": null}, {\"target\": 567.0, \"preds\": null}, {\"target\": 564.0, \"preds\": null}, {\"target\": 591.0, \"preds\": null}, {\"target\": 574.0, \"preds\": null}, {\"target\": 613.0, \"preds\": null}, {\"target\": 571.0, \"preds\": null}, {\"target\": 571.0, \"preds\": null}, {\"target\": 572.0, \"preds\": null}, {\"target\": 567.0, \"preds\": null}, {\"target\": 560.0, \"preds\": null}, {\"target\": 565.0, \"preds\": null}, {\"target\": 572.0, \"preds\": null}, {\"target\": 571.0, \"preds\": null}, {\"target\": 563.0, \"preds\": null}, {\"target\": 564.0, \"preds\": null}, {\"target\": 567.0, \"preds\": null}, {\"target\": 576.0, \"preds\": null}, {\"target\": 569.0, \"preds\": null}, {\"target\": 567.0, \"preds\": null}, {\"target\": 569.0, \"preds\": null}, {\"target\": 586.0, \"preds\": null}, {\"target\": 571.0, \"preds\": null}, {\"target\": 568.0, \"preds\": null}, {\"target\": 583.0, \"preds\": null}, {\"target\": 564.0, \"preds\": null}, {\"target\": 606.0, \"preds\": null}, {\"target\": 560.0, \"preds\": null}, {\"target\": 568.0, \"preds\": null}, {\"target\": 568.0, \"preds\": null}, {\"target\": 568.0, \"preds\": null}, {\"target\": 567.0, \"preds\": null}, {\"target\": 578.0, \"preds\": null}, {\"target\": 618.0, \"preds\": null}, {\"target\": 567.0, \"preds\": null}, {\"target\": 624.5, \"preds\": null}, {\"target\": 565.0, \"preds\": null}, {\"target\": 572.0, \"preds\": null}, {\"target\": 578.0, \"preds\": null}, {\"target\": 578.0, \"preds\": null}, {\"target\": 596.0, \"preds\": null}, {\"target\": 574.0, \"preds\": null}, {\"target\": 563.0, \"preds\": null}, {\"target\": 567.0, \"preds\": null}, {\"target\": 567.0, \"preds\": null}, {\"target\": 571.0, \"preds\": null}, {\"target\": 587.0, \"preds\": null}, {\"target\": 574.0, \"preds\": null}, {\"target\": 581.0, \"preds\": null}, {\"target\": 574.0, \"preds\": null}, {\"target\": 572.0, \"preds\": null}, {\"target\": 568.0, \"preds\": null}, {\"target\": 568.0, \"preds\": null}, {\"target\": 577.0, \"preds\": null}, {\"target\": 571.0, \"preds\": null}, {\"target\": 587.0, \"preds\": null}, {\"target\": 571.0, \"preds\": null}, {\"target\": 571.0, \"preds\": null}, {\"target\": 574.0, \"preds\": null}, {\"target\": 568.0, \"preds\": null}, {\"target\": 566.0, \"preds\": null}, {\"target\": 561.0, \"preds\": null}, {\"target\": 567.0, \"preds\": null}, {\"target\": 577.0, \"preds\": null}, {\"target\": 567.0, \"preds\": null}, {\"target\": 565.0, \"preds\": null}, {\"target\": 571.0, \"preds\": null}, {\"target\": 587.0, \"preds\": null}, {\"target\": 613.0, \"preds\": null}, {\"target\": 581.0, \"preds\": null}, {\"target\": 576.0, \"preds\": null}, {\"target\": 574.0, \"preds\": null}, {\"target\": 562.0, \"preds\": null}, {\"target\": 600.0, \"preds\": null}, {\"target\": 601.0, \"preds\": null}, {\"target\": 594.0, \"preds\": null}, {\"target\": 576.0, \"preds\": null}, {\"target\": 572.0, \"preds\": null}, {\"target\": 573.0, \"preds\": null}, {\"target\": 565.0, \"preds\": null}, {\"target\": 557.0, \"preds\": null}, {\"target\": 574.0, \"preds\": null}, {\"target\": 571.0, \"preds\": null}, {\"target\": 587.0, \"preds\": null}, {\"target\": 572.0, \"preds\": null}, {\"target\": 600.0, \"preds\": null}, {\"target\": 569.0, \"preds\": null}, {\"target\": 587.0, \"preds\": null}, {\"target\": 600.0, \"preds\": null}, {\"target\": 590.0, \"preds\": null}, {\"target\": 581.0, \"preds\": null}, {\"target\": 566.0, \"preds\": null}, {\"target\": 573.0, \"preds\": null}, {\"target\": 600.0, \"preds\": null}, {\"target\": 581.0, \"preds\": null}, {\"target\": 578.0, \"preds\": null}, {\"target\": 568.0, \"preds\": null}, {\"target\": 571.0, \"preds\": null}, {\"target\": 562.0, \"preds\": null}, {\"target\": 569.0, \"preds\": null}, {\"target\": 571.0, \"preds\": null}, {\"target\": 571.0, \"preds\": null}, {\"target\": 581.0, \"preds\": null}, {\"target\": 583.0, \"preds\": null}, {\"target\": 574.0, \"preds\": null}, {\"target\": 562.0, \"preds\": null}, {\"target\": 576.0, \"preds\": null}, {\"target\": 566.0, \"preds\": null}, {\"target\": 573.0, \"preds\": null}, {\"target\": 574.0, \"preds\": null}, {\"target\": 563.0, \"preds\": null}, {\"target\": 573.0, \"preds\": null}, {\"target\": 568.0, \"preds\": null}, {\"target\": 571.0, \"preds\": null}, {\"target\": 571.0, \"preds\": null}, {\"target\": 567.0, \"preds\": null}, {\"target\": 578.0, \"preds\": null}, {\"target\": 573.0, \"preds\": null}, {\"target\": 567.0, \"preds\": null}, {\"target\": 565.0, \"preds\": null}, {\"target\": 573.0, \"preds\": null}, {\"target\": 568.0, \"preds\": null}, {\"target\": 577.0, \"preds\": null}, {\"target\": 568.0, \"preds\": null}, {\"target\": 583.0, \"preds\": null}, {\"target\": 571.0, \"preds\": null}, {\"target\": 564.0, \"preds\": null}, {\"target\": 581.0, \"preds\": null}, {\"target\": 587.0, \"preds\": null}, {\"target\": 587.0, \"preds\": null}, {\"target\": 571.0, \"preds\": null}, {\"target\": 568.0, \"preds\": null}, {\"target\": 577.0, \"preds\": null}, {\"target\": 624.5, \"preds\": null}, {\"target\": 569.0, \"preds\": null}, {\"target\": 567.0, \"preds\": null}, {\"target\": 581.0, \"preds\": null}, {\"target\": 578.0, \"preds\": null}, {\"target\": 571.0, \"preds\": null}, {\"target\": 571.0, \"preds\": null}, {\"target\": 591.0, \"preds\": null}, {\"target\": 563.0, \"preds\": null}, {\"target\": 571.0, \"preds\": null}, {\"target\": 595.0, \"preds\": null}, {\"target\": 564.0, \"preds\": null}, {\"target\": 583.0, \"preds\": null}, {\"target\": 578.0, \"preds\": null}, {\"target\": 573.0, \"preds\": null}, {\"target\": 567.0, \"preds\": null}, {\"target\": 564.0, \"preds\": null}, {\"target\": 574.0, \"preds\": null}, {\"target\": 562.0, \"preds\": null}, {\"target\": 573.0, \"preds\": null}, {\"target\": 568.0, \"preds\": null}, {\"target\": 568.0, \"preds\": null}, {\"target\": 572.0, \"preds\": null}, {\"target\": 581.0, \"preds\": null}, {\"target\": 587.0, \"preds\": null}, {\"target\": 565.0, \"preds\": null}, {\"target\": 624.5, \"preds\": null}, {\"target\": 571.0, \"preds\": null}, {\"target\": 571.0, \"preds\": null}, {\"target\": 568.0, \"preds\": null}, {\"target\": 567.0, \"preds\": null}, {\"target\": 581.0, \"preds\": null}, {\"target\": 573.0, \"preds\": null}, {\"target\": 573.0, \"preds\": null}, {\"target\": 562.0, \"preds\": null}, {\"target\": 567.0, \"preds\": null}, {\"target\": 561.0, \"preds\": null}, {\"target\": 594.0, \"preds\": null}, {\"target\": 576.0, \"preds\": null}, {\"target\": 567.0, \"preds\": null}, {\"target\": 571.0, \"preds\": null}, {\"target\": 584.0, \"preds\": null}, {\"target\": 568.0, \"preds\": null}, {\"target\": 572.0, \"preds\": null}, {\"target\": 571.0, \"preds\": null}, {\"target\": 565.0, \"preds\": null}, {\"target\": 587.0, \"preds\": null}, {\"target\": 588.0, \"preds\": null}, {\"target\": 574.0, \"preds\": null}, {\"target\": 571.0, \"preds\": null}, {\"target\": 581.0, \"preds\": null}, {\"target\": 566.0, \"preds\": null}, {\"target\": 574.0, \"preds\": null}, {\"target\": 567.0, \"preds\": null}, {\"target\": 573.0, \"preds\": null}, {\"target\": 569.0, \"preds\": null}, {\"target\": 568.0, \"preds\": null}, {\"target\": 624.5, \"preds\": null}, {\"target\": 587.0, \"preds\": null}, {\"target\": 590.0, \"preds\": null}, {\"target\": 571.0, \"preds\": null}, {\"target\": 576.0, \"preds\": null}, {\"target\": 565.0, \"preds\": null}, {\"target\": 573.0, \"preds\": null}, {\"target\": 568.0, \"preds\": null}, {\"target\": 576.0, \"preds\": null}, {\"target\": 563.0, \"preds\": null}, {\"target\": 588.0, \"preds\": null}, {\"target\": 591.0, \"preds\": null}, {\"target\": 566.0, \"preds\": null}, {\"target\": 571.0, \"preds\": null}, {\"target\": 587.0, \"preds\": null}, {\"target\": 571.0, \"preds\": null}, {\"target\": 563.0, \"preds\": null}, {\"target\": 566.0, \"preds\": null}, {\"target\": 565.0, \"preds\": null}, {\"target\": 571.0, \"preds\": null}, {\"target\": 574.0, \"preds\": null}, {\"target\": 575.0, \"preds\": null}, {\"target\": 581.0, \"preds\": null}, {\"target\": 574.0, \"preds\": null}, {\"target\": 577.0, \"preds\": null}, {\"target\": 581.0, \"preds\": null}, {\"target\": 587.0, \"preds\": null}, {\"target\": 564.0, \"preds\": null}, {\"target\": 568.0, \"preds\": null}, {\"target\": 573.0, \"preds\": null}, {\"target\": 574.0, \"preds\": null}, {\"target\": 581.0, \"preds\": null}, {\"target\": 568.0, \"preds\": null}, {\"target\": 594.0, \"preds\": null}, {\"target\": 572.0, \"preds\": null}, {\"target\": 565.0, \"preds\": null}, {\"target\": 580.0, \"preds\": null}, {\"target\": 574.0, \"preds\": null}, {\"target\": 568.0, \"preds\": null}, {\"target\": 564.0, \"preds\": null}, {\"target\": 574.0, \"preds\": null}, {\"target\": 567.0, \"preds\": null}, {\"target\": 564.0, \"preds\": null}, {\"target\": 568.0, \"preds\": null}, {\"target\": 565.0, \"preds\": null}, {\"target\": 559.0, \"preds\": null}, {\"target\": 571.0, \"preds\": null}, {\"target\": 581.0, \"preds\": null}, {\"target\": 581.0, \"preds\": null}, {\"target\": 624.5, \"preds\": null}, {\"target\": 568.0, \"preds\": null}, {\"target\": 566.0, \"preds\": null}, {\"target\": 565.0, \"preds\": null}, {\"target\": 565.0, \"preds\": null}, {\"target\": 572.0, \"preds\": null}, {\"target\": 568.0, \"preds\": null}, {\"target\": 571.0, \"preds\": null}, {\"target\": 567.0, \"preds\": null}, {\"target\": 563.0, \"preds\": null}, {\"target\": 596.0, \"preds\": null}, {\"target\": 581.0, \"preds\": null}, {\"target\": 567.0, \"preds\": null}, {\"target\": 567.0, \"preds\": null}, {\"target\": 564.0, \"preds\": null}, {\"target\": 577.0, \"preds\": null}, {\"target\": 580.0, \"preds\": null}, {\"target\": 587.0, \"preds\": null}, {\"target\": 573.0, \"preds\": null}, {\"target\": 574.0, \"preds\": null}, {\"target\": 572.0, \"preds\": null}, {\"target\": 571.0, \"preds\": null}, {\"target\": 565.0, \"preds\": null}, {\"target\": 572.0, \"preds\": null}, {\"target\": 622.0, \"preds\": null}, {\"target\": 578.0, \"preds\": null}, {\"target\": 564.0, \"preds\": null}, {\"target\": 576.0, \"preds\": null}, {\"target\": 572.0, \"preds\": null}, {\"target\": 563.0, \"preds\": null}, {\"target\": 568.0, \"preds\": null}, {\"target\": 571.0, \"preds\": null}, {\"target\": 568.0, \"preds\": null}, {\"target\": 567.0, \"preds\": null}, {\"target\": 565.0, \"preds\": null}, {\"target\": 624.5, \"preds\": null}, {\"target\": 566.0, \"preds\": null}, {\"target\": 565.0, \"preds\": null}, {\"target\": 562.0, \"preds\": null}, {\"target\": 565.0, \"preds\": null}, {\"target\": 571.0, \"preds\": null}, {\"target\": 575.0, \"preds\": null}, {\"target\": 588.0, \"preds\": null}, {\"target\": 565.0, \"preds\": null}, {\"target\": 568.0, \"preds\": null}, {\"target\": 581.0, \"preds\": null}, {\"target\": 571.0, \"preds\": null}, {\"target\": 578.0, \"preds\": null}, {\"target\": 582.0, \"preds\": null}, {\"target\": 588.0, \"preds\": null}, {\"target\": 623.0, \"preds\": null}, {\"target\": 572.0, \"preds\": null}, {\"target\": 568.0, \"preds\": null}, {\"target\": 583.0, \"preds\": null}, {\"target\": 596.0, \"preds\": null}, {\"target\": 606.0, \"preds\": null}, {\"target\": 567.0, \"preds\": null}, {\"target\": 587.0, \"preds\": null}, {\"target\": 566.0, \"preds\": null}, {\"target\": 581.0, \"preds\": null}, {\"target\": 571.0, \"preds\": null}, {\"target\": 571.0, \"preds\": null}, {\"target\": 568.0, \"preds\": null}, {\"target\": 578.0, \"preds\": null}, {\"target\": 571.0, \"preds\": null}, {\"target\": 572.0, \"preds\": null}, {\"target\": 572.0, \"preds\": null}, {\"target\": 587.0, \"preds\": null}, {\"target\": 568.0, \"preds\": null}, {\"target\": 572.0, \"preds\": null}, {\"target\": 582.0, \"preds\": null}, {\"target\": 568.0, \"preds\": null}, {\"target\": 572.0, \"preds\": null}, {\"target\": 624.5, \"preds\": null}, {\"target\": 596.0, \"preds\": null}, {\"target\": 583.0, \"preds\": null}, {\"target\": 566.0, \"preds\": null}, {\"target\": 571.0, \"preds\": null}, {\"target\": 574.0, \"preds\": null}, {\"target\": 559.0, \"preds\": null}, {\"target\": 622.0, \"preds\": null}, {\"target\": 565.0, \"preds\": null}, {\"target\": 568.0, \"preds\": null}, {\"target\": 605.0, \"preds\": null}, {\"target\": 567.0, \"preds\": null}, {\"target\": 574.0, \"preds\": null}, {\"target\": 565.0, \"preds\": null}, {\"target\": 563.0, \"preds\": null}, {\"target\": 600.0, \"preds\": null}, {\"target\": 576.0, \"preds\": null}, {\"target\": 564.0, \"preds\": null}, {\"target\": 565.0, \"preds\": null}, {\"target\": 583.0, \"preds\": null}, {\"target\": 571.0, \"preds\": null}, {\"target\": 587.0, \"preds\": null}, {\"target\": 571.0, \"preds\": null}, {\"target\": 567.0, \"preds\": null}, {\"target\": 567.0, \"preds\": null}, {\"target\": 594.0, \"preds\": null}, {\"target\": 575.0, \"preds\": null}, {\"target\": 569.0, \"preds\": null}, {\"target\": 576.0, \"preds\": null}, {\"target\": 563.0, \"preds\": null}, {\"target\": 574.0, \"preds\": null}, {\"target\": 582.0, \"preds\": null}, {\"target\": 594.0, \"preds\": null}, {\"target\": 564.0, \"preds\": null}, {\"target\": 576.0, \"preds\": null}, {\"target\": 583.0, \"preds\": null}, {\"target\": 571.0, \"preds\": null}, {\"target\": 572.0, \"preds\": null}, {\"target\": 568.0, \"preds\": null}, {\"target\": 574.0, \"preds\": null}, {\"target\": 574.0, \"preds\": null}, {\"target\": 567.0, \"preds\": null}, {\"target\": 581.0, \"preds\": null}, {\"target\": 564.0, \"preds\": null}, {\"target\": 613.0, \"preds\": null}, {\"target\": 571.0, \"preds\": null}, {\"target\": 586.0, \"preds\": null}, {\"target\": 576.0, \"preds\": null}, {\"target\": 574.0, \"preds\": null}, {\"target\": 565.0, \"preds\": null}, {\"target\": 564.0, \"preds\": null}, {\"target\": 583.0, \"preds\": null}, {\"target\": 563.0, \"preds\": null}, {\"target\": 567.0, \"preds\": null}, {\"target\": 567.0, \"preds\": null}, {\"target\": 574.0, \"preds\": null}, {\"target\": 574.0, \"preds\": null}, {\"target\": 574.0, \"preds\": null}, {\"target\": 564.0, \"preds\": null}, {\"target\": 562.0, \"preds\": null}, {\"target\": 571.0, \"preds\": null}, {\"target\": 571.0, \"preds\": null}, {\"target\": 571.0, \"preds\": null}, {\"target\": 578.0, \"preds\": null}, {\"target\": 587.0, \"preds\": null}, {\"target\": 585.0, \"preds\": null}, {\"target\": 569.0, \"preds\": null}, {\"target\": 603.0, \"preds\": null}, {\"target\": 576.0, \"preds\": null}, {\"target\": 587.0, \"preds\": null}, {\"target\": 568.0, \"preds\": null}, {\"target\": 571.0, \"preds\": null}, {\"target\": 574.0, \"preds\": null}, {\"target\": 600.0, \"preds\": null}, {\"target\": 594.0, \"preds\": null}, {\"target\": 565.0, \"preds\": null}, {\"target\": 564.0, \"preds\": null}, {\"target\": 562.0, \"preds\": null}, {\"target\": 562.0, \"preds\": null}, {\"target\": 566.0, \"preds\": null}, {\"target\": 565.0, \"preds\": null}, {\"target\": 576.0, \"preds\": null}, {\"target\": 600.0, \"preds\": null}, {\"target\": 613.0, \"preds\": null}, {\"target\": 624.5, \"preds\": null}, {\"target\": 624.5, \"preds\": null}, {\"target\": 567.0, \"preds\": null}, {\"target\": 569.0, \"preds\": null}, {\"target\": 563.0, \"preds\": null}, {\"target\": 567.0, \"preds\": null}, {\"target\": 578.0, \"preds\": null}, {\"target\": 624.5, \"preds\": null}, {\"target\": 567.0, \"preds\": null}, {\"target\": 600.0, \"preds\": null}, {\"target\": 565.0, \"preds\": null}, {\"target\": 587.0, \"preds\": null}, {\"target\": 571.0, \"preds\": null}, {\"target\": 565.0, \"preds\": null}, {\"target\": 565.0, \"preds\": null}, {\"target\": 581.0, \"preds\": null}, {\"target\": 624.5, \"preds\": null}, {\"target\": 562.0, \"preds\": null}, {\"target\": 587.0, \"preds\": null}, {\"target\": 564.0, \"preds\": null}, {\"target\": 568.0, \"preds\": null}, {\"target\": 587.0, \"preds\": null}, {\"target\": 615.0, \"preds\": null}, {\"target\": 568.0, \"preds\": null}, {\"target\": 565.0, \"preds\": null}, {\"target\": 568.0, \"preds\": null}, {\"target\": 569.0, \"preds\": null}, {\"target\": 574.0, \"preds\": null}, {\"target\": 565.0, \"preds\": null}, {\"target\": 564.0, \"preds\": null}, {\"target\": 565.0, \"preds\": null}, {\"target\": 569.0, \"preds\": null}, {\"target\": 569.0, \"preds\": null}, {\"target\": 565.0, \"preds\": null}, {\"target\": 577.0, \"preds\": null}, {\"target\": 581.0, \"preds\": null}, {\"target\": 578.0, \"preds\": null}, {\"target\": 576.0, \"preds\": null}, {\"target\": 572.0, \"preds\": null}, {\"target\": 572.0, \"preds\": null}, {\"target\": 578.0, \"preds\": null}, {\"target\": 574.0, \"preds\": null}, {\"target\": 560.0, \"preds\": null}, {\"target\": 574.0, \"preds\": null}, {\"target\": 567.0, \"preds\": null}, {\"target\": 587.0, \"preds\": null}, {\"target\": 587.0, \"preds\": null}, {\"target\": 572.0, \"preds\": null}, {\"target\": 581.0, \"preds\": null}, {\"target\": 574.0, \"preds\": null}, {\"target\": 571.0, \"preds\": null}, {\"target\": 565.0, \"preds\": null}, {\"target\": 594.0, \"preds\": null}, {\"target\": 571.0, \"preds\": null}, {\"target\": 563.0, \"preds\": null}, {\"target\": 567.0, \"preds\": null}, {\"target\": 568.0, \"preds\": null}, {\"target\": 568.0, \"preds\": null}, {\"target\": 572.0, \"preds\": null}, {\"target\": 577.0, \"preds\": null}, {\"target\": 587.0, \"preds\": null}, {\"target\": 574.0, \"preds\": null}, {\"target\": 565.0, \"preds\": null}, {\"target\": 574.0, \"preds\": null}, {\"target\": 565.0, \"preds\": null}, {\"target\": 569.0, \"preds\": null}, {\"target\": 567.0, \"preds\": null}, {\"target\": 562.0, \"preds\": null}, {\"target\": 566.0, \"preds\": null}, {\"target\": 567.0, \"preds\": null}, {\"target\": 574.0, \"preds\": null}, {\"target\": 572.0, \"preds\": null}, {\"target\": 569.0, \"preds\": null}, {\"target\": 563.0, \"preds\": null}, {\"target\": 574.0, \"preds\": null}, {\"target\": 613.0, \"preds\": null}, {\"target\": 565.0, \"preds\": null}, {\"target\": 568.0, \"preds\": null}, {\"target\": 567.0, \"preds\": null}, {\"target\": 571.0, \"preds\": null}, {\"target\": 574.0, \"preds\": null}, {\"target\": 565.0, \"preds\": null}, {\"target\": 574.0, \"preds\": null}, {\"target\": 575.0, \"preds\": null}, {\"target\": 565.0, \"preds\": null}, {\"target\": 568.0, \"preds\": null}, {\"target\": 574.0, \"preds\": null}, {\"target\": 563.0, \"preds\": null}, {\"target\": 596.0, \"preds\": null}, {\"target\": 583.0, \"preds\": null}, {\"target\": 571.0, \"preds\": null}, {\"target\": 572.0, \"preds\": null}, {\"target\": 581.0, \"preds\": null}, {\"target\": 567.0, \"preds\": null}, {\"target\": 569.0, \"preds\": null}, {\"target\": 571.0, \"preds\": null}, {\"target\": 624.5, \"preds\": null}, {\"target\": 588.0, \"preds\": null}, {\"target\": 573.0, \"preds\": null}, {\"target\": 574.0, \"preds\": null}, {\"target\": 564.0, \"preds\": null}, {\"target\": 576.0, \"preds\": null}, {\"target\": 577.0, \"preds\": null}, {\"target\": 578.0, \"preds\": null}, {\"target\": 581.0, \"preds\": null}, {\"target\": 578.0, \"preds\": null}, {\"target\": 580.0, \"preds\": null}, {\"target\": 567.0, \"preds\": null}, {\"target\": 594.0, \"preds\": null}, {\"target\": 565.0, \"preds\": null}, {\"target\": 583.0, \"preds\": null}, {\"target\": 564.0, \"preds\": null}, {\"target\": 569.0, \"preds\": null}, {\"target\": 571.0, \"preds\": null}, {\"target\": 569.0, \"preds\": null}, {\"target\": 561.0, \"preds\": null}, {\"target\": 572.0, \"preds\": null}, {\"target\": 563.0, \"preds\": null}, {\"target\": 571.0, \"preds\": null}, {\"target\": 600.0, \"preds\": null}, {\"target\": 576.0, \"preds\": null}, {\"target\": 571.0, \"preds\": null}, {\"target\": 624.5, \"preds\": null}, {\"target\": 581.0, \"preds\": null}, {\"target\": 587.0, \"preds\": null}, {\"target\": 577.0, \"preds\": null}, {\"target\": 562.0, \"preds\": null}, {\"target\": 565.0, \"preds\": null}, {\"target\": 577.0, \"preds\": null}, {\"target\": 574.0, \"preds\": null}, {\"target\": 567.0, \"preds\": null}, {\"target\": 572.0, \"preds\": null}, {\"target\": 565.0, \"preds\": null}, {\"target\": 572.0, \"preds\": null}, {\"target\": 578.0, \"preds\": null}, {\"target\": 600.0, \"preds\": null}, {\"target\": 571.0, \"preds\": null}, {\"target\": 574.0, \"preds\": null}, {\"target\": 592.0, \"preds\": null}, {\"target\": 574.0, \"preds\": null}], \"data-1f6f6860f05918627a0a181d822eb138\": [{\"target\": 568.0, \"preds\": 568.0}, {\"target\": 581.0, \"preds\": 581.0}, {\"target\": 577.0, \"preds\": 577.0}, {\"target\": 565.0, \"preds\": 565.0}, {\"target\": 564.0, \"preds\": 564.0}, {\"target\": 568.0, \"preds\": 568.0}, {\"target\": 562.0, \"preds\": 562.0}, {\"target\": 588.0, \"preds\": 588.0}, {\"target\": 568.0, \"preds\": 568.0}, {\"target\": 587.0, \"preds\": 587.0}, {\"target\": 562.0, \"preds\": 562.0}, {\"target\": 564.0, \"preds\": 564.0}, {\"target\": 562.0, \"preds\": 562.0}, {\"target\": 566.0, \"preds\": 566.0}, {\"target\": 606.0, \"preds\": 606.0}, {\"target\": 563.0, \"preds\": 563.0}, {\"target\": 568.0, \"preds\": 568.0}, {\"target\": 569.0, \"preds\": 569.0}, {\"target\": 563.0, \"preds\": 563.0}, {\"target\": 567.0, \"preds\": 567.0}, {\"target\": 560.0, \"preds\": 560.0}, {\"target\": 564.0, \"preds\": 564.0}, {\"target\": 565.0, \"preds\": 565.0}, {\"target\": 564.0, \"preds\": 564.0}, {\"target\": 562.0, \"preds\": 562.0}, {\"target\": 563.0, \"preds\": 563.0}, {\"target\": 566.0, \"preds\": 566.0}, {\"target\": 571.0, \"preds\": 571.0}, {\"target\": 565.0, \"preds\": 565.0}, {\"target\": 574.0, \"preds\": 574.0}, {\"target\": 563.0, \"preds\": 563.0}, {\"target\": 583.0, \"preds\": 583.0}, {\"target\": 574.0, \"preds\": 574.0}, {\"target\": 571.0, \"preds\": 571.0}, {\"target\": 564.0, \"preds\": 564.0}, {\"target\": 582.0, \"preds\": 582.0}, {\"target\": 568.0, \"preds\": 568.0}, {\"target\": 571.0, \"preds\": 571.0}, {\"target\": 562.0, \"preds\": 562.0}, {\"target\": 566.0, \"preds\": 566.0}, {\"target\": 563.0, \"preds\": 563.0}, {\"target\": 568.0, \"preds\": 568.0}, {\"target\": 561.0, \"preds\": 561.0}, {\"target\": 594.0, \"preds\": 594.0}, {\"target\": 574.0, \"preds\": 574.0}, {\"target\": 565.0, \"preds\": 565.0}, {\"target\": 565.0, \"preds\": 565.0}, {\"target\": 574.0, \"preds\": 574.0}, {\"target\": 569.0, \"preds\": 569.0}, {\"target\": 564.0, \"preds\": 564.0}, {\"target\": 563.0, \"preds\": 563.0}, {\"target\": 563.0, \"preds\": 563.0}, {\"target\": 594.0, \"preds\": 594.0}, {\"target\": 568.0, \"preds\": 568.0}, {\"target\": 594.0, \"preds\": 594.0}, {\"target\": 560.0, \"preds\": 560.0}, {\"target\": 565.0, \"preds\": 565.0}, {\"target\": 565.0, \"preds\": 565.0}, {\"target\": 564.0, \"preds\": 564.0}, {\"target\": 565.0, \"preds\": 565.0}, {\"target\": 565.0, \"preds\": 565.0}, {\"target\": 576.0, \"preds\": 576.0}, {\"target\": 576.0, \"preds\": 576.0}, {\"target\": 564.0, \"preds\": 564.0}, {\"target\": 606.0, \"preds\": 606.0}, {\"target\": 571.0, \"preds\": 571.0}, {\"target\": 562.0, \"preds\": 562.0}, {\"target\": 562.0, \"preds\": 562.0}, {\"target\": 564.0, \"preds\": 564.0}, {\"target\": 565.0, \"preds\": 565.0}, {\"target\": 574.0, \"preds\": 574.0}, {\"target\": 566.0, \"preds\": 566.0}, {\"target\": 574.0, \"preds\": 574.0}, {\"target\": 581.0, \"preds\": 581.0}, {\"target\": 564.0, \"preds\": 564.0}, {\"target\": 568.0, \"preds\": 568.0}, {\"target\": 564.0, \"preds\": 564.0}, {\"target\": 583.0, \"preds\": 583.0}, {\"target\": 566.0, \"preds\": 566.0}, {\"target\": 578.0, \"preds\": 578.0}, {\"target\": 567.0, \"preds\": 567.0}, {\"target\": 563.0, \"preds\": 563.0}, {\"target\": 581.0, \"preds\": 581.0}, {\"target\": 562.0, \"preds\": 562.0}, {\"target\": 568.0, \"preds\": 568.0}, {\"target\": 578.0, \"preds\": 578.0}, {\"target\": 574.0, \"preds\": 574.0}, {\"target\": 583.0, \"preds\": 583.0}, {\"target\": 600.0, \"preds\": 600.0}, {\"target\": 582.0, \"preds\": 582.0}, {\"target\": 624.5, \"preds\": 624.5}, {\"target\": 563.0, \"preds\": 563.0}, {\"target\": 565.0, \"preds\": 565.0}, {\"target\": 565.0, \"preds\": 565.0}, {\"target\": 563.0, \"preds\": 563.0}, {\"target\": 565.0, \"preds\": 565.0}, {\"target\": 574.0, \"preds\": 574.0}, {\"target\": 573.0, \"preds\": 573.0}, {\"target\": 562.0, \"preds\": 562.0}, {\"target\": 564.0, \"preds\": 564.0}, {\"target\": 560.0, \"preds\": 560.0}, {\"target\": 573.0, \"preds\": 573.0}, {\"target\": 563.0, \"preds\": 563.0}, {\"target\": 565.0, \"preds\": 565.0}, {\"target\": 568.0, \"preds\": 568.0}, {\"target\": 578.0, \"preds\": 578.0}, {\"target\": 565.0, \"preds\": 565.0}, {\"target\": 565.0, \"preds\": 565.0}, {\"target\": 561.0, \"preds\": 561.0}, {\"target\": 561.0, \"preds\": 561.0}, {\"target\": 561.0, \"preds\": 561.0}, {\"target\": 576.0, \"preds\": 576.0}, {\"target\": 573.0, \"preds\": 573.0}, {\"target\": 567.0, \"preds\": 567.0}, {\"target\": 562.0, \"preds\": 562.0}, {\"target\": 578.0, \"preds\": 578.0}, {\"target\": 566.0, \"preds\": 566.0}, {\"target\": 574.0, \"preds\": 574.0}, {\"target\": 571.0, \"preds\": 571.0}, {\"target\": 572.0, \"preds\": 572.0}, {\"target\": 565.0, \"preds\": 565.0}, {\"target\": 565.0, \"preds\": 565.0}, {\"target\": 565.0, \"preds\": 565.0}, {\"target\": 564.0, \"preds\": 564.0}, {\"target\": 558.0, \"preds\": 558.0}, {\"target\": 565.0, \"preds\": 565.0}, {\"target\": 562.0, \"preds\": 562.0}, {\"target\": 564.0, \"preds\": 564.0}, {\"target\": 560.0, \"preds\": 560.0}, {\"target\": 562.0, \"preds\": 562.0}, {\"target\": 564.0, \"preds\": 564.0}, {\"target\": 568.0, \"preds\": 568.0}, {\"target\": 564.0, \"preds\": 564.0}, {\"target\": 574.0, \"preds\": 574.0}, {\"target\": 563.0, \"preds\": 563.0}, {\"target\": 560.0, \"preds\": 560.0}, {\"target\": 567.0, \"preds\": 567.0}, {\"target\": 606.0, \"preds\": 606.0}, {\"target\": 576.0, \"preds\": 576.0}, {\"target\": 565.0, \"preds\": 565.0}, {\"target\": 571.0, \"preds\": 571.0}, {\"target\": 606.0, \"preds\": 606.0}, {\"target\": 562.0, \"preds\": 562.0}, {\"target\": 567.0, \"preds\": 567.0}, {\"target\": 564.0, \"preds\": 564.0}, {\"target\": 578.0, \"preds\": 578.0}, {\"target\": 567.0, \"preds\": 567.0}, {\"target\": 562.0, \"preds\": 562.0}, {\"target\": 565.0, \"preds\": 565.0}, {\"target\": 569.0, \"preds\": 569.0}, {\"target\": 574.0, \"preds\": 574.0}, {\"target\": 619.0, \"preds\": 619.0}, {\"target\": 571.0, \"preds\": 571.0}, {\"target\": 569.0, \"preds\": 569.0}, {\"target\": 571.0, \"preds\": 571.0}, {\"target\": 565.0, \"preds\": 565.0}, {\"target\": 578.0, \"preds\": 578.0}, {\"target\": 565.0, \"preds\": 565.0}, {\"target\": 564.0, \"preds\": 564.0}, {\"target\": 564.0, \"preds\": 564.0}, {\"target\": 572.0, \"preds\": 572.0}, {\"target\": 567.0, \"preds\": 567.0}, {\"target\": 568.0, \"preds\": 568.0}, {\"target\": 571.0, \"preds\": 571.0}, {\"target\": 562.0, \"preds\": 562.0}, {\"target\": 563.0, \"preds\": 563.0}, {\"target\": 562.0, \"preds\": 562.0}, {\"target\": 574.0, \"preds\": 574.0}, {\"target\": 567.0, \"preds\": 567.0}, {\"target\": 562.0, \"preds\": 562.0}, {\"target\": 568.0, \"preds\": 568.0}, {\"target\": 561.0, \"preds\": 561.0}, {\"target\": 562.0, \"preds\": 562.0}, {\"target\": 562.0, \"preds\": 562.0}, {\"target\": 562.0, \"preds\": 562.0}, {\"target\": 563.0, \"preds\": 563.0}, {\"target\": 578.0, \"preds\": 578.0}, {\"target\": 565.0, \"preds\": 565.0}, {\"target\": 572.0, \"preds\": 572.0}, {\"target\": 571.0, \"preds\": 571.0}, {\"target\": 569.0, \"preds\": 569.0}, {\"target\": 563.0, \"preds\": 563.0}, {\"target\": 581.0, \"preds\": 581.0}, {\"target\": 594.0, \"preds\": 594.0}, {\"target\": 564.0, \"preds\": 564.0}, {\"target\": 559.0, \"preds\": 559.0}, {\"target\": 587.0, \"preds\": 587.0}, {\"target\": 571.0, \"preds\": 571.0}, {\"target\": 566.0, \"preds\": 566.0}, {\"target\": 560.0, \"preds\": 560.0}, {\"target\": 559.0, \"preds\": 559.0}, {\"target\": 573.0, \"preds\": 573.0}, {\"target\": 578.0, \"preds\": 578.0}, {\"target\": 560.0, \"preds\": 560.0}, {\"target\": 576.0, \"preds\": 576.0}, {\"target\": 600.0, \"preds\": 600.0}, {\"target\": 582.0, \"preds\": 582.0}, {\"target\": 561.0, \"preds\": 561.0}, {\"target\": 574.0, \"preds\": 574.0}, {\"target\": 562.0, \"preds\": 562.0}, {\"target\": 566.0, \"preds\": 566.0}, {\"target\": 562.0, \"preds\": 562.0}, {\"target\": 566.0, \"preds\": 566.0}, {\"target\": 567.0, \"preds\": 567.0}, {\"target\": 565.0, \"preds\": 565.0}, {\"target\": 564.0, \"preds\": 564.0}, {\"target\": 574.0, \"preds\": 574.0}, {\"target\": 564.0, \"preds\": 564.0}, {\"target\": 568.0, \"preds\": 568.0}, {\"target\": 564.0, \"preds\": 564.0}, {\"target\": 563.0, \"preds\": 563.0}, {\"target\": 571.0, \"preds\": 571.0}, {\"target\": 563.0, \"preds\": 563.0}, {\"target\": 571.0, \"preds\": 571.0}, {\"target\": 565.0, \"preds\": 565.0}, {\"target\": 562.0, \"preds\": 562.0}, {\"target\": 566.0, \"preds\": 566.0}, {\"target\": 583.0, \"preds\": 583.0}, {\"target\": 564.0, \"preds\": 564.0}, {\"target\": 587.0, \"preds\": 587.0}, {\"target\": 564.0, \"preds\": 564.0}, {\"target\": 574.0, \"preds\": 574.0}, {\"target\": 563.0, \"preds\": 563.0}, {\"target\": 565.0, \"preds\": 565.0}, {\"target\": 606.0, \"preds\": 606.0}, {\"target\": 563.0, \"preds\": 563.0}, {\"target\": 574.0, \"preds\": 574.0}, {\"target\": 564.0, \"preds\": 564.0}, {\"target\": 565.0, \"preds\": 565.0}, {\"target\": 562.0, \"preds\": 562.0}, {\"target\": 563.0, \"preds\": 563.0}, {\"target\": 574.0, \"preds\": 574.0}, {\"target\": 594.0, \"preds\": 594.0}, {\"target\": 562.0, \"preds\": 562.0}, {\"target\": 574.0, \"preds\": 574.0}, {\"target\": 564.0, \"preds\": 564.0}, {\"target\": 564.0, \"preds\": 564.0}, {\"target\": 564.0, \"preds\": 564.0}, {\"target\": 578.0, \"preds\": 578.0}, {\"target\": 568.0, \"preds\": 568.0}, {\"target\": 557.0, \"preds\": 557.0}, {\"target\": 587.0, \"preds\": 587.0}, {\"target\": 571.0, \"preds\": 571.0}, {\"target\": 565.0, \"preds\": 565.0}, {\"target\": 564.0, \"preds\": 564.0}, {\"target\": 568.0, \"preds\": 568.0}, {\"target\": 573.0, \"preds\": 573.0}, {\"target\": 574.0, \"preds\": 574.0}, {\"target\": 564.0, \"preds\": 564.0}, {\"target\": 568.0, \"preds\": 568.0}, {\"target\": 569.0, \"preds\": 569.0}, {\"target\": 568.0, \"preds\": 568.0}, {\"target\": 562.0, \"preds\": 562.0}, {\"target\": 581.0, \"preds\": 581.0}, {\"target\": 600.0, \"preds\": 600.0}, {\"target\": 574.0, \"preds\": 574.0}, {\"target\": 581.0, \"preds\": 581.0}, {\"target\": 571.0, \"preds\": 571.0}, {\"target\": 559.0, \"preds\": 559.0}, {\"target\": 581.0, \"preds\": 581.0}, {\"target\": 567.0, \"preds\": 567.0}, {\"target\": 572.0, \"preds\": 572.0}, {\"target\": 567.0, \"preds\": 567.0}, {\"target\": 567.0, \"preds\": 567.0}, {\"target\": 568.0, \"preds\": 568.0}, {\"target\": 574.0, \"preds\": 574.0}, {\"target\": 564.0, \"preds\": 564.0}, {\"target\": 565.0, \"preds\": 565.0}, {\"target\": 565.0, \"preds\": 565.0}, {\"target\": 562.0, \"preds\": 562.0}, {\"target\": 573.0, \"preds\": 573.0}, {\"target\": 562.0, \"preds\": 562.0}, {\"target\": 562.0, \"preds\": 562.0}, {\"target\": 566.0, \"preds\": 566.0}, {\"target\": 576.0, \"preds\": 576.0}, {\"target\": 573.0, \"preds\": 573.0}, {\"target\": 565.0, \"preds\": 565.0}, {\"target\": 564.0, \"preds\": 564.0}, {\"target\": 565.0, \"preds\": 565.0}, {\"target\": 559.0, \"preds\": 559.0}, {\"target\": 560.0, \"preds\": 560.0}, {\"target\": 564.0, \"preds\": 564.0}, {\"target\": 581.0, \"preds\": 581.0}, {\"target\": 594.0, \"preds\": 594.0}, {\"target\": 565.0, \"preds\": 565.0}, {\"target\": 573.0, \"preds\": 573.0}, {\"target\": 564.0, \"preds\": 564.0}, {\"target\": 564.0, \"preds\": 564.0}, {\"target\": 564.0, \"preds\": 564.0}, {\"target\": 571.0, \"preds\": 571.0}, {\"target\": 566.0, \"preds\": 566.0}, {\"target\": 571.0, \"preds\": 571.0}, {\"target\": 581.0, \"preds\": 581.0}, {\"target\": 581.0, \"preds\": 581.0}, {\"target\": 563.0, \"preds\": 563.0}, {\"target\": 562.0, \"preds\": 562.0}, {\"target\": 564.0, \"preds\": 564.0}, {\"target\": 564.0, \"preds\": 564.0}, {\"target\": 564.0, \"preds\": 564.0}, {\"target\": 572.0, \"preds\": 572.0}, {\"target\": 564.0, \"preds\": 564.0}, {\"target\": 571.0, \"preds\": 571.0}, {\"target\": 574.0, \"preds\": 574.0}, {\"target\": 562.0, \"preds\": 562.0}, {\"target\": 565.0, \"preds\": 565.0}, {\"target\": 565.0, \"preds\": 565.0}, {\"target\": 562.0, \"preds\": 562.0}, {\"target\": 568.0, \"preds\": 568.0}, {\"target\": 571.0, \"preds\": 571.0}, {\"target\": 565.0, \"preds\": 565.0}, {\"target\": 562.0, \"preds\": 562.0}, {\"target\": 567.0, \"preds\": 567.0}, {\"target\": 565.0, \"preds\": 565.0}, {\"target\": 564.0, \"preds\": 564.0}, {\"target\": 574.0, \"preds\": 574.0}, {\"target\": 563.0, \"preds\": 563.0}, {\"target\": 568.0, \"preds\": 568.0}, {\"target\": 562.0, \"preds\": 562.0}, {\"target\": 564.0, \"preds\": 564.0}, {\"target\": 606.0, \"preds\": 606.0}, {\"target\": 571.0, \"preds\": 571.0}, {\"target\": 564.0, \"preds\": 564.0}, {\"target\": 568.0, \"preds\": 568.0}, {\"target\": 562.0, \"preds\": 562.0}, {\"target\": 564.0, \"preds\": 564.0}, {\"target\": 563.0, \"preds\": 563.0}, {\"target\": 574.0, \"preds\": 574.0}, {\"target\": 566.0, \"preds\": 566.0}, {\"target\": 564.0, \"preds\": 564.0}, {\"target\": 566.0, \"preds\": 566.0}, {\"target\": 563.0, \"preds\": 563.0}, {\"target\": 563.0, \"preds\": 563.0}, {\"target\": 565.0, \"preds\": 565.0}, {\"target\": 562.0, \"preds\": 562.0}, {\"target\": 563.0, \"preds\": 563.0}, {\"target\": 574.0, \"preds\": 574.0}, {\"target\": 567.0, \"preds\": 567.0}, {\"target\": 562.0, \"preds\": 562.0}, {\"target\": 565.0, \"preds\": 565.0}, {\"target\": 569.0, \"preds\": 569.0}, {\"target\": 568.0, \"preds\": 568.0}, {\"target\": 564.0, \"preds\": 564.0}, {\"target\": 563.0, \"preds\": 563.0}, {\"target\": 601.0, \"preds\": 601.0}, {\"target\": 566.0, \"preds\": 566.0}, {\"target\": 562.0, \"preds\": 562.0}, {\"target\": 564.0, \"preds\": 564.0}, {\"target\": 561.0, \"preds\": 561.0}, {\"target\": 563.0, \"preds\": 563.0}, {\"target\": 568.0, \"preds\": 568.0}, {\"target\": 571.0, \"preds\": 571.0}, {\"target\": 571.0, \"preds\": 571.0}, {\"target\": 571.0, \"preds\": 571.0}, {\"target\": 567.0, \"preds\": 567.0}, {\"target\": 562.0, \"preds\": 562.0}, {\"target\": 563.0, \"preds\": 563.0}, {\"target\": 562.0, \"preds\": 562.0}, {\"target\": 562.0, \"preds\": 562.0}, {\"target\": 566.0, \"preds\": 566.0}, {\"target\": 562.0, \"preds\": 562.0}, {\"target\": 562.0, \"preds\": 562.0}, {\"target\": 566.0, \"preds\": 566.0}, {\"target\": 583.0, \"preds\": 583.0}, {\"target\": 562.0, \"preds\": 562.0}, {\"target\": 564.0, \"preds\": 564.0}, {\"target\": 562.0, \"preds\": 562.0}, {\"target\": 564.0, \"preds\": 564.0}, {\"target\": 565.0, \"preds\": 565.0}, {\"target\": 562.0, \"preds\": 562.0}, {\"target\": 563.0, \"preds\": 563.0}, {\"target\": 562.0, \"preds\": 562.0}, {\"target\": 568.0, \"preds\": 568.0}, {\"target\": 568.0, \"preds\": 568.0}, {\"target\": 568.0, \"preds\": 568.0}, {\"target\": 562.0, \"preds\": 562.0}, {\"target\": 560.0, \"preds\": 560.0}, {\"target\": 594.0, \"preds\": 594.0}, {\"target\": 562.0, \"preds\": 562.0}, {\"target\": 571.0, \"preds\": 571.0}, {\"target\": 564.0, \"preds\": 564.0}, {\"target\": 566.0, \"preds\": 566.0}, {\"target\": 564.0, \"preds\": 564.0}, {\"target\": 567.0, \"preds\": 567.0}, {\"target\": 565.0, \"preds\": 565.0}, {\"target\": 574.0, \"preds\": 574.0}, {\"target\": 584.0, \"preds\": 584.0}, {\"target\": 571.0, \"preds\": 571.0}, {\"target\": 599.0, \"preds\": 599.0}, {\"target\": 573.0, \"preds\": 573.0}, {\"target\": 567.0, \"preds\": 567.0}, {\"target\": 564.0, \"preds\": 564.0}, {\"target\": 581.0, \"preds\": 581.0}, {\"target\": 565.0, \"preds\": 565.0}, {\"target\": 564.0, \"preds\": 564.0}, {\"target\": 567.0, \"preds\": 567.0}, {\"target\": 558.0, \"preds\": 558.0}, {\"target\": 565.0, \"preds\": 565.0}, {\"target\": 568.0, \"preds\": 568.0}, {\"target\": 574.0, \"preds\": 574.0}, {\"target\": 563.0, \"preds\": 563.0}, {\"target\": 573.0, \"preds\": 573.0}, {\"target\": 583.0, \"preds\": 583.0}, {\"target\": 568.0, \"preds\": 568.0}, {\"target\": 563.0, \"preds\": 563.0}, {\"target\": 568.0, \"preds\": 568.0}, {\"target\": 568.0, \"preds\": 568.0}, {\"target\": 562.0, \"preds\": 562.0}, {\"target\": 568.0, \"preds\": 568.0}, {\"target\": 564.0, \"preds\": 564.0}, {\"target\": 568.0, \"preds\": 568.0}, {\"target\": 563.0, \"preds\": 563.0}, {\"target\": 578.0, \"preds\": 578.0}, {\"target\": 565.0, \"preds\": 565.0}, {\"target\": 572.0, \"preds\": 572.0}, {\"target\": 581.0, \"preds\": 581.0}, {\"target\": 563.0, \"preds\": 563.0}, {\"target\": 568.0, \"preds\": 568.0}, {\"target\": 573.0, \"preds\": 573.0}, {\"target\": 569.0, \"preds\": 569.0}, {\"target\": 563.0, \"preds\": 563.0}, {\"target\": 571.0, \"preds\": 571.0}, {\"target\": 560.0, \"preds\": 560.0}, {\"target\": 606.0, \"preds\": 606.0}, {\"target\": 587.0, \"preds\": 587.0}, {\"target\": 558.0, \"preds\": 558.0}, {\"target\": 559.0, \"preds\": 559.0}, {\"target\": 562.0, \"preds\": 562.0}, {\"target\": 624.5, \"preds\": 624.5}, {\"target\": 563.0, \"preds\": 563.0}, {\"target\": 564.0, \"preds\": 564.0}, {\"target\": 562.0, \"preds\": 562.0}, {\"target\": 624.5, \"preds\": 624.5}, {\"target\": 565.0, \"preds\": 565.0}, {\"target\": 613.0, \"preds\": 613.0}, {\"target\": 562.0, \"preds\": 562.0}, {\"target\": 571.0, \"preds\": 571.0}, {\"target\": 587.0, \"preds\": 587.0}, {\"target\": 578.0, \"preds\": 578.0}, {\"target\": 587.0, \"preds\": 587.0}, {\"target\": 624.5, \"preds\": 624.5}, {\"target\": 613.0, \"preds\": 613.0}, {\"target\": 624.5, \"preds\": 624.5}, {\"target\": 573.0, \"preds\": 573.0}, {\"target\": 624.5, \"preds\": 624.5}, {\"target\": 624.5, \"preds\": 624.5}, {\"target\": 583.0, \"preds\": 583.0}, {\"target\": 597.0, \"preds\": 597.0}, {\"target\": 596.0, \"preds\": 596.0}, {\"target\": 618.0, \"preds\": 618.0}, {\"target\": 591.0, \"preds\": 591.0}, {\"target\": 598.0, \"preds\": 598.0}, {\"target\": 624.5, \"preds\": 624.5}, {\"target\": 624.5, \"preds\": 624.5}, {\"target\": 583.0, \"preds\": 583.0}, {\"target\": 565.0, \"preds\": 565.0}, {\"target\": 581.0, \"preds\": 581.0}, {\"target\": 587.0, \"preds\": 587.0}, {\"target\": 573.0, \"preds\": 573.0}, {\"target\": 580.0, \"preds\": 580.0}, {\"target\": 585.0, \"preds\": 585.0}, {\"target\": 596.0, \"preds\": 596.0}, {\"target\": 624.5, \"preds\": 624.5}, {\"target\": 594.0, \"preds\": 594.0}, {\"target\": 624.5, \"preds\": 624.5}, {\"target\": 581.0, \"preds\": 581.0}, {\"target\": 587.0, \"preds\": 587.0}, {\"target\": 612.0, \"preds\": 612.0}, {\"target\": 624.5, \"preds\": 624.5}, {\"target\": 596.0, \"preds\": 596.0}, {\"target\": 613.0, \"preds\": 613.0}, {\"target\": 624.5, \"preds\": 624.5}, {\"target\": 624.5, \"preds\": 624.5}, {\"target\": 624.5, \"preds\": 624.5}, {\"target\": 606.0, \"preds\": 606.0}, {\"target\": 624.5, \"preds\": 624.5}, {\"target\": 572.0, \"preds\": 572.0}, {\"target\": 591.0, \"preds\": 591.0}, {\"target\": 591.0, \"preds\": 591.0}, {\"target\": 572.0, \"preds\": 572.0}, {\"target\": 596.0, \"preds\": 596.0}, {\"target\": 624.5, \"preds\": 624.5}, {\"target\": 606.0, \"preds\": 606.0}, {\"target\": 624.5, \"preds\": 624.5}, {\"target\": 594.0, \"preds\": 594.0}, {\"target\": 624.5, \"preds\": 624.5}, {\"target\": 573.0, \"preds\": 573.0}, {\"target\": 624.5, \"preds\": 624.5}, {\"target\": 624.5, \"preds\": 624.5}, {\"target\": 609.0, \"preds\": 609.0}, {\"target\": 624.5, \"preds\": 624.5}, {\"target\": 624.5, \"preds\": 624.5}, {\"target\": 608.0, \"preds\": 608.0}, {\"target\": 624.5, \"preds\": 624.5}, {\"target\": 619.0, \"preds\": 619.0}, {\"target\": 619.0, \"preds\": 619.0}, {\"target\": 594.0, \"preds\": 594.0}, {\"target\": 624.5, \"preds\": 624.5}, {\"target\": 619.0, \"preds\": 619.0}, {\"target\": 606.0, \"preds\": 606.0}, {\"target\": 624.5, \"preds\": 624.5}, {\"target\": 624.5, \"preds\": 624.5}, {\"target\": 624.5, \"preds\": 624.5}, {\"target\": 606.0, \"preds\": 606.0}, {\"target\": 619.0, \"preds\": 619.0}, {\"target\": 624.5, \"preds\": 624.5}, {\"target\": 624.5, \"preds\": 624.5}, {\"target\": 624.5, \"preds\": 624.5}, {\"target\": 596.0, \"preds\": 596.0}, {\"target\": 588.0, \"preds\": 588.0}, {\"target\": 624.5, \"preds\": 624.5}, {\"target\": 624.5, \"preds\": 624.5}, {\"target\": 600.0, \"preds\": 600.0}, {\"target\": 624.5, \"preds\": 624.5}, {\"target\": 578.0, \"preds\": 578.0}, {\"target\": 624.5, \"preds\": 624.5}, {\"target\": 624.5, \"preds\": 624.5}, {\"target\": 624.5, \"preds\": 624.5}, {\"target\": 572.0, \"preds\": 572.0}, {\"target\": 578.0, \"preds\": 578.0}, {\"target\": 624.5, \"preds\": 624.5}, {\"target\": 624.5, \"preds\": 624.5}, {\"target\": 596.0, \"preds\": 596.0}, {\"target\": 624.5, \"preds\": 624.5}, {\"target\": 600.0, \"preds\": 600.0}, {\"target\": 574.0, \"preds\": 574.0}, {\"target\": 588.0, \"preds\": 588.0}, {\"target\": 624.5, \"preds\": 624.5}, {\"target\": 587.0, \"preds\": 587.0}, {\"target\": 619.0, \"preds\": 619.0}, {\"target\": 624.5, \"preds\": 624.5}, {\"target\": 619.0, \"preds\": 619.0}, {\"target\": 624.5, \"preds\": 624.5}, {\"target\": 624.5, \"preds\": 624.5}, {\"target\": 582.0, \"preds\": 582.0}, {\"target\": 581.0, \"preds\": 581.0}, {\"target\": 596.0, \"preds\": 596.0}, {\"target\": 624.5, \"preds\": 624.5}, {\"target\": 594.0, \"preds\": 594.0}, {\"target\": 624.5, \"preds\": 624.5}, {\"target\": 590.0, \"preds\": 590.0}, {\"target\": 624.5, \"preds\": 624.5}, {\"target\": 590.0, \"preds\": 590.0}, {\"target\": 624.5, \"preds\": 624.5}, {\"target\": 578.0, \"preds\": 578.0}, {\"target\": 565.0, \"preds\": 565.0}, {\"target\": 619.0, \"preds\": 619.0}, {\"target\": 606.0, \"preds\": 606.0}, {\"target\": 624.5, \"preds\": 624.5}, {\"target\": 624.5, \"preds\": 624.5}, {\"target\": 606.0, \"preds\": 606.0}, {\"target\": 581.0, \"preds\": 581.0}, {\"target\": 624.5, \"preds\": 624.5}, {\"target\": 600.0, \"preds\": 600.0}, {\"target\": 624.5, \"preds\": 624.5}, {\"target\": 564.0, \"preds\": 564.0}, {\"target\": 574.0, \"preds\": 574.0}, {\"target\": 600.0, \"preds\": 600.0}, {\"target\": 596.0, \"preds\": 596.0}, {\"target\": 576.0, \"preds\": 576.0}, {\"target\": 597.0, \"preds\": 597.0}, {\"target\": 566.0, \"preds\": 566.0}, {\"target\": 624.5, \"preds\": 624.5}, {\"target\": 604.0, \"preds\": 604.0}, {\"target\": 624.5, \"preds\": 624.5}, {\"target\": 624.5, \"preds\": 624.5}, {\"target\": 624.5, \"preds\": 624.5}, {\"target\": 624.5, \"preds\": 624.5}, {\"target\": 624.5, \"preds\": 624.5}, {\"target\": 585.0, \"preds\": 585.0}, {\"target\": 624.5, \"preds\": 624.5}, {\"target\": 606.0, \"preds\": 606.0}, {\"target\": 624.5, \"preds\": 624.5}, {\"target\": 624.5, \"preds\": 624.5}, {\"target\": 614.0, \"preds\": 614.0}, {\"target\": 597.0, \"preds\": 597.0}, {\"target\": 624.5, \"preds\": 624.5}, {\"target\": 597.0, \"preds\": 597.0}, {\"target\": 587.0, \"preds\": 587.0}, {\"target\": 597.0, \"preds\": 597.0}, {\"target\": 568.0, \"preds\": 568.0}, {\"target\": 624.5, \"preds\": 624.5}, {\"target\": 594.0, \"preds\": 594.0}, {\"target\": 609.0, \"preds\": 609.0}, {\"target\": 586.0, \"preds\": 586.0}, {\"target\": 600.0, \"preds\": 600.0}, {\"target\": 613.0, \"preds\": 613.0}, {\"target\": 601.0, \"preds\": 601.0}, {\"target\": 624.0, \"preds\": 624.0}, {\"target\": 624.5, \"preds\": 624.5}, {\"target\": 624.5, \"preds\": 624.5}, {\"target\": 624.5, \"preds\": 624.5}, {\"target\": 613.0, \"preds\": 613.0}, {\"target\": 624.5, \"preds\": 624.5}, {\"target\": 624.5, \"preds\": 624.5}, {\"target\": 624.5, \"preds\": 624.5}, {\"target\": 619.0, \"preds\": 619.0}, {\"target\": 601.0, \"preds\": 601.0}, {\"target\": 624.5, \"preds\": 624.5}, {\"target\": 624.5, \"preds\": 624.5}, {\"target\": 624.5, \"preds\": 624.5}, {\"target\": 624.5, \"preds\": 624.5}, {\"target\": 609.0, \"preds\": 609.0}, {\"target\": 590.0, \"preds\": 590.0}, {\"target\": 624.5, \"preds\": 624.5}, {\"target\": 624.5, \"preds\": 624.5}, {\"target\": 624.5, \"preds\": 624.5}, {\"target\": 624.5, \"preds\": 624.5}, {\"target\": 624.5, \"preds\": 624.5}, {\"target\": 578.0, \"preds\": 578.0}, {\"target\": 580.0, \"preds\": 580.0}, {\"target\": 624.5, \"preds\": 624.5}, {\"target\": 579.0, \"preds\": 579.0}, {\"target\": 624.5, \"preds\": 624.5}, {\"target\": 624.5, \"preds\": 624.5}, {\"target\": 613.0, \"preds\": 613.0}, {\"target\": 594.0, \"preds\": 594.0}, {\"target\": 619.0, \"preds\": 619.0}, {\"target\": 619.0, \"preds\": 619.0}, {\"target\": 609.0, \"preds\": 609.0}, {\"target\": 580.0, \"preds\": 580.0}, {\"target\": 624.5, \"preds\": 624.5}, {\"target\": 606.0, \"preds\": 606.0}, {\"target\": 606.0, \"preds\": 606.0}, {\"target\": 624.5, \"preds\": 624.5}, {\"target\": 609.0, \"preds\": 609.0}, {\"target\": 606.0, \"preds\": 606.0}, {\"target\": 619.0, \"preds\": 619.0}, {\"target\": 569.0, \"preds\": 569.0}, {\"target\": 619.0, \"preds\": 619.0}, {\"target\": 599.0, \"preds\": 599.0}, {\"target\": 624.5, \"preds\": 624.5}, {\"target\": 617.0, \"preds\": 617.0}, {\"target\": 624.5, \"preds\": 624.5}, {\"target\": 606.0, \"preds\": 606.0}, {\"target\": 585.0, \"preds\": 585.0}, {\"target\": 597.0, \"preds\": 597.0}, {\"target\": 624.5, \"preds\": 624.5}, {\"target\": 613.0, \"preds\": 613.0}, {\"target\": 624.5, \"preds\": 624.5}, {\"target\": 624.5, \"preds\": 624.5}, {\"target\": 624.5, \"preds\": 624.5}, {\"target\": 591.0, \"preds\": 591.0}, {\"target\": 624.5, \"preds\": 624.5}, {\"target\": 624.5, \"preds\": 624.5}, {\"target\": 624.5, \"preds\": 624.5}, {\"target\": 624.5, \"preds\": 624.5}, {\"target\": 565.0, \"preds\": 565.0}, {\"target\": 624.5, \"preds\": 624.5}, {\"target\": 624.5, \"preds\": 624.5}, {\"target\": 624.5, \"preds\": 624.5}, {\"target\": 624.5, \"preds\": 624.5}, {\"target\": 624.5, \"preds\": 624.5}, {\"target\": 587.0, \"preds\": 587.0}, {\"target\": 624.5, \"preds\": 624.5}, {\"target\": 624.5, \"preds\": 624.5}, {\"target\": 579.0, \"preds\": 579.0}, {\"target\": 578.0, \"preds\": 578.0}, {\"target\": 624.5, \"preds\": 624.5}, {\"target\": 624.5, \"preds\": 624.5}, {\"target\": 624.5, \"preds\": 624.5}, {\"target\": 581.0, \"preds\": 581.0}, {\"target\": 574.0, \"preds\": 574.0}, {\"target\": 606.0, \"preds\": 606.0}, {\"target\": 574.0, \"preds\": 574.0}, {\"target\": 587.0, \"preds\": 587.0}, {\"target\": 599.0, \"preds\": 599.0}, {\"target\": 624.5, \"preds\": 624.5}, {\"target\": 613.0, \"preds\": 613.0}, {\"target\": 600.0, \"preds\": 600.0}, {\"target\": 624.5, \"preds\": 624.5}, {\"target\": 600.0, \"preds\": 600.0}, {\"target\": 566.0, \"preds\": 566.0}, {\"target\": 624.5, \"preds\": 624.5}, {\"target\": 624.5, \"preds\": 624.5}, {\"target\": 587.0, \"preds\": 587.0}, {\"target\": 624.5, \"preds\": 624.5}, {\"target\": 601.0, \"preds\": 601.0}, {\"target\": 624.5, \"preds\": 624.5}, {\"target\": 624.5, \"preds\": 624.5}, {\"target\": 565.0, \"preds\": 565.0}, {\"target\": 619.0, \"preds\": 619.0}, {\"target\": 561.0, \"preds\": 561.0}, {\"target\": 596.0, \"preds\": 596.0}, {\"target\": 619.0, \"preds\": 619.0}, {\"target\": 582.0, \"preds\": 582.0}, {\"target\": 590.0, \"preds\": 590.0}, {\"target\": 565.0, \"preds\": 565.0}, {\"target\": 624.5, \"preds\": 624.5}, {\"target\": 574.0, \"preds\": 574.0}, {\"target\": 624.5, \"preds\": 624.5}, {\"target\": 624.5, \"preds\": 624.5}, {\"target\": 594.0, \"preds\": 594.0}, {\"target\": 624.5, \"preds\": 624.5}, {\"target\": 581.0, \"preds\": 581.0}, {\"target\": 624.5, \"preds\": 624.5}, {\"target\": 624.5, \"preds\": 624.5}, {\"target\": 578.0, \"preds\": 578.0}, {\"target\": 617.0, \"preds\": 617.0}, {\"target\": 568.0, \"preds\": 568.0}, {\"target\": 596.0, \"preds\": 596.0}, {\"target\": 596.0, \"preds\": 596.0}, {\"target\": 583.0, \"preds\": 583.0}, {\"target\": 562.0, \"preds\": 562.0}, {\"target\": 574.0, \"preds\": 574.0}, {\"target\": 606.0, \"preds\": 606.0}, {\"target\": 591.0, \"preds\": 591.0}, {\"target\": 613.0, \"preds\": 613.0}, {\"target\": 624.5, \"preds\": 624.5}, {\"target\": 624.5, \"preds\": 624.5}, {\"target\": 606.0, \"preds\": 606.0}, {\"target\": 624.5, \"preds\": 624.5}, {\"target\": 576.0, \"preds\": 576.0}, {\"target\": 586.0, \"preds\": 586.0}, {\"target\": 590.0, \"preds\": 590.0}, {\"target\": 622.0, \"preds\": 622.0}, {\"target\": 609.0, \"preds\": 609.0}, {\"target\": 624.5, \"preds\": 624.5}, {\"target\": 621.0, \"preds\": 621.0}, {\"target\": 624.5, \"preds\": 624.5}, {\"target\": 624.5, \"preds\": 624.5}, {\"target\": 585.0, \"preds\": 585.0}, {\"target\": 613.0, \"preds\": 613.0}, {\"target\": 624.5, \"preds\": 624.5}, {\"target\": 583.0, \"preds\": 583.0}, {\"target\": 624.5, \"preds\": 624.5}, {\"target\": 608.0, \"preds\": 608.0}, {\"target\": 624.5, \"preds\": 624.5}, {\"target\": 624.5, \"preds\": 624.5}, {\"target\": 623.0, \"preds\": 623.0}, {\"target\": 624.5, \"preds\": 624.5}, {\"target\": 617.0, \"preds\": 617.0}, {\"target\": 605.0, \"preds\": 605.0}, {\"target\": 624.5, \"preds\": 624.5}, {\"target\": 587.0, \"preds\": 587.0}, {\"target\": 624.5, \"preds\": 624.5}, {\"target\": 600.0, \"preds\": 600.0}, {\"target\": 624.5, \"preds\": 624.5}, {\"target\": 574.0, \"preds\": 574.0}, {\"target\": 605.0, \"preds\": 605.0}, {\"target\": 624.5, \"preds\": 624.5}, {\"target\": 624.5, \"preds\": 624.5}, {\"target\": 624.5, \"preds\": 624.5}, {\"target\": 588.0, \"preds\": 588.0}, {\"target\": 609.0, \"preds\": 609.0}, {\"target\": 624.5, \"preds\": 624.5}, {\"target\": 613.0, \"preds\": 613.0}, {\"target\": 624.5, \"preds\": 624.5}, {\"target\": 624.5, \"preds\": 624.5}, {\"target\": 581.0, \"preds\": 581.0}, {\"target\": 567.0, \"preds\": 567.0}, {\"target\": 624.5, \"preds\": 624.5}, {\"target\": 624.5, \"preds\": 624.5}, {\"target\": 624.5, \"preds\": 624.5}, {\"target\": 624.5, \"preds\": 624.5}, {\"target\": 624.5, \"preds\": 624.5}, {\"target\": 624.5, \"preds\": 624.5}, {\"target\": 624.5, \"preds\": 624.5}, {\"target\": 624.5, \"preds\": 624.5}, {\"target\": 624.5, \"preds\": 624.5}, {\"target\": 624.5, \"preds\": 624.5}, {\"target\": 624.5, \"preds\": 624.5}, {\"target\": 624.5, \"preds\": 624.5}, {\"target\": 624.5, \"preds\": 624.5}, {\"target\": 624.5, \"preds\": 624.5}, {\"target\": 606.0, \"preds\": 606.0}, {\"target\": 614.0, \"preds\": 614.0}, {\"target\": 624.5, \"preds\": 624.5}, {\"target\": 624.5, \"preds\": 624.5}, {\"target\": 624.5, \"preds\": 624.5}, {\"target\": 573.0, \"preds\": 573.0}, {\"target\": 624.5, \"preds\": 624.5}, {\"target\": 624.5, \"preds\": 624.5}, {\"target\": 569.0, \"preds\": 569.0}, {\"target\": 619.0, \"preds\": 619.0}, {\"target\": 600.0, \"preds\": 600.0}, {\"target\": 622.0, \"preds\": 622.0}, {\"target\": 578.0, \"preds\": 578.0}, {\"target\": 594.0, \"preds\": 594.0}, {\"target\": 624.5, \"preds\": 624.5}, {\"target\": 624.5, \"preds\": 624.5}, {\"target\": 586.0, \"preds\": 586.0}, {\"target\": 624.5, \"preds\": 624.5}, {\"target\": 624.5, \"preds\": 624.5}, {\"target\": 613.0, \"preds\": 613.0}, {\"target\": 576.0, \"preds\": 576.0}, {\"target\": 624.5, \"preds\": 624.5}, {\"target\": 624.5, \"preds\": 624.5}, {\"target\": 624.5, \"preds\": 624.5}, {\"target\": 624.5, \"preds\": 624.5}, {\"target\": 624.5, \"preds\": 624.5}, {\"target\": 600.0, \"preds\": 600.0}, {\"target\": 581.0, \"preds\": 581.0}, {\"target\": 587.0, \"preds\": 587.0}, {\"target\": 624.5, \"preds\": 624.5}, {\"target\": 588.0, \"preds\": 588.0}, {\"target\": 597.0, \"preds\": 597.0}, {\"target\": 624.5, \"preds\": 624.5}, {\"target\": 603.0, \"preds\": 603.0}, {\"target\": 590.0, \"preds\": 590.0}, {\"target\": 601.0, \"preds\": 601.0}, {\"target\": 586.0, \"preds\": 586.0}, {\"target\": 624.5, \"preds\": 624.5}, {\"target\": 624.5, \"preds\": 624.5}, {\"target\": 579.0, \"preds\": 579.0}, {\"target\": 624.5, \"preds\": 624.5}, {\"target\": 586.0, \"preds\": 586.0}, {\"target\": 624.5, \"preds\": 624.5}, {\"target\": 619.0, \"preds\": 619.0}, {\"target\": 624.5, \"preds\": 624.5}, {\"target\": 606.0, \"preds\": 606.0}, {\"target\": 624.5, \"preds\": 624.5}, {\"target\": 573.0, \"preds\": 573.0}, {\"target\": 619.0, \"preds\": 619.0}, {\"target\": 610.0, \"preds\": 610.0}, {\"target\": 624.5, \"preds\": 624.5}, {\"target\": 600.0, \"preds\": 600.0}, {\"target\": 597.0, \"preds\": 597.0}, {\"target\": 615.0, \"preds\": 615.0}, {\"target\": 601.0, \"preds\": 601.0}, {\"target\": 606.0, \"preds\": 606.0}, {\"target\": 596.0, \"preds\": 596.0}, {\"target\": 577.0, \"preds\": 577.0}, {\"target\": 624.5, \"preds\": 624.5}, {\"target\": 624.5, \"preds\": 624.5}, {\"target\": 600.0, \"preds\": 600.0}, {\"target\": 606.0, \"preds\": 606.0}, {\"target\": 615.0, \"preds\": 615.0}, {\"target\": 619.0, \"preds\": 619.0}, {\"target\": 565.0, \"preds\": 565.0}, {\"target\": 589.0, \"preds\": 589.0}, {\"target\": 613.0, \"preds\": 613.0}, {\"target\": 604.0, \"preds\": 604.0}, {\"target\": 624.5, \"preds\": 624.5}, {\"target\": 606.0, \"preds\": 606.0}, {\"target\": 624.5, \"preds\": 624.5}, {\"target\": 624.5, \"preds\": 624.5}, {\"target\": 624.5, \"preds\": 624.5}, {\"target\": 606.0, \"preds\": 606.0}, {\"target\": 622.0, \"preds\": 622.0}, {\"target\": 624.5, \"preds\": 624.5}, {\"target\": 624.5, \"preds\": 624.5}, {\"target\": 619.0, \"preds\": 619.0}, {\"target\": 624.0, \"preds\": 624.0}, {\"target\": 624.5, \"preds\": 624.5}, {\"target\": 624.5, \"preds\": 624.5}, {\"target\": 610.0, \"preds\": 610.0}, {\"target\": 581.0, \"preds\": 581.0}, {\"target\": 624.5, \"preds\": 624.5}, {\"target\": 624.5, \"preds\": 624.5}, {\"target\": 587.0, \"preds\": 587.0}, {\"target\": 624.5, \"preds\": 624.5}, {\"target\": 624.5, \"preds\": 624.5}, {\"target\": 578.0, \"preds\": 578.0}, {\"target\": 624.5, \"preds\": 624.5}, {\"target\": 613.0, \"preds\": 613.0}, {\"target\": 605.0, \"preds\": 605.0}, {\"target\": 571.0, \"preds\": 571.0}, {\"target\": 624.5, \"preds\": 624.5}, {\"target\": 624.5, \"preds\": 624.5}, {\"target\": 624.5, \"preds\": 624.5}, {\"target\": 587.0, \"preds\": 587.0}, {\"target\": 624.5, \"preds\": 624.5}, {\"target\": 624.5, \"preds\": 624.5}, {\"target\": 624.5, \"preds\": 624.5}, {\"target\": 587.0, \"preds\": 587.0}, {\"target\": 600.0, \"preds\": 600.0}, {\"target\": 590.0, \"preds\": 590.0}, {\"target\": 587.0, \"preds\": 587.0}, {\"target\": 624.5, \"preds\": 624.5}, {\"target\": 622.0, \"preds\": 622.0}, {\"target\": 624.5, \"preds\": 624.5}, {\"target\": 624.5, \"preds\": 624.5}, {\"target\": 594.0, \"preds\": 594.0}, {\"target\": 581.0, \"preds\": 581.0}, {\"target\": 624.5, \"preds\": 624.5}, {\"target\": 606.0, \"preds\": 606.0}, {\"target\": 582.0, \"preds\": 582.0}, {\"target\": 610.0, \"preds\": 610.0}, {\"target\": 624.5, \"preds\": 624.5}, {\"target\": 624.5, \"preds\": 624.5}, {\"target\": 564.0, \"preds\": 564.0}, {\"target\": 582.0, \"preds\": 582.0}, {\"target\": 614.0, \"preds\": 614.0}, {\"target\": 624.5, \"preds\": 624.5}, {\"target\": 574.0, \"preds\": 574.0}, {\"target\": 624.5, \"preds\": 624.5}, {\"target\": 624.5, \"preds\": 624.5}, {\"target\": 624.5, \"preds\": 624.5}, {\"target\": 624.5, \"preds\": 624.5}, {\"target\": 624.5, \"preds\": 624.5}, {\"target\": 572.0, \"preds\": 572.0}, {\"target\": 624.5, \"preds\": 624.5}, {\"target\": 624.5, \"preds\": 624.5}, {\"target\": 624.5, \"preds\": 624.5}, {\"target\": 624.5, \"preds\": 624.5}, {\"target\": 622.0, \"preds\": 622.0}, {\"target\": 572.0, \"preds\": 572.0}, {\"target\": 613.0, \"preds\": 613.0}, {\"target\": 624.5, \"preds\": 624.5}, {\"target\": 624.5, \"preds\": 624.5}, {\"target\": 608.0, \"preds\": 608.0}, {\"target\": 590.0, \"preds\": 590.0}, {\"target\": 624.5, \"preds\": 624.5}, {\"target\": 624.5, \"preds\": 624.5}, {\"target\": 563.0, \"preds\": 563.0}, {\"target\": 610.0, \"preds\": 610.0}, {\"target\": 624.5, \"preds\": 624.5}, {\"target\": 624.5, \"preds\": 624.5}, {\"target\": 624.5, \"preds\": 624.5}, {\"target\": 624.5, \"preds\": 624.5}, {\"target\": 574.0, \"preds\": 574.0}, {\"target\": 572.0, \"preds\": 572.0}, {\"target\": 582.0, \"preds\": 582.0}, {\"target\": 580.0, \"preds\": 580.0}, {\"target\": 624.5, \"preds\": 624.5}, {\"target\": 594.0, \"preds\": 594.0}, {\"target\": 624.5, \"preds\": 624.5}, {\"target\": 624.5, \"preds\": 624.5}, {\"target\": 583.0, \"preds\": 583.0}, {\"target\": 577.0, \"preds\": 577.0}, {\"target\": 624.5, \"preds\": 624.5}, {\"target\": 619.0, \"preds\": 619.0}, {\"target\": 579.0, \"preds\": 579.0}, {\"target\": 624.5, \"preds\": 624.5}, {\"target\": 594.0, \"preds\": 594.0}, {\"target\": 574.0, \"preds\": 574.0}, {\"target\": 619.0, \"preds\": 619.0}, {\"target\": 624.5, \"preds\": 624.5}, {\"target\": 574.0, \"preds\": 574.0}, {\"target\": 624.5, \"preds\": 624.5}, {\"target\": 624.5, \"preds\": 624.5}, {\"target\": 571.0, \"preds\": 571.0}, {\"target\": 581.0, \"preds\": 581.0}, {\"target\": 624.5, \"preds\": 624.5}, {\"target\": 600.0, \"preds\": 600.0}, {\"target\": 619.0, \"preds\": 619.0}, {\"target\": 576.0, \"preds\": 576.0}, {\"target\": 624.5, \"preds\": 624.5}, {\"target\": 605.0, \"preds\": 605.0}, {\"target\": 624.5, \"preds\": 624.5}, {\"target\": 587.0, \"preds\": 587.0}, {\"target\": 587.0, \"preds\": 587.0}, {\"target\": 582.0, \"preds\": 582.0}, {\"target\": 624.5, \"preds\": 624.5}, {\"target\": 624.5, \"preds\": 624.5}, {\"target\": 624.5, \"preds\": 624.5}, {\"target\": 578.0, \"preds\": 578.0}, {\"target\": 624.5, \"preds\": 624.5}, {\"target\": 604.0, \"preds\": 604.0}, {\"target\": 624.5, \"preds\": 624.5}, {\"target\": 624.5, \"preds\": 624.5}, {\"target\": 582.0, \"preds\": 582.0}, {\"target\": 599.0, \"preds\": 599.0}, {\"target\": 622.0, \"preds\": 622.0}, {\"target\": 624.5, \"preds\": 624.5}, {\"target\": 624.5, \"preds\": 624.5}, {\"target\": 613.0, \"preds\": 613.0}, {\"target\": 583.0, \"preds\": 583.0}, {\"target\": 596.0, \"preds\": 596.0}, {\"target\": 599.0, \"preds\": 599.0}, {\"target\": 624.5, \"preds\": 624.5}, {\"target\": 585.0, \"preds\": 585.0}, {\"target\": 581.0, \"preds\": 581.0}, {\"target\": 574.0, \"preds\": 574.0}, {\"target\": 624.5, \"preds\": 624.5}, {\"target\": 618.0, \"preds\": 618.0}, {\"target\": 599.0, \"preds\": 599.0}, {\"target\": 586.0, \"preds\": 586.0}, {\"target\": 624.5, \"preds\": 624.5}, {\"target\": 596.0, \"preds\": 596.0}, {\"target\": 586.0, \"preds\": 586.0}, {\"target\": 624.5, \"preds\": 624.5}, {\"target\": 624.5, \"preds\": 624.5}, {\"target\": 624.5, \"preds\": 624.5}, {\"target\": 587.0, \"preds\": 587.0}, {\"target\": 624.5, \"preds\": 624.5}, {\"target\": 588.0, \"preds\": 588.0}, {\"target\": 590.0, \"preds\": 590.0}, {\"target\": 588.0, \"preds\": 588.0}, {\"target\": 571.0, \"preds\": 571.0}, {\"target\": 624.5, \"preds\": 624.5}, {\"target\": 624.5, \"preds\": 624.5}, {\"target\": 624.5, \"preds\": 624.5}, {\"target\": 624.5, \"preds\": 624.5}, {\"target\": 581.0, \"preds\": 581.0}, {\"target\": 583.0, \"preds\": 583.0}, {\"target\": 596.0, \"preds\": 596.0}, {\"target\": 581.0, \"preds\": 581.0}, {\"target\": 564.0, \"preds\": 564.0}, {\"target\": 624.5, \"preds\": 624.5}, {\"target\": 579.0, \"preds\": 579.0}, {\"target\": 624.5, \"preds\": 624.5}, {\"target\": 624.5, \"preds\": 624.5}, {\"target\": 624.5, \"preds\": 624.5}, {\"target\": 594.0, \"preds\": 594.0}, {\"target\": 624.5, \"preds\": 624.5}, {\"target\": 583.0, \"preds\": 583.0}, {\"target\": 600.0, \"preds\": 600.0}, {\"target\": 615.0, \"preds\": 615.0}, {\"target\": 595.0, \"preds\": 595.0}, {\"target\": 624.5, \"preds\": 624.5}, {\"target\": 624.5, \"preds\": 624.5}, {\"target\": 624.5, \"preds\": 624.5}, {\"target\": 624.5, \"preds\": 624.5}, {\"target\": 624.5, \"preds\": 624.5}, {\"target\": 624.5, \"preds\": 624.5}, {\"target\": 624.5, \"preds\": 624.5}, {\"target\": 624.5, \"preds\": 624.5}, {\"target\": 601.0, \"preds\": 601.0}, {\"target\": 624.5, \"preds\": 624.5}, {\"target\": 624.5, \"preds\": 624.5}, {\"target\": 599.0, \"preds\": 599.0}, {\"target\": 613.0, \"preds\": 613.0}, {\"target\": 573.0, \"preds\": 573.0}, {\"target\": 624.5, \"preds\": 624.5}, {\"target\": 564.0, \"preds\": 564.0}, {\"target\": 624.5, \"preds\": 624.5}, {\"target\": 624.5, \"preds\": 624.5}, {\"target\": 609.0, \"preds\": 609.0}, {\"target\": 590.0, \"preds\": 590.0}, {\"target\": 624.5, \"preds\": 624.5}, {\"target\": 577.0, \"preds\": 577.0}, {\"target\": 594.0, \"preds\": 594.0}, {\"target\": 613.0, \"preds\": 613.0}, {\"target\": 624.5, \"preds\": 624.5}, {\"target\": 587.0, \"preds\": 587.0}, {\"target\": 624.5, \"preds\": 624.5}, {\"target\": 624.5, \"preds\": 624.5}, {\"target\": 581.0, \"preds\": 581.0}, {\"target\": 600.0, \"preds\": 600.0}, {\"target\": 624.5, \"preds\": 624.5}, {\"target\": 624.5, \"preds\": 624.5}, {\"target\": 624.5, \"preds\": 624.5}, {\"target\": 613.0, \"preds\": 613.0}, {\"target\": 604.0, \"preds\": 604.0}, {\"target\": 583.0, \"preds\": 583.0}, {\"target\": 624.5, \"preds\": 624.5}, {\"target\": 619.0, \"preds\": 619.0}, {\"target\": 606.0, \"preds\": 606.0}, {\"target\": 624.5, \"preds\": 624.5}, {\"target\": 624.5, \"preds\": 624.5}, {\"target\": 624.5, \"preds\": 624.5}, {\"target\": 600.0, \"preds\": 600.0}, {\"target\": 624.5, \"preds\": 624.5}, {\"target\": 624.5, \"preds\": 624.5}, {\"target\": 569.0, \"preds\": 569.0}, {\"target\": 577.0, \"preds\": 577.0}, {\"target\": 582.0, \"preds\": 582.0}, {\"target\": 568.0, \"preds\": 568.0}, {\"target\": 572.0, \"preds\": 572.0}, {\"target\": 565.0, \"preds\": 565.0}, {\"target\": 577.0, \"preds\": 577.0}, {\"target\": 587.0, \"preds\": 587.0}, {\"target\": 569.0, \"preds\": 569.0}, {\"target\": 565.0, \"preds\": 565.0}, {\"target\": 567.0, \"preds\": 567.0}, {\"target\": 572.0, \"preds\": 572.0}, {\"target\": 572.0, \"preds\": 572.0}, {\"target\": 572.0, \"preds\": 572.0}, {\"target\": 574.0, \"preds\": 574.0}, {\"target\": 574.0, \"preds\": 574.0}, {\"target\": 564.0, \"preds\": 564.0}, {\"target\": 587.0, \"preds\": 587.0}, {\"target\": 577.0, \"preds\": 577.0}, {\"target\": 565.0, \"preds\": 565.0}, {\"target\": 574.0, \"preds\": 574.0}, {\"target\": 587.0, \"preds\": 587.0}, {\"target\": 574.0, \"preds\": 574.0}, {\"target\": 561.0, \"preds\": 561.0}, {\"target\": 562.0, \"preds\": 562.0}, {\"target\": 576.0, \"preds\": 576.0}, {\"target\": 564.0, \"preds\": 564.0}, {\"target\": 571.0, \"preds\": 571.0}, {\"target\": 568.0, \"preds\": 568.0}, {\"target\": 578.0, \"preds\": 578.0}, {\"target\": 591.0, \"preds\": 591.0}, {\"target\": 571.0, \"preds\": 571.0}, {\"target\": 572.0, \"preds\": 572.0}, {\"target\": 619.0, \"preds\": 619.0}, {\"target\": 564.0, \"preds\": 564.0}, {\"target\": 594.0, \"preds\": 594.0}, {\"target\": 568.0, \"preds\": 568.0}, {\"target\": 574.0, \"preds\": 574.0}, {\"target\": 565.0, \"preds\": 565.0}, {\"target\": 567.0, \"preds\": 567.0}, {\"target\": 585.0, \"preds\": 585.0}, {\"target\": 594.0, \"preds\": 594.0}, {\"target\": 565.0, \"preds\": 565.0}, {\"target\": 576.0, \"preds\": 576.0}, {\"target\": 565.0, \"preds\": 565.0}, {\"target\": 581.0, \"preds\": 581.0}, {\"target\": 624.5, \"preds\": 624.5}, {\"target\": 624.5, \"preds\": 624.5}, {\"target\": 577.0, \"preds\": 577.0}, {\"target\": 563.0, \"preds\": 563.0}, {\"target\": 576.0, \"preds\": 576.0}, {\"target\": 567.0, \"preds\": 567.0}, {\"target\": 565.0, \"preds\": 565.0}, {\"target\": 574.0, \"preds\": 574.0}, {\"target\": 571.0, \"preds\": 571.0}, {\"target\": 568.0, \"preds\": 568.0}, {\"target\": 576.0, \"preds\": 576.0}, {\"target\": 574.0, \"preds\": 574.0}, {\"target\": 560.0, \"preds\": 560.0}, {\"target\": 571.0, \"preds\": 571.0}, {\"target\": 567.0, \"preds\": 567.0}, {\"target\": 624.5, \"preds\": 624.5}, {\"target\": 569.0, \"preds\": 569.0}, {\"target\": 571.0, \"preds\": 571.0}, {\"target\": 596.0, \"preds\": 596.0}, {\"target\": 574.0, \"preds\": 574.0}, {\"target\": 582.0, \"preds\": 582.0}, {\"target\": 571.0, \"preds\": 571.0}, {\"target\": 564.0, \"preds\": 564.0}, {\"target\": 574.0, \"preds\": 574.0}, {\"target\": 570.0, \"preds\": 570.0}, {\"target\": 574.0, \"preds\": 574.0}, {\"target\": 580.0, \"preds\": 580.0}, {\"target\": 617.0, \"preds\": 617.0}, {\"target\": 564.0, \"preds\": 564.0}, {\"target\": 574.0, \"preds\": 574.0}, {\"target\": 564.0, \"preds\": 564.0}, {\"target\": 567.0, \"preds\": 567.0}, {\"target\": 565.0, \"preds\": 565.0}, {\"target\": 600.0, \"preds\": 600.0}, {\"target\": 576.0, \"preds\": 576.0}, {\"target\": 561.0, \"preds\": 561.0}, {\"target\": 576.0, \"preds\": 576.0}, {\"target\": 568.0, \"preds\": 568.0}, {\"target\": 565.0, \"preds\": 565.0}, {\"target\": 563.0, \"preds\": 563.0}, {\"target\": 568.0, \"preds\": 568.0}, {\"target\": 624.5, \"preds\": 624.5}, {\"target\": 574.0, \"preds\": 574.0}, {\"target\": 603.0, \"preds\": 603.0}, {\"target\": 563.0, \"preds\": 563.0}, {\"target\": 577.0, \"preds\": 577.0}, {\"target\": 565.0, \"preds\": 565.0}, {\"target\": 565.0, \"preds\": 565.0}, {\"target\": 567.0, \"preds\": 567.0}, {\"target\": 572.0, \"preds\": 572.0}, {\"target\": 567.0, \"preds\": 567.0}, {\"target\": 564.0, \"preds\": 564.0}, {\"target\": 571.0, \"preds\": 571.0}, {\"target\": 624.5, \"preds\": 624.5}, {\"target\": 566.0, \"preds\": 566.0}, {\"target\": 578.0, \"preds\": 578.0}, {\"target\": 577.0, \"preds\": 577.0}, {\"target\": 564.0, \"preds\": 564.0}, {\"target\": 570.0, \"preds\": 570.0}, {\"target\": 583.0, \"preds\": 583.0}, {\"target\": 572.0, \"preds\": 572.0}, {\"target\": 581.0, \"preds\": 581.0}, {\"target\": 568.0, \"preds\": 568.0}, {\"target\": 574.0, \"preds\": 574.0}, {\"target\": 565.0, \"preds\": 565.0}, {\"target\": 571.0, \"preds\": 571.0}, {\"target\": 581.0, \"preds\": 581.0}, {\"target\": 581.0, \"preds\": 581.0}, {\"target\": 565.0, \"preds\": 565.0}, {\"target\": 569.0, \"preds\": 569.0}, {\"target\": 606.0, \"preds\": 606.0}, {\"target\": 568.0, \"preds\": 568.0}, {\"target\": 594.0, \"preds\": 594.0}, {\"target\": 571.0, \"preds\": 571.0}, {\"target\": 571.0, \"preds\": 571.0}, {\"target\": 581.0, \"preds\": 581.0}, {\"target\": 572.0, \"preds\": 572.0}, {\"target\": 578.0, \"preds\": 578.0}, {\"target\": 565.0, \"preds\": 565.0}, {\"target\": 566.0, \"preds\": 566.0}, {\"target\": 565.0, \"preds\": 565.0}, {\"target\": 583.0, \"preds\": 583.0}, {\"target\": 563.0, \"preds\": 563.0}, {\"target\": 574.0, \"preds\": 574.0}, {\"target\": 568.0, \"preds\": 568.0}, {\"target\": 568.0, \"preds\": 568.0}, {\"target\": 582.0, \"preds\": 582.0}, {\"target\": 624.5, \"preds\": 624.5}, {\"target\": 564.0, \"preds\": 564.0}, {\"target\": 573.0, \"preds\": 573.0}, {\"target\": 574.0, \"preds\": 574.0}, {\"target\": 564.0, \"preds\": 564.0}, {\"target\": 572.0, \"preds\": 572.0}, {\"target\": 565.0, \"preds\": 565.0}, {\"target\": 578.0, \"preds\": 578.0}, {\"target\": 581.0, \"preds\": 581.0}, {\"target\": 573.0, \"preds\": 573.0}, {\"target\": 619.0, \"preds\": 619.0}, {\"target\": 574.0, \"preds\": 574.0}, {\"target\": 574.0, \"preds\": 574.0}, {\"target\": 570.0, \"preds\": 570.0}, {\"target\": 574.0, \"preds\": 574.0}, {\"target\": 571.0, \"preds\": 571.0}, {\"target\": 578.0, \"preds\": 578.0}, {\"target\": 574.0, \"preds\": 574.0}, {\"target\": 571.0, \"preds\": 571.0}, {\"target\": 587.0, \"preds\": 587.0}, {\"target\": 624.5, \"preds\": 624.5}, {\"target\": 568.0, \"preds\": 568.0}, {\"target\": 565.0, \"preds\": 565.0}, {\"target\": 606.0, \"preds\": 606.0}, {\"target\": 571.0, \"preds\": 571.0}, {\"target\": 576.0, \"preds\": 576.0}, {\"target\": 585.0, \"preds\": 585.0}, {\"target\": 587.0, \"preds\": 587.0}, {\"target\": 564.0, \"preds\": 564.0}, {\"target\": 578.0, \"preds\": 578.0}, {\"target\": 568.0, \"preds\": 568.0}, {\"target\": 605.0, \"preds\": 605.0}, {\"target\": 583.0, \"preds\": 583.0}, {\"target\": 578.0, \"preds\": 578.0}, {\"target\": 585.0, \"preds\": 585.0}, {\"target\": 581.0, \"preds\": 581.0}, {\"target\": 624.5, \"preds\": 624.5}, {\"target\": 587.0, \"preds\": 587.0}, {\"target\": 567.0, \"preds\": 567.0}, {\"target\": 563.0, \"preds\": 563.0}, {\"target\": 562.0, \"preds\": 562.0}, {\"target\": 576.0, \"preds\": 576.0}, {\"target\": 591.0, \"preds\": 591.0}, {\"target\": 578.0, \"preds\": 578.0}, {\"target\": 571.0, \"preds\": 571.0}, {\"target\": 581.0, \"preds\": 581.0}, {\"target\": 587.0, \"preds\": 587.0}, {\"target\": 565.0, \"preds\": 565.0}, {\"target\": 573.0, \"preds\": 573.0}, {\"target\": 581.0, \"preds\": 581.0}, {\"target\": 582.0, \"preds\": 582.0}, {\"target\": 574.0, \"preds\": 574.0}, {\"target\": 568.0, \"preds\": 568.0}, {\"target\": 570.0, \"preds\": 570.0}, {\"target\": 583.0, \"preds\": 583.0}, {\"target\": 574.0, \"preds\": 574.0}, {\"target\": 569.0, \"preds\": 569.0}, {\"target\": 571.0, \"preds\": 571.0}, {\"target\": 564.0, \"preds\": 564.0}, {\"target\": 574.0, \"preds\": 574.0}, {\"target\": 585.0, \"preds\": 585.0}, {\"target\": 564.0, \"preds\": 564.0}, {\"target\": 571.0, \"preds\": 571.0}, {\"target\": 568.0, \"preds\": 568.0}, {\"target\": 571.0, \"preds\": 571.0}, {\"target\": 596.0, \"preds\": 596.0}, {\"target\": 565.0, \"preds\": 565.0}, {\"target\": 569.0, \"preds\": 569.0}, {\"target\": 563.0, \"preds\": 563.0}, {\"target\": 576.0, \"preds\": 576.0}, {\"target\": 563.0, \"preds\": 563.0}, {\"target\": 562.0, \"preds\": 562.0}, {\"target\": 573.0, \"preds\": 573.0}, {\"target\": 581.0, \"preds\": 581.0}, {\"target\": 569.0, \"preds\": 569.0}, {\"target\": 562.0, \"preds\": 562.0}, {\"target\": 624.5, \"preds\": 624.5}, {\"target\": 574.0, \"preds\": 574.0}, {\"target\": 566.0, \"preds\": 566.0}, {\"target\": 571.0, \"preds\": 571.0}, {\"target\": 565.0, \"preds\": 565.0}, {\"target\": 576.0, \"preds\": 576.0}, {\"target\": 581.0, \"preds\": 581.0}, {\"target\": 574.0, \"preds\": 574.0}, {\"target\": 563.0, \"preds\": 563.0}, {\"target\": 573.0, \"preds\": 573.0}, {\"target\": 564.0, \"preds\": 564.0}, {\"target\": 590.0, \"preds\": 590.0}, {\"target\": 578.0, \"preds\": 578.0}, {\"target\": 568.0, \"preds\": 568.0}, {\"target\": 595.0, \"preds\": 595.0}, {\"target\": 574.0, \"preds\": 574.0}, {\"target\": 569.0, \"preds\": 569.0}, {\"target\": 561.0, \"preds\": 561.0}, {\"target\": 568.0, \"preds\": 568.0}, {\"target\": 568.0, \"preds\": 568.0}, {\"target\": 567.0, \"preds\": 567.0}, {\"target\": 576.0, \"preds\": 576.0}, {\"target\": 562.0, \"preds\": 562.0}, {\"target\": 560.0, \"preds\": 560.0}, {\"target\": 576.0, \"preds\": 576.0}, {\"target\": 577.0, \"preds\": 577.0}, {\"target\": 594.0, \"preds\": 594.0}, {\"target\": 571.0, \"preds\": 571.0}, {\"target\": 567.0, \"preds\": 567.0}, {\"target\": 563.0, \"preds\": 563.0}, {\"target\": 594.0, \"preds\": 594.0}, {\"target\": 581.0, \"preds\": 581.0}, {\"target\": 587.0, \"preds\": 587.0}, {\"target\": 567.0, \"preds\": 567.0}, {\"target\": 564.0, \"preds\": 564.0}, {\"target\": 594.0, \"preds\": 594.0}, {\"target\": 566.0, \"preds\": 566.0}, {\"target\": 565.0, \"preds\": 565.0}, {\"target\": 581.0, \"preds\": 581.0}, {\"target\": 594.0, \"preds\": 594.0}, {\"target\": 624.5, \"preds\": 624.5}, {\"target\": 564.0, \"preds\": 564.0}, {\"target\": 568.0, \"preds\": 568.0}, {\"target\": 562.0, \"preds\": 562.0}, {\"target\": 594.0, \"preds\": 594.0}, {\"target\": 564.0, \"preds\": 564.0}, {\"target\": 568.0, \"preds\": 568.0}, {\"target\": 578.0, \"preds\": 578.0}, {\"target\": 574.0, \"preds\": 574.0}, {\"target\": 574.0, \"preds\": 574.0}, {\"target\": 624.5, \"preds\": 624.5}, {\"target\": 583.0, \"preds\": 583.0}, {\"target\": 568.0, \"preds\": 568.0}, {\"target\": 585.0, \"preds\": 585.0}, {\"target\": 571.0, \"preds\": 571.0}, {\"target\": 569.0, \"preds\": 569.0}, {\"target\": 571.0, \"preds\": 571.0}, {\"target\": 569.0, \"preds\": 569.0}, {\"target\": 580.0, \"preds\": 580.0}, {\"target\": 568.0, \"preds\": 568.0}, {\"target\": 565.0, \"preds\": 565.0}, {\"target\": 619.0, \"preds\": 619.0}, {\"target\": 572.0, \"preds\": 572.0}, {\"target\": 576.0, \"preds\": 576.0}, {\"target\": 564.0, \"preds\": 564.0}, {\"target\": 578.0, \"preds\": 578.0}, {\"target\": 569.0, \"preds\": 569.0}, {\"target\": 567.0, \"preds\": 567.0}, {\"target\": 624.5, \"preds\": 624.5}, {\"target\": 571.0, \"preds\": 571.0}, {\"target\": 576.0, \"preds\": 576.0}, {\"target\": 594.0, \"preds\": 594.0}, {\"target\": 577.0, \"preds\": 577.0}, {\"target\": 565.0, \"preds\": 565.0}, {\"target\": 577.0, \"preds\": 577.0}, {\"target\": 574.0, \"preds\": 574.0}, {\"target\": 600.0, \"preds\": 600.0}, {\"target\": 572.0, \"preds\": 572.0}, {\"target\": 571.0, \"preds\": 571.0}, {\"target\": 568.0, \"preds\": 568.0}, {\"target\": 567.0, \"preds\": 567.0}, {\"target\": 563.0, \"preds\": 563.0}, {\"target\": 567.0, \"preds\": 567.0}, {\"target\": 586.0, \"preds\": 586.0}, {\"target\": 576.0, \"preds\": 576.0}, {\"target\": 565.0, \"preds\": 565.0}, {\"target\": 573.0, \"preds\": 573.0}, {\"target\": 562.0, \"preds\": 562.0}, {\"target\": 565.0, \"preds\": 565.0}, {\"target\": 581.0, \"preds\": 581.0}, {\"target\": 569.0, \"preds\": 569.0}, {\"target\": 566.0, \"preds\": 566.0}, {\"target\": 584.0, \"preds\": 584.0}, {\"target\": 574.0, \"preds\": 574.0}, {\"target\": 569.0, \"preds\": 569.0}, {\"target\": 567.0, \"preds\": 567.0}, {\"target\": 574.0, \"preds\": 574.0}, {\"target\": 564.0, \"preds\": 564.0}, {\"target\": 562.0, \"preds\": 562.0}, {\"target\": 578.0, \"preds\": 578.0}, {\"target\": 613.0, \"preds\": 613.0}, {\"target\": 568.0, \"preds\": 568.0}, {\"target\": 574.0, \"preds\": 574.0}, {\"target\": 569.0, \"preds\": 569.0}, {\"target\": 577.0, \"preds\": 577.0}, {\"target\": 563.0, \"preds\": 563.0}, {\"target\": 581.0, \"preds\": 581.0}, {\"target\": 578.0, \"preds\": 578.0}, {\"target\": 572.0, \"preds\": 572.0}, {\"target\": 601.0, \"preds\": 601.0}, {\"target\": 565.0, \"preds\": 565.0}, {\"target\": 567.0, \"preds\": 567.0}, {\"target\": 578.0, \"preds\": 578.0}, {\"target\": 578.0, \"preds\": 578.0}, {\"target\": 571.0, \"preds\": 571.0}, {\"target\": 624.5, \"preds\": 624.5}, {\"target\": 587.0, \"preds\": 587.0}, {\"target\": 581.0, \"preds\": 581.0}, {\"target\": 565.0, \"preds\": 565.0}, {\"target\": 569.0, \"preds\": 569.0}, {\"target\": 563.0, \"preds\": 563.0}, {\"target\": 581.0, \"preds\": 581.0}, {\"target\": 562.0, \"preds\": 562.0}, {\"target\": 571.0, \"preds\": 571.0}, {\"target\": 567.0, \"preds\": 567.0}, {\"target\": 563.0, \"preds\": 563.0}, {\"target\": 572.0, \"preds\": 572.0}, {\"target\": 564.0, \"preds\": 564.0}, {\"target\": 573.0, \"preds\": 573.0}, {\"target\": 573.0, \"preds\": 573.0}, {\"target\": 563.0, \"preds\": 563.0}, {\"target\": 571.0, \"preds\": 571.0}, {\"target\": 564.0, \"preds\": 564.0}, {\"target\": 572.0, \"preds\": 572.0}, {\"target\": 586.0, \"preds\": 586.0}, {\"target\": 563.0, \"preds\": 563.0}, {\"target\": 574.0, \"preds\": 574.0}, {\"target\": 581.0, \"preds\": 581.0}, {\"target\": 577.0, \"preds\": 577.0}, {\"target\": 600.0, \"preds\": 600.0}, {\"target\": 624.5, \"preds\": 624.5}, {\"target\": 565.0, \"preds\": 565.0}, {\"target\": 567.0, \"preds\": 567.0}, {\"target\": 567.0, \"preds\": 567.0}, {\"target\": 564.0, \"preds\": 564.0}, {\"target\": 586.0, \"preds\": 586.0}, {\"target\": 565.0, \"preds\": 565.0}, {\"target\": 583.0, \"preds\": 583.0}, {\"target\": 571.0, \"preds\": 571.0}, {\"target\": 563.0, \"preds\": 563.0}, {\"target\": 594.0, \"preds\": 594.0}, {\"target\": 571.0, \"preds\": 571.0}, {\"target\": 574.0, \"preds\": 574.0}, {\"target\": 573.0, \"preds\": 573.0}, {\"target\": 583.0, \"preds\": 583.0}, {\"target\": 606.0, \"preds\": 606.0}, {\"target\": 571.0, \"preds\": 571.0}, {\"target\": 574.0, \"preds\": 574.0}, {\"target\": 567.0, \"preds\": 567.0}, {\"target\": 574.0, \"preds\": 574.0}, {\"target\": 568.0, \"preds\": 568.0}, {\"target\": 574.0, \"preds\": 574.0}, {\"target\": 564.0, \"preds\": 564.0}, {\"target\": 565.0, \"preds\": 565.0}, {\"target\": 564.0, \"preds\": 564.0}, {\"target\": 583.0, \"preds\": 583.0}, {\"target\": 568.0, \"preds\": 568.0}, {\"target\": 563.0, \"preds\": 563.0}, {\"target\": 572.0, \"preds\": 572.0}, {\"target\": 578.0, \"preds\": 578.0}, {\"target\": 594.0, \"preds\": 594.0}, {\"target\": 568.0, \"preds\": 568.0}, {\"target\": 574.0, \"preds\": 574.0}, {\"target\": 624.5, \"preds\": 624.5}, {\"target\": 580.0, \"preds\": 580.0}, {\"target\": 581.0, \"preds\": 581.0}, {\"target\": 567.0, \"preds\": 567.0}, {\"target\": 562.0, \"preds\": 562.0}, {\"target\": 581.0, \"preds\": 581.0}, {\"target\": 564.0, \"preds\": 564.0}, {\"target\": 569.0, \"preds\": 569.0}, {\"target\": 572.0, \"preds\": 572.0}, {\"target\": 577.0, \"preds\": 577.0}, {\"target\": 572.0, \"preds\": 572.0}, {\"target\": 569.0, \"preds\": 569.0}, {\"target\": 576.0, \"preds\": 576.0}, {\"target\": 585.0, \"preds\": 585.0}, {\"target\": 566.0, \"preds\": 566.0}, {\"target\": 594.0, \"preds\": 594.0}, {\"target\": 574.0, \"preds\": 574.0}, {\"target\": 574.0, \"preds\": 574.0}, {\"target\": 568.0, \"preds\": 568.0}, {\"target\": 571.0, \"preds\": 571.0}, {\"target\": 567.0, \"preds\": 567.0}, {\"target\": 562.0, \"preds\": 562.0}, {\"target\": 573.0, \"preds\": 573.0}, {\"target\": 590.0, \"preds\": 590.0}, {\"target\": 573.0, \"preds\": 573.0}, {\"target\": 594.0, \"preds\": 594.0}, {\"target\": 574.0, \"preds\": 574.0}, {\"target\": 587.0, \"preds\": 587.0}, {\"target\": 563.0, \"preds\": 563.0}, {\"target\": 562.0, \"preds\": 562.0}, {\"target\": 568.0, \"preds\": 568.0}, {\"target\": 574.0, \"preds\": 574.0}, {\"target\": 562.0, \"preds\": 562.0}, {\"target\": 577.0, \"preds\": 577.0}, {\"target\": 573.0, \"preds\": 573.0}, {\"target\": 600.0, \"preds\": 600.0}, {\"target\": 600.0, \"preds\": 600.0}, {\"target\": 576.0, \"preds\": 576.0}, {\"target\": 600.0, \"preds\": 600.0}, {\"target\": 568.0, \"preds\": 568.0}, {\"target\": 571.0, \"preds\": 571.0}, {\"target\": 569.0, \"preds\": 569.0}, {\"target\": 565.0, \"preds\": 565.0}, {\"target\": 574.0, \"preds\": 574.0}, {\"target\": 567.0, \"preds\": 567.0}, {\"target\": 594.0, \"preds\": 594.0}, {\"target\": 568.0, \"preds\": 568.0}, {\"target\": 587.0, \"preds\": 587.0}, {\"target\": 576.0, \"preds\": 576.0}, {\"target\": 564.0, \"preds\": 564.0}, {\"target\": 582.0, \"preds\": 582.0}, {\"target\": 624.5, \"preds\": 624.5}, {\"target\": 610.0, \"preds\": 610.0}, {\"target\": 569.0, \"preds\": 569.0}, {\"target\": 578.0, \"preds\": 578.0}, {\"target\": 561.0, \"preds\": 561.0}, {\"target\": 567.0, \"preds\": 567.0}, {\"target\": 564.0, \"preds\": 564.0}, {\"target\": 574.0, \"preds\": 574.0}, {\"target\": 561.0, \"preds\": 561.0}, {\"target\": 574.0, \"preds\": 574.0}, {\"target\": 578.0, \"preds\": 578.0}, {\"target\": 584.0, \"preds\": 584.0}, {\"target\": 567.0, \"preds\": 567.0}, {\"target\": 571.0, \"preds\": 571.0}, {\"target\": 587.0, \"preds\": 587.0}, {\"target\": 567.0, \"preds\": 567.0}, {\"target\": 569.0, \"preds\": 569.0}, {\"target\": 571.0, \"preds\": 571.0}, {\"target\": 578.0, \"preds\": 578.0}, {\"target\": 591.0, \"preds\": 591.0}, {\"target\": 587.0, \"preds\": 587.0}, {\"target\": 565.0, \"preds\": 565.0}, {\"target\": 565.0, \"preds\": 565.0}, {\"target\": 568.0, \"preds\": 568.0}, {\"target\": 570.0, \"preds\": 570.0}, {\"target\": 563.0, \"preds\": 563.0}, {\"target\": 569.0, \"preds\": 569.0}, {\"target\": 560.0, \"preds\": 560.0}, {\"target\": 573.0, \"preds\": 573.0}, {\"target\": 569.0, \"preds\": 569.0}, {\"target\": 568.0, \"preds\": 568.0}, {\"target\": 624.5, \"preds\": 624.5}, {\"target\": 571.0, \"preds\": 571.0}, {\"target\": 578.0, \"preds\": 578.0}, {\"target\": 578.0, \"preds\": 578.0}, {\"target\": 564.0, \"preds\": 564.0}, {\"target\": 576.0, \"preds\": 576.0}, {\"target\": 594.0, \"preds\": 594.0}, {\"target\": 591.0, \"preds\": 591.0}, {\"target\": 564.0, \"preds\": 564.0}, {\"target\": 567.0, \"preds\": 567.0}, {\"target\": 581.0, \"preds\": 581.0}, {\"target\": 565.0, \"preds\": 565.0}, {\"target\": 566.0, \"preds\": 566.0}, {\"target\": 571.0, \"preds\": 571.0}, {\"target\": 565.0, \"preds\": 565.0}, {\"target\": 578.0, \"preds\": 578.0}, {\"target\": 571.0, \"preds\": 571.0}, {\"target\": 624.5, \"preds\": 624.5}, {\"target\": 563.0, \"preds\": 563.0}, {\"target\": 571.0, \"preds\": 571.0}, {\"target\": 564.0, \"preds\": 564.0}, {\"target\": 572.0, \"preds\": 572.0}, {\"target\": 566.0, \"preds\": 566.0}, {\"target\": 609.0, \"preds\": 609.0}, {\"target\": 565.0, \"preds\": 565.0}, {\"target\": 576.0, \"preds\": 576.0}, {\"target\": 562.0, \"preds\": 562.0}, {\"target\": 624.5, \"preds\": 624.5}, {\"target\": 566.0, \"preds\": 566.0}, {\"target\": 568.0, \"preds\": 568.0}, {\"target\": 566.0, \"preds\": 566.0}, {\"target\": 574.0, \"preds\": 574.0}, {\"target\": 567.0, \"preds\": 567.0}, {\"target\": 587.0, \"preds\": 587.0}, {\"target\": 581.0, \"preds\": 581.0}, {\"target\": 568.0, \"preds\": 568.0}, {\"target\": 572.0, \"preds\": 572.0}, {\"target\": 586.0, \"preds\": 586.0}, {\"target\": 587.0, \"preds\": 587.0}, {\"target\": 566.0, \"preds\": 566.0}, {\"target\": 572.0, \"preds\": 572.0}, {\"target\": 562.0, \"preds\": 562.0}, {\"target\": 565.0, \"preds\": 565.0}, {\"target\": 574.0, \"preds\": 574.0}, {\"target\": 594.0, \"preds\": 594.0}, {\"target\": 565.0, \"preds\": 565.0}, {\"target\": 587.0, \"preds\": 587.0}, {\"target\": 574.0, \"preds\": 574.0}, {\"target\": 591.0, \"preds\": 591.0}, {\"target\": 578.0, \"preds\": 578.0}, {\"target\": 624.5, \"preds\": 624.5}, {\"target\": 573.0, \"preds\": 573.0}, {\"target\": 567.0, \"preds\": 567.0}, {\"target\": 581.0, \"preds\": 581.0}, {\"target\": 571.0, \"preds\": 571.0}, {\"target\": 571.0, \"preds\": 571.0}, {\"target\": 571.0, \"preds\": 571.0}, {\"target\": 568.0, \"preds\": 568.0}, {\"target\": 586.0, \"preds\": 586.0}, {\"target\": 567.0, \"preds\": 567.0}, {\"target\": 571.0, \"preds\": 571.0}, {\"target\": 569.0, \"preds\": 569.0}, {\"target\": 574.0, \"preds\": 574.0}, {\"target\": 562.0, \"preds\": 562.0}, {\"target\": 578.0, \"preds\": 578.0}, {\"target\": 578.0, \"preds\": 578.0}, {\"target\": 574.0, \"preds\": 574.0}, {\"target\": 563.0, \"preds\": 563.0}, {\"target\": 594.0, \"preds\": 594.0}, {\"target\": 571.0, \"preds\": 571.0}, {\"target\": 576.0, \"preds\": 576.0}, {\"target\": 567.0, \"preds\": 567.0}, {\"target\": 564.0, \"preds\": 564.0}, {\"target\": 572.0, \"preds\": 572.0}, {\"target\": 587.0, \"preds\": 587.0}, {\"target\": 567.0, \"preds\": 567.0}, {\"target\": 624.5, \"preds\": 624.5}, {\"target\": 574.0, \"preds\": 574.0}, {\"target\": 583.0, \"preds\": 583.0}, {\"target\": 599.0, \"preds\": 599.0}, {\"target\": 571.0, \"preds\": 571.0}, {\"target\": 565.0, \"preds\": 565.0}, {\"target\": 565.0, \"preds\": 565.0}, {\"target\": 599.0, \"preds\": 599.0}, {\"target\": 574.0, \"preds\": 574.0}, {\"target\": 576.0, \"preds\": 576.0}, {\"target\": 565.0, \"preds\": 565.0}, {\"target\": 565.0, \"preds\": 565.0}, {\"target\": 624.5, \"preds\": 624.5}, {\"target\": 574.0, \"preds\": 574.0}, {\"target\": 565.0, \"preds\": 565.0}, {\"target\": 582.0, \"preds\": 582.0}, {\"target\": 594.0, \"preds\": 594.0}, {\"target\": 624.5, \"preds\": 624.5}, {\"target\": 624.5, \"preds\": 624.5}, {\"target\": 568.0, \"preds\": 568.0}, {\"target\": 583.0, \"preds\": 583.0}, {\"target\": 568.0, \"preds\": 568.0}, {\"target\": 617.0, \"preds\": 617.0}, {\"target\": 569.0, \"preds\": 569.0}, {\"target\": 569.0, \"preds\": 569.0}, {\"target\": 606.0, \"preds\": 606.0}, {\"target\": 568.0, \"preds\": 568.0}, {\"target\": 578.0, \"preds\": 578.0}, {\"target\": 591.0, \"preds\": 591.0}, {\"target\": 563.0, \"preds\": 563.0}, {\"target\": 624.5, \"preds\": 624.5}, {\"target\": 562.0, \"preds\": 562.0}, {\"target\": 619.0, \"preds\": 619.0}, {\"target\": 571.0, \"preds\": 571.0}, {\"target\": 570.0, \"preds\": 570.0}, {\"target\": 576.0, \"preds\": 576.0}, {\"target\": 569.0, \"preds\": 569.0}, {\"target\": 624.5, \"preds\": 624.5}, {\"target\": 576.0, \"preds\": 576.0}, {\"target\": 600.0, \"preds\": 600.0}, {\"target\": 567.0, \"preds\": 567.0}, {\"target\": 565.0, \"preds\": 565.0}, {\"target\": 573.0, \"preds\": 573.0}, {\"target\": 561.0, \"preds\": 561.0}, {\"target\": 577.0, \"preds\": 577.0}, {\"target\": 569.0, \"preds\": 569.0}, {\"target\": 571.0, \"preds\": 571.0}, {\"target\": 594.0, \"preds\": 594.0}, {\"target\": 571.0, \"preds\": 571.0}, {\"target\": 582.0, \"preds\": 582.0}, {\"target\": 563.0, \"preds\": 563.0}, {\"target\": 579.0, \"preds\": 579.0}, {\"target\": 561.0, \"preds\": 561.0}, {\"target\": 574.0, \"preds\": 574.0}, {\"target\": 578.0, \"preds\": 578.0}, {\"target\": 600.0, \"preds\": 600.0}, {\"target\": 565.0, \"preds\": 565.0}, {\"target\": 564.0, \"preds\": 564.0}, {\"target\": 574.0, \"preds\": 574.0}, {\"target\": 594.0, \"preds\": 594.0}, {\"target\": 624.5, \"preds\": 624.5}, {\"target\": 578.0, \"preds\": 578.0}, {\"target\": 565.0, \"preds\": 565.0}, {\"target\": 567.0, \"preds\": 567.0}, {\"target\": 573.0, \"preds\": 573.0}, {\"target\": 564.0, \"preds\": 564.0}, {\"target\": 563.0, \"preds\": 563.0}, {\"target\": 577.0, \"preds\": 577.0}, {\"target\": 574.0, \"preds\": 574.0}, {\"target\": 566.0, \"preds\": 566.0}, {\"target\": 581.0, \"preds\": 581.0}, {\"target\": 565.0, \"preds\": 565.0}, {\"target\": 581.0, \"preds\": 581.0}, {\"target\": 570.0, \"preds\": 570.0}, {\"target\": 594.0, \"preds\": 594.0}, {\"target\": 583.0, \"preds\": 583.0}, {\"target\": 564.0, \"preds\": 564.0}, {\"target\": 564.0, \"preds\": 564.0}, {\"target\": 576.0, \"preds\": 576.0}, {\"target\": 586.0, \"preds\": 586.0}, {\"target\": 578.0, \"preds\": 578.0}, {\"target\": 566.0, \"preds\": 566.0}, {\"target\": 560.0, \"preds\": 560.0}, {\"target\": 562.0, \"preds\": 562.0}, {\"target\": 571.0, \"preds\": 571.0}, {\"target\": 567.0, \"preds\": 567.0}, {\"target\": 565.0, \"preds\": 565.0}, {\"target\": 594.0, \"preds\": 594.0}, {\"target\": 573.0, \"preds\": 573.0}, {\"target\": 567.0, \"preds\": 567.0}, {\"target\": 571.0, \"preds\": 571.0}, {\"target\": 571.0, \"preds\": 571.0}, {\"target\": 568.0, \"preds\": 568.0}, {\"target\": 600.0, \"preds\": 600.0}, {\"target\": 571.0, \"preds\": 571.0}, {\"target\": 573.0, \"preds\": 573.0}, {\"target\": 565.0, \"preds\": 565.0}, {\"target\": 569.0, \"preds\": 569.0}, {\"target\": 571.0, \"preds\": 571.0}, {\"target\": 600.0, \"preds\": 600.0}, {\"target\": 573.0, \"preds\": 573.0}, {\"target\": 583.0, \"preds\": 583.0}, {\"target\": 564.0, \"preds\": 564.0}, {\"target\": 576.0, \"preds\": 576.0}, {\"target\": 569.0, \"preds\": 569.0}, {\"target\": 562.0, \"preds\": 562.0}, {\"target\": 560.0, \"preds\": 560.0}, {\"target\": 578.0, \"preds\": 578.0}, {\"target\": 571.0, \"preds\": 571.0}, {\"target\": 566.0, \"preds\": 566.0}, {\"target\": 569.0, \"preds\": 569.0}, {\"target\": 609.0, \"preds\": 609.0}, {\"target\": 587.0, \"preds\": 587.0}, {\"target\": 566.0, \"preds\": 566.0}, {\"target\": 571.0, \"preds\": 571.0}, {\"target\": 578.0, \"preds\": 578.0}, {\"target\": 563.0, \"preds\": 563.0}, {\"target\": 567.0, \"preds\": 567.0}, {\"target\": 624.0, \"preds\": 624.0}, {\"target\": 583.0, \"preds\": 583.0}, {\"target\": 564.0, \"preds\": 564.0}, {\"target\": 591.0, \"preds\": 591.0}, {\"target\": 624.5, \"preds\": 624.5}, {\"target\": 580.0, \"preds\": 580.0}, {\"target\": 571.0, \"preds\": 571.0}, {\"target\": 578.0, \"preds\": 578.0}, {\"target\": 594.0, \"preds\": 594.0}, {\"target\": 563.0, \"preds\": 563.0}, {\"target\": 565.0, \"preds\": 565.0}, {\"target\": 581.0, \"preds\": 581.0}, {\"target\": 583.0, \"preds\": 583.0}, {\"target\": 577.0, \"preds\": 577.0}, {\"target\": 583.0, \"preds\": 583.0}, {\"target\": 586.0, \"preds\": 586.0}, {\"target\": 571.0, \"preds\": 571.0}, {\"target\": 561.0, \"preds\": 561.0}, {\"target\": 562.0, \"preds\": 562.0}, {\"target\": 563.0, \"preds\": 563.0}, {\"target\": 569.0, \"preds\": 569.0}, {\"target\": 581.0, \"preds\": 581.0}, {\"target\": 586.0, \"preds\": 586.0}, {\"target\": 568.0, \"preds\": 568.0}, {\"target\": 576.0, \"preds\": 576.0}, {\"target\": 624.5, \"preds\": 624.5}, {\"target\": 573.0, \"preds\": 573.0}, {\"target\": 565.0, \"preds\": 565.0}, {\"target\": 576.0, \"preds\": 576.0}, {\"target\": 624.5, \"preds\": 624.5}, {\"target\": 578.0, \"preds\": 578.0}, {\"target\": 565.0, \"preds\": 565.0}, {\"target\": 569.0, \"preds\": 569.0}, {\"target\": 565.0, \"preds\": 565.0}, {\"target\": 594.0, \"preds\": 594.0}, {\"target\": 573.0, \"preds\": 573.0}, {\"target\": 624.5, \"preds\": 624.5}, {\"target\": 567.0, \"preds\": 567.0}, {\"target\": 573.0, \"preds\": 573.0}, {\"target\": 624.5, \"preds\": 624.5}, {\"target\": 624.5, \"preds\": 624.5}, {\"target\": 560.0, \"preds\": 560.0}, {\"target\": 624.5, \"preds\": 624.5}, {\"target\": 583.0, \"preds\": 583.0}, {\"target\": 571.0, \"preds\": 571.0}, {\"target\": 569.0, \"preds\": 569.0}, {\"target\": 581.0, \"preds\": 581.0}, {\"target\": 624.5, \"preds\": 624.5}, {\"target\": 569.0, \"preds\": 569.0}, {\"target\": 568.0, \"preds\": 568.0}, {\"target\": 624.5, \"preds\": 624.5}, {\"target\": 624.5, \"preds\": 624.5}, {\"target\": 576.0, \"preds\": 576.0}, {\"target\": 571.0, \"preds\": 571.0}, {\"target\": 574.0, \"preds\": 574.0}, {\"target\": 574.0, \"preds\": 574.0}, {\"target\": 606.0, \"preds\": 606.0}, {\"target\": 567.0, \"preds\": 567.0}, {\"target\": 564.0, \"preds\": 564.0}, {\"target\": 572.0, \"preds\": 572.0}, {\"target\": 624.5, \"preds\": 624.5}, {\"target\": 581.0, \"preds\": 581.0}, {\"target\": 565.0, \"preds\": 565.0}, {\"target\": 619.0, \"preds\": 619.0}, {\"target\": 572.0, \"preds\": 572.0}, {\"target\": 571.0, \"preds\": 571.0}, {\"target\": 576.0, \"preds\": 576.0}, {\"target\": 572.0, \"preds\": 572.0}, {\"target\": 592.0, \"preds\": 592.0}, {\"target\": 578.0, \"preds\": 578.0}, {\"target\": 566.0, \"preds\": 566.0}, {\"target\": 590.0, \"preds\": 590.0}, {\"target\": 578.0, \"preds\": 578.0}, {\"target\": 570.0, \"preds\": 570.0}, {\"target\": 575.0, \"preds\": 575.0}, {\"target\": 581.0, \"preds\": 581.0}, {\"target\": 600.0, \"preds\": 600.0}, {\"target\": 604.0, \"preds\": 604.0}, {\"target\": 576.0, \"preds\": 576.0}, {\"target\": 619.0, \"preds\": 619.0}, {\"target\": 567.0, \"preds\": 567.0}, {\"target\": 568.0, \"preds\": 568.0}, {\"target\": 587.0, \"preds\": 587.0}, {\"target\": 594.0, \"preds\": 594.0}, {\"target\": 571.0, \"preds\": 571.0}, {\"target\": 561.0, \"preds\": 561.0}, {\"target\": 594.0, \"preds\": 594.0}, {\"target\": 585.0, \"preds\": 585.0}, {\"target\": 624.5, \"preds\": 624.5}, {\"target\": 567.0, \"preds\": 567.0}, {\"target\": 583.0, \"preds\": 583.0}, {\"target\": 600.0, \"preds\": 600.0}, {\"target\": 571.0, \"preds\": 571.0}, {\"target\": 583.0, \"preds\": 583.0}, {\"target\": 562.0, \"preds\": 562.0}, {\"target\": 581.0, \"preds\": 581.0}, {\"target\": 565.0, \"preds\": 565.0}, {\"target\": 587.0, \"preds\": 587.0}, {\"target\": 562.0, \"preds\": 562.0}, {\"target\": 606.0, \"preds\": 606.0}, {\"target\": 571.0, \"preds\": 571.0}, {\"target\": 563.0, \"preds\": 563.0}, {\"target\": 624.5, \"preds\": 624.5}, {\"target\": 601.0, \"preds\": 601.0}, {\"target\": 572.0, \"preds\": 572.0}, {\"target\": 558.0, \"preds\": 558.0}, {\"target\": 567.0, \"preds\": 567.0}, {\"target\": 571.0, \"preds\": 571.0}, {\"target\": 572.0, \"preds\": 572.0}, {\"target\": 569.0, \"preds\": 569.0}, {\"target\": 568.0, \"preds\": 568.0}, {\"target\": 565.0, \"preds\": 565.0}, {\"target\": 601.0, \"preds\": 601.0}, {\"target\": 566.0, \"preds\": 566.0}, {\"target\": 577.0, \"preds\": 577.0}, {\"target\": 565.0, \"preds\": 565.0}, {\"target\": 576.0, \"preds\": 576.0}, {\"target\": 567.0, \"preds\": 567.0}, {\"target\": 565.0, \"preds\": 565.0}, {\"target\": 613.0, \"preds\": 613.0}, {\"target\": 590.0, \"preds\": 590.0}, {\"target\": 573.0, \"preds\": 573.0}, {\"target\": 573.0, \"preds\": 573.0}, {\"target\": 573.0, \"preds\": 573.0}, {\"target\": 565.0, \"preds\": 565.0}, {\"target\": 568.0, \"preds\": 568.0}, {\"target\": 564.0, \"preds\": 564.0}, {\"target\": 587.0, \"preds\": 587.0}, {\"target\": 567.0, \"preds\": 567.0}, {\"target\": 583.0, \"preds\": 583.0}, {\"target\": 568.0, \"preds\": 568.0}, {\"target\": 569.0, \"preds\": 569.0}, {\"target\": 571.0, \"preds\": 571.0}, {\"target\": 574.0, \"preds\": 574.0}, {\"target\": 600.0, \"preds\": 600.0}, {\"target\": 600.0, \"preds\": 600.0}, {\"target\": 622.0, \"preds\": 622.0}, {\"target\": 574.0, \"preds\": 574.0}, {\"target\": 596.0, \"preds\": 596.0}, {\"target\": 570.0, \"preds\": 570.0}, {\"target\": 581.0, \"preds\": 581.0}, {\"target\": 564.0, \"preds\": 564.0}, {\"target\": 574.0, \"preds\": 574.0}, {\"target\": 596.0, \"preds\": 596.0}, {\"target\": 600.0, \"preds\": 600.0}, {\"target\": 600.0, \"preds\": 600.0}, {\"target\": 574.0, \"preds\": 574.0}, {\"target\": 571.0, \"preds\": 571.0}, {\"target\": 565.0, \"preds\": 565.0}, {\"target\": 569.0, \"preds\": 569.0}, {\"target\": 571.0, \"preds\": 571.0}, {\"target\": 624.5, \"preds\": 624.5}, {\"target\": 586.0, \"preds\": 586.0}, {\"target\": 581.0, \"preds\": 581.0}, {\"target\": 576.0, \"preds\": 576.0}, {\"target\": 574.0, \"preds\": 574.0}, {\"target\": 592.0, \"preds\": 592.0}, {\"target\": 594.0, \"preds\": 594.0}, {\"target\": 569.0, \"preds\": 569.0}, {\"target\": 574.0, \"preds\": 574.0}, {\"target\": 563.0, \"preds\": 563.0}, {\"target\": 606.0, \"preds\": 606.0}, {\"target\": 571.0, \"preds\": 571.0}, {\"target\": 613.0, \"preds\": 613.0}, {\"target\": 581.0, \"preds\": 581.0}, {\"target\": 568.0, \"preds\": 568.0}, {\"target\": 565.0, \"preds\": 565.0}, {\"target\": 572.0, \"preds\": 572.0}, {\"target\": 574.0, \"preds\": 574.0}, {\"target\": 563.0, \"preds\": 563.0}, {\"target\": 624.5, \"preds\": 624.5}, {\"target\": 571.0, \"preds\": 571.0}, {\"target\": 568.0, \"preds\": 568.0}, {\"target\": 568.0, \"preds\": 568.0}, {\"target\": 571.0, \"preds\": 571.0}, {\"target\": 574.0, \"preds\": 574.0}, {\"target\": 586.0, \"preds\": 586.0}, {\"target\": 569.0, \"preds\": 569.0}, {\"target\": 622.0, \"preds\": 622.0}, {\"target\": 624.5, \"preds\": 624.5}, {\"target\": 581.0, \"preds\": 581.0}, {\"target\": 613.0, \"preds\": 613.0}, {\"target\": 565.0, \"preds\": 565.0}, {\"target\": 565.0, \"preds\": 565.0}, {\"target\": 567.0, \"preds\": 567.0}, {\"target\": 571.0, \"preds\": 571.0}, {\"target\": 586.0, \"preds\": 586.0}, {\"target\": 590.0, \"preds\": 590.0}, {\"target\": 577.0, \"preds\": 577.0}, {\"target\": 574.0, \"preds\": 574.0}, {\"target\": 572.0, \"preds\": 572.0}, {\"target\": 624.5, \"preds\": 624.5}, {\"target\": 596.0, \"preds\": 596.0}, {\"target\": 560.0, \"preds\": 560.0}, {\"target\": 624.5, \"preds\": 624.5}, {\"target\": 581.0, \"preds\": 581.0}, {\"target\": 594.0, \"preds\": 594.0}, {\"target\": 624.5, \"preds\": 624.5}, {\"target\": 578.0, \"preds\": 578.0}, {\"target\": 587.0, \"preds\": 587.0}, {\"target\": 578.0, \"preds\": 578.0}, {\"target\": 568.0, \"preds\": 568.0}, {\"target\": 571.0, \"preds\": 571.0}, {\"target\": 587.0, \"preds\": 587.0}, {\"target\": 606.0, \"preds\": 606.0}, {\"target\": 594.0, \"preds\": 594.0}, {\"target\": 592.0, \"preds\": 592.0}, {\"target\": 600.0, \"preds\": 600.0}, {\"target\": 582.0, \"preds\": 582.0}, {\"target\": 595.0, \"preds\": 595.0}, {\"target\": 565.0, \"preds\": 565.0}, {\"target\": 575.0, \"preds\": 575.0}, {\"target\": 596.0, \"preds\": 596.0}, {\"target\": 594.0, \"preds\": 594.0}, {\"target\": 581.0, \"preds\": 581.0}, {\"target\": 624.5, \"preds\": 624.5}, {\"target\": 624.5, \"preds\": 624.5}, {\"target\": 576.0, \"preds\": 576.0}, {\"target\": 566.0, \"preds\": 566.0}, {\"target\": 573.0, \"preds\": 573.0}, {\"target\": 624.5, \"preds\": 624.5}, {\"target\": 565.0, \"preds\": 565.0}, {\"target\": 571.0, \"preds\": 571.0}, {\"target\": 573.0, \"preds\": 573.0}, {\"target\": 563.0, \"preds\": 563.0}, {\"target\": 568.0, \"preds\": 568.0}, {\"target\": 574.0, \"preds\": 574.0}, {\"target\": 565.0, \"preds\": 565.0}, {\"target\": 566.0, \"preds\": 566.0}, {\"target\": 587.0, \"preds\": 587.0}, {\"target\": 572.0, \"preds\": 572.0}, {\"target\": 563.0, \"preds\": 563.0}, {\"target\": 564.0, \"preds\": 564.0}, {\"target\": 583.0, \"preds\": 583.0}, {\"target\": 606.0, \"preds\": 606.0}, {\"target\": 583.0, \"preds\": 583.0}, {\"target\": 561.0, \"preds\": 561.0}, {\"target\": 574.0, \"preds\": 574.0}, {\"target\": 585.0, \"preds\": 585.0}, {\"target\": 613.0, \"preds\": 613.0}, {\"target\": 574.0, \"preds\": 574.0}, {\"target\": 572.0, \"preds\": 572.0}, {\"target\": 568.0, \"preds\": 568.0}, {\"target\": 568.0, \"preds\": 568.0}, {\"target\": 564.0, \"preds\": 564.0}, {\"target\": 564.0, \"preds\": 564.0}, {\"target\": 577.0, \"preds\": 577.0}, {\"target\": 562.0, \"preds\": 562.0}, {\"target\": 581.0, \"preds\": 581.0}, {\"target\": 564.0, \"preds\": 564.0}, {\"target\": 624.5, \"preds\": 624.5}, {\"target\": 572.0, \"preds\": 572.0}, {\"target\": 577.0, \"preds\": 577.0}, {\"target\": 576.0, \"preds\": 576.0}, {\"target\": 562.0, \"preds\": 562.0}, {\"target\": 590.0, \"preds\": 590.0}, {\"target\": 592.0, \"preds\": 592.0}, {\"target\": 592.0, \"preds\": 592.0}, {\"target\": 603.0, \"preds\": 603.0}, {\"target\": 600.0, \"preds\": 600.0}, {\"target\": 609.0, \"preds\": 609.0}, {\"target\": 603.0, \"preds\": 603.0}, {\"target\": 581.0, \"preds\": 581.0}, {\"target\": 566.0, \"preds\": 566.0}, {\"target\": 569.0, \"preds\": 569.0}, {\"target\": 573.0, \"preds\": 573.0}, {\"target\": 624.5, \"preds\": 624.5}, {\"target\": 587.0, \"preds\": 587.0}, {\"target\": 581.0, \"preds\": 581.0}, {\"target\": 591.0, \"preds\": 591.0}, {\"target\": 562.0, \"preds\": 562.0}, {\"target\": 600.0, \"preds\": 600.0}, {\"target\": 594.0, \"preds\": 594.0}, {\"target\": 568.0, \"preds\": 568.0}, {\"target\": 569.0, \"preds\": 569.0}, {\"target\": 577.0, \"preds\": 577.0}, {\"target\": 600.0, \"preds\": 600.0}, {\"target\": 594.0, \"preds\": 594.0}, {\"target\": 594.0, \"preds\": 594.0}, {\"target\": 572.0, \"preds\": 572.0}, {\"target\": 572.0, \"preds\": 572.0}, {\"target\": 572.0, \"preds\": 572.0}, {\"target\": 587.0, \"preds\": 587.0}, {\"target\": 624.5, \"preds\": 624.5}, {\"target\": 567.0, \"preds\": 567.0}, {\"target\": 619.0, \"preds\": 619.0}, {\"target\": 581.0, \"preds\": 581.0}, {\"target\": 574.0, \"preds\": 574.0}, {\"target\": 565.0, \"preds\": 565.0}, {\"target\": 573.0, \"preds\": 573.0}, {\"target\": 578.0, \"preds\": 578.0}, {\"target\": 573.0, \"preds\": 573.0}, {\"target\": 624.5, \"preds\": 624.5}, {\"target\": 583.0, \"preds\": 583.0}, {\"target\": 560.0, \"preds\": 560.0}, {\"target\": 568.0, \"preds\": 568.0}, {\"target\": 565.0, \"preds\": 565.0}, {\"target\": 577.0, \"preds\": 577.0}, {\"target\": 574.0, \"preds\": 574.0}, {\"target\": 565.0, \"preds\": 565.0}, {\"target\": 563.0, \"preds\": 563.0}, {\"target\": 578.0, \"preds\": 578.0}, {\"target\": 578.0, \"preds\": 578.0}, {\"target\": 565.0, \"preds\": 565.0}, {\"target\": 573.0, \"preds\": 573.0}, {\"target\": 569.0, \"preds\": 569.0}, {\"target\": 587.0, \"preds\": 587.0}, {\"target\": 567.0, \"preds\": 567.0}, {\"target\": 615.0, \"preds\": 615.0}, {\"target\": 581.0, \"preds\": 581.0}, {\"target\": 563.0, \"preds\": 563.0}, {\"target\": 562.0, \"preds\": 562.0}, {\"target\": 581.0, \"preds\": 581.0}, {\"target\": 568.0, \"preds\": 568.0}, {\"target\": 572.0, \"preds\": 572.0}, {\"target\": 562.0, \"preds\": 562.0}, {\"target\": 573.0, \"preds\": 573.0}, {\"target\": 578.0, \"preds\": 578.0}, {\"target\": 581.0, \"preds\": 581.0}, {\"target\": 624.5, \"preds\": 624.5}, {\"target\": 572.0, \"preds\": 572.0}, {\"target\": 612.0, \"preds\": 612.0}, {\"target\": 594.0, \"preds\": 594.0}, {\"target\": 606.0, \"preds\": 606.0}, {\"target\": 624.5, \"preds\": 624.5}, {\"target\": 571.0, \"preds\": 571.0}, {\"target\": 572.0, \"preds\": 572.0}, {\"target\": 594.0, \"preds\": 594.0}, {\"target\": 567.0, \"preds\": 567.0}, {\"target\": 624.5, \"preds\": 624.5}, {\"target\": 594.0, \"preds\": 594.0}, {\"target\": 567.0, \"preds\": 567.0}, {\"target\": 572.0, \"preds\": 572.0}, {\"target\": 564.0, \"preds\": 564.0}, {\"target\": 560.0, \"preds\": 560.0}, {\"target\": 580.0, \"preds\": 580.0}, {\"target\": 585.0, \"preds\": 585.0}, {\"target\": 571.0, \"preds\": 571.0}, {\"target\": 604.0, \"preds\": 604.0}, {\"target\": 564.0, \"preds\": 564.0}, {\"target\": 574.0, \"preds\": 574.0}, {\"target\": 594.0, \"preds\": 594.0}, {\"target\": 568.0, \"preds\": 568.0}, {\"target\": 594.0, \"preds\": 594.0}, {\"target\": 576.0, \"preds\": 576.0}, {\"target\": 583.0, \"preds\": 583.0}, {\"target\": 567.0, \"preds\": 567.0}, {\"target\": 581.0, \"preds\": 581.0}, {\"target\": 580.0, \"preds\": 580.0}, {\"target\": 572.0, \"preds\": 572.0}, {\"target\": 564.0, \"preds\": 564.0}, {\"target\": 587.0, \"preds\": 587.0}, {\"target\": 581.0, \"preds\": 581.0}, {\"target\": 578.0, \"preds\": 578.0}, {\"target\": 572.0, \"preds\": 572.0}, {\"target\": 568.0, \"preds\": 568.0}, {\"target\": 568.0, \"preds\": 568.0}, {\"target\": 585.0, \"preds\": 585.0}, {\"target\": 581.0, \"preds\": 581.0}, {\"target\": 624.5, \"preds\": 624.5}, {\"target\": 587.0, \"preds\": 587.0}, {\"target\": 582.0, \"preds\": 582.0}, {\"target\": 583.0, \"preds\": 583.0}, {\"target\": 573.0, \"preds\": 573.0}, {\"target\": 564.0, \"preds\": 564.0}, {\"target\": 579.0, \"preds\": 579.0}, {\"target\": 566.0, \"preds\": 566.0}, {\"target\": 565.0, \"preds\": 565.0}, {\"target\": 574.0, \"preds\": 574.0}, {\"target\": 603.0, \"preds\": 603.0}, {\"target\": 571.0, \"preds\": 571.0}, {\"target\": 572.0, \"preds\": 572.0}, {\"target\": 583.0, \"preds\": 583.0}, {\"target\": 560.0, \"preds\": 560.0}, {\"target\": 571.0, \"preds\": 571.0}, {\"target\": 567.0, \"preds\": 567.0}, {\"target\": 573.0, \"preds\": 573.0}, {\"target\": 571.0, \"preds\": 571.0}, {\"target\": 574.0, \"preds\": 574.0}, {\"target\": 571.0, \"preds\": 571.0}, {\"target\": 624.5, \"preds\": 624.5}, {\"target\": 624.5, \"preds\": 624.5}, {\"target\": 596.0, \"preds\": 596.0}, {\"target\": 594.0, \"preds\": 594.0}, {\"target\": 624.5, \"preds\": 624.5}, {\"target\": 600.0, \"preds\": 600.0}, {\"target\": 581.0, \"preds\": 581.0}, {\"target\": 564.0, \"preds\": 564.0}, {\"target\": 577.0, \"preds\": 577.0}, {\"target\": 581.0, \"preds\": 581.0}, {\"target\": 578.0, \"preds\": 578.0}, {\"target\": 574.0, \"preds\": 574.0}, {\"target\": 572.0, \"preds\": 572.0}, {\"target\": 581.0, \"preds\": 581.0}, {\"target\": 571.0, \"preds\": 571.0}, {\"target\": 624.5, \"preds\": 624.5}, {\"target\": 624.5, \"preds\": 624.5}, {\"target\": 578.0, \"preds\": 578.0}, {\"target\": 624.5, \"preds\": 624.5}, {\"target\": 568.0, \"preds\": 568.0}, {\"target\": 586.0, \"preds\": 586.0}, {\"target\": 591.0, \"preds\": 591.0}, {\"target\": 590.0, \"preds\": 590.0}, {\"target\": 577.0, \"preds\": 577.0}, {\"target\": 624.5, \"preds\": 624.5}, {\"target\": 587.0, \"preds\": 587.0}, {\"target\": 576.0, \"preds\": 576.0}, {\"target\": 578.0, \"preds\": 578.0}, {\"target\": 568.0, \"preds\": 568.0}, {\"target\": 568.0, \"preds\": 568.0}, {\"target\": 624.5, \"preds\": 624.5}, {\"target\": 585.0, \"preds\": 585.0}, {\"target\": 563.0, \"preds\": 563.0}, {\"target\": 606.0, \"preds\": 606.0}, {\"target\": 573.0, \"preds\": 573.0}, {\"target\": 581.0, \"preds\": 581.0}, {\"target\": 562.0, \"preds\": 562.0}, {\"target\": 565.0, \"preds\": 565.0}, {\"target\": 587.0, \"preds\": 587.0}, {\"target\": 583.0, \"preds\": 583.0}, {\"target\": 582.0, \"preds\": 582.0}, {\"target\": 594.0, \"preds\": 594.0}, {\"target\": 574.0, \"preds\": 574.0}, {\"target\": 578.0, \"preds\": 578.0}, {\"target\": 568.0, \"preds\": 568.0}, {\"target\": 581.0, \"preds\": 581.0}, {\"target\": 591.0, \"preds\": 591.0}, {\"target\": 564.0, \"preds\": 564.0}, {\"target\": 594.0, \"preds\": 594.0}, {\"target\": 565.0, \"preds\": 565.0}, {\"target\": 598.0, \"preds\": 598.0}, {\"target\": 567.0, \"preds\": 567.0}, {\"target\": 568.0, \"preds\": 568.0}, {\"target\": 568.0, \"preds\": 568.0}, {\"target\": 574.0, \"preds\": 574.0}, {\"target\": 624.5, \"preds\": 624.5}, {\"target\": 581.0, \"preds\": 581.0}, {\"target\": 576.0, \"preds\": 576.0}, {\"target\": 585.0, \"preds\": 585.0}, {\"target\": 567.0, \"preds\": 567.0}, {\"target\": 569.0, \"preds\": 569.0}, {\"target\": 570.0, \"preds\": 570.0}, {\"target\": 576.0, \"preds\": 576.0}, {\"target\": 585.0, \"preds\": 585.0}, {\"target\": 594.0, \"preds\": 594.0}, {\"target\": 624.5, \"preds\": 624.5}, {\"target\": 560.0, \"preds\": 560.0}, {\"target\": 571.0, \"preds\": 571.0}, {\"target\": 606.0, \"preds\": 606.0}, {\"target\": 565.0, \"preds\": 565.0}, {\"target\": 572.0, \"preds\": 572.0}, {\"target\": 569.0, \"preds\": 569.0}, {\"target\": 624.5, \"preds\": 624.5}, {\"target\": 572.0, \"preds\": 572.0}, {\"target\": 578.0, \"preds\": 578.0}, {\"target\": 574.0, \"preds\": 574.0}, {\"target\": 594.0, \"preds\": 594.0}, {\"target\": 568.0, \"preds\": 568.0}, {\"target\": 568.0, \"preds\": 568.0}, {\"target\": 624.5, \"preds\": 624.5}, {\"target\": 624.5, \"preds\": 624.5}, {\"target\": 562.0, \"preds\": 562.0}, {\"target\": 563.0, \"preds\": 563.0}, {\"target\": 594.0, \"preds\": 594.0}, {\"target\": 609.0, \"preds\": 609.0}, {\"target\": 562.0, \"preds\": 562.0}, {\"target\": 564.0, \"preds\": 564.0}, {\"target\": 568.0, \"preds\": 568.0}, {\"target\": 577.0, \"preds\": 577.0}, {\"target\": 578.0, \"preds\": 578.0}, {\"target\": 577.0, \"preds\": 577.0}, {\"target\": 590.0, \"preds\": 590.0}, {\"target\": 585.0, \"preds\": 585.0}, {\"target\": 587.0, \"preds\": 587.0}, {\"target\": 568.0, \"preds\": 568.0}, {\"target\": 600.0, \"preds\": 600.0}, {\"target\": 564.0, \"preds\": 564.0}, {\"target\": 562.0, \"preds\": 562.0}, {\"target\": 571.0, \"preds\": 571.0}, {\"target\": 594.0, \"preds\": 594.0}, {\"target\": 587.0, \"preds\": 587.0}, {\"target\": 613.0, \"preds\": 613.0}, {\"target\": 566.0, \"preds\": 566.0}, {\"target\": 624.5, \"preds\": 624.5}, {\"target\": 622.0, \"preds\": 622.0}, {\"target\": 571.0, \"preds\": 571.0}, {\"target\": 573.0, \"preds\": 573.0}, {\"target\": 562.0, \"preds\": 562.0}, {\"target\": 606.0, \"preds\": 606.0}, {\"target\": 577.0, \"preds\": 577.0}, {\"target\": 574.0, \"preds\": 574.0}, {\"target\": 563.0, \"preds\": 563.0}, {\"target\": 624.5, \"preds\": 624.5}, {\"target\": 578.0, \"preds\": 578.0}, {\"target\": 565.0, \"preds\": 565.0}, {\"target\": 568.0, \"preds\": 568.0}, {\"target\": 567.0, \"preds\": 567.0}, {\"target\": 586.0, \"preds\": 586.0}, {\"target\": 569.0, \"preds\": 569.0}, {\"target\": 595.0, \"preds\": 595.0}, {\"target\": 567.0, \"preds\": 567.0}, {\"target\": 567.0, \"preds\": 567.0}, {\"target\": 564.0, \"preds\": 564.0}, {\"target\": 624.5, \"preds\": 624.5}, {\"target\": 574.0, \"preds\": 574.0}, {\"target\": 574.0, \"preds\": 574.0}, {\"target\": 565.0, \"preds\": 565.0}, {\"target\": 592.0, \"preds\": 592.0}, {\"target\": 581.0, \"preds\": 581.0}, {\"target\": 571.0, \"preds\": 571.0}, {\"target\": 592.0, \"preds\": 592.0}, {\"target\": 568.0, \"preds\": 568.0}, {\"target\": 573.0, \"preds\": 573.0}, {\"target\": 563.0, \"preds\": 563.0}, {\"target\": 606.0, \"preds\": 606.0}, {\"target\": 585.0, \"preds\": 585.0}, {\"target\": 568.0, \"preds\": 568.0}, {\"target\": 574.0, \"preds\": 574.0}, {\"target\": 569.0, \"preds\": 569.0}, {\"target\": 581.0, \"preds\": 581.0}, {\"target\": 574.0, \"preds\": 574.0}, {\"target\": 563.0, \"preds\": 563.0}, {\"target\": 581.0, \"preds\": 581.0}, {\"target\": 564.0, \"preds\": 564.0}, {\"target\": 571.0, \"preds\": 571.0}, {\"target\": 590.0, \"preds\": 590.0}, {\"target\": 574.0, \"preds\": 574.0}, {\"target\": 581.0, \"preds\": 581.0}, {\"target\": 564.0, \"preds\": 564.0}, {\"target\": 564.0, \"preds\": 564.0}, {\"target\": 564.0, \"preds\": 564.0}, {\"target\": 567.0, \"preds\": 567.0}, {\"target\": 561.0, \"preds\": 561.0}, {\"target\": 571.0, \"preds\": 571.0}, {\"target\": 578.0, \"preds\": 578.0}, {\"target\": 562.0, \"preds\": 562.0}, {\"target\": 573.0, \"preds\": 573.0}, {\"target\": 564.0, \"preds\": 564.0}, {\"target\": 568.0, \"preds\": 568.0}, {\"target\": 572.0, \"preds\": 572.0}, {\"target\": 570.0, \"preds\": 570.0}, {\"target\": 567.0, \"preds\": 567.0}, {\"target\": 571.0, \"preds\": 571.0}, {\"target\": 600.0, \"preds\": 600.0}, {\"target\": 569.0, \"preds\": 569.0}, {\"target\": 624.5, \"preds\": 624.5}, {\"target\": 574.0, \"preds\": 574.0}, {\"target\": 574.0, \"preds\": 574.0}, {\"target\": 568.0, \"preds\": 568.0}, {\"target\": 571.0, \"preds\": 571.0}, {\"target\": 568.0, \"preds\": 568.0}, {\"target\": 600.0, \"preds\": 600.0}, {\"target\": 586.0, \"preds\": 586.0}, {\"target\": 571.0, \"preds\": 571.0}, {\"target\": 568.0, \"preds\": 568.0}, {\"target\": 597.0, \"preds\": 597.0}, {\"target\": 594.0, \"preds\": 594.0}, {\"target\": 572.0, \"preds\": 572.0}, {\"target\": 574.0, \"preds\": 574.0}, {\"target\": 581.0, \"preds\": 581.0}, {\"target\": 568.0, \"preds\": 568.0}, {\"target\": 563.0, \"preds\": 563.0}, {\"target\": 559.0, \"preds\": 559.0}, {\"target\": 590.0, \"preds\": 590.0}, {\"target\": 565.0, \"preds\": 565.0}, {\"target\": 571.0, \"preds\": 571.0}, {\"target\": 574.0, \"preds\": 574.0}, {\"target\": 565.0, \"preds\": 565.0}, {\"target\": 565.0, \"preds\": 565.0}, {\"target\": 573.0, \"preds\": 573.0}, {\"target\": 574.0, \"preds\": 574.0}, {\"target\": 582.0, \"preds\": 582.0}, {\"target\": 571.0, \"preds\": 571.0}, {\"target\": 574.0, \"preds\": 574.0}, {\"target\": 563.0, \"preds\": 563.0}, {\"target\": 581.0, \"preds\": 581.0}, {\"target\": 568.0, \"preds\": 568.0}, {\"target\": 569.0, \"preds\": 569.0}, {\"target\": 574.0, \"preds\": 574.0}, {\"target\": 586.0, \"preds\": 586.0}, {\"target\": 576.0, \"preds\": 576.0}, {\"target\": 568.0, \"preds\": 568.0}, {\"target\": 588.0, \"preds\": 588.0}, {\"target\": 568.0, \"preds\": 568.0}, {\"target\": 574.0, \"preds\": 574.0}, {\"target\": 567.0, \"preds\": 567.0}, {\"target\": 574.0, \"preds\": 574.0}, {\"target\": 574.0, \"preds\": 574.0}, {\"target\": 565.0, \"preds\": 565.0}, {\"target\": 572.0, \"preds\": 572.0}, {\"target\": 567.0, \"preds\": 567.0}, {\"target\": 624.5, \"preds\": 624.5}, {\"target\": 565.0, \"preds\": 565.0}, {\"target\": 576.0, \"preds\": 576.0}, {\"target\": 574.0, \"preds\": 574.0}, {\"target\": 574.0, \"preds\": 574.0}, {\"target\": 574.0, \"preds\": 574.0}, {\"target\": 624.5, \"preds\": 624.5}, {\"target\": 567.0, \"preds\": 567.0}, {\"target\": 564.0, \"preds\": 564.0}, {\"target\": 577.0, \"preds\": 577.0}, {\"target\": 574.0, \"preds\": 574.0}, {\"target\": 587.0, \"preds\": 587.0}, {\"target\": 565.0, \"preds\": 565.0}, {\"target\": 566.0, \"preds\": 566.0}, {\"target\": 571.0, \"preds\": 571.0}, {\"target\": 624.5, \"preds\": 624.5}, {\"target\": 573.0, \"preds\": 573.0}, {\"target\": 587.0, \"preds\": 587.0}, {\"target\": 578.0, \"preds\": 578.0}, {\"target\": 577.0, \"preds\": 577.0}, {\"target\": 566.0, \"preds\": 566.0}, {\"target\": 574.0, \"preds\": 574.0}, {\"target\": 568.0, \"preds\": 568.0}, {\"target\": 562.0, \"preds\": 562.0}, {\"target\": 574.0, \"preds\": 574.0}, {\"target\": 599.0, \"preds\": 599.0}, {\"target\": 565.0, \"preds\": 565.0}, {\"target\": 624.5, \"preds\": 624.5}, {\"target\": 583.0, \"preds\": 583.0}, {\"target\": 572.0, \"preds\": 572.0}, {\"target\": 594.0, \"preds\": 594.0}, {\"target\": 571.0, \"preds\": 571.0}, {\"target\": 578.0, \"preds\": 578.0}, {\"target\": 580.0, \"preds\": 580.0}, {\"target\": 571.0, \"preds\": 571.0}, {\"target\": 562.0, \"preds\": 562.0}, {\"target\": 574.0, \"preds\": 574.0}, {\"target\": 577.0, \"preds\": 577.0}, {\"target\": 578.0, \"preds\": 578.0}, {\"target\": 567.0, \"preds\": 567.0}, {\"target\": 571.0, \"preds\": 571.0}, {\"target\": 565.0, \"preds\": 565.0}, {\"target\": 576.0, \"preds\": 576.0}, {\"target\": 565.0, \"preds\": 565.0}, {\"target\": 568.0, \"preds\": 568.0}, {\"target\": 565.0, \"preds\": 565.0}, {\"target\": 576.0, \"preds\": 576.0}, {\"target\": 568.0, \"preds\": 568.0}, {\"target\": 570.0, \"preds\": 570.0}, {\"target\": 568.0, \"preds\": 568.0}, {\"target\": 564.0, \"preds\": 564.0}, {\"target\": 578.0, \"preds\": 578.0}, {\"target\": 606.0, \"preds\": 606.0}, {\"target\": 562.0, \"preds\": 562.0}, {\"target\": 581.0, \"preds\": 581.0}, {\"target\": 573.0, \"preds\": 573.0}, {\"target\": 572.0, \"preds\": 572.0}, {\"target\": 567.0, \"preds\": 567.0}, {\"target\": 568.0, \"preds\": 568.0}, {\"target\": 571.0, \"preds\": 571.0}, {\"target\": 569.0, \"preds\": 569.0}, {\"target\": 568.0, \"preds\": 568.0}, {\"target\": 624.5, \"preds\": 624.5}, {\"target\": 613.0, \"preds\": 613.0}, {\"target\": 624.5, \"preds\": 624.5}, {\"target\": 571.0, \"preds\": 571.0}, {\"target\": 624.5, \"preds\": 624.5}, {\"target\": 585.0, \"preds\": 585.0}, {\"target\": 576.0, \"preds\": 576.0}, {\"target\": 572.0, \"preds\": 572.0}, {\"target\": 564.0, \"preds\": 564.0}, {\"target\": 560.0, \"preds\": 560.0}, {\"target\": 571.0, \"preds\": 571.0}, {\"target\": 565.0, \"preds\": 565.0}, {\"target\": 564.0, \"preds\": 564.0}, {\"target\": 581.0, \"preds\": 581.0}, {\"target\": 574.0, \"preds\": 574.0}, {\"target\": 569.0, \"preds\": 569.0}, {\"target\": 624.5, \"preds\": 624.5}, {\"target\": 571.0, \"preds\": 571.0}, {\"target\": 566.0, \"preds\": 566.0}, {\"target\": 604.0, \"preds\": 604.0}, {\"target\": 567.0, \"preds\": 567.0}, {\"target\": 566.0, \"preds\": 566.0}, {\"target\": 564.0, \"preds\": 564.0}, {\"target\": 566.0, \"preds\": 566.0}, {\"target\": 564.0, \"preds\": 564.0}, {\"target\": 564.0, \"preds\": 564.0}, {\"target\": 561.0, \"preds\": 561.0}, {\"target\": 583.0, \"preds\": 583.0}, {\"target\": 568.0, \"preds\": 568.0}, {\"target\": 576.0, \"preds\": 576.0}, {\"target\": 624.5, \"preds\": 624.5}, {\"target\": 574.0, \"preds\": 574.0}, {\"target\": 581.0, \"preds\": 581.0}, {\"target\": 574.0, \"preds\": 574.0}, {\"target\": 567.0, \"preds\": 567.0}, {\"target\": 573.0, \"preds\": 573.0}, {\"target\": 574.0, \"preds\": 574.0}, {\"target\": 565.0, \"preds\": 565.0}, {\"target\": 571.0, \"preds\": 571.0}, {\"target\": 565.0, \"preds\": 565.0}, {\"target\": 569.0, \"preds\": 569.0}, {\"target\": 569.0, \"preds\": 569.0}, {\"target\": 578.0, \"preds\": 578.0}, {\"target\": 565.0, \"preds\": 565.0}, {\"target\": 587.0, \"preds\": 587.0}, {\"target\": 571.0, \"preds\": 571.0}, {\"target\": 562.0, \"preds\": 562.0}, {\"target\": 573.0, \"preds\": 573.0}, {\"target\": 600.0, \"preds\": 600.0}, {\"target\": 565.0, \"preds\": 565.0}, {\"target\": 576.0, \"preds\": 576.0}, {\"target\": 576.0, \"preds\": 576.0}, {\"target\": 600.0, \"preds\": 600.0}, {\"target\": 562.0, \"preds\": 562.0}, {\"target\": 587.0, \"preds\": 587.0}, {\"target\": 561.0, \"preds\": 561.0}, {\"target\": 565.0, \"preds\": 565.0}, {\"target\": 576.0, \"preds\": 576.0}, {\"target\": 578.0, \"preds\": 578.0}, {\"target\": 564.0, \"preds\": 564.0}, {\"target\": 565.0, \"preds\": 565.0}, {\"target\": 568.0, \"preds\": 568.0}, {\"target\": 564.0, \"preds\": 564.0}, {\"target\": 624.5, \"preds\": 624.5}, {\"target\": 572.0, \"preds\": 572.0}, {\"target\": 624.5, \"preds\": 624.5}, {\"target\": 572.0, \"preds\": 572.0}, {\"target\": 588.0, \"preds\": 588.0}, {\"target\": 566.0, \"preds\": 566.0}, {\"target\": 574.0, \"preds\": 574.0}, {\"target\": 581.0, \"preds\": 581.0}, {\"target\": 574.0, \"preds\": 574.0}, {\"target\": 573.0, \"preds\": 573.0}, {\"target\": 569.0, \"preds\": 569.0}, {\"target\": 564.0, \"preds\": 564.0}, {\"target\": 588.0, \"preds\": 588.0}, {\"target\": 565.0, \"preds\": 565.0}, {\"target\": 574.0, \"preds\": 574.0}, {\"target\": 571.0, \"preds\": 571.0}, {\"target\": 583.0, \"preds\": 583.0}, {\"target\": 564.0, \"preds\": 564.0}, {\"target\": 564.0, \"preds\": 564.0}, {\"target\": 613.0, \"preds\": 613.0}, {\"target\": 581.0, \"preds\": 581.0}, {\"target\": 573.0, \"preds\": 573.0}, {\"target\": 578.0, \"preds\": 578.0}, {\"target\": 581.0, \"preds\": 581.0}, {\"target\": 568.0, \"preds\": 568.0}, {\"target\": 578.0, \"preds\": 578.0}, {\"target\": 562.0, \"preds\": 562.0}, {\"target\": 571.0, \"preds\": 571.0}, {\"target\": 567.0, \"preds\": 567.0}, {\"target\": 571.0, \"preds\": 571.0}, {\"target\": 581.0, \"preds\": 581.0}, {\"target\": 571.0, \"preds\": 571.0}, {\"target\": 567.0, \"preds\": 567.0}, {\"target\": 583.0, \"preds\": 583.0}, {\"target\": 585.0, \"preds\": 585.0}, {\"target\": 571.0, \"preds\": 571.0}, {\"target\": 597.0, \"preds\": 597.0}, {\"target\": 581.0, \"preds\": 581.0}, {\"target\": 567.0, \"preds\": 567.0}, {\"target\": 564.0, \"preds\": 564.0}, {\"target\": 573.0, \"preds\": 573.0}, {\"target\": 582.0, \"preds\": 582.0}, {\"target\": 576.0, \"preds\": 576.0}, {\"target\": 587.0, \"preds\": 587.0}, {\"target\": 570.0, \"preds\": 570.0}, {\"target\": 574.0, \"preds\": 574.0}, {\"target\": 561.0, \"preds\": 561.0}, {\"target\": 567.0, \"preds\": 567.0}, {\"target\": 576.0, \"preds\": 576.0}, {\"target\": 571.0, \"preds\": 571.0}, {\"target\": 572.0, \"preds\": 572.0}, {\"target\": 575.0, \"preds\": 575.0}, {\"target\": 563.0, \"preds\": 563.0}, {\"target\": 568.0, \"preds\": 568.0}, {\"target\": 559.0, \"preds\": 559.0}, {\"target\": 565.0, \"preds\": 565.0}, {\"target\": 576.0, \"preds\": 576.0}, {\"target\": 600.0, \"preds\": 600.0}, {\"target\": 581.0, \"preds\": 581.0}, {\"target\": 576.0, \"preds\": 576.0}, {\"target\": 566.0, \"preds\": 566.0}, {\"target\": 576.0, \"preds\": 576.0}, {\"target\": 578.0, \"preds\": 578.0}, {\"target\": 565.0, \"preds\": 565.0}, {\"target\": 567.0, \"preds\": 567.0}, {\"target\": 572.0, \"preds\": 572.0}, {\"target\": 587.0, \"preds\": 587.0}, {\"target\": 624.5, \"preds\": 624.5}, {\"target\": 572.0, \"preds\": 572.0}, {\"target\": 581.0, \"preds\": 581.0}, {\"target\": 578.0, \"preds\": 578.0}, {\"target\": 565.0, \"preds\": 565.0}, {\"target\": 576.0, \"preds\": 576.0}, {\"target\": 578.0, \"preds\": 578.0}, {\"target\": 580.0, \"preds\": 580.0}, {\"target\": 565.0, \"preds\": 565.0}, {\"target\": 574.0, \"preds\": 574.0}, {\"target\": 580.0, \"preds\": 580.0}, {\"target\": 613.0, \"preds\": 613.0}, {\"target\": 581.0, \"preds\": 581.0}, {\"target\": 562.0, \"preds\": 562.0}, {\"target\": 574.0, \"preds\": 574.0}, {\"target\": 594.0, \"preds\": 594.0}, {\"target\": 571.0, \"preds\": 571.0}, {\"target\": 568.0, \"preds\": 568.0}, {\"target\": 571.0, \"preds\": 571.0}, {\"target\": 613.0, \"preds\": 613.0}, {\"target\": 569.0, \"preds\": 569.0}, {\"target\": 563.0, \"preds\": 563.0}, {\"target\": 563.0, \"preds\": 563.0}, {\"target\": 564.0, \"preds\": 564.0}, {\"target\": 568.0, \"preds\": 568.0}, {\"target\": 576.0, \"preds\": 576.0}, {\"target\": 583.0, \"preds\": 583.0}, {\"target\": 573.0, \"preds\": 573.0}, {\"target\": 578.0, \"preds\": 578.0}, {\"target\": 569.0, \"preds\": 569.0}, {\"target\": 581.0, \"preds\": 581.0}, {\"target\": 624.5, \"preds\": 624.5}, {\"target\": 572.0, \"preds\": 572.0}, {\"target\": 564.0, \"preds\": 564.0}, {\"target\": 571.0, \"preds\": 571.0}, {\"target\": 574.0, \"preds\": 574.0}, {\"target\": 591.0, \"preds\": 591.0}, {\"target\": 567.0, \"preds\": 567.0}, {\"target\": 576.0, \"preds\": 576.0}, {\"target\": 581.0, \"preds\": 581.0}, {\"target\": 583.0, \"preds\": 583.0}, {\"target\": 624.5, \"preds\": 624.5}, {\"target\": 562.0, \"preds\": 562.0}, {\"target\": 565.0, \"preds\": 565.0}, {\"target\": 613.0, \"preds\": 613.0}, {\"target\": 574.0, \"preds\": 574.0}, {\"target\": 560.0, \"preds\": 560.0}, {\"target\": 587.0, \"preds\": 587.0}, {\"target\": 577.0, \"preds\": 577.0}, {\"target\": 619.0, \"preds\": 619.0}, {\"target\": 583.0, \"preds\": 583.0}, {\"target\": 571.0, \"preds\": 571.0}, {\"target\": 568.0, \"preds\": 568.0}, {\"target\": 568.0, \"preds\": 568.0}, {\"target\": 588.0, \"preds\": 588.0}, {\"target\": 571.0, \"preds\": 571.0}, {\"target\": 566.0, \"preds\": 566.0}, {\"target\": 571.0, \"preds\": 571.0}, {\"target\": 588.0, \"preds\": 588.0}, {\"target\": 572.0, \"preds\": 572.0}, {\"target\": 594.0, \"preds\": 594.0}, {\"target\": 571.0, \"preds\": 571.0}, {\"target\": 568.0, \"preds\": 568.0}, {\"target\": 572.0, \"preds\": 572.0}, {\"target\": 572.0, \"preds\": 572.0}, {\"target\": 565.0, \"preds\": 565.0}, {\"target\": 563.0, \"preds\": 563.0}, {\"target\": 577.0, \"preds\": 577.0}, {\"target\": 577.0, \"preds\": 577.0}, {\"target\": 574.0, \"preds\": 574.0}, {\"target\": 566.0, \"preds\": 566.0}, {\"target\": 566.0, \"preds\": 566.0}, {\"target\": 569.0, \"preds\": 569.0}, {\"target\": 576.0, \"preds\": 576.0}, {\"target\": 568.0, \"preds\": 568.0}, {\"target\": 624.5, \"preds\": 624.5}, {\"target\": 564.0, \"preds\": 564.0}, {\"target\": 577.0, \"preds\": 577.0}, {\"target\": 577.0, \"preds\": 577.0}, {\"target\": 605.0, \"preds\": 605.0}, {\"target\": 564.0, \"preds\": 564.0}, {\"target\": 574.0, \"preds\": 574.0}, {\"target\": 577.0, \"preds\": 577.0}, {\"target\": 564.0, \"preds\": 564.0}, {\"target\": 624.5, \"preds\": 624.5}, {\"target\": 566.0, \"preds\": 566.0}, {\"target\": 565.0, \"preds\": 565.0}, {\"target\": 568.0, \"preds\": 568.0}, {\"target\": 599.0, \"preds\": 599.0}, {\"target\": 577.0, \"preds\": 577.0}, {\"target\": 577.0, \"preds\": 577.0}, {\"target\": 566.0, \"preds\": 566.0}, {\"target\": 568.0, \"preds\": 568.0}, {\"target\": 565.0, \"preds\": 565.0}, {\"target\": 594.0, \"preds\": 594.0}, {\"target\": 574.0, \"preds\": 574.0}, {\"target\": 587.0, \"preds\": 587.0}, {\"target\": 576.0, \"preds\": 576.0}, {\"target\": 606.0, \"preds\": 606.0}, {\"target\": 574.0, \"preds\": 574.0}, {\"target\": 571.0, \"preds\": 571.0}, {\"target\": 600.0, \"preds\": 600.0}, {\"target\": 565.0, \"preds\": 565.0}, {\"target\": 569.0, \"preds\": 569.0}, {\"target\": 581.0, \"preds\": 581.0}, {\"target\": 567.0, \"preds\": 567.0}, {\"target\": 576.0, \"preds\": 576.0}, {\"target\": 571.0, \"preds\": 571.0}, {\"target\": 571.0, \"preds\": 571.0}, {\"target\": 574.0, \"preds\": 574.0}, {\"target\": 573.0, \"preds\": 573.0}, {\"target\": 624.5, \"preds\": 624.5}, {\"target\": 568.0, \"preds\": 568.0}, {\"target\": 577.0, \"preds\": 577.0}, {\"target\": 624.5, \"preds\": 624.5}, {\"target\": 588.0, \"preds\": 588.0}, {\"target\": 566.0, \"preds\": 566.0}, {\"target\": 568.0, \"preds\": 568.0}, {\"target\": 587.0, \"preds\": 587.0}, {\"target\": 568.0, \"preds\": 568.0}, {\"target\": 572.0, \"preds\": 572.0}, {\"target\": 576.0, \"preds\": 576.0}, {\"target\": 567.0, \"preds\": 567.0}, {\"target\": 578.0, \"preds\": 578.0}, {\"target\": 586.0, \"preds\": 586.0}, {\"target\": 563.0, \"preds\": 563.0}, {\"target\": 578.0, \"preds\": 578.0}, {\"target\": 581.0, \"preds\": 581.0}, {\"target\": 573.0, \"preds\": 573.0}, {\"target\": 567.0, \"preds\": 567.0}, {\"target\": 574.0, \"preds\": 574.0}, {\"target\": 624.5, \"preds\": 624.5}, {\"target\": 565.0, \"preds\": 565.0}, {\"target\": 567.0, \"preds\": 567.0}, {\"target\": 624.5, \"preds\": 624.5}, {\"target\": 564.0, \"preds\": 564.0}, {\"target\": 585.0, \"preds\": 585.0}, {\"target\": 563.0, \"preds\": 563.0}, {\"target\": 572.0, \"preds\": 572.0}, {\"target\": 574.0, \"preds\": 574.0}, {\"target\": 568.0, \"preds\": 568.0}, {\"target\": 568.0, \"preds\": 568.0}, {\"target\": 564.0, \"preds\": 564.0}, {\"target\": 564.0, \"preds\": 564.0}, {\"target\": 564.0, \"preds\": 564.0}, {\"target\": 583.0, \"preds\": 583.0}, {\"target\": 564.0, \"preds\": 564.0}, {\"target\": 574.0, \"preds\": 574.0}, {\"target\": 564.0, \"preds\": 564.0}, {\"target\": 574.0, \"preds\": 574.0}, {\"target\": 567.0, \"preds\": 567.0}, {\"target\": 578.0, \"preds\": 578.0}, {\"target\": 566.0, \"preds\": 566.0}, {\"target\": 577.0, \"preds\": 577.0}, {\"target\": 571.0, \"preds\": 571.0}, {\"target\": 594.0, \"preds\": 594.0}, {\"target\": 560.0, \"preds\": 560.0}, {\"target\": 573.0, \"preds\": 573.0}, {\"target\": 565.0, \"preds\": 565.0}, {\"target\": 571.0, \"preds\": 571.0}, {\"target\": 624.5, \"preds\": 624.5}, {\"target\": 573.0, \"preds\": 573.0}, {\"target\": 565.0, \"preds\": 565.0}, {\"target\": 578.0, \"preds\": 578.0}, {\"target\": 590.0, \"preds\": 590.0}, {\"target\": 576.0, \"preds\": 576.0}, {\"target\": 571.0, \"preds\": 571.0}, {\"target\": 573.0, \"preds\": 573.0}, {\"target\": 564.0, \"preds\": 564.0}, {\"target\": 569.0, \"preds\": 569.0}, {\"target\": 564.0, \"preds\": 564.0}, {\"target\": 624.5, \"preds\": 624.5}, {\"target\": 568.0, \"preds\": 568.0}, {\"target\": 580.0, \"preds\": 580.0}, {\"target\": 568.0, \"preds\": 568.0}, {\"target\": 572.0, \"preds\": 572.0}, {\"target\": 571.0, \"preds\": 571.0}, {\"target\": 568.0, \"preds\": 568.0}, {\"target\": 576.0, \"preds\": 576.0}, {\"target\": 569.0, \"preds\": 569.0}, {\"target\": 574.0, \"preds\": 574.0}, {\"target\": 574.0, \"preds\": 574.0}, {\"target\": 571.0, \"preds\": 571.0}, {\"target\": 568.0, \"preds\": 568.0}, {\"target\": 564.0, \"preds\": 564.0}, {\"target\": 568.0, \"preds\": 568.0}, {\"target\": 567.0, \"preds\": 567.0}, {\"target\": 569.0, \"preds\": 569.0}, {\"target\": 581.0, \"preds\": 581.0}, {\"target\": 567.0, \"preds\": 567.0}, {\"target\": 568.0, \"preds\": 568.0}, {\"target\": 576.0, \"preds\": 576.0}, {\"target\": 572.0, \"preds\": 572.0}, {\"target\": 576.0, \"preds\": 576.0}, {\"target\": 566.0, \"preds\": 566.0}, {\"target\": 574.0, \"preds\": 574.0}, {\"target\": 572.0, \"preds\": 572.0}, {\"target\": 588.0, \"preds\": 588.0}, {\"target\": 569.0, \"preds\": 569.0}, {\"target\": 578.0, \"preds\": 578.0}, {\"target\": 568.0, \"preds\": 568.0}, {\"target\": 606.0, \"preds\": 606.0}, {\"target\": 586.0, \"preds\": 586.0}, {\"target\": 578.0, \"preds\": 578.0}, {\"target\": 569.0, \"preds\": 569.0}, {\"target\": 585.0, \"preds\": 585.0}, {\"target\": 569.0, \"preds\": 569.0}, {\"target\": 565.0, \"preds\": 565.0}, {\"target\": 572.0, \"preds\": 572.0}, {\"target\": 569.0, \"preds\": 569.0}, {\"target\": 572.0, \"preds\": 572.0}, {\"target\": 587.0, \"preds\": 587.0}, {\"target\": 571.0, \"preds\": 571.0}, {\"target\": 587.0, \"preds\": 587.0}, {\"target\": 566.0, \"preds\": 566.0}, {\"target\": 566.0, \"preds\": 566.0}, {\"target\": 562.0, \"preds\": 562.0}, {\"target\": 566.0, \"preds\": 566.0}, {\"target\": 624.5, \"preds\": 624.5}, {\"target\": 565.0, \"preds\": 565.0}, {\"target\": 571.0, \"preds\": 571.0}, {\"target\": 578.0, \"preds\": 578.0}, {\"target\": 572.0, \"preds\": 572.0}, {\"target\": 624.5, \"preds\": 624.5}, {\"target\": 565.0, \"preds\": 565.0}, {\"target\": 563.0, \"preds\": 563.0}, {\"target\": 571.0, \"preds\": 571.0}, {\"target\": 564.0, \"preds\": 564.0}, {\"target\": 568.0, \"preds\": 568.0}, {\"target\": 577.0, \"preds\": 577.0}, {\"target\": 583.0, \"preds\": 583.0}, {\"target\": 570.0, \"preds\": 570.0}, {\"target\": 585.0, \"preds\": 585.0}, {\"target\": 580.0, \"preds\": 580.0}, {\"target\": 613.0, \"preds\": 613.0}, {\"target\": 577.0, \"preds\": 577.0}, {\"target\": 567.0, \"preds\": 567.0}, {\"target\": 571.0, \"preds\": 571.0}, {\"target\": 606.0, \"preds\": 606.0}, {\"target\": 567.0, \"preds\": 567.0}, {\"target\": 567.0, \"preds\": 567.0}, {\"target\": 587.0, \"preds\": 587.0}, {\"target\": 568.0, \"preds\": 568.0}, {\"target\": 571.0, \"preds\": 571.0}, {\"target\": 580.0, \"preds\": 580.0}, {\"target\": 568.0, \"preds\": 568.0}, {\"target\": 581.0, \"preds\": 581.0}, {\"target\": 591.0, \"preds\": 591.0}, {\"target\": 568.0, \"preds\": 568.0}, {\"target\": 565.0, \"preds\": 565.0}, {\"target\": 572.0, \"preds\": 572.0}, {\"target\": 601.0, \"preds\": 601.0}, {\"target\": 574.0, \"preds\": 574.0}, {\"target\": 562.0, \"preds\": 562.0}, {\"target\": 568.0, \"preds\": 568.0}, {\"target\": 566.0, \"preds\": 566.0}, {\"target\": 569.0, \"preds\": 569.0}, {\"target\": 565.0, \"preds\": 565.0}, {\"target\": 571.0, \"preds\": 571.0}, {\"target\": 562.0, \"preds\": 562.0}, {\"target\": 564.0, \"preds\": 564.0}, {\"target\": 574.0, \"preds\": 574.0}, {\"target\": 568.0, \"preds\": 568.0}, {\"target\": 603.0, \"preds\": 603.0}, {\"target\": 564.0, \"preds\": 564.0}, {\"target\": 564.0, \"preds\": 564.0}, {\"target\": 576.0, \"preds\": 576.0}, {\"target\": 599.0, \"preds\": 599.0}, {\"target\": 574.0, \"preds\": 574.0}, {\"target\": 565.0, \"preds\": 565.0}, {\"target\": 583.0, \"preds\": 583.0}, {\"target\": 624.5, \"preds\": 624.5}, {\"target\": 563.0, \"preds\": 563.0}, {\"target\": 573.0, \"preds\": 573.0}, {\"target\": 570.0, \"preds\": 570.0}, {\"target\": 576.0, \"preds\": 576.0}, {\"target\": 565.0, \"preds\": 565.0}, {\"target\": 568.0, \"preds\": 568.0}, {\"target\": 579.0, \"preds\": 579.0}, {\"target\": 577.0, \"preds\": 577.0}, {\"target\": 600.0, \"preds\": 600.0}, {\"target\": 567.0, \"preds\": 567.0}, {\"target\": 569.0, \"preds\": 569.0}, {\"target\": 571.0, \"preds\": 571.0}, {\"target\": 572.0, \"preds\": 572.0}, {\"target\": 601.0, \"preds\": 601.0}, {\"target\": 624.5, \"preds\": 624.5}, {\"target\": 571.0, \"preds\": 571.0}, {\"target\": 578.0, \"preds\": 578.0}, {\"target\": 568.0, \"preds\": 568.0}, {\"target\": 578.0, \"preds\": 578.0}, {\"target\": 603.0, \"preds\": 603.0}, {\"target\": 578.0, \"preds\": 578.0}, {\"target\": 587.0, \"preds\": 587.0}, {\"target\": 568.0, \"preds\": 568.0}, {\"target\": 574.0, \"preds\": 574.0}, {\"target\": 600.0, \"preds\": 600.0}, {\"target\": 562.0, \"preds\": 562.0}, {\"target\": 585.0, \"preds\": 585.0}, {\"target\": 574.0, \"preds\": 574.0}, {\"target\": 579.0, \"preds\": 579.0}, {\"target\": 591.0, \"preds\": 591.0}, {\"target\": 596.0, \"preds\": 596.0}, {\"target\": 573.0, \"preds\": 573.0}, {\"target\": 564.0, \"preds\": 564.0}, {\"target\": 597.0, \"preds\": 597.0}, {\"target\": 624.5, \"preds\": 624.5}, {\"target\": 578.0, \"preds\": 578.0}, {\"target\": 576.0, \"preds\": 576.0}, {\"target\": 566.0, \"preds\": 566.0}, {\"target\": 568.0, \"preds\": 568.0}, {\"target\": 572.0, \"preds\": 572.0}, {\"target\": 571.0, \"preds\": 571.0}, {\"target\": 568.0, \"preds\": 568.0}, {\"target\": 574.0, \"preds\": 574.0}, {\"target\": 600.0, \"preds\": 600.0}, {\"target\": 624.5, \"preds\": 624.5}, {\"target\": 596.0, \"preds\": 596.0}, {\"target\": 600.0, \"preds\": 600.0}, {\"target\": 569.0, \"preds\": 569.0}, {\"target\": 571.0, \"preds\": 571.0}, {\"target\": 606.0, \"preds\": 606.0}, {\"target\": 565.0, \"preds\": 565.0}, {\"target\": 581.0, \"preds\": 581.0}, {\"target\": 571.0, \"preds\": 571.0}, {\"target\": 574.0, \"preds\": 574.0}, {\"target\": 590.0, \"preds\": 590.0}, {\"target\": 572.0, \"preds\": 572.0}, {\"target\": 567.0, \"preds\": 567.0}, {\"target\": 571.0, \"preds\": 571.0}, {\"target\": 578.0, \"preds\": 578.0}, {\"target\": 573.0, \"preds\": 573.0}, {\"target\": 606.0, \"preds\": 606.0}, {\"target\": 624.5, \"preds\": 624.5}, {\"target\": 574.0, \"preds\": 574.0}, {\"target\": 566.0, \"preds\": 566.0}, {\"target\": 590.0, \"preds\": 590.0}, {\"target\": 574.0, \"preds\": 574.0}, {\"target\": 562.0, \"preds\": 562.0}, {\"target\": 588.0, \"preds\": 588.0}, {\"target\": 573.0, \"preds\": 573.0}, {\"target\": 581.0, \"preds\": 581.0}, {\"target\": 571.0, \"preds\": 571.0}, {\"target\": 577.0, \"preds\": 577.0}, {\"target\": 624.5, \"preds\": 624.5}, {\"target\": 580.0, \"preds\": 580.0}, {\"target\": 574.0, \"preds\": 574.0}, {\"target\": 569.0, \"preds\": 569.0}, {\"target\": 597.0, \"preds\": 597.0}, {\"target\": 585.0, \"preds\": 585.0}, {\"target\": 568.0, \"preds\": 568.0}, {\"target\": 571.0, \"preds\": 571.0}, {\"target\": 617.0, \"preds\": 617.0}, {\"target\": 573.0, \"preds\": 573.0}, {\"target\": 564.0, \"preds\": 564.0}, {\"target\": 572.0, \"preds\": 572.0}, {\"target\": 569.0, \"preds\": 569.0}, {\"target\": 567.0, \"preds\": 567.0}, {\"target\": 565.0, \"preds\": 565.0}, {\"target\": 576.0, \"preds\": 576.0}, {\"target\": 578.0, \"preds\": 578.0}, {\"target\": 566.0, \"preds\": 566.0}, {\"target\": 571.0, \"preds\": 571.0}, {\"target\": 568.0, \"preds\": 568.0}, {\"target\": 572.0, \"preds\": 572.0}, {\"target\": 583.0, \"preds\": 583.0}, {\"target\": 569.0, \"preds\": 569.0}, {\"target\": 569.0, \"preds\": 569.0}, {\"target\": 581.0, \"preds\": 581.0}, {\"target\": 573.0, \"preds\": 573.0}, {\"target\": 571.0, \"preds\": 571.0}, {\"target\": 569.0, \"preds\": 569.0}, {\"target\": 594.0, \"preds\": 594.0}, {\"target\": 567.0, \"preds\": 567.0}, {\"target\": 600.0, \"preds\": 600.0}, {\"target\": 567.0, \"preds\": 567.0}, {\"target\": 567.0, \"preds\": 567.0}, {\"target\": 624.5, \"preds\": 624.5}, {\"target\": 569.0, \"preds\": 569.0}, {\"target\": 569.0, \"preds\": 569.0}, {\"target\": 569.0, \"preds\": 569.0}, {\"target\": 565.0, \"preds\": 565.0}, {\"target\": 567.0, \"preds\": 567.0}, {\"target\": 565.0, \"preds\": 565.0}, {\"target\": 562.0, \"preds\": 562.0}, {\"target\": 571.0, \"preds\": 571.0}, {\"target\": 585.0, \"preds\": 585.0}, {\"target\": 571.0, \"preds\": 571.0}, {\"target\": 564.0, \"preds\": 564.0}, {\"target\": 567.0, \"preds\": 567.0}, {\"target\": 587.0, \"preds\": 587.0}, {\"target\": 590.0, \"preds\": 590.0}, {\"target\": 567.0, \"preds\": 567.0}, {\"target\": 571.0, \"preds\": 571.0}, {\"target\": 574.0, \"preds\": 574.0}, {\"target\": 586.0, \"preds\": 586.0}, {\"target\": 571.0, \"preds\": 571.0}, {\"target\": 590.0, \"preds\": 590.0}, {\"target\": 594.0, \"preds\": 594.0}, {\"target\": 581.0, \"preds\": 581.0}, {\"target\": 583.0, \"preds\": 583.0}, {\"target\": 587.0, \"preds\": 587.0}, {\"target\": 585.0, \"preds\": 585.0}, {\"target\": 571.0, \"preds\": 571.0}, {\"target\": 578.0, \"preds\": 578.0}, {\"target\": 624.5, \"preds\": 624.5}, {\"target\": 562.0, \"preds\": 562.0}, {\"target\": 567.0, \"preds\": 567.0}, {\"target\": 564.0, \"preds\": 564.0}, {\"target\": 591.0, \"preds\": 591.0}, {\"target\": 574.0, \"preds\": 574.0}, {\"target\": 613.0, \"preds\": 613.0}, {\"target\": 571.0, \"preds\": 571.0}, {\"target\": 571.0, \"preds\": 571.0}, {\"target\": 572.0, \"preds\": 572.0}, {\"target\": 567.0, \"preds\": 567.0}, {\"target\": 560.0, \"preds\": 560.0}, {\"target\": 565.0, \"preds\": 565.0}, {\"target\": 572.0, \"preds\": 572.0}, {\"target\": 571.0, \"preds\": 571.0}, {\"target\": 563.0, \"preds\": 563.0}, {\"target\": 564.0, \"preds\": 564.0}, {\"target\": 567.0, \"preds\": 567.0}, {\"target\": 576.0, \"preds\": 576.0}, {\"target\": 569.0, \"preds\": 569.0}, {\"target\": 567.0, \"preds\": 567.0}, {\"target\": 569.0, \"preds\": 569.0}, {\"target\": 586.0, \"preds\": 586.0}, {\"target\": 571.0, \"preds\": 571.0}, {\"target\": 568.0, \"preds\": 568.0}, {\"target\": 583.0, \"preds\": 583.0}, {\"target\": 564.0, \"preds\": 564.0}, {\"target\": 606.0, \"preds\": 606.0}, {\"target\": 560.0, \"preds\": 560.0}, {\"target\": 568.0, \"preds\": 568.0}, {\"target\": 568.0, \"preds\": 568.0}, {\"target\": 568.0, \"preds\": 568.0}, {\"target\": 567.0, \"preds\": 567.0}, {\"target\": 578.0, \"preds\": 578.0}, {\"target\": 618.0, \"preds\": 618.0}, {\"target\": 567.0, \"preds\": 567.0}, {\"target\": 624.5, \"preds\": 624.5}, {\"target\": 565.0, \"preds\": 565.0}, {\"target\": 572.0, \"preds\": 572.0}, {\"target\": 578.0, \"preds\": 578.0}, {\"target\": 578.0, \"preds\": 578.0}, {\"target\": 596.0, \"preds\": 596.0}, {\"target\": 574.0, \"preds\": 574.0}, {\"target\": 563.0, \"preds\": 563.0}, {\"target\": 567.0, \"preds\": 567.0}, {\"target\": 567.0, \"preds\": 567.0}, {\"target\": 571.0, \"preds\": 571.0}, {\"target\": 587.0, \"preds\": 587.0}, {\"target\": 574.0, \"preds\": 574.0}, {\"target\": 581.0, \"preds\": 581.0}, {\"target\": 574.0, \"preds\": 574.0}, {\"target\": 572.0, \"preds\": 572.0}, {\"target\": 568.0, \"preds\": 568.0}, {\"target\": 568.0, \"preds\": 568.0}, {\"target\": 577.0, \"preds\": 577.0}, {\"target\": 571.0, \"preds\": 571.0}, {\"target\": 587.0, \"preds\": 587.0}, {\"target\": 571.0, \"preds\": 571.0}, {\"target\": 571.0, \"preds\": 571.0}, {\"target\": 574.0, \"preds\": 574.0}, {\"target\": 568.0, \"preds\": 568.0}, {\"target\": 566.0, \"preds\": 566.0}, {\"target\": 561.0, \"preds\": 561.0}, {\"target\": 567.0, \"preds\": 567.0}, {\"target\": 577.0, \"preds\": 577.0}, {\"target\": 567.0, \"preds\": 567.0}, {\"target\": 565.0, \"preds\": 565.0}, {\"target\": 571.0, \"preds\": 571.0}, {\"target\": 587.0, \"preds\": 587.0}, {\"target\": 613.0, \"preds\": 613.0}, {\"target\": 581.0, \"preds\": 581.0}, {\"target\": 576.0, \"preds\": 576.0}, {\"target\": 574.0, \"preds\": 574.0}, {\"target\": 562.0, \"preds\": 562.0}, {\"target\": 600.0, \"preds\": 600.0}, {\"target\": 601.0, \"preds\": 601.0}, {\"target\": 594.0, \"preds\": 594.0}, {\"target\": 576.0, \"preds\": 576.0}, {\"target\": 572.0, \"preds\": 572.0}, {\"target\": 573.0, \"preds\": 573.0}, {\"target\": 565.0, \"preds\": 565.0}, {\"target\": 557.0, \"preds\": 557.0}, {\"target\": 574.0, \"preds\": 574.0}, {\"target\": 571.0, \"preds\": 571.0}, {\"target\": 587.0, \"preds\": 587.0}, {\"target\": 572.0, \"preds\": 572.0}, {\"target\": 600.0, \"preds\": 600.0}, {\"target\": 569.0, \"preds\": 569.0}, {\"target\": 587.0, \"preds\": 587.0}, {\"target\": 600.0, \"preds\": 600.0}, {\"target\": 590.0, \"preds\": 590.0}, {\"target\": 581.0, \"preds\": 581.0}, {\"target\": 566.0, \"preds\": 566.0}, {\"target\": 573.0, \"preds\": 573.0}, {\"target\": 600.0, \"preds\": 600.0}, {\"target\": 581.0, \"preds\": 581.0}, {\"target\": 578.0, \"preds\": 578.0}, {\"target\": 568.0, \"preds\": 568.0}, {\"target\": 571.0, \"preds\": 571.0}, {\"target\": 562.0, \"preds\": 562.0}, {\"target\": 569.0, \"preds\": 569.0}, {\"target\": 571.0, \"preds\": 571.0}, {\"target\": 571.0, \"preds\": 571.0}, {\"target\": 581.0, \"preds\": 581.0}, {\"target\": 583.0, \"preds\": 583.0}, {\"target\": 574.0, \"preds\": 574.0}, {\"target\": 562.0, \"preds\": 562.0}, {\"target\": 576.0, \"preds\": 576.0}, {\"target\": 566.0, \"preds\": 566.0}, {\"target\": 573.0, \"preds\": 573.0}, {\"target\": 574.0, \"preds\": 574.0}, {\"target\": 563.0, \"preds\": 563.0}, {\"target\": 573.0, \"preds\": 573.0}, {\"target\": 568.0, \"preds\": 568.0}, {\"target\": 571.0, \"preds\": 571.0}, {\"target\": 571.0, \"preds\": 571.0}, {\"target\": 567.0, \"preds\": 567.0}, {\"target\": 578.0, \"preds\": 578.0}, {\"target\": 573.0, \"preds\": 573.0}, {\"target\": 567.0, \"preds\": 567.0}, {\"target\": 565.0, \"preds\": 565.0}, {\"target\": 573.0, \"preds\": 573.0}, {\"target\": 568.0, \"preds\": 568.0}, {\"target\": 577.0, \"preds\": 577.0}, {\"target\": 568.0, \"preds\": 568.0}, {\"target\": 583.0, \"preds\": 583.0}, {\"target\": 571.0, \"preds\": 571.0}, {\"target\": 564.0, \"preds\": 564.0}, {\"target\": 581.0, \"preds\": 581.0}, {\"target\": 587.0, \"preds\": 587.0}, {\"target\": 587.0, \"preds\": 587.0}, {\"target\": 571.0, \"preds\": 571.0}, {\"target\": 568.0, \"preds\": 568.0}, {\"target\": 577.0, \"preds\": 577.0}, {\"target\": 624.5, \"preds\": 624.5}, {\"target\": 569.0, \"preds\": 569.0}, {\"target\": 567.0, \"preds\": 567.0}, {\"target\": 581.0, \"preds\": 581.0}, {\"target\": 578.0, \"preds\": 578.0}, {\"target\": 571.0, \"preds\": 571.0}, {\"target\": 571.0, \"preds\": 571.0}, {\"target\": 591.0, \"preds\": 591.0}, {\"target\": 563.0, \"preds\": 563.0}, {\"target\": 571.0, \"preds\": 571.0}, {\"target\": 595.0, \"preds\": 595.0}, {\"target\": 564.0, \"preds\": 564.0}, {\"target\": 583.0, \"preds\": 583.0}, {\"target\": 578.0, \"preds\": 578.0}, {\"target\": 573.0, \"preds\": 573.0}, {\"target\": 567.0, \"preds\": 567.0}, {\"target\": 564.0, \"preds\": 564.0}, {\"target\": 574.0, \"preds\": 574.0}, {\"target\": 562.0, \"preds\": 562.0}, {\"target\": 573.0, \"preds\": 573.0}, {\"target\": 568.0, \"preds\": 568.0}, {\"target\": 568.0, \"preds\": 568.0}, {\"target\": 572.0, \"preds\": 572.0}, {\"target\": 581.0, \"preds\": 581.0}, {\"target\": 587.0, \"preds\": 587.0}, {\"target\": 565.0, \"preds\": 565.0}, {\"target\": 624.5, \"preds\": 624.5}, {\"target\": 571.0, \"preds\": 571.0}, {\"target\": 571.0, \"preds\": 571.0}, {\"target\": 568.0, \"preds\": 568.0}, {\"target\": 567.0, \"preds\": 567.0}, {\"target\": 581.0, \"preds\": 581.0}, {\"target\": 573.0, \"preds\": 573.0}, {\"target\": 573.0, \"preds\": 573.0}, {\"target\": 562.0, \"preds\": 562.0}, {\"target\": 567.0, \"preds\": 567.0}, {\"target\": 561.0, \"preds\": 561.0}, {\"target\": 594.0, \"preds\": 594.0}, {\"target\": 576.0, \"preds\": 576.0}, {\"target\": 567.0, \"preds\": 567.0}, {\"target\": 571.0, \"preds\": 571.0}, {\"target\": 584.0, \"preds\": 584.0}, {\"target\": 568.0, \"preds\": 568.0}, {\"target\": 572.0, \"preds\": 572.0}, {\"target\": 571.0, \"preds\": 571.0}, {\"target\": 565.0, \"preds\": 565.0}, {\"target\": 587.0, \"preds\": 587.0}, {\"target\": 588.0, \"preds\": 588.0}, {\"target\": 574.0, \"preds\": 574.0}, {\"target\": 571.0, \"preds\": 571.0}, {\"target\": 581.0, \"preds\": 581.0}, {\"target\": 566.0, \"preds\": 566.0}, {\"target\": 574.0, \"preds\": 574.0}, {\"target\": 567.0, \"preds\": 567.0}, {\"target\": 573.0, \"preds\": 573.0}, {\"target\": 569.0, \"preds\": 569.0}, {\"target\": 568.0, \"preds\": 568.0}, {\"target\": 624.5, \"preds\": 624.5}, {\"target\": 587.0, \"preds\": 587.0}, {\"target\": 590.0, \"preds\": 590.0}, {\"target\": 571.0, \"preds\": 571.0}, {\"target\": 576.0, \"preds\": 576.0}, {\"target\": 565.0, \"preds\": 565.0}, {\"target\": 573.0, \"preds\": 573.0}, {\"target\": 568.0, \"preds\": 568.0}, {\"target\": 576.0, \"preds\": 576.0}, {\"target\": 563.0, \"preds\": 563.0}, {\"target\": 588.0, \"preds\": 588.0}, {\"target\": 591.0, \"preds\": 591.0}, {\"target\": 566.0, \"preds\": 566.0}, {\"target\": 571.0, \"preds\": 571.0}, {\"target\": 587.0, \"preds\": 587.0}, {\"target\": 571.0, \"preds\": 571.0}, {\"target\": 563.0, \"preds\": 563.0}, {\"target\": 566.0, \"preds\": 566.0}, {\"target\": 565.0, \"preds\": 565.0}, {\"target\": 571.0, \"preds\": 571.0}, {\"target\": 574.0, \"preds\": 574.0}, {\"target\": 575.0, \"preds\": 575.0}, {\"target\": 581.0, \"preds\": 581.0}, {\"target\": 574.0, \"preds\": 574.0}, {\"target\": 577.0, \"preds\": 577.0}, {\"target\": 581.0, \"preds\": 581.0}, {\"target\": 587.0, \"preds\": 587.0}, {\"target\": 564.0, \"preds\": 564.0}, {\"target\": 568.0, \"preds\": 568.0}, {\"target\": 573.0, \"preds\": 573.0}, {\"target\": 574.0, \"preds\": 574.0}, {\"target\": 581.0, \"preds\": 581.0}, {\"target\": 568.0, \"preds\": 568.0}, {\"target\": 594.0, \"preds\": 594.0}, {\"target\": 572.0, \"preds\": 572.0}, {\"target\": 565.0, \"preds\": 565.0}, {\"target\": 580.0, \"preds\": 580.0}, {\"target\": 574.0, \"preds\": 574.0}, {\"target\": 568.0, \"preds\": 568.0}, {\"target\": 564.0, \"preds\": 564.0}, {\"target\": 574.0, \"preds\": 574.0}, {\"target\": 567.0, \"preds\": 567.0}, {\"target\": 564.0, \"preds\": 564.0}, {\"target\": 568.0, \"preds\": 568.0}, {\"target\": 565.0, \"preds\": 565.0}, {\"target\": 559.0, \"preds\": 559.0}, {\"target\": 571.0, \"preds\": 571.0}, {\"target\": 581.0, \"preds\": 581.0}, {\"target\": 581.0, \"preds\": 581.0}, {\"target\": 624.5, \"preds\": 624.5}, {\"target\": 568.0, \"preds\": 568.0}, {\"target\": 566.0, \"preds\": 566.0}, {\"target\": 565.0, \"preds\": 565.0}, {\"target\": 565.0, \"preds\": 565.0}, {\"target\": 572.0, \"preds\": 572.0}, {\"target\": 568.0, \"preds\": 568.0}, {\"target\": 571.0, \"preds\": 571.0}, {\"target\": 567.0, \"preds\": 567.0}, {\"target\": 563.0, \"preds\": 563.0}, {\"target\": 596.0, \"preds\": 596.0}, {\"target\": 581.0, \"preds\": 581.0}, {\"target\": 567.0, \"preds\": 567.0}, {\"target\": 567.0, \"preds\": 567.0}, {\"target\": 564.0, \"preds\": 564.0}, {\"target\": 577.0, \"preds\": 577.0}, {\"target\": 580.0, \"preds\": 580.0}, {\"target\": 587.0, \"preds\": 587.0}, {\"target\": 573.0, \"preds\": 573.0}, {\"target\": 574.0, \"preds\": 574.0}, {\"target\": 572.0, \"preds\": 572.0}, {\"target\": 571.0, \"preds\": 571.0}, {\"target\": 565.0, \"preds\": 565.0}, {\"target\": 572.0, \"preds\": 572.0}, {\"target\": 622.0, \"preds\": 622.0}, {\"target\": 578.0, \"preds\": 578.0}, {\"target\": 564.0, \"preds\": 564.0}, {\"target\": 576.0, \"preds\": 576.0}, {\"target\": 572.0, \"preds\": 572.0}, {\"target\": 563.0, \"preds\": 563.0}, {\"target\": 568.0, \"preds\": 568.0}, {\"target\": 571.0, \"preds\": 571.0}, {\"target\": 568.0, \"preds\": 568.0}, {\"target\": 567.0, \"preds\": 567.0}, {\"target\": 565.0, \"preds\": 565.0}, {\"target\": 624.5, \"preds\": 624.5}, {\"target\": 566.0, \"preds\": 566.0}, {\"target\": 565.0, \"preds\": 565.0}, {\"target\": 562.0, \"preds\": 562.0}, {\"target\": 565.0, \"preds\": 565.0}, {\"target\": 571.0, \"preds\": 571.0}, {\"target\": 575.0, \"preds\": 575.0}, {\"target\": 588.0, \"preds\": 588.0}, {\"target\": 565.0, \"preds\": 565.0}, {\"target\": 568.0, \"preds\": 568.0}, {\"target\": 581.0, \"preds\": 581.0}, {\"target\": 571.0, \"preds\": 571.0}, {\"target\": 578.0, \"preds\": 578.0}, {\"target\": 582.0, \"preds\": 582.0}, {\"target\": 588.0, \"preds\": 588.0}, {\"target\": 623.0, \"preds\": 623.0}, {\"target\": 572.0, \"preds\": 572.0}, {\"target\": 568.0, \"preds\": 568.0}, {\"target\": 583.0, \"preds\": 583.0}, {\"target\": 596.0, \"preds\": 596.0}, {\"target\": 606.0, \"preds\": 606.0}, {\"target\": 567.0, \"preds\": 567.0}, {\"target\": 587.0, \"preds\": 587.0}, {\"target\": 566.0, \"preds\": 566.0}, {\"target\": 581.0, \"preds\": 581.0}, {\"target\": 571.0, \"preds\": 571.0}, {\"target\": 571.0, \"preds\": 571.0}, {\"target\": 568.0, \"preds\": 568.0}, {\"target\": 578.0, \"preds\": 578.0}, {\"target\": 571.0, \"preds\": 571.0}, {\"target\": 572.0, \"preds\": 572.0}, {\"target\": 572.0, \"preds\": 572.0}, {\"target\": 587.0, \"preds\": 587.0}, {\"target\": 568.0, \"preds\": 568.0}, {\"target\": 572.0, \"preds\": 572.0}, {\"target\": 582.0, \"preds\": 582.0}, {\"target\": 568.0, \"preds\": 568.0}, {\"target\": 572.0, \"preds\": 572.0}, {\"target\": 624.5, \"preds\": 624.5}, {\"target\": 596.0, \"preds\": 596.0}, {\"target\": 583.0, \"preds\": 583.0}, {\"target\": 566.0, \"preds\": 566.0}, {\"target\": 571.0, \"preds\": 571.0}, {\"target\": 574.0, \"preds\": 574.0}, {\"target\": 559.0, \"preds\": 559.0}, {\"target\": 622.0, \"preds\": 622.0}, {\"target\": 565.0, \"preds\": 565.0}, {\"target\": 568.0, \"preds\": 568.0}, {\"target\": 605.0, \"preds\": 605.0}, {\"target\": 567.0, \"preds\": 567.0}, {\"target\": 574.0, \"preds\": 574.0}, {\"target\": 565.0, \"preds\": 565.0}, {\"target\": 563.0, \"preds\": 563.0}, {\"target\": 600.0, \"preds\": 600.0}, {\"target\": 576.0, \"preds\": 576.0}, {\"target\": 564.0, \"preds\": 564.0}, {\"target\": 565.0, \"preds\": 565.0}, {\"target\": 583.0, \"preds\": 583.0}, {\"target\": 571.0, \"preds\": 571.0}, {\"target\": 587.0, \"preds\": 587.0}, {\"target\": 571.0, \"preds\": 571.0}, {\"target\": 567.0, \"preds\": 567.0}, {\"target\": 567.0, \"preds\": 567.0}, {\"target\": 594.0, \"preds\": 594.0}, {\"target\": 575.0, \"preds\": 575.0}, {\"target\": 569.0, \"preds\": 569.0}, {\"target\": 576.0, \"preds\": 576.0}, {\"target\": 563.0, \"preds\": 563.0}, {\"target\": 574.0, \"preds\": 574.0}, {\"target\": 582.0, \"preds\": 582.0}, {\"target\": 594.0, \"preds\": 594.0}, {\"target\": 564.0, \"preds\": 564.0}, {\"target\": 576.0, \"preds\": 576.0}, {\"target\": 583.0, \"preds\": 583.0}, {\"target\": 571.0, \"preds\": 571.0}, {\"target\": 572.0, \"preds\": 572.0}, {\"target\": 568.0, \"preds\": 568.0}, {\"target\": 574.0, \"preds\": 574.0}, {\"target\": 574.0, \"preds\": 574.0}, {\"target\": 567.0, \"preds\": 567.0}, {\"target\": 581.0, \"preds\": 581.0}, {\"target\": 564.0, \"preds\": 564.0}, {\"target\": 613.0, \"preds\": 613.0}, {\"target\": 571.0, \"preds\": 571.0}, {\"target\": 586.0, \"preds\": 586.0}, {\"target\": 576.0, \"preds\": 576.0}, {\"target\": 574.0, \"preds\": 574.0}, {\"target\": 565.0, \"preds\": 565.0}, {\"target\": 564.0, \"preds\": 564.0}, {\"target\": 583.0, \"preds\": 583.0}, {\"target\": 563.0, \"preds\": 563.0}, {\"target\": 567.0, \"preds\": 567.0}, {\"target\": 567.0, \"preds\": 567.0}, {\"target\": 574.0, \"preds\": 574.0}, {\"target\": 574.0, \"preds\": 574.0}, {\"target\": 574.0, \"preds\": 574.0}, {\"target\": 564.0, \"preds\": 564.0}, {\"target\": 562.0, \"preds\": 562.0}, {\"target\": 571.0, \"preds\": 571.0}, {\"target\": 571.0, \"preds\": 571.0}, {\"target\": 571.0, \"preds\": 571.0}, {\"target\": 578.0, \"preds\": 578.0}, {\"target\": 587.0, \"preds\": 587.0}, {\"target\": 585.0, \"preds\": 585.0}, {\"target\": 569.0, \"preds\": 569.0}, {\"target\": 603.0, \"preds\": 603.0}, {\"target\": 576.0, \"preds\": 576.0}, {\"target\": 587.0, \"preds\": 587.0}, {\"target\": 568.0, \"preds\": 568.0}, {\"target\": 571.0, \"preds\": 571.0}, {\"target\": 574.0, \"preds\": 574.0}, {\"target\": 600.0, \"preds\": 600.0}, {\"target\": 594.0, \"preds\": 594.0}, {\"target\": 565.0, \"preds\": 565.0}, {\"target\": 564.0, \"preds\": 564.0}, {\"target\": 562.0, \"preds\": 562.0}, {\"target\": 562.0, \"preds\": 562.0}, {\"target\": 566.0, \"preds\": 566.0}, {\"target\": 565.0, \"preds\": 565.0}, {\"target\": 576.0, \"preds\": 576.0}, {\"target\": 600.0, \"preds\": 600.0}, {\"target\": 613.0, \"preds\": 613.0}, {\"target\": 624.5, \"preds\": 624.5}, {\"target\": 624.5, \"preds\": 624.5}, {\"target\": 567.0, \"preds\": 567.0}, {\"target\": 569.0, \"preds\": 569.0}, {\"target\": 563.0, \"preds\": 563.0}, {\"target\": 567.0, \"preds\": 567.0}, {\"target\": 578.0, \"preds\": 578.0}, {\"target\": 624.5, \"preds\": 624.5}, {\"target\": 567.0, \"preds\": 567.0}, {\"target\": 600.0, \"preds\": 600.0}, {\"target\": 565.0, \"preds\": 565.0}, {\"target\": 587.0, \"preds\": 587.0}, {\"target\": 571.0, \"preds\": 571.0}, {\"target\": 565.0, \"preds\": 565.0}, {\"target\": 565.0, \"preds\": 565.0}, {\"target\": 581.0, \"preds\": 581.0}, {\"target\": 624.5, \"preds\": 624.5}, {\"target\": 562.0, \"preds\": 562.0}, {\"target\": 587.0, \"preds\": 587.0}, {\"target\": 564.0, \"preds\": 564.0}, {\"target\": 568.0, \"preds\": 568.0}, {\"target\": 587.0, \"preds\": 587.0}, {\"target\": 615.0, \"preds\": 615.0}, {\"target\": 568.0, \"preds\": 568.0}, {\"target\": 565.0, \"preds\": 565.0}, {\"target\": 568.0, \"preds\": 568.0}, {\"target\": 569.0, \"preds\": 569.0}, {\"target\": 574.0, \"preds\": 574.0}, {\"target\": 565.0, \"preds\": 565.0}, {\"target\": 564.0, \"preds\": 564.0}, {\"target\": 565.0, \"preds\": 565.0}, {\"target\": 569.0, \"preds\": 569.0}, {\"target\": 569.0, \"preds\": 569.0}, {\"target\": 565.0, \"preds\": 565.0}, {\"target\": 577.0, \"preds\": 577.0}, {\"target\": 581.0, \"preds\": 581.0}, {\"target\": 578.0, \"preds\": 578.0}, {\"target\": 576.0, \"preds\": 576.0}, {\"target\": 572.0, \"preds\": 572.0}, {\"target\": 572.0, \"preds\": 572.0}, {\"target\": 578.0, \"preds\": 578.0}, {\"target\": 574.0, \"preds\": 574.0}, {\"target\": 560.0, \"preds\": 560.0}, {\"target\": 574.0, \"preds\": 574.0}, {\"target\": 567.0, \"preds\": 567.0}, {\"target\": 587.0, \"preds\": 587.0}, {\"target\": 587.0, \"preds\": 587.0}, {\"target\": 572.0, \"preds\": 572.0}, {\"target\": 581.0, \"preds\": 581.0}, {\"target\": 574.0, \"preds\": 574.0}, {\"target\": 571.0, \"preds\": 571.0}, {\"target\": 565.0, \"preds\": 565.0}, {\"target\": 594.0, \"preds\": 594.0}, {\"target\": 571.0, \"preds\": 571.0}, {\"target\": 563.0, \"preds\": 563.0}, {\"target\": 567.0, \"preds\": 567.0}, {\"target\": 568.0, \"preds\": 568.0}, {\"target\": 568.0, \"preds\": 568.0}, {\"target\": 572.0, \"preds\": 572.0}, {\"target\": 577.0, \"preds\": 577.0}, {\"target\": 587.0, \"preds\": 587.0}, {\"target\": 574.0, \"preds\": 574.0}, {\"target\": 565.0, \"preds\": 565.0}, {\"target\": 574.0, \"preds\": 574.0}, {\"target\": 565.0, \"preds\": 565.0}, {\"target\": 569.0, \"preds\": 569.0}, {\"target\": 567.0, \"preds\": 567.0}, {\"target\": 562.0, \"preds\": 562.0}, {\"target\": 566.0, \"preds\": 566.0}, {\"target\": 567.0, \"preds\": 567.0}, {\"target\": 574.0, \"preds\": 574.0}, {\"target\": 572.0, \"preds\": 572.0}, {\"target\": 569.0, \"preds\": 569.0}, {\"target\": 563.0, \"preds\": 563.0}, {\"target\": 574.0, \"preds\": 574.0}, {\"target\": 613.0, \"preds\": 613.0}, {\"target\": 565.0, \"preds\": 565.0}, {\"target\": 568.0, \"preds\": 568.0}, {\"target\": 567.0, \"preds\": 567.0}, {\"target\": 571.0, \"preds\": 571.0}, {\"target\": 574.0, \"preds\": 574.0}, {\"target\": 565.0, \"preds\": 565.0}, {\"target\": 574.0, \"preds\": 574.0}, {\"target\": 575.0, \"preds\": 575.0}, {\"target\": 565.0, \"preds\": 565.0}, {\"target\": 568.0, \"preds\": 568.0}, {\"target\": 574.0, \"preds\": 574.0}, {\"target\": 563.0, \"preds\": 563.0}, {\"target\": 596.0, \"preds\": 596.0}, {\"target\": 583.0, \"preds\": 583.0}, {\"target\": 571.0, \"preds\": 571.0}, {\"target\": 572.0, \"preds\": 572.0}, {\"target\": 581.0, \"preds\": 581.0}, {\"target\": 567.0, \"preds\": 567.0}, {\"target\": 569.0, \"preds\": 569.0}, {\"target\": 571.0, \"preds\": 571.0}, {\"target\": 624.5, \"preds\": 624.5}, {\"target\": 588.0, \"preds\": 588.0}, {\"target\": 573.0, \"preds\": 573.0}, {\"target\": 574.0, \"preds\": 574.0}, {\"target\": 564.0, \"preds\": 564.0}, {\"target\": 576.0, \"preds\": 576.0}, {\"target\": 577.0, \"preds\": 577.0}, {\"target\": 578.0, \"preds\": 578.0}, {\"target\": 581.0, \"preds\": 581.0}, {\"target\": 578.0, \"preds\": 578.0}, {\"target\": 580.0, \"preds\": 580.0}, {\"target\": 567.0, \"preds\": 567.0}, {\"target\": 594.0, \"preds\": 594.0}, {\"target\": 565.0, \"preds\": 565.0}, {\"target\": 583.0, \"preds\": 583.0}, {\"target\": 564.0, \"preds\": 564.0}, {\"target\": 569.0, \"preds\": 569.0}, {\"target\": 571.0, \"preds\": 571.0}, {\"target\": 569.0, \"preds\": 569.0}, {\"target\": 561.0, \"preds\": 561.0}, {\"target\": 572.0, \"preds\": 572.0}, {\"target\": 563.0, \"preds\": 563.0}, {\"target\": 571.0, \"preds\": 571.0}, {\"target\": 600.0, \"preds\": 600.0}, {\"target\": 576.0, \"preds\": 576.0}, {\"target\": 571.0, \"preds\": 571.0}, {\"target\": 624.5, \"preds\": 624.5}, {\"target\": 581.0, \"preds\": 581.0}, {\"target\": 587.0, \"preds\": 587.0}, {\"target\": 577.0, \"preds\": 577.0}, {\"target\": 562.0, \"preds\": 562.0}, {\"target\": 565.0, \"preds\": 565.0}, {\"target\": 577.0, \"preds\": 577.0}, {\"target\": 574.0, \"preds\": 574.0}, {\"target\": 567.0, \"preds\": 567.0}, {\"target\": 572.0, \"preds\": 572.0}, {\"target\": 565.0, \"preds\": 565.0}, {\"target\": 572.0, \"preds\": 572.0}, {\"target\": 578.0, \"preds\": 578.0}, {\"target\": 600.0, \"preds\": 600.0}, {\"target\": 571.0, \"preds\": 571.0}, {\"target\": 574.0, \"preds\": 574.0}, {\"target\": 592.0, \"preds\": 592.0}, {\"target\": 574.0, \"preds\": 574.0}]}}, {\"mode\": \"vega-lite\"});\n",
              "</script>"
            ],
            "text/plain": [
              "alt.LayerChart(...)"
            ]
          },
          "metadata": {},
          "execution_count": 33
        }
      ],
      "source": [
        "# <Student to fill this section>\n",
        "\n",
        "y_1 = y_train['rent']\n",
        "y_pred = pd.DataFrame(y_preds_with_intercept, columns=['rent_pred'])\n",
        "y_2 = y_pred['rent_pred']\n",
        "\n",
        "train_set = alt.Chart(pd.DataFrame({'target': y_1, 'preds': y_1})).mark_line(color='green').encode(\n",
        "    x='target',\n",
        "    y='preds'\n",
        ")\n",
        "test_set = alt.Chart(pd.DataFrame({'target': y_1, 'preds': y_2})).mark_line().encode(\n",
        "    x='target',\n",
        "    y='preds'\n",
        "  )\n",
        "\n",
        "test_set + train_set"
      ]
    },
    {
      "cell_type": "code",
      "execution_count": 11,
      "metadata": {
        "colab": {
          "base_uri": "https://localhost:8080/"
        },
        "id": "xYVrEmHCZ4YG",
        "outputId": "d00ece33-6bd4-4fbd-f379-fcb1b4d6c829"
      },
      "outputs": [
        {
          "output_type": "stream",
          "name": "stdout",
          "text": [
            "RMSE: 22.643786463053928\n",
            "MAE: 14.68910446492067\n",
            "R2: 0.6113806034115141\n"
          ]
        }
      ],
      "source": [
        "model_final = LinearRegression(fit_intercept=True)\n",
        "model_final.fit(X_train, y_train)\n",
        "\n",
        "y_pred_final = model_final.predict(X_test)\n",
        "\n",
        "mse_final = mean_squared_error(y_test, y_pred_final)\n",
        "rmse_final = np.sqrt(mse_final)\n",
        "mae_final = mean_absolute_error(y_test, y_pred_final)\n",
        "r2_final = r2_score(y_test, y_pred_final)\n",
        "\n",
        "print(f\"RMSE: {rmse_final}\")\n",
        "print(f\"MAE: {mae_final}\")\n",
        "print(f\"R2: {r2_final}\")\n"
      ]
    },
    {
      "cell_type": "code",
      "execution_count": null,
      "metadata": {
        "cellView": "form",
        "colab": {
          "base_uri": "https://localhost:8080/",
          "height": 62,
          "referenced_widgets": [
            "fd0fe9f1ee2e4c5eaa8c92e1ab9d1b9d",
            "9e525e0bec1049a88f0645f2681fa4dc",
            "2867966bbd64401788fa3da9ac0cfc13"
          ]
        },
        "id": "UeryaEZhmub4",
        "outputId": "814e598e-e9c7-40b5-f91b-9370523528eb"
      },
      "outputs": [
        {
          "output_type": "display_data",
          "data": {
            "text/plain": [
              "Textarea(value='', description='Model Business Impacts Explanation:', layout=Layout(height='100%', width='auto…"
            ],
            "application/vnd.jupyter.widget-view+json": {
              "version_major": 2,
              "version_minor": 0,
              "model_id": "fd0fe9f1ee2e4c5eaa8c92e1ab9d1b9d"
            }
          },
          "metadata": {}
        }
      ],
      "source": [
        "# @title Model Business Impacts Explanation\n",
        "\n",
        "wgt_model_business_explanation = widgets.Textarea(\n",
        "    value=None,\n",
        "    placeholder='<student to fill this section>',\n",
        "    description='Model Business Impacts Explanation:',\n",
        "    disabled=False,\n",
        "    style={'description_width': 'initial'},\n",
        "    layout=widgets.Layout(height=\"100%\", width=\"auto\")\n",
        ")\n",
        "wgt_model_business_explanation"
      ]
    },
    {
      "cell_type": "markdown",
      "metadata": {
        "id": "mp1Ie9o8nDl1"
      },
      "source": [
        "## F. Experiment Outcomes"
      ]
    },
    {
      "cell_type": "code",
      "execution_count": null,
      "metadata": {
        "cellView": "form",
        "colab": {
          "base_uri": "https://localhost:8080/",
          "height": 111,
          "referenced_widgets": [
            "c1c977c995ff4d1680d3970d3c98101a",
            "d7133ce76a6b4d7c84000e2ba0170da7",
            "14b6a1e69b0c4833af9d79baba773813"
          ]
        },
        "id": "Ap1T1UyfnNYY",
        "outputId": "22edd015-d34a-4771-b58b-04953d4cd2d6"
      },
      "outputs": [
        {
          "data": {
            "application/vnd.jupyter.widget-view+json": {
              "model_id": "c1c977c995ff4d1680d3970d3c98101a",
              "version_major": 2,
              "version_minor": 0
            },
            "text/plain": [
              "Select(description='Experiment Outcomes:', index=2, options=('Hypothesis Confirmed', 'Hypothesis Partially Con…"
            ]
          },
          "metadata": {},
          "output_type": "display_data"
        }
      ],
      "source": [
        "# @title Experiment Outcomes Explanation\n",
        "\n",
        "wgt_experiment_outcomes_explanation = widgets.Select(\n",
        "    options=['Hypothesis Confirmed', 'Hypothesis Partially Confirmed', 'Hypothesis Rejected'],\n",
        "    value='Hypothesis Rejected',\n",
        "    description='Experiment Outcomes:',\n",
        "    disabled=False,\n",
        ")\n",
        "\n",
        "wgt_experiment_outcomes_explanation"
      ]
    },
    {
      "cell_type": "code",
      "execution_count": null,
      "metadata": {
        "cellView": "form",
        "colab": {
          "base_uri": "https://localhost:8080/",
          "height": 62,
          "referenced_widgets": [
            "b4325631477949268c84d68996449609",
            "ca87d22d753745ba8020ebf50add932b",
            "4befcfc2b8424589ab64d230c4bab12f"
          ]
        },
        "id": "7JUbOVxRoH3p",
        "outputId": "69634775-11a6-460c-ae80-186aed8dd9fd"
      },
      "outputs": [
        {
          "output_type": "display_data",
          "data": {
            "text/plain": [
              "Textarea(value='', description='Experiments Results Explanation:', layout=Layout(height='100%', width='auto'),…"
            ],
            "application/vnd.jupyter.widget-view+json": {
              "version_major": 2,
              "version_minor": 0,
              "model_id": "b4325631477949268c84d68996449609"
            }
          },
          "metadata": {}
        }
      ],
      "source": [
        "# @title Experiments Results Explanation\n",
        "\n",
        "wgt_experiment_results_explanation = widgets.Textarea(\n",
        "    value=None,\n",
        "    placeholder='<student to fill this section>',\n",
        "    description='Experiments Results Explanation:',\n",
        "    disabled=False,\n",
        "    style={'description_width': 'initial'},\n",
        "    layout=widgets.Layout(height=\"100%\", width=\"auto\")\n",
        ")\n",
        "wgt_experiment_results_explanation"
      ]
    }
  ],
  "metadata": {
    "colab": {
      "provenance": []
    },
    "kernelspec": {
      "display_name": "Python 3 (ipykernel)",
      "language": "python",
      "name": "python3"
    },
    "language_info": {
      "codemirror_mode": {
        "name": "ipython",
        "version": 3
      },
      "file_extension": ".py",
      "mimetype": "text/x-python",
      "name": "python",
      "nbconvert_exporter": "python",
      "pygments_lexer": "ipython3",
      "version": "3.10.10"
    },
    "widgets": {
      "application/vnd.jupyter.widget-state+json": {
        "0fef21b2b7dc44d2a47a613cf47f63e3": {
          "model_module": "@jupyter-widgets/controls",
          "model_module_version": "1.5.0",
          "model_name": "TextareaModel",
          "state": {
            "_dom_classes": [],
            "_model_module": "@jupyter-widgets/controls",
            "_model_module_version": "1.5.0",
            "_model_name": "TextareaModel",
            "_view_count": null,
            "_view_module": "@jupyter-widgets/controls",
            "_view_module_version": "1.5.0",
            "_view_name": "TextareaView",
            "continuous_update": true,
            "description": "Experiment Expectations:",
            "description_tooltip": null,
            "disabled": false,
            "layout": "IPY_MODEL_95608262bf88404fa98bc84bd288e282",
            "placeholder": "<student to fill this section>",
            "rows": null,
            "style": "IPY_MODEL_3477a4281e444e0ba81b6a8f98409d63",
            "value": "Train multiple models with different fit_intercept settings.\nCompare RMSE values to evaluate the impact of this hyperparameter.\nProvide insights on whether the dataset benefits from including an intercept.\nRecommend potential data preprocessing improvements or feature transformations."
          }
        },
        "117fb15236754c7eaea0cfdcbf2a10cc": {
          "model_module": "@jupyter-widgets/base",
          "model_module_version": "1.2.0",
          "model_name": "LayoutModel",
          "state": {
            "_model_module": "@jupyter-widgets/base",
            "_model_module_version": "1.2.0",
            "_model_name": "LayoutModel",
            "_view_count": null,
            "_view_module": "@jupyter-widgets/base",
            "_view_module_version": "1.2.0",
            "_view_name": "LayoutView",
            "align_content": null,
            "align_items": null,
            "align_self": null,
            "border": null,
            "bottom": null,
            "display": null,
            "flex": null,
            "flex_flow": null,
            "grid_area": null,
            "grid_auto_columns": null,
            "grid_auto_flow": null,
            "grid_auto_rows": null,
            "grid_column": null,
            "grid_gap": null,
            "grid_row": null,
            "grid_template_areas": null,
            "grid_template_columns": null,
            "grid_template_rows": null,
            "height": null,
            "justify_content": null,
            "justify_items": null,
            "left": null,
            "margin": null,
            "max_height": null,
            "max_width": null,
            "min_height": null,
            "min_width": null,
            "object_fit": null,
            "object_position": null,
            "order": null,
            "overflow": null,
            "overflow_x": null,
            "overflow_y": null,
            "padding": null,
            "right": null,
            "top": null,
            "visibility": null,
            "width": null
          }
        },
        "14b6a1e69b0c4833af9d79baba773813": {
          "model_module": "@jupyter-widgets/controls",
          "model_module_version": "1.5.0",
          "model_name": "DescriptionStyleModel",
          "state": {
            "_model_module": "@jupyter-widgets/controls",
            "_model_module_version": "1.5.0",
            "_model_name": "DescriptionStyleModel",
            "_view_count": null,
            "_view_module": "@jupyter-widgets/base",
            "_view_module_version": "1.2.0",
            "_view_name": "StyleView",
            "description_width": ""
          }
        },
        "2641e4aa429d4bdb92cc4bab047ecd33": {
          "model_module": "@jupyter-widgets/controls",
          "model_module_version": "1.5.0",
          "model_name": "DescriptionStyleModel",
          "state": {
            "_model_module": "@jupyter-widgets/controls",
            "_model_module_version": "1.5.0",
            "_model_name": "DescriptionStyleModel",
            "_view_count": null,
            "_view_module": "@jupyter-widgets/base",
            "_view_module_version": "1.2.0",
            "_view_name": "StyleView",
            "description_width": "initial"
          }
        },
        "27cf0b222ac940c8aa4c57da984d85d3": {
          "model_module": "@jupyter-widgets/controls",
          "model_module_version": "1.5.0",
          "model_name": "DescriptionStyleModel",
          "state": {
            "_model_module": "@jupyter-widgets/controls",
            "_model_module_version": "1.5.0",
            "_model_name": "DescriptionStyleModel",
            "_view_count": null,
            "_view_module": "@jupyter-widgets/base",
            "_view_module_version": "1.2.0",
            "_view_name": "StyleView",
            "description_width": "initial"
          }
        },
        "3477a4281e444e0ba81b6a8f98409d63": {
          "model_module": "@jupyter-widgets/controls",
          "model_module_version": "1.5.0",
          "model_name": "DescriptionStyleModel",
          "state": {
            "_model_module": "@jupyter-widgets/controls",
            "_model_module_version": "1.5.0",
            "_model_name": "DescriptionStyleModel",
            "_view_count": null,
            "_view_module": "@jupyter-widgets/base",
            "_view_module_version": "1.2.0",
            "_view_name": "StyleView",
            "description_width": "initial"
          }
        },
        "46ab1c66b86c43e5831988c20723d300": {
          "model_module": "@jupyter-widgets/controls",
          "model_module_version": "1.5.0",
          "model_name": "DescriptionStyleModel",
          "state": {
            "_model_module": "@jupyter-widgets/controls",
            "_model_module_version": "1.5.0",
            "_model_name": "DescriptionStyleModel",
            "_view_count": null,
            "_view_module": "@jupyter-widgets/base",
            "_view_module_version": "1.2.0",
            "_view_name": "StyleView",
            "description_width": "initial"
          }
        },
        "4df9f99ca0fb42cf8e451730fa34cd9a": {
          "model_module": "@jupyter-widgets/controls",
          "model_module_version": "1.5.0",
          "model_name": "DescriptionStyleModel",
          "state": {
            "_model_module": "@jupyter-widgets/controls",
            "_model_module_version": "1.5.0",
            "_model_name": "DescriptionStyleModel",
            "_view_count": null,
            "_view_module": "@jupyter-widgets/base",
            "_view_module_version": "1.2.0",
            "_view_name": "StyleView",
            "description_width": "initial"
          }
        },
        "5287a7201dea4ebd83958974cc65c8cd": {
          "model_module": "@jupyter-widgets/controls",
          "model_module_version": "1.5.0",
          "model_name": "TextareaModel",
          "state": {
            "_dom_classes": [],
            "_model_module": "@jupyter-widgets/controls",
            "_model_module_version": "1.5.0",
            "_model_name": "TextareaModel",
            "_view_count": null,
            "_view_module": "@jupyter-widgets/controls",
            "_view_module_version": "1.5.0",
            "_view_name": "TextareaView",
            "continuous_update": true,
            "description": "Hyperparameters Selection Explanation:",
            "description_tooltip": null,
            "disabled": false,
            "layout": "IPY_MODEL_9eb6c63afd1249e7bc3af1040fd71443",
            "placeholder": "<student to fill this section>",
            "rows": null,
            "style": "IPY_MODEL_5e446a5fb8c44d71b36dba496a4cda6e",
            "value": "The fit_intercept hyperparameter was selected to evaluate whether including an intercept improves model performance. When fit_intercept=True, the model learns an intercept term, representing the baseline rent when all features are zero. When fit_intercept=False, the model assumes the data is already centered. Comparing both settings helps identify the best approach for accurate rent prediction."
          }
        },
        "5e446a5fb8c44d71b36dba496a4cda6e": {
          "model_module": "@jupyter-widgets/controls",
          "model_module_version": "1.5.0",
          "model_name": "DescriptionStyleModel",
          "state": {
            "_model_module": "@jupyter-widgets/controls",
            "_model_module_version": "1.5.0",
            "_model_name": "DescriptionStyleModel",
            "_view_count": null,
            "_view_module": "@jupyter-widgets/base",
            "_view_module_version": "1.2.0",
            "_view_name": "StyleView",
            "description_width": "initial"
          }
        },
        "62a4f72a250643388aedc5a12e42f023": {
          "model_module": "@jupyter-widgets/controls",
          "model_module_version": "1.5.0",
          "model_name": "HBoxModel",
          "state": {
            "_dom_classes": [],
            "_model_module": "@jupyter-widgets/controls",
            "_model_module_version": "1.5.0",
            "_model_name": "HBoxModel",
            "_view_count": null,
            "_view_module": "@jupyter-widgets/controls",
            "_view_module_version": "1.5.0",
            "_view_name": "HBoxView",
            "box_style": "",
            "children": [
              "IPY_MODEL_d4045c9ba9c74ba8950a9f88369036f9",
              "IPY_MODEL_da897a3e9ffd4d7fa4c42ce795ed543b"
            ],
            "layout": "IPY_MODEL_117fb15236754c7eaea0cfdcbf2a10cc"
          }
        },
        "78c6b242d5db44d59a9cbbca46f84378": {
          "model_module": "@jupyter-widgets/base",
          "model_module_version": "1.2.0",
          "model_name": "LayoutModel",
          "state": {
            "_model_module": "@jupyter-widgets/base",
            "_model_module_version": "1.2.0",
            "_model_name": "LayoutModel",
            "_view_count": null,
            "_view_module": "@jupyter-widgets/base",
            "_view_module_version": "1.2.0",
            "_view_name": "LayoutView",
            "align_content": null,
            "align_items": null,
            "align_self": null,
            "border": null,
            "bottom": null,
            "display": null,
            "flex": null,
            "flex_flow": null,
            "grid_area": null,
            "grid_auto_columns": null,
            "grid_auto_flow": null,
            "grid_auto_rows": null,
            "grid_column": null,
            "grid_gap": null,
            "grid_row": null,
            "grid_template_areas": null,
            "grid_template_columns": null,
            "grid_template_rows": null,
            "height": null,
            "justify_content": null,
            "justify_items": null,
            "left": null,
            "margin": null,
            "max_height": null,
            "max_width": null,
            "min_height": null,
            "min_width": null,
            "object_fit": null,
            "object_position": null,
            "order": null,
            "overflow": null,
            "overflow_x": null,
            "overflow_y": null,
            "padding": null,
            "right": null,
            "top": null,
            "visibility": null,
            "width": null
          }
        },
        "926672651f894fe9961c0d0a853beafc": {
          "model_module": "@jupyter-widgets/base",
          "model_module_version": "1.2.0",
          "model_name": "LayoutModel",
          "state": {
            "_model_module": "@jupyter-widgets/base",
            "_model_module_version": "1.2.0",
            "_model_name": "LayoutModel",
            "_view_count": null,
            "_view_module": "@jupyter-widgets/base",
            "_view_module_version": "1.2.0",
            "_view_name": "LayoutView",
            "align_content": null,
            "align_items": null,
            "align_self": null,
            "border": null,
            "bottom": null,
            "display": null,
            "flex": null,
            "flex_flow": null,
            "grid_area": null,
            "grid_auto_columns": null,
            "grid_auto_flow": null,
            "grid_auto_rows": null,
            "grid_column": null,
            "grid_gap": null,
            "grid_row": null,
            "grid_template_areas": null,
            "grid_template_columns": null,
            "grid_template_rows": null,
            "height": null,
            "justify_content": null,
            "justify_items": null,
            "left": null,
            "margin": null,
            "max_height": null,
            "max_width": null,
            "min_height": null,
            "min_width": null,
            "object_fit": null,
            "object_position": null,
            "order": null,
            "overflow": null,
            "overflow_x": null,
            "overflow_y": null,
            "padding": null,
            "right": null,
            "top": null,
            "visibility": null,
            "width": null
          }
        },
        "95608262bf88404fa98bc84bd288e282": {
          "model_module": "@jupyter-widgets/base",
          "model_module_version": "1.2.0",
          "model_name": "LayoutModel",
          "state": {
            "_model_module": "@jupyter-widgets/base",
            "_model_module_version": "1.2.0",
            "_model_name": "LayoutModel",
            "_view_count": null,
            "_view_module": "@jupyter-widgets/base",
            "_view_module_version": "1.2.0",
            "_view_name": "LayoutView",
            "align_content": null,
            "align_items": null,
            "align_self": null,
            "border": null,
            "bottom": null,
            "display": null,
            "flex": null,
            "flex_flow": null,
            "grid_area": null,
            "grid_auto_columns": null,
            "grid_auto_flow": null,
            "grid_auto_rows": null,
            "grid_column": null,
            "grid_gap": null,
            "grid_row": null,
            "grid_template_areas": null,
            "grid_template_columns": null,
            "grid_template_rows": null,
            "height": "100%",
            "justify_content": null,
            "justify_items": null,
            "left": null,
            "margin": null,
            "max_height": null,
            "max_width": null,
            "min_height": null,
            "min_width": null,
            "object_fit": null,
            "object_position": null,
            "order": null,
            "overflow": null,
            "overflow_x": null,
            "overflow_y": null,
            "padding": null,
            "right": null,
            "top": null,
            "visibility": null,
            "width": "auto"
          }
        },
        "97d119394647493198489755bf910836": {
          "model_module": "@jupyter-widgets/controls",
          "model_module_version": "1.5.0",
          "model_name": "DescriptionStyleModel",
          "state": {
            "_model_module": "@jupyter-widgets/controls",
            "_model_module_version": "1.5.0",
            "_model_name": "DescriptionStyleModel",
            "_view_count": null,
            "_view_module": "@jupyter-widgets/base",
            "_view_module_version": "1.2.0",
            "_view_name": "StyleView",
            "description_width": "initial"
          }
        },
        "9eb6c63afd1249e7bc3af1040fd71443": {
          "model_module": "@jupyter-widgets/base",
          "model_module_version": "1.2.0",
          "model_name": "LayoutModel",
          "state": {
            "_model_module": "@jupyter-widgets/base",
            "_model_module_version": "1.2.0",
            "_model_name": "LayoutModel",
            "_view_count": null,
            "_view_module": "@jupyter-widgets/base",
            "_view_module_version": "1.2.0",
            "_view_name": "LayoutView",
            "align_content": null,
            "align_items": null,
            "align_self": null,
            "border": null,
            "bottom": null,
            "display": null,
            "flex": null,
            "flex_flow": null,
            "grid_area": null,
            "grid_auto_columns": null,
            "grid_auto_flow": null,
            "grid_auto_rows": null,
            "grid_column": null,
            "grid_gap": null,
            "grid_row": null,
            "grid_template_areas": null,
            "grid_template_columns": null,
            "grid_template_rows": null,
            "height": "100%",
            "justify_content": null,
            "justify_items": null,
            "left": null,
            "margin": null,
            "max_height": null,
            "max_width": null,
            "min_height": null,
            "min_width": null,
            "object_fit": null,
            "object_position": null,
            "order": null,
            "overflow": null,
            "overflow_x": null,
            "overflow_y": null,
            "padding": null,
            "right": null,
            "top": null,
            "visibility": null,
            "width": "auto"
          }
        },
        "a5d917551702426398625bb9c4b991cf": {
          "model_module": "@jupyter-widgets/base",
          "model_module_version": "1.2.0",
          "model_name": "LayoutModel",
          "state": {
            "_model_module": "@jupyter-widgets/base",
            "_model_module_version": "1.2.0",
            "_model_name": "LayoutModel",
            "_view_count": null,
            "_view_module": "@jupyter-widgets/base",
            "_view_module_version": "1.2.0",
            "_view_name": "LayoutView",
            "align_content": null,
            "align_items": null,
            "align_self": null,
            "border": null,
            "bottom": null,
            "display": null,
            "flex": null,
            "flex_flow": null,
            "grid_area": null,
            "grid_auto_columns": null,
            "grid_auto_flow": null,
            "grid_auto_rows": null,
            "grid_column": null,
            "grid_gap": null,
            "grid_row": null,
            "grid_template_areas": null,
            "grid_template_columns": null,
            "grid_template_rows": null,
            "height": "100%",
            "justify_content": null,
            "justify_items": null,
            "left": null,
            "margin": null,
            "max_height": null,
            "max_width": null,
            "min_height": null,
            "min_width": null,
            "object_fit": null,
            "object_position": null,
            "order": null,
            "overflow": null,
            "overflow_x": null,
            "overflow_y": null,
            "padding": null,
            "right": null,
            "top": null,
            "visibility": null,
            "width": "auto"
          }
        },
        "b3a9d436beff48f3b30bc1d18ded41b6": {
          "model_module": "@jupyter-widgets/base",
          "model_module_version": "1.2.0",
          "model_name": "LayoutModel",
          "state": {
            "_model_module": "@jupyter-widgets/base",
            "_model_module_version": "1.2.0",
            "_model_name": "LayoutModel",
            "_view_count": null,
            "_view_module": "@jupyter-widgets/base",
            "_view_module_version": "1.2.0",
            "_view_name": "LayoutView",
            "align_content": null,
            "align_items": null,
            "align_self": null,
            "border": null,
            "bottom": null,
            "display": null,
            "flex": null,
            "flex_flow": null,
            "grid_area": null,
            "grid_auto_columns": null,
            "grid_auto_flow": null,
            "grid_auto_rows": null,
            "grid_column": null,
            "grid_gap": null,
            "grid_row": null,
            "grid_template_areas": null,
            "grid_template_columns": null,
            "grid_template_rows": null,
            "height": null,
            "justify_content": null,
            "justify_items": null,
            "left": null,
            "margin": null,
            "max_height": null,
            "max_width": null,
            "min_height": null,
            "min_width": null,
            "object_fit": null,
            "object_position": null,
            "order": null,
            "overflow": null,
            "overflow_x": null,
            "overflow_y": null,
            "padding": null,
            "right": null,
            "top": null,
            "visibility": null,
            "width": null
          }
        },
        "c1c977c995ff4d1680d3970d3c98101a": {
          "model_module": "@jupyter-widgets/controls",
          "model_module_version": "1.5.0",
          "model_name": "SelectModel",
          "state": {
            "_dom_classes": [],
            "_model_module": "@jupyter-widgets/controls",
            "_model_module_version": "1.5.0",
            "_model_name": "SelectModel",
            "_options_labels": [
              "Hypothesis Confirmed",
              "Hypothesis Partially Confirmed",
              "Hypothesis Rejected"
            ],
            "_view_count": null,
            "_view_module": "@jupyter-widgets/controls",
            "_view_module_version": "1.5.0",
            "_view_name": "SelectView",
            "description": "Experiment Outcomes:",
            "description_tooltip": null,
            "disabled": false,
            "index": 1,
            "layout": "IPY_MODEL_d7133ce76a6b4d7c84000e2ba0170da7",
            "rows": 5,
            "style": "IPY_MODEL_14b6a1e69b0c4833af9d79baba773813"
          }
        },
        "d4045c9ba9c74ba8950a9f88369036f9": {
          "model_module": "@jupyter-widgets/controls",
          "model_module_version": "1.5.0",
          "model_name": "TextModel",
          "state": {
            "_dom_classes": [],
            "_model_module": "@jupyter-widgets/controls",
            "_model_module_version": "1.5.0",
            "_model_name": "TextModel",
            "_view_count": null,
            "_view_module": "@jupyter-widgets/controls",
            "_view_module_version": "1.5.0",
            "_view_name": "TextView",
            "continuous_update": true,
            "description": "Student Name:",
            "description_tooltip": null,
            "disabled": false,
            "layout": "IPY_MODEL_b3a9d436beff48f3b30bc1d18ded41b6",
            "placeholder": "<student to fill this section>",
            "style": "IPY_MODEL_27cf0b222ac940c8aa4c57da984d85d3",
            "value": "Fatemeh Elyasifar"
          }
        },
        "d56fab81fc89468d9d73c7bc3110ef06": {
          "model_module": "@jupyter-widgets/base",
          "model_module_version": "1.2.0",
          "model_name": "LayoutModel",
          "state": {
            "_model_module": "@jupyter-widgets/base",
            "_model_module_version": "1.2.0",
            "_model_name": "LayoutModel",
            "_view_count": null,
            "_view_module": "@jupyter-widgets/base",
            "_view_module_version": "1.2.0",
            "_view_name": "LayoutView",
            "align_content": null,
            "align_items": null,
            "align_self": null,
            "border": null,
            "bottom": null,
            "display": null,
            "flex": null,
            "flex_flow": null,
            "grid_area": null,
            "grid_auto_columns": null,
            "grid_auto_flow": null,
            "grid_auto_rows": null,
            "grid_column": null,
            "grid_gap": null,
            "grid_row": null,
            "grid_template_areas": null,
            "grid_template_columns": null,
            "grid_template_rows": null,
            "height": "100%",
            "justify_content": null,
            "justify_items": null,
            "left": null,
            "margin": null,
            "max_height": null,
            "max_width": null,
            "min_height": null,
            "min_width": null,
            "object_fit": null,
            "object_position": null,
            "order": null,
            "overflow": null,
            "overflow_x": null,
            "overflow_y": null,
            "padding": null,
            "right": null,
            "top": null,
            "visibility": null,
            "width": "auto"
          }
        },
        "d7133ce76a6b4d7c84000e2ba0170da7": {
          "model_module": "@jupyter-widgets/base",
          "model_module_version": "1.2.0",
          "model_name": "LayoutModel",
          "state": {
            "_model_module": "@jupyter-widgets/base",
            "_model_module_version": "1.2.0",
            "_model_name": "LayoutModel",
            "_view_count": null,
            "_view_module": "@jupyter-widgets/base",
            "_view_module_version": "1.2.0",
            "_view_name": "LayoutView",
            "align_content": null,
            "align_items": null,
            "align_self": null,
            "border": null,
            "bottom": null,
            "display": null,
            "flex": null,
            "flex_flow": null,
            "grid_area": null,
            "grid_auto_columns": null,
            "grid_auto_flow": null,
            "grid_auto_rows": null,
            "grid_column": null,
            "grid_gap": null,
            "grid_row": null,
            "grid_template_areas": null,
            "grid_template_columns": null,
            "grid_template_rows": null,
            "height": null,
            "justify_content": null,
            "justify_items": null,
            "left": null,
            "margin": null,
            "max_height": null,
            "max_width": null,
            "min_height": null,
            "min_width": null,
            "object_fit": null,
            "object_position": null,
            "order": null,
            "overflow": null,
            "overflow_x": null,
            "overflow_y": null,
            "padding": null,
            "right": null,
            "top": null,
            "visibility": null,
            "width": null
          }
        },
        "d8c2f9fa2fad44d19f0f46a2d32278cf": {
          "model_module": "@jupyter-widgets/controls",
          "model_module_version": "1.5.0",
          "model_name": "TextareaModel",
          "state": {
            "_dom_classes": [],
            "_model_module": "@jupyter-widgets/controls",
            "_model_module_version": "1.5.0",
            "_model_name": "TextareaModel",
            "_view_count": null,
            "_view_module": "@jupyter-widgets/controls",
            "_view_module_version": "1.5.0",
            "_view_name": "TextareaView",
            "continuous_update": true,
            "description": "Algorithm Selection Explanation:",
            "description_tooltip": null,
            "disabled": false,
            "layout": "IPY_MODEL_a5d917551702426398625bb9c4b991cf",
            "placeholder": "<student to fill this section>",
            "rows": null,
            "style": "IPY_MODEL_2641e4aa429d4bdb92cc4bab047ecd33",
            "value": "LinearRegression was selected because it effectively models the relationship between multiple independent variables and a dependent variable. It assumes a linear relationship, making it both interpretable and computationally efficient. This model enables comparison with the baseline model to assess improvements in predictive performance."
          }
        },
        "da897a3e9ffd4d7fa4c42ce795ed543b": {
          "model_module": "@jupyter-widgets/controls",
          "model_module_version": "1.5.0",
          "model_name": "TextModel",
          "state": {
            "_dom_classes": [],
            "_model_module": "@jupyter-widgets/controls",
            "_model_module_version": "1.5.0",
            "_model_name": "TextModel",
            "_view_count": null,
            "_view_module": "@jupyter-widgets/controls",
            "_view_module_version": "1.5.0",
            "_view_name": "TextView",
            "continuous_update": true,
            "description": "Student Id:",
            "description_tooltip": null,
            "disabled": false,
            "layout": "IPY_MODEL_926672651f894fe9961c0d0a853beafc",
            "placeholder": "<student to fill this section>",
            "style": "IPY_MODEL_4df9f99ca0fb42cf8e451730fa34cd9a",
            "value": "25589351"
          }
        },
        "f3b156bb25b7429cb495c4cc4fd60c70": {
          "model_module": "@jupyter-widgets/controls",
          "model_module_version": "1.5.0",
          "model_name": "TextareaModel",
          "state": {
            "_dom_classes": [],
            "_model_module": "@jupyter-widgets/controls",
            "_model_module_version": "1.5.0",
            "_model_name": "TextareaModel",
            "_view_count": null,
            "_view_module": "@jupyter-widgets/controls",
            "_view_module_version": "1.5.0",
            "_view_name": "TextareaView",
            "continuous_update": true,
            "description": "Feature Selection Explanation:",
            "description_tooltip": null,
            "disabled": false,
            "layout": "IPY_MODEL_d56fab81fc89468d9d73c7bc3110ef06",
            "placeholder": "<student to fill this section>",
            "rows": null,
            "style": "IPY_MODEL_46ab1c66b86c43e5831988c20723d300",
            "value": "These features provide a comprehensive view of the property’s characteristics and market context, and were chosen to capture the key factors that influence rent prices. They can help improve the accuracy of rent price predictions."
          }
        },
        "f81180fa588f45849f77b8fd6d33dd5a": {
          "model_module": "@jupyter-widgets/controls",
          "model_module_version": "1.5.0",
          "model_name": "BoundedIntTextModel",
          "state": {
            "_dom_classes": [],
            "_model_module": "@jupyter-widgets/controls",
            "_model_module_version": "1.5.0",
            "_model_name": "BoundedIntTextModel",
            "_view_count": null,
            "_view_module": "@jupyter-widgets/controls",
            "_view_module_version": "1.5.0",
            "_view_name": "IntTextView",
            "continuous_update": false,
            "description": "Experiment ID:",
            "description_tooltip": null,
            "disabled": false,
            "layout": "IPY_MODEL_78c6b242d5db44d59a9cbbca46f84378",
            "max": 3,
            "min": 0,
            "step": 1,
            "style": "IPY_MODEL_97d119394647493198489755bf910836",
            "value": 1
          }
        },
        "b3fc0df688434e57b3ec9faaea8111eb": {
          "model_module": "@jupyter-widgets/controls",
          "model_name": "TextareaModel",
          "model_module_version": "1.5.0",
          "state": {
            "_dom_classes": [],
            "_model_module": "@jupyter-widgets/controls",
            "_model_module_version": "1.5.0",
            "_model_name": "TextareaModel",
            "_view_count": null,
            "_view_module": "@jupyter-widgets/controls",
            "_view_module_version": "1.5.0",
            "_view_name": "TextareaView",
            "continuous_update": true,
            "description": "Experiment Hypothesis:",
            "description_tooltip": null,
            "disabled": false,
            "layout": "IPY_MODEL_aa49278df4cc4291b763ca594cf3da0f",
            "placeholder": "<student to fill this section>",
            "rows": null,
            "style": "IPY_MODEL_727d0bba57ab44bdbc75e29b89e7a312",
            "value": "Including the intercept term in the Multivariate Linear Regression model will improve its predictive performance, as measured by RMSE and R², compared to excluding the intercept term.\n\nNull Hypothesis (H₀):\nChanging the fit_intercept parameter does not significantly affect the RMSE of the Multivariate Linear Regression model."
          }
        },
        "aa49278df4cc4291b763ca594cf3da0f": {
          "model_module": "@jupyter-widgets/base",
          "model_name": "LayoutModel",
          "model_module_version": "1.2.0",
          "state": {
            "_model_module": "@jupyter-widgets/base",
            "_model_module_version": "1.2.0",
            "_model_name": "LayoutModel",
            "_view_count": null,
            "_view_module": "@jupyter-widgets/base",
            "_view_module_version": "1.2.0",
            "_view_name": "LayoutView",
            "align_content": null,
            "align_items": null,
            "align_self": null,
            "border": null,
            "bottom": null,
            "display": null,
            "flex": null,
            "flex_flow": null,
            "grid_area": null,
            "grid_auto_columns": null,
            "grid_auto_flow": null,
            "grid_auto_rows": null,
            "grid_column": null,
            "grid_gap": null,
            "grid_row": null,
            "grid_template_areas": null,
            "grid_template_columns": null,
            "grid_template_rows": null,
            "height": "100%",
            "justify_content": null,
            "justify_items": null,
            "left": null,
            "margin": null,
            "max_height": null,
            "max_width": null,
            "min_height": null,
            "min_width": null,
            "object_fit": null,
            "object_position": null,
            "order": null,
            "overflow": null,
            "overflow_x": null,
            "overflow_y": null,
            "padding": null,
            "right": null,
            "top": null,
            "visibility": null,
            "width": "auto"
          }
        },
        "727d0bba57ab44bdbc75e29b89e7a312": {
          "model_module": "@jupyter-widgets/controls",
          "model_name": "DescriptionStyleModel",
          "model_module_version": "1.5.0",
          "state": {
            "_model_module": "@jupyter-widgets/controls",
            "_model_module_version": "1.5.0",
            "_model_name": "DescriptionStyleModel",
            "_view_count": null,
            "_view_module": "@jupyter-widgets/base",
            "_view_module_version": "1.2.0",
            "_view_name": "StyleView",
            "description_width": "initial"
          }
        },
        "f1be267852524b2a9facc60358ecce45": {
          "model_module": "@jupyter-widgets/controls",
          "model_name": "TextareaModel",
          "model_module_version": "1.5.0",
          "state": {
            "_dom_classes": [],
            "_model_module": "@jupyter-widgets/controls",
            "_model_module_version": "1.5.0",
            "_model_name": "TextareaModel",
            "_view_count": null,
            "_view_module": "@jupyter-widgets/controls",
            "_view_module_version": "1.5.0",
            "_view_name": "TextareaView",
            "continuous_update": true,
            "description": "Model Performance Explanation:",
            "description_tooltip": null,
            "disabled": false,
            "layout": "IPY_MODEL_468edaed36674912a78c6e5b68c4f20c",
            "placeholder": "<student to fill this section>",
            "rows": null,
            "style": "IPY_MODEL_62bc72a564e140ffad4edf39e15032a9",
            "value": "With the intercept included (Fit Intercept = True), the model achieved an RMSE of 12 and an R² score of 0.72, indicating good performance in capturing rent price variance. However, when the intercept was excluded (Fit Intercept = False), the model's performance drastically worsened, with an RMSE of 583 and a negative R² score of -656.25, suggesting that removing the intercept led to a poor fit and a model that failed to capture the underlying patterns in the data."
          }
        },
        "468edaed36674912a78c6e5b68c4f20c": {
          "model_module": "@jupyter-widgets/base",
          "model_name": "LayoutModel",
          "model_module_version": "1.2.0",
          "state": {
            "_model_module": "@jupyter-widgets/base",
            "_model_module_version": "1.2.0",
            "_model_name": "LayoutModel",
            "_view_count": null,
            "_view_module": "@jupyter-widgets/base",
            "_view_module_version": "1.2.0",
            "_view_name": "LayoutView",
            "align_content": null,
            "align_items": null,
            "align_self": null,
            "border": null,
            "bottom": null,
            "display": null,
            "flex": null,
            "flex_flow": null,
            "grid_area": null,
            "grid_auto_columns": null,
            "grid_auto_flow": null,
            "grid_auto_rows": null,
            "grid_column": null,
            "grid_gap": null,
            "grid_row": null,
            "grid_template_areas": null,
            "grid_template_columns": null,
            "grid_template_rows": null,
            "height": "100%",
            "justify_content": null,
            "justify_items": null,
            "left": null,
            "margin": null,
            "max_height": null,
            "max_width": null,
            "min_height": null,
            "min_width": null,
            "object_fit": null,
            "object_position": null,
            "order": null,
            "overflow": null,
            "overflow_x": null,
            "overflow_y": null,
            "padding": null,
            "right": null,
            "top": null,
            "visibility": null,
            "width": "auto"
          }
        },
        "62bc72a564e140ffad4edf39e15032a9": {
          "model_module": "@jupyter-widgets/controls",
          "model_name": "DescriptionStyleModel",
          "model_module_version": "1.5.0",
          "state": {
            "_model_module": "@jupyter-widgets/controls",
            "_model_module_version": "1.5.0",
            "_model_name": "DescriptionStyleModel",
            "_view_count": null,
            "_view_module": "@jupyter-widgets/base",
            "_view_module_version": "1.2.0",
            "_view_name": "StyleView",
            "description_width": "initial"
          }
        },
        "fd0fe9f1ee2e4c5eaa8c92e1ab9d1b9d": {
          "model_module": "@jupyter-widgets/controls",
          "model_name": "TextareaModel",
          "model_module_version": "1.5.0",
          "state": {
            "_dom_classes": [],
            "_model_module": "@jupyter-widgets/controls",
            "_model_module_version": "1.5.0",
            "_model_name": "TextareaModel",
            "_view_count": null,
            "_view_module": "@jupyter-widgets/controls",
            "_view_module_version": "1.5.0",
            "_view_name": "TextareaView",
            "continuous_update": true,
            "description": "Model Business Impacts Explanation:",
            "description_tooltip": null,
            "disabled": false,
            "layout": "IPY_MODEL_9e525e0bec1049a88f0645f2681fa4dc",
            "placeholder": "<student to fill this section>",
            "rows": null,
            "style": "IPY_MODEL_2867966bbd64401788fa3da9ac0cfc13",
            "value": "The model provides a moderate estimate of rental prices, with an R² score of 0.61, capturing a significant portion of rent price variance. However, with an RMSE of 12 on the training set and 22.64 on unseen data, there is room for improvement. The higher RMSE on unseen data suggests that the model may not generalise well, leading to occasional mispricing that could impact revenue and tenant satisfaction.\nTo improve performance, exploring regularised models like Ridge or Lasso could help reduce errors and enhance pricing accuracy."
          }
        },
        "9e525e0bec1049a88f0645f2681fa4dc": {
          "model_module": "@jupyter-widgets/base",
          "model_name": "LayoutModel",
          "model_module_version": "1.2.0",
          "state": {
            "_model_module": "@jupyter-widgets/base",
            "_model_module_version": "1.2.0",
            "_model_name": "LayoutModel",
            "_view_count": null,
            "_view_module": "@jupyter-widgets/base",
            "_view_module_version": "1.2.0",
            "_view_name": "LayoutView",
            "align_content": null,
            "align_items": null,
            "align_self": null,
            "border": null,
            "bottom": null,
            "display": null,
            "flex": null,
            "flex_flow": null,
            "grid_area": null,
            "grid_auto_columns": null,
            "grid_auto_flow": null,
            "grid_auto_rows": null,
            "grid_column": null,
            "grid_gap": null,
            "grid_row": null,
            "grid_template_areas": null,
            "grid_template_columns": null,
            "grid_template_rows": null,
            "height": "100%",
            "justify_content": null,
            "justify_items": null,
            "left": null,
            "margin": null,
            "max_height": null,
            "max_width": null,
            "min_height": null,
            "min_width": null,
            "object_fit": null,
            "object_position": null,
            "order": null,
            "overflow": null,
            "overflow_x": null,
            "overflow_y": null,
            "padding": null,
            "right": null,
            "top": null,
            "visibility": null,
            "width": "auto"
          }
        },
        "2867966bbd64401788fa3da9ac0cfc13": {
          "model_module": "@jupyter-widgets/controls",
          "model_name": "DescriptionStyleModel",
          "model_module_version": "1.5.0",
          "state": {
            "_model_module": "@jupyter-widgets/controls",
            "_model_module_version": "1.5.0",
            "_model_name": "DescriptionStyleModel",
            "_view_count": null,
            "_view_module": "@jupyter-widgets/base",
            "_view_module_version": "1.2.0",
            "_view_name": "StyleView",
            "description_width": "initial"
          }
        },
        "b4325631477949268c84d68996449609": {
          "model_module": "@jupyter-widgets/controls",
          "model_name": "TextareaModel",
          "model_module_version": "1.5.0",
          "state": {
            "_dom_classes": [],
            "_model_module": "@jupyter-widgets/controls",
            "_model_module_version": "1.5.0",
            "_model_name": "TextareaModel",
            "_view_count": null,
            "_view_module": "@jupyter-widgets/controls",
            "_view_module_version": "1.5.0",
            "_view_name": "TextareaView",
            "continuous_update": true,
            "description": "Experiments Results Explanation:",
            "description_tooltip": null,
            "disabled": false,
            "layout": "IPY_MODEL_ca87d22d753745ba8020ebf50add932b",
            "placeholder": "<student to fill this section>",
            "rows": null,
            "style": "IPY_MODEL_4befcfc2b8424589ab64d230c4bab12f",
            "value": "The model's RMSE of 12 indicates that, on average, the predicted rent prices deviate by 12 units from the actual values. While this error still indicates some room for improvement, it performs better than the baseline model, which suggests that the model is capturing meaningful patterns in the data. Reducing the RMSE further would result in even more accurate predictions, improving its reliability for setting optimal rent prices and minimising potential issues such as lost revenue or tenant dissatisfaction."
          }
        },
        "ca87d22d753745ba8020ebf50add932b": {
          "model_module": "@jupyter-widgets/base",
          "model_name": "LayoutModel",
          "model_module_version": "1.2.0",
          "state": {
            "_model_module": "@jupyter-widgets/base",
            "_model_module_version": "1.2.0",
            "_model_name": "LayoutModel",
            "_view_count": null,
            "_view_module": "@jupyter-widgets/base",
            "_view_module_version": "1.2.0",
            "_view_name": "LayoutView",
            "align_content": null,
            "align_items": null,
            "align_self": null,
            "border": null,
            "bottom": null,
            "display": null,
            "flex": null,
            "flex_flow": null,
            "grid_area": null,
            "grid_auto_columns": null,
            "grid_auto_flow": null,
            "grid_auto_rows": null,
            "grid_column": null,
            "grid_gap": null,
            "grid_row": null,
            "grid_template_areas": null,
            "grid_template_columns": null,
            "grid_template_rows": null,
            "height": "100%",
            "justify_content": null,
            "justify_items": null,
            "left": null,
            "margin": null,
            "max_height": null,
            "max_width": null,
            "min_height": null,
            "min_width": null,
            "object_fit": null,
            "object_position": null,
            "order": null,
            "overflow": null,
            "overflow_x": null,
            "overflow_y": null,
            "padding": null,
            "right": null,
            "top": null,
            "visibility": null,
            "width": "auto"
          }
        },
        "4befcfc2b8424589ab64d230c4bab12f": {
          "model_module": "@jupyter-widgets/controls",
          "model_name": "DescriptionStyleModel",
          "model_module_version": "1.5.0",
          "state": {
            "_model_module": "@jupyter-widgets/controls",
            "_model_module_version": "1.5.0",
            "_model_name": "DescriptionStyleModel",
            "_view_count": null,
            "_view_module": "@jupyter-widgets/base",
            "_view_module_version": "1.2.0",
            "_view_name": "StyleView",
            "description_width": "initial"
          }
        },
        "12f9b375d2714454808a34e7a34a9466": {
          "model_module": "@jupyter-widgets/controls",
          "model_name": "TextareaModel",
          "model_module_version": "1.5.0",
          "state": {
            "_dom_classes": [],
            "_model_module": "@jupyter-widgets/controls",
            "_model_module_version": "1.5.0",
            "_model_name": "TextareaModel",
            "_view_count": null,
            "_view_module": "@jupyter-widgets/controls",
            "_view_module_version": "1.5.0",
            "_view_name": "TextareaView",
            "continuous_update": true,
            "description": "Business Objective:",
            "description_tooltip": null,
            "disabled": false,
            "layout": "IPY_MODEL_71df94bfe0b6444693148a9710534a7a",
            "placeholder": "<student to fill this section>",
            "rows": null,
            "style": "IPY_MODEL_f580544c0cbe4463beec058719517a49",
            "value": "The main objective is to develop a machine learning model that accurately predicts rental prices specifically for affordable properties in Australia, excluding luxury homes. This model aims to assist real estate agencies, property investors, and tenants in making informed decisions based on the features of affordable housing and market trends. The key success metric is RMSE, with the goal of achieving an RMSE score of less than 16 on the validation set, which quantifies the prediction error. Additionally, feature tuning will be necessary to optimise the model’s performance and ensure accurate predictions based on the most relevant property characteristics."
          }
        },
        "71df94bfe0b6444693148a9710534a7a": {
          "model_module": "@jupyter-widgets/base",
          "model_name": "LayoutModel",
          "model_module_version": "1.2.0",
          "state": {
            "_model_module": "@jupyter-widgets/base",
            "_model_module_version": "1.2.0",
            "_model_name": "LayoutModel",
            "_view_count": null,
            "_view_module": "@jupyter-widgets/base",
            "_view_module_version": "1.2.0",
            "_view_name": "LayoutView",
            "align_content": null,
            "align_items": null,
            "align_self": null,
            "border": null,
            "bottom": null,
            "display": null,
            "flex": null,
            "flex_flow": null,
            "grid_area": null,
            "grid_auto_columns": null,
            "grid_auto_flow": null,
            "grid_auto_rows": null,
            "grid_column": null,
            "grid_gap": null,
            "grid_row": null,
            "grid_template_areas": null,
            "grid_template_columns": null,
            "grid_template_rows": null,
            "height": "100%",
            "justify_content": null,
            "justify_items": null,
            "left": null,
            "margin": null,
            "max_height": null,
            "max_width": null,
            "min_height": null,
            "min_width": null,
            "object_fit": null,
            "object_position": null,
            "order": null,
            "overflow": null,
            "overflow_x": null,
            "overflow_y": null,
            "padding": null,
            "right": null,
            "top": null,
            "visibility": null,
            "width": "auto"
          }
        },
        "f580544c0cbe4463beec058719517a49": {
          "model_module": "@jupyter-widgets/controls",
          "model_name": "DescriptionStyleModel",
          "model_module_version": "1.5.0",
          "state": {
            "_model_module": "@jupyter-widgets/controls",
            "_model_module_version": "1.5.0",
            "_model_name": "DescriptionStyleModel",
            "_view_count": null,
            "_view_module": "@jupyter-widgets/base",
            "_view_module_version": "1.2.0",
            "_view_name": "StyleView",
            "description_width": "initial"
          }
        }
      }
    }
  },
  "nbformat": 4,
  "nbformat_minor": 0
}